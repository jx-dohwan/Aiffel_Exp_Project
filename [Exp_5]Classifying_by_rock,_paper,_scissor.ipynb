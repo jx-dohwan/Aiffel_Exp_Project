{
  "nbformat": 4,
  "nbformat_minor": 0,
  "metadata": {
    "colab": {
      "name": "[Exp_5]Classifying by rock, paper, scissor.ipynb",
      "provenance": [],
      "collapsed_sections": [],
      "mount_file_id": "12JbiRMVOaF5E3-dHyezq84Qbtxlq7I6D",
      "authorship_tag": "ABX9TyO2S7Bc2oOrV8WTGSOqYRFH",
      "include_colab_link": true
    },
    "kernelspec": {
      "name": "python3",
      "display_name": "Python 3"
    },
    "language_info": {
      "name": "python"
    }
  },
  "cells": [
    {
      "cell_type": "markdown",
      "metadata": {
        "id": "view-in-github",
        "colab_type": "text"
      },
      "source": [
        "<a href=\"https://colab.research.google.com/github/jx-dohwan/Aiffel_EGLMS_Project/blob/main/%5BExp_5%5DClassifying_by_rock%2C_paper%2C_scissor.ipynb\" target=\"_parent\"><img src=\"https://colab.research.google.com/assets/colab-badge.svg\" alt=\"Open In Colab\"/></a>"
      ]
    },
    {
      "cell_type": "code",
      "execution_count": 1,
      "metadata": {
        "colab": {
          "base_uri": "https://localhost:8080/"
        },
        "id": "tgnKn8bX7-YL",
        "outputId": "066d2d11-e460-44a8-dafd-1334cbe014fe"
      },
      "outputs": [
        {
          "output_type": "stream",
          "name": "stdout",
          "text": [
            "2.8.2\n",
            "1.21.6\n"
          ]
        }
      ],
      "source": [
        "import tensorflow as tf\n",
        "import numpy as np\n",
        "from PIL import Image\n",
        "import glob\n",
        "import os\n",
        "from tensorflow import keras\n",
        "import matplotlib.pyplot as plt\n",
        "print(tf.__version__)\n",
        "print(np.__version__)"
      ]
    },
    {
      "cell_type": "markdown",
      "source": [
        "## 함수 만들기"
      ],
      "metadata": {
        "id": "CAchQGkzCrXV"
      }
    },
    {
      "cell_type": "markdown",
      "source": [
        "### 1) 이미지 사이즈 변환"
      ],
      "metadata": {
        "id": "Z2pS2oZKCv54"
      }
    },
    {
      "cell_type": "code",
      "source": [
        "def resize_images(img_path):\n",
        "\timages=glob.glob(img_path + \"/*.jpg\")  \n",
        "    \n",
        "\tprint(len(images), \" images to be resized.\")\n",
        "\n",
        "    # 파일마다 모두 28x28 사이즈로 바꾸어 저장합니다.\n",
        "\ttarget_size=(28,28)\n",
        "\tfor img in images:\n",
        "\t\told_img=Image.open(img)\n",
        "\t\tnew_img=old_img.resize(target_size,Image.ANTIALIAS)\n",
        "\t\tnew_img.save(img, \"JPEG\")\n",
        "    \n",
        "\tprint(len(images), \" images resized.\")"
      ],
      "metadata": {
        "id": "LSpjZLMgCl_5"
      },
      "execution_count": 2,
      "outputs": []
    },
    {
      "cell_type": "markdown",
      "source": [
        "### 2) load train data"
      ],
      "metadata": {
        "id": "ieqle26JC8wZ"
      }
    },
    {
      "cell_type": "code",
      "source": [
        "def load_data(img_path, number_of_data):  # 가위바위보 이미지 개수 총합에 주의하세요.\n",
        "    # 가위 : 0, 바위 : 1, 보 : 2\n",
        "    img_size=28\n",
        "    color=3\n",
        "    #이미지 데이터와 라벨(가위 : 0, 바위 : 1, 보 : 2) 데이터를 담을 행렬(matrix) 영역을 생성합니다.\n",
        "    imgs=np.zeros(number_of_data*img_size*img_size*color,dtype=np.int32).reshape(number_of_data,img_size,img_size,color)\n",
        "    labels=np.zeros(number_of_data,dtype=np.int32)\n",
        "\n",
        "    idx=0\n",
        "    for file in glob.iglob(img_path+'/scissor/*.jpg'):\n",
        "        img = np.array(Image.open(file),dtype=np.int32)\n",
        "        imgs[idx,:,:,:]=img    # 데이터 영역에 이미지 행렬을 복사\n",
        "        labels[idx]=0   # 가위 : 0\n",
        "        idx=idx+1\n",
        "\n",
        "    for file in glob.iglob(img_path+'/rock/*.jpg'):\n",
        "        img = np.array(Image.open(file),dtype=np.int32)\n",
        "        imgs[idx,:,:,:]=img    # 데이터 영역에 이미지 행렬을 복사\n",
        "        labels[idx]=1   # 바위 : 1\n",
        "        idx=idx+1  \n",
        "    \n",
        "    for file in glob.iglob(img_path+'/paper/*.jpg'):\n",
        "        img = np.array(Image.open(file),dtype=np.int32)\n",
        "        imgs[idx,:,:,:]=img    # 데이터 영역에 이미지 행렬을 복사\n",
        "        labels[idx]=2   # 보 : 2\n",
        "        idx=idx+1\n",
        "        \n",
        "    print(\"학습데이터(x_train)의 이미지 개수는\", idx,\"입니다.\")\n",
        "    return imgs, labels"
      ],
      "metadata": {
        "id": "3ivY6H91DCOP"
      },
      "execution_count": 3,
      "outputs": []
    },
    {
      "cell_type": "markdown",
      "source": [
        "## 3. 이미지 사이즈 변환하기"
      ],
      "metadata": {
        "id": "CQPmcK3hDYTT"
      }
    },
    {
      "cell_type": "code",
      "source": [
        "# train_scissor\n",
        "train_scissor_image_dir_path = \"/content/drive/MyDrive/인공지능/아이펠/ES/data/rock_scissor_paper/scissor\"\n",
        "resize_images(train_scissor_image_dir_path)\n",
        "\n",
        "# train_rock\n",
        "train_rock_image_dir_path = \"/content/drive/MyDrive/인공지능/아이펠/ES/data/rock_scissor_paper/rock\"\n",
        "resize_images(train_rock_image_dir_path)\n",
        "\n",
        "# train_paper\n",
        "train_paper_image_dir_path = \"/content/drive/MyDrive/인공지능/아이펠/ES/data/rock_scissor_paper/paper\"\n",
        "resize_images(train_paper_image_dir_path)\n",
        "\n",
        "# test_scissor\n",
        "test_scissor_image_dir_path = \"/content/drive/MyDrive/인공지능/아이펠/ES/data/rock_scissor_paper/test/scissor\"\n",
        "resize_images(test_scissor_image_dir_path)\n",
        "\n",
        "# test_rock\n",
        "test_rock_image_dir_path = \"/content/drive/MyDrive/인공지능/아이펠/ES/data/rock_scissor_paper/test/rock\"\n",
        "resize_images(test_rock_image_dir_path)\n",
        "\n",
        "# test_paper\n",
        "test_paper_image_dir_path = \"/content/drive/MyDrive/인공지능/아이펠/ES/data/rock_scissor_paper/test/paper\"\n",
        "resize_images(test_paper_image_dir_path)"
      ],
      "metadata": {
        "colab": {
          "base_uri": "https://localhost:8080/"
        },
        "id": "IeOcmmrPDPsG",
        "outputId": "1127694b-6313-4b2a-d0fa-0ef9e6356ed4"
      },
      "execution_count": 4,
      "outputs": [
        {
          "output_type": "stream",
          "name": "stdout",
          "text": [
            "500  images to be resized.\n",
            "500  images resized.\n",
            "500  images to be resized.\n",
            "500  images resized.\n",
            "500  images to be resized.\n",
            "500  images resized.\n",
            "100  images to be resized.\n",
            "100  images resized.\n",
            "100  images to be resized.\n",
            "100  images resized.\n",
            "100  images to be resized.\n",
            "100  images resized.\n"
          ]
        }
      ]
    },
    {
      "cell_type": "markdown",
      "source": [
        "## 4. train, test 데이터셋 불러오기 및 정규화"
      ],
      "metadata": {
        "id": "TWNBnEHmFV6K"
      }
    },
    {
      "cell_type": "markdown",
      "source": [
        "### 1) train"
      ],
      "metadata": {
        "id": "6su2m6rTFZa7"
      }
    },
    {
      "cell_type": "code",
      "source": [
        "train_image_dir_path = \"/content/drive/MyDrive/인공지능/아이펠/ES/data/rock_scissor_paper\"\n",
        "(x_train, y_train)=load_data(train_image_dir_path,number_of_data=1500)\n",
        "x_train_norm = x_train/255.0   # 입력은 0~1 사이의 값으로 정규화"
      ],
      "metadata": {
        "colab": {
          "base_uri": "https://localhost:8080/"
        },
        "id": "dJ-TmG12E7jH",
        "outputId": "121b8533-4450-40e2-e2cb-71e181079189"
      },
      "execution_count": 5,
      "outputs": [
        {
          "output_type": "stream",
          "name": "stdout",
          "text": [
            "학습데이터(x_train)의 이미지 개수는 1500 입니다.\n"
          ]
        }
      ]
    },
    {
      "cell_type": "code",
      "source": [
        "print(\"x_train shape: {}\".format(x_train.shape))\n",
        "print(\"y_train shape: {}\".format(y_train.shape))"
      ],
      "metadata": {
        "colab": {
          "base_uri": "https://localhost:8080/"
        },
        "id": "6pgK66xQGY8l",
        "outputId": "cbcb2c53-4631-4fda-fe2f-123dbfc4609c"
      },
      "execution_count": 6,
      "outputs": [
        {
          "output_type": "stream",
          "name": "stdout",
          "text": [
            "x_train shape: (1500, 28, 28, 3)\n",
            "y_train shape: (1500,)\n"
          ]
        }
      ]
    },
    {
      "cell_type": "markdown",
      "source": [
        "### 2) test"
      ],
      "metadata": {
        "id": "jqVtSVzaFj8L"
      }
    },
    {
      "cell_type": "code",
      "source": [
        "test_image_dir_path = \"/content/drive/MyDrive/인공지능/아이펠/ES/data/rock_scissor_paper/test\"\n",
        "(x_test, y_test)=load_data(test_image_dir_path,number_of_data=300)\n",
        "x_test_norm = x_test/255.0   # 입력은 0~1 사이의 값으로 정규화"
      ],
      "metadata": {
        "colab": {
          "base_uri": "https://localhost:8080/"
        },
        "id": "2UMdB7FZFjln",
        "outputId": "d147b27c-cd3d-4e10-8449-8874d7f92ac5"
      },
      "execution_count": 7,
      "outputs": [
        {
          "output_type": "stream",
          "name": "stdout",
          "text": [
            "학습데이터(x_train)의 이미지 개수는 300 입니다.\n"
          ]
        }
      ]
    },
    {
      "cell_type": "code",
      "source": [
        "print(\"x_train shape: {}\".format(x_test.shape))\n",
        "print(\"y_train shape: {}\".format(y_test.shape))"
      ],
      "metadata": {
        "colab": {
          "base_uri": "https://localhost:8080/"
        },
        "id": "ptaT5iNHGcUb",
        "outputId": "3a0c0c80-46a6-45a4-b0f4-335b9d94b223"
      },
      "execution_count": 8,
      "outputs": [
        {
          "output_type": "stream",
          "name": "stdout",
          "text": [
            "x_train shape: (300, 28, 28, 3)\n",
            "y_train shape: (300,)\n"
          ]
        }
      ]
    },
    {
      "cell_type": "markdown",
      "source": [
        "## 5. 딥러닝 네트워크 설계"
      ],
      "metadata": {
        "id": "XiMsPqgTHwTt"
      }
    },
    {
      "cell_type": "code",
      "source": [
        "\n",
        "model=keras.models.Sequential()\n",
        "model.add(keras.layers.Conv2D(32, (3,3), activation='relu', input_shape=(28,28,3)))\n",
        "model.add(keras.layers.MaxPool2D(2,2))\n",
        "model.add(keras.layers.Conv2D(64, (3,3), activation='relu'))\n",
        "model.add(keras.layers.MaxPooling2D((2,2)))\n",
        "model.add(keras.layers.Conv2D(128, (3,3), activation='relu'))\n",
        "model.add(keras.layers.MaxPooling2D((2,2)))\n",
        "\n",
        "model.add(keras.layers.Flatten())\n",
        "model.add(keras.layers.Dense(256, activation='relu'))\n",
        "model.add(keras.layers.Dense(3, activation='softmax'))\n",
        "\n",
        "print('Model에 추가된 Layer 개수: ', len(model.layers))\n",
        "\n",
        "model.summary()"
      ],
      "metadata": {
        "colab": {
          "base_uri": "https://localhost:8080/"
        },
        "id": "PSeujWyiGPd1",
        "outputId": "fe8eb5d9-94a0-498a-bcae-d758468685d1"
      },
      "execution_count": 9,
      "outputs": [
        {
          "output_type": "stream",
          "name": "stdout",
          "text": [
            "Model에 추가된 Layer 개수:  9\n",
            "Model: \"sequential\"\n",
            "_________________________________________________________________\n",
            " Layer (type)                Output Shape              Param #   \n",
            "=================================================================\n",
            " conv2d (Conv2D)             (None, 26, 26, 32)        896       \n",
            "                                                                 \n",
            " max_pooling2d (MaxPooling2D  (None, 13, 13, 32)       0         \n",
            " )                                                               \n",
            "                                                                 \n",
            " conv2d_1 (Conv2D)           (None, 11, 11, 64)        18496     \n",
            "                                                                 \n",
            " max_pooling2d_1 (MaxPooling  (None, 5, 5, 64)         0         \n",
            " 2D)                                                             \n",
            "                                                                 \n",
            " conv2d_2 (Conv2D)           (None, 3, 3, 128)         73856     \n",
            "                                                                 \n",
            " max_pooling2d_2 (MaxPooling  (None, 1, 1, 128)        0         \n",
            " 2D)                                                             \n",
            "                                                                 \n",
            " flatten (Flatten)           (None, 128)               0         \n",
            "                                                                 \n",
            " dense (Dense)               (None, 256)               33024     \n",
            "                                                                 \n",
            " dense_1 (Dense)             (None, 3)                 771       \n",
            "                                                                 \n",
            "=================================================================\n",
            "Total params: 127,043\n",
            "Trainable params: 127,043\n",
            "Non-trainable params: 0\n",
            "_________________________________________________________________\n"
          ]
        }
      ]
    },
    {
      "cell_type": "markdown",
      "source": [
        "## 6. 딥러닝 학습"
      ],
      "metadata": {
        "id": "KZvPR53TH-5e"
      }
    },
    {
      "cell_type": "code",
      "source": [
        "model.compile(optimizer='adam',\n",
        "             loss='sparse_categorical_crossentropy',\n",
        "             metrics=['accuracy'])\n",
        "             \n",
        "model.fit(x_train, y_train, epochs=10)"
      ],
      "metadata": {
        "colab": {
          "base_uri": "https://localhost:8080/"
        },
        "id": "akmPs-2dH35x",
        "outputId": "bf84765d-4495-4b85-8036-6008a2baeb40"
      },
      "execution_count": 10,
      "outputs": [
        {
          "output_type": "stream",
          "name": "stdout",
          "text": [
            "Epoch 1/10\n",
            "47/47 [==============================] - 2s 31ms/step - loss: 3.8793 - accuracy: 0.5260\n",
            "Epoch 2/10\n",
            "47/47 [==============================] - 1s 31ms/step - loss: 0.4401 - accuracy: 0.8133\n",
            "Epoch 3/10\n",
            "47/47 [==============================] - 1s 31ms/step - loss: 0.2563 - accuracy: 0.8913\n",
            "Epoch 4/10\n",
            "47/47 [==============================] - 2s 32ms/step - loss: 0.1994 - accuracy: 0.9060\n",
            "Epoch 5/10\n",
            "47/47 [==============================] - 1s 31ms/step - loss: 0.1203 - accuracy: 0.9500\n",
            "Epoch 6/10\n",
            "47/47 [==============================] - 2s 32ms/step - loss: 0.0899 - accuracy: 0.9633\n",
            "Epoch 7/10\n",
            "47/47 [==============================] - 1s 31ms/step - loss: 0.0514 - accuracy: 0.9847\n",
            "Epoch 8/10\n",
            "47/47 [==============================] - 1s 31ms/step - loss: 0.0356 - accuracy: 0.9920\n",
            "Epoch 9/10\n",
            "47/47 [==============================] - 1s 31ms/step - loss: 0.0187 - accuracy: 0.9987\n",
            "Epoch 10/10\n",
            "47/47 [==============================] - 1s 31ms/step - loss: 0.0322 - accuracy: 0.9893\n"
          ]
        },
        {
          "output_type": "execute_result",
          "data": {
            "text/plain": [
              "<keras.callbacks.History at 0x7f406d4e7190>"
            ]
          },
          "metadata": {},
          "execution_count": 10
        }
      ]
    },
    {
      "cell_type": "code",
      "source": [
        "test_loss, test_accuracy = model.evaluate(x_test, y_test, verbose=2)\n",
        "print(\"test_loss: {} \".format(test_loss))\n",
        "print(\"test_accuracy: {}\".format(test_accuracy))"
      ],
      "metadata": {
        "colab": {
          "base_uri": "https://localhost:8080/"
        },
        "id": "TPUF4PGHIBYy",
        "outputId": "ce6d80a9-b514-4082-949f-c517b34b21f0"
      },
      "execution_count": 11,
      "outputs": [
        {
          "output_type": "stream",
          "name": "stdout",
          "text": [
            "10/10 - 0s - loss: 2.7238 - accuracy: 0.6600 - 221ms/epoch - 22ms/step\n",
            "test_loss: 2.723830461502075 \n",
            "test_accuracy: 0.6600000262260437\n"
          ]
        }
      ]
    },
    {
      "cell_type": "markdown",
      "source": [
        "## 7. 어떤 데이터를 잘못 추론 했는지 확인"
      ],
      "metadata": {
        "id": "-6zkbvCfSFUE"
      }
    },
    {
      "cell_type": "code",
      "source": [
        "predicted_result = model.predict(x_test)  # model이 추론한 확률값. \n",
        "predicted_labels = np.argmax(predicted_result, axis=1)"
      ],
      "metadata": {
        "id": "Gu-AwEvYSPXE"
      },
      "execution_count": 12,
      "outputs": []
    },
    {
      "cell_type": "code",
      "source": [
        "import random\n",
        "wrong_predict_list=[]\n",
        "for i, _ in enumerate(predicted_labels):\n",
        "    # i번째 test_labels과 y_test이 다른 경우만 모아 봅시다. \n",
        "    if predicted_labels[i] != y_test[i]:\n",
        "        wrong_predict_list.append(i)\n",
        "\n",
        "# wrong_predict_list 에서 랜덤하게 5개만 뽑아봅시다.\n",
        "samples = random.choices(population=wrong_predict_list, k=5)\n",
        "\n",
        "for n in samples:\n",
        "    print(\"예측확률분포: \" + str(predicted_result[n]))\n",
        "    print(\"라벨: \" + str(y_test[n]) + \", 예측결과: \" + str(predicted_labels[n]))\n",
        "    plt.imshow(x_test[n], cmap=plt.cm.binary)\n",
        "    plt.show()"
      ],
      "metadata": {
        "colab": {
          "base_uri": "https://localhost:8080/",
          "height": 1000
        },
        "id": "9dcZ8qmvSn-Y",
        "outputId": "67476b19-6bd4-401d-9611-7b47bbe321b1"
      },
      "execution_count": 13,
      "outputs": [
        {
          "output_type": "stream",
          "name": "stdout",
          "text": [
            "예측확률분포: [2.2410133e-05 4.0794043e-03 9.9589819e-01]\n",
            "라벨: 0, 예측결과: 2\n"
          ]
        },
        {
          "output_type": "display_data",
          "data": {
            "text/plain": [
              "<Figure size 432x288 with 1 Axes>"
            ],
            "image/png": "[encoded data removed]"
          },
          "metadata": {
            "needs_background": "light"
          }
        },
        {
          "output_type": "stream",
          "name": "stdout",
          "text": [
            "예측확률분포: [8.6295294e-08 5.8547924e-03 9.9414510e-01]\n",
            "라벨: 0, 예측결과: 2\n"
          ]
        },
        {
          "output_type": "display_data",
          "data": {
            "text/plain": [
              "<Figure size 432x288 with 1 Axes>"
            ],
            "image/png": "[encoded data removed]"
          },
          "metadata": {
            "needs_background": "light"
          }
        },
        {
          "output_type": "stream",
          "name": "stdout",
          "text": [
            "예측확률분포: [9.9999988e-01 2.5624058e-11 1.7384501e-07]\n",
            "라벨: 2, 예측결과: 0\n"
          ]
        },
        {
          "output_type": "display_data",
          "data": {
            "text/plain": [
              "<Figure size 432x288 with 1 Axes>"
            ],
            "image/png": "[encoded data removed]"
          },
          "metadata": {
            "needs_background": "light"
          }
        },
        {
          "output_type": "stream",
          "name": "stdout",
          "text": [
            "예측확률분포: [0.00150395 0.954672   0.0438241 ]\n",
            "라벨: 0, 예측결과: 1\n"
          ]
        },
        {
          "output_type": "display_data",
          "data": {
            "text/plain": [
              "<Figure size 432x288 with 1 Axes>"
            ],
            "image/png": "[encoded data removed]"
          },
          "metadata": {
            "needs_background": "light"
          }
        },
        {
          "output_type": "stream",
          "name": "stdout",
          "text": [
            "예측확률분포: [0.9766891  0.00470856 0.01860236]\n",
            "라벨: 2, 예측결과: 0\n"
          ]
        },
        {
          "output_type": "display_data",
          "data": {
            "text/plain": [
              "<Figure size 432x288 with 1 Axes>"
            ],
            "image/png": "[encoded data removed]"
          },
          "metadata": {
            "needs_background": "light"
          }
        }
      ]
    },
    {
      "cell_type": "code",
      "source": [
        ""
      ],
      "metadata": {
        "id": "9Nur-WGpS-ZZ"
      },
      "execution_count": 13,
      "outputs": []
    }
  ]
}