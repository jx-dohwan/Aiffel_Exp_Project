{
  "cells": [
    {
      "cell_type": "markdown",
      "metadata": {
        "id": "view-in-github",
        "colab_type": "text"
      },
      "source": [
        "<a href=\"https://colab.research.google.com/github/jx-dohwan/Aiffel_EGLMS_Project/blob/main/%5BExp_14%5DCreating_a_Chatbot_with_Korean_Data.ipynb\" target=\"_parent\"><img src=\"https://colab.research.google.com/assets/colab-badge.svg\" alt=\"Open In Colab\"/></a>"
      ]
    },
    {
      "cell_type": "markdown",
      "metadata": {
        "id": "73yOaK-MkoEs"
      },
      "source": [
        "# [Exp_14]Creating a Chatbot with Korean Data"
      ]
    },
    {
      "cell_type": "markdown",
      "metadata": {
        "id": "HwPRIwTDkvDa"
      },
      "source": [
        "## 1. import "
      ]
    },
    {
      "cell_type": "code",
      "execution_count": 1,
      "metadata": {
        "id": "MXgYlBW2lny0"
      },
      "outputs": [],
      "source": [
        "import pandas as pd\n",
        "import numpy as np\n",
        "import matplotlib.pyplot as plt\n",
        "import re\n",
        "import urllib.request\n",
        "import time\n",
        "import tensorflow_datasets as tfds\n",
        "import tensorflow as tf\n",
        "from tensorflow.keras.callbacks import EarlyStopping, ModelCheckpoint\n",
        "import random"
      ]
    },
    {
      "cell_type": "markdown",
      "metadata": {
        "id": "pGweTx4okyKf"
      },
      "source": [
        "## 2. 데이터 수집하기"
      ]
    },
    {
      "cell_type": "code",
      "execution_count": 2,
      "metadata": {
        "colab": {
          "base_uri": "https://localhost:8080/",
          "height": 206
        },
        "id": "tgdQ0ur-mQQz",
        "outputId": "aaff26e7-a10b-4e8d-f2d9-a51090cd3ed2"
      },
      "outputs": [
        {
          "output_type": "execute_result",
          "data": {
            "text/plain": [
              "                 Q            A  label\n",
              "0           12시 땡!   하루가 또 가네요.      0\n",
              "1      1지망 학교 떨어졌어    위로해 드립니다.      0\n",
              "2     3박4일 놀러가고 싶다  여행은 언제나 좋죠.      0\n",
              "3  3박4일 정도 놀러가고 싶다  여행은 언제나 좋죠.      0\n",
              "4          PPL 심하네   눈살이 찌푸려지죠.      0"
            ],
            "text/html": [
              "\n",
              "  <div id=\"df-ca6dc007-a376-430b-b95f-7188d487606f\">\n",
              "    <div class=\"colab-df-container\">\n",
              "      <div>\n",
              "<style scoped>\n",
              "    .dataframe tbody tr th:only-of-type {\n",
              "        vertical-align: middle;\n",
              "    }\n",
              "\n",
              "    .dataframe tbody tr th {\n",
              "        vertical-align: top;\n",
              "    }\n",
              "\n",
              "    .dataframe thead th {\n",
              "        text-align: right;\n",
              "    }\n",
              "</style>\n",
              "<table border=\"1\" class=\"dataframe\">\n",
              "  <thead>\n",
              "    <tr style=\"text-align: right;\">\n",
              "      <th></th>\n",
              "      <th>Q</th>\n",
              "      <th>A</th>\n",
              "      <th>label</th>\n",
              "    </tr>\n",
              "  </thead>\n",
              "  <tbody>\n",
              "    <tr>\n",
              "      <th>0</th>\n",
              "      <td>12시 땡!</td>\n",
              "      <td>하루가 또 가네요.</td>\n",
              "      <td>0</td>\n",
              "    </tr>\n",
              "    <tr>\n",
              "      <th>1</th>\n",
              "      <td>1지망 학교 떨어졌어</td>\n",
              "      <td>위로해 드립니다.</td>\n",
              "      <td>0</td>\n",
              "    </tr>\n",
              "    <tr>\n",
              "      <th>2</th>\n",
              "      <td>3박4일 놀러가고 싶다</td>\n",
              "      <td>여행은 언제나 좋죠.</td>\n",
              "      <td>0</td>\n",
              "    </tr>\n",
              "    <tr>\n",
              "      <th>3</th>\n",
              "      <td>3박4일 정도 놀러가고 싶다</td>\n",
              "      <td>여행은 언제나 좋죠.</td>\n",
              "      <td>0</td>\n",
              "    </tr>\n",
              "    <tr>\n",
              "      <th>4</th>\n",
              "      <td>PPL 심하네</td>\n",
              "      <td>눈살이 찌푸려지죠.</td>\n",
              "      <td>0</td>\n",
              "    </tr>\n",
              "  </tbody>\n",
              "</table>\n",
              "</div>\n",
              "      <button class=\"colab-df-convert\" onclick=\"convertToInteractive('df-ca6dc007-a376-430b-b95f-7188d487606f')\"\n",
              "              title=\"Convert this dataframe to an interactive table.\"\n",
              "              style=\"display:none;\">\n",
              "        \n",
              "  <svg xmlns=\"http://www.w3.org/2000/svg\" height=\"24px\"viewBox=\"0 0 24 24\"\n",
              "       width=\"24px\">\n",
              "    <path d=\"M0 0h24v24H0V0z\" fill=\"none\"/>\n",
              "    <path d=\"M18.56 5.44l.94 2.06.94-2.06 2.06-.94-2.06-.94-.94-2.06-.94 2.06-2.06.94zm-11 1L8.5 8.5l.94-2.06 2.06-.94-2.06-.94L8.5 2.5l-.94 2.06-2.06.94zm10 10l.94 2.06.94-2.06 2.06-.94-2.06-.94-.94-2.06-.94 2.06-2.06.94z\"/><path d=\"M17.41 7.96l-1.37-1.37c-.4-.4-.92-.59-1.43-.59-.52 0-1.04.2-1.43.59L10.3 9.45l-7.72 7.72c-.78.78-.78 2.05 0 2.83L4 21.41c.39.39.9.59 1.41.59.51 0 1.02-.2 1.41-.59l7.78-7.78 2.81-2.81c.8-.78.8-2.07 0-2.86zM5.41 20L4 18.59l7.72-7.72 1.47 1.35L5.41 20z\"/>\n",
              "  </svg>\n",
              "      </button>\n",
              "      \n",
              "  <style>\n",
              "    .colab-df-container {\n",
              "      display:flex;\n",
              "      flex-wrap:wrap;\n",
              "      gap: 12px;\n",
              "    }\n",
              "\n",
              "    .colab-df-convert {\n",
              "      background-color: #E8F0FE;\n",
              "      border: none;\n",
              "      border-radius: 50%;\n",
              "      cursor: pointer;\n",
              "      display: none;\n",
              "      fill: #1967D2;\n",
              "      height: 32px;\n",
              "      padding: 0 0 0 0;\n",
              "      width: 32px;\n",
              "    }\n",
              "\n",
              "    .colab-df-convert:hover {\n",
              "      background-color: #E2EBFA;\n",
              "      box-shadow: 0px 1px 2px rgba(60, 64, 67, 0.3), 0px 1px 3px 1px rgba(60, 64, 67, 0.15);\n",
              "      fill: #174EA6;\n",
              "    }\n",
              "\n",
              "    [theme=dark] .colab-df-convert {\n",
              "      background-color: #3B4455;\n",
              "      fill: #D2E3FC;\n",
              "    }\n",
              "\n",
              "    [theme=dark] .colab-df-convert:hover {\n",
              "      background-color: #434B5C;\n",
              "      box-shadow: 0px 1px 3px 1px rgba(0, 0, 0, 0.15);\n",
              "      filter: drop-shadow(0px 1px 2px rgba(0, 0, 0, 0.3));\n",
              "      fill: #FFFFFF;\n",
              "    }\n",
              "  </style>\n",
              "\n",
              "      <script>\n",
              "        const buttonEl =\n",
              "          document.querySelector('#df-ca6dc007-a376-430b-b95f-7188d487606f button.colab-df-convert');\n",
              "        buttonEl.style.display =\n",
              "          google.colab.kernel.accessAllowed ? 'block' : 'none';\n",
              "\n",
              "        async function convertToInteractive(key) {\n",
              "          const element = document.querySelector('#df-ca6dc007-a376-430b-b95f-7188d487606f');\n",
              "          const dataTable =\n",
              "            await google.colab.kernel.invokeFunction('convertToInteractive',\n",
              "                                                     [key], {});\n",
              "          if (!dataTable) return;\n",
              "\n",
              "          const docLinkHtml = 'Like what you see? Visit the ' +\n",
              "            '<a target=\"_blank\" href=https://colab.research.google.com/notebooks/data_table.ipynb>data table notebook</a>'\n",
              "            + ' to learn more about interactive tables.';\n",
              "          element.innerHTML = '';\n",
              "          dataTable['output_type'] = 'display_data';\n",
              "          await google.colab.output.renderOutput(dataTable, element);\n",
              "          const docLink = document.createElement('div');\n",
              "          docLink.innerHTML = docLinkHtml;\n",
              "          element.appendChild(docLink);\n",
              "        }\n",
              "      </script>\n",
              "    </div>\n",
              "  </div>\n",
              "  "
            ]
          },
          "metadata": {},
          "execution_count": 2
        }
      ],
      "source": [
        "urllib.request.urlretrieve(\"https://raw.githubusercontent.com/songys/Chatbot_data/master/ChatbotData.csv\", filename=\"ChatBotData.csv\")\n",
        "train_data = pd.read_csv('ChatBotData.csv')\n",
        "train_data.head()"
      ]
    },
    {
      "cell_type": "code",
      "execution_count": 3,
      "metadata": {
        "colab": {
          "base_uri": "https://localhost:8080/"
        },
        "id": "fMs9myWVnqoY",
        "outputId": "47a891d2-2fb3-485f-c2c3-5cb4aacde9b9"
      },
      "outputs": [
        {
          "output_type": "stream",
          "name": "stdout",
          "text": [
            "샘플 갯수 :  11823\n"
          ]
        }
      ],
      "source": [
        "print('샘플 갯수 : ', len(train_data))"
      ]
    },
    {
      "cell_type": "code",
      "execution_count": 4,
      "metadata": {
        "colab": {
          "base_uri": "https://localhost:8080/"
        },
        "id": "tPoeHxbfnvgE",
        "outputId": "5faccc9b-f277-4322-9f50-75303c6f74cf"
      },
      "outputs": [
        {
          "output_type": "execute_result",
          "data": {
            "text/plain": [
              "Q        0\n",
              "A        0\n",
              "label    0\n",
              "dtype: int64"
            ]
          },
          "metadata": {},
          "execution_count": 4
        }
      ],
      "source": [
        "train_data.isnull().sum()"
      ]
    },
    {
      "cell_type": "markdown",
      "metadata": {
        "id": "T-nNijmGk2ZM"
      },
      "source": [
        "## 3. 데이터 전처리하기"
      ]
    },
    {
      "cell_type": "code",
      "source": [
        "def preprocess_sentence(sentence):\n",
        "  # 단어와 구두점(punctuation) 사이의 거리를 만듭니다.\n",
        "  # 예를 들어서 \"I am a student.\" => \"I am a student .\"와 같이\n",
        "  # student와 온점 사이에 거리를 만듭니다.\n",
        "  sentence = re.sub(r\"([?.!,])\", r\" \\1 \", sentence)\n",
        "  sentence = re.sub(r'[\" \"]+', \" \", sentence)\n",
        "\n",
        "  # (a-z, A-Z, \".\", \"?\", \"!\", \",\")를 제외한 모든 문자를 공백인 ' '로 대체합니다.\n",
        "  sentence = re.sub(r\"[^가-힣0-9a-zA-Z?.!,]+\", \" \", sentence)\n",
        "  sentence = sentence.strip()\n",
        "  return sentence"
      ],
      "metadata": {
        "id": "nCtnXDogH6-C"
      },
      "execution_count": 5,
      "outputs": []
    },
    {
      "cell_type": "code",
      "source": [
        "def load_conversations():\n",
        "  questions = []\n",
        "  answers = []\n",
        "  for i in range(len(train_data)):\n",
        "    # 전처리 함수를 질문에 해당되는 inputs와 답변에 해당되는 outputs에 적용.\n",
        "    questions.append(preprocess_sentence(train_data['Q'].values[i]))\n",
        "    answers.append(preprocess_sentence(train_data['A'].values[i]))\n",
        "\n",
        "  return questions, answers"
      ],
      "metadata": {
        "id": "Mtt9_62HH4q7"
      },
      "execution_count": 6,
      "outputs": []
    },
    {
      "cell_type": "code",
      "execution_count": 7,
      "metadata": {
        "id": "lX5lLZIgnHtN"
      },
      "outputs": [],
      "source": [
        "# questions = []\n",
        "# for sentence in train_data['Q']:\n",
        "#     sentence = re.sub(r\"([?.!,])\", r\" \\1 \", sentence)\n",
        "#     sentence = sentence.strip()\n",
        "#     questions.append(sentence)"
      ]
    },
    {
      "cell_type": "code",
      "execution_count": 8,
      "metadata": {
        "id": "Uhq-xUcyoNO3"
      },
      "outputs": [],
      "source": [
        "# answers = []\n",
        "# for sentence in train_data['A']:\n",
        "#     sentence = re.sub(r\"([?.!,])\", r\" \\1 \", sentence)\n",
        "#     sentence = sentence.strip()\n",
        "#     answers.append(sentence)"
      ]
    },
    {
      "cell_type": "code",
      "source": [
        "questions, answers = load_conversations()\n",
        "print('전체 샘플 수 :', len(questions))\n",
        "print('전체 샘플 수 :', len(answers))"
      ],
      "metadata": {
        "colab": {
          "base_uri": "https://localhost:8080/"
        },
        "id": "EjvykzvhKoEY",
        "outputId": "5b1f94b0-b137-40dd-eb38-e605c032a9d7"
      },
      "execution_count": 9,
      "outputs": [
        {
          "output_type": "stream",
          "name": "stdout",
          "text": [
            "전체 샘플 수 : 11823\n",
            "전체 샘플 수 : 11823\n"
          ]
        }
      ]
    },
    {
      "cell_type": "code",
      "execution_count": 10,
      "metadata": {
        "colab": {
          "base_uri": "https://localhost:8080/"
        },
        "id": "kgsxBOcfoP-1",
        "outputId": "091c1f07-df10-48a3-bac7-2d10a9a746ce"
      },
      "outputs": [
        {
          "output_type": "stream",
          "name": "stdout",
          "text": [
            "\n",
            "---------------------4547-------------------\n",
            "전처리 후의 4547번째 질문 샘플: 취뽀 어렵다 .\n",
            "전처리 후의 4547번째 답변 샘플: 바늘 구멍이니까요 .\n",
            "\n",
            "---------------------3008-------------------\n",
            "전처리 후의 3008번째 질문 샘플: 약 먹고 나아야지\n",
            "전처리 후의 3008번째 답변 샘플: 꼬박꼬박 챙겨 드세요 .\n",
            "\n",
            "---------------------7881-------------------\n",
            "전처리 후의 7881번째 질문 샘플: 잘안되는군\n",
            "전처리 후의 7881번째 답변 샘플: 모든 일이 뜻대로 되진 않나봐요 .\n",
            "\n",
            "---------------------9761-------------------\n",
            "전처리 후의 9761번째 질문 샘플: 몰래 동거하고 있어\n",
            "전처리 후의 9761번째 답변 샘플: 허락을 맡고 당당하게 하는 게 좋을 것 같아요 .\n",
            "\n",
            "---------------------6646-------------------\n",
            "전처리 후의 6646번째 질문 샘플: 상황이 힘들어서 헤어진다\n",
            "전처리 후의 6646번째 답변 샘플: 그럴 수 있어요 .\n",
            "\n",
            "---------------------5128-------------------\n",
            "전처리 후의 5128번째 질문 샘플: 호텔 로비에서 소개팅하기로했어\n",
            "전처리 후의 5128번째 답변 샘플: 성공을 빌어요 .\n",
            "\n",
            "---------------------5112-------------------\n",
            "전처리 후의 5112번째 질문 샘플: 헤헤 용돈 받았어 .\n",
            "전처리 후의 5112번째 답변 샘플: 기분 좋겠어요 .\n",
            "\n",
            "---------------------7277-------------------\n",
            "전처리 후의 7277번째 질문 샘플: 우리 이것만은 잊지말자\n",
            "전처리 후의 7277번째 답변 샘플: 잊을 순 없지만 잊으려 노력하는게 좋아요 .\n",
            "\n",
            "---------------------1010-------------------\n",
            "전처리 후의 1010번째 질문 샘플: 노트북 부팅 안돼\n",
            "전처리 후의 1010번째 답변 샘플: 그럴때는 초기화하는게 속시원해요 .\n"
          ]
        }
      ],
      "source": [
        "number = []\n",
        "for i in range(1,10):  \n",
        "  number = random.randint(1,10000)\n",
        "  print('\\n---------------------{}-------------------'.format(number))\n",
        "  print('전처리 후의 {}번째 질문 샘플: {}'.format(number, questions[number]))\n",
        "  print('전처리 후의 {}번째 답변 샘플: {}'.format(number, answers[number]))\n",
        "  "
      ]
    },
    {
      "cell_type": "markdown",
      "metadata": {
        "id": "90E_qht5k47p"
      },
      "source": [
        "## 4. SubwordTextEncoder 사용하기"
      ]
    },
    {
      "cell_type": "markdown",
      "metadata": {
        "id": "X97Ki8EupF44"
      },
      "source": [
        "### 1) 단어장(Vocabulary) 만들기\n"
      ]
    },
    {
      "cell_type": "code",
      "execution_count": 11,
      "metadata": {
        "id": "5m3Ah-WQowfl"
      },
      "outputs": [],
      "source": [
        "tokenizer = tfds.deprecated.text.SubwordTextEncoder.build_from_corpus(questions + answers, target_vocab_size=2**13)"
      ]
    },
    {
      "cell_type": "code",
      "execution_count": 12,
      "metadata": {
        "id": "nmXUqJWto0Dv"
      },
      "outputs": [],
      "source": [
        "# 시작 토큰과 종료 토큰에 대한 정수 부여.\n",
        "START_TOKEN, END_TOKEN = [tokenizer.vocab_size], [tokenizer.vocab_size + 1]\n",
        "\n",
        "# 시작 토큰과 종료 토큰을 고려하여 단어 집합의 크기를 + 2\n",
        "VOCAB_SIZE = tokenizer.vocab_size + 2\n"
      ]
    },
    {
      "cell_type": "code",
      "execution_count": 13,
      "metadata": {
        "colab": {
          "base_uri": "https://localhost:8080/"
        },
        "id": "UpKJJDuZo6mF",
        "outputId": "1f4cacc2-fa10-40ef-cd96-5a72f5a69f02"
      },
      "outputs": [
        {
          "output_type": "stream",
          "name": "stdout",
          "text": [
            "시작 토큰 번호 : [8162]\n",
            "종료 토큰 번호 : [8163]\n",
            "단어 집합의 크기 : 8164\n"
          ]
        }
      ],
      "source": [
        "print('시작 토큰 번호 :',START_TOKEN)\n",
        "print('종료 토큰 번호 :',END_TOKEN)\n",
        "print('단어 집합의 크기 :',VOCAB_SIZE)"
      ]
    },
    {
      "cell_type": "markdown",
      "metadata": {
        "id": "9eN5QfB3pHlh"
      },
      "source": [
        "### 2) 각 단어를 고유한 정수로 인코딩(Integer encoding) & 패딩(Padding)\n",
        "- tensorflow_datasets의 SubwordTextEncoder를 사용해서 tokenizer를 정의하고 Vocabulary를 만들었다면, tokenizer.encode()로 각 단어를 정수로 변환할 수 있고 또는 tokenizer.decode()를 통해 정수 시퀀스를 단어 시퀀스로 변환할 수 있습니다.\n",
        "\n",
        "- 예를 들어서 랜덤으로 10가지의 샘플을 tokenizer.encode()의 입력으로 사용해서 변환 결과를 봅시다.\n",
        "\n",
        "- 이를 통해서 각 단어에 고유한 정수가 부여된 Vocabulary를 기준으로 단어 시퀀스가 정수 시퀀스로 인코딩된 결과를 확인할 수 있습니다. "
      ]
    },
    {
      "cell_type": "code",
      "execution_count": 14,
      "metadata": {
        "colab": {
          "base_uri": "https://localhost:8080/"
        },
        "id": "T8-Ha5eio2i2",
        "outputId": "1e5e58ab-eebb-41d9-de46-3a97c52240e7"
      },
      "outputs": [
        {
          "output_type": "stream",
          "name": "stdout",
          "text": [
            "\n",
            "---------------------7468-------------------\n",
            "정수 인코딩 후의 7468번째 질문 샘플: [108, 260, 66, 69, 2211, 2177, 259, 2]\n",
            "정수 인코딩 후의 7468번째 답변 샘플: [969, 23, 753, 303, 71, 1472, 7232, 753, 303, 179, 221, 1]\n",
            "\n",
            "---------------------8307-------------------\n",
            "정수 인코딩 후의 8307번째 질문 샘플: [1129, 815, 984, 1612, 104, 323, 497, 885]\n",
            "정수 인코딩 후의 8307번째 답변 샘플: [4401, 31, 904, 92, 1]\n",
            "\n",
            "---------------------5885-------------------\n",
            "정수 인코딩 후의 5885번째 질문 샘플: [53, 134, 946]\n",
            "정수 인코딩 후의 5885번째 답변 샘플: [508, 952, 1819, 1]\n",
            "\n",
            "---------------------7623-------------------\n",
            "정수 인코딩 후의 7623번째 질문 샘플: [822, 2140, 11, 6912, 23, 771]\n",
            "정수 인코딩 후의 7623번째 답변 샘플: [151, 5636, 13, 780, 7685, 867, 669, 274, 1]\n",
            "\n",
            "---------------------9770-------------------\n",
            "정수 인코딩 후의 9770번째 질문 샘플: [501, 6080, 302]\n",
            "정수 인코딩 후의 9770번째 답변 샘플: [282, 971, 5, 75, 18, 22, 1]\n",
            "\n",
            "---------------------7683-------------------\n",
            "정수 인코딩 후의 7683번째 질문 샘플: [57, 7091, 671, 165, 1]\n",
            "정수 인코딩 후의 7683번째 답변 샘플: [19, 928, 3193, 229, 145, 1]\n",
            "\n",
            "---------------------5028-------------------\n",
            "정수 인코딩 후의 5028번째 질문 샘플: [35, 708, 361, 661]\n",
            "정수 인코딩 후의 5028번째 답변 샘플: [46, 284, 220, 7519, 1]\n",
            "\n",
            "---------------------1805-------------------\n",
            "정수 인코딩 후의 1805번째 질문 샘플: [156, 1245, 8, 1151]\n",
            "정수 인코딩 후의 1805번째 답변 샘플: [3651, 3860, 32, 1]\n",
            "\n",
            "---------------------468-------------------\n",
            "정수 인코딩 후의 468번째 질문 샘플: [28, 254, 47, 509]\n",
            "정수 인코딩 후의 468번째 답변 샘플: [500, 6963, 7938, 689, 2446, 49]\n"
          ]
        }
      ],
      "source": [
        "# 임의의 22번째 샘플에 대해서 정수 인코딩 작업을 수행\n",
        "# 각 토큰을 고유한 정수로 변환\n",
        "number = []\n",
        "for i in range(1,10):  \n",
        "  number = random.randint(1,10000)\n",
        "  print('\\n---------------------{}-------------------'.format(number))\n",
        "  print('정수 인코딩 후의 {}번째 질문 샘플: {}'.format(number, tokenizer.encode(questions[number])))\n",
        "  print('정수 인코딩 후의 {}번째 답변 샘플: {}'.format(number, tokenizer.encode(answers[number])))\n"
      ]
    },
    {
      "cell_type": "markdown",
      "source": [
        "질문과 답변 셋에 대해서 전부 정수 인코딩 을 수행합니다. 이와 동시에 문장의 최대 길이를 정하고, 해당 길이로 패딩(padding) 합니다."
      ],
      "metadata": {
        "id": "B5fccFmTOeGD"
      }
    },
    {
      "cell_type": "code",
      "execution_count": 15,
      "metadata": {
        "colab": {
          "base_uri": "https://localhost:8080/",
          "height": 963
        },
        "id": "nahcs57R8Tyj",
        "outputId": "f0fc0df0-ff24-4bbe-8170-e2c6a7ede2e2"
      },
      "outputs": [
        {
          "output_type": "stream",
          "name": "stdout",
          "text": [
            "질문의 최소 길이 : 1\n",
            "질문의 최대 길이 : 16\n",
            "질문의 평균 길이 : 3.9378330373001775\n",
            "답변의 최소 길이 : 1\n",
            "답변의 최대 길이 : 24\n",
            "답변의 평균 길이 : 4.716146494121627\n"
          ]
        },
        {
          "output_type": "display_data",
          "data": {
            "text/plain": [
              "<Figure size 432x288 with 2 Axes>"
            ],
            "image/png": "[encoded data removed]"
          },
          "metadata": {
            "needs_background": "light"
          }
        },
        {
          "output_type": "display_data",
          "data": {
            "text/plain": [
              "<Figure size 432x288 with 1 Axes>"
            ],
            "image/png": "[encoded data removed]"
          },
          "metadata": {
            "needs_background": "light"
          }
        },
        {
          "output_type": "display_data",
          "data": {
            "text/plain": [
              "<Figure size 432x288 with 1 Axes>"
            ],
            "image/png": "[encoded data removed]"
          },
          "metadata": {
            "needs_background": "light"
          }
        }
      ],
      "source": [
        "# 질문과 답변의 길이 살펴보기\n",
        "question_len = [len(s.split()) for s in questions]\n",
        "answer_len = [len(s.split()) for s in answers]\n",
        "\n",
        "print('질문의 최소 길이 : {}'.format(np.min(question_len)))\n",
        "print('질문의 최대 길이 : {}'.format(np.max(question_len)))\n",
        "print('질문의 평균 길이 : {}'.format(np.mean(question_len)))\n",
        "print('답변의 최소 길이 : {}'.format(np.min(answer_len)))\n",
        "print('답변의 최대 길이 : {}'.format(np.max(answer_len)))\n",
        "print('답변의 평균 길이 : {}'.format(np.mean(answer_len)))\n",
        "\n",
        "plt.subplot(1,2,1)\n",
        "plt.boxplot(question_len)\n",
        "plt.title('question')\n",
        "plt.subplot(1,2,2)\n",
        "plt.boxplot(answer_len)\n",
        "plt.title('answe')\n",
        "plt.tight_layout()\n",
        "plt.show()\n",
        "\n",
        "plt.title('question')\n",
        "plt.hist(question_len, bins = 40)\n",
        "plt.xlabel('length of samples')\n",
        "plt.ylabel('number of samples')\n",
        "plt.show()\n",
        "\n",
        "plt.title('answe')\n",
        "plt.hist(answer_len, bins = 40)\n",
        "plt.xlabel('length of samples')\n",
        "plt.ylabel('number of samples')\n",
        "plt.show()"
      ]
    },
    {
      "cell_type": "markdown",
      "source": [
        "- 그래프상 확인할 수 있는 최대 길이인 16으로 지정한다. \n",
        "- 그 이상의 문장의 길이는 미미한 빈도이기 때문에 오히려 정확도를 떨어트릴 것 같다."
      ],
      "metadata": {
        "id": "81tK2XBJPHEF"
      }
    },
    {
      "cell_type": "code",
      "execution_count": 16,
      "metadata": {
        "id": "vdMIyPhAptXR"
      },
      "outputs": [],
      "source": [
        "# 최대 길이를 40으로 정의\n",
        "MAX_LENGTH = 16\n",
        "\n",
        "# 토큰화 / 정수 인코딩 / 시작 토큰과 종료 토큰 추가 / 패딩\n",
        "def tokenize_and_filter(inputs, outputs):\n",
        "  tokenized_inputs, tokenized_outputs = [], []\n",
        "\n",
        "  for (sentence1, sentence2) in zip(inputs, outputs):\n",
        "    # encode(토큰화 + 정수 인코딩), 시작 토큰과 종료 토큰 추가\n",
        "    sentence1 = START_TOKEN + tokenizer.encode(sentence1) + END_TOKEN\n",
        "    sentence2 = START_TOKEN + tokenizer.encode(sentence2) + END_TOKEN\n",
        "\n",
        "    tokenized_inputs.append(sentence1)\n",
        "    tokenized_outputs.append(sentence2)\n",
        "\n",
        "  # 패딩\n",
        "  tokenized_inputs = tf.keras.preprocessing.sequence.pad_sequences(\n",
        "      tokenized_inputs, maxlen=MAX_LENGTH, padding='post')\n",
        "  tokenized_outputs = tf.keras.preprocessing.sequence.pad_sequences(\n",
        "      tokenized_outputs, maxlen=MAX_LENGTH, padding='post')\n",
        "\n",
        "  return tokenized_inputs, tokenized_outputs"
      ]
    },
    {
      "cell_type": "code",
      "execution_count": 17,
      "metadata": {
        "id": "pR27h_n7pujK"
      },
      "outputs": [],
      "source": [
        "questions, answers = tokenize_and_filter(questions, answers)"
      ]
    },
    {
      "cell_type": "code",
      "execution_count": 18,
      "metadata": {
        "colab": {
          "base_uri": "https://localhost:8080/"
        },
        "id": "rUA9xsVIpwzf",
        "outputId": "78cb412c-7755-4cb8-ef5e-7b902a89010f"
      },
      "outputs": [
        {
          "output_type": "stream",
          "name": "stdout",
          "text": [
            "질문 데이터의 크기(shape) : (11823, 16)\n",
            "답변 데이터의 크기(shape) : (11823, 16)\n"
          ]
        }
      ],
      "source": [
        "print('질문 데이터의 크기(shape) :', questions.shape)\n",
        "print('답변 데이터의 크기(shape) :', answers.shape)"
      ]
    },
    {
      "cell_type": "code",
      "execution_count": 19,
      "metadata": {
        "colab": {
          "base_uri": "https://localhost:8080/"
        },
        "id": "QHw0Oxchpysy",
        "outputId": "4522ba8e-06d8-4bce-87d0-8f7d2987aa50"
      },
      "outputs": [
        {
          "output_type": "stream",
          "name": "stdout",
          "text": [
            "[8162 7901 4198 3050   41 8163    0    0    0    0    0    0    0    0\n",
            "    0    0]\n",
            "[8162 3837   74 7880    1 8163    0    0    0    0    0    0    0    0\n",
            "    0    0]\n"
          ]
        }
      ],
      "source": [
        "print(questions[0])\n",
        "print(answers[0])"
      ]
    },
    {
      "cell_type": "markdown",
      "metadata": {
        "id": "5slgG6Flp0a7"
      },
      "source": [
        "### 4) 교사강요 사용하기"
      ]
    },
    {
      "cell_type": "markdown",
      "source": [
        "- LMS에서는 50000개의 샘플수로 사용하였고 여기서는 대략 10000 샘플수를 사용한다. \n",
        "- 그러니 여기서는 정확도를 올리기 위해 batch_size를 올려 더 많은 데이터를 학습하게 하고 buffer_size를 줄일 필요가 있다. 필요가 있다.\n",
        "  - batch_size는 2배로 올리고\n",
        "  - buffer_size는 1/4을 한다."
      ],
      "metadata": {
        "id": "SZrizY2bPgrc"
      }
    },
    {
      "cell_type": "code",
      "execution_count": 20,
      "metadata": {
        "id": "CqeztCDdqCNE"
      },
      "outputs": [],
      "source": [
        "# 텐서플로우 dataset을 이용하여 셔플(shuffle)을 수행하되, 배치 크기로 데이터를 묶는다.\n",
        "# 또한 이 과정에서 교사 강요(teacher forcing)을 사용하기 위해서 디코더의 입력과 실제값 시퀀스를 구성한다.\n",
        "BATCH_SIZE = 128\n",
        "BUFFER_SIZE = 5000\n",
        "\n",
        "# 디코더의 실제값 시퀀스에서는 시작 토큰을 제거해야 한다.\n",
        "dataset = tf.data.Dataset.from_tensor_slices((\n",
        "    {\n",
        "        'inputs': questions,\n",
        "        'dec_inputs': answers[:, :-1] # 디코더의 입력. 마지막 패딩 토큰이 제거된다.\n",
        "    },\n",
        "    {\n",
        "        'outputs': answers[:, 1:]  # 맨 처음 토큰이 제거된다. 다시 말해 시작 토큰이 제거된다.\n",
        "    },\n",
        "))\n",
        "\n",
        "dataset = dataset.cache()\n",
        "dataset = dataset.shuffle(BUFFER_SIZE)\n",
        "dataset = dataset.batch(BATCH_SIZE)\n",
        "dataset = dataset.prefetch(tf.data.experimental.AUTOTUNE)"
      ]
    },
    {
      "cell_type": "code",
      "execution_count": 21,
      "metadata": {
        "colab": {
          "base_uri": "https://localhost:8080/"
        },
        "id": "IJ43Zw7IqDuF",
        "outputId": "01e0e942-acc0-4026-e04b-aee495ac70c2"
      },
      "outputs": [
        {
          "output_type": "stream",
          "name": "stdout",
          "text": [
            "[8162 3837   74 7880    1 8163    0    0    0    0    0    0    0    0\n",
            "    0    0]\n",
            "[[8162 3837   74 7880    1 8163    0    0    0    0    0    0    0    0\n",
            "     0]]\n",
            "[[3837   74 7880    1 8163    0    0    0    0    0    0    0    0    0\n",
            "     0]]\n"
          ]
        }
      ],
      "source": [
        "# 임의의 샘플에 대해서 [:, :-1]과 [:, 1:]이 어떤 의미를 가지는지 테스트해본다.\n",
        "print(answers[0]) # 기존 샘플\n",
        "print(answers[:1][:, :-1]) # 마지막 패딩 토큰 제거하면서 길이가 39가 된다.\n",
        "print(answers[:1][:, 1:]) # 맨 처음 토큰이 제거된다. 다시 말해 시작 토큰이 제거된다. 길이는 역시 39가 된다."
      ]
    },
    {
      "cell_type": "markdown",
      "metadata": {
        "id": "RbkcPtvck73K"
      },
      "source": [
        "## 5. 모델 구성하기"
      ]
    },
    {
      "cell_type": "markdown",
      "source": [
        "### 1) 포지셔널 인코딩 레이어"
      ],
      "metadata": {
        "id": "xtwTmsFBRBEO"
      }
    },
    {
      "cell_type": "code",
      "execution_count": 22,
      "metadata": {
        "id": "ZhBPHXqSrsXn"
      },
      "outputs": [],
      "source": [
        "class PositionalEncoding(tf.keras.layers.Layer):\n",
        "\n",
        "  def __init__(self, position, d_model):\n",
        "    super(PositionalEncoding, self).__init__()\n",
        "    self.pos_encoding = self.positional_encoding(position, d_model)\n",
        "\n",
        "  def get_angles(self, position, i, d_model):\n",
        "    angles = 1 / tf.pow(10000, (2 * (i // 2)) / tf.cast(d_model, tf.float32))\n",
        "    return position * angles\n",
        "\n",
        "  def positional_encoding(self, position, d_model):\n",
        "    # 각도 배열 생성\n",
        "    angle_rads = self.get_angles(\n",
        "        position=tf.range(position, dtype=tf.float32)[:, tf.newaxis],\n",
        "        i=tf.range(d_model, dtype=tf.float32)[tf.newaxis, :],\n",
        "        d_model=d_model)\n",
        "\n",
        "    # 배열의 짝수 인덱스에는 sin 함수 적용\n",
        "    sines = tf.math.sin(angle_rads[:, 0::2])\n",
        "    # 배열의 홀수 인덱스에는 cosine 함수 적용\n",
        "    cosines = tf.math.cos(angle_rads[:, 1::2])\n",
        "\n",
        "    # sin과 cosine이 교차되도록 재배열\n",
        "    pos_encoding = tf.stack([sines, cosines], axis=0)\n",
        "    pos_encoding = tf.transpose(pos_encoding,[1, 2, 0]) \n",
        "    pos_encoding = tf.reshape(pos_encoding, [position, d_model])\n",
        "\n",
        "    pos_encoding = pos_encoding[tf.newaxis, ...]\n",
        "    return tf.cast(pos_encoding, tf.float32)\n",
        "\n",
        "  def call(self, inputs):\n",
        "    return inputs + self.pos_encoding[:, :tf.shape(inputs)[1], :]\n"
      ]
    },
    {
      "cell_type": "markdown",
      "source": [
        "### 2) Scaled Dot Product Attention"
      ],
      "metadata": {
        "id": "-ZoXQvBGRFf4"
      }
    },
    {
      "cell_type": "code",
      "execution_count": 23,
      "metadata": {
        "id": "8SNXXInzrF2B"
      },
      "outputs": [],
      "source": [
        "# 스케일드 닷 프로덕트 어텐션 함수\n",
        "def scaled_dot_product_attention(query, key, value, mask):\n",
        "  # 어텐션 가중치는 Q와 K의 닷 프로덕트\n",
        "  matmul_qk = tf.matmul(query, key, transpose_b=True)\n",
        "\n",
        "  # 가중치를 정규화\n",
        "  depth = tf.cast(tf.shape(key)[-1], tf.float32)\n",
        "  logits = matmul_qk / tf.math.sqrt(depth)\n",
        "\n",
        "  # 패딩에 마스크 추가\n",
        "  if mask is not None:\n",
        "    logits += (mask * -1e9)\n",
        "\n",
        "  # softmax적용\n",
        "  attention_weights = tf.nn.softmax(logits, axis=-1)\n",
        "\n",
        "  # 최종 어텐션은 가중치와 V의 닷 프로덕트\n",
        "  output = tf.matmul(attention_weights, value)\n",
        "  return output"
      ]
    },
    {
      "cell_type": "code",
      "execution_count": 24,
      "metadata": {
        "id": "wiX-6DECrH2s"
      },
      "outputs": [],
      "source": [
        "class MultiHeadAttention(tf.keras.layers.Layer):\n",
        "\n",
        "  def __init__(self, d_model, num_heads, name=\"multi_head_attention\"):\n",
        "    super(MultiHeadAttention, self).__init__(name=name)\n",
        "    self.num_heads = num_heads\n",
        "    self.d_model = d_model\n",
        "\n",
        "    assert d_model % self.num_heads == 0\n",
        "\n",
        "    self.depth = d_model // self.num_heads\n",
        "\n",
        "    self.query_dense = tf.keras.layers.Dense(units=d_model)\n",
        "    self.key_dense = tf.keras.layers.Dense(units=d_model)\n",
        "    self.value_dense = tf.keras.layers.Dense(units=d_model)\n",
        "\n",
        "    self.dense = tf.keras.layers.Dense(units=d_model)\n",
        "\n",
        "  def split_heads(self, inputs, batch_size):\n",
        "    inputs = tf.reshape(\n",
        "        inputs, shape=(batch_size, -1, self.num_heads, self.depth))\n",
        "    return tf.transpose(inputs, perm=[0, 2, 1, 3])\n",
        "\n",
        "  def call(self, inputs):\n",
        "    query, key, value, mask = inputs['query'], inputs['key'], inputs[\n",
        "        'value'], inputs['mask']\n",
        "    batch_size = tf.shape(query)[0]\n",
        "\n",
        "    # Q, K, V에 각각 Dense를 적용합니다\n",
        "    query = self.query_dense(query)\n",
        "    key = self.key_dense(key)\n",
        "    value = self.value_dense(value)\n",
        "\n",
        "    # 병렬 연산을 위한 머리를 여러 개 만듭니다\n",
        "    query = self.split_heads(query, batch_size)\n",
        "    key = self.split_heads(key, batch_size)\n",
        "    value = self.split_heads(value, batch_size)\n",
        "\n",
        "    # 스케일드 닷 프로덕트 어텐션 함수\n",
        "    scaled_attention = scaled_dot_product_attention(query, key, value, mask)\n",
        "\n",
        "    scaled_attention = tf.transpose(scaled_attention, perm=[0, 2, 1, 3])\n",
        "\n",
        "    # 어텐션 연산 후에 각 결과를 다시 연결(concatenate)합니다\n",
        "    concat_attention = tf.reshape(scaled_attention,\n",
        "                                  (batch_size, -1, self.d_model))\n",
        "\n",
        "    # 최종 결과에도 Dense를 한 번 더 적용합니다\n",
        "    outputs = self.dense(concat_attention)\n",
        "\n",
        "    return outputs"
      ]
    },
    {
      "cell_type": "code",
      "execution_count": 25,
      "metadata": {
        "id": "sugK2bESrL7n"
      },
      "outputs": [],
      "source": [
        "def create_padding_mask(x):\n",
        "  mask = tf.cast(tf.math.equal(x, 0), tf.float32)\n",
        "  # (batch_size, 1, 1, sequence length)\n",
        "  return mask[:, tf.newaxis, tf.newaxis, :]"
      ]
    },
    {
      "cell_type": "code",
      "execution_count": 26,
      "metadata": {
        "id": "2zzeYHfdrNT-"
      },
      "outputs": [],
      "source": [
        "def create_look_ahead_mask(x):\n",
        "  seq_len = tf.shape(x)[1]\n",
        "  look_ahead_mask = 1 - tf.linalg.band_part(tf.ones((seq_len, seq_len)), -1, 0)\n",
        "  padding_mask = create_padding_mask(x)\n",
        "  return tf.maximum(look_ahead_mask, padding_mask)"
      ]
    },
    {
      "cell_type": "code",
      "execution_count": 27,
      "metadata": {
        "id": "1lP3yegnrSyV"
      },
      "outputs": [],
      "source": [
        "# 인코더 하나의 레이어를 함수로 구현.\n",
        "# 이 하나의 레이어 안에는 두 개의 서브 레이어가 존재합니다.\n",
        "def encoder_layer(units, d_model, num_heads, dropout, name=\"encoder_layer\"):\n",
        "  inputs = tf.keras.Input(shape=(None, d_model), name=\"inputs\")\n",
        "\n",
        "  # 패딩 마스크 사용\n",
        "  padding_mask = tf.keras.Input(shape=(1, 1, None), name=\"padding_mask\")\n",
        "\n",
        "  # 첫 번째 서브 레이어 : 멀티 헤드 어텐션 수행 (셀프 어텐션)\n",
        "  attention = MultiHeadAttention(\n",
        "      d_model, num_heads, name=\"attention\")({\n",
        "          'query': inputs,\n",
        "          'key': inputs,\n",
        "          'value': inputs,\n",
        "          'mask': padding_mask\n",
        "      })\n",
        "\n",
        "  # 어텐션의 결과는 Dropout과 Layer Normalization이라는 훈련을 돕는 테크닉을 수행\n",
        "  attention = tf.keras.layers.Dropout(rate=dropout)(attention)\n",
        "  attention = tf.keras.layers.LayerNormalization(\n",
        "      epsilon=1e-6)(inputs + attention)\n",
        "\n",
        "  # 두 번째 서브 레이어 : 2개의 완전연결층\n",
        "  outputs = tf.keras.layers.Dense(units=units, activation='relu')(attention)\n",
        "  outputs = tf.keras.layers.Dense(units=d_model)(outputs)\n",
        "\n",
        "  # 완전연결층의 결과는 Dropout과 LayerNormalization이라는 훈련을 돕는 테크닉을 수행\n",
        "  outputs = tf.keras.layers.Dropout(rate=dropout)(outputs)\n",
        "  outputs = tf.keras.layers.LayerNormalization(\n",
        "      epsilon=1e-6)(attention + outputs)\n",
        "\n",
        "  return tf.keras.Model(\n",
        "      inputs=[inputs, padding_mask], outputs=outputs, name=name)"
      ]
    },
    {
      "cell_type": "code",
      "execution_count": 28,
      "metadata": {
        "id": "vhfDWq0WsCnN"
      },
      "outputs": [],
      "source": [
        "def encoder(vocab_size,\n",
        "            num_layers,\n",
        "            units,\n",
        "            d_model,\n",
        "            num_heads,\n",
        "            dropout,\n",
        "            name=\"encoder\"):\n",
        "  inputs = tf.keras.Input(shape=(None,), name=\"inputs\")\n",
        "\n",
        "  # 패딩 마스크 사용\n",
        "  padding_mask = tf.keras.Input(shape=(1, 1, None), name=\"padding_mask\")\n",
        "\n",
        "  # 임베딩 레이어\n",
        "  embeddings = tf.keras.layers.Embedding(vocab_size, d_model)(inputs)\n",
        "  embeddings *= tf.math.sqrt(tf.cast(d_model, tf.float32))\n",
        "\n",
        "  # 포지셔널 인코딩\n",
        "  embeddings = PositionalEncoding(vocab_size, d_model)(embeddings)\n",
        "\n",
        "  outputs = tf.keras.layers.Dropout(rate=dropout)(embeddings)\n",
        "\n",
        "  # num_layers만큼 쌓아올린 인코더의 층.\n",
        "  for i in range(num_layers):\n",
        "    outputs = encoder_layer(\n",
        "        units=units,\n",
        "        d_model=d_model,\n",
        "        num_heads=num_heads,\n",
        "        dropout=dropout,\n",
        "        name=\"encoder_layer_{}\".format(i),\n",
        "    )([outputs, padding_mask])\n",
        "\n",
        "  return tf.keras.Model(\n",
        "      inputs=[inputs, padding_mask], outputs=outputs, name=name)"
      ]
    },
    {
      "cell_type": "code",
      "execution_count": 29,
      "metadata": {
        "id": "5EDqz84frXLZ"
      },
      "outputs": [],
      "source": [
        "# 디코더 하나의 레이어를 함수로 구현.\n",
        "# 이 하나의 레이어 안에는 세 개의 서브 레이어가 존재합니다.\n",
        "def decoder_layer(units, d_model, num_heads, dropout, name=\"decoder_layer\"):\n",
        "  inputs = tf.keras.Input(shape=(None, d_model), name=\"inputs\")\n",
        "  enc_outputs = tf.keras.Input(shape=(None, d_model), name=\"encoder_outputs\")\n",
        "  look_ahead_mask = tf.keras.Input(\n",
        "      shape=(1, None, None), name=\"look_ahead_mask\")\n",
        "  padding_mask = tf.keras.Input(shape=(1, 1, None), name='padding_mask')\n",
        "\n",
        "  # 첫 번째 서브 레이어 : 멀티 헤드 어텐션 수행 (셀프 어텐션)\n",
        "  attention1 = MultiHeadAttention(\n",
        "      d_model, num_heads, name=\"attention_1\")(inputs={\n",
        "          'query': inputs,\n",
        "          'key': inputs,\n",
        "          'value': inputs,\n",
        "          'mask': look_ahead_mask\n",
        "      })\n",
        "\n",
        "  # 멀티 헤드 어텐션의 결과는 LayerNormalization이라는 훈련을 돕는 테크닉을 수행\n",
        "  attention1 = tf.keras.layers.LayerNormalization(\n",
        "      epsilon=1e-6)(attention1 + inputs)\n",
        "\n",
        "  # 두 번째 서브 레이어 : 마스크드 멀티 헤드 어텐션 수행 (인코더-디코더 어텐션)\n",
        "  attention2 = MultiHeadAttention(\n",
        "      d_model, num_heads, name=\"attention_2\")(inputs={\n",
        "          'query': attention1,\n",
        "          'key': enc_outputs,\n",
        "          'value': enc_outputs,\n",
        "          'mask': padding_mask\n",
        "      })\n",
        "\n",
        "  # 마스크드 멀티 헤드 어텐션의 결과는\n",
        "  # Dropout과 LayerNormalization이라는 훈련을 돕는 테크닉을 수행\n",
        "  attention2 = tf.keras.layers.Dropout(rate=dropout)(attention2)\n",
        "  attention2 = tf.keras.layers.LayerNormalization(\n",
        "      epsilon=1e-6)(attention2 + attention1)\n",
        "\n",
        "  # 세 번째 서브 레이어 : 2개의 완전연결층\n",
        "  outputs = tf.keras.layers.Dense(units=units, activation='relu')(attention2)\n",
        "  outputs = tf.keras.layers.Dense(units=d_model)(outputs)\n",
        "\n",
        "  # 완전연결층의 결과는 Dropout과 LayerNormalization 수행\n",
        "  outputs = tf.keras.layers.Dropout(rate=dropout)(outputs)\n",
        "  outputs = tf.keras.layers.LayerNormalization(\n",
        "      epsilon=1e-6)(outputs + attention2)\n",
        "\n",
        "  return tf.keras.Model(\n",
        "      inputs=[inputs, enc_outputs, look_ahead_mask, padding_mask],\n",
        "      outputs=outputs,\n",
        "      name=name)"
      ]
    },
    {
      "cell_type": "code",
      "execution_count": 30,
      "metadata": {
        "id": "cI43Sb1PsKcC"
      },
      "outputs": [],
      "source": [
        "def decoder(vocab_size,\n",
        "            num_layers,\n",
        "            units,\n",
        "            d_model,\n",
        "            num_heads,\n",
        "            dropout,\n",
        "            name='decoder'):\n",
        "  inputs = tf.keras.Input(shape=(None,), name='inputs')\n",
        "  enc_outputs = tf.keras.Input(shape=(None, d_model), name='encoder_outputs')\n",
        "  look_ahead_mask = tf.keras.Input(\n",
        "      shape=(1, None, None), name='look_ahead_mask')\n",
        "\n",
        "  # 패딩 마스크\n",
        "  padding_mask = tf.keras.Input(shape=(1, 1, None), name='padding_mask')\n",
        "  \n",
        "  # 임베딩 레이어\n",
        "  embeddings = tf.keras.layers.Embedding(vocab_size, d_model)(inputs)\n",
        "  embeddings *= tf.math.sqrt(tf.cast(d_model, tf.float32))\n",
        "\n",
        "  # 포지셔널 인코딩\n",
        "  embeddings = PositionalEncoding(vocab_size, d_model)(embeddings)\n",
        "\n",
        "  # Dropout이라는 훈련을 돕는 테크닉을 수행\n",
        "  outputs = tf.keras.layers.Dropout(rate=dropout)(embeddings)\n",
        "\n",
        "  for i in range(num_layers):\n",
        "    outputs = decoder_layer(\n",
        "        units=units,\n",
        "        d_model=d_model,\n",
        "        num_heads=num_heads,\n",
        "        dropout=dropout,\n",
        "        name='decoder_layer_{}'.format(i),\n",
        "    )(inputs=[outputs, enc_outputs, look_ahead_mask, padding_mask])\n",
        "\n",
        "  return tf.keras.Model(\n",
        "      inputs=[inputs, enc_outputs, look_ahead_mask, padding_mask],\n",
        "      outputs=outputs,\n",
        "      name=name)"
      ]
    },
    {
      "cell_type": "code",
      "execution_count": 31,
      "metadata": {
        "id": "GhRF-Uruqo19"
      },
      "outputs": [],
      "source": [
        "def transformer(vocab_size,\n",
        "                num_layers,\n",
        "                units,\n",
        "                d_model,\n",
        "                num_heads,\n",
        "                dropout,\n",
        "                name=\"transformer\"):\n",
        "  inputs = tf.keras.Input(shape=(None,), name=\"inputs\")\n",
        "  dec_inputs = tf.keras.Input(shape=(None,), name=\"dec_inputs\")\n",
        "\n",
        "  # 인코더에서 패딩을 위한 마스크\n",
        "  enc_padding_mask = tf.keras.layers.Lambda(\n",
        "      create_padding_mask, output_shape=(1, 1, None),\n",
        "      name='enc_padding_mask')(inputs)\n",
        "\n",
        "  # 디코더에서 미래의 토큰을 마스크 하기 위해서 사용합니다.\n",
        "  # 내부적으로 패딩 마스크도 포함되어져 있습니다.\n",
        "  look_ahead_mask = tf.keras.layers.Lambda(\n",
        "      create_look_ahead_mask,\n",
        "      output_shape=(1, None, None),\n",
        "      name='look_ahead_mask')(dec_inputs)\n",
        "\n",
        "  # 두 번째 어텐션 블록에서 인코더의 벡터들을 마스킹\n",
        "  # 디코더에서 패딩을 위한 마스크\n",
        "  dec_padding_mask = tf.keras.layers.Lambda(\n",
        "      create_padding_mask, output_shape=(1, 1, None),\n",
        "      name='dec_padding_mask')(inputs)\n",
        "\n",
        "  # 인코더\n",
        "  enc_outputs = encoder(\n",
        "      vocab_size=vocab_size,\n",
        "      num_layers=num_layers,\n",
        "      units=units,\n",
        "      d_model=d_model,\n",
        "      num_heads=num_heads,\n",
        "      dropout=dropout,\n",
        "  )(inputs=[inputs, enc_padding_mask])\n",
        "\n",
        "  # 디코더\n",
        "  dec_outputs = decoder(\n",
        "      vocab_size=vocab_size,\n",
        "      num_layers=num_layers,\n",
        "      units=units,\n",
        "      d_model=d_model,\n",
        "      num_heads=num_heads,\n",
        "      dropout=dropout,\n",
        "  )(inputs=[dec_inputs, enc_outputs, look_ahead_mask, dec_padding_mask])\n",
        "\n",
        "  # 완전연결층\n",
        "  outputs = tf.keras.layers.Dense(units=vocab_size, name=\"outputs\")(dec_outputs)\n",
        "\n",
        "  return tf.keras.Model(inputs=[inputs, dec_inputs], outputs=outputs, name=name)"
      ]
    },
    {
      "cell_type": "markdown",
      "metadata": {
        "id": "FV6aKI9JtBvj"
      },
      "source": [
        "# 1) 모델 생성\n",
        "num_layers, d-Model, units는 전부 사용자가 정할 수 있는 하이퍼파라미터 값입니다.\n",
        "\n",
        "논문에서 num_layers는 6, d-Model은 512였지만, 빠르고 원활한 훈련을 위해 여기서는 각 하이퍼파라미터를 논문에서보다는 작은 값을 사용합니다.\n",
        "\n",
        "> 원래 같으면 다시 논문대로 num_layers와 d-Model을 다시 올렸겠지만 여기에서는 LMS에 비해서 샘플 데이터가 작기 때문에 이대로 진행한다. <br><br> 그리고 이 가정을 확정하는 것이 아니라 첫번째 시도에서는 이 가정대로 두번째 시도에서는 논문에서 제시한 파라미터 값대로 총 두번을 시도하여 무엇이 더 적절한지 확인하고 선택할 예정이다."
      ]
    },
    {
      "cell_type": "markdown",
      "source": [
        "> 시도 결과 첫번째 시도가 더 좋은 결과를 가져오고 있다. 픽은 첫번째 시도인 LMS 그대로의 파라미터이다."
      ],
      "metadata": {
        "id": "XJxiJgkl5VLf"
      }
    },
    {
      "cell_type": "code",
      "execution_count": 32,
      "metadata": {
        "colab": {
          "base_uri": "https://localhost:8080/"
        },
        "id": "_UEXqUAXqK0r",
        "outputId": "073858a2-777f-42c0-e5b1-86c8e9d5ca91"
      },
      "outputs": [
        {
          "output_type": "stream",
          "name": "stdout",
          "text": [
            "Model: \"transformer\"\n",
            "__________________________________________________________________________________________________\n",
            " Layer (type)                   Output Shape         Param #     Connected to                     \n",
            "==================================================================================================\n",
            " inputs (InputLayer)            [(None, None)]       0           []                               \n",
            "                                                                                                  \n",
            " dec_inputs (InputLayer)        [(None, None)]       0           []                               \n",
            "                                                                                                  \n",
            " enc_padding_mask (Lambda)      (None, 1, 1, None)   0           ['inputs[0][0]']                 \n",
            "                                                                                                  \n",
            " encoder (Functional)           (None, None, 256)    3144192     ['inputs[0][0]',                 \n",
            "                                                                  'enc_padding_mask[0][0]']       \n",
            "                                                                                                  \n",
            " look_ahead_mask (Lambda)       (None, 1, None, Non  0           ['dec_inputs[0][0]']             \n",
            "                                e)                                                                \n",
            "                                                                                                  \n",
            " dec_padding_mask (Lambda)      (None, 1, 1, None)   0           ['inputs[0][0]']                 \n",
            "                                                                                                  \n",
            " decoder (Functional)           (None, None, 256)    3671552     ['dec_inputs[0][0]',             \n",
            "                                                                  'encoder[0][0]',                \n",
            "                                                                  'look_ahead_mask[0][0]',        \n",
            "                                                                  'dec_padding_mask[0][0]']       \n",
            "                                                                                                  \n",
            " outputs (Dense)                (None, None, 8164)   2098148     ['decoder[0][0]']                \n",
            "                                                                                                  \n",
            "==================================================================================================\n",
            "Total params: 8,913,892\n",
            "Trainable params: 8,913,892\n",
            "Non-trainable params: 0\n",
            "__________________________________________________________________________________________________\n"
          ]
        }
      ],
      "source": [
        "tf.keras.backend.clear_session()\n",
        "\n",
        "# 하이퍼파라미터\n",
        "NUM_LAYERS = 2 # 인코더와 디코더의 층의 개수\n",
        "D_MODEL = 256 # 인코더와 디코더 내부의 입, 출력의 고정 차원\n",
        "NUM_HEADS = 8 # 멀티 헤드 어텐션에서의 헤드 수 \n",
        "UNITS = 512 # 피드 포워드 신경망의 은닉층의 크기\n",
        "DROPOUT = 0.1 # 드롭아웃의 비율\n",
        "\n",
        "model = transformer(\n",
        "    vocab_size=VOCAB_SIZE,\n",
        "    num_layers=NUM_LAYERS,\n",
        "    units=UNITS,\n",
        "    d_model=D_MODEL,\n",
        "    num_heads=NUM_HEADS,\n",
        "    dropout=DROPOUT)\n",
        "\n",
        "model.summary()"
      ]
    },
    {
      "cell_type": "markdown",
      "metadata": {
        "id": "FUEVpx8Ys-ej"
      },
      "source": [
        "### 2) 손실함수"
      ]
    },
    {
      "cell_type": "code",
      "execution_count": 33,
      "metadata": {
        "id": "GDo_IQ6isZH5"
      },
      "outputs": [],
      "source": [
        "def loss_function(y_true, y_pred):\n",
        "  y_true = tf.reshape(y_true, shape=(-1, MAX_LENGTH - 1))\n",
        "\n",
        "  loss = tf.keras.losses.SparseCategoricalCrossentropy(\n",
        "      from_logits=True, reduction='none')(y_true, y_pred)\n",
        "\n",
        "  mask = tf.cast(tf.not_equal(y_true, 0), tf.float32)\n",
        "  loss = tf.multiply(loss, mask)\n",
        "\n",
        "  return tf.reduce_mean(loss)"
      ]
    },
    {
      "cell_type": "markdown",
      "metadata": {
        "id": "lbOf5_b4tGzF"
      },
      "source": [
        "## 커스텀 된 학습률(Learning rate)"
      ]
    },
    {
      "cell_type": "code",
      "execution_count": 34,
      "metadata": {
        "id": "KzQnY0FZsecv"
      },
      "outputs": [],
      "source": [
        "class CustomSchedule(tf.keras.optimizers.schedules.LearningRateSchedule):\n",
        "\n",
        "  def __init__(self, d_model, warmup_steps=4000):\n",
        "    super(CustomSchedule, self).__init__()\n",
        "    self.d_model = d_model\n",
        "    self.d_model = tf.cast(self.d_model, tf.float32)\n",
        "    self.warmup_steps = warmup_steps\n",
        "\n",
        "  def __call__(self, step):\n",
        "    arg1 = tf.math.rsqrt(step)\n",
        "    arg2 = step * (self.warmup_steps**-1.5)\n",
        "\n",
        "    return tf.math.rsqrt(self.d_model) * tf.math.minimum(arg1, arg2)"
      ]
    },
    {
      "cell_type": "code",
      "execution_count": 35,
      "metadata": {
        "colab": {
          "base_uri": "https://localhost:8080/",
          "height": 297
        },
        "id": "-y9i80mDsfpN",
        "outputId": "319bc5c4-2b4b-476a-fb37-1c0b2a44e9ec"
      },
      "outputs": [
        {
          "output_type": "execute_result",
          "data": {
            "text/plain": [
              "Text(0.5, 0, 'Train Step')"
            ]
          },
          "metadata": {},
          "execution_count": 35
        },
        {
          "output_type": "display_data",
          "data": {
            "text/plain": [
              "<Figure size 432x288 with 1 Axes>"
            ],
            "image/png": "[encoded data removed]"
          },
          "metadata": {
            "needs_background": "light"
          }
        }
      ],
      "source": [
        "sample_learning_rate = CustomSchedule(d_model=128)\n",
        "\n",
        "plt.plot(sample_learning_rate(tf.range(200000, dtype=tf.float32)))\n",
        "plt.ylabel(\"Learning Rate\")\n",
        "plt.xlabel(\"Train Step\")"
      ]
    },
    {
      "cell_type": "markdown",
      "metadata": {
        "id": "vav20nB6tQ0w"
      },
      "source": [
        "## 모델 컴파일"
      ]
    },
    {
      "cell_type": "code",
      "execution_count": 36,
      "metadata": {
        "id": "kkp2Gx3BtOxq"
      },
      "outputs": [],
      "source": [
        "learning_rate = CustomSchedule(D_MODEL)\n",
        "\n",
        "optimizer = tf.keras.optimizers.Adam(\n",
        "    learning_rate, beta_1=0.9, beta_2=0.98, epsilon=1e-9)\n",
        "\n",
        "def accuracy(y_true, y_pred):\n",
        "  y_true = tf.reshape(y_true, shape=(-1, MAX_LENGTH - 1))\n",
        "  return tf.keras.metrics.sparse_categorical_accuracy(y_true, y_pred)\n",
        "\n",
        "model.compile(optimizer=optimizer, loss=loss_function, metrics=[accuracy])"
      ]
    },
    {
      "cell_type": "code",
      "execution_count": 37,
      "metadata": {
        "colab": {
          "base_uri": "https://localhost:8080/"
        },
        "id": "1Mw7_M0GtV0r",
        "outputId": "ec1e31b5-1d41-46c4-ed98-1c499cabf246"
      },
      "outputs": [
        {
          "output_type": "stream",
          "name": "stdout",
          "text": [
            "Epoch 1/500\n",
            "93/93 [==============================] - 32s 260ms/step - loss: 3.9254 - accuracy: 0.0450\n",
            "Epoch 2/500\n",
            "93/93 [==============================] - 23s 248ms/step - loss: 3.5585 - accuracy: 0.1149\n",
            "Epoch 3/500\n",
            "93/93 [==============================] - 23s 249ms/step - loss: 3.1751 - accuracy: 0.1283\n",
            "Epoch 4/500\n",
            "93/93 [==============================] - 24s 261ms/step - loss: 2.8475 - accuracy: 0.1298\n",
            "Epoch 5/500\n",
            "93/93 [==============================] - 24s 253ms/step - loss: 2.6191 - accuracy: 0.1305\n",
            "Epoch 6/500\n",
            "93/93 [==============================] - 23s 247ms/step - loss: 2.4614 - accuracy: 0.1360\n",
            "Epoch 7/500\n",
            "93/93 [==============================] - 23s 244ms/step - loss: 2.3468 - accuracy: 0.1440\n",
            "Epoch 8/500\n",
            "93/93 [==============================] - 23s 248ms/step - loss: 2.2440 - accuracy: 0.1502\n",
            "Epoch 9/500\n",
            "93/93 [==============================] - 23s 249ms/step - loss: 2.1389 - accuracy: 0.1575\n",
            "Epoch 10/500\n",
            "93/93 [==============================] - 23s 250ms/step - loss: 2.0305 - accuracy: 0.1668\n",
            "Epoch 11/500\n",
            "93/93 [==============================] - 23s 248ms/step - loss: 1.9140 - accuracy: 0.1783\n",
            "Epoch 12/500\n",
            "93/93 [==============================] - 23s 252ms/step - loss: 1.7904 - accuracy: 0.1914\n",
            "Epoch 13/500\n",
            "93/93 [==============================] - 23s 248ms/step - loss: 1.6587 - accuracy: 0.2060\n",
            "Epoch 14/500\n",
            "93/93 [==============================] - 23s 249ms/step - loss: 1.5219 - accuracy: 0.2210\n",
            "Epoch 15/500\n",
            "93/93 [==============================] - 23s 250ms/step - loss: 1.3819 - accuracy: 0.2374\n",
            "Epoch 16/500\n",
            "93/93 [==============================] - 23s 248ms/step - loss: 1.2389 - accuracy: 0.2552\n",
            "Epoch 17/500\n",
            "93/93 [==============================] - 24s 253ms/step - loss: 1.0972 - accuracy: 0.2737\n",
            "Epoch 18/500\n",
            "93/93 [==============================] - 23s 248ms/step - loss: 0.9586 - accuracy: 0.2934\n",
            "Epoch 19/500\n",
            "93/93 [==============================] - 23s 248ms/step - loss: 0.8198 - accuracy: 0.3139\n",
            "Epoch 20/500\n",
            "93/93 [==============================] - 23s 247ms/step - loss: 0.6898 - accuracy: 0.3348\n",
            "Epoch 21/500\n",
            "93/93 [==============================] - 24s 256ms/step - loss: 0.5660 - accuracy: 0.3555\n",
            "Epoch 22/500\n",
            "93/93 [==============================] - 23s 250ms/step - loss: 0.4535 - accuracy: 0.3751\n",
            "Epoch 23/500\n",
            "93/93 [==============================] - 24s 263ms/step - loss: 0.3572 - accuracy: 0.3918\n",
            "Epoch 24/500\n",
            "93/93 [==============================] - 24s 258ms/step - loss: 0.2725 - accuracy: 0.4080\n",
            "Epoch 25/500\n",
            "93/93 [==============================] - 25s 270ms/step - loss: 0.2036 - accuracy: 0.4205\n",
            "Epoch 26/500\n",
            "93/93 [==============================] - 26s 275ms/step - loss: 0.1512 - accuracy: 0.4297\n",
            "Epoch 27/500\n",
            "93/93 [==============================] - 24s 261ms/step - loss: 0.1134 - accuracy: 0.4349\n",
            "Epoch 28/500\n",
            "93/93 [==============================] - 23s 252ms/step - loss: 0.0904 - accuracy: 0.4381\n",
            "Epoch 29/500\n",
            "93/93 [==============================] - 24s 254ms/step - loss: 0.0720 - accuracy: 0.4401\n",
            "Epoch 30/500\n",
            "93/93 [==============================] - 24s 262ms/step - loss: 0.0629 - accuracy: 0.4410\n",
            "Epoch 31/500\n",
            "93/93 [==============================] - 23s 250ms/step - loss: 0.0566 - accuracy: 0.4415\n",
            "Epoch 32/500\n",
            "93/93 [==============================] - 23s 251ms/step - loss: 0.0519 - accuracy: 0.4420\n",
            "Epoch 33/500\n",
            "93/93 [==============================] - 24s 256ms/step - loss: 0.0466 - accuracy: 0.4429\n",
            "Epoch 34/500\n",
            "93/93 [==============================] - 24s 253ms/step - loss: 0.0435 - accuracy: 0.4435\n",
            "Epoch 35/500\n",
            "93/93 [==============================] - 24s 257ms/step - loss: 0.0441 - accuracy: 0.4429\n",
            "Epoch 36/500\n",
            "93/93 [==============================] - 25s 264ms/step - loss: 0.0432 - accuracy: 0.4429\n",
            "Epoch 37/500\n",
            "93/93 [==============================] - 24s 258ms/step - loss: 0.0413 - accuracy: 0.4430\n",
            "Epoch 38/500\n",
            "93/93 [==============================] - 24s 260ms/step - loss: 0.0404 - accuracy: 0.4434\n",
            "Epoch 39/500\n",
            "93/93 [==============================] - 25s 264ms/step - loss: 0.0391 - accuracy: 0.4434\n",
            "Epoch 40/500\n",
            "93/93 [==============================] - 24s 259ms/step - loss: 0.0378 - accuracy: 0.4437\n",
            "Epoch 41/500\n",
            "93/93 [==============================] - 25s 263ms/step - loss: 0.0375 - accuracy: 0.4438\n",
            "Epoch 42/500\n",
            "93/93 [==============================] - 24s 255ms/step - loss: 0.0378 - accuracy: 0.4434\n",
            "Epoch 43/500\n",
            "93/93 [==============================] - 24s 258ms/step - loss: 0.0387 - accuracy: 0.4434\n",
            "Epoch 43: early stopping\n"
          ]
        }
      ],
      "source": [
        "EPOCHS = 500\n",
        "es = EarlyStopping(monitor='loss', patience=2, verbose=1)\n",
        "history = model.fit(dataset, epochs=EPOCHS, callbacks=[es])"
      ]
    },
    {
      "cell_type": "code",
      "execution_count": 38,
      "metadata": {
        "colab": {
          "base_uri": "https://localhost:8080/",
          "height": 265
        },
        "id": "CunxkP4XNvGy",
        "outputId": "4ae9e318-6231-41a8-988c-9fdb3a4701a7"
      },
      "outputs": [
        {
          "output_type": "display_data",
          "data": {
            "text/plain": [
              "<Figure size 432x288 with 1 Axes>"
            ],
            "image/png": "[encoded data removed]"
          },
          "metadata": {
            "needs_background": "light"
          }
        }
      ],
      "source": [
        "plt.plot(history.history['loss'], label='loss')\n",
        "plt.plot(history.history['accuracy'], label='accuracy')\n",
        "plt.legend()\n",
        "plt.show()"
      ]
    },
    {
      "cell_type": "markdown",
      "source": [
        "- 첫번째 시도\n",
        "  - ![image.png](data:image/png;base64,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)"
      ],
      "metadata": {
        "id": "qf9NFjBWkUb5"
      }
    },
    {
      "cell_type": "markdown",
      "source": [
        "- 두번째 시도\n",
        "  - ![image.png](data:image/png;base64,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)"
      ],
      "metadata": {
        "id": "NxVf0XpB4zfu"
      }
    },
    {
      "cell_type": "markdown",
      "source": [
        "> 이걸로는 서로 비슷하기 때문에 첫번째 시도가 좋은지 두번째 시도가 좋은지 알 수 없다. 번역 결과를 확인해보겠다."
      ],
      "metadata": {
        "id": "Qrvgyf0u5CHZ"
      }
    },
    {
      "cell_type": "markdown",
      "metadata": {
        "id": "Kfb35Z9Ik93q"
      },
      "source": [
        "## 6. 모델 평가하기"
      ]
    },
    {
      "cell_type": "code",
      "execution_count": 39,
      "metadata": {
        "id": "XBGXio3mkKr1"
      },
      "outputs": [],
      "source": [
        "def decoder_inference(sentence):\n",
        "  sentence = preprocess_sentence(sentence)\n",
        "\n",
        "  # 입력된 문장을 정수 인코딩 후, 시작 토큰과 종료 토큰을 앞뒤로 추가.\n",
        "  # ex) Where have you been? → [[8331   86   30    5 1059    7 8332]]\n",
        "  sentence = tf.expand_dims(\n",
        "      START_TOKEN + tokenizer.encode(sentence) + END_TOKEN, axis=0)\n",
        "\n",
        "  # 디코더의 현재까지의 예측한 출력 시퀀스가 지속적으로 저장되는 변수.\n",
        "  # 처음에는 예측한 내용이 없음으로 시작 토큰만 별도 저장. ex) 8331\n",
        "  output_sequence = tf.expand_dims(START_TOKEN, 0)\n",
        "\n",
        "  # 디코더의 인퍼런스 단계\n",
        "  for i in range(MAX_LENGTH):\n",
        "    # 디코더는 최대 MAX_LENGTH의 길이만큼 다음 단어 예측을 반복합니다.\n",
        "    predictions = model(inputs=[sentence, output_sequence], training=False)\n",
        "    predictions = predictions[:, -1:, :]\n",
        "\n",
        "    # 현재 예측한 단어의 정수\n",
        "    predicted_id = tf.cast(tf.argmax(predictions, axis=-1), tf.int32)\n",
        "\n",
        "    # 만약 현재 예측한 단어가 종료 토큰이라면 for문을 종료\n",
        "    if tf.equal(predicted_id, END_TOKEN[0]):\n",
        "      break\n",
        "\n",
        "    # 예측한 단어들은 지속적으로 output_sequence에 추가됩니다.\n",
        "    # 이 output_sequence는 다시 디코더의 입력이 됩니다.\n",
        "    output_sequence = tf.concat([output_sequence, predicted_id], axis=-1)\n",
        "\n",
        "  return tf.squeeze(output_sequence, axis=0)"
      ]
    },
    {
      "cell_type": "code",
      "execution_count": 40,
      "metadata": {
        "id": "bC_Dar5Ttatw"
      },
      "outputs": [],
      "source": [
        "def sentence_generation(sentence):\n",
        "  # 입력 문장에 대해서 디코더를 동작 시켜 예측된 정수 시퀀스를 리턴받습니다.\n",
        "  prediction = decoder_inference(sentence)\n",
        "\n",
        "  # 정수 시퀀스를 다시 텍스트 시퀀스로 변환합니다.\n",
        "  predicted_sentence = tokenizer.decode(\n",
        "      [i for i in prediction if i < tokenizer.vocab_size])\n",
        "\n",
        "  print('입력 : {}'.format(sentence))\n",
        "  print('출력 : {}'.format(predicted_sentence))\n",
        "\n",
        "  return predicted_sentence\n"
      ]
    },
    {
      "cell_type": "code",
      "execution_count": 48,
      "metadata": {
        "colab": {
          "base_uri": "https://localhost:8080/",
          "height": 72
        },
        "id": "cnvyfqZjKC1Q",
        "outputId": "3192d4b0-52ee-4433-815d-f87cceb0f8d6"
      },
      "outputs": [
        {
          "output_type": "stream",
          "name": "stdout",
          "text": [
            "입력 : 어디에 투자를 하면 좋을까?\n",
            "출력 : 그쪽 방면에 대한 지식이 있었으면 좋겠네요 .\n"
          ]
        },
        {
          "output_type": "execute_result",
          "data": {
            "text/plain": [
              "'그쪽 방면에 대한 지식이 있었으면 좋겠네요 .'"
            ],
            "application/vnd.google.colaboratory.intrinsic+json": {
              "type": "string"
            }
          },
          "metadata": {},
          "execution_count": 48
        }
      ],
      "source": [
        "sentence_generation('어디에 투자를 하면 좋을까?')"
      ]
    },
    {
      "cell_type": "code",
      "execution_count": 42,
      "metadata": {
        "id": "5O8nr1wpTu7E",
        "colab": {
          "base_uri": "https://localhost:8080/",
          "height": 72
        },
        "outputId": "e5f6067c-fd92-41ff-fd54-9f2a680dd29f"
      },
      "outputs": [
        {
          "output_type": "stream",
          "name": "stdout",
          "text": [
            "입력 : 삼성전자는 어때?\n",
            "출력 : 많이 피곤한가봐요 .\n"
          ]
        },
        {
          "output_type": "execute_result",
          "data": {
            "text/plain": [
              "'많이 피곤한가봐요 .'"
            ],
            "application/vnd.google.colaboratory.intrinsic+json": {
              "type": "string"
            }
          },
          "metadata": {},
          "execution_count": 42
        }
      ],
      "source": [
        "sentence_generation('삼성전자는 어때?')"
      ]
    },
    {
      "cell_type": "code",
      "source": [
        "sentence_generation('어디로 여행갈까?')"
      ],
      "metadata": {
        "colab": {
          "base_uri": "https://localhost:8080/",
          "height": 72
        },
        "id": "I5dZq4OdbkHE",
        "outputId": "fadd7e46-c288-46fc-951b-62618edb9fe5"
      },
      "execution_count": 43,
      "outputs": [
        {
          "output_type": "stream",
          "name": "stdout",
          "text": [
            "입력 : 어디로 여행갈까?\n",
            "출력 : 안 좋은 회사네요 .\n"
          ]
        },
        {
          "output_type": "execute_result",
          "data": {
            "text/plain": [
              "'안 좋은 회사네요 .'"
            ],
            "application/vnd.google.colaboratory.intrinsic+json": {
              "type": "string"
            }
          },
          "metadata": {},
          "execution_count": 43
        }
      ]
    },
    {
      "cell_type": "code",
      "source": [
        "sentence_generation('쉬는날 뭐할까?')"
      ],
      "metadata": {
        "colab": {
          "base_uri": "https://localhost:8080/",
          "height": 72
        },
        "id": "n4sUzSpYbofb",
        "outputId": "b8bd7978-1361-4ea7-badc-fd6ed44d7bc5"
      },
      "execution_count": 44,
      "outputs": [
        {
          "output_type": "stream",
          "name": "stdout",
          "text": [
            "입력 : 쉬는날 뭐할까?\n",
            "출력 : 더 좋은 사람 만날 거예요 .\n"
          ]
        },
        {
          "output_type": "execute_result",
          "data": {
            "text/plain": [
              "'더 좋은 사람 만날 거예요 .'"
            ],
            "application/vnd.google.colaboratory.intrinsic+json": {
              "type": "string"
            }
          },
          "metadata": {},
          "execution_count": 44
        }
      ]
    },
    {
      "cell_type": "code",
      "source": [
        "sentence_generation('나는 누구지')"
      ],
      "metadata": {
        "colab": {
          "base_uri": "https://localhost:8080/",
          "height": 72
        },
        "id": "I6NIg5g2bshU",
        "outputId": "b1646d3c-d042-4055-8735-3f12a139fa25"
      },
      "execution_count": 45,
      "outputs": [
        {
          "output_type": "stream",
          "name": "stdout",
          "text": [
            "입력 : 나는 누구지\n",
            "출력 : 저는 위로해드리는 로봇이에요 .\n"
          ]
        },
        {
          "output_type": "execute_result",
          "data": {
            "text/plain": [
              "'저는 위로해드리는 로봇이에요 .'"
            ],
            "application/vnd.google.colaboratory.intrinsic+json": {
              "type": "string"
            }
          },
          "metadata": {},
          "execution_count": 45
        }
      ]
    },
    {
      "cell_type": "code",
      "source": [
        "sentence_generation('너 자신을 알라')"
      ],
      "metadata": {
        "colab": {
          "base_uri": "https://localhost:8080/",
          "height": 72
        },
        "id": "UgdBHHfEbx8S",
        "outputId": "ecb7ca58-2465-425f-87ac-da3631908eea"
      },
      "execution_count": 46,
      "outputs": [
        {
          "output_type": "stream",
          "name": "stdout",
          "text": [
            "입력 : 너 자신을 알라\n",
            "출력 : 옳소 .\n"
          ]
        },
        {
          "output_type": "execute_result",
          "data": {
            "text/plain": [
              "'옳소 .'"
            ],
            "application/vnd.google.colaboratory.intrinsic+json": {
              "type": "string"
            }
          },
          "metadata": {},
          "execution_count": 46
        }
      ]
    },
    {
      "cell_type": "markdown",
      "source": [
        "- 첫번째 시도\n",
        "  - ![image.png](data:image/png;base64,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)"
      ],
      "metadata": {
        "id": "DbYG0JL9kfCb"
      }
    },
    {
      "cell_type": "markdown",
      "source": [
        "- 두번째 시도 \n",
        "  - ![image.png](data:image/png;base64,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)"
      ],
      "metadata": {
        "id": "HEgk1jDm4-rw"
      }
    },
    {
      "cell_type": "markdown",
      "source": [
        "> 확실히 첫번째 시도가 챗붓 성능이 더 좋은 것을 확인했다. 두번째 시도는 첫번째 시도보다 조금 더 오버피팅이 된 듯 하다."
      ],
      "metadata": {
        "id": "n9BwL_uu5LqR"
      }
    },
    {
      "cell_type": "code",
      "source": [],
      "metadata": {
        "id": "_QCa5_0lkhOi"
      },
      "execution_count": 46,
      "outputs": []
    }
  ],
  "metadata": {
    "accelerator": "TPU",
    "colab": {
      "machine_shape": "hm",
      "provenance": [],
      "collapsed_sections": [],
      "mount_file_id": "16Mqn1BGgyr7_2ZK8JUm2kbkU0nrlHMc4",
      "authorship_tag": "ABX9TyN7CxoV2r7PRbDZi5oeG8uS",
      "include_colab_link": true
    },
    "kernelspec": {
      "display_name": "Python 3",
      "name": "python3"
    },
    "language_info": {
      "name": "python"
    }
  },
  "nbformat": 4,
  "nbformat_minor": 0
}