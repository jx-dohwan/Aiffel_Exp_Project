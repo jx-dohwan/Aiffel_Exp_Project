{
  "nbformat": 4,
  "nbformat_minor": 0,
  "metadata": {
    "colab": {
      "provenance": [],
      "collapsed_sections": [],
      "machine_shape": "hm",
      "mount_file_id": "1azH5msoBivQsqi5ygvATQPvB01PkKmL5",
      "authorship_tag": "ABX9TyNDiIOeyx+isVl3zg240ZL8",
      "include_colab_link": true
    },
    "kernelspec": {
      "name": "python3",
      "display_name": "Python 3"
    },
    "language_info": {
      "name": "python"
    },
    "accelerator": "GPU",
    "gpuClass": "standard"
  },
  "cells": [
    {
      "cell_type": "markdown",
      "metadata": {
        "id": "view-in-github",
        "colab_type": "text"
      },
      "source": [
        "<a href=\"https://colab.research.google.com/github/jx-dohwan/Aiffel_EGLMS_Project/blob/main/%5BEXP_15%5DCompare_different_OCR_models.ipynb\" target=\"_parent\"><img src=\"https://colab.research.google.com/assets/colab-badge.svg\" alt=\"Open In Colab\"/></a>"
      ]
    },
    {
      "cell_type": "markdown",
      "source": [
        "# [EXP_15]Compare_different_OCR_models"
      ],
      "metadata": {
        "id": "xggEIOntG9EN"
      }
    },
    {
      "cell_type": "markdown",
      "source": [
        "우리는 지금까지 Google OCR API, keras-ocr, Tesseract 이상 3가지의 OCR 기능을 간단히 활용하여 보았습니다.\n",
        "\n",
        "3가지를 검증해 보는 프로젝트를 진행하겠습니다. 여러분은 OCR 기능을 활용한 서비스를 빠르게 개발해야 하는 임무를 맡은 엔지니어가 되어, 어떤 모듈을 도입하면 좋을지 기술검증을 하는 역할을 맡게 되었다고 가정합니다."
      ],
      "metadata": {
        "id": "bTKaGEvSI9GN"
      }
    },
    {
      "cell_type": "markdown",
      "source": [
        "## 1. 필요한 라이브러리 다운로드 및 import"
      ],
      "metadata": {
        "id": "IJASD0K2KDfL"
      }
    },
    {
      "cell_type": "code",
      "source": [
        "!pip install google-api-python-client google-cloud-vision\n",
        "!pip install keras_ocr matplotlib==3.3.0\n",
        "!apt install tesseract-ocr\n",
        "!apt install libtesseract-dev\n",
        "!pip install pytesseract\n",
        "!pip install Pillow==9.0.0"
      ],
      "metadata": {
        "colab": {
          "base_uri": "https://localhost:8080/"
        },
        "id": "2R6IYD1lJcrc",
        "outputId": "fd2408b1-6741-4790-cea7-ef6cc93a94a7"
      },
      "execution_count": 1,
      "outputs": [
        {
          "output_type": "stream",
          "name": "stdout",
          "text": [
            "Looking in indexes: https://pypi.org/simple, https://us-python.pkg.dev/colab-wheels/public/simple/\n",
            "Requirement already satisfied: google-api-python-client in /usr/local/lib/python3.7/dist-packages (2.61.0)\n",
            "Requirement already satisfied: google-cloud-vision in /usr/local/lib/python3.7/dist-packages (3.1.1)\n",
            "Requirement already satisfied: google-api-core!=2.0.*,!=2.1.*,!=2.2.*,!=2.3.0,<3.0.0dev,>=1.31.5 in /usr/local/lib/python3.7/dist-packages (from google-api-python-client) (2.10.0)\n",
            "Requirement already satisfied: httplib2<1dev,>=0.15.0 in /usr/local/lib/python3.7/dist-packages (from google-api-python-client) (0.17.4)\n",
            "Requirement already satisfied: uritemplate<5,>=3.0.1 in /usr/local/lib/python3.7/dist-packages (from google-api-python-client) (3.0.1)\n",
            "Requirement already satisfied: google-auth-httplib2>=0.1.0 in /usr/local/lib/python3.7/dist-packages (from google-api-python-client) (0.1.0)\n",
            "Requirement already satisfied: google-auth<3.0.0dev,>=1.19.0 in /usr/local/lib/python3.7/dist-packages (from google-api-python-client) (1.35.0)\n",
            "Requirement already satisfied: requests<3.0.0dev,>=2.18.0 in /usr/local/lib/python3.7/dist-packages (from google-api-core!=2.0.*,!=2.1.*,!=2.2.*,!=2.3.0,<3.0.0dev,>=1.31.5->google-api-python-client) (2.23.0)\n",
            "Requirement already satisfied: googleapis-common-protos<2.0dev,>=1.56.2 in /usr/local/lib/python3.7/dist-packages (from google-api-core!=2.0.*,!=2.1.*,!=2.2.*,!=2.3.0,<3.0.0dev,>=1.31.5->google-api-python-client) (1.56.4)\n",
            "Requirement already satisfied: protobuf<5.0.0dev,>=3.20.1 in /usr/local/lib/python3.7/dist-packages (from google-api-core!=2.0.*,!=2.1.*,!=2.2.*,!=2.3.0,<3.0.0dev,>=1.31.5->google-api-python-client) (3.20.2)\n",
            "Requirement already satisfied: six>=1.9.0 in /usr/local/lib/python3.7/dist-packages (from google-auth<3.0.0dev,>=1.19.0->google-api-python-client) (1.15.0)\n",
            "Requirement already satisfied: cachetools<5.0,>=2.0.0 in /usr/local/lib/python3.7/dist-packages (from google-auth<3.0.0dev,>=1.19.0->google-api-python-client) (4.2.4)\n",
            "Requirement already satisfied: rsa<5,>=3.1.4 in /usr/local/lib/python3.7/dist-packages (from google-auth<3.0.0dev,>=1.19.0->google-api-python-client) (4.9)\n",
            "Requirement already satisfied: pyasn1-modules>=0.2.1 in /usr/local/lib/python3.7/dist-packages (from google-auth<3.0.0dev,>=1.19.0->google-api-python-client) (0.2.8)\n",
            "Requirement already satisfied: setuptools>=40.3.0 in /usr/local/lib/python3.7/dist-packages (from google-auth<3.0.0dev,>=1.19.0->google-api-python-client) (57.4.0)\n",
            "Requirement already satisfied: pyasn1<0.5.0,>=0.4.6 in /usr/local/lib/python3.7/dist-packages (from pyasn1-modules>=0.2.1->google-auth<3.0.0dev,>=1.19.0->google-api-python-client) (0.4.8)\n",
            "Requirement already satisfied: urllib3!=1.25.0,!=1.25.1,<1.26,>=1.21.1 in /usr/local/lib/python3.7/dist-packages (from requests<3.0.0dev,>=2.18.0->google-api-core!=2.0.*,!=2.1.*,!=2.2.*,!=2.3.0,<3.0.0dev,>=1.31.5->google-api-python-client) (1.24.3)\n",
            "Requirement already satisfied: certifi>=2017.4.17 in /usr/local/lib/python3.7/dist-packages (from requests<3.0.0dev,>=2.18.0->google-api-core!=2.0.*,!=2.1.*,!=2.2.*,!=2.3.0,<3.0.0dev,>=1.31.5->google-api-python-client) (2022.6.15)\n",
            "Requirement already satisfied: chardet<4,>=3.0.2 in /usr/local/lib/python3.7/dist-packages (from requests<3.0.0dev,>=2.18.0->google-api-core!=2.0.*,!=2.1.*,!=2.2.*,!=2.3.0,<3.0.0dev,>=1.31.5->google-api-python-client) (3.0.4)\n",
            "Requirement already satisfied: idna<3,>=2.5 in /usr/local/lib/python3.7/dist-packages (from requests<3.0.0dev,>=2.18.0->google-api-core!=2.0.*,!=2.1.*,!=2.2.*,!=2.3.0,<3.0.0dev,>=1.31.5->google-api-python-client) (2.10)\n",
            "Requirement already satisfied: proto-plus<2.0.0dev,>=1.22.0 in /usr/local/lib/python3.7/dist-packages (from google-cloud-vision) (1.22.1)\n",
            "Requirement already satisfied: grpcio-status<2.0dev,>=1.33.2 in /usr/local/lib/python3.7/dist-packages (from google-api-core!=2.0.*,!=2.1.*,!=2.2.*,!=2.3.0,<3.0.0dev,>=1.31.5->google-api-python-client) (1.48.1)\n",
            "Requirement already satisfied: grpcio<2.0dev,>=1.33.2 in /usr/local/lib/python3.7/dist-packages (from google-api-core!=2.0.*,!=2.1.*,!=2.2.*,!=2.3.0,<3.0.0dev,>=1.31.5->google-api-python-client) (1.48.1)\n",
            "Looking in indexes: https://pypi.org/simple, https://us-python.pkg.dev/colab-wheels/public/simple/\n",
            "Requirement already satisfied: keras_ocr in /usr/local/lib/python3.7/dist-packages (0.9.1)\n",
            "Requirement already satisfied: matplotlib==3.3.0 in /usr/local/lib/python3.7/dist-packages (3.3.0)\n",
            "Requirement already satisfied: cycler>=0.10 in /usr/local/lib/python3.7/dist-packages (from matplotlib==3.3.0) (0.11.0)\n",
            "Requirement already satisfied: numpy>=1.15 in /usr/local/lib/python3.7/dist-packages (from matplotlib==3.3.0) (1.21.6)\n",
            "Requirement already satisfied: pillow>=6.2.0 in /usr/local/lib/python3.7/dist-packages (from matplotlib==3.3.0) (9.0.0)\n",
            "Requirement already satisfied: python-dateutil>=2.1 in /usr/local/lib/python3.7/dist-packages (from matplotlib==3.3.0) (2.8.2)\n",
            "Requirement already satisfied: pyparsing!=2.0.4,!=2.1.2,!=2.1.6,>=2.0.3 in /usr/local/lib/python3.7/dist-packages (from matplotlib==3.3.0) (3.0.9)\n",
            "Requirement already satisfied: kiwisolver>=1.0.1 in /usr/local/lib/python3.7/dist-packages (from matplotlib==3.3.0) (1.4.4)\n",
            "Requirement already satisfied: typing-extensions in /usr/local/lib/python3.7/dist-packages (from kiwisolver>=1.0.1->matplotlib==3.3.0) (4.1.1)\n",
            "Requirement already satisfied: six>=1.5 in /usr/local/lib/python3.7/dist-packages (from python-dateutil>=2.1->matplotlib==3.3.0) (1.15.0)\n",
            "Requirement already satisfied: validators in /usr/local/lib/python3.7/dist-packages (from keras_ocr) (0.20.0)\n",
            "Requirement already satisfied: pyclipper in /usr/local/lib/python3.7/dist-packages (from keras_ocr) (1.3.0.post3)\n",
            "Requirement already satisfied: efficientnet==1.0.0 in /usr/local/lib/python3.7/dist-packages (from keras_ocr) (1.0.0)\n",
            "Requirement already satisfied: essential_generators in /usr/local/lib/python3.7/dist-packages (from keras_ocr) (1.0)\n",
            "Requirement already satisfied: shapely in /usr/local/lib/python3.7/dist-packages (from keras_ocr) (1.8.4)\n",
            "Requirement already satisfied: fonttools in /usr/local/lib/python3.7/dist-packages (from keras_ocr) (4.37.1)\n",
            "Requirement already satisfied: tqdm in /usr/local/lib/python3.7/dist-packages (from keras_ocr) (4.64.1)\n",
            "Requirement already satisfied: editdistance in /usr/local/lib/python3.7/dist-packages (from keras_ocr) (0.5.3)\n",
            "Requirement already satisfied: imgaug in /usr/local/lib/python3.7/dist-packages (from keras_ocr) (0.4.0)\n",
            "Requirement already satisfied: scikit-image in /usr/local/lib/python3.7/dist-packages (from efficientnet==1.0.0->keras_ocr) (0.18.3)\n",
            "Requirement already satisfied: keras-applications<=1.0.8,>=1.0.7 in /usr/local/lib/python3.7/dist-packages (from efficientnet==1.0.0->keras_ocr) (1.0.8)\n",
            "Requirement already satisfied: h5py in /usr/local/lib/python3.7/dist-packages (from keras-applications<=1.0.8,>=1.0.7->efficientnet==1.0.0->keras_ocr) (3.1.0)\n",
            "Requirement already satisfied: cached-property in /usr/local/lib/python3.7/dist-packages (from h5py->keras-applications<=1.0.8,>=1.0.7->efficientnet==1.0.0->keras_ocr) (1.5.2)\n",
            "Requirement already satisfied: imageio in /usr/local/lib/python3.7/dist-packages (from imgaug->keras_ocr) (2.9.0)\n",
            "Requirement already satisfied: opencv-python in /usr/local/lib/python3.7/dist-packages (from imgaug->keras_ocr) (4.6.0.66)\n",
            "Requirement already satisfied: scipy in /usr/local/lib/python3.7/dist-packages (from imgaug->keras_ocr) (1.7.3)\n",
            "Requirement already satisfied: networkx>=2.0 in /usr/local/lib/python3.7/dist-packages (from scikit-image->efficientnet==1.0.0->keras_ocr) (2.6.3)\n",
            "Requirement already satisfied: PyWavelets>=1.1.1 in /usr/local/lib/python3.7/dist-packages (from scikit-image->efficientnet==1.0.0->keras_ocr) (1.3.0)\n",
            "Requirement already satisfied: tifffile>=2019.7.26 in /usr/local/lib/python3.7/dist-packages (from scikit-image->efficientnet==1.0.0->keras_ocr) (2021.11.2)\n",
            "Requirement already satisfied: decorator>=3.4.0 in /usr/local/lib/python3.7/dist-packages (from validators->keras_ocr) (4.4.2)\n",
            "Reading package lists... Done\n",
            "Building dependency tree       \n",
            "Reading state information... Done\n",
            "tesseract-ocr is already the newest version (4.00~git2288-10f4998a-2).\n",
            "The following package was automatically installed and is no longer required:\n",
            "  libnvidia-common-460\n",
            "Use 'apt autoremove' to remove it.\n",
            "0 upgraded, 0 newly installed, 0 to remove and 32 not upgraded.\n",
            "Reading package lists... Done\n",
            "Building dependency tree       \n",
            "Reading state information... Done\n",
            "libtesseract-dev is already the newest version (4.00~git2288-10f4998a-2).\n",
            "The following package was automatically installed and is no longer required:\n",
            "  libnvidia-common-460\n",
            "Use 'apt autoremove' to remove it.\n",
            "0 upgraded, 0 newly installed, 0 to remove and 32 not upgraded.\n",
            "Looking in indexes: https://pypi.org/simple, https://us-python.pkg.dev/colab-wheels/public/simple/\n",
            "Requirement already satisfied: pytesseract in /usr/local/lib/python3.7/dist-packages (0.3.10)\n",
            "Requirement already satisfied: Pillow>=8.0.0 in /usr/local/lib/python3.7/dist-packages (from pytesseract) (9.0.0)\n",
            "Requirement already satisfied: packaging>=21.3 in /usr/local/lib/python3.7/dist-packages (from pytesseract) (21.3)\n",
            "Requirement already satisfied: pyparsing!=3.0.5,>=2.0.2 in /usr/local/lib/python3.7/dist-packages (from packaging>=21.3->pytesseract) (3.0.9)\n",
            "Looking in indexes: https://pypi.org/simple, https://us-python.pkg.dev/colab-wheels/public/simple/\n",
            "Requirement already satisfied: Pillow==9.0.0 in /usr/local/lib/python3.7/dist-packages (9.0.0)\n"
          ]
        }
      ]
    },
    {
      "cell_type": "code",
      "source": [
        "! pip install --upgrade google-api-python-client\n",
        "! pip install google-cloud-vision"
      ],
      "metadata": {
        "colab": {
          "base_uri": "https://localhost:8080/"
        },
        "id": "OVLpI5PVp1a-",
        "outputId": "dbf34f77-3f85-4055-ab00-9e0518ab4bd6"
      },
      "execution_count": 2,
      "outputs": [
        {
          "output_type": "stream",
          "name": "stdout",
          "text": [
            "Looking in indexes: https://pypi.org/simple, https://us-python.pkg.dev/colab-wheels/public/simple/\n",
            "Requirement already satisfied: google-api-python-client in /usr/local/lib/python3.7/dist-packages (2.61.0)\n",
            "Requirement already satisfied: google-auth-httplib2>=0.1.0 in /usr/local/lib/python3.7/dist-packages (from google-api-python-client) (0.1.0)\n",
            "Requirement already satisfied: uritemplate<5,>=3.0.1 in /usr/local/lib/python3.7/dist-packages (from google-api-python-client) (3.0.1)\n",
            "Requirement already satisfied: google-api-core!=2.0.*,!=2.1.*,!=2.2.*,!=2.3.0,<3.0.0dev,>=1.31.5 in /usr/local/lib/python3.7/dist-packages (from google-api-python-client) (2.10.0)\n",
            "Requirement already satisfied: httplib2<1dev,>=0.15.0 in /usr/local/lib/python3.7/dist-packages (from google-api-python-client) (0.17.4)\n",
            "Requirement already satisfied: google-auth<3.0.0dev,>=1.19.0 in /usr/local/lib/python3.7/dist-packages (from google-api-python-client) (1.35.0)\n",
            "Requirement already satisfied: googleapis-common-protos<2.0dev,>=1.56.2 in /usr/local/lib/python3.7/dist-packages (from google-api-core!=2.0.*,!=2.1.*,!=2.2.*,!=2.3.0,<3.0.0dev,>=1.31.5->google-api-python-client) (1.56.4)\n",
            "Requirement already satisfied: requests<3.0.0dev,>=2.18.0 in /usr/local/lib/python3.7/dist-packages (from google-api-core!=2.0.*,!=2.1.*,!=2.2.*,!=2.3.0,<3.0.0dev,>=1.31.5->google-api-python-client) (2.23.0)\n",
            "Requirement already satisfied: protobuf<5.0.0dev,>=3.20.1 in /usr/local/lib/python3.7/dist-packages (from google-api-core!=2.0.*,!=2.1.*,!=2.2.*,!=2.3.0,<3.0.0dev,>=1.31.5->google-api-python-client) (3.20.2)\n",
            "Requirement already satisfied: cachetools<5.0,>=2.0.0 in /usr/local/lib/python3.7/dist-packages (from google-auth<3.0.0dev,>=1.19.0->google-api-python-client) (4.2.4)\n",
            "Requirement already satisfied: six>=1.9.0 in /usr/local/lib/python3.7/dist-packages (from google-auth<3.0.0dev,>=1.19.0->google-api-python-client) (1.15.0)\n",
            "Requirement already satisfied: setuptools>=40.3.0 in /usr/local/lib/python3.7/dist-packages (from google-auth<3.0.0dev,>=1.19.0->google-api-python-client) (57.4.0)\n",
            "Requirement already satisfied: rsa<5,>=3.1.4 in /usr/local/lib/python3.7/dist-packages (from google-auth<3.0.0dev,>=1.19.0->google-api-python-client) (4.9)\n",
            "Requirement already satisfied: pyasn1-modules>=0.2.1 in /usr/local/lib/python3.7/dist-packages (from google-auth<3.0.0dev,>=1.19.0->google-api-python-client) (0.2.8)\n",
            "Requirement already satisfied: pyasn1<0.5.0,>=0.4.6 in /usr/local/lib/python3.7/dist-packages (from pyasn1-modules>=0.2.1->google-auth<3.0.0dev,>=1.19.0->google-api-python-client) (0.4.8)\n",
            "Requirement already satisfied: certifi>=2017.4.17 in /usr/local/lib/python3.7/dist-packages (from requests<3.0.0dev,>=2.18.0->google-api-core!=2.0.*,!=2.1.*,!=2.2.*,!=2.3.0,<3.0.0dev,>=1.31.5->google-api-python-client) (2022.6.15)\n",
            "Requirement already satisfied: urllib3!=1.25.0,!=1.25.1,<1.26,>=1.21.1 in /usr/local/lib/python3.7/dist-packages (from requests<3.0.0dev,>=2.18.0->google-api-core!=2.0.*,!=2.1.*,!=2.2.*,!=2.3.0,<3.0.0dev,>=1.31.5->google-api-python-client) (1.24.3)\n",
            "Requirement already satisfied: chardet<4,>=3.0.2 in /usr/local/lib/python3.7/dist-packages (from requests<3.0.0dev,>=2.18.0->google-api-core!=2.0.*,!=2.1.*,!=2.2.*,!=2.3.0,<3.0.0dev,>=1.31.5->google-api-python-client) (3.0.4)\n",
            "Requirement already satisfied: idna<3,>=2.5 in /usr/local/lib/python3.7/dist-packages (from requests<3.0.0dev,>=2.18.0->google-api-core!=2.0.*,!=2.1.*,!=2.2.*,!=2.3.0,<3.0.0dev,>=1.31.5->google-api-python-client) (2.10)\n",
            "Looking in indexes: https://pypi.org/simple, https://us-python.pkg.dev/colab-wheels/public/simple/\n",
            "Requirement already satisfied: google-cloud-vision in /usr/local/lib/python3.7/dist-packages (3.1.1)\n",
            "Requirement already satisfied: protobuf<5.0.0dev,>=3.19.0 in /usr/local/lib/python3.7/dist-packages (from google-cloud-vision) (3.20.2)\n",
            "Requirement already satisfied: google-api-core[grpc]!=2.0.*,!=2.1.*,!=2.2.*,!=2.3.*,!=2.4.*,!=2.5.*,!=2.6.*,!=2.7.*,<3.0.0dev,>=1.32.0 in /usr/local/lib/python3.7/dist-packages (from google-cloud-vision) (2.10.0)\n",
            "Requirement already satisfied: proto-plus<2.0.0dev,>=1.22.0 in /usr/local/lib/python3.7/dist-packages (from google-cloud-vision) (1.22.1)\n",
            "Requirement already satisfied: requests<3.0.0dev,>=2.18.0 in /usr/local/lib/python3.7/dist-packages (from google-api-core[grpc]!=2.0.*,!=2.1.*,!=2.2.*,!=2.3.*,!=2.4.*,!=2.5.*,!=2.6.*,!=2.7.*,<3.0.0dev,>=1.32.0->google-cloud-vision) (2.23.0)\n",
            "Requirement already satisfied: google-auth<3.0dev,>=1.25.0 in /usr/local/lib/python3.7/dist-packages (from google-api-core[grpc]!=2.0.*,!=2.1.*,!=2.2.*,!=2.3.*,!=2.4.*,!=2.5.*,!=2.6.*,!=2.7.*,<3.0.0dev,>=1.32.0->google-cloud-vision) (1.35.0)\n",
            "Requirement already satisfied: googleapis-common-protos<2.0dev,>=1.56.2 in /usr/local/lib/python3.7/dist-packages (from google-api-core[grpc]!=2.0.*,!=2.1.*,!=2.2.*,!=2.3.*,!=2.4.*,!=2.5.*,!=2.6.*,!=2.7.*,<3.0.0dev,>=1.32.0->google-cloud-vision) (1.56.4)\n",
            "Requirement already satisfied: grpcio-status<2.0dev,>=1.33.2 in /usr/local/lib/python3.7/dist-packages (from google-api-core[grpc]!=2.0.*,!=2.1.*,!=2.2.*,!=2.3.*,!=2.4.*,!=2.5.*,!=2.6.*,!=2.7.*,<3.0.0dev,>=1.32.0->google-cloud-vision) (1.48.1)\n",
            "Requirement already satisfied: grpcio<2.0dev,>=1.33.2 in /usr/local/lib/python3.7/dist-packages (from google-api-core[grpc]!=2.0.*,!=2.1.*,!=2.2.*,!=2.3.*,!=2.4.*,!=2.5.*,!=2.6.*,!=2.7.*,<3.0.0dev,>=1.32.0->google-cloud-vision) (1.48.1)\n",
            "Requirement already satisfied: pyasn1-modules>=0.2.1 in /usr/local/lib/python3.7/dist-packages (from google-auth<3.0dev,>=1.25.0->google-api-core[grpc]!=2.0.*,!=2.1.*,!=2.2.*,!=2.3.*,!=2.4.*,!=2.5.*,!=2.6.*,!=2.7.*,<3.0.0dev,>=1.32.0->google-cloud-vision) (0.2.8)\n",
            "Requirement already satisfied: setuptools>=40.3.0 in /usr/local/lib/python3.7/dist-packages (from google-auth<3.0dev,>=1.25.0->google-api-core[grpc]!=2.0.*,!=2.1.*,!=2.2.*,!=2.3.*,!=2.4.*,!=2.5.*,!=2.6.*,!=2.7.*,<3.0.0dev,>=1.32.0->google-cloud-vision) (57.4.0)\n",
            "Requirement already satisfied: rsa<5,>=3.1.4 in /usr/local/lib/python3.7/dist-packages (from google-auth<3.0dev,>=1.25.0->google-api-core[grpc]!=2.0.*,!=2.1.*,!=2.2.*,!=2.3.*,!=2.4.*,!=2.5.*,!=2.6.*,!=2.7.*,<3.0.0dev,>=1.32.0->google-cloud-vision) (4.9)\n",
            "Requirement already satisfied: six>=1.9.0 in /usr/local/lib/python3.7/dist-packages (from google-auth<3.0dev,>=1.25.0->google-api-core[grpc]!=2.0.*,!=2.1.*,!=2.2.*,!=2.3.*,!=2.4.*,!=2.5.*,!=2.6.*,!=2.7.*,<3.0.0dev,>=1.32.0->google-cloud-vision) (1.15.0)\n",
            "Requirement already satisfied: cachetools<5.0,>=2.0.0 in /usr/local/lib/python3.7/dist-packages (from google-auth<3.0dev,>=1.25.0->google-api-core[grpc]!=2.0.*,!=2.1.*,!=2.2.*,!=2.3.*,!=2.4.*,!=2.5.*,!=2.6.*,!=2.7.*,<3.0.0dev,>=1.32.0->google-cloud-vision) (4.2.4)\n",
            "Requirement already satisfied: pyasn1<0.5.0,>=0.4.6 in /usr/local/lib/python3.7/dist-packages (from pyasn1-modules>=0.2.1->google-auth<3.0dev,>=1.25.0->google-api-core[grpc]!=2.0.*,!=2.1.*,!=2.2.*,!=2.3.*,!=2.4.*,!=2.5.*,!=2.6.*,!=2.7.*,<3.0.0dev,>=1.32.0->google-cloud-vision) (0.4.8)\n",
            "Requirement already satisfied: chardet<4,>=3.0.2 in /usr/local/lib/python3.7/dist-packages (from requests<3.0.0dev,>=2.18.0->google-api-core[grpc]!=2.0.*,!=2.1.*,!=2.2.*,!=2.3.*,!=2.4.*,!=2.5.*,!=2.6.*,!=2.7.*,<3.0.0dev,>=1.32.0->google-cloud-vision) (3.0.4)\n",
            "Requirement already satisfied: certifi>=2017.4.17 in /usr/local/lib/python3.7/dist-packages (from requests<3.0.0dev,>=2.18.0->google-api-core[grpc]!=2.0.*,!=2.1.*,!=2.2.*,!=2.3.*,!=2.4.*,!=2.5.*,!=2.6.*,!=2.7.*,<3.0.0dev,>=1.32.0->google-cloud-vision) (2022.6.15)\n",
            "Requirement already satisfied: idna<3,>=2.5 in /usr/local/lib/python3.7/dist-packages (from requests<3.0.0dev,>=2.18.0->google-api-core[grpc]!=2.0.*,!=2.1.*,!=2.2.*,!=2.3.*,!=2.4.*,!=2.5.*,!=2.6.*,!=2.7.*,<3.0.0dev,>=1.32.0->google-cloud-vision) (2.10)\n",
            "Requirement already satisfied: urllib3!=1.25.0,!=1.25.1,<1.26,>=1.21.1 in /usr/local/lib/python3.7/dist-packages (from requests<3.0.0dev,>=2.18.0->google-api-core[grpc]!=2.0.*,!=2.1.*,!=2.2.*,!=2.3.*,!=2.4.*,!=2.5.*,!=2.6.*,!=2.7.*,<3.0.0dev,>=1.32.0->google-cloud-vision) (1.24.3)\n"
          ]
        }
      ]
    },
    {
      "cell_type": "code",
      "execution_count": 3,
      "metadata": {
        "colab": {
          "base_uri": "https://localhost:8080/"
        },
        "id": "nLwCYXz8G5pc",
        "outputId": "776a00d9-55f5-4818-9d63-1d85cb66e467"
      },
      "outputs": [
        {
          "output_type": "stream",
          "name": "stdout",
          "text": [
            "0.9.1\n",
            "0.3.10\n"
          ]
        }
      ],
      "source": [
        "import keras_ocr\n",
        "import pytesseract\n",
        "import cv2 \n",
        "import matplotlib.pyplot as plt\n",
        "import numpy as np \n",
        "import os\n",
        "import glob\n",
        "from google.colab.patches import cv2_imshow\n",
        "import keras_ocr\n",
        "\n",
        "print(keras_ocr.__version__)\n",
        "print(pytesseract.__version__)"
      ]
    },
    {
      "cell_type": "markdown",
      "source": [
        "## 2. 검증용 데이터셋 준비\n",
        " 텍스트의 모양과 크기, 배치, 노이즈 등 OCR의 성능에 영향을 미치는 요인들에 관한 것이었습니다. 여러분들은 위 3가지 기능들이 이미지에 나타난 특징에 따라 얼마나 정확하게 문자를 detect하고 recognize하는지를 검증하기 위한 이미지 데이터를 모아야 한다.\n"
      ],
      "metadata": {
        "id": "hFr479voKB2l"
      }
    },
    {
      "cell_type": "code",
      "source": [
        "image_path = '/content/drive/MyDrive/인공지능/아이펠/ES/data/ocr_python/test_image'\n",
        "images_list = os.listdir(image_path)\n",
        "images_list"
      ],
      "metadata": {
        "colab": {
          "base_uri": "https://localhost:8080/"
        },
        "id": "XEouAFvjJCnx",
        "outputId": "a8c4cf88-1d53-4682-f3c5-5fc8e3604f22"
      },
      "execution_count": 42,
      "outputs": [
        {
          "output_type": "execute_result",
          "data": {
            "text/plain": [
              "['ocr_image.jpg',\n",
              " 'ocr_image4.jpg',\n",
              " 'ocr_image2.jpg',\n",
              " 'ocr_image3.jpg',\n",
              " 'ocr_image5.jpg']"
            ]
          },
          "metadata": {},
          "execution_count": 42
        }
      ]
    },
    {
      "cell_type": "markdown",
      "source": [
        "## 3. keras-ocr, Tesseract로 테스트 진행(Google OCR API는 선택 사항)\n",
        "위 두 가지 모듈을 활용하는 방법에 대해서는 코드 레벨로 이미 경험해 보셨을 것입니다. 이미지 리스트를 정리한 후 반복문을 실행하며 모듈이 출력한 결과를 모아 봅시다. 가능하다면 Google OCR API를 포함해 세 가지 모듈을 다 써보세요."
      ],
      "metadata": {
        "id": "UeiJpoSJVg-9"
      }
    },
    {
      "cell_type": "markdown",
      "source": [
        "### 1) Google OCR API"
      ],
      "metadata": {
        "id": "-f-Laz273Ma5"
      }
    },
    {
      "cell_type": "code",
      "source": [
        "def detect_text(path):\n",
        "    \"\"\"Detects text in the file.\"\"\"\n",
        "    from google.cloud import vision\n",
        "    import io\n",
        "    client = vision.ImageAnnotatorClient()\n",
        "\n",
        "    with io.open(path, 'rb') as image_file:\n",
        "        content = image_file.read()\n",
        "        \n",
        "    image = vision.Image(content=content)\n",
        "\n",
        "    response = client.text_detection(image=image)\n",
        "    texts = response.text_annotations\n",
        "    print('Texts:')\n",
        "\n",
        "    for text in texts:\n",
        "       print('\\n\"{}\"'.format(text.description))\n",
        "\n",
        "    vertices = (['({},{})'.format(vertex.x, vertex.y)\n",
        "                 for vertex in text.bounding_poly.vertices])\n",
        "\n",
        "    print('bounds: {}'.format(','.join(vertices)))\n",
        "\n",
        "    if response.error.message:\n",
        "        raise Exception(\n",
        "            '{}\\nFor more info on error messages, check: '\n",
        "            'https://cloud.google.com/apis/design/errors'.format(\n",
        "                response.error.message))"
      ],
      "metadata": {
        "id": "LbGcHkN8VjRZ"
      },
      "execution_count": 27,
      "outputs": []
    },
    {
      "cell_type": "code",
      "source": [
        "# 로컬 환경에서는 다운받은 인증키 경로가 정확하게 지정되어 있어야 합니다. \n",
        "# 클라우드 환경에서는 무시해도 좋습니다\n",
        "!ls -l $GOOGLE_APPLICATION_CREDENTIALS\n",
        "\n",
        "import os\n",
        "os.environ[\"GOOGLE_APPLICATION_CREDENTIALS\"] =  '/content/drive/MyDrive/인공지능/아이펠/ES/data/ocr_python/my_google_api_key.json'\n",
        "count = 1\n",
        "for image_list in images_list:\n",
        "  print('\\n---------------------{}--------------------'.format(count), sep='\\n')\n",
        "  detect_text(os.path.join(image_path, image_list))\n",
        "  count += 1\n",
        "  "
      ],
      "metadata": {
        "colab": {
          "base_uri": "https://localhost:8080/"
        },
        "id": "c6dy_JYIsnzb",
        "outputId": "042543cb-836b-4779-8ea0-861498af2eed"
      },
      "execution_count": 28,
      "outputs": [
        {
          "output_type": "stream",
          "name": "stdout",
          "text": [
            "-rw------- 1 root root 2321 Sep  5 01:59 /content/drive/MyDrive/인공지능/아이펠/ES/data/ocr_python/my_google_api_key.json\n",
            "\n",
            "---------------------1--------------------\n",
            "Texts:\n",
            "\n",
            "\"PROPAGANDA\"\n",
            "\n",
            "\"PROPAGANDA\"\n",
            "bounds: (295,581),(751,588),(750,655),(294,648)\n",
            "\n",
            "---------------------2--------------------\n",
            "Texts:\n",
            "\n",
            "\"2\n",
            "A STUDY OF HISTORY\n",
            "пистози\"\n",
            "\n",
            "\"2\"\n",
            "\n",
            "\"A\"\n",
            "\n",
            "\"STUDY\"\n",
            "\n",
            "\"OF\"\n",
            "\n",
            "\"HISTORY\"\n",
            "\n",
            "\"пистози\"\n",
            "bounds: (324,1008),(701,1048),(687,1178),(310,1137)\n",
            "\n",
            "---------------------3--------------------\n",
            "Texts:\n",
            "\n",
            "\"Stephen R. Covey\n",
            "THE 7 HABITS OF HIGHLY\n",
            "EFFECTIVE PEOPLE\"\n",
            "\n",
            "\"Stephen\"\n",
            "\n",
            "\"R.\"\n",
            "\n",
            "\"Covey\"\n",
            "\n",
            "\"THE\"\n",
            "\n",
            "\"7\"\n",
            "\n",
            "\"HABITS\"\n",
            "\n",
            "\"OF\"\n",
            "\n",
            "\"HIGHLY\"\n",
            "\n",
            "\"EFFECTIVE\"\n",
            "\n",
            "\"PEOPLE\"\n",
            "bounds: (553,1281),(782,1283),(781,1356),(552,1354)\n",
            "\n",
            "---------------------4--------------------\n",
            "Texts:\n",
            "\n",
            "\"MONEY IS GAME. MASTER THE GAME!\n",
            "MONEY\"\n",
            "\n",
            "\"MONEY\"\n",
            "\n",
            "\"IS\"\n",
            "\n",
            "\"GAME\"\n",
            "\n",
            "\".\"\n",
            "\n",
            "\"MASTER\"\n",
            "\n",
            "\"THE\"\n",
            "\n",
            "\"GAME\"\n",
            "\n",
            "\"!\"\n",
            "\n",
            "\"MONEY\"\n",
            "bounds: (206,620),(799,620),(799,741),(206,741)\n",
            "\n",
            "---------------------5--------------------\n",
            "Texts:\n",
            "\n",
            "\"START NOW\n",
            "C\n",
            "PERFECT\n",
            "LATER\"\n",
            "\n",
            "\"START\"\n",
            "\n",
            "\"NOW\"\n",
            "\n",
            "\"C\"\n",
            "\n",
            "\"PERFECT\"\n",
            "\n",
            "\"LATER\"\n",
            "bounds: (365,771),(654,769),(654,808),(365,810)\n"
          ]
        }
      ]
    },
    {
      "cell_type": "markdown",
      "source": [
        "### 2) keras-ocr"
      ],
      "metadata": {
        "id": "1rLymyls3QbX"
      }
    },
    {
      "cell_type": "code",
      "source": [
        "pipeline = keras_ocr.pipeline.Pipeline()\n",
        "\n",
        "images = [ keras_ocr.tools.read(os.path.join(image_path, image_list)) for image_list in images_list]\n",
        "prediction_groups = [pipeline.recognize([os.path.join(image_path, image_list)]) for image_list in images_list]"
      ],
      "metadata": {
        "colab": {
          "base_uri": "https://localhost:8080/"
        },
        "id": "CcPAu6c17B0A",
        "outputId": "d6b224d7-e0be-4878-a6b3-b457dcdb8c94"
      },
      "execution_count": 29,
      "outputs": [
        {
          "output_type": "stream",
          "name": "stdout",
          "text": [
            "Looking for /root/.keras-ocr/craft_mlt_25k.h5\n",
            "Looking for /root/.keras-ocr/crnn_kurapan.h5\n"
          ]
        }
      ]
    },
    {
      "cell_type": "code",
      "source": [
        "fig, axs = plt.subplots(nrows=len(images), figsize=(20, 20))\n",
        "for idx, ax in enumerate(axs):\n",
        "    keras_ocr.tools.drawAnnotations(image=images[idx], \n",
        "                                    predictions=prediction_groups[idx][0], ax=ax)"
      ],
      "metadata": {
        "colab": {
          "base_uri": "https://localhost:8080/",
          "height": 492
        },
        "id": "eAz2_ySh8e9Z",
        "outputId": "f64f169f-3df9-4c85-e6de-3481f3401234"
      },
      "execution_count": 30,
      "outputs": [
        {
          "output_type": "stream",
          "name": "stdout",
          "text": [
            "Error in callback <function flush_figures at 0x7fb85dd32320> (for post_execute):\n"
          ]
        },
        {
          "output_type": "error",
          "ename": "KeyboardInterrupt",
          "evalue": "ignored",
          "traceback": [
            "\u001b[0;31m---------------------------------------------------------------------------\u001b[0m",
            "\u001b[0;31mKeyboardInterrupt\u001b[0m                         Traceback (most recent call last)",
            "\u001b[0;32m/usr/local/lib/python3.7/dist-packages/ipykernel/pylab/backend_inline.py\u001b[0m in \u001b[0;36mflush_figures\u001b[0;34m()\u001b[0m\n\u001b[1;32m    119\u001b[0m         \u001b[0;31m# ignore the tracking, just draw and close all figures\u001b[0m\u001b[0;34m\u001b[0m\u001b[0;34m\u001b[0m\u001b[0;34m\u001b[0m\u001b[0m\n\u001b[1;32m    120\u001b[0m         \u001b[0;32mtry\u001b[0m\u001b[0;34m:\u001b[0m\u001b[0;34m\u001b[0m\u001b[0;34m\u001b[0m\u001b[0m\n\u001b[0;32m--> 121\u001b[0;31m             \u001b[0;32mreturn\u001b[0m \u001b[0mshow\u001b[0m\u001b[0;34m(\u001b[0m\u001b[0;32mTrue\u001b[0m\u001b[0;34m)\u001b[0m\u001b[0;34m\u001b[0m\u001b[0;34m\u001b[0m\u001b[0m\n\u001b[0m\u001b[1;32m    122\u001b[0m         \u001b[0;32mexcept\u001b[0m \u001b[0mException\u001b[0m \u001b[0;32mas\u001b[0m \u001b[0me\u001b[0m\u001b[0;34m:\u001b[0m\u001b[0;34m\u001b[0m\u001b[0;34m\u001b[0m\u001b[0m\n\u001b[1;32m    123\u001b[0m             \u001b[0;31m# safely show traceback if in IPython, else raise\u001b[0m\u001b[0;34m\u001b[0m\u001b[0;34m\u001b[0m\u001b[0;34m\u001b[0m\u001b[0m\n",
            "\u001b[0;32m/usr/local/lib/python3.7/dist-packages/ipykernel/pylab/backend_inline.py\u001b[0m in \u001b[0;36mshow\u001b[0;34m(close, block)\u001b[0m\n\u001b[1;32m     41\u001b[0m             display(\n\u001b[1;32m     42\u001b[0m                 \u001b[0mfigure_manager\u001b[0m\u001b[0;34m.\u001b[0m\u001b[0mcanvas\u001b[0m\u001b[0;34m.\u001b[0m\u001b[0mfigure\u001b[0m\u001b[0;34m,\u001b[0m\u001b[0;34m\u001b[0m\u001b[0;34m\u001b[0m\u001b[0m\n\u001b[0;32m---> 43\u001b[0;31m                 \u001b[0mmetadata\u001b[0m\u001b[0;34m=\u001b[0m\u001b[0m_fetch_figure_metadata\u001b[0m\u001b[0;34m(\u001b[0m\u001b[0mfigure_manager\u001b[0m\u001b[0;34m.\u001b[0m\u001b[0mcanvas\u001b[0m\u001b[0;34m.\u001b[0m\u001b[0mfigure\u001b[0m\u001b[0;34m)\u001b[0m\u001b[0;34m\u001b[0m\u001b[0;34m\u001b[0m\u001b[0m\n\u001b[0m\u001b[1;32m     44\u001b[0m             )\n\u001b[1;32m     45\u001b[0m     \u001b[0;32mfinally\u001b[0m\u001b[0;34m:\u001b[0m\u001b[0;34m\u001b[0m\u001b[0;34m\u001b[0m\u001b[0m\n",
            "\u001b[0;32m/usr/local/lib/python3.7/dist-packages/IPython/core/display.py\u001b[0m in \u001b[0;36mdisplay\u001b[0;34m(include, exclude, metadata, transient, display_id, *objs, **kwargs)\u001b[0m\n\u001b[1;32m    311\u001b[0m             \u001b[0mpublish_display_data\u001b[0m\u001b[0;34m(\u001b[0m\u001b[0mdata\u001b[0m\u001b[0;34m=\u001b[0m\u001b[0mobj\u001b[0m\u001b[0;34m,\u001b[0m \u001b[0mmetadata\u001b[0m\u001b[0;34m=\u001b[0m\u001b[0mmetadata\u001b[0m\u001b[0;34m,\u001b[0m \u001b[0;34m**\u001b[0m\u001b[0mkwargs\u001b[0m\u001b[0;34m)\u001b[0m\u001b[0;34m\u001b[0m\u001b[0;34m\u001b[0m\u001b[0m\n\u001b[1;32m    312\u001b[0m         \u001b[0;32melse\u001b[0m\u001b[0;34m:\u001b[0m\u001b[0;34m\u001b[0m\u001b[0;34m\u001b[0m\u001b[0m\n\u001b[0;32m--> 313\u001b[0;31m             \u001b[0mformat_dict\u001b[0m\u001b[0;34m,\u001b[0m \u001b[0mmd_dict\u001b[0m \u001b[0;34m=\u001b[0m \u001b[0mformat\u001b[0m\u001b[0;34m(\u001b[0m\u001b[0mobj\u001b[0m\u001b[0;34m,\u001b[0m \u001b[0minclude\u001b[0m\u001b[0;34m=\u001b[0m\u001b[0minclude\u001b[0m\u001b[0;34m,\u001b[0m \u001b[0mexclude\u001b[0m\u001b[0;34m=\u001b[0m\u001b[0mexclude\u001b[0m\u001b[0;34m)\u001b[0m\u001b[0;34m\u001b[0m\u001b[0;34m\u001b[0m\u001b[0m\n\u001b[0m\u001b[1;32m    314\u001b[0m             \u001b[0;32mif\u001b[0m \u001b[0;32mnot\u001b[0m \u001b[0mformat_dict\u001b[0m\u001b[0;34m:\u001b[0m\u001b[0;34m\u001b[0m\u001b[0;34m\u001b[0m\u001b[0m\n\u001b[1;32m    315\u001b[0m                 \u001b[0;31m# nothing to display (e.g. _ipython_display_ took over)\u001b[0m\u001b[0;34m\u001b[0m\u001b[0;34m\u001b[0m\u001b[0;34m\u001b[0m\u001b[0m\n",
            "\u001b[0;32m/usr/local/lib/python3.7/dist-packages/IPython/core/formatters.py\u001b[0m in \u001b[0;36mformat\u001b[0;34m(self, obj, include, exclude)\u001b[0m\n\u001b[1;32m    178\u001b[0m             \u001b[0mmd\u001b[0m \u001b[0;34m=\u001b[0m \u001b[0;32mNone\u001b[0m\u001b[0;34m\u001b[0m\u001b[0;34m\u001b[0m\u001b[0m\n\u001b[1;32m    179\u001b[0m             \u001b[0;32mtry\u001b[0m\u001b[0;34m:\u001b[0m\u001b[0;34m\u001b[0m\u001b[0;34m\u001b[0m\u001b[0m\n\u001b[0;32m--> 180\u001b[0;31m                 \u001b[0mdata\u001b[0m \u001b[0;34m=\u001b[0m \u001b[0mformatter\u001b[0m\u001b[0;34m(\u001b[0m\u001b[0mobj\u001b[0m\u001b[0;34m)\u001b[0m\u001b[0;34m\u001b[0m\u001b[0;34m\u001b[0m\u001b[0m\n\u001b[0m\u001b[1;32m    181\u001b[0m             \u001b[0;32mexcept\u001b[0m\u001b[0;34m:\u001b[0m\u001b[0;34m\u001b[0m\u001b[0;34m\u001b[0m\u001b[0m\n\u001b[1;32m    182\u001b[0m                 \u001b[0;31m# FIXME: log the exception\u001b[0m\u001b[0;34m\u001b[0m\u001b[0;34m\u001b[0m\u001b[0;34m\u001b[0m\u001b[0m\n",
            "\u001b[0;32m<decorator-gen-2>\u001b[0m in \u001b[0;36m__call__\u001b[0;34m(self, obj)\u001b[0m\n",
            "\u001b[0;32m/usr/local/lib/python3.7/dist-packages/IPython/core/formatters.py\u001b[0m in \u001b[0;36mcatch_format_error\u001b[0;34m(method, self, *args, **kwargs)\u001b[0m\n\u001b[1;32m    222\u001b[0m     \u001b[0;34m\"\"\"show traceback on failed format call\"\"\"\u001b[0m\u001b[0;34m\u001b[0m\u001b[0;34m\u001b[0m\u001b[0m\n\u001b[1;32m    223\u001b[0m     \u001b[0;32mtry\u001b[0m\u001b[0;34m:\u001b[0m\u001b[0;34m\u001b[0m\u001b[0;34m\u001b[0m\u001b[0m\n\u001b[0;32m--> 224\u001b[0;31m         \u001b[0mr\u001b[0m \u001b[0;34m=\u001b[0m \u001b[0mmethod\u001b[0m\u001b[0;34m(\u001b[0m\u001b[0mself\u001b[0m\u001b[0;34m,\u001b[0m \u001b[0;34m*\u001b[0m\u001b[0margs\u001b[0m\u001b[0;34m,\u001b[0m \u001b[0;34m**\u001b[0m\u001b[0mkwargs\u001b[0m\u001b[0;34m)\u001b[0m\u001b[0;34m\u001b[0m\u001b[0;34m\u001b[0m\u001b[0m\n\u001b[0m\u001b[1;32m    225\u001b[0m     \u001b[0;32mexcept\u001b[0m \u001b[0mNotImplementedError\u001b[0m\u001b[0;34m:\u001b[0m\u001b[0;34m\u001b[0m\u001b[0;34m\u001b[0m\u001b[0m\n\u001b[1;32m    226\u001b[0m         \u001b[0;31m# don't warn on NotImplementedErrors\u001b[0m\u001b[0;34m\u001b[0m\u001b[0;34m\u001b[0m\u001b[0;34m\u001b[0m\u001b[0m\n",
            "\u001b[0;32m/usr/local/lib/python3.7/dist-packages/IPython/core/formatters.py\u001b[0m in \u001b[0;36m__call__\u001b[0;34m(self, obj)\u001b[0m\n\u001b[1;32m    339\u001b[0m                 \u001b[0;32mpass\u001b[0m\u001b[0;34m\u001b[0m\u001b[0;34m\u001b[0m\u001b[0m\n\u001b[1;32m    340\u001b[0m             \u001b[0;32melse\u001b[0m\u001b[0;34m:\u001b[0m\u001b[0;34m\u001b[0m\u001b[0;34m\u001b[0m\u001b[0m\n\u001b[0;32m--> 341\u001b[0;31m                 \u001b[0;32mreturn\u001b[0m \u001b[0mprinter\u001b[0m\u001b[0;34m(\u001b[0m\u001b[0mobj\u001b[0m\u001b[0;34m)\u001b[0m\u001b[0;34m\u001b[0m\u001b[0;34m\u001b[0m\u001b[0m\n\u001b[0m\u001b[1;32m    342\u001b[0m             \u001b[0;31m# Finally look for special method names\u001b[0m\u001b[0;34m\u001b[0m\u001b[0;34m\u001b[0m\u001b[0;34m\u001b[0m\u001b[0m\n\u001b[1;32m    343\u001b[0m             \u001b[0mmethod\u001b[0m \u001b[0;34m=\u001b[0m \u001b[0mget_real_method\u001b[0m\u001b[0;34m(\u001b[0m\u001b[0mobj\u001b[0m\u001b[0;34m,\u001b[0m \u001b[0mself\u001b[0m\u001b[0;34m.\u001b[0m\u001b[0mprint_method\u001b[0m\u001b[0;34m)\u001b[0m\u001b[0;34m\u001b[0m\u001b[0;34m\u001b[0m\u001b[0m\n",
            "\u001b[0;32m/usr/local/lib/python3.7/dist-packages/IPython/core/pylabtools.py\u001b[0m in \u001b[0;36m<lambda>\u001b[0;34m(fig)\u001b[0m\n\u001b[1;32m    242\u001b[0m \u001b[0;34m\u001b[0m\u001b[0m\n\u001b[1;32m    243\u001b[0m     \u001b[0;32mif\u001b[0m \u001b[0;34m'png'\u001b[0m \u001b[0;32min\u001b[0m \u001b[0mformats\u001b[0m\u001b[0;34m:\u001b[0m\u001b[0;34m\u001b[0m\u001b[0;34m\u001b[0m\u001b[0m\n\u001b[0;32m--> 244\u001b[0;31m         \u001b[0mpng_formatter\u001b[0m\u001b[0;34m.\u001b[0m\u001b[0mfor_type\u001b[0m\u001b[0;34m(\u001b[0m\u001b[0mFigure\u001b[0m\u001b[0;34m,\u001b[0m \u001b[0;32mlambda\u001b[0m \u001b[0mfig\u001b[0m\u001b[0;34m:\u001b[0m \u001b[0mprint_figure\u001b[0m\u001b[0;34m(\u001b[0m\u001b[0mfig\u001b[0m\u001b[0;34m,\u001b[0m \u001b[0;34m'png'\u001b[0m\u001b[0;34m,\u001b[0m \u001b[0;34m**\u001b[0m\u001b[0mkwargs\u001b[0m\u001b[0;34m)\u001b[0m\u001b[0;34m)\u001b[0m\u001b[0;34m\u001b[0m\u001b[0;34m\u001b[0m\u001b[0m\n\u001b[0m\u001b[1;32m    245\u001b[0m     \u001b[0;32mif\u001b[0m \u001b[0;34m'retina'\u001b[0m \u001b[0;32min\u001b[0m \u001b[0mformats\u001b[0m \u001b[0;32mor\u001b[0m \u001b[0;34m'png2x'\u001b[0m \u001b[0;32min\u001b[0m \u001b[0mformats\u001b[0m\u001b[0;34m:\u001b[0m\u001b[0;34m\u001b[0m\u001b[0;34m\u001b[0m\u001b[0m\n\u001b[1;32m    246\u001b[0m         \u001b[0mpng_formatter\u001b[0m\u001b[0;34m.\u001b[0m\u001b[0mfor_type\u001b[0m\u001b[0;34m(\u001b[0m\u001b[0mFigure\u001b[0m\u001b[0;34m,\u001b[0m \u001b[0;32mlambda\u001b[0m \u001b[0mfig\u001b[0m\u001b[0;34m:\u001b[0m \u001b[0mretina_figure\u001b[0m\u001b[0;34m(\u001b[0m\u001b[0mfig\u001b[0m\u001b[0;34m,\u001b[0m \u001b[0;34m**\u001b[0m\u001b[0mkwargs\u001b[0m\u001b[0;34m)\u001b[0m\u001b[0;34m)\u001b[0m\u001b[0;34m\u001b[0m\u001b[0;34m\u001b[0m\u001b[0m\n",
            "\u001b[0;32m/usr/local/lib/python3.7/dist-packages/IPython/core/pylabtools.py\u001b[0m in \u001b[0;36mprint_figure\u001b[0;34m(fig, fmt, bbox_inches, **kwargs)\u001b[0m\n\u001b[1;32m    126\u001b[0m \u001b[0;34m\u001b[0m\u001b[0m\n\u001b[1;32m    127\u001b[0m     \u001b[0mbytes_io\u001b[0m \u001b[0;34m=\u001b[0m \u001b[0mBytesIO\u001b[0m\u001b[0;34m(\u001b[0m\u001b[0;34m)\u001b[0m\u001b[0;34m\u001b[0m\u001b[0;34m\u001b[0m\u001b[0m\n\u001b[0;32m--> 128\u001b[0;31m     \u001b[0mfig\u001b[0m\u001b[0;34m.\u001b[0m\u001b[0mcanvas\u001b[0m\u001b[0;34m.\u001b[0m\u001b[0mprint_figure\u001b[0m\u001b[0;34m(\u001b[0m\u001b[0mbytes_io\u001b[0m\u001b[0;34m,\u001b[0m \u001b[0;34m**\u001b[0m\u001b[0mkw\u001b[0m\u001b[0;34m)\u001b[0m\u001b[0;34m\u001b[0m\u001b[0;34m\u001b[0m\u001b[0m\n\u001b[0m\u001b[1;32m    129\u001b[0m     \u001b[0mdata\u001b[0m \u001b[0;34m=\u001b[0m \u001b[0mbytes_io\u001b[0m\u001b[0;34m.\u001b[0m\u001b[0mgetvalue\u001b[0m\u001b[0;34m(\u001b[0m\u001b[0;34m)\u001b[0m\u001b[0;34m\u001b[0m\u001b[0;34m\u001b[0m\u001b[0m\n\u001b[1;32m    130\u001b[0m     \u001b[0;32mif\u001b[0m \u001b[0mfmt\u001b[0m \u001b[0;34m==\u001b[0m \u001b[0;34m'svg'\u001b[0m\u001b[0;34m:\u001b[0m\u001b[0;34m\u001b[0m\u001b[0;34m\u001b[0m\u001b[0m\n",
            "\u001b[0;32m/usr/local/lib/python3.7/dist-packages/matplotlib/backend_bases.py\u001b[0m in \u001b[0;36mprint_figure\u001b[0;34m(self, filename, dpi, facecolor, edgecolor, orientation, format, bbox_inches, pad_inches, bbox_extra_artists, backend, **kwargs)\u001b[0m\n\u001b[1;32m   2194\u001b[0m \u001b[0;34m\u001b[0m\u001b[0m\n\u001b[1;32m   2195\u001b[0m                     bbox_inches = self.figure.get_tightbbox(\n\u001b[0;32m-> 2196\u001b[0;31m                         renderer, bbox_extra_artists=bbox_extra_artists)\n\u001b[0m\u001b[1;32m   2197\u001b[0m                     \u001b[0;32mif\u001b[0m \u001b[0mpad_inches\u001b[0m \u001b[0;32mis\u001b[0m \u001b[0;32mNone\u001b[0m\u001b[0;34m:\u001b[0m\u001b[0;34m\u001b[0m\u001b[0;34m\u001b[0m\u001b[0m\n\u001b[1;32m   2198\u001b[0m                         \u001b[0mpad_inches\u001b[0m \u001b[0;34m=\u001b[0m \u001b[0mrcParams\u001b[0m\u001b[0;34m[\u001b[0m\u001b[0;34m'savefig.pad_inches'\u001b[0m\u001b[0;34m]\u001b[0m\u001b[0;34m\u001b[0m\u001b[0;34m\u001b[0m\u001b[0m\n",
            "\u001b[0;32m/usr/local/lib/python3.7/dist-packages/matplotlib/figure.py\u001b[0m in \u001b[0;36mget_tightbbox\u001b[0;34m(self, renderer, bbox_extra_artists)\u001b[0m\n\u001b[1;32m   2504\u001b[0m \u001b[0;34m\u001b[0m\u001b[0m\n\u001b[1;32m   2505\u001b[0m         \u001b[0;32mfor\u001b[0m \u001b[0ma\u001b[0m \u001b[0;32min\u001b[0m \u001b[0martists\u001b[0m\u001b[0;34m:\u001b[0m\u001b[0;34m\u001b[0m\u001b[0;34m\u001b[0m\u001b[0m\n\u001b[0;32m-> 2506\u001b[0;31m             \u001b[0mbbox\u001b[0m \u001b[0;34m=\u001b[0m \u001b[0ma\u001b[0m\u001b[0;34m.\u001b[0m\u001b[0mget_tightbbox\u001b[0m\u001b[0;34m(\u001b[0m\u001b[0mrenderer\u001b[0m\u001b[0;34m)\u001b[0m\u001b[0;34m\u001b[0m\u001b[0;34m\u001b[0m\u001b[0m\n\u001b[0m\u001b[1;32m   2507\u001b[0m             \u001b[0;32mif\u001b[0m \u001b[0mbbox\u001b[0m \u001b[0;32mis\u001b[0m \u001b[0;32mnot\u001b[0m \u001b[0;32mNone\u001b[0m \u001b[0;32mand\u001b[0m \u001b[0;34m(\u001b[0m\u001b[0mbbox\u001b[0m\u001b[0;34m.\u001b[0m\u001b[0mwidth\u001b[0m \u001b[0;34m!=\u001b[0m \u001b[0;36m0\u001b[0m \u001b[0;32mor\u001b[0m \u001b[0mbbox\u001b[0m\u001b[0;34m.\u001b[0m\u001b[0mheight\u001b[0m \u001b[0;34m!=\u001b[0m \u001b[0;36m0\u001b[0m\u001b[0;34m)\u001b[0m\u001b[0;34m:\u001b[0m\u001b[0;34m\u001b[0m\u001b[0;34m\u001b[0m\u001b[0m\n\u001b[1;32m   2508\u001b[0m                 \u001b[0mbb\u001b[0m\u001b[0;34m.\u001b[0m\u001b[0mappend\u001b[0m\u001b[0;34m(\u001b[0m\u001b[0mbbox\u001b[0m\u001b[0;34m)\u001b[0m\u001b[0;34m\u001b[0m\u001b[0;34m\u001b[0m\u001b[0m\n",
            "\u001b[0;32m/usr/local/lib/python3.7/dist-packages/matplotlib/artist.py\u001b[0m in \u001b[0;36mget_tightbbox\u001b[0;34m(self, renderer)\u001b[0m\n\u001b[1;32m    276\u001b[0m             \u001b[0mThe\u001b[0m \u001b[0menclosing\u001b[0m \u001b[0mbounding\u001b[0m \u001b[0mbox\u001b[0m \u001b[0;34m(\u001b[0m\u001b[0;32min\u001b[0m \u001b[0mfigure\u001b[0m \u001b[0mpixel\u001b[0m \u001b[0mcoordinates\u001b[0m\u001b[0;34m)\u001b[0m\u001b[0;34m.\u001b[0m\u001b[0;34m\u001b[0m\u001b[0;34m\u001b[0m\u001b[0m\n\u001b[1;32m    277\u001b[0m         \"\"\"\n\u001b[0;32m--> 278\u001b[0;31m         \u001b[0mbbox\u001b[0m \u001b[0;34m=\u001b[0m \u001b[0mself\u001b[0m\u001b[0;34m.\u001b[0m\u001b[0mget_window_extent\u001b[0m\u001b[0;34m(\u001b[0m\u001b[0mrenderer\u001b[0m\u001b[0;34m)\u001b[0m\u001b[0;34m\u001b[0m\u001b[0;34m\u001b[0m\u001b[0m\n\u001b[0m\u001b[1;32m    279\u001b[0m         \u001b[0;32mif\u001b[0m \u001b[0mself\u001b[0m\u001b[0;34m.\u001b[0m\u001b[0mget_clip_on\u001b[0m\u001b[0;34m(\u001b[0m\u001b[0;34m)\u001b[0m\u001b[0;34m:\u001b[0m\u001b[0;34m\u001b[0m\u001b[0;34m\u001b[0m\u001b[0m\n\u001b[1;32m    280\u001b[0m             \u001b[0mclip_box\u001b[0m \u001b[0;34m=\u001b[0m \u001b[0mself\u001b[0m\u001b[0;34m.\u001b[0m\u001b[0mget_clip_box\u001b[0m\u001b[0;34m(\u001b[0m\u001b[0;34m)\u001b[0m\u001b[0;34m\u001b[0m\u001b[0;34m\u001b[0m\u001b[0m\n",
            "\u001b[0;32m/usr/local/lib/python3.7/dist-packages/matplotlib/text.py\u001b[0m in \u001b[0;36mget_window_extent\u001b[0;34m(self, renderer)\u001b[0m\n\u001b[1;32m   1928\u001b[0m \u001b[0;34m\u001b[0m\u001b[0m\n\u001b[1;32m   1929\u001b[0m         \u001b[0;32mif\u001b[0m \u001b[0mself\u001b[0m\u001b[0;34m.\u001b[0m\u001b[0marrow_patch\u001b[0m \u001b[0;32mis\u001b[0m \u001b[0;32mnot\u001b[0m \u001b[0;32mNone\u001b[0m\u001b[0;34m:\u001b[0m\u001b[0;34m\u001b[0m\u001b[0;34m\u001b[0m\u001b[0m\n\u001b[0;32m-> 1930\u001b[0;31m             \u001b[0mbboxes\u001b[0m\u001b[0;34m.\u001b[0m\u001b[0mappend\u001b[0m\u001b[0;34m(\u001b[0m\u001b[0mself\u001b[0m\u001b[0;34m.\u001b[0m\u001b[0marrow_patch\u001b[0m\u001b[0;34m.\u001b[0m\u001b[0mget_window_extent\u001b[0m\u001b[0;34m(\u001b[0m\u001b[0;34m)\u001b[0m\u001b[0;34m)\u001b[0m\u001b[0;34m\u001b[0m\u001b[0;34m\u001b[0m\u001b[0m\n\u001b[0m\u001b[1;32m   1931\u001b[0m \u001b[0;34m\u001b[0m\u001b[0m\n\u001b[1;32m   1932\u001b[0m         \u001b[0;32mreturn\u001b[0m \u001b[0mBbox\u001b[0m\u001b[0;34m.\u001b[0m\u001b[0munion\u001b[0m\u001b[0;34m(\u001b[0m\u001b[0mbboxes\u001b[0m\u001b[0;34m)\u001b[0m\u001b[0;34m\u001b[0m\u001b[0;34m\u001b[0m\u001b[0m\n",
            "\u001b[0;32m/usr/local/lib/python3.7/dist-packages/matplotlib/patches.py\u001b[0m in \u001b[0;36mget_window_extent\u001b[0;34m(self, renderer)\u001b[0m\n\u001b[1;32m    596\u001b[0m \u001b[0;34m\u001b[0m\u001b[0m\n\u001b[1;32m    597\u001b[0m     \u001b[0;32mdef\u001b[0m \u001b[0mget_window_extent\u001b[0m\u001b[0;34m(\u001b[0m\u001b[0mself\u001b[0m\u001b[0;34m,\u001b[0m \u001b[0mrenderer\u001b[0m\u001b[0;34m=\u001b[0m\u001b[0;32mNone\u001b[0m\u001b[0;34m)\u001b[0m\u001b[0;34m:\u001b[0m\u001b[0;34m\u001b[0m\u001b[0;34m\u001b[0m\u001b[0m\n\u001b[0;32m--> 598\u001b[0;31m         \u001b[0;32mreturn\u001b[0m \u001b[0mself\u001b[0m\u001b[0;34m.\u001b[0m\u001b[0mget_path\u001b[0m\u001b[0;34m(\u001b[0m\u001b[0;34m)\u001b[0m\u001b[0;34m.\u001b[0m\u001b[0mget_extents\u001b[0m\u001b[0;34m(\u001b[0m\u001b[0mself\u001b[0m\u001b[0;34m.\u001b[0m\u001b[0mget_transform\u001b[0m\u001b[0;34m(\u001b[0m\u001b[0;34m)\u001b[0m\u001b[0;34m)\u001b[0m\u001b[0;34m\u001b[0m\u001b[0;34m\u001b[0m\u001b[0m\n\u001b[0m\u001b[1;32m    599\u001b[0m \u001b[0;34m\u001b[0m\u001b[0m\n\u001b[1;32m    600\u001b[0m     \u001b[0;32mdef\u001b[0m \u001b[0m_convert_xy_units\u001b[0m\u001b[0;34m(\u001b[0m\u001b[0mself\u001b[0m\u001b[0;34m,\u001b[0m \u001b[0mxy\u001b[0m\u001b[0;34m)\u001b[0m\u001b[0;34m:\u001b[0m\u001b[0;34m\u001b[0m\u001b[0;34m\u001b[0m\u001b[0m\n",
            "\u001b[0;32m/usr/local/lib/python3.7/dist-packages/matplotlib/patches.py\u001b[0m in \u001b[0;36mget_path\u001b[0;34m(self)\u001b[0m\n\u001b[1;32m   4112\u001b[0m         \u001b[0;32min\u001b[0m \u001b[0mdisplay\u001b[0m \u001b[0mcoordinates\u001b[0m\u001b[0;34m.\u001b[0m\u001b[0;34m\u001b[0m\u001b[0;34m\u001b[0m\u001b[0m\n\u001b[1;32m   4113\u001b[0m         \"\"\"\n\u001b[0;32m-> 4114\u001b[0;31m         \u001b[0m_path\u001b[0m\u001b[0;34m,\u001b[0m \u001b[0mfillable\u001b[0m \u001b[0;34m=\u001b[0m \u001b[0mself\u001b[0m\u001b[0;34m.\u001b[0m\u001b[0mget_path_in_displaycoord\u001b[0m\u001b[0;34m(\u001b[0m\u001b[0;34m)\u001b[0m\u001b[0;34m\u001b[0m\u001b[0;34m\u001b[0m\u001b[0m\n\u001b[0m\u001b[1;32m   4115\u001b[0m         \u001b[0;32mif\u001b[0m \u001b[0mnp\u001b[0m\u001b[0;34m.\u001b[0m\u001b[0miterable\u001b[0m\u001b[0;34m(\u001b[0m\u001b[0mfillable\u001b[0m\u001b[0;34m)\u001b[0m\u001b[0;34m:\u001b[0m\u001b[0;34m\u001b[0m\u001b[0;34m\u001b[0m\u001b[0m\n\u001b[1;32m   4116\u001b[0m             \u001b[0m_path\u001b[0m \u001b[0;34m=\u001b[0m \u001b[0mPath\u001b[0m\u001b[0;34m.\u001b[0m\u001b[0mmake_compound_path\u001b[0m\u001b[0;34m(\u001b[0m\u001b[0;34m*\u001b[0m\u001b[0m_path\u001b[0m\u001b[0;34m)\u001b[0m\u001b[0;34m\u001b[0m\u001b[0;34m\u001b[0m\u001b[0m\n",
            "\u001b[0;32m/usr/local/lib/python3.7/dist-packages/matplotlib/patches.py\u001b[0m in \u001b[0;36mget_path_in_displaycoord\u001b[0;34m(self)\u001b[0m\n\u001b[1;32m   4129\u001b[0m                                                \u001b[0mpatchB\u001b[0m\u001b[0;34m=\u001b[0m\u001b[0mself\u001b[0m\u001b[0;34m.\u001b[0m\u001b[0mpatchB\u001b[0m\u001b[0;34m,\u001b[0m\u001b[0;34m\u001b[0m\u001b[0;34m\u001b[0m\u001b[0m\n\u001b[1;32m   4130\u001b[0m                                                \u001b[0mshrinkA\u001b[0m\u001b[0;34m=\u001b[0m\u001b[0mself\u001b[0m\u001b[0;34m.\u001b[0m\u001b[0mshrinkA\u001b[0m \u001b[0;34m*\u001b[0m \u001b[0mdpi_cor\u001b[0m\u001b[0;34m,\u001b[0m\u001b[0;34m\u001b[0m\u001b[0;34m\u001b[0m\u001b[0m\n\u001b[0;32m-> 4131\u001b[0;31m                                                \u001b[0mshrinkB\u001b[0m\u001b[0;34m=\u001b[0m\u001b[0mself\u001b[0m\u001b[0;34m.\u001b[0m\u001b[0mshrinkB\u001b[0m \u001b[0;34m*\u001b[0m \u001b[0mdpi_cor\u001b[0m\u001b[0;34m\u001b[0m\u001b[0;34m\u001b[0m\u001b[0m\n\u001b[0m\u001b[1;32m   4132\u001b[0m                                                )\n\u001b[1;32m   4133\u001b[0m         \u001b[0;32melse\u001b[0m\u001b[0;34m:\u001b[0m\u001b[0;34m\u001b[0m\u001b[0;34m\u001b[0m\u001b[0m\n",
            "\u001b[0;32m/usr/local/lib/python3.7/dist-packages/matplotlib/patches.py\u001b[0m in \u001b[0;36m__call__\u001b[0;34m(self, posA, posB, shrinkA, shrinkB, patchA, patchB)\u001b[0m\n\u001b[1;32m   2476\u001b[0m             \"\"\"\n\u001b[1;32m   2477\u001b[0m             \u001b[0mpath\u001b[0m \u001b[0;34m=\u001b[0m \u001b[0mself\u001b[0m\u001b[0;34m.\u001b[0m\u001b[0mconnect\u001b[0m\u001b[0;34m(\u001b[0m\u001b[0mposA\u001b[0m\u001b[0;34m,\u001b[0m \u001b[0mposB\u001b[0m\u001b[0;34m)\u001b[0m\u001b[0;34m\u001b[0m\u001b[0;34m\u001b[0m\u001b[0m\n\u001b[0;32m-> 2478\u001b[0;31m             \u001b[0mclipped_path\u001b[0m \u001b[0;34m=\u001b[0m \u001b[0mself\u001b[0m\u001b[0;34m.\u001b[0m\u001b[0m_clip\u001b[0m\u001b[0;34m(\u001b[0m\u001b[0mpath\u001b[0m\u001b[0;34m,\u001b[0m \u001b[0mpatchA\u001b[0m\u001b[0;34m,\u001b[0m \u001b[0mpatchB\u001b[0m\u001b[0;34m)\u001b[0m\u001b[0;34m\u001b[0m\u001b[0;34m\u001b[0m\u001b[0m\n\u001b[0m\u001b[1;32m   2479\u001b[0m             \u001b[0mshrunk_path\u001b[0m \u001b[0;34m=\u001b[0m \u001b[0mself\u001b[0m\u001b[0;34m.\u001b[0m\u001b[0m_shrink\u001b[0m\u001b[0;34m(\u001b[0m\u001b[0mclipped_path\u001b[0m\u001b[0;34m,\u001b[0m \u001b[0mshrinkA\u001b[0m\u001b[0;34m,\u001b[0m \u001b[0mshrinkB\u001b[0m\u001b[0;34m)\u001b[0m\u001b[0;34m\u001b[0m\u001b[0;34m\u001b[0m\u001b[0m\n\u001b[1;32m   2480\u001b[0m             \u001b[0;32mreturn\u001b[0m \u001b[0mshrunk_path\u001b[0m\u001b[0;34m\u001b[0m\u001b[0;34m\u001b[0m\u001b[0m\n",
            "\u001b[0;32m/usr/local/lib/python3.7/dist-packages/matplotlib/patches.py\u001b[0m in \u001b[0;36m_clip\u001b[0;34m(self, path, patchA, patchB)\u001b[0m\n\u001b[1;32m   2431\u001b[0m \u001b[0;34m\u001b[0m\u001b[0m\n\u001b[1;32m   2432\u001b[0m                 \u001b[0;32mtry\u001b[0m\u001b[0;34m:\u001b[0m\u001b[0;34m\u001b[0m\u001b[0;34m\u001b[0m\u001b[0m\n\u001b[0;32m-> 2433\u001b[0;31m                     \u001b[0mleft\u001b[0m\u001b[0;34m,\u001b[0m \u001b[0mright\u001b[0m \u001b[0;34m=\u001b[0m \u001b[0msplit_path_inout\u001b[0m\u001b[0;34m(\u001b[0m\u001b[0mpath\u001b[0m\u001b[0;34m,\u001b[0m \u001b[0minsideA\u001b[0m\u001b[0;34m)\u001b[0m\u001b[0;34m\u001b[0m\u001b[0;34m\u001b[0m\u001b[0m\n\u001b[0m\u001b[1;32m   2434\u001b[0m                 \u001b[0;32mexcept\u001b[0m \u001b[0mValueError\u001b[0m\u001b[0;34m:\u001b[0m\u001b[0;34m\u001b[0m\u001b[0;34m\u001b[0m\u001b[0m\n\u001b[1;32m   2435\u001b[0m                     \u001b[0mright\u001b[0m \u001b[0;34m=\u001b[0m \u001b[0mpath\u001b[0m\u001b[0;34m\u001b[0m\u001b[0;34m\u001b[0m\u001b[0m\n",
            "\u001b[0;32m/usr/local/lib/python3.7/dist-packages/matplotlib/bezier.py\u001b[0m in \u001b[0;36msplit_path_inout\u001b[0;34m(path, inside, tolerance, reorder_inout)\u001b[0m\n\u001b[1;32m    367\u001b[0m     \u001b[0mbp\u001b[0m \u001b[0;34m=\u001b[0m \u001b[0mbezier_path\u001b[0m\u001b[0;34m.\u001b[0m\u001b[0mreshape\u001b[0m\u001b[0;34m(\u001b[0m\u001b[0;34m(\u001b[0m\u001b[0;34m-\u001b[0m\u001b[0;36m1\u001b[0m\u001b[0;34m,\u001b[0m \u001b[0;36m2\u001b[0m\u001b[0;34m)\u001b[0m\u001b[0;34m)\u001b[0m\u001b[0;34m\u001b[0m\u001b[0;34m\u001b[0m\u001b[0m\n\u001b[1;32m    368\u001b[0m     left, right = split_bezier_intersecting_with_closedpath(\n\u001b[0;32m--> 369\u001b[0;31m         bp, inside, tolerance)\n\u001b[0m\u001b[1;32m    370\u001b[0m     \u001b[0;32mif\u001b[0m \u001b[0mlen\u001b[0m\u001b[0;34m(\u001b[0m\u001b[0mleft\u001b[0m\u001b[0;34m)\u001b[0m \u001b[0;34m==\u001b[0m \u001b[0;36m2\u001b[0m\u001b[0;34m:\u001b[0m\u001b[0;34m\u001b[0m\u001b[0;34m\u001b[0m\u001b[0m\n\u001b[1;32m    371\u001b[0m         \u001b[0mcodes_left\u001b[0m \u001b[0;34m=\u001b[0m \u001b[0;34m[\u001b[0m\u001b[0mPath\u001b[0m\u001b[0;34m.\u001b[0m\u001b[0mLINETO\u001b[0m\u001b[0;34m]\u001b[0m\u001b[0;34m\u001b[0m\u001b[0;34m\u001b[0m\u001b[0m\n",
            "\u001b[0;32m/usr/local/lib/python3.7/dist-packages/matplotlib/bezier.py\u001b[0m in \u001b[0;36msplit_bezier_intersecting_with_closedpath\u001b[0;34m(bezier, inside_closedpath, tolerance)\u001b[0m\n\u001b[1;32m    330\u001b[0m \u001b[0;34m\u001b[0m\u001b[0m\n\u001b[1;32m    331\u001b[0m     t0, t1 = find_bezier_t_intersecting_with_closedpath(\n\u001b[0;32m--> 332\u001b[0;31m         bezier_point_at_t, inside_closedpath, tolerance=tolerance)\n\u001b[0m\u001b[1;32m    333\u001b[0m \u001b[0;34m\u001b[0m\u001b[0m\n\u001b[1;32m    334\u001b[0m     \u001b[0m_left\u001b[0m\u001b[0;34m,\u001b[0m \u001b[0m_right\u001b[0m \u001b[0;34m=\u001b[0m \u001b[0msplit_de_casteljau\u001b[0m\u001b[0;34m(\u001b[0m\u001b[0mbezier\u001b[0m\u001b[0;34m,\u001b[0m \u001b[0;34m(\u001b[0m\u001b[0mt0\u001b[0m \u001b[0;34m+\u001b[0m \u001b[0mt1\u001b[0m\u001b[0;34m)\u001b[0m \u001b[0;34m/\u001b[0m \u001b[0;36m2.\u001b[0m\u001b[0;34m)\u001b[0m\u001b[0;34m\u001b[0m\u001b[0;34m\u001b[0m\u001b[0m\n",
            "\u001b[0;32m/usr/local/lib/python3.7/dist-packages/matplotlib/bezier.py\u001b[0m in \u001b[0;36mfind_bezier_t_intersecting_with_closedpath\u001b[0;34m(bezier_point_at_t, inside_closedpath, t0, t1, tolerance)\u001b[0m\n\u001b[1;32m    167\u001b[0m         \u001b[0mmiddle_t\u001b[0m \u001b[0;34m=\u001b[0m \u001b[0;36m0.5\u001b[0m \u001b[0;34m*\u001b[0m \u001b[0;34m(\u001b[0m\u001b[0mt0\u001b[0m \u001b[0;34m+\u001b[0m \u001b[0mt1\u001b[0m\u001b[0;34m)\u001b[0m\u001b[0;34m\u001b[0m\u001b[0;34m\u001b[0m\u001b[0m\n\u001b[1;32m    168\u001b[0m         \u001b[0mmiddle\u001b[0m \u001b[0;34m=\u001b[0m \u001b[0mbezier_point_at_t\u001b[0m\u001b[0;34m(\u001b[0m\u001b[0mmiddle_t\u001b[0m\u001b[0;34m)\u001b[0m\u001b[0;34m\u001b[0m\u001b[0;34m\u001b[0m\u001b[0m\n\u001b[0;32m--> 169\u001b[0;31m         \u001b[0mmiddle_inside\u001b[0m \u001b[0;34m=\u001b[0m \u001b[0minside_closedpath\u001b[0m\u001b[0;34m(\u001b[0m\u001b[0mmiddle\u001b[0m\u001b[0;34m)\u001b[0m\u001b[0;34m\u001b[0m\u001b[0;34m\u001b[0m\u001b[0m\n\u001b[0m\u001b[1;32m    170\u001b[0m \u001b[0;34m\u001b[0m\u001b[0m\n\u001b[1;32m    171\u001b[0m         \u001b[0;32mif\u001b[0m \u001b[0mstart_inside\u001b[0m \u001b[0;34m^\u001b[0m \u001b[0mmiddle_inside\u001b[0m\u001b[0;34m:\u001b[0m\u001b[0;34m\u001b[0m\u001b[0;34m\u001b[0m\u001b[0m\n",
            "\u001b[0;32m/usr/local/lib/python3.7/dist-packages/matplotlib/patches.py\u001b[0m in \u001b[0;36minsideA\u001b[0;34m(xy_display)\u001b[0m\n\u001b[1;32m   2428\u001b[0m                 \u001b[0;32mdef\u001b[0m \u001b[0minsideA\u001b[0m\u001b[0;34m(\u001b[0m\u001b[0mxy_display\u001b[0m\u001b[0;34m)\u001b[0m\u001b[0;34m:\u001b[0m\u001b[0;34m\u001b[0m\u001b[0;34m\u001b[0m\u001b[0m\n\u001b[1;32m   2429\u001b[0m                     \u001b[0mxy_event\u001b[0m \u001b[0;34m=\u001b[0m \u001b[0mConnectionStyle\u001b[0m\u001b[0;34m.\u001b[0m\u001b[0m_Base\u001b[0m\u001b[0;34m.\u001b[0m\u001b[0mSimpleEvent\u001b[0m\u001b[0;34m(\u001b[0m\u001b[0mxy_display\u001b[0m\u001b[0;34m)\u001b[0m\u001b[0;34m\u001b[0m\u001b[0;34m\u001b[0m\u001b[0m\n\u001b[0;32m-> 2430\u001b[0;31m                     \u001b[0;32mreturn\u001b[0m \u001b[0mpatchA\u001b[0m\u001b[0;34m.\u001b[0m\u001b[0mcontains\u001b[0m\u001b[0;34m(\u001b[0m\u001b[0mxy_event\u001b[0m\u001b[0;34m)\u001b[0m\u001b[0;34m[\u001b[0m\u001b[0;36m0\u001b[0m\u001b[0;34m]\u001b[0m\u001b[0;34m\u001b[0m\u001b[0;34m\u001b[0m\u001b[0m\n\u001b[0m\u001b[1;32m   2431\u001b[0m \u001b[0;34m\u001b[0m\u001b[0m\n\u001b[1;32m   2432\u001b[0m                 \u001b[0;32mtry\u001b[0m\u001b[0;34m:\u001b[0m\u001b[0;34m\u001b[0m\u001b[0;34m\u001b[0m\u001b[0m\n",
            "\u001b[0;32m/usr/local/lib/python3.7/dist-packages/matplotlib/patches.py\u001b[0m in \u001b[0;36mcontains\u001b[0;34m(self, mouseevent, radius)\u001b[0m\n\u001b[1;32m    148\u001b[0m             subpath.contains_point(\n\u001b[1;32m    149\u001b[0m                 (mouseevent.x, mouseevent.y), self.get_transform(), radius)\n\u001b[0;32m--> 150\u001b[0;31m             for subpath in subpaths)\n\u001b[0m\u001b[1;32m    151\u001b[0m         \u001b[0;32mreturn\u001b[0m \u001b[0minside\u001b[0m\u001b[0;34m,\u001b[0m \u001b[0;34m{\u001b[0m\u001b[0;34m}\u001b[0m\u001b[0;34m\u001b[0m\u001b[0;34m\u001b[0m\u001b[0m\n\u001b[1;32m    152\u001b[0m \u001b[0;34m\u001b[0m\u001b[0m\n",
            "\u001b[0;32m/usr/local/lib/python3.7/dist-packages/matplotlib/patches.py\u001b[0m in \u001b[0;36m<genexpr>\u001b[0;34m(.0)\u001b[0m\n\u001b[1;32m    148\u001b[0m             subpath.contains_point(\n\u001b[1;32m    149\u001b[0m                 (mouseevent.x, mouseevent.y), self.get_transform(), radius)\n\u001b[0;32m--> 150\u001b[0;31m             for subpath in subpaths)\n\u001b[0m\u001b[1;32m    151\u001b[0m         \u001b[0;32mreturn\u001b[0m \u001b[0minside\u001b[0m\u001b[0;34m,\u001b[0m \u001b[0;34m{\u001b[0m\u001b[0;34m}\u001b[0m\u001b[0;34m\u001b[0m\u001b[0;34m\u001b[0m\u001b[0m\n\u001b[1;32m    152\u001b[0m \u001b[0;34m\u001b[0m\u001b[0m\n",
            "\u001b[0;32m/usr/local/lib/python3.7/dist-packages/matplotlib/patches.py\u001b[0m in \u001b[0;36mget_transform\u001b[0;34m(self)\u001b[0m\n\u001b[1;32m    258\u001b[0m     \u001b[0;32mdef\u001b[0m \u001b[0mget_transform\u001b[0m\u001b[0;34m(\u001b[0m\u001b[0mself\u001b[0m\u001b[0;34m)\u001b[0m\u001b[0;34m:\u001b[0m\u001b[0;34m\u001b[0m\u001b[0;34m\u001b[0m\u001b[0m\n\u001b[1;32m    259\u001b[0m         \u001b[0;34m\"\"\"Return the `~.transforms.Transform` applied to the `Patch`.\"\"\"\u001b[0m\u001b[0;34m\u001b[0m\u001b[0;34m\u001b[0m\u001b[0m\n\u001b[0;32m--> 260\u001b[0;31m         \u001b[0;32mreturn\u001b[0m \u001b[0mself\u001b[0m\u001b[0;34m.\u001b[0m\u001b[0mget_patch_transform\u001b[0m\u001b[0;34m(\u001b[0m\u001b[0;34m)\u001b[0m \u001b[0;34m+\u001b[0m \u001b[0martist\u001b[0m\u001b[0;34m.\u001b[0m\u001b[0mArtist\u001b[0m\u001b[0;34m.\u001b[0m\u001b[0mget_transform\u001b[0m\u001b[0;34m(\u001b[0m\u001b[0mself\u001b[0m\u001b[0;34m)\u001b[0m\u001b[0;34m\u001b[0m\u001b[0;34m\u001b[0m\u001b[0m\n\u001b[0m\u001b[1;32m    261\u001b[0m \u001b[0;34m\u001b[0m\u001b[0m\n\u001b[1;32m    262\u001b[0m     \u001b[0;32mdef\u001b[0m \u001b[0mget_data_transform\u001b[0m\u001b[0;34m(\u001b[0m\u001b[0mself\u001b[0m\u001b[0;34m)\u001b[0m\u001b[0;34m:\u001b[0m\u001b[0;34m\u001b[0m\u001b[0;34m\u001b[0m\u001b[0m\n",
            "\u001b[0;32m/usr/local/lib/python3.7/dist-packages/matplotlib/patches.py\u001b[0m in \u001b[0;36mget_patch_transform\u001b[0;34m(self)\u001b[0m\n\u001b[1;32m    790\u001b[0m \u001b[0;34m\u001b[0m\u001b[0m\n\u001b[1;32m    791\u001b[0m     \u001b[0;32mdef\u001b[0m \u001b[0mget_patch_transform\u001b[0m\u001b[0;34m(\u001b[0m\u001b[0mself\u001b[0m\u001b[0;34m)\u001b[0m\u001b[0;34m:\u001b[0m\u001b[0;34m\u001b[0m\u001b[0;34m\u001b[0m\u001b[0m\n\u001b[0;32m--> 792\u001b[0;31m         \u001b[0mself\u001b[0m\u001b[0;34m.\u001b[0m\u001b[0m_update_patch_transform\u001b[0m\u001b[0;34m(\u001b[0m\u001b[0;34m)\u001b[0m\u001b[0;34m\u001b[0m\u001b[0;34m\u001b[0m\u001b[0m\n\u001b[0m\u001b[1;32m    793\u001b[0m         \u001b[0;32mreturn\u001b[0m \u001b[0mself\u001b[0m\u001b[0;34m.\u001b[0m\u001b[0m_rect_transform\u001b[0m\u001b[0;34m\u001b[0m\u001b[0;34m\u001b[0m\u001b[0m\n\u001b[1;32m    794\u001b[0m \u001b[0;34m\u001b[0m\u001b[0m\n",
            "\u001b[0;32m/usr/local/lib/python3.7/dist-packages/matplotlib/patches.py\u001b[0m in \u001b[0;36m_update_patch_transform\u001b[0;34m(self)\u001b[0m\n\u001b[1;32m    771\u001b[0m         \u001b[0mbbox\u001b[0m \u001b[0;34m=\u001b[0m \u001b[0mtransforms\u001b[0m\u001b[0;34m.\u001b[0m\u001b[0mBbox\u001b[0m\u001b[0;34m.\u001b[0m\u001b[0mfrom_extents\u001b[0m\u001b[0;34m(\u001b[0m\u001b[0mx0\u001b[0m\u001b[0;34m,\u001b[0m \u001b[0my0\u001b[0m\u001b[0;34m,\u001b[0m \u001b[0mx1\u001b[0m\u001b[0;34m,\u001b[0m \u001b[0my1\u001b[0m\u001b[0;34m)\u001b[0m\u001b[0;34m\u001b[0m\u001b[0;34m\u001b[0m\u001b[0m\n\u001b[1;32m    772\u001b[0m         \u001b[0mrot_trans\u001b[0m \u001b[0;34m=\u001b[0m \u001b[0mtransforms\u001b[0m\u001b[0;34m.\u001b[0m\u001b[0mAffine2D\u001b[0m\u001b[0;34m(\u001b[0m\u001b[0;34m)\u001b[0m\u001b[0;34m\u001b[0m\u001b[0;34m\u001b[0m\u001b[0m\n\u001b[0;32m--> 773\u001b[0;31m         \u001b[0mrot_trans\u001b[0m\u001b[0;34m.\u001b[0m\u001b[0mrotate_deg_around\u001b[0m\u001b[0;34m(\u001b[0m\u001b[0mx0\u001b[0m\u001b[0;34m,\u001b[0m \u001b[0my0\u001b[0m\u001b[0;34m,\u001b[0m \u001b[0mself\u001b[0m\u001b[0;34m.\u001b[0m\u001b[0mangle\u001b[0m\u001b[0;34m)\u001b[0m\u001b[0;34m\u001b[0m\u001b[0;34m\u001b[0m\u001b[0m\n\u001b[0m\u001b[1;32m    774\u001b[0m         \u001b[0mself\u001b[0m\u001b[0;34m.\u001b[0m\u001b[0m_rect_transform\u001b[0m \u001b[0;34m=\u001b[0m \u001b[0mtransforms\u001b[0m\u001b[0;34m.\u001b[0m\u001b[0mBboxTransformTo\u001b[0m\u001b[0;34m(\u001b[0m\u001b[0mbbox\u001b[0m\u001b[0;34m)\u001b[0m\u001b[0;34m\u001b[0m\u001b[0;34m\u001b[0m\u001b[0m\n\u001b[1;32m    775\u001b[0m         \u001b[0mself\u001b[0m\u001b[0;34m.\u001b[0m\u001b[0m_rect_transform\u001b[0m \u001b[0;34m+=\u001b[0m \u001b[0mrot_trans\u001b[0m\u001b[0;34m\u001b[0m\u001b[0;34m\u001b[0m\u001b[0m\n",
            "\u001b[0;32m/usr/local/lib/python3.7/dist-packages/matplotlib/transforms.py\u001b[0m in \u001b[0;36mrotate_deg_around\u001b[0;34m(self, x, y, degrees)\u001b[0m\n\u001b[1;32m   1965\u001b[0m         \u001b[0;31m# Cast to float to avoid wraparound issues with uint8's\u001b[0m\u001b[0;34m\u001b[0m\u001b[0;34m\u001b[0m\u001b[0;34m\u001b[0m\u001b[0m\n\u001b[1;32m   1966\u001b[0m         \u001b[0mx\u001b[0m\u001b[0;34m,\u001b[0m \u001b[0my\u001b[0m \u001b[0;34m=\u001b[0m \u001b[0mfloat\u001b[0m\u001b[0;34m(\u001b[0m\u001b[0mx\u001b[0m\u001b[0;34m)\u001b[0m\u001b[0;34m,\u001b[0m \u001b[0mfloat\u001b[0m\u001b[0;34m(\u001b[0m\u001b[0my\u001b[0m\u001b[0;34m)\u001b[0m\u001b[0;34m\u001b[0m\u001b[0;34m\u001b[0m\u001b[0m\n\u001b[0;32m-> 1967\u001b[0;31m         \u001b[0;32mreturn\u001b[0m \u001b[0mself\u001b[0m\u001b[0;34m.\u001b[0m\u001b[0mtranslate\u001b[0m\u001b[0;34m(\u001b[0m\u001b[0;34m-\u001b[0m\u001b[0mx\u001b[0m\u001b[0;34m,\u001b[0m \u001b[0;34m-\u001b[0m\u001b[0my\u001b[0m\u001b[0;34m)\u001b[0m\u001b[0;34m.\u001b[0m\u001b[0mrotate_deg\u001b[0m\u001b[0;34m(\u001b[0m\u001b[0mdegrees\u001b[0m\u001b[0;34m)\u001b[0m\u001b[0;34m.\u001b[0m\u001b[0mtranslate\u001b[0m\u001b[0;34m(\u001b[0m\u001b[0mx\u001b[0m\u001b[0;34m,\u001b[0m \u001b[0my\u001b[0m\u001b[0;34m)\u001b[0m\u001b[0;34m\u001b[0m\u001b[0;34m\u001b[0m\u001b[0m\n\u001b[0m\u001b[1;32m   1968\u001b[0m \u001b[0;34m\u001b[0m\u001b[0m\n\u001b[1;32m   1969\u001b[0m     \u001b[0;32mdef\u001b[0m \u001b[0mtranslate\u001b[0m\u001b[0;34m(\u001b[0m\u001b[0mself\u001b[0m\u001b[0;34m,\u001b[0m \u001b[0mtx\u001b[0m\u001b[0;34m,\u001b[0m \u001b[0mty\u001b[0m\u001b[0;34m)\u001b[0m\u001b[0;34m:\u001b[0m\u001b[0;34m\u001b[0m\u001b[0;34m\u001b[0m\u001b[0m\n",
            "\u001b[0;32m/usr/local/lib/python3.7/dist-packages/matplotlib/transforms.py\u001b[0m in \u001b[0;36mrotate_deg\u001b[0;34m(self, degrees)\u001b[0m\n\u001b[1;32m   1943\u001b[0m         \u001b[0;32mand\u001b[0m \u001b[0;34m:\u001b[0m\u001b[0mmeth\u001b[0m\u001b[0;34m:\u001b[0m\u001b[0;31m`\u001b[0m\u001b[0mscale\u001b[0m\u001b[0;31m`\u001b[0m\u001b[0;34m.\u001b[0m\u001b[0;34m\u001b[0m\u001b[0;34m\u001b[0m\u001b[0m\n\u001b[1;32m   1944\u001b[0m         \"\"\"\n\u001b[0;32m-> 1945\u001b[0;31m         \u001b[0;32mreturn\u001b[0m \u001b[0mself\u001b[0m\u001b[0;34m.\u001b[0m\u001b[0mrotate\u001b[0m\u001b[0;34m(\u001b[0m\u001b[0mmath\u001b[0m\u001b[0;34m.\u001b[0m\u001b[0mradians\u001b[0m\u001b[0;34m(\u001b[0m\u001b[0mdegrees\u001b[0m\u001b[0;34m)\u001b[0m\u001b[0;34m)\u001b[0m\u001b[0;34m\u001b[0m\u001b[0;34m\u001b[0m\u001b[0m\n\u001b[0m\u001b[1;32m   1946\u001b[0m \u001b[0;34m\u001b[0m\u001b[0m\n\u001b[1;32m   1947\u001b[0m     \u001b[0;32mdef\u001b[0m \u001b[0mrotate_around\u001b[0m\u001b[0;34m(\u001b[0m\u001b[0mself\u001b[0m\u001b[0;34m,\u001b[0m \u001b[0mx\u001b[0m\u001b[0;34m,\u001b[0m \u001b[0my\u001b[0m\u001b[0;34m,\u001b[0m \u001b[0mtheta\u001b[0m\u001b[0;34m)\u001b[0m\u001b[0;34m:\u001b[0m\u001b[0;34m\u001b[0m\u001b[0;34m\u001b[0m\u001b[0m\n",
            "\u001b[0;32m/usr/local/lib/python3.7/dist-packages/matplotlib/transforms.py\u001b[0m in \u001b[0;36mrotate\u001b[0;34m(self, theta)\u001b[0m\n\u001b[1;32m   1931\u001b[0m         rotate_mtx = np.array([[a, -b, 0.0], [b, a, 0.0], [0.0, 0.0, 1.0]],\n\u001b[1;32m   1932\u001b[0m                               float)\n\u001b[0;32m-> 1933\u001b[0;31m         \u001b[0mself\u001b[0m\u001b[0;34m.\u001b[0m\u001b[0m_mtx\u001b[0m \u001b[0;34m=\u001b[0m \u001b[0mnp\u001b[0m\u001b[0;34m.\u001b[0m\u001b[0mdot\u001b[0m\u001b[0;34m(\u001b[0m\u001b[0mrotate_mtx\u001b[0m\u001b[0;34m,\u001b[0m \u001b[0mself\u001b[0m\u001b[0;34m.\u001b[0m\u001b[0m_mtx\u001b[0m\u001b[0;34m)\u001b[0m\u001b[0;34m\u001b[0m\u001b[0;34m\u001b[0m\u001b[0m\n\u001b[0m\u001b[1;32m   1934\u001b[0m         \u001b[0mself\u001b[0m\u001b[0;34m.\u001b[0m\u001b[0minvalidate\u001b[0m\u001b[0;34m(\u001b[0m\u001b[0;34m)\u001b[0m\u001b[0;34m\u001b[0m\u001b[0;34m\u001b[0m\u001b[0m\n\u001b[1;32m   1935\u001b[0m         \u001b[0;32mreturn\u001b[0m \u001b[0mself\u001b[0m\u001b[0;34m\u001b[0m\u001b[0;34m\u001b[0m\u001b[0m\n",
            "\u001b[0;32m<__array_function__ internals>\u001b[0m in \u001b[0;36mdot\u001b[0;34m(*args, **kwargs)\u001b[0m\n",
            "\u001b[0;31mKeyboardInterrupt\u001b[0m: "
          ]
        }
      ]
    },
    {
      "cell_type": "markdown",
      "source": [
        "### 3) Tesseract"
      ],
      "metadata": {
        "id": "MgfkU9Qy8gGp"
      }
    },
    {
      "cell_type": "code",
      "source": [
        "import os\n",
        "import pytesseract\n",
        "from PIL import Image\n",
        "from pytesseract import Output\n",
        "import matplotlib.pyplot as plt\n",
        "\n",
        "# OCR Engine modes(–oem):\n",
        "# 0 - Legacy engine only.\n",
        "# 1 - Neural nets LSTM engine only.\n",
        "# 2 - Legacy + LSTM engines.\n",
        "# 3 - Default, based on what is available.\n",
        "\n",
        "# Page segmentation modes(–psm):\n",
        "# 0 - Orientation and script detection (OSD) only.\n",
        "# 1 - Automatic page segmentation with OSD.\n",
        "# 2 - Automatic page segmentation, but no OSD, or OCR.\n",
        "# 3 - Fully automatic page segmentation, but no OSD. (Default)\n",
        "# 4 - Assume a single column of text of variable sizes.\n",
        "# 5 - Assume a single uniform block of vertically aligned text.\n",
        "# 6 - Assume a single uniform block of text.\n",
        "# 7 - Treat the image as a single text line.\n",
        "# 8 - Treat the image as a single word.\n",
        "# 9 - Treat the image as a single word in a circle.\n",
        "# 10 - Treat the image as a single character.\n",
        "# 11 - Sparse text. Find as much text as possible in no particular order.\n",
        "# 12 - Sparse text with OSD.\n",
        "# 13 - Raw line. Treat the image as a single text line, bypassing hacks that are Tesseract-specific.\n",
        "\n",
        "def crop_word_regions(image_path='./images/sample.png', output_path='./output'):\n",
        "    if not os.path.exists(output_path):\n",
        "        os.mkdir(output_path)\n",
        "    custom_oem_psm_config = r'--oem 3 --psm 3'\n",
        "    image = Image.open(image_path)\n",
        "\n",
        "    recognized_data = pytesseract.image_to_data(\n",
        "        image, lang='eng',    # 한국어라면 lang='kor'\n",
        "        config=custom_oem_psm_config,\n",
        "        output_type=Output.DICT\n",
        "    )\n",
        "    \n",
        "    top_level = max(recognized_data['level'])\n",
        "    index = 0\n",
        "    cropped_image_path_list = []\n",
        "    for i in range(len(recognized_data['level'])):\n",
        "        level = recognized_data['level'][i]\n",
        "    \n",
        "        if level == top_level:\n",
        "            left = recognized_data['left'][i]\n",
        "            top = recognized_data['top'][i]\n",
        "            width = recognized_data['width'][i]\n",
        "            height = recognized_data['height'][i]\n",
        "            \n",
        "            output_img_path = os.path.join(output_path, f\"{str(index).zfill(4)}.png\")\n",
        "            print(output_img_path)\n",
        "            cropped_image = image.crop((\n",
        "                left,\n",
        "                top,\n",
        "                left+width,\n",
        "                top+height\n",
        "            ))\n",
        "            cropped_image.save(output_img_path)\n",
        "            cropped_image_path_list.append(output_img_path)\n",
        "            index += 1\n",
        "    return cropped_image_path_list"
      ],
      "metadata": {
        "id": "PfrLBmuf8vhy"
      },
      "execution_count": 43,
      "outputs": []
    },
    {
      "cell_type": "code",
      "source": [
        "image_path2 = '/content/drive/MyDrive/인공지능/아이펠/ES/data/ocr_python/sample_image'\n",
        "for image_list in images_list:\n",
        "  print(image_list)\n",
        "  print(image_path)\n",
        "  img_file_path = os.path.join(image_path, image_list)  #테스트용 이미지 경로입니다. 본인이 선택한 파일명으로 바꿔주세요. \n",
        "  cropped_image_path_list = crop_word_regions(img_file_path, image_path2)\n",
        "  # custom_oem_psm_config = r'--oem 3 --psm 7'\n",
        "  \n",
        "  # for image_path in cropped_image_path_list:\n",
        "  #     image = Image.open(image_path)\n",
        "  #     recognized_data = pytesseract.image_to_string(\n",
        "  #         image, lang='kor',    # 한국어라면 lang='kor'\n",
        "  #         config=custom_oem_psm_config,\n",
        "  #         output_type=Output.DICT\n",
        "  #     )\n",
        "  #     print(recognized_data['text'])\n",
        "  # print(\"Done\")\n"
      ],
      "metadata": {
        "colab": {
          "base_uri": "https://localhost:8080/",
          "height": 896
        },
        "id": "yrW56bNz87Bh",
        "outputId": "7089ade1-1213-44aa-e4b6-46dc32741c5a"
      },
      "execution_count": 44,
      "outputs": [
        {
          "output_type": "stream",
          "name": "stdout",
          "text": [
            "ocr_image.jpg\n",
            "/content/drive/MyDrive/인공지능/아이펠/ES/data/ocr_python/test_image\n",
            "/content/drive/MyDrive/인공지능/아이펠/ES/data/ocr_python/sample_image/0000.png\n",
            "/content/drive/MyDrive/인공지능/아이펠/ES/data/ocr_python/sample_image/0001.png\n",
            "/content/drive/MyDrive/인공지능/아이펠/ES/data/ocr_python/sample_image/0002.png\n",
            "/content/drive/MyDrive/인공지능/아이펠/ES/data/ocr_python/sample_image/0003.png\n",
            "/content/drive/MyDrive/인공지능/아이펠/ES/data/ocr_python/sample_image/0004.png\n",
            "/content/drive/MyDrive/인공지능/아이펠/ES/data/ocr_python/sample_image/0005.png\n",
            "/content/drive/MyDrive/인공지능/아이펠/ES/data/ocr_python/sample_image/0006.png\n",
            "/content/drive/MyDrive/인공지능/아이펠/ES/data/ocr_python/sample_image/0007.png\n",
            "/content/drive/MyDrive/인공지능/아이펠/ES/data/ocr_python/sample_image/0008.png\n",
            "/content/drive/MyDrive/인공지능/아이펠/ES/data/ocr_python/sample_image/0009.png\n",
            "/content/drive/MyDrive/인공지능/아이펠/ES/data/ocr_python/sample_image/0010.png\n",
            "/content/drive/MyDrive/인공지능/아이펠/ES/data/ocr_python/sample_image/0011.png\n",
            "ocr_image4.jpg\n",
            "/content/drive/MyDrive/인공지능/아이펠/ES/data/ocr_python/test_image\n",
            "/content/drive/MyDrive/인공지능/아이펠/ES/data/ocr_python/sample_image/0000.png\n",
            "ocr_image2.jpg\n",
            "/content/drive/MyDrive/인공지능/아이펠/ES/data/ocr_python/test_image\n",
            "/content/drive/MyDrive/인공지능/아이펠/ES/data/ocr_python/sample_image/0000.png\n",
            "/content/drive/MyDrive/인공지능/아이펠/ES/data/ocr_python/sample_image/0001.png\n",
            "ocr_image3.jpg\n",
            "/content/drive/MyDrive/인공지능/아이펠/ES/data/ocr_python/test_image\n",
            "/content/drive/MyDrive/인공지능/아이펠/ES/data/ocr_python/sample_image/0000.png\n"
          ]
        },
        {
          "output_type": "error",
          "ename": "SystemError",
          "evalue": "ignored",
          "traceback": [
            "\u001b[0;31m---------------------------------------------------------------------------\u001b[0m",
            "\u001b[0;31mAttributeError\u001b[0m                            Traceback (most recent call last)",
            "\u001b[0;32m/usr/local/lib/python3.7/dist-packages/PIL/ImageFile.py\u001b[0m in \u001b[0;36m_save\u001b[0;34m(im, fp, tile, bufsize)\u001b[0m\n\u001b[1;32m    494\u001b[0m     \u001b[0;32mtry\u001b[0m\u001b[0;34m:\u001b[0m\u001b[0;34m\u001b[0m\u001b[0;34m\u001b[0m\u001b[0m\n\u001b[0;32m--> 495\u001b[0;31m         \u001b[0mfh\u001b[0m \u001b[0;34m=\u001b[0m \u001b[0mfp\u001b[0m\u001b[0;34m.\u001b[0m\u001b[0mfileno\u001b[0m\u001b[0;34m(\u001b[0m\u001b[0;34m)\u001b[0m\u001b[0;34m\u001b[0m\u001b[0;34m\u001b[0m\u001b[0m\n\u001b[0m\u001b[1;32m    496\u001b[0m         \u001b[0mfp\u001b[0m\u001b[0;34m.\u001b[0m\u001b[0mflush\u001b[0m\u001b[0;34m(\u001b[0m\u001b[0;34m)\u001b[0m\u001b[0;34m\u001b[0m\u001b[0;34m\u001b[0m\u001b[0m\n",
            "\u001b[0;31mAttributeError\u001b[0m: '_idat' object has no attribute 'fileno'",
            "\nDuring handling of the above exception, another exception occurred:\n",
            "\u001b[0;31mSystemError\u001b[0m                               Traceback (most recent call last)",
            "\u001b[0;32m<ipython-input-44-6716cd5ba13f>\u001b[0m in \u001b[0;36m<module>\u001b[0;34m\u001b[0m\n\u001b[1;32m      4\u001b[0m   \u001b[0mprint\u001b[0m\u001b[0;34m(\u001b[0m\u001b[0mimage_path\u001b[0m\u001b[0;34m)\u001b[0m\u001b[0;34m\u001b[0m\u001b[0;34m\u001b[0m\u001b[0m\n\u001b[1;32m      5\u001b[0m   \u001b[0mimg_file_path\u001b[0m \u001b[0;34m=\u001b[0m \u001b[0mos\u001b[0m\u001b[0;34m.\u001b[0m\u001b[0mpath\u001b[0m\u001b[0;34m.\u001b[0m\u001b[0mjoin\u001b[0m\u001b[0;34m(\u001b[0m\u001b[0mimage_path\u001b[0m\u001b[0;34m,\u001b[0m \u001b[0mimage_list\u001b[0m\u001b[0;34m)\u001b[0m  \u001b[0;31m#테스트용 이미지 경로입니다. 본인이 선택한 파일명으로 바꿔주세요.\u001b[0m\u001b[0;34m\u001b[0m\u001b[0;34m\u001b[0m\u001b[0m\n\u001b[0;32m----> 6\u001b[0;31m   \u001b[0mcropped_image_path_list\u001b[0m \u001b[0;34m=\u001b[0m \u001b[0mcrop_word_regions\u001b[0m\u001b[0;34m(\u001b[0m\u001b[0mimg_file_path\u001b[0m\u001b[0;34m,\u001b[0m \u001b[0mimage_path2\u001b[0m\u001b[0;34m)\u001b[0m\u001b[0;34m\u001b[0m\u001b[0;34m\u001b[0m\u001b[0m\n\u001b[0m\u001b[1;32m      7\u001b[0m   \u001b[0;31m# custom_oem_psm_config = r'--oem 3 --psm 7'\u001b[0m\u001b[0;34m\u001b[0m\u001b[0;34m\u001b[0m\u001b[0;34m\u001b[0m\u001b[0m\n\u001b[1;32m      8\u001b[0m \u001b[0;34m\u001b[0m\u001b[0m\n",
            "\u001b[0;32m<ipython-input-43-58a71f141ece>\u001b[0m in \u001b[0;36mcrop_word_regions\u001b[0;34m(image_path, output_path)\u001b[0m\n\u001b[1;32m     59\u001b[0m                 \u001b[0mtop\u001b[0m\u001b[0;34m+\u001b[0m\u001b[0mheight\u001b[0m\u001b[0;34m\u001b[0m\u001b[0;34m\u001b[0m\u001b[0m\n\u001b[1;32m     60\u001b[0m             ))\n\u001b[0;32m---> 61\u001b[0;31m             \u001b[0mcropped_image\u001b[0m\u001b[0;34m.\u001b[0m\u001b[0msave\u001b[0m\u001b[0;34m(\u001b[0m\u001b[0moutput_img_path\u001b[0m\u001b[0;34m)\u001b[0m\u001b[0;34m\u001b[0m\u001b[0;34m\u001b[0m\u001b[0m\n\u001b[0m\u001b[1;32m     62\u001b[0m             \u001b[0mcropped_image_path_list\u001b[0m\u001b[0;34m.\u001b[0m\u001b[0mappend\u001b[0m\u001b[0;34m(\u001b[0m\u001b[0moutput_img_path\u001b[0m\u001b[0;34m)\u001b[0m\u001b[0;34m\u001b[0m\u001b[0;34m\u001b[0m\u001b[0m\n\u001b[1;32m     63\u001b[0m             \u001b[0mindex\u001b[0m \u001b[0;34m+=\u001b[0m \u001b[0;36m1\u001b[0m\u001b[0;34m\u001b[0m\u001b[0;34m\u001b[0m\u001b[0m\n",
            "\u001b[0;32m/usr/local/lib/python3.7/dist-packages/PIL/Image.py\u001b[0m in \u001b[0;36msave\u001b[0;34m(self, fp, format, **params)\u001b[0m\n\u001b[1;32m   2210\u001b[0m \u001b[0;34m\u001b[0m\u001b[0m\n\u001b[1;32m   2211\u001b[0m         \u001b[0;32mtry\u001b[0m\u001b[0;34m:\u001b[0m\u001b[0;34m\u001b[0m\u001b[0;34m\u001b[0m\u001b[0m\n\u001b[0;32m-> 2212\u001b[0;31m             \u001b[0msave_handler\u001b[0m\u001b[0;34m(\u001b[0m\u001b[0mself\u001b[0m\u001b[0;34m,\u001b[0m \u001b[0mfp\u001b[0m\u001b[0;34m,\u001b[0m \u001b[0mfilename\u001b[0m\u001b[0;34m)\u001b[0m\u001b[0;34m\u001b[0m\u001b[0;34m\u001b[0m\u001b[0m\n\u001b[0m\u001b[1;32m   2213\u001b[0m         \u001b[0;32mfinally\u001b[0m\u001b[0;34m:\u001b[0m\u001b[0;34m\u001b[0m\u001b[0;34m\u001b[0m\u001b[0m\n\u001b[1;32m   2214\u001b[0m             \u001b[0;31m# do what we can to clean up\u001b[0m\u001b[0;34m\u001b[0m\u001b[0;34m\u001b[0m\u001b[0;34m\u001b[0m\u001b[0m\n",
            "\u001b[0;32m/usr/local/lib/python3.7/dist-packages/PIL/PngImagePlugin.py\u001b[0m in \u001b[0;36m_save\u001b[0;34m(im, fp, filename, chunk, save_all)\u001b[0m\n\u001b[1;32m   1346\u001b[0m         \u001b[0m_write_multiple_frames\u001b[0m\u001b[0;34m(\u001b[0m\u001b[0mim\u001b[0m\u001b[0;34m,\u001b[0m \u001b[0mfp\u001b[0m\u001b[0;34m,\u001b[0m \u001b[0mchunk\u001b[0m\u001b[0;34m,\u001b[0m \u001b[0mrawmode\u001b[0m\u001b[0;34m)\u001b[0m\u001b[0;34m\u001b[0m\u001b[0;34m\u001b[0m\u001b[0m\n\u001b[1;32m   1347\u001b[0m     \u001b[0;32melse\u001b[0m\u001b[0;34m:\u001b[0m\u001b[0;34m\u001b[0m\u001b[0;34m\u001b[0m\u001b[0m\n\u001b[0;32m-> 1348\u001b[0;31m         \u001b[0mImageFile\u001b[0m\u001b[0;34m.\u001b[0m\u001b[0m_save\u001b[0m\u001b[0;34m(\u001b[0m\u001b[0mim\u001b[0m\u001b[0;34m,\u001b[0m \u001b[0m_idat\u001b[0m\u001b[0;34m(\u001b[0m\u001b[0mfp\u001b[0m\u001b[0;34m,\u001b[0m \u001b[0mchunk\u001b[0m\u001b[0;34m)\u001b[0m\u001b[0;34m,\u001b[0m \u001b[0;34m[\u001b[0m\u001b[0;34m(\u001b[0m\u001b[0;34m\"zip\"\u001b[0m\u001b[0;34m,\u001b[0m \u001b[0;34m(\u001b[0m\u001b[0;36m0\u001b[0m\u001b[0;34m,\u001b[0m \u001b[0;36m0\u001b[0m\u001b[0;34m)\u001b[0m \u001b[0;34m+\u001b[0m \u001b[0mim\u001b[0m\u001b[0;34m.\u001b[0m\u001b[0msize\u001b[0m\u001b[0;34m,\u001b[0m \u001b[0;36m0\u001b[0m\u001b[0;34m,\u001b[0m \u001b[0mrawmode\u001b[0m\u001b[0;34m)\u001b[0m\u001b[0;34m]\u001b[0m\u001b[0;34m)\u001b[0m\u001b[0;34m\u001b[0m\u001b[0;34m\u001b[0m\u001b[0m\n\u001b[0m\u001b[1;32m   1349\u001b[0m \u001b[0;34m\u001b[0m\u001b[0m\n\u001b[1;32m   1350\u001b[0m     \u001b[0;32mif\u001b[0m \u001b[0minfo\u001b[0m\u001b[0;34m:\u001b[0m\u001b[0;34m\u001b[0m\u001b[0;34m\u001b[0m\u001b[0m\n",
            "\u001b[0;32m/usr/local/lib/python3.7/dist-packages/PIL/ImageFile.py\u001b[0m in \u001b[0;36m_save\u001b[0;34m(im, fp, tile, bufsize)\u001b[0m\n\u001b[1;32m    501\u001b[0m             \u001b[0;32mif\u001b[0m \u001b[0mo\u001b[0m \u001b[0;34m>\u001b[0m \u001b[0;36m0\u001b[0m\u001b[0;34m:\u001b[0m\u001b[0;34m\u001b[0m\u001b[0;34m\u001b[0m\u001b[0m\n\u001b[1;32m    502\u001b[0m                 \u001b[0mfp\u001b[0m\u001b[0;34m.\u001b[0m\u001b[0mseek\u001b[0m\u001b[0;34m(\u001b[0m\u001b[0mo\u001b[0m\u001b[0;34m)\u001b[0m\u001b[0;34m\u001b[0m\u001b[0;34m\u001b[0m\u001b[0m\n\u001b[0;32m--> 503\u001b[0;31m             \u001b[0me\u001b[0m\u001b[0;34m.\u001b[0m\u001b[0msetimage\u001b[0m\u001b[0;34m(\u001b[0m\u001b[0mim\u001b[0m\u001b[0;34m.\u001b[0m\u001b[0mim\u001b[0m\u001b[0;34m,\u001b[0m \u001b[0mb\u001b[0m\u001b[0;34m)\u001b[0m\u001b[0;34m\u001b[0m\u001b[0;34m\u001b[0m\u001b[0m\n\u001b[0m\u001b[1;32m    504\u001b[0m             \u001b[0;32mif\u001b[0m \u001b[0me\u001b[0m\u001b[0;34m.\u001b[0m\u001b[0mpushes_fd\u001b[0m\u001b[0;34m:\u001b[0m\u001b[0;34m\u001b[0m\u001b[0;34m\u001b[0m\u001b[0m\n\u001b[1;32m    505\u001b[0m                 \u001b[0me\u001b[0m\u001b[0;34m.\u001b[0m\u001b[0msetfd\u001b[0m\u001b[0;34m(\u001b[0m\u001b[0mfp\u001b[0m\u001b[0;34m)\u001b[0m\u001b[0;34m\u001b[0m\u001b[0;34m\u001b[0m\u001b[0m\n",
            "\u001b[0;31mSystemError\u001b[0m: tile cannot extend outside image"
          ]
        }
      ]
    },
    {
      "cell_type": "markdown",
      "source": [
        "![image.png](data:image/png;base64,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)"
      ],
      "metadata": {
        "id": "c1Mf6stkJZ4v"
      }
    },
    {
      "cell_type": "markdown",
      "source": [
        "## 4. 테스트 결과 정리\n",
        "모듈들마다 출력 형태가 다릅니다. 분석을 위해 결과를 일목요연하게 정리해 보는 것이 도움이 될 것입니다. 시각화 방법이 함께 활용된다면 더욱 좋겠군요."
      ],
      "metadata": {
        "id": "bCnzUar1Vmzu"
      }
    },
    {
      "cell_type": "code",
      "source": [],
      "metadata": {
        "id": "LLzVF5UyVoky"
      },
      "execution_count": 32,
      "outputs": []
    },
    {
      "cell_type": "markdown",
      "source": [
        "## 5. 결과 분석과 결론 제시\n",
        "우선 여러분들이 구현하고자 하는 서비스의 목적과 내용을 먼저 정리합니다. 여러분들이 검토한 OCR 모델들이 그 목적에 부합하는지 확인하기 위해 필요한 평가 기준을 제시합니다. 그 기준에 따라 위에서 정리한 테스트 결과를 분석하여 가장 나은 대안의 모델을 선정합니다."
      ],
      "metadata": {
        "id": "JxUUfaCJVpFb"
      }
    },
    {
      "cell_type": "code",
      "source": [],
      "metadata": {
        "id": "gd1QQm4rVrmG"
      },
      "execution_count": 32,
      "outputs": []
    },
    {
      "cell_type": "markdown",
      "source": [
        "## 6. 회고"
      ],
      "metadata": {
        "id": "0JZkJFYrVsE2"
      }
    },
    {
      "cell_type": "code",
      "source": [],
      "metadata": {
        "id": "vfn2LOKUVtS1"
      },
      "execution_count": null,
      "outputs": []
    }
  ]
}