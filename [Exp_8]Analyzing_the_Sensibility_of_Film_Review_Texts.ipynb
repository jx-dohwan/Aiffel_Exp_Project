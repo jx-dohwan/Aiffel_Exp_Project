{
  "nbformat": 4,
  "nbformat_minor": 0,
  "metadata": {
    "colab": {
      "name": "[Exp_8]Analyzing the Sensibility of Film Review Texts.ipynb",
      "provenance": [],
      "collapsed_sections": [],
      "machine_shape": "hm",
      "authorship_tag": "ABX9TyNy4to32MbJnLPn8XOhjH9w",
      "include_colab_link": true
    },
    "kernelspec": {
      "name": "python3",
      "display_name": "Python 3"
    },
    "language_info": {
      "name": "python"
    },
    "accelerator": "GPU",
    "gpuClass": "standard"
  },
  "cells": [
    {
      "cell_type": "markdown",
      "metadata": {
        "id": "view-in-github",
        "colab_type": "text"
      },
      "source": [
        "<a href=\"https://colab.research.google.com/github/jx-dohwan/Aiffel_EGLMS_Project/blob/main/%5BExp_8%5DAnalyzing_the_Sensibility_of_Film_Review_Texts.ipynb\" target=\"_parent\"><img src=\"https://colab.research.google.com/assets/colab-badge.svg\" alt=\"Open In Colab\"/></a>"
      ]
    },
    {
      "cell_type": "markdown",
      "source": [
        "## 1. pip 설치 및 import\n",
        "\n",
        "\n"
      ],
      "metadata": {
        "id": "WSSU2gL_JYAu"
      }
    },
    {
      "cell_type": "code",
      "source": [
        "from google.colab import drive\n",
        "drive.mount('/content/drive')"
      ],
      "metadata": {
        "colab": {
          "base_uri": "https://localhost:8080/"
        },
        "id": "As59njthIcsW",
        "outputId": "c834e77b-23fc-4acb-96f8-0921dee7d90d"
      },
      "execution_count": 1,
      "outputs": [
        {
          "output_type": "stream",
          "name": "stdout",
          "text": [
            "Drive already mounted at /content/drive; to attempt to forcibly remount, call drive.mount(\"/content/drive\", force_remount=True).\n"
          ]
        }
      ]
    },
    {
      "cell_type": "markdown",
      "source": [
        "https://sanghyu.tistory.com/170"
      ],
      "metadata": {
        "id": "8W1JUkvANrDy"
      }
    },
    {
      "cell_type": "code",
      "source": [
        "%%bash\n",
        "apt-get update\n",
        "apt-get install g++ openjdk-8-jdk python-dev python3-dev\n",
        "pip3 install JPype1\n",
        "pip3 install konlpy"
      ],
      "metadata": {
        "colab": {
          "base_uri": "https://localhost:8080/"
        },
        "id": "B91CXHokMWwu",
        "outputId": "ad0726dd-3a74-4493-a608-304371add114"
      },
      "execution_count": 2,
      "outputs": [
        {
          "output_type": "stream",
          "name": "stdout",
          "text": [
            "Ign:1 https://developer.download.nvidia.com/compute/machine-learning/repos/ubuntu1804/x86_64  InRelease\n",
            "Hit:2 https://developer.download.nvidia.com/compute/cuda/repos/ubuntu1804/x86_64  InRelease\n",
            "Hit:3 https://developer.download.nvidia.com/compute/machine-learning/repos/ubuntu1804/x86_64  Release\n",
            "Get:4 http://security.ubuntu.com/ubuntu bionic-security InRelease [88.7 kB]\n",
            "Hit:5 https://cloud.r-project.org/bin/linux/ubuntu bionic-cran40/ InRelease\n",
            "Hit:6 http://ppa.launchpad.net/c2d4u.team/c2d4u4.0+/ubuntu bionic InRelease\n",
            "Hit:8 http://archive.ubuntu.com/ubuntu bionic InRelease\n",
            "Hit:9 http://ppa.launchpad.net/cran/libgit2/ubuntu bionic InRelease\n",
            "Get:10 http://archive.ubuntu.com/ubuntu bionic-updates InRelease [88.7 kB]\n",
            "Hit:11 http://ppa.launchpad.net/deadsnakes/ppa/ubuntu bionic InRelease\n",
            "Get:12 http://archive.ubuntu.com/ubuntu bionic-backports InRelease [74.6 kB]\n",
            "Hit:13 http://ppa.launchpad.net/graphics-drivers/ppa/ubuntu bionic InRelease\n",
            "Fetched 252 kB in 2s (119 kB/s)\n",
            "Reading package lists...\n",
            "Reading package lists...\n",
            "Building dependency tree...\n",
            "Reading state information...\n",
            "python-dev is already the newest version (2.7.15~rc1-1).\n",
            "g++ is already the newest version (4:7.4.0-1ubuntu2.3).\n",
            "python3-dev is already the newest version (3.6.7-1~18.04).\n",
            "openjdk-8-jdk is already the newest version (8u342-b07-0ubuntu1~18.04).\n",
            "The following package was automatically installed and is no longer required:\n",
            "  libnvidia-common-460\n",
            "Use 'apt autoremove' to remove it.\n",
            "0 upgraded, 0 newly installed, 0 to remove and 38 not upgraded.\n",
            "Looking in indexes: https://pypi.org/simple, https://us-python.pkg.dev/colab-wheels/public/simple/\n",
            "Requirement already satisfied: JPype1 in /usr/local/lib/python3.7/dist-packages (1.4.0)\n",
            "Requirement already satisfied: typing-extensions in /usr/local/lib/python3.7/dist-packages (from JPype1) (4.1.1)\n",
            "Looking in indexes: https://pypi.org/simple, https://us-python.pkg.dev/colab-wheels/public/simple/\n",
            "Requirement already satisfied: konlpy in /usr/local/lib/python3.7/dist-packages (0.6.0)\n",
            "Requirement already satisfied: lxml>=4.1.0 in /usr/local/lib/python3.7/dist-packages (from konlpy) (4.9.1)\n",
            "Requirement already satisfied: JPype1>=0.7.0 in /usr/local/lib/python3.7/dist-packages (from konlpy) (1.4.0)\n",
            "Requirement already satisfied: numpy>=1.6 in /usr/local/lib/python3.7/dist-packages (from konlpy) (1.21.6)\n",
            "Requirement already satisfied: typing-extensions in /usr/local/lib/python3.7/dist-packages (from JPype1>=0.7.0->konlpy) (4.1.1)\n"
          ]
        }
      ]
    },
    {
      "cell_type": "code",
      "source": [
        "%env JAVA_HOME \"/usr/lib/jvm/java-8-openjdk-amd64\""
      ],
      "metadata": {
        "colab": {
          "base_uri": "https://localhost:8080/"
        },
        "id": "phXKJ4w2M1lK",
        "outputId": "eed31ca7-032a-4c5a-c5a6-66c097a6ae82"
      },
      "execution_count": 3,
      "outputs": [
        {
          "output_type": "stream",
          "name": "stdout",
          "text": [
            "env: JAVA_HOME=\"/usr/lib/jvm/java-8-openjdk-amd64\"\n"
          ]
        }
      ]
    },
    {
      "cell_type": "code",
      "source": [
        "%%bash\n",
        "bash <(curl -s https://raw.githubusercontent.com/konlpy/konlpy/master/scripts/mecab.sh)\n",
        "pip3 install /tmp/mecab-python-0.996"
      ],
      "metadata": {
        "colab": {
          "base_uri": "https://localhost:8080/"
        },
        "id": "LA0u_tWVM3JK",
        "outputId": "a0306413-0a52-4b1e-a0ca-50c81a620027"
      },
      "execution_count": 4,
      "outputs": [
        {
          "output_type": "stream",
          "name": "stdout",
          "text": [
            "mecab-ko is already installed\n",
            "mecab-ko-dic is already installed\n",
            "mecab-python is already installed\n",
            "Done.\n",
            "Looking in indexes: https://pypi.org/simple, https://us-python.pkg.dev/colab-wheels/public/simple/\n",
            "Processing /tmp/mecab-python-0.996\n",
            "Building wheels for collected packages: mecab-python\n",
            "  Building wheel for mecab-python (setup.py): started\n",
            "  Building wheel for mecab-python (setup.py): finished with status 'done'\n",
            "  Created wheel for mecab-python: filename=mecab_python-0.996_ko_0.9.2-cp37-cp37m-linux_x86_64.whl size=141801 sha256=432a71b33640bd7bd69dfe8fc20463b7f4ff530825de9dcc80b7d035ef01836b\n",
            "  Stored in directory: /root/.cache/pip/wheels/40/7b/9f/2922869bef86c3354ae7034f7a3647c573ee1997c2dad0290a\n",
            "Failed to build mecab-python\n",
            "Installing collected packages: mecab-python\n",
            "  Attempting uninstall: mecab-python\n",
            "    Found existing installation: mecab-python 0.996-ko-0.9.2\n",
            "    Uninstalling mecab-python-0.996-ko-0.9.2:\n",
            "      Successfully uninstalled mecab-python-0.996-ko-0.9.2\n",
            "    Running setup.py install for mecab-python: started\n",
            "    Running setup.py install for mecab-python: finished with status 'done'\n",
            "Successfully installed mecab-python-0.996-ko-0.9.2\n"
          ]
        },
        {
          "output_type": "stream",
          "name": "stderr",
          "text": [
            "  DEPRECATION: A future pip version will change local packages to be built in-place without first copying to a temporary directory. We recommend you use --use-feature=in-tree-build to test your packages with this new behavior before it becomes the default.\n",
            "   pip 21.3 will remove support for this functionality. You can find discussion regarding this at https://github.com/pypa/pip/issues/7555.\n",
            "  WARNING: Built wheel for mecab-python is invalid: Metadata 1.2 mandates PEP 440 version, but '0.996-ko-0.9.2' is not\n",
            "  DEPRECATION: mecab-python was installed using the legacy 'setup.py install' method, because a wheel could not be built for it. A possible replacement is to fix the wheel build issue reported above. You can find discussion regarding this at https://github.com/pypa/pip/issues/8368.\n"
          ]
        }
      ]
    },
    {
      "cell_type": "code",
      "source": [
        "import pandas as pd\n",
        "import konlpy\n",
        "import gensim\n",
        "from konlpy.tag import Mecab\n",
        "import numpy as np\n",
        "from collections import Counter\n",
        "import tensorflow as tf\n"
      ],
      "metadata": {
        "id": "uUWo1FiCId4c"
      },
      "execution_count": 5,
      "outputs": []
    },
    {
      "cell_type": "code",
      "source": [
        "print(pd.__version__)\n",
        "print(konlpy.__version__)\n",
        "print(gensim.__version__)"
      ],
      "metadata": {
        "colab": {
          "base_uri": "https://localhost:8080/"
        },
        "id": "JfvpKtAEIxuv",
        "outputId": "b3653a57-edf8-4ef3-85d3-80a3e48f9ee8"
      },
      "execution_count": 6,
      "outputs": [
        {
          "output_type": "stream",
          "name": "stdout",
          "text": [
            "1.3.5\n",
            "0.6.0\n",
            "3.6.0\n"
          ]
        }
      ]
    },
    {
      "cell_type": "markdown",
      "source": [
        "## 2. 데이터 준비와 확인"
      ],
      "metadata": {
        "id": "vi76QA6TJdwQ"
      }
    },
    {
      "cell_type": "code",
      "source": [
        "base_path = \"/content/drive/MyDrive/인공지능/아이펠/ES/data/영화텍스트감성분석\"\n",
        "train_data = pd.read_table(base_path+'/ratings_train.txt')\n",
        "test_data = pd.read_table(base_path+'/ratings_test.txt')\n",
        "\n",
        "train_data.head()"
      ],
      "metadata": {
        "colab": {
          "base_uri": "https://localhost:8080/",
          "height": 267
        },
        "id": "0bmNekc-JRfh",
        "outputId": "5bde598e-3028-4e51-e75c-57964fa9feae"
      },
      "execution_count": 7,
      "outputs": [
        {
          "output_type": "execute_result",
          "data": {
            "text/plain": [
              "         id                                           document  label\n",
              "0   9976970                                아 더빙.. 진짜 짜증나네요 목소리      0\n",
              "1   3819312                  흠...포스터보고 초딩영화줄....오버연기조차 가볍지 않구나      1\n",
              "2  10265843                                  너무재밓었다그래서보는것을추천한다      0\n",
              "3   9045019                      교도소 이야기구먼 ..솔직히 재미는 없다..평점 조정      0\n",
              "4   6483659  사이몬페그의 익살스런 연기가 돋보였던 영화!스파이더맨에서 늙어보이기만 했던 커스틴 ...      1"
            ],
            "text/html": [
              "\n",
              "  <div id=\"df-cf472bba-3cfe-4559-b752-af2889b49e05\">\n",
              "    <div class=\"colab-df-container\">\n",
              "      <div>\n",
              "<style scoped>\n",
              "    .dataframe tbody tr th:only-of-type {\n",
              "        vertical-align: middle;\n",
              "    }\n",
              "\n",
              "    .dataframe tbody tr th {\n",
              "        vertical-align: top;\n",
              "    }\n",
              "\n",
              "    .dataframe thead th {\n",
              "        text-align: right;\n",
              "    }\n",
              "</style>\n",
              "<table border=\"1\" class=\"dataframe\">\n",
              "  <thead>\n",
              "    <tr style=\"text-align: right;\">\n",
              "      <th></th>\n",
              "      <th>id</th>\n",
              "      <th>document</th>\n",
              "      <th>label</th>\n",
              "    </tr>\n",
              "  </thead>\n",
              "  <tbody>\n",
              "    <tr>\n",
              "      <th>0</th>\n",
              "      <td>9976970</td>\n",
              "      <td>아 더빙.. 진짜 짜증나네요 목소리</td>\n",
              "      <td>0</td>\n",
              "    </tr>\n",
              "    <tr>\n",
              "      <th>1</th>\n",
              "      <td>3819312</td>\n",
              "      <td>흠...포스터보고 초딩영화줄....오버연기조차 가볍지 않구나</td>\n",
              "      <td>1</td>\n",
              "    </tr>\n",
              "    <tr>\n",
              "      <th>2</th>\n",
              "      <td>10265843</td>\n",
              "      <td>너무재밓었다그래서보는것을추천한다</td>\n",
              "      <td>0</td>\n",
              "    </tr>\n",
              "    <tr>\n",
              "      <th>3</th>\n",
              "      <td>9045019</td>\n",
              "      <td>교도소 이야기구먼 ..솔직히 재미는 없다..평점 조정</td>\n",
              "      <td>0</td>\n",
              "    </tr>\n",
              "    <tr>\n",
              "      <th>4</th>\n",
              "      <td>6483659</td>\n",
              "      <td>사이몬페그의 익살스런 연기가 돋보였던 영화!스파이더맨에서 늙어보이기만 했던 커스틴 ...</td>\n",
              "      <td>1</td>\n",
              "    </tr>\n",
              "  </tbody>\n",
              "</table>\n",
              "</div>\n",
              "      <button class=\"colab-df-convert\" onclick=\"convertToInteractive('df-cf472bba-3cfe-4559-b752-af2889b49e05')\"\n",
              "              title=\"Convert this dataframe to an interactive table.\"\n",
              "              style=\"display:none;\">\n",
              "        \n",
              "  <svg xmlns=\"http://www.w3.org/2000/svg\" height=\"24px\"viewBox=\"0 0 24 24\"\n",
              "       width=\"24px\">\n",
              "    <path d=\"M0 0h24v24H0V0z\" fill=\"none\"/>\n",
              "    <path d=\"M18.56 5.44l.94 2.06.94-2.06 2.06-.94-2.06-.94-.94-2.06-.94 2.06-2.06.94zm-11 1L8.5 8.5l.94-2.06 2.06-.94-2.06-.94L8.5 2.5l-.94 2.06-2.06.94zm10 10l.94 2.06.94-2.06 2.06-.94-2.06-.94-.94-2.06-.94 2.06-2.06.94z\"/><path d=\"M17.41 7.96l-1.37-1.37c-.4-.4-.92-.59-1.43-.59-.52 0-1.04.2-1.43.59L10.3 9.45l-7.72 7.72c-.78.78-.78 2.05 0 2.83L4 21.41c.39.39.9.59 1.41.59.51 0 1.02-.2 1.41-.59l7.78-7.78 2.81-2.81c.8-.78.8-2.07 0-2.86zM5.41 20L4 18.59l7.72-7.72 1.47 1.35L5.41 20z\"/>\n",
              "  </svg>\n",
              "      </button>\n",
              "      \n",
              "  <style>\n",
              "    .colab-df-container {\n",
              "      display:flex;\n",
              "      flex-wrap:wrap;\n",
              "      gap: 12px;\n",
              "    }\n",
              "\n",
              "    .colab-df-convert {\n",
              "      background-color: #E8F0FE;\n",
              "      border: none;\n",
              "      border-radius: 50%;\n",
              "      cursor: pointer;\n",
              "      display: none;\n",
              "      fill: #1967D2;\n",
              "      height: 32px;\n",
              "      padding: 0 0 0 0;\n",
              "      width: 32px;\n",
              "    }\n",
              "\n",
              "    .colab-df-convert:hover {\n",
              "      background-color: #E2EBFA;\n",
              "      box-shadow: 0px 1px 2px rgba(60, 64, 67, 0.3), 0px 1px 3px 1px rgba(60, 64, 67, 0.15);\n",
              "      fill: #174EA6;\n",
              "    }\n",
              "\n",
              "    [theme=dark] .colab-df-convert {\n",
              "      background-color: #3B4455;\n",
              "      fill: #D2E3FC;\n",
              "    }\n",
              "\n",
              "    [theme=dark] .colab-df-convert:hover {\n",
              "      background-color: #434B5C;\n",
              "      box-shadow: 0px 1px 3px 1px rgba(0, 0, 0, 0.15);\n",
              "      filter: drop-shadow(0px 1px 2px rgba(0, 0, 0, 0.3));\n",
              "      fill: #FFFFFF;\n",
              "    }\n",
              "  </style>\n",
              "\n",
              "      <script>\n",
              "        const buttonEl =\n",
              "          document.querySelector('#df-cf472bba-3cfe-4559-b752-af2889b49e05 button.colab-df-convert');\n",
              "        buttonEl.style.display =\n",
              "          google.colab.kernel.accessAllowed ? 'block' : 'none';\n",
              "\n",
              "        async function convertToInteractive(key) {\n",
              "          const element = document.querySelector('#df-cf472bba-3cfe-4559-b752-af2889b49e05');\n",
              "          const dataTable =\n",
              "            await google.colab.kernel.invokeFunction('convertToInteractive',\n",
              "                                                     [key], {});\n",
              "          if (!dataTable) return;\n",
              "\n",
              "          const docLinkHtml = 'Like what you see? Visit the ' +\n",
              "            '<a target=\"_blank\" href=https://colab.research.google.com/notebooks/data_table.ipynb>data table notebook</a>'\n",
              "            + ' to learn more about interactive tables.';\n",
              "          element.innerHTML = '';\n",
              "          dataTable['output_type'] = 'display_data';\n",
              "          await google.colab.output.renderOutput(dataTable, element);\n",
              "          const docLink = document.createElement('div');\n",
              "          docLink.innerHTML = docLinkHtml;\n",
              "          element.appendChild(docLink);\n",
              "        }\n",
              "      </script>\n",
              "    </div>\n",
              "  </div>\n",
              "  "
            ]
          },
          "metadata": {},
          "execution_count": 7
        }
      ]
    },
    {
      "cell_type": "markdown",
      "source": [
        "## 3. 데이터로더 구성"
      ],
      "metadata": {
        "id": "bthwVaHxQGeE"
      }
    },
    {
      "cell_type": "markdown",
      "source": [
        "실습 때 다루었던 IMDB 데이터셋은 텍스트를 가공하여 imdb.data_loader() 메서드를 호출하면 숫자 인덱스로 변환된 텍스트와 word_to_index 딕셔너리까지 친절하게 제공합니다. 그러나 이번에 다루게 될 nsmc 데이터셋은 전혀 가공되지 않은 텍스트 파일로 이루어져 있습니다. 이것을 읽어서 imdb.data_loader()와 동일하게 동작하는 자신만의 data_loader를 만들어 보는 것으로 시작합니다. data_loader 안에서는 다음을 수행해야 합니다.\n",
        "\n",
        "\n",
        "데이터의 중복 제거\n",
        "\n",
        "NaN 결측치 제거\n",
        "\n",
        "한국어 토크나이저로 토큰화\n",
        "\n",
        "불용어(Stopwords) 제거\n",
        "\n",
        "사전word_to_index 구성\n",
        "\n",
        "텍스트 스트링을 사전 인덱스 스트링으로 변환\n",
        "\n",
        "X_train, y_train, X_test, y_test, word_to_index 리턴"
      ],
      "metadata": {
        "id": "3ucow5DeQUYN"
      }
    },
    {
      "cell_type": "code",
      "source": [
        "from konlpy.tag import Mecab\n",
        "import numpy as np\n",
        "from collections import Counter\n",
        "\n",
        "tokenizer = Mecab()\n",
        "stopwords = ['의','가','이','은','들','는','좀','잘','걍','과','도','를','으로','자','에','와','한','하다']\n",
        "\n",
        "def load_data(train_data, test_data, num_words=10000):\n",
        "    train_data.drop_duplicates(subset=['document'], inplace=True)\n",
        "    train_data = train_data.dropna(how = 'any') \n",
        "    test_data.drop_duplicates(subset=['document'], inplace=True)\n",
        "    test_data = test_data.dropna(how = 'any') \n",
        "    \n",
        "    X_train = []\n",
        "    for sentence in train_data['document']:\n",
        "        temp_X = tokenizer.morphs(sentence) # 토큰화\n",
        "        temp_X = [word for word in temp_X if not word in stopwords] # 불용어 제거\n",
        "        X_train.append(temp_X)\n",
        "\n",
        "    X_test = []\n",
        "    for sentence in test_data['document']:\n",
        "        temp_X = tokenizer.morphs(sentence) # 토큰화\n",
        "        temp_X = [word for word in temp_X if not word in stopwords] # 불용어 제거\n",
        "        X_test.append(temp_X)\n",
        "    \n",
        "    words = np.concatenate(X_train).tolist()\n",
        "    counter = Counter(words)\n",
        "    counter = counter.most_common(10000-4)\n",
        "    vocab = ['<PAD>', '<BOS>', '<UNK>', '<UNUSED>'] + [key for key, _ in counter]\n",
        "    word_to_index = {word:index for index, word in enumerate(vocab)}\n",
        "        \n",
        "    def wordlist_to_indexlist(wordlist):\n",
        "        return [word_to_index[word] if word in word_to_index else word_to_index['<UNK>'] for word in wordlist]\n",
        "        \n",
        "    X_train = list(map(wordlist_to_indexlist, X_train))\n",
        "    X_test = list(map(wordlist_to_indexlist, X_test))\n",
        "        \n",
        "    return X_train, np.array(list(train_data['label'])), X_test, np.array(list(test_data['label'])), word_to_index\n",
        "    \n",
        "X_train, y_train, X_test, y_test, word_to_index = load_data(train_data, test_data) \n"
      ],
      "metadata": {
        "id": "zoR_8XIsJ2Ua"
      },
      "execution_count": 8,
      "outputs": []
    },
    {
      "cell_type": "code",
      "source": [
        ""
      ],
      "metadata": {
        "id": "eye3st_UqWc4"
      },
      "execution_count": 8,
      "outputs": []
    },
    {
      "cell_type": "code",
      "source": [
        "index_to_word = {index:word for word, index in word_to_index.items()}"
      ],
      "metadata": {
        "id": "LDPvG80bKDPu"
      },
      "execution_count": 9,
      "outputs": []
    },
    {
      "cell_type": "code",
      "source": [
        "def get_encoded_sentence(sentence, word_to_index):\n",
        "    return [word_to_index['<BOS>']]+[word_to_index[word] if word in word_to_index else word_to_index['<UNK>'] for word in sentence.split()]\n",
        "\n",
        "# 여러 개의 문장 리스트를 한꺼번에 단어 인덱스 리스트 벡터로 encode해 주는 함수입니다. \n",
        "def get_encoded_sentences(sentences, word_to_index):\n",
        "    return [get_encoded_sentence(sentence, word_to_index) for sentence in sentences]\n",
        "\n",
        "# 숫자 벡터로 encode된 문장을 원래대로 decode하는 함수입니다. \n",
        "def get_decoded_sentence(encoded_sentence, index_to_word):\n",
        "    return ' '.join(index_to_word[index] if index in index_to_word else '<UNK>' for index in encoded_sentence[1:])  #[1:]를 통해 <BOS>를 제외\n",
        "\n",
        "# 여러 개의 숫자 벡터로 encode된 문장을 한꺼번에 원래대로 decode하는 함수입니다. \n",
        "def get_decoded_sentences(encoded_sentences, index_to_word):\n",
        "    return [get_decoded_sentence(encoded_sentence, index_to_word) for encoded_sentence in encoded_sentences]"
      ],
      "metadata": {
        "id": "eXhIC_2aNkQ_"
      },
      "execution_count": 10,
      "outputs": []
    },
    {
      "cell_type": "code",
      "source": [
        "for i in range(10):\n",
        "    print(X_train[i])\n",
        "    print(get_decoded_sentence(X_train[i], index_to_word))\n",
        "    print('라벨: ', y_train[i])"
      ],
      "metadata": {
        "colab": {
          "base_uri": "https://localhost:8080/"
        },
        "id": "UPLSViuk9s9F",
        "outputId": "35849d71-21f0-460d-edbe-2684fef59f5d"
      },
      "execution_count": 11,
      "outputs": [
        {
          "output_type": "stream",
          "name": "stdout",
          "text": [
            "[32, 74, 919, 4, 4, 39, 228, 20, 33, 748]\n",
            "더 빙 . . 진짜 짜증 나 네요 목소리\n",
            "라벨:  0\n",
            "[1028, 4, 11, 519, 549, 687, 5, 120, 4, 70, 1639, 52, 925, 1006, 15, 44, 391]\n",
            ". .. 포스터 보고 초딩 영화 줄 . ... 오버 연기 조차 가볍 지 않 구나\n",
            "라벨:  1\n",
            "[24, 205, 2]\n",
            "재 <UNK>\n",
            "라벨:  0\n",
            "[8410, 158, 3925, 4, 4, 298, 94, 17, 6, 4, 4, 58, 3479]\n",
            "이야기 구먼 . . 솔직히 재미 없 다 . . 평점 조정\n",
            "라벨:  0\n",
            "[2, 8894, 1108, 52, 2832, 60, 5, 14, 2758, 41, 1188, 35, 351, 42, 22, 40, 60, 2, 2, 427, 3102, 1766, 6]\n",
            "익살 스런 연기 돋보였 던 영화 ! 스파이더맨 에서 늙 어 보이 기 만 했 던 <UNK> <UNK> 너무나 이뻐 보였 다\n",
            "라벨:  1\n",
            "[675, 2, 2, 131, 420, 185, 1547, 712, 65, 1694, 715, 53, 375, 192, 271, 5, 4, 69, 4, 11, 2179, 122, 750, 4]\n",
            "<UNK> <UNK> 3 세 부터 초등 학교 1 학년 생 인 8 살 용 영화 . ㅋㅋㅋ . .. 별반 개 아까움 .\n",
            "라벨:  0\n",
            "[253, 381, 9, 384, 2012, 55, 15, 817, 6, 4]\n",
            "긴장감 을 제대로 살려 내 지 못했 다 .\n",
            "라벨:  0\n",
            "[232, 1450, 144, 6, 425, 756, 2, 2, 52, 1532, 290, 99, 250, 4, 4, 28, 855, 29, 353, 652, 540, 509, 583, 6, 3318, 4, 8895, 22, 1460, 1460, 4, 4, 71, 304, 17, 6, 52, 104, 8, 77, 22, 2, 43]\n",
            "반개 아깝 다 욕 나온다 <UNK> <UNK> 연기 생활 몇 년 인지 . . 정말 발 로 해도 그것 보단 낫 겟 다 납치 . 감금 만 반복 반복 . . 드라마 가족 없 다 연기 못 하 사람 만 <UNK> 네\n",
            "라벨:  0\n",
            "[128, 17, 23, 94, 16, 290, 27, 48, 5]\n",
            "없 는데 재미 있 몇 안 되 영화\n",
            "라벨:  1\n",
            "[63, 656, 58, 240, 760, 18, 574, 89, 2, 4, 4, 1482, 637, 736, 81, 22, 24, 2, 16, 20, 18]\n",
            "케 평점 낮 건데 ? 꽤 볼 <UNK> . . 헐리우드 식 화려 함 만 너무 <UNK> 있 나 ?\n",
            "라벨:  1\n"
          ]
        }
      ]
    },
    {
      "cell_type": "markdown",
      "source": [
        "## 4. 모델 구성을 위한 데이터 분석 및 가공"
      ],
      "metadata": {
        "id": "ztl4hMWUQZUo"
      }
    },
    {
      "cell_type": "markdown",
      "source": [
        "데이터셋 내 문장 길이 분포\n",
        "\n",
        "적절한 최대 문장 길이 지정\n",
        "\n",
        "keras.preprocessing.sequence.pad_sequences 을 활용한 패딩 추가"
      ],
      "metadata": {
        "id": "LsdnvLrcQd1a"
      }
    },
    {
      "cell_type": "code",
      "source": [
        "print(\"훈련 샘플 개수: {}, 테스트 개수: {}\".format(len(X_train), len(X_test)))"
      ],
      "metadata": {
        "colab": {
          "base_uri": "https://localhost:8080/"
        },
        "id": "MmtBdLO9pNmp",
        "outputId": "1716fd5d-6a39-4a32-b9cf-3e7fad0da04f"
      },
      "execution_count": 12,
      "outputs": [
        {
          "output_type": "stream",
          "name": "stdout",
          "text": [
            "훈련 샘플 개수: 146182, 테스트 개수: 49157\n"
          ]
        }
      ]
    },
    {
      "cell_type": "code",
      "source": [
        "print(X_train[0])  # 1번째 리뷰데이터\n",
        "print('라벨: ', y_train[0])  # 1번째 리뷰데이터의 라벨\n",
        "print('1번째 리뷰 문장 길이: ', len(X_train[0]))\n",
        "print('2번째 리뷰 문장 길이: ', len(X_train[1]))"
      ],
      "metadata": {
        "colab": {
          "base_uri": "https://localhost:8080/"
        },
        "id": "8n40i0r3tEYL",
        "outputId": "e4aa534a-82dc-42b2-aa27-f4e20923f5c7"
      },
      "execution_count": 13,
      "outputs": [
        {
          "output_type": "stream",
          "name": "stdout",
          "text": [
            "[32, 74, 919, 4, 4, 39, 228, 20, 33, 748]\n",
            "라벨:  0\n",
            "1번째 리뷰 문장 길이:  10\n",
            "2번째 리뷰 문장 길이:  17\n"
          ]
        }
      ]
    },
    {
      "cell_type": "code",
      "source": [
        "total_data_text = list(X_train) + list(X_test)\n",
        "# 텍스트데이터 문장길이의 리스트를 생성한 후\n",
        "num_tokens = [len(tokens) for tokens in total_data_text]\n",
        "num_tokens = np.array(num_tokens)\n",
        "# 문장길이의 평균값, 최대값, 표준편차를 계산해 본다. \n",
        "print('문장길이 평균 : ', np.mean(num_tokens))\n",
        "print('문장길이 최대 : ', np.max(num_tokens))\n",
        "print('문장길이 표준편차 : ', np.std(num_tokens))\n",
        "\n",
        "# 예를들어, 최대 길이를 (평균 + 2*표준편차)로 한다면,  \n",
        "max_tokens = np.mean(num_tokens) + 2 * np.std(num_tokens)\n",
        "maxlen = int(max_tokens)\n",
        "print('pad_sequences maxlen : ', maxlen)\n",
        "print('전체 문장의 {}%가 maxlen 설정값 이내에 포함됩니다. '.format(np.sum(num_tokens < max_tokens) / len(num_tokens)))"
      ],
      "metadata": {
        "colab": {
          "base_uri": "https://localhost:8080/"
        },
        "id": "oUfUD93z-CPN",
        "outputId": "eed7f6ef-1648-48a5-8950-0a7e4125e70d"
      },
      "execution_count": 14,
      "outputs": [
        {
          "output_type": "stream",
          "name": "stdout",
          "text": [
            "문장길이 평균 :  15.969355837799927\n",
            "문장길이 최대 :  116\n",
            "문장길이 표준편차 :  12.843536204665021\n",
            "pad_sequences maxlen :  41\n",
            "전체 문장의 0.9342988343341575%가 maxlen 설정값 이내에 포함됩니다. \n"
          ]
        }
      ]
    },
    {
      "cell_type": "code",
      "source": [
        "X_train = tf.keras.preprocessing.sequence.pad_sequences(X_train,\n",
        "                                                        value=word_to_index[\"<PAD>\"],\n",
        "                                                        padding='pre', # 혹은 'pre'\n",
        "                                                        maxlen=maxlen)\n",
        "\n",
        "X_test = tf.keras.preprocessing.sequence.pad_sequences(X_test,\n",
        "                                                       value=word_to_index[\"<PAD>\"],\n",
        "                                                       padding='pre', # 혹은 'pre'\n",
        "                                                       maxlen=maxlen)\n",
        "\n",
        "print(X_train.shape)"
      ],
      "metadata": {
        "colab": {
          "base_uri": "https://localhost:8080/"
        },
        "id": "Erw4HFba-JrC",
        "outputId": "c71749ab-914f-4758-8be4-3454e804d8ec"
      },
      "execution_count": 15,
      "outputs": [
        {
          "output_type": "stream",
          "name": "stdout",
          "text": [
            "(146182, 41)\n"
          ]
        }
      ]
    },
    {
      "cell_type": "code",
      "source": [
        ""
      ],
      "metadata": {
        "id": "HL338wgC-Gro"
      },
      "execution_count": 15,
      "outputs": []
    },
    {
      "cell_type": "code",
      "source": [
        ""
      ],
      "metadata": {
        "id": "cGmrj7a6thOd"
      },
      "execution_count": 15,
      "outputs": []
    },
    {
      "cell_type": "markdown",
      "source": [
        "## 5. 모델 구성 및 validation set 구성"
      ],
      "metadata": {
        "id": "Ds-msrBDQhYu"
      }
    },
    {
      "cell_type": "markdown",
      "source": [
        "모델은 3가지 이상 다양하게 구성하여 실험해 보세요."
      ],
      "metadata": {
        "id": "Oq8Vg4RXQjuY"
      }
    },
    {
      "cell_type": "markdown",
      "source": [
        "### 1) LSTM\n",
        "\n",
        "\n"
      ],
      "metadata": {
        "id": "RY-f6CN4_6Tk"
      }
    },
    {
      "cell_type": "code",
      "source": [
        "vocab_size = 10000  # 어휘 사전의 크기입니다(10개의 단어)\n",
        "word_vector_dim = 20  # 단어 하나를 표현하는 임베딩 벡터의 차원수입니다. \n",
        "\n",
        "model_lstm = tf.keras.Sequential()\n",
        "model_lstm.add(tf.keras.layers.Embedding(vocab_size, word_vector_dim, input_shape=(None,)))\n",
        "model_lstm.add(tf.keras.layers.LSTM(8))   # 가장 널리 쓰이는 RNN인 LSTM 레이어를 사용하였습니다. 이때 LSTM state 벡터의 차원수는 8로 하였습니다. (변경 가능)\n",
        "model_lstm.add(tf.keras.layers.Dense(8, activation='relu'))\n",
        "model_lstm.add(tf.keras.layers.Dense(1, activation='sigmoid'))  # 최종 출력은 긍정/부정을 나타내는 1dim 입니다.\n",
        "\n",
        "model_lstm.summary()"
      ],
      "metadata": {
        "colab": {
          "base_uri": "https://localhost:8080/"
        },
        "id": "pwc05aq8CkVY",
        "outputId": "8c90678c-71e6-4850-f953-10dde4750fcd"
      },
      "execution_count": 16,
      "outputs": [
        {
          "output_type": "stream",
          "name": "stdout",
          "text": [
            "Model: \"sequential\"\n",
            "_________________________________________________________________\n",
            " Layer (type)                Output Shape              Param #   \n",
            "=================================================================\n",
            " embedding (Embedding)       (None, None, 20)          200000    \n",
            "                                                                 \n",
            " lstm (LSTM)                 (None, 8)                 928       \n",
            "                                                                 \n",
            " dense (Dense)               (None, 8)                 72        \n",
            "                                                                 \n",
            " dense_1 (Dense)             (None, 1)                 9         \n",
            "                                                                 \n",
            "=================================================================\n",
            "Total params: 201,009\n",
            "Trainable params: 201,009\n",
            "Non-trainable params: 0\n",
            "_________________________________________________________________\n"
          ]
        }
      ]
    },
    {
      "cell_type": "markdown",
      "source": [
        "### 2) CNN"
      ],
      "metadata": {
        "id": "KLlp2blsAA-M"
      }
    },
    {
      "cell_type": "code",
      "source": [
        "vocab_size = 10000  # 어휘 사전의 크기입니다(10개의 단어)\n",
        "word_vector_dim = 20   # 단어 하나를 표현하는 임베딩 벡터의 차원 수입니다. \n",
        "\n",
        "model_cnn = tf.keras.Sequential()\n",
        "model_cnn.add(tf.keras.layers.Embedding(vocab_size, word_vector_dim, input_shape=(None,)))\n",
        "model_cnn.add(tf.keras.layers.Conv1D(16, 7, activation='relu'))\n",
        "model_cnn.add(tf.keras.layers.MaxPooling1D(5))\n",
        "model_cnn.add(tf.keras.layers.Conv1D(16, 7, activation='relu'))\n",
        "model_cnn.add(tf.keras.layers.GlobalMaxPooling1D())\n",
        "model_cnn.add(tf.keras.layers.Dense(8, activation='relu'))\n",
        "model_cnn.add(tf.keras.layers.Dense(1, activation='sigmoid'))  # 최종 출력은 긍정/부정을 나타내는 1dim 입니다.\n",
        "\n",
        "model_cnn.summary()"
      ],
      "metadata": {
        "colab": {
          "base_uri": "https://localhost:8080/"
        },
        "id": "uElln92ZC_CJ",
        "outputId": "56f16c1b-6a6e-466a-8b0a-4682b7722dee"
      },
      "execution_count": 17,
      "outputs": [
        {
          "output_type": "stream",
          "name": "stdout",
          "text": [
            "Model: \"sequential_1\"\n",
            "_________________________________________________________________\n",
            " Layer (type)                Output Shape              Param #   \n",
            "=================================================================\n",
            " embedding_1 (Embedding)     (None, None, 20)          200000    \n",
            "                                                                 \n",
            " conv1d (Conv1D)             (None, None, 16)          2256      \n",
            "                                                                 \n",
            " max_pooling1d (MaxPooling1D  (None, None, 16)         0         \n",
            " )                                                               \n",
            "                                                                 \n",
            " conv1d_1 (Conv1D)           (None, None, 16)          1808      \n",
            "                                                                 \n",
            " global_max_pooling1d (Globa  (None, 16)               0         \n",
            " lMaxPooling1D)                                                  \n",
            "                                                                 \n",
            " dense_2 (Dense)             (None, 8)                 136       \n",
            "                                                                 \n",
            " dense_3 (Dense)             (None, 1)                 9         \n",
            "                                                                 \n",
            "=================================================================\n",
            "Total params: 204,209\n",
            "Trainable params: 204,209\n",
            "Non-trainable params: 0\n",
            "_________________________________________________________________\n"
          ]
        }
      ]
    },
    {
      "cell_type": "markdown",
      "source": [
        "### 3) GlobalMaxPooling1D()"
      ],
      "metadata": {
        "id": "5l2UHVY_DAEs"
      }
    },
    {
      "cell_type": "code",
      "source": [
        "vocab_size = 10000  # 어휘 사전의 크기입니다(10개의 단어)\n",
        "word_vector_dim = 20   # 단어 하나를 표현하는 임베딩 벡터의 차원 수입니다. \n",
        "\n",
        "model_gmp = tf.keras.Sequential()\n",
        "model_gmp.add(tf.keras.layers.Embedding(vocab_size, word_vector_dim, input_shape=(None,)))\n",
        "model_gmp.add(tf.keras.layers.GlobalMaxPooling1D())\n",
        "model_gmp.add(tf.keras.layers.Dense(8, activation='relu'))\n",
        "model_gmp.add(tf.keras.layers.Dense(1, activation='sigmoid'))  # 최종 출력은 긍정/부정을 나타내는 1dim 입니다.\n",
        "\n",
        "model_gmp.summary()"
      ],
      "metadata": {
        "colab": {
          "base_uri": "https://localhost:8080/"
        },
        "id": "w_GddEPWDD5W",
        "outputId": "30b88f10-cf4f-458f-cfbb-64c136152e3c"
      },
      "execution_count": 18,
      "outputs": [
        {
          "output_type": "stream",
          "name": "stdout",
          "text": [
            "Model: \"sequential_2\"\n",
            "_________________________________________________________________\n",
            " Layer (type)                Output Shape              Param #   \n",
            "=================================================================\n",
            " embedding_2 (Embedding)     (None, None, 20)          200000    \n",
            "                                                                 \n",
            " global_max_pooling1d_1 (Glo  (None, 20)               0         \n",
            " balMaxPooling1D)                                                \n",
            "                                                                 \n",
            " dense_4 (Dense)             (None, 8)                 168       \n",
            "                                                                 \n",
            " dense_5 (Dense)             (None, 1)                 9         \n",
            "                                                                 \n",
            "=================================================================\n",
            "Total params: 200,177\n",
            "Trainable params: 200,177\n",
            "Non-trainable params: 0\n",
            "_________________________________________________________________\n"
          ]
        }
      ]
    },
    {
      "cell_type": "code",
      "source": [
        "# validation set 10000건 분리\n",
        "X_val = X_train[:50000]   \n",
        "y_val = y_train[:50000]\n",
        "\n",
        "# validation set을 제외한 나머지 15000건\n",
        "partial_X_train = X_train[50000:]  \n",
        "partial_y_train = y_train[50000:]\n",
        "\n",
        "print(partial_X_train.shape)\n",
        "print(partial_y_train.shape)"
      ],
      "metadata": {
        "colab": {
          "base_uri": "https://localhost:8080/"
        },
        "id": "ESd6cndiDs7N",
        "outputId": "de4e9e7c-1998-4746-8b5c-c57c776686b2"
      },
      "execution_count": 19,
      "outputs": [
        {
          "output_type": "stream",
          "name": "stdout",
          "text": [
            "(96182, 41)\n",
            "(96182,)\n"
          ]
        }
      ]
    },
    {
      "cell_type": "markdown",
      "source": [
        "## 6. 모델 훈련 개시"
      ],
      "metadata": {
        "id": "tFs0mGTlQlpm"
      }
    },
    {
      "cell_type": "markdown",
      "source": [
        "### 1) LSTM"
      ],
      "metadata": {
        "id": "WKrpIurHEmQq"
      }
    },
    {
      "cell_type": "code",
      "source": [
        "model_lstm.compile(optimizer='adam',\n",
        "              loss='binary_crossentropy',\n",
        "              metrics=['accuracy'])\n",
        "              \n",
        "epochs=20  # 몇 epoch를 훈련하면 좋을지 결과를 보면서 바꾸어 봅시다. \n",
        "\n",
        "history_lstm = model_lstm.fit(partial_X_train,\n",
        "                    partial_y_train,\n",
        "                    epochs=epochs,\n",
        "                    batch_size=512,\n",
        "                    validation_data=(X_val, y_val),\n",
        "                    verbose=1)"
      ],
      "metadata": {
        "colab": {
          "base_uri": "https://localhost:8080/"
        },
        "id": "epxyw3uGD-tX",
        "outputId": "b5bcf2be-6dbd-45f1-e509-2e28f2820b4f"
      },
      "execution_count": 20,
      "outputs": [
        {
          "output_type": "stream",
          "name": "stdout",
          "text": [
            "Epoch 1/20\n",
            "188/188 [==============================] - 5s 11ms/step - loss: 0.5536 - accuracy: 0.7351 - val_loss: 0.4169 - val_accuracy: 0.8366\n",
            "Epoch 2/20\n",
            "188/188 [==============================] - 2s 8ms/step - loss: 0.3735 - accuracy: 0.8503 - val_loss: 0.3636 - val_accuracy: 0.8469\n",
            "Epoch 3/20\n",
            "188/188 [==============================] - 2s 8ms/step - loss: 0.3306 - accuracy: 0.8652 - val_loss: 0.3586 - val_accuracy: 0.8447\n",
            "Epoch 4/20\n",
            "188/188 [==============================] - 2s 8ms/step - loss: 0.3152 - accuracy: 0.8714 - val_loss: 0.3597 - val_accuracy: 0.8446\n",
            "Epoch 5/20\n",
            "188/188 [==============================] - 2s 8ms/step - loss: 0.3047 - accuracy: 0.8762 - val_loss: 0.3642 - val_accuracy: 0.8439\n",
            "Epoch 6/20\n",
            "188/188 [==============================] - 2s 8ms/step - loss: 0.2975 - accuracy: 0.8797 - val_loss: 0.3660 - val_accuracy: 0.8425\n",
            "Epoch 7/20\n",
            "188/188 [==============================] - 2s 8ms/step - loss: 0.2903 - accuracy: 0.8837 - val_loss: 0.3660 - val_accuracy: 0.8454\n",
            "Epoch 8/20\n",
            "188/188 [==============================] - 2s 8ms/step - loss: 0.2837 - accuracy: 0.8872 - val_loss: 0.3700 - val_accuracy: 0.8451\n",
            "Epoch 9/20\n",
            "188/188 [==============================] - 2s 8ms/step - loss: 0.2771 - accuracy: 0.8899 - val_loss: 0.3694 - val_accuracy: 0.8442\n",
            "Epoch 10/20\n",
            "188/188 [==============================] - 2s 9ms/step - loss: 0.2695 - accuracy: 0.8936 - val_loss: 0.3781 - val_accuracy: 0.8443\n",
            "Epoch 11/20\n",
            "188/188 [==============================] - 2s 10ms/step - loss: 0.2613 - accuracy: 0.8975 - val_loss: 0.3829 - val_accuracy: 0.8420\n",
            "Epoch 12/20\n",
            "188/188 [==============================] - 2s 10ms/step - loss: 0.2544 - accuracy: 0.9014 - val_loss: 0.3880 - val_accuracy: 0.8430\n",
            "Epoch 13/20\n",
            "188/188 [==============================] - 2s 8ms/step - loss: 0.2436 - accuracy: 0.9067 - val_loss: 0.3868 - val_accuracy: 0.8437\n",
            "Epoch 14/20\n",
            "188/188 [==============================] - 2s 8ms/step - loss: 0.2353 - accuracy: 0.9107 - val_loss: 0.4010 - val_accuracy: 0.8425\n",
            "Epoch 15/20\n",
            "188/188 [==============================] - 2s 8ms/step - loss: 0.2277 - accuracy: 0.9142 - val_loss: 0.4049 - val_accuracy: 0.8423\n",
            "Epoch 16/20\n",
            "188/188 [==============================] - 2s 8ms/step - loss: 0.2179 - accuracy: 0.9191 - val_loss: 0.4172 - val_accuracy: 0.8412\n",
            "Epoch 17/20\n",
            "188/188 [==============================] - 2s 8ms/step - loss: 0.2107 - accuracy: 0.9221 - val_loss: 0.4234 - val_accuracy: 0.8402\n",
            "Epoch 18/20\n",
            "188/188 [==============================] - 2s 8ms/step - loss: 0.2029 - accuracy: 0.9252 - val_loss: 0.4334 - val_accuracy: 0.8402\n",
            "Epoch 19/20\n",
            "188/188 [==============================] - 2s 8ms/step - loss: 0.1958 - accuracy: 0.9287 - val_loss: 0.4449 - val_accuracy: 0.8375\n",
            "Epoch 20/20\n",
            "188/188 [==============================] - 2s 8ms/step - loss: 0.1894 - accuracy: 0.9308 - val_loss: 0.4572 - val_accuracy: 0.8372\n"
          ]
        }
      ]
    },
    {
      "cell_type": "code",
      "source": [
        "results = model_lstm.evaluate(X_test,  y_test, verbose=2)\n",
        "\n",
        "print(results)"
      ],
      "metadata": {
        "colab": {
          "base_uri": "https://localhost:8080/"
        },
        "id": "G1S55q-eEGb-",
        "outputId": "f15c7c2c-9856-4e1a-ab5b-5cc6ac691954"
      },
      "execution_count": 21,
      "outputs": [
        {
          "output_type": "stream",
          "name": "stdout",
          "text": [
            "1537/1537 - 4s - loss: 0.4670 - accuracy: 0.8312 - 4s/epoch - 3ms/step\n",
            "[0.46695321798324585, 0.8312346339225769]\n"
          ]
        }
      ]
    },
    {
      "cell_type": "markdown",
      "source": [
        "### 2) CNN"
      ],
      "metadata": {
        "id": "v5rlRTGBEn1r"
      }
    },
    {
      "cell_type": "code",
      "source": [
        "model_cnn.compile(optimizer='adam',\n",
        "              loss='binary_crossentropy',\n",
        "              metrics=['accuracy'])\n",
        "              \n",
        "epochs=20  # 몇 epoch를 훈련하면 좋을지 결과를 보면서 바꾸어 봅시다. \n",
        "\n",
        "history_cnn = model_cnn.fit(partial_X_train,\n",
        "                    partial_y_train,\n",
        "                    epochs=epochs,\n",
        "                    batch_size=512,\n",
        "                    validation_data=(X_val, y_val),\n",
        "                    verbose=1)"
      ],
      "metadata": {
        "colab": {
          "base_uri": "https://localhost:8080/"
        },
        "id": "1C6HZS9jFEEk",
        "outputId": "e73a088d-3afa-477d-d018-512a7b4d2e0f"
      },
      "execution_count": 22,
      "outputs": [
        {
          "output_type": "stream",
          "name": "stdout",
          "text": [
            "Epoch 1/20\n",
            "188/188 [==============================] - 3s 8ms/step - loss: 0.5208 - accuracy: 0.7348 - val_loss: 0.3621 - val_accuracy: 0.8407\n",
            "Epoch 2/20\n",
            "188/188 [==============================] - 1s 7ms/step - loss: 0.3347 - accuracy: 0.8560 - val_loss: 0.3451 - val_accuracy: 0.8496\n",
            "Epoch 3/20\n",
            "188/188 [==============================] - 1s 7ms/step - loss: 0.2984 - accuracy: 0.8754 - val_loss: 0.3424 - val_accuracy: 0.8504\n",
            "Epoch 4/20\n",
            "188/188 [==============================] - 1s 7ms/step - loss: 0.2724 - accuracy: 0.8885 - val_loss: 0.3481 - val_accuracy: 0.8504\n",
            "Epoch 5/20\n",
            "188/188 [==============================] - 1s 7ms/step - loss: 0.2456 - accuracy: 0.9030 - val_loss: 0.3566 - val_accuracy: 0.8499\n",
            "Epoch 6/20\n",
            "188/188 [==============================] - 1s 7ms/step - loss: 0.2135 - accuracy: 0.9186 - val_loss: 0.3719 - val_accuracy: 0.8488\n",
            "Epoch 7/20\n",
            "188/188 [==============================] - 1s 7ms/step - loss: 0.1810 - accuracy: 0.9343 - val_loss: 0.4061 - val_accuracy: 0.8414\n",
            "Epoch 8/20\n",
            "188/188 [==============================] - 1s 7ms/step - loss: 0.1493 - accuracy: 0.9478 - val_loss: 0.4380 - val_accuracy: 0.8417\n",
            "Epoch 9/20\n",
            "188/188 [==============================] - 1s 7ms/step - loss: 0.1197 - accuracy: 0.9608 - val_loss: 0.4830 - val_accuracy: 0.8385\n",
            "Epoch 10/20\n",
            "188/188 [==============================] - 1s 7ms/step - loss: 0.0969 - accuracy: 0.9704 - val_loss: 0.5228 - val_accuracy: 0.8347\n",
            "Epoch 11/20\n",
            "188/188 [==============================] - 1s 7ms/step - loss: 0.0785 - accuracy: 0.9768 - val_loss: 0.5756 - val_accuracy: 0.8314\n",
            "Epoch 12/20\n",
            "188/188 [==============================] - 1s 7ms/step - loss: 0.0652 - accuracy: 0.9807 - val_loss: 0.6236 - val_accuracy: 0.8309\n",
            "Epoch 13/20\n",
            "188/188 [==============================] - 1s 7ms/step - loss: 0.0538 - accuracy: 0.9850 - val_loss: 0.6596 - val_accuracy: 0.8273\n",
            "Epoch 14/20\n",
            "188/188 [==============================] - 1s 7ms/step - loss: 0.0460 - accuracy: 0.9875 - val_loss: 0.7032 - val_accuracy: 0.8237\n",
            "Epoch 15/20\n",
            "188/188 [==============================] - 1s 7ms/step - loss: 0.0396 - accuracy: 0.9893 - val_loss: 0.7482 - val_accuracy: 0.8251\n",
            "Epoch 16/20\n",
            "188/188 [==============================] - 1s 7ms/step - loss: 0.0353 - accuracy: 0.9904 - val_loss: 0.8027 - val_accuracy: 0.8241\n",
            "Epoch 17/20\n",
            "188/188 [==============================] - 1s 7ms/step - loss: 0.0319 - accuracy: 0.9913 - val_loss: 0.8465 - val_accuracy: 0.8194\n",
            "Epoch 18/20\n",
            "188/188 [==============================] - 1s 7ms/step - loss: 0.0276 - accuracy: 0.9927 - val_loss: 0.8825 - val_accuracy: 0.8215\n",
            "Epoch 19/20\n",
            "188/188 [==============================] - 1s 7ms/step - loss: 0.0244 - accuracy: 0.9933 - val_loss: 0.9359 - val_accuracy: 0.8178\n",
            "Epoch 20/20\n",
            "188/188 [==============================] - 1s 7ms/step - loss: 0.0224 - accuracy: 0.9936 - val_loss: 0.9849 - val_accuracy: 0.8180\n"
          ]
        }
      ]
    },
    {
      "cell_type": "code",
      "source": [
        "results = model_lstm.evaluate(X_test,  y_test, verbose=2)\n",
        "\n",
        "print(results)"
      ],
      "metadata": {
        "colab": {
          "base_uri": "https://localhost:8080/"
        },
        "id": "M74s5tZoFJqx",
        "outputId": "4a77d991-897a-4135-a15c-7e0dc61522f6"
      },
      "execution_count": 23,
      "outputs": [
        {
          "output_type": "stream",
          "name": "stdout",
          "text": [
            "1537/1537 - 5s - loss: 0.4670 - accuracy: 0.8312 - 5s/epoch - 3ms/step\n",
            "[0.46695321798324585, 0.8312346339225769]\n"
          ]
        }
      ]
    },
    {
      "cell_type": "markdown",
      "source": [
        "### 3) GlobalMaxPooling1D()"
      ],
      "metadata": {
        "id": "qqsB9gP3ErZA"
      }
    },
    {
      "cell_type": "code",
      "source": [
        "model_gmp.compile(optimizer='adam',\n",
        "              loss='binary_crossentropy',\n",
        "              metrics=['accuracy'])\n",
        "              \n",
        "epochs=20  # 몇 epoch를 훈련하면 좋을지 결과를 보면서 바꾸어 봅시다. \n",
        "\n",
        "history_gmp = model_gmp.fit(partial_X_train,\n",
        "                    partial_y_train,\n",
        "                    epochs=epochs,\n",
        "                    batch_size=512,\n",
        "                    validation_data=(X_val, y_val),\n",
        "                    verbose=1)"
      ],
      "metadata": {
        "colab": {
          "base_uri": "https://localhost:8080/"
        },
        "id": "RpHItUuUFVz6",
        "outputId": "0b1bf06b-c992-4c29-a5e1-9094ad421cbb"
      },
      "execution_count": 24,
      "outputs": [
        {
          "output_type": "stream",
          "name": "stdout",
          "text": [
            "Epoch 1/20\n",
            "188/188 [==============================] - 2s 6ms/step - loss: 0.6118 - accuracy: 0.7509 - val_loss: 0.4654 - val_accuracy: 0.8129\n",
            "Epoch 2/20\n",
            "188/188 [==============================] - 1s 6ms/step - loss: 0.3961 - accuracy: 0.8342 - val_loss: 0.3705 - val_accuracy: 0.8365\n",
            "Epoch 3/20\n",
            "188/188 [==============================] - 1s 5ms/step - loss: 0.3325 - accuracy: 0.8598 - val_loss: 0.3551 - val_accuracy: 0.8432\n",
            "Epoch 4/20\n",
            "188/188 [==============================] - 1s 6ms/step - loss: 0.2993 - accuracy: 0.8750 - val_loss: 0.3528 - val_accuracy: 0.8455\n",
            "Epoch 5/20\n",
            "188/188 [==============================] - 1s 6ms/step - loss: 0.2749 - accuracy: 0.8871 - val_loss: 0.3571 - val_accuracy: 0.8470\n",
            "Epoch 6/20\n",
            "188/188 [==============================] - 1s 5ms/step - loss: 0.2551 - accuracy: 0.8975 - val_loss: 0.3642 - val_accuracy: 0.8456\n",
            "Epoch 7/20\n",
            "188/188 [==============================] - 1s 5ms/step - loss: 0.2381 - accuracy: 0.9053 - val_loss: 0.3743 - val_accuracy: 0.8440\n",
            "Epoch 8/20\n",
            "188/188 [==============================] - 1s 5ms/step - loss: 0.2234 - accuracy: 0.9122 - val_loss: 0.3860 - val_accuracy: 0.8428\n",
            "Epoch 9/20\n",
            "188/188 [==============================] - 1s 6ms/step - loss: 0.2101 - accuracy: 0.9183 - val_loss: 0.3984 - val_accuracy: 0.8415\n",
            "Epoch 10/20\n",
            "188/188 [==============================] - 1s 5ms/step - loss: 0.1979 - accuracy: 0.9245 - val_loss: 0.4127 - val_accuracy: 0.8402\n",
            "Epoch 11/20\n",
            "188/188 [==============================] - 1s 5ms/step - loss: 0.1865 - accuracy: 0.9294 - val_loss: 0.4278 - val_accuracy: 0.8378\n",
            "Epoch 12/20\n",
            "188/188 [==============================] - 1s 5ms/step - loss: 0.1763 - accuracy: 0.9343 - val_loss: 0.4438 - val_accuracy: 0.8360\n",
            "Epoch 13/20\n",
            "188/188 [==============================] - 1s 5ms/step - loss: 0.1665 - accuracy: 0.9393 - val_loss: 0.4602 - val_accuracy: 0.8340\n",
            "Epoch 14/20\n",
            "188/188 [==============================] - 1s 5ms/step - loss: 0.1577 - accuracy: 0.9433 - val_loss: 0.4774 - val_accuracy: 0.8333\n",
            "Epoch 15/20\n",
            "188/188 [==============================] - 1s 5ms/step - loss: 0.1494 - accuracy: 0.9468 - val_loss: 0.4936 - val_accuracy: 0.8312\n",
            "Epoch 16/20\n",
            "188/188 [==============================] - 1s 5ms/step - loss: 0.1416 - accuracy: 0.9509 - val_loss: 0.5110 - val_accuracy: 0.8280\n",
            "Epoch 17/20\n",
            "188/188 [==============================] - 1s 5ms/step - loss: 0.1341 - accuracy: 0.9540 - val_loss: 0.5295 - val_accuracy: 0.8294\n",
            "Epoch 18/20\n",
            "188/188 [==============================] - 1s 5ms/step - loss: 0.1274 - accuracy: 0.9568 - val_loss: 0.5469 - val_accuracy: 0.8267\n",
            "Epoch 19/20\n",
            "188/188 [==============================] - 1s 5ms/step - loss: 0.1212 - accuracy: 0.9597 - val_loss: 0.5664 - val_accuracy: 0.8264\n",
            "Epoch 20/20\n",
            "188/188 [==============================] - 1s 5ms/step - loss: 0.1150 - accuracy: 0.9618 - val_loss: 0.5848 - val_accuracy: 0.8238\n"
          ]
        }
      ]
    },
    {
      "cell_type": "code",
      "source": [
        "results = model_lstm.evaluate(X_test,  y_test, verbose=2)\n",
        "\n",
        "print(results)"
      ],
      "metadata": {
        "colab": {
          "base_uri": "https://localhost:8080/"
        },
        "id": "tX1SsSpzFXwW",
        "outputId": "a0f7879c-d92f-4640-8e03-1b5d67bcc657"
      },
      "execution_count": 25,
      "outputs": [
        {
          "output_type": "stream",
          "name": "stdout",
          "text": [
            "1537/1537 - 4s - loss: 0.4670 - accuracy: 0.8312 - 4s/epoch - 3ms/step\n",
            "[0.46695321798324585, 0.8312346339225769]\n"
          ]
        }
      ]
    },
    {
      "cell_type": "code",
      "source": [
        ""
      ],
      "metadata": {
        "id": "hStMribGFYpI"
      },
      "execution_count": 25,
      "outputs": []
    },
    {
      "cell_type": "code",
      "source": [
        ""
      ],
      "metadata": {
        "id": "oLIZaFUeFZ6p"
      },
      "execution_count": 25,
      "outputs": []
    },
    {
      "cell_type": "markdown",
      "source": [
        "## 7. Loss, Accuracy 그래프 시각화"
      ],
      "metadata": {
        "id": "-KEOu3Q9QoB8"
      }
    },
    {
      "cell_type": "markdown",
      "source": [
        "### 1) LSTM"
      ],
      "metadata": {
        "id": "ZawC_Hx2Gvt3"
      }
    },
    {
      "cell_type": "code",
      "source": [
        "import matplotlib.pyplot as plt\n",
        "\n",
        "history_dict = history_lstm.history\n",
        "\n",
        "acc = history_dict['accuracy']\n",
        "val_acc = history_dict['val_accuracy']\n",
        "loss = history_dict['loss']\n",
        "val_loss = history_dict['val_loss']\n",
        "\n",
        "epochs = range(1, len(acc) + 1)\n",
        "\n",
        "# \"bo\"는 \"파란색 점\"입니다\n",
        "plt.plot(epochs, loss, 'bo', label='Training loss')\n",
        "# b는 \"파란 실선\"입니다\n",
        "plt.plot(epochs, val_loss, 'b', label='Validation loss')\n",
        "plt.title('Training and validation loss')\n",
        "plt.xlabel('Epochs')\n",
        "plt.ylabel('Loss')\n",
        "plt.legend()\n",
        "\n",
        "plt.show()\n"
      ],
      "metadata": {
        "colab": {
          "base_uri": "https://localhost:8080/",
          "height": 295
        },
        "id": "gI2GbR39GiMy",
        "outputId": "9d3c16f6-60a8-4d0f-ad0b-36c2e4fb1382"
      },
      "execution_count": 26,
      "outputs": [
        {
          "output_type": "display_data",
          "data": {
            "text/plain": [
              "<Figure size 432x288 with 1 Axes>"
            ],
            "image/png": "[encoded data removed]"
          },
          "metadata": {
            "needs_background": "light"
          }
        }
      ]
    },
    {
      "cell_type": "code",
      "source": [
        "plt.clf()   # 그림을 초기화합니다\n",
        "\n",
        "plt.plot(epochs, acc, 'bo', label='Training acc')\n",
        "plt.plot(epochs, val_acc, 'b', label='Validation acc')\n",
        "plt.title('Training and validation accuracy')\n",
        "plt.xlabel('Epochs')\n",
        "plt.ylabel('Accuracy')\n",
        "plt.legend()\n",
        "\n",
        "plt.show()"
      ],
      "metadata": {
        "colab": {
          "base_uri": "https://localhost:8080/",
          "height": 295
        },
        "id": "MLp9lM3wGlBJ",
        "outputId": "7a7e5560-c03f-4add-c484-23e0331600c2"
      },
      "execution_count": 27,
      "outputs": [
        {
          "output_type": "display_data",
          "data": {
            "text/plain": [
              "<Figure size 432x288 with 1 Axes>"
            ],
            "image/png": "[encoded data removed]"
          },
          "metadata": {
            "needs_background": "light"
          }
        }
      ]
    },
    {
      "cell_type": "markdown",
      "source": [
        "### 2) CNN"
      ],
      "metadata": {
        "id": "ZWuGRGklGxVS"
      }
    },
    {
      "cell_type": "code",
      "source": [
        "import matplotlib.pyplot as plt\n",
        "\n",
        "history_dict = history_cnn.history\n",
        "\n",
        "acc = history_dict['accuracy']\n",
        "val_acc = history_dict['val_accuracy']\n",
        "loss = history_dict['loss']\n",
        "val_loss = history_dict['val_loss']\n",
        "\n",
        "epochs = range(1, len(acc) + 1)\n",
        "\n",
        "# \"bo\"는 \"파란색 점\"입니다\n",
        "plt.plot(epochs, loss, 'bo', label='Training loss')\n",
        "# b는 \"파란 실선\"입니다\n",
        "plt.plot(epochs, val_loss, 'b', label='Validation loss')\n",
        "plt.title('Training and validation loss')\n",
        "plt.xlabel('Epochs')\n",
        "plt.ylabel('Loss')\n",
        "plt.legend()\n",
        "\n",
        "plt.show()\n"
      ],
      "metadata": {
        "colab": {
          "base_uri": "https://localhost:8080/",
          "height": 295
        },
        "id": "DwJgk_Z9G3Uu",
        "outputId": "33fcddb2-4074-44bb-8206-24003df6dfbd"
      },
      "execution_count": 28,
      "outputs": [
        {
          "output_type": "display_data",
          "data": {
            "text/plain": [
              "<Figure size 432x288 with 1 Axes>"
            ],
            "image/png": "[encoded data removed]"
          },
          "metadata": {
            "needs_background": "light"
          }
        }
      ]
    },
    {
      "cell_type": "code",
      "source": [
        "plt.clf()   # 그림을 초기화합니다\n",
        "\n",
        "plt.plot(epochs, acc, 'bo', label='Training acc')\n",
        "plt.plot(epochs, val_acc, 'b', label='Validation acc')\n",
        "plt.title('Training and validation accuracy')\n",
        "plt.xlabel('Epochs')\n",
        "plt.ylabel('Accuracy')\n",
        "plt.legend()\n",
        "\n",
        "plt.show()"
      ],
      "metadata": {
        "colab": {
          "base_uri": "https://localhost:8080/",
          "height": 295
        },
        "id": "u4pVZSfVG36T",
        "outputId": "d6206e1c-8a02-40ea-843a-5c4820168165"
      },
      "execution_count": 29,
      "outputs": [
        {
          "output_type": "display_data",
          "data": {
            "text/plain": [
              "<Figure size 432x288 with 1 Axes>"
            ],
            "image/png": "[encoded data removed]"
          },
          "metadata": {
            "needs_background": "light"
          }
        }
      ]
    },
    {
      "cell_type": "markdown",
      "source": [
        "### GlobalMaxPooling1D()"
      ],
      "metadata": {
        "id": "uaXmgWTAG0nC"
      }
    },
    {
      "cell_type": "code",
      "source": [
        "import matplotlib.pyplot as plt\n",
        "\n",
        "history_dict = history_gmp.history\n",
        "\n",
        "acc = history_dict['accuracy']\n",
        "val_acc = history_dict['val_accuracy']\n",
        "loss = history_dict['loss']\n",
        "val_loss = history_dict['val_loss']\n",
        "\n",
        "epochs = range(1, len(acc) + 1)\n",
        "\n",
        "# \"bo\"는 \"파란색 점\"입니다\n",
        "plt.plot(epochs, loss, 'bo', label='Training loss')\n",
        "# b는 \"파란 실선\"입니다\n",
        "plt.plot(epochs, val_loss, 'b', label='Validation loss')\n",
        "plt.title('Training and validation loss')\n",
        "plt.xlabel('Epochs')\n",
        "plt.ylabel('Loss')\n",
        "plt.legend()\n",
        "\n",
        "plt.show()\n"
      ],
      "metadata": {
        "colab": {
          "base_uri": "https://localhost:8080/",
          "height": 295
        },
        "id": "EFRb6U2XG6o2",
        "outputId": "4b5e98b8-1596-4583-85dc-595de502fe63"
      },
      "execution_count": 30,
      "outputs": [
        {
          "output_type": "display_data",
          "data": {
            "text/plain": [
              "<Figure size 432x288 with 1 Axes>"
            ],
            "image/png": "[encoded data removed]"
          },
          "metadata": {
            "needs_background": "light"
          }
        }
      ]
    },
    {
      "cell_type": "code",
      "source": [
        "plt.clf()   # 그림을 초기화합니다\n",
        "\n",
        "plt.plot(epochs, acc, 'bo', label='Training acc')\n",
        "plt.plot(epochs, val_acc, 'b', label='Validation acc')\n",
        "plt.title('Training and validation accuracy')\n",
        "plt.xlabel('Epochs')\n",
        "plt.ylabel('Accuracy')\n",
        "plt.legend()\n",
        "\n",
        "plt.show()"
      ],
      "metadata": {
        "colab": {
          "base_uri": "https://localhost:8080/",
          "height": 295
        },
        "id": "8A_sAKECG8P4",
        "outputId": "93014924-f235-42d5-8011-c9e9c2577906"
      },
      "execution_count": 31,
      "outputs": [
        {
          "output_type": "display_data",
          "data": {
            "text/plain": [
              "<Figure size 432x288 with 1 Axes>"
            ],
            "image/png": "[encoded data removed]"
          },
          "metadata": {
            "needs_background": "light"
          }
        }
      ]
    },
    {
      "cell_type": "markdown",
      "source": [
        "## 8. 학습된 Embedding 레이어 분석"
      ],
      "metadata": {
        "id": "Gyf5-qw1Qp7F"
      }
    },
    {
      "cell_type": "code",
      "source": [
        "! pip list | grep gensim"
      ],
      "metadata": {
        "colab": {
          "base_uri": "https://localhost:8080/"
        },
        "id": "iowXJJFvb6-5",
        "outputId": "911356f7-98e1-430c-e2a1-f4b72230ba90"
      },
      "execution_count": 61,
      "outputs": [
        {
          "output_type": "stream",
          "name": "stdout",
          "text": [
            "gensim                        3.6.0\n"
          ]
        }
      ]
    },
    {
      "cell_type": "markdown",
      "source": [
        "### 1) LSTM"
      ],
      "metadata": {
        "id": "U_F5sWnBO3iE"
      }
    },
    {
      "cell_type": "code",
      "source": [
        "embedding_layer = model_lstm.layers[0]\n",
        "weights = embedding_layer.get_weights()[0]\n",
        "print(weights.shape)    # shape: (vocab_size, embedding_dim)"
      ],
      "metadata": {
        "colab": {
          "base_uri": "https://localhost:8080/"
        },
        "id": "x-4cIndLOuPx",
        "outputId": "216b95de-9eef-467c-c2bd-2acd7b8e54dd"
      },
      "execution_count": 32,
      "outputs": [
        {
          "output_type": "stream",
          "name": "stdout",
          "text": [
            "(10000, 20)\n"
          ]
        }
      ]
    },
    {
      "cell_type": "code",
      "source": [
        "# 학습한 Embedding 파라미터를 파일에 써서 저장합니다. \n",
        "word2vec_file_path_lstm = '/content/drive/MyDrive/인공지능/아이펠/ES/data/영화텍스트감성분석/data/word2vec_lstm.txt'\n",
        "f = open(word2vec_file_path_lstm, 'w')\n",
        "f.write('{} {}\\n'.format(vocab_size-4, word_vector_dim))  # 몇개의 벡터를 얼마 사이즈로 기재할지 타이틀을 씁니다.\n",
        "\n",
        "# 단어 개수(에서 특수문자 4개는 제외하고)만큼의 워드 벡터를 파일에 기록합니다. \n",
        "vectors = model_lstm.get_weights()[0]\n",
        "for i in range(4,vocab_size):\n",
        "    f.write('{} {}\\n'.format(index_to_word[i], ' '.join(map(str, list(vectors[i, :])))))\n",
        "f.close()"
      ],
      "metadata": {
        "id": "IooaNAXqPYEH"
      },
      "execution_count": 33,
      "outputs": []
    },
    {
      "cell_type": "code",
      "source": [
        "from gensim.models.keyedvectors import Word2VecKeyedVectors\n",
        "\n",
        "word_vectors = Word2VecKeyedVectors.load_word2vec_format(word2vec_file_path_lstm, binary=False)\n",
        "vector = word_vectors['영화']\n",
        "print(vector)\n",
        "\n",
        "print(word_vectors.similar_by_word(\"스릴러\"))"
      ],
      "metadata": {
        "colab": {
          "base_uri": "https://localhost:8080/"
        },
        "id": "OzRsWOXTTw8Q",
        "outputId": "b6320776-349b-4cb7-8b92-5f648e650a5e"
      },
      "execution_count": 34,
      "outputs": [
        {
          "output_type": "stream",
          "name": "stdout",
          "text": [
            "[ 0.22939837  0.04705266 -0.01242004 -0.00810441  0.03643418 -0.0516746\n",
            "  0.03162606  0.04784872 -0.04918906 -0.14405844 -0.10739523  0.1047583\n",
            "  0.06623012 -0.05358224  0.08525605 -0.02086719 -0.20026307 -0.02281171\n",
            " -0.08610898 -0.10079297]\n",
            "[('냈', 0.906025767326355), ('겠어요', 0.8989001512527466), ('ㅠㅜ', 0.8988913297653198), ('달린다', 0.8962154388427734), ('준다', 0.8920562863349915), ('요', 0.8680625557899475), ('!!!', 0.8628243803977966), ('처음', 0.8570408821105957), ('오히려', 0.8532239198684692), ('했어요', 0.853076159954071)]\n"
          ]
        }
      ]
    },
    {
      "cell_type": "markdown",
      "source": [
        "### 2) CNN"
      ],
      "metadata": {
        "id": "Lg2MyU7eO5RV"
      }
    },
    {
      "cell_type": "code",
      "source": [
        "embedding_layer = model_cnn.layers[0]\n",
        "weights = embedding_layer.get_weights()[0]\n",
        "print(weights.shape)    # shape: (vocab_size, embedding_dim)"
      ],
      "metadata": {
        "colab": {
          "base_uri": "https://localhost:8080/"
        },
        "id": "WlCT6RGEO25d",
        "outputId": "096ba0d2-6aa8-4185-f494-a3d3debc0439"
      },
      "execution_count": 35,
      "outputs": [
        {
          "output_type": "stream",
          "name": "stdout",
          "text": [
            "(10000, 20)\n"
          ]
        }
      ]
    },
    {
      "cell_type": "code",
      "source": [
        "# 학습한 Embedding 파라미터를 파일에 써서 저장합니다. \n",
        "word2vec_file_path_cnn = '/content/drive/MyDrive/인공지능/아이펠/ES/data/영화텍스트감성분석/data/word2vec_cnn.txt'\n",
        "f = open(word2vec_file_path_cnn, 'w')\n",
        "f.write('{} {}\\n'.format(vocab_size-4, word_vector_dim))  # 몇개의 벡터를 얼마 사이즈로 기재할지 타이틀을 씁니다.\n",
        "\n",
        "# 단어 개수(에서 특수문자 4개는 제외하고)만큼의 워드 벡터를 파일에 기록합니다. \n",
        "vectors = model_cnn.get_weights()[0]\n",
        "for i in range(4,vocab_size):\n",
        "    f.write('{} {}\\n'.format(index_to_word[i], ' '.join(map(str, list(vectors[i, :])))))\n",
        "f.close()"
      ],
      "metadata": {
        "id": "68RqHjXkPnA_"
      },
      "execution_count": 36,
      "outputs": []
    },
    {
      "cell_type": "code",
      "source": [
        "word_vectors = Word2VecKeyedVectors.load_word2vec_format(word2vec_file_path_cnn, binary=False)\n",
        "vector = word_vectors['영화']\n",
        "print(vector)\n",
        "\n",
        "print(word_vectors.similar_by_word(\"로맨스\"))"
      ],
      "metadata": {
        "colab": {
          "base_uri": "https://localhost:8080/"
        },
        "id": "BvnDG-nBT_La",
        "outputId": "b28be48d-f1e9-4820-f6af-a0ce6fe5dad0"
      },
      "execution_count": 37,
      "outputs": [
        {
          "output_type": "stream",
          "name": "stdout",
          "text": [
            "[ 0.08306555 -0.08449655  0.03704326 -0.0217507  -0.0355952  -0.07808224\n",
            " -0.04992847 -0.0141278   0.04342128 -0.02408633  0.00354727  0.03818154\n",
            "  0.00198755 -0.02591391  0.01316655  0.01272624 -0.06561277 -0.03195637\n",
            "  0.03604968  0.05986442]\n",
            "[('도전', 0.7332847118377686), ('공무원', 0.6584159135818481), ('으다', 0.6272963285446167), ('세용', 0.6124446392059326), ('인', 0.6069444417953491), ('기억', 0.6022626161575317), ('흘린', 0.5954276323318481), ('발리', 0.594045877456665), ('댕', 0.5915261507034302), ('BEST', 0.5856846570968628)]\n"
          ]
        }
      ]
    },
    {
      "cell_type": "markdown",
      "source": [
        "### 3) GlobalMaxPooling1D()"
      ],
      "metadata": {
        "id": "E5t01L9OO798"
      }
    },
    {
      "cell_type": "code",
      "source": [
        "embedding_layer = model_gmp.layers[0]\n",
        "weights = embedding_layer.get_weights()[0]\n",
        "print(weights.shape)    # shape: (vocab_size, embedding_dim)"
      ],
      "metadata": {
        "colab": {
          "base_uri": "https://localhost:8080/"
        },
        "id": "LPjwzsCqOw5K",
        "outputId": "a395ece1-52cc-47b4-acaa-794a5422789d"
      },
      "execution_count": 38,
      "outputs": [
        {
          "output_type": "stream",
          "name": "stdout",
          "text": [
            "(10000, 20)\n"
          ]
        }
      ]
    },
    {
      "cell_type": "code",
      "source": [
        "# 학습한 Embedding 파라미터를 파일에 써서 저장합니다. \n",
        "word2vec_file_path_gmp = '/content/drive/MyDrive/인공지능/아이펠/ES/data/영화텍스트감성분석/data/word2vec_gmp.txt'\n",
        "f = open(word2vec_file_path_gmp, 'w')\n",
        "f.write('{} {}\\n'.format(vocab_size-4, word_vector_dim))  # 몇개의 벡터를 얼마 사이즈로 기재할지 타이틀을 씁니다.\n",
        "\n",
        "# 단어 개수(에서 특수문자 4개는 제외하고)만큼의 워드 벡터를 파일에 기록합니다. \n",
        "vectors = model_gmp.get_weights()[0]\n",
        "for i in range(4,vocab_size):\n",
        "    f.write('{} {}\\n'.format(index_to_word[i], ' '.join(map(str, list(vectors[i, :])))))\n",
        "f.close()"
      ],
      "metadata": {
        "id": "wOv8sPgcP0n9"
      },
      "execution_count": 39,
      "outputs": []
    },
    {
      "cell_type": "code",
      "source": [
        "word_vectors = Word2VecKeyedVectors.load_word2vec_format(word2vec_file_path_gmp, binary=False)\n",
        "vector = word_vectors['영화']\n",
        "print(vector)\n",
        "\n",
        "print(word_vectors.similar_by_word(\"코미디\"))"
      ],
      "metadata": {
        "colab": {
          "base_uri": "https://localhost:8080/"
        },
        "id": "G9_QMtRjUBW4",
        "outputId": "8449c735-e605-46a0-f7aa-ea571d927c2b"
      },
      "execution_count": 40,
      "outputs": [
        {
          "output_type": "stream",
          "name": "stdout",
          "text": [
            "[-0.24510463 -0.28459024 -0.22361495 -0.19057514 -0.2265948  -0.18865441\n",
            " -0.2427489  -0.25760671 -0.2747573  -0.23153065 -0.22497961 -0.00924145\n",
            " -0.19672598 -0.18480319 -0.26254046 -0.16893747 -0.06481675 -0.2003267\n",
            " -0.19254205 -0.1810053 ]\n",
            "[('너무', 0.9891800880432129), ('을', 0.9874765276908875), ('.', 0.9808175563812256), ('이랑', 0.9776153564453125), ('았', 0.9751890301704407), ('배우', 0.9717732667922974), ('다', 0.971481204032898), ('하', 0.967728853225708), ('고', 0.9672245979309082), ('연출', 0.96715247631073)]\n"
          ]
        }
      ]
    },
    {
      "cell_type": "markdown",
      "source": [
        "## 9. 한국어 Word2Vec 임베딩 활용하여 성능 개선"
      ],
      "metadata": {
        "id": "Lwkq2QAOQsEV"
      }
    },
    {
      "cell_type": "code",
      "source": [
        "from gensim.models.keyedvectors import Word2VecKeyedVectors\n",
        "\n",
        "word2vec_path = \"/content/drive/MyDrive/error_model/word2vec_ko.model\"\n",
        "word_vectors = Word2VecKeyedVectors.load(word2vec_path)\n",
        "vector = word_vectors.wv"
      ],
      "metadata": {
        "id": "rx7N_zxxWY-N"
      },
      "execution_count": 89,
      "outputs": []
    },
    {
      "cell_type": "code",
      "source": [
        "vector.similar_by_word(\"액션\")"
      ],
      "metadata": {
        "colab": {
          "base_uri": "https://localhost:8080/"
        },
        "id": "Auqzfd5djAFs",
        "outputId": "010b44d5-88fa-4e54-eb49-72b936cece0f"
      },
      "execution_count": 90,
      "outputs": [
        {
          "output_type": "execute_result",
          "data": {
            "text/plain": [
              "[('코미디', 0.7429822683334351),\n",
              " ('스릴러', 0.7381718754768372),\n",
              " ('판타지', 0.6900153160095215),\n",
              " ('호러', 0.6892675757408142),\n",
              " ('SF', 0.6889280676841736),\n",
              " ('롤플레잉', 0.6625269651412964),\n",
              " ('영화', 0.6522793769836426),\n",
              " ('서스펜스', 0.645000696182251),\n",
              " ('어드벤처', 0.6273845434188843),\n",
              " ('미스터리', 0.6250677108764648)]"
            ]
          },
          "metadata": {},
          "execution_count": 90
        }
      ]
    },
    {
      "cell_type": "code",
      "source": [
        "vocab_size = 10000\n",
        "word_vector_dim = 100\n",
        "\n",
        "embedding_matrix = np.random.rand(vocab_size, word_vector_dim)\n",
        "n = 0\n",
        "for i in range(4,vocab_size):\n",
        "    if index_to_word[i] in vector:\n",
        "        embedding_matrix[i] = vector[index_to_word[i]]"
      ],
      "metadata": {
        "id": "k38YlAAdjRtF"
      },
      "execution_count": 92,
      "outputs": []
    },
    {
      "cell_type": "code",
      "source": [
        "from tensorflow.keras.initializers import Constant\n",
        "\n",
        "vocab_size = 10000    # 어휘 사전의 크기입니다(10,000개의 단어)\n",
        "word_vector_dim = 300  # 워드 벡터의 차원 수 \n",
        "\n",
        "# 모델 구성\n",
        "model_lstm = tf.keras.Sequential()\n",
        "model_lstm.add(tf.keras.layers.Embedding(vocab_size, \n",
        "                                 word_vector_dim, \n",
        "                                 embeddings_initializer=Constant(embedding_matrix),  # 카피한 임베딩을 여기서 활용\n",
        "                                 input_length=maxlen, \n",
        "                                 trainable=True))   # trainable을 True로 주면 Fine-tuning\n",
        "model_lstm.add(tf.keras.layers.LSTM(8))   # 가장 널리 쓰이는 RNN인 LSTM 레이어를 사용하였습니다. 이때 LSTM state 벡터의 차원수는 8로 하였습니다. (변경 가능)\n",
        "model_lstm.add(tf.keras.layers.Dense(8, activation='relu'))\n",
        "model_lstm.add(tf.keras.layers.Dense(1, activation='sigmoid')) \n",
        "\n"
      ],
      "metadata": {
        "id": "3zEH52ItrbqI"
      },
      "execution_count": null,
      "outputs": []
    },
    {
      "cell_type": "markdown",
      "source": [
        "### 1) LSTM"
      ],
      "metadata": {
        "id": "_SOu9zW7QI6z"
      }
    },
    {
      "cell_type": "markdown",
      "source": [
        "한국어 Word2Vec은 /data 폴더 안에 있는 word2vec_ko.model을 활용하세요.\n",
        "\n",
        "한국어 Word2Vec을 활용할 때는 load_word2vec_format() 형태가 아닌 load() 형태로 모델을 불러와주세요. 또한 모델을 활용할 때에는 아래 예시와 같이 .wv를 붙여서 활용합니다. 좀더 자세한 활용법에 대해선 다"
      ],
      "metadata": {
        "id": "GkdlsqHZQvWj"
      }
    },
    {
      "cell_type": "code",
      "source": [
        "# # 예시 코드\n",
        "# from gensim.models.keyedvectors import Word2VecKeyedVectors\n",
        "# word_vectors = Word2VecKeyedVectors.load(word2vec_file_path)\n",
        "# vector = word_vectors.wv[‘끝’]"
      ],
      "metadata": {
        "id": "4HQvWRrMNm5l"
      },
      "execution_count": null,
      "outputs": []
    }
  ]
}