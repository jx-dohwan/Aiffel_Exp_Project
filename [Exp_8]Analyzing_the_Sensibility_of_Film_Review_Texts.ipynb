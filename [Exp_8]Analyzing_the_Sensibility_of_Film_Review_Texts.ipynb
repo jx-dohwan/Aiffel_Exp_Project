{
  "nbformat": 4,
  "nbformat_minor": 0,
  "metadata": {
    "colab": {
      "name": "[Exp_8]Analyzing the Sensibility of Film Review Texts.ipynb",
      "provenance": [],
      "collapsed_sections": [],
      "machine_shape": "hm",
      "authorship_tag": "ABX9TyNsxLwPPZ7n9GOmCmmPqucb",
      "include_colab_link": true
    },
    "kernelspec": {
      "name": "python3",
      "display_name": "Python 3"
    },
    "language_info": {
      "name": "python"
    },
    "accelerator": "GPU",
    "gpuClass": "standard"
  },
  "cells": [
    {
      "cell_type": "markdown",
      "metadata": {
        "id": "view-in-github",
        "colab_type": "text"
      },
      "source": [
        "<a href=\"https://colab.research.google.com/github/jx-dohwan/Aiffel_EGLMS_Project/blob/main/%5BExp_8%5DAnalyzing_the_Sensibility_of_Film_Review_Texts.ipynb\" target=\"_parent\"><img src=\"https://colab.research.google.com/assets/colab-badge.svg\" alt=\"Open In Colab\"/></a>"
      ]
    },
    {
      "cell_type": "markdown",
      "source": [
        "# [Exp_8]Analyzing the Sensibility of Film Review Texts"
      ],
      "metadata": {
        "id": "CUNaggierCpk"
      }
    },
    {
      "cell_type": "markdown",
      "source": [
        "## 1. pip 설치 및 import\n",
        "\n",
        "\n"
      ],
      "metadata": {
        "id": "WSSU2gL_JYAu"
      }
    },
    {
      "cell_type": "code",
      "source": [
        "from google.colab import drive\n",
        "drive.mount('/content/drive')"
      ],
      "metadata": {
        "colab": {
          "base_uri": "https://localhost:8080/"
        },
        "id": "As59njthIcsW",
        "outputId": "eabec8c8-be7d-4b53-cc0a-d08543f2b667"
      },
      "execution_count": 1,
      "outputs": [
        {
          "output_type": "stream",
          "name": "stdout",
          "text": [
            "Drive already mounted at /content/drive; to attempt to forcibly remount, call drive.mount(\"/content/drive\", force_remount=True).\n"
          ]
        }
      ]
    },
    {
      "cell_type": "markdown",
      "source": [
        "### lolab GPU 이슈를 해결하기 위하여 다음과 같이 버전을 다운그레이드 해주었다.\n"
      ],
      "metadata": {
        "id": "rPno3S1iyftM"
      }
    },
    {
      "cell_type": "code",
      "source": [
        "# !pip install tensorflow==2.8\n",
        "# !apt install --allow-change-held-packages libcudnn8=8.1.0.77-1+cuda11.2"
      ],
      "metadata": {
        "id": "FJbkdUogFLTQ"
      },
      "execution_count": 2,
      "outputs": []
    },
    {
      "cell_type": "markdown",
      "source": [
        "### konlpy등 필요한 모듈을 다운로드 받았고 다음의 링크에서 가져왔다.->https://sanghyu.tistory.com/170"
      ],
      "metadata": {
        "id": "4dqiDrm6yovC"
      }
    },
    {
      "cell_type": "code",
      "source": [
        "# %%bash\n",
        "# apt-get update\n",
        "# apt-get install g++ openjdk-8-jdk python-dev python3-dev\n",
        "# pip3 install JPype1\n",
        "# pip3 install konlpy"
      ],
      "metadata": {
        "id": "B91CXHokMWwu"
      },
      "execution_count": 3,
      "outputs": []
    },
    {
      "cell_type": "code",
      "source": [
        "# %env JAVA_HOME \"/usr/lib/jvm/java-8-openjdk-amd64\""
      ],
      "metadata": {
        "id": "phXKJ4w2M1lK"
      },
      "execution_count": 4,
      "outputs": []
    },
    {
      "cell_type": "code",
      "source": [
        "# %%bash\n",
        "# bash <(curl -s https://raw.githubusercontent.com/konlpy/konlpy/master/scripts/mecab.sh)\n",
        "# pip3 install /tmp/mecab-python-0.996"
      ],
      "metadata": {
        "id": "LA0u_tWVM3JK"
      },
      "execution_count": 5,
      "outputs": []
    },
    {
      "cell_type": "code",
      "source": [
        "import pandas as pd\n",
        "import konlpy\n",
        "import gensim\n",
        "from konlpy.tag import Mecab\n",
        "import numpy as np\n",
        "from collections import Counter\n",
        "import tensorflow as tf\n"
      ],
      "metadata": {
        "id": "uUWo1FiCId4c"
      },
      "execution_count": 6,
      "outputs": []
    },
    {
      "cell_type": "code",
      "source": [
        "print(pd.__version__)\n",
        "print(konlpy.__version__)\n",
        "print(gensim.__version__)"
      ],
      "metadata": {
        "colab": {
          "base_uri": "https://localhost:8080/"
        },
        "id": "JfvpKtAEIxuv",
        "outputId": "4f39caa3-a25d-4faa-a5c8-edaa6f27638b"
      },
      "execution_count": 7,
      "outputs": [
        {
          "output_type": "stream",
          "name": "stdout",
          "text": [
            "1.3.5\n",
            "0.6.0\n",
            "3.6.0\n"
          ]
        }
      ]
    },
    {
      "cell_type": "markdown",
      "source": [
        "## 2. 데이터 준비와 확인"
      ],
      "metadata": {
        "id": "vi76QA6TJdwQ"
      }
    },
    {
      "cell_type": "code",
      "source": [
        "base_path = \"/content/drive/MyDrive/인공지능/아이펠/ES/data/영화텍스트감성분석\"\n",
        "train_data = pd.read_table(base_path+'/ratings_train.txt')\n",
        "test_data = pd.read_table(base_path+'/ratings_test.txt')\n",
        "\n",
        "train_data.head()"
      ],
      "metadata": {
        "colab": {
          "base_uri": "https://localhost:8080/",
          "height": 206
        },
        "id": "0bmNekc-JRfh",
        "outputId": "a2879d1d-86fa-4b0e-aaff-3f735798c8e4"
      },
      "execution_count": 8,
      "outputs": [
        {
          "output_type": "execute_result",
          "data": {
            "text/plain": [
              "         id                                           document  label\n",
              "0   9976970                                아 더빙.. 진짜 짜증나네요 목소리      0\n",
              "1   3819312                  흠...포스터보고 초딩영화줄....오버연기조차 가볍지 않구나      1\n",
              "2  10265843                                  너무재밓었다그래서보는것을추천한다      0\n",
              "3   9045019                      교도소 이야기구먼 ..솔직히 재미는 없다..평점 조정      0\n",
              "4   6483659  사이몬페그의 익살스런 연기가 돋보였던 영화!스파이더맨에서 늙어보이기만 했던 커스틴 ...      1"
            ],
            "text/html": [
              "\n",
              "  <div id=\"df-6fadad70-7236-423d-8479-37a1c29c13e4\">\n",
              "    <div class=\"colab-df-container\">\n",
              "      <div>\n",
              "<style scoped>\n",
              "    .dataframe tbody tr th:only-of-type {\n",
              "        vertical-align: middle;\n",
              "    }\n",
              "\n",
              "    .dataframe tbody tr th {\n",
              "        vertical-align: top;\n",
              "    }\n",
              "\n",
              "    .dataframe thead th {\n",
              "        text-align: right;\n",
              "    }\n",
              "</style>\n",
              "<table border=\"1\" class=\"dataframe\">\n",
              "  <thead>\n",
              "    <tr style=\"text-align: right;\">\n",
              "      <th></th>\n",
              "      <th>id</th>\n",
              "      <th>document</th>\n",
              "      <th>label</th>\n",
              "    </tr>\n",
              "  </thead>\n",
              "  <tbody>\n",
              "    <tr>\n",
              "      <th>0</th>\n",
              "      <td>9976970</td>\n",
              "      <td>아 더빙.. 진짜 짜증나네요 목소리</td>\n",
              "      <td>0</td>\n",
              "    </tr>\n",
              "    <tr>\n",
              "      <th>1</th>\n",
              "      <td>3819312</td>\n",
              "      <td>흠...포스터보고 초딩영화줄....오버연기조차 가볍지 않구나</td>\n",
              "      <td>1</td>\n",
              "    </tr>\n",
              "    <tr>\n",
              "      <th>2</th>\n",
              "      <td>10265843</td>\n",
              "      <td>너무재밓었다그래서보는것을추천한다</td>\n",
              "      <td>0</td>\n",
              "    </tr>\n",
              "    <tr>\n",
              "      <th>3</th>\n",
              "      <td>9045019</td>\n",
              "      <td>교도소 이야기구먼 ..솔직히 재미는 없다..평점 조정</td>\n",
              "      <td>0</td>\n",
              "    </tr>\n",
              "    <tr>\n",
              "      <th>4</th>\n",
              "      <td>6483659</td>\n",
              "      <td>사이몬페그의 익살스런 연기가 돋보였던 영화!스파이더맨에서 늙어보이기만 했던 커스틴 ...</td>\n",
              "      <td>1</td>\n",
              "    </tr>\n",
              "  </tbody>\n",
              "</table>\n",
              "</div>\n",
              "      <button class=\"colab-df-convert\" onclick=\"convertToInteractive('df-6fadad70-7236-423d-8479-37a1c29c13e4')\"\n",
              "              title=\"Convert this dataframe to an interactive table.\"\n",
              "              style=\"display:none;\">\n",
              "        \n",
              "  <svg xmlns=\"http://www.w3.org/2000/svg\" height=\"24px\"viewBox=\"0 0 24 24\"\n",
              "       width=\"24px\">\n",
              "    <path d=\"M0 0h24v24H0V0z\" fill=\"none\"/>\n",
              "    <path d=\"M18.56 5.44l.94 2.06.94-2.06 2.06-.94-2.06-.94-.94-2.06-.94 2.06-2.06.94zm-11 1L8.5 8.5l.94-2.06 2.06-.94-2.06-.94L8.5 2.5l-.94 2.06-2.06.94zm10 10l.94 2.06.94-2.06 2.06-.94-2.06-.94-.94-2.06-.94 2.06-2.06.94z\"/><path d=\"M17.41 7.96l-1.37-1.37c-.4-.4-.92-.59-1.43-.59-.52 0-1.04.2-1.43.59L10.3 9.45l-7.72 7.72c-.78.78-.78 2.05 0 2.83L4 21.41c.39.39.9.59 1.41.59.51 0 1.02-.2 1.41-.59l7.78-7.78 2.81-2.81c.8-.78.8-2.07 0-2.86zM5.41 20L4 18.59l7.72-7.72 1.47 1.35L5.41 20z\"/>\n",
              "  </svg>\n",
              "      </button>\n",
              "      \n",
              "  <style>\n",
              "    .colab-df-container {\n",
              "      display:flex;\n",
              "      flex-wrap:wrap;\n",
              "      gap: 12px;\n",
              "    }\n",
              "\n",
              "    .colab-df-convert {\n",
              "      background-color: #E8F0FE;\n",
              "      border: none;\n",
              "      border-radius: 50%;\n",
              "      cursor: pointer;\n",
              "      display: none;\n",
              "      fill: #1967D2;\n",
              "      height: 32px;\n",
              "      padding: 0 0 0 0;\n",
              "      width: 32px;\n",
              "    }\n",
              "\n",
              "    .colab-df-convert:hover {\n",
              "      background-color: #E2EBFA;\n",
              "      box-shadow: 0px 1px 2px rgba(60, 64, 67, 0.3), 0px 1px 3px 1px rgba(60, 64, 67, 0.15);\n",
              "      fill: #174EA6;\n",
              "    }\n",
              "\n",
              "    [theme=dark] .colab-df-convert {\n",
              "      background-color: #3B4455;\n",
              "      fill: #D2E3FC;\n",
              "    }\n",
              "\n",
              "    [theme=dark] .colab-df-convert:hover {\n",
              "      background-color: #434B5C;\n",
              "      box-shadow: 0px 1px 3px 1px rgba(0, 0, 0, 0.15);\n",
              "      filter: drop-shadow(0px 1px 2px rgba(0, 0, 0, 0.3));\n",
              "      fill: #FFFFFF;\n",
              "    }\n",
              "  </style>\n",
              "\n",
              "      <script>\n",
              "        const buttonEl =\n",
              "          document.querySelector('#df-6fadad70-7236-423d-8479-37a1c29c13e4 button.colab-df-convert');\n",
              "        buttonEl.style.display =\n",
              "          google.colab.kernel.accessAllowed ? 'block' : 'none';\n",
              "\n",
              "        async function convertToInteractive(key) {\n",
              "          const element = document.querySelector('#df-6fadad70-7236-423d-8479-37a1c29c13e4');\n",
              "          const dataTable =\n",
              "            await google.colab.kernel.invokeFunction('convertToInteractive',\n",
              "                                                     [key], {});\n",
              "          if (!dataTable) return;\n",
              "\n",
              "          const docLinkHtml = 'Like what you see? Visit the ' +\n",
              "            '<a target=\"_blank\" href=https://colab.research.google.com/notebooks/data_table.ipynb>data table notebook</a>'\n",
              "            + ' to learn more about interactive tables.';\n",
              "          element.innerHTML = '';\n",
              "          dataTable['output_type'] = 'display_data';\n",
              "          await google.colab.output.renderOutput(dataTable, element);\n",
              "          const docLink = document.createElement('div');\n",
              "          docLink.innerHTML = docLinkHtml;\n",
              "          element.appendChild(docLink);\n",
              "        }\n",
              "      </script>\n",
              "    </div>\n",
              "  </div>\n",
              "  "
            ]
          },
          "metadata": {},
          "execution_count": 8
        }
      ]
    },
    {
      "cell_type": "markdown",
      "source": [
        "## 3. 데이터로더 구성"
      ],
      "metadata": {
        "id": "bthwVaHxQGeE"
      }
    },
    {
      "cell_type": "markdown",
      "source": [
        "- 데이터의 중복 제거\n",
        "\n",
        "- NaN 결측치 제거\n",
        "\n",
        "- 한국어 토크나이저로 토큰화\n",
        "\n",
        "- 불용어(Stopwords) 제거\n",
        "\n",
        "- 사전word_to_index 구성\n",
        "\n",
        "- 텍스트 스트링을 사전 인덱스 스트링으로 변환\n",
        "\n",
        "- X_train, y_train, X_test, y_test, word_to_index 리턴"
      ],
      "metadata": {
        "id": "3ucow5DeQUYN"
      }
    },
    {
      "cell_type": "code",
      "source": [
        "tokenizer = Mecab()\n",
        "stopwords = ['의','가','이','은','들','는','좀','잘','걍','과','도','를','으로','자','에','와','한','하다']\n",
        "\n",
        "def load_data(train_data, test_data, num_words=10000):\n",
        "    train_data.drop_duplicates(subset=['document'], inplace=True)\n",
        "    train_data = train_data.dropna(how = 'any') \n",
        "    test_data.drop_duplicates(subset=['document'], inplace=True)\n",
        "    test_data = test_data.dropna(how = 'any') \n",
        "    \n",
        "    X_train = []\n",
        "    for sentence in train_data['document']:\n",
        "        temp_X = tokenizer.morphs(sentence) # 토큰화\n",
        "        temp_X = [word for word in temp_X if not word in stopwords] # 불용어 제거\n",
        "        X_train.append(temp_X)\n",
        "\n",
        "    X_test = []\n",
        "    for sentence in test_data['document']:\n",
        "        temp_X = tokenizer.morphs(sentence) # 토큰화\n",
        "        temp_X = [word for word in temp_X if not word in stopwords] # 불용어 제거\n",
        "        X_test.append(temp_X)\n",
        "    \n",
        "    words = np.concatenate(X_train).tolist()\n",
        "    counter = Counter(words)\n",
        "    counter = counter.most_common(10000-4)\n",
        "    vocab = ['<PAD>', '<BOS>', '<UNK>', '<UNUSED>'] + [key for key, _ in counter]\n",
        "    word_to_index = {word:index for index, word in enumerate(vocab)}\n",
        "        \n",
        "    def wordlist_to_indexlist(wordlist):\n",
        "        return [word_to_index[word] if word in word_to_index else word_to_index['<UNK>'] for word in wordlist]\n",
        "        \n",
        "    X_train = list(map(wordlist_to_indexlist, X_train))\n",
        "    X_test = list(map(wordlist_to_indexlist, X_test))\n",
        "        \n",
        "    return X_train, np.array(list(train_data['label'])), X_test, np.array(list(test_data['label'])), word_to_index\n",
        "    \n",
        "X_train, y_train, X_test, y_test, word_to_index = load_data(train_data, test_data) \n"
      ],
      "metadata": {
        "id": "zoR_8XIsJ2Ua"
      },
      "execution_count": 9,
      "outputs": []
    },
    {
      "cell_type": "code",
      "source": [
        "index_to_word = {index:word for word, index in word_to_index.items()}"
      ],
      "metadata": {
        "id": "LDPvG80bKDPu"
      },
      "execution_count": 10,
      "outputs": []
    },
    {
      "cell_type": "markdown",
      "source": [
        "- key와 word의 위치를 바꿔줌"
      ],
      "metadata": {
        "id": "T8T2mo_Hrbtd"
      }
    },
    {
      "cell_type": "code",
      "source": [
        "def get_encoded_sentence(sentence, word_to_index):\n",
        "    return [word_to_index['<BOS>']]+[word_to_index[word] if word in word_to_index else word_to_index['<UNK>'] for word in sentence.split()]\n",
        "\n",
        "# 여러 개의 문장 리스트를 한꺼번에 단어 인덱스 리스트 벡터로 encode해 주는 함수입니다. \n",
        "def get_encoded_sentences(sentences, word_to_index):\n",
        "    return [get_encoded_sentence(sentence, word_to_index) for sentence in sentences]\n",
        "\n",
        "# 숫자 벡터로 encode된 문장을 원래대로 decode하는 함수입니다. \n",
        "def get_decoded_sentence(encoded_sentence, index_to_word):\n",
        "    return ' '.join(index_to_word[index] if index in index_to_word else '<UNK>' for index in encoded_sentence[1:])  #[1:]를 통해 <BOS>를 제외\n",
        "\n",
        "# 여러 개의 숫자 벡터로 encode된 문장을 한꺼번에 원래대로 decode하는 함수입니다. \n",
        "def get_decoded_sentences(encoded_sentences, index_to_word):\n",
        "    return [get_decoded_sentence(encoded_sentence, index_to_word) for encoded_sentence in encoded_sentences]"
      ],
      "metadata": {
        "id": "eXhIC_2aNkQ_"
      },
      "execution_count": 11,
      "outputs": []
    },
    {
      "cell_type": "code",
      "source": [
        "for i in range(10):\n",
        "    print(X_train[i])\n",
        "    print(get_decoded_sentence(X_train[i], index_to_word))\n",
        "    print('라벨: ', y_train[i])"
      ],
      "metadata": {
        "colab": {
          "base_uri": "https://localhost:8080/"
        },
        "id": "UPLSViuk9s9F",
        "outputId": "79d03df8-847c-4481-de0d-84c268256bee"
      },
      "execution_count": 12,
      "outputs": [
        {
          "output_type": "stream",
          "name": "stdout",
          "text": [
            "[32, 74, 919, 4, 4, 39, 228, 20, 33, 748]\n",
            "더 빙 . . 진짜 짜증 나 네요 목소리\n",
            "라벨:  0\n",
            "[1028, 4, 11, 519, 549, 687, 5, 120, 4, 70, 1639, 52, 925, 1006, 15, 44, 391]\n",
            ". .. 포스터 보고 초딩 영화 줄 . ... 오버 연기 조차 가볍 지 않 구나\n",
            "라벨:  1\n",
            "[24, 205, 2]\n",
            "재 <UNK>\n",
            "라벨:  0\n",
            "[8409, 158, 3925, 4, 4, 298, 94, 17, 6, 4, 4, 58, 3479]\n",
            "이야기 구먼 . . 솔직히 재미 없 다 . . 평점 조정\n",
            "라벨:  0\n",
            "[2, 8894, 1108, 52, 2832, 60, 5, 14, 2758, 41, 1188, 35, 351, 42, 22, 40, 60, 2, 2, 427, 3102, 1766, 6]\n",
            "익살 스런 연기 돋보였 던 영화 ! 스파이더맨 에서 늙 어 보이 기 만 했 던 <UNK> <UNK> 너무나 이뻐 보였 다\n",
            "라벨:  1\n",
            "[675, 2, 2, 131, 420, 185, 1547, 712, 65, 1694, 715, 53, 375, 192, 271, 5, 4, 69, 4, 11, 2179, 122, 750, 4]\n",
            "<UNK> <UNK> 3 세 부터 초등 학교 1 학년 생 인 8 살 용 영화 . ㅋㅋㅋ . .. 별반 개 아까움 .\n",
            "라벨:  0\n",
            "[253, 381, 9, 384, 2012, 55, 15, 817, 6, 4]\n",
            "긴장감 을 제대로 살려 내 지 못했 다 .\n",
            "라벨:  0\n",
            "[232, 1450, 144, 6, 425, 756, 2, 2, 52, 1532, 290, 99, 250, 4, 4, 28, 855, 29, 353, 652, 540, 509, 583, 6, 3318, 4, 8895, 22, 1460, 1460, 4, 4, 71, 304, 17, 6, 52, 104, 8, 77, 22, 2, 43]\n",
            "반개 아깝 다 욕 나온다 <UNK> <UNK> 연기 생활 몇 년 인지 . . 정말 발 로 해도 그것 보단 낫 겟 다 납치 . 감금 만 반복 반복 . . 드라마 가족 없 다 연기 못 하 사람 만 <UNK> 네\n",
            "라벨:  0\n",
            "[128, 17, 23, 94, 16, 290, 27, 48, 5]\n",
            "없 는데 재미 있 몇 안 되 영화\n",
            "라벨:  1\n",
            "[63, 656, 58, 240, 760, 18, 574, 89, 2, 4, 4, 1482, 637, 736, 81, 22, 24, 2, 16, 20, 18]\n",
            "케 평점 낮 건데 ? 꽤 볼 <UNK> . . 헐리우드 식 화려 함 만 너무 <UNK> 있 나 ?\n",
            "라벨:  1\n"
          ]
        }
      ]
    },
    {
      "cell_type": "markdown",
      "source": [
        "## 4. 모델 구성을 위한 데이터 분석 및 가공"
      ],
      "metadata": {
        "id": "ztl4hMWUQZUo"
      }
    },
    {
      "cell_type": "markdown",
      "source": [
        "데이터셋 내 문장 길이 분포\n",
        "\n",
        "적절한 최대 문장 길이 지정\n",
        "\n",
        "keras.preprocessing.sequence.pad_sequences 을 활용한 패딩 추가"
      ],
      "metadata": {
        "id": "LsdnvLrcQd1a"
      }
    },
    {
      "cell_type": "code",
      "source": [
        "print(\"훈련 샘플 개수: {}, 테스트 개수: {}\".format(len(X_train), len(X_test)))"
      ],
      "metadata": {
        "colab": {
          "base_uri": "https://localhost:8080/"
        },
        "id": "MmtBdLO9pNmp",
        "outputId": "03ff3a99-87f8-4ba1-85b6-0a909f8e121d"
      },
      "execution_count": 13,
      "outputs": [
        {
          "output_type": "stream",
          "name": "stdout",
          "text": [
            "훈련 샘플 개수: 146182, 테스트 개수: 49157\n"
          ]
        }
      ]
    },
    {
      "cell_type": "code",
      "source": [
        "print(X_train[0])  # 1번째 리뷰데이터\n",
        "print('라벨: ', y_train[0])  # 1번째 리뷰데이터의 라벨\n",
        "print('1번째 리뷰 문장 길이: ', len(X_train[0]))\n",
        "print('2번째 리뷰 문장 길이: ', len(X_train[1]))"
      ],
      "metadata": {
        "colab": {
          "base_uri": "https://localhost:8080/"
        },
        "id": "8n40i0r3tEYL",
        "outputId": "61397c3e-54aa-486e-c675-62c55d986ea8"
      },
      "execution_count": 14,
      "outputs": [
        {
          "output_type": "stream",
          "name": "stdout",
          "text": [
            "[32, 74, 919, 4, 4, 39, 228, 20, 33, 748]\n",
            "라벨:  0\n",
            "1번째 리뷰 문장 길이:  10\n",
            "2번째 리뷰 문장 길이:  17\n"
          ]
        }
      ]
    },
    {
      "cell_type": "code",
      "source": [
        "total_data_text = list(X_train) + list(X_test)\n",
        "# 텍스트데이터 문장길이의 리스트를 생성한 후\n",
        "num_tokens = [len(tokens) for tokens in total_data_text]\n",
        "num_tokens = np.array(num_tokens)\n",
        "# 문장길이의 평균값, 최대값, 표준편차를 계산해 본다. \n",
        "print('문장길이 평균 : ', np.mean(num_tokens))\n",
        "print('문장길이 최대 : ', np.max(num_tokens))\n",
        "print('문장길이 표준편차 : ', np.std(num_tokens))\n",
        "\n",
        "# 예를들어, 최대 길이를 (평균 + 2*표준편차)로 한다면,  \n",
        "max_tokens = np.mean(num_tokens) + 2 * np.std(num_tokens)\n",
        "maxlen = int(max_tokens)\n",
        "print('pad_sequences maxlen : ', maxlen)\n",
        "print('전체 문장의 {}%가 maxlen 설정값 이내에 포함됩니다. '.format(np.sum(num_tokens < max_tokens) / len(num_tokens)))"
      ],
      "metadata": {
        "colab": {
          "base_uri": "https://localhost:8080/"
        },
        "id": "oUfUD93z-CPN",
        "outputId": "de58c76d-b814-4f3e-96ed-0463ac43ed65"
      },
      "execution_count": 15,
      "outputs": [
        {
          "output_type": "stream",
          "name": "stdout",
          "text": [
            "문장길이 평균 :  15.96940191154864\n",
            "문장길이 최대 :  116\n",
            "문장길이 표준편차 :  12.843571191092\n",
            "pad_sequences maxlen :  41\n",
            "전체 문장의 0.9342988343341575%가 maxlen 설정값 이내에 포함됩니다. \n"
          ]
        }
      ]
    },
    {
      "cell_type": "code",
      "source": [
        "X_train = tf.keras.preprocessing.sequence.pad_sequences(X_train,\n",
        "                                                        value=word_to_index[\"<PAD>\"],\n",
        "                                                        padding='pre', # 혹은 'pre'\n",
        "                                                        maxlen=maxlen)\n",
        "\n",
        "X_test = tf.keras.preprocessing.sequence.pad_sequences(X_test,\n",
        "                                                       value=word_to_index[\"<PAD>\"],\n",
        "                                                       padding='pre', # 혹은 'pre'\n",
        "                                                       maxlen=maxlen)\n",
        "\n",
        "print(X_train.shape)"
      ],
      "metadata": {
        "colab": {
          "base_uri": "https://localhost:8080/"
        },
        "id": "Erw4HFba-JrC",
        "outputId": "389a829d-bde3-45de-da72-bd6c1dd91642"
      },
      "execution_count": 16,
      "outputs": [
        {
          "output_type": "stream",
          "name": "stdout",
          "text": [
            "(146182, 41)\n"
          ]
        }
      ]
    },
    {
      "cell_type": "markdown",
      "source": [
        "## 5. 모델 구성 및 validation set 구성"
      ],
      "metadata": {
        "id": "Ds-msrBDQhYu"
      }
    },
    {
      "cell_type": "markdown",
      "source": [
        "모델은 3가지 이상 다양하게 구성하여 실험해 보세요."
      ],
      "metadata": {
        "id": "Oq8Vg4RXQjuY"
      }
    },
    {
      "cell_type": "markdown",
      "source": [
        "### 1) LSTM\n",
        "\n",
        "\n"
      ],
      "metadata": {
        "id": "RY-f6CN4_6Tk"
      }
    },
    {
      "cell_type": "code",
      "source": [
        "vocab_size = 10000  # 어휘 사전의 크기입니다(10개의 단어)\n",
        "word_vector_dim = 20  # 단어 하나를 표현하는 임베딩 벡터의 차원수입니다. \n",
        "\n",
        "model_lstm = tf.keras.Sequential()\n",
        "model_lstm.add(tf.keras.layers.Embedding(vocab_size, word_vector_dim, input_shape=(None,)))\n",
        "model_lstm.add(tf.keras.layers.LSTM(8))   # 가장 널리 쓰이는 RNN인 LSTM 레이어를 사용하였습니다. 이때 LSTM state 벡터의 차원수는 8로 하였습니다. (변경 가능)\n",
        "model_lstm.add(tf.keras.layers.Dense(8, activation='relu'))\n",
        "model_lstm.add(tf.keras.layers.Dense(1, activation='sigmoid'))  # 최종 출력은 긍정/부정을 나타내는 1dim 입니다.\n",
        "\n",
        "model_lstm.summary()"
      ],
      "metadata": {
        "colab": {
          "base_uri": "https://localhost:8080/"
        },
        "id": "pwc05aq8CkVY",
        "outputId": "7c81880b-619a-4970-e714-dca50e6d808f"
      },
      "execution_count": 17,
      "outputs": [
        {
          "output_type": "stream",
          "name": "stdout",
          "text": [
            "Model: \"sequential\"\n",
            "_________________________________________________________________\n",
            " Layer (type)                Output Shape              Param #   \n",
            "=================================================================\n",
            " embedding (Embedding)       (None, None, 20)          200000    \n",
            "                                                                 \n",
            " lstm (LSTM)                 (None, 8)                 928       \n",
            "                                                                 \n",
            " dense (Dense)               (None, 8)                 72        \n",
            "                                                                 \n",
            " dense_1 (Dense)             (None, 1)                 9         \n",
            "                                                                 \n",
            "=================================================================\n",
            "Total params: 201,009\n",
            "Trainable params: 201,009\n",
            "Non-trainable params: 0\n",
            "_________________________________________________________________\n"
          ]
        }
      ]
    },
    {
      "cell_type": "markdown",
      "source": [
        "### 2) 1-D CNN"
      ],
      "metadata": {
        "id": "KLlp2blsAA-M"
      }
    },
    {
      "cell_type": "code",
      "source": [
        "vocab_size = 10000  \n",
        "word_vector_dim = 20   \n",
        "\n",
        "model_cnn = tf.keras.Sequential()\n",
        "model_cnn.add(tf.keras.layers.Embedding(vocab_size, word_vector_dim, input_shape=(None,)))\n",
        "model_cnn.add(tf.keras.layers.Conv1D(16, 7, activation='relu'))\n",
        "model_cnn.add(tf.keras.layers.MaxPooling1D(5))\n",
        "model_cnn.add(tf.keras.layers.Conv1D(16, 7, activation='relu'))\n",
        "model_cnn.add(tf.keras.layers.GlobalMaxPooling1D())\n",
        "model_cnn.add(tf.keras.layers.Dense(8, activation='relu'))\n",
        "model_cnn.add(tf.keras.layers.Dense(1, activation='sigmoid'))  \n",
        "\n",
        "model_cnn.summary()"
      ],
      "metadata": {
        "colab": {
          "base_uri": "https://localhost:8080/"
        },
        "id": "uElln92ZC_CJ",
        "outputId": "85bbb65e-b7fc-4f0d-c562-659079adf0b7"
      },
      "execution_count": 18,
      "outputs": [
        {
          "output_type": "stream",
          "name": "stdout",
          "text": [
            "Model: \"sequential_1\"\n",
            "_________________________________________________________________\n",
            " Layer (type)                Output Shape              Param #   \n",
            "=================================================================\n",
            " embedding_1 (Embedding)     (None, None, 20)          200000    \n",
            "                                                                 \n",
            " conv1d (Conv1D)             (None, None, 16)          2256      \n",
            "                                                                 \n",
            " max_pooling1d (MaxPooling1D  (None, None, 16)         0         \n",
            " )                                                               \n",
            "                                                                 \n",
            " conv1d_1 (Conv1D)           (None, None, 16)          1808      \n",
            "                                                                 \n",
            " global_max_pooling1d (Globa  (None, 16)               0         \n",
            " lMaxPooling1D)                                                  \n",
            "                                                                 \n",
            " dense_2 (Dense)             (None, 8)                 136       \n",
            "                                                                 \n",
            " dense_3 (Dense)             (None, 1)                 9         \n",
            "                                                                 \n",
            "=================================================================\n",
            "Total params: 204,209\n",
            "Trainable params: 204,209\n",
            "Non-trainable params: 0\n",
            "_________________________________________________________________\n"
          ]
        }
      ]
    },
    {
      "cell_type": "markdown",
      "source": [
        "### 3) GlobalMaxPooling1D()"
      ],
      "metadata": {
        "id": "5l2UHVY_DAEs"
      }
    },
    {
      "cell_type": "code",
      "source": [
        "vocab_size = 10000 \n",
        "word_vector_dim = 20  \n",
        "\n",
        "model_gmp = tf.keras.Sequential()\n",
        "model_gmp.add(tf.keras.layers.Embedding(vocab_size, word_vector_dim, input_shape=(None,)))\n",
        "model_gmp.add(tf.keras.layers.GlobalMaxPooling1D())\n",
        "model_gmp.add(tf.keras.layers.Dense(8, activation='relu'))\n",
        "model_gmp.add(tf.keras.layers.Dense(1, activation='sigmoid')) \n",
        "\n",
        "model_gmp.summary()"
      ],
      "metadata": {
        "colab": {
          "base_uri": "https://localhost:8080/"
        },
        "id": "w_GddEPWDD5W",
        "outputId": "8b1d664e-4012-4a11-c1bb-ebea4481352b"
      },
      "execution_count": 19,
      "outputs": [
        {
          "output_type": "stream",
          "name": "stdout",
          "text": [
            "Model: \"sequential_2\"\n",
            "_________________________________________________________________\n",
            " Layer (type)                Output Shape              Param #   \n",
            "=================================================================\n",
            " embedding_2 (Embedding)     (None, None, 20)          200000    \n",
            "                                                                 \n",
            " global_max_pooling1d_1 (Glo  (None, 20)               0         \n",
            " balMaxPooling1D)                                                \n",
            "                                                                 \n",
            " dense_4 (Dense)             (None, 8)                 168       \n",
            "                                                                 \n",
            " dense_5 (Dense)             (None, 1)                 9         \n",
            "                                                                 \n",
            "=================================================================\n",
            "Total params: 200,177\n",
            "Trainable params: 200,177\n",
            "Non-trainable params: 0\n",
            "_________________________________________________________________\n"
          ]
        }
      ]
    },
    {
      "cell_type": "code",
      "source": [
        "# validation set 10000건 분리\n",
        "X_val = X_train[:50000]   \n",
        "y_val = y_train[:50000]\n",
        "\n",
        "# validation set을 제외한 나머지 15000건\n",
        "partial_X_train = X_train[50000:]  \n",
        "partial_y_train = y_train[50000:]\n",
        "\n",
        "print(partial_X_train.shape)\n",
        "print(partial_y_train.shape)"
      ],
      "metadata": {
        "colab": {
          "base_uri": "https://localhost:8080/"
        },
        "id": "ESd6cndiDs7N",
        "outputId": "5e6d779b-402c-4fdf-b7b8-3bac8fe168ee"
      },
      "execution_count": 20,
      "outputs": [
        {
          "output_type": "stream",
          "name": "stdout",
          "text": [
            "(96182, 41)\n",
            "(96182,)\n"
          ]
        }
      ]
    },
    {
      "cell_type": "markdown",
      "source": [
        "## 6. 모델 훈련 개시"
      ],
      "metadata": {
        "id": "tFs0mGTlQlpm"
      }
    },
    {
      "cell_type": "markdown",
      "source": [
        "### 1) LSTM"
      ],
      "metadata": {
        "id": "WKrpIurHEmQq"
      }
    },
    {
      "cell_type": "code",
      "source": [
        "model_lstm.compile(optimizer='adam',\n",
        "              loss='binary_crossentropy',\n",
        "              metrics=['accuracy'])\n",
        "              \n",
        "epochs=20  # 몇 epoch를 훈련하면 좋을지 결과를 보면서 바꾸어 봅시다. \n",
        "\n",
        "history_lstm = model_lstm.fit(partial_X_train,\n",
        "                    partial_y_train,\n",
        "                    epochs=epochs,\n",
        "                    batch_size=512,\n",
        "                    validation_data=(X_val, y_val),\n",
        "                    verbose=1)"
      ],
      "metadata": {
        "colab": {
          "base_uri": "https://localhost:8080/"
        },
        "id": "epxyw3uGD-tX",
        "outputId": "a9c63259-8438-4df9-a3f8-699e67c3282b"
      },
      "execution_count": 21,
      "outputs": [
        {
          "output_type": "stream",
          "name": "stdout",
          "text": [
            "Epoch 1/20\n",
            "188/188 [==============================] - 5s 10ms/step - loss: 0.5431 - accuracy: 0.7467 - val_loss: 0.3968 - val_accuracy: 0.8338\n",
            "Epoch 2/20\n",
            "188/188 [==============================] - 1s 7ms/step - loss: 0.3556 - accuracy: 0.8518 - val_loss: 0.3568 - val_accuracy: 0.8468\n",
            "Epoch 3/20\n",
            "188/188 [==============================] - 1s 7ms/step - loss: 0.3246 - accuracy: 0.8655 - val_loss: 0.3558 - val_accuracy: 0.8456\n",
            "Epoch 4/20\n",
            "188/188 [==============================] - 1s 7ms/step - loss: 0.3103 - accuracy: 0.8733 - val_loss: 0.3533 - val_accuracy: 0.8478\n",
            "Epoch 5/20\n",
            "188/188 [==============================] - 1s 7ms/step - loss: 0.2996 - accuracy: 0.8786 - val_loss: 0.3575 - val_accuracy: 0.8462\n",
            "Epoch 6/20\n",
            "188/188 [==============================] - 1s 7ms/step - loss: 0.2904 - accuracy: 0.8816 - val_loss: 0.3602 - val_accuracy: 0.8473\n",
            "Epoch 7/20\n",
            "188/188 [==============================] - 1s 7ms/step - loss: 0.2826 - accuracy: 0.8857 - val_loss: 0.3636 - val_accuracy: 0.8454\n",
            "Epoch 8/20\n",
            "188/188 [==============================] - 1s 7ms/step - loss: 0.2724 - accuracy: 0.8902 - val_loss: 0.3704 - val_accuracy: 0.8466\n",
            "Epoch 9/20\n",
            "188/188 [==============================] - 1s 7ms/step - loss: 0.2622 - accuracy: 0.8950 - val_loss: 0.3749 - val_accuracy: 0.8449\n",
            "Epoch 10/20\n",
            "188/188 [==============================] - 1s 7ms/step - loss: 0.2527 - accuracy: 0.9002 - val_loss: 0.3805 - val_accuracy: 0.8460\n",
            "Epoch 11/20\n",
            "188/188 [==============================] - 1s 7ms/step - loss: 0.2433 - accuracy: 0.9042 - val_loss: 0.3962 - val_accuracy: 0.8445\n",
            "Epoch 12/20\n",
            "188/188 [==============================] - 1s 7ms/step - loss: 0.2328 - accuracy: 0.9094 - val_loss: 0.3882 - val_accuracy: 0.8448\n",
            "Epoch 13/20\n",
            "188/188 [==============================] - 1s 7ms/step - loss: 0.2245 - accuracy: 0.9125 - val_loss: 0.4058 - val_accuracy: 0.8432\n",
            "Epoch 14/20\n",
            "188/188 [==============================] - 1s 7ms/step - loss: 0.2153 - accuracy: 0.9167 - val_loss: 0.4181 - val_accuracy: 0.8420\n",
            "Epoch 15/20\n",
            "188/188 [==============================] - 1s 7ms/step - loss: 0.2069 - accuracy: 0.9204 - val_loss: 0.4389 - val_accuracy: 0.8420\n",
            "Epoch 16/20\n",
            "188/188 [==============================] - 1s 7ms/step - loss: 0.2015 - accuracy: 0.9220 - val_loss: 0.4501 - val_accuracy: 0.8414\n",
            "Epoch 17/20\n",
            "188/188 [==============================] - 1s 7ms/step - loss: 0.1919 - accuracy: 0.9272 - val_loss: 0.4439 - val_accuracy: 0.8409\n",
            "Epoch 18/20\n",
            "188/188 [==============================] - 1s 7ms/step - loss: 0.1848 - accuracy: 0.9295 - val_loss: 0.4674 - val_accuracy: 0.8387\n",
            "Epoch 19/20\n",
            "188/188 [==============================] - 1s 7ms/step - loss: 0.1776 - accuracy: 0.9324 - val_loss: 0.4728 - val_accuracy: 0.8393\n",
            "Epoch 20/20\n",
            "188/188 [==============================] - 1s 7ms/step - loss: 0.1722 - accuracy: 0.9351 - val_loss: 0.4768 - val_accuracy: 0.8372\n"
          ]
        }
      ]
    },
    {
      "cell_type": "code",
      "source": [
        "results = model_lstm.evaluate(X_test,  y_test, verbose=2)\n",
        "\n",
        "print(results)"
      ],
      "metadata": {
        "colab": {
          "base_uri": "https://localhost:8080/"
        },
        "id": "G1S55q-eEGb-",
        "outputId": "afcf5077-105d-4c67-9524-eeefa006c6b7"
      },
      "execution_count": 22,
      "outputs": [
        {
          "output_type": "stream",
          "name": "stdout",
          "text": [
            "1537/1537 - 4s - loss: 0.4821 - accuracy: 0.8313 - 4s/epoch - 2ms/step\n",
            "[0.4820825159549713, 0.8313363194465637]\n"
          ]
        }
      ]
    },
    {
      "cell_type": "markdown",
      "source": [
        "### 2) 1-D CNN"
      ],
      "metadata": {
        "id": "v5rlRTGBEn1r"
      }
    },
    {
      "cell_type": "code",
      "source": [
        "model_cnn.compile(optimizer='adam',\n",
        "              loss='binary_crossentropy',\n",
        "              metrics=['accuracy'])\n",
        "              \n",
        "epochs=20  # 몇 epoch를 훈련하면 좋을지 결과를 보면서 바꾸어 봅시다. \n",
        "\n",
        "history_cnn = model_cnn.fit(partial_X_train,\n",
        "                    partial_y_train,\n",
        "                    epochs=epochs,\n",
        "                    batch_size=512,\n",
        "                    validation_data=(X_val, y_val),\n",
        "                    verbose=1)"
      ],
      "metadata": {
        "colab": {
          "base_uri": "https://localhost:8080/"
        },
        "id": "1C6HZS9jFEEk",
        "outputId": "8ee73067-9344-4756-9caa-c8216679a24b"
      },
      "execution_count": 23,
      "outputs": [
        {
          "output_type": "stream",
          "name": "stdout",
          "text": [
            "Epoch 1/20\n",
            "188/188 [==============================] - 3s 7ms/step - loss: 0.5252 - accuracy: 0.7298 - val_loss: 0.3698 - val_accuracy: 0.8380\n",
            "Epoch 2/20\n",
            "188/188 [==============================] - 1s 5ms/step - loss: 0.3350 - accuracy: 0.8566 - val_loss: 0.3507 - val_accuracy: 0.8489\n",
            "Epoch 3/20\n",
            "188/188 [==============================] - 1s 5ms/step - loss: 0.2935 - accuracy: 0.8777 - val_loss: 0.3466 - val_accuracy: 0.8503\n",
            "Epoch 4/20\n",
            "188/188 [==============================] - 1s 5ms/step - loss: 0.2627 - accuracy: 0.8928 - val_loss: 0.3527 - val_accuracy: 0.8502\n",
            "Epoch 5/20\n",
            "188/188 [==============================] - 1s 6ms/step - loss: 0.2316 - accuracy: 0.9083 - val_loss: 0.3672 - val_accuracy: 0.8467\n",
            "Epoch 6/20\n",
            "188/188 [==============================] - 1s 6ms/step - loss: 0.1974 - accuracy: 0.9252 - val_loss: 0.3978 - val_accuracy: 0.8412\n",
            "Epoch 7/20\n",
            "188/188 [==============================] - 1s 5ms/step - loss: 0.1655 - accuracy: 0.9405 - val_loss: 0.4503 - val_accuracy: 0.8390\n",
            "Epoch 8/20\n",
            "188/188 [==============================] - 1s 5ms/step - loss: 0.1345 - accuracy: 0.9537 - val_loss: 0.4862 - val_accuracy: 0.8394\n",
            "Epoch 9/20\n",
            "188/188 [==============================] - 1s 5ms/step - loss: 0.1077 - accuracy: 0.9649 - val_loss: 0.5335 - val_accuracy: 0.8363\n",
            "Epoch 10/20\n",
            "188/188 [==============================] - 1s 5ms/step - loss: 0.0883 - accuracy: 0.9725 - val_loss: 0.6014 - val_accuracy: 0.8330\n",
            "Epoch 11/20\n",
            "188/188 [==============================] - 1s 5ms/step - loss: 0.0743 - accuracy: 0.9779 - val_loss: 0.6500 - val_accuracy: 0.8300\n",
            "Epoch 12/20\n",
            "188/188 [==============================] - 1s 5ms/step - loss: 0.0628 - accuracy: 0.9818 - val_loss: 0.6882 - val_accuracy: 0.8284\n",
            "Epoch 13/20\n",
            "188/188 [==============================] - 1s 5ms/step - loss: 0.0554 - accuracy: 0.9842 - val_loss: 0.7263 - val_accuracy: 0.8278\n",
            "Epoch 14/20\n",
            "188/188 [==============================] - 1s 5ms/step - loss: 0.0490 - accuracy: 0.9863 - val_loss: 0.8046 - val_accuracy: 0.8262\n",
            "Epoch 15/20\n",
            "188/188 [==============================] - 1s 5ms/step - loss: 0.0426 - accuracy: 0.9884 - val_loss: 0.8488 - val_accuracy: 0.8263\n",
            "Epoch 16/20\n",
            "188/188 [==============================] - 1s 5ms/step - loss: 0.0387 - accuracy: 0.9900 - val_loss: 0.8877 - val_accuracy: 0.8234\n",
            "Epoch 17/20\n",
            "188/188 [==============================] - 1s 5ms/step - loss: 0.0365 - accuracy: 0.9902 - val_loss: 0.9567 - val_accuracy: 0.8224\n",
            "Epoch 18/20\n",
            "188/188 [==============================] - 1s 5ms/step - loss: 0.0349 - accuracy: 0.9908 - val_loss: 0.9882 - val_accuracy: 0.8231\n",
            "Epoch 19/20\n",
            "188/188 [==============================] - 1s 6ms/step - loss: 0.0329 - accuracy: 0.9913 - val_loss: 1.0438 - val_accuracy: 0.8212\n",
            "Epoch 20/20\n",
            "188/188 [==============================] - 1s 5ms/step - loss: 0.0312 - accuracy: 0.9920 - val_loss: 1.0283 - val_accuracy: 0.8197\n"
          ]
        }
      ]
    },
    {
      "cell_type": "code",
      "source": [
        "results = model_cnn.evaluate(X_test,  y_test, verbose=2)\n",
        "\n",
        "print(results)"
      ],
      "metadata": {
        "colab": {
          "base_uri": "https://localhost:8080/"
        },
        "id": "M74s5tZoFJqx",
        "outputId": "0db6ec27-d79b-406e-88db-1f1964fa5db6"
      },
      "execution_count": 24,
      "outputs": [
        {
          "output_type": "stream",
          "name": "stdout",
          "text": [
            "1537/1537 - 3s - loss: 1.0353 - accuracy: 0.8167 - 3s/epoch - 2ms/step\n",
            "[1.0353118181228638, 0.8167096972465515]\n"
          ]
        }
      ]
    },
    {
      "cell_type": "markdown",
      "source": [
        "### 3) GlobalMaxPooling1D()"
      ],
      "metadata": {
        "id": "qqsB9gP3ErZA"
      }
    },
    {
      "cell_type": "code",
      "source": [
        "model_gmp.compile(optimizer='adam',\n",
        "              loss='binary_crossentropy',\n",
        "              metrics=['accuracy'])\n",
        "              \n",
        "epochs=20  # 몇 epoch를 훈련하면 좋을지 결과를 보면서 바꾸어 봅시다. \n",
        "\n",
        "history_gmp = model_gmp.fit(partial_X_train,\n",
        "                    partial_y_train,\n",
        "                    epochs=epochs,\n",
        "                    batch_size=512,\n",
        "                    validation_data=(X_val, y_val),\n",
        "                    verbose=1)"
      ],
      "metadata": {
        "colab": {
          "base_uri": "https://localhost:8080/"
        },
        "id": "RpHItUuUFVz6",
        "outputId": "33d1d0a4-b968-4684-e39d-e95d1309e902"
      },
      "execution_count": 25,
      "outputs": [
        {
          "output_type": "stream",
          "name": "stdout",
          "text": [
            "Epoch 1/20\n",
            "188/188 [==============================] - 1s 5ms/step - loss: 0.6086 - accuracy: 0.7741 - val_loss: 0.4676 - val_accuracy: 0.8209\n",
            "Epoch 2/20\n",
            "188/188 [==============================] - 1s 4ms/step - loss: 0.3958 - accuracy: 0.8365 - val_loss: 0.3686 - val_accuracy: 0.8376\n",
            "Epoch 3/20\n",
            "188/188 [==============================] - 1s 4ms/step - loss: 0.3325 - accuracy: 0.8606 - val_loss: 0.3536 - val_accuracy: 0.8432\n",
            "Epoch 4/20\n",
            "188/188 [==============================] - 1s 4ms/step - loss: 0.3003 - accuracy: 0.8756 - val_loss: 0.3512 - val_accuracy: 0.8473\n",
            "Epoch 5/20\n",
            "188/188 [==============================] - 1s 4ms/step - loss: 0.2762 - accuracy: 0.8871 - val_loss: 0.3547 - val_accuracy: 0.8472\n",
            "Epoch 6/20\n",
            "188/188 [==============================] - 1s 4ms/step - loss: 0.2563 - accuracy: 0.8967 - val_loss: 0.3620 - val_accuracy: 0.8465\n",
            "Epoch 7/20\n",
            "188/188 [==============================] - 1s 4ms/step - loss: 0.2394 - accuracy: 0.9049 - val_loss: 0.3707 - val_accuracy: 0.8444\n",
            "Epoch 8/20\n",
            "188/188 [==============================] - 1s 4ms/step - loss: 0.2240 - accuracy: 0.9126 - val_loss: 0.3809 - val_accuracy: 0.8431\n",
            "Epoch 9/20\n",
            "188/188 [==============================] - 1s 4ms/step - loss: 0.2100 - accuracy: 0.9191 - val_loss: 0.3928 - val_accuracy: 0.8415\n",
            "Epoch 10/20\n",
            "188/188 [==============================] - 1s 4ms/step - loss: 0.1975 - accuracy: 0.9246 - val_loss: 0.4070 - val_accuracy: 0.8400\n",
            "Epoch 11/20\n",
            "188/188 [==============================] - 1s 5ms/step - loss: 0.1854 - accuracy: 0.9308 - val_loss: 0.4197 - val_accuracy: 0.8381\n",
            "Epoch 12/20\n",
            "188/188 [==============================] - 1s 4ms/step - loss: 0.1744 - accuracy: 0.9360 - val_loss: 0.4347 - val_accuracy: 0.8372\n",
            "Epoch 13/20\n",
            "188/188 [==============================] - 1s 5ms/step - loss: 0.1642 - accuracy: 0.9405 - val_loss: 0.4501 - val_accuracy: 0.8349\n",
            "Epoch 14/20\n",
            "188/188 [==============================] - 1s 4ms/step - loss: 0.1546 - accuracy: 0.9450 - val_loss: 0.4665 - val_accuracy: 0.8328\n",
            "Epoch 15/20\n",
            "188/188 [==============================] - 1s 4ms/step - loss: 0.1458 - accuracy: 0.9494 - val_loss: 0.4837 - val_accuracy: 0.8310\n",
            "Epoch 16/20\n",
            "188/188 [==============================] - 1s 4ms/step - loss: 0.1378 - accuracy: 0.9523 - val_loss: 0.4998 - val_accuracy: 0.8299\n",
            "Epoch 17/20\n",
            "188/188 [==============================] - 1s 4ms/step - loss: 0.1302 - accuracy: 0.9558 - val_loss: 0.5168 - val_accuracy: 0.8284\n",
            "Epoch 18/20\n",
            "188/188 [==============================] - 1s 4ms/step - loss: 0.1230 - accuracy: 0.9592 - val_loss: 0.5343 - val_accuracy: 0.8273\n",
            "Epoch 19/20\n",
            "188/188 [==============================] - 1s 5ms/step - loss: 0.1164 - accuracy: 0.9624 - val_loss: 0.5520 - val_accuracy: 0.8259\n",
            "Epoch 20/20\n",
            "188/188 [==============================] - 1s 4ms/step - loss: 0.1105 - accuracy: 0.9644 - val_loss: 0.5735 - val_accuracy: 0.8237\n"
          ]
        }
      ]
    },
    {
      "cell_type": "code",
      "source": [
        "results = model_gmp.evaluate(X_test,  y_test, verbose=2)\n",
        "\n",
        "print(results)"
      ],
      "metadata": {
        "colab": {
          "base_uri": "https://localhost:8080/"
        },
        "id": "tX1SsSpzFXwW",
        "outputId": "25255482-6e76-4005-b1bb-3afe2b46ef20"
      },
      "execution_count": 26,
      "outputs": [
        {
          "output_type": "stream",
          "name": "stdout",
          "text": [
            "1537/1537 - 2s - loss: 0.5789 - accuracy: 0.8224 - 2s/epoch - 2ms/step\n",
            "[0.5788601040840149, 0.8223650455474854]\n"
          ]
        }
      ]
    },
    {
      "cell_type": "markdown",
      "source": [
        "## 7. Loss, Accuracy 그래프 시각화"
      ],
      "metadata": {
        "id": "-KEOu3Q9QoB8"
      }
    },
    {
      "cell_type": "markdown",
      "source": [
        "### 1) LSTM"
      ],
      "metadata": {
        "id": "ZawC_Hx2Gvt3"
      }
    },
    {
      "cell_type": "code",
      "source": [
        "import matplotlib.pyplot as plt\n",
        "\n",
        "history_dict = history_lstm.history\n",
        "\n",
        "acc = history_dict['accuracy']\n",
        "val_acc = history_dict['val_accuracy']\n",
        "loss = history_dict['loss']\n",
        "val_loss = history_dict['val_loss']\n",
        "\n",
        "epochs = range(1, len(acc) + 1)\n",
        "\n",
        "f, ax = plt.subplots(1,2,figsize=(16,8))\n",
        "\n",
        "# \"bo\"는 \"파란색 점\"입니다\n",
        "ax[0].plot(epochs, loss, 'bo', label='Training loss')\n",
        "# b는 \"파란 실선\"입니다\n",
        "ax[0].plot(epochs, val_loss, 'b', label='Validation loss')\n",
        "ax[0].set_title('Training and validation loss')\n",
        "ax[0].set_xlabel('Epochs')\n",
        "ax[0].set_ylabel('Loss')\n",
        "ax[0].legend()\n",
        "\n",
        "\n",
        "ax[1].plot(epochs, acc, 'bo', label='Training acc')\n",
        "ax[1].plot(epochs, val_acc, 'b', label='Validation acc')\n",
        "ax[1].set_title('Training and validation accuracy')\n",
        "ax[1].set_xlabel('Epochs')\n",
        "ax[1].set_ylabel('Accuracy')\n",
        "ax[1].legend()\n",
        "\n",
        "plt.show()\n"
      ],
      "metadata": {
        "colab": {
          "base_uri": "https://localhost:8080/",
          "height": 513
        },
        "id": "gI2GbR39GiMy",
        "outputId": "e74b658c-3320-41cb-8964-5a9a00e2d290"
      },
      "execution_count": 27,
      "outputs": [
        {
          "output_type": "display_data",
          "data": {
            "text/plain": [
              "<Figure size 1152x576 with 2 Axes>"
            ],
            "image/png": "[encoded data removed]"
          },
          "metadata": {
            "needs_background": "light"
          }
        }
      ]
    },
    {
      "cell_type": "markdown",
      "source": [
        "### 2) 1-D CNN"
      ],
      "metadata": {
        "id": "ZWuGRGklGxVS"
      }
    },
    {
      "cell_type": "code",
      "source": [
        "history_dict = history_cnn.history\n",
        "\n",
        "acc = history_dict['accuracy']\n",
        "val_acc = history_dict['val_accuracy']\n",
        "loss = history_dict['loss']\n",
        "val_loss = history_dict['val_loss']\n",
        "\n",
        "epochs = range(1, len(acc) + 1)\n",
        "\n",
        "f, ax = plt.subplots(1,2,figsize=(16,8))\n",
        "\n",
        "# \"bo\"는 \"파란색 점\"입니다\n",
        "ax[0].plot(epochs, loss, 'bo', label='Training loss')\n",
        "# b는 \"파란 실선\"입니다\n",
        "ax[0].plot(epochs, val_loss, 'b', label='Validation loss')\n",
        "ax[0].set_title('Training and validation loss')\n",
        "ax[0].set_xlabel('Epochs')\n",
        "ax[0].set_ylabel('Loss')\n",
        "ax[0].legend()\n",
        "\n",
        "\n",
        "ax[1].plot(epochs, acc, 'bo', label='Training acc')\n",
        "ax[1].plot(epochs, val_acc, 'b', label='Validation acc')\n",
        "ax[1].set_title('Training and validation accuracy')\n",
        "ax[1].set_xlabel('Epochs')\n",
        "ax[1].set_ylabel('Accuracy')\n",
        "ax[1].legend()\n",
        "\n",
        "plt.show()\n"
      ],
      "metadata": {
        "colab": {
          "base_uri": "https://localhost:8080/",
          "height": 513
        },
        "id": "DwJgk_Z9G3Uu",
        "outputId": "dad125ac-df75-44bf-bfdf-f548e48f2fb3"
      },
      "execution_count": 28,
      "outputs": [
        {
          "output_type": "display_data",
          "data": {
            "text/plain": [
              "<Figure size 1152x576 with 2 Axes>"
            ],
            "image/png": "[encoded data removed]"
          },
          "metadata": {
            "needs_background": "light"
          }
        }
      ]
    },
    {
      "cell_type": "markdown",
      "source": [
        "### GlobalMaxPooling1D()"
      ],
      "metadata": {
        "id": "uaXmgWTAG0nC"
      }
    },
    {
      "cell_type": "code",
      "source": [
        "history_dict = history_gmp.history\n",
        "\n",
        "acc = history_dict['accuracy']\n",
        "val_acc = history_dict['val_accuracy']\n",
        "loss = history_dict['loss']\n",
        "val_loss = history_dict['val_loss']\n",
        "\n",
        "epochs = range(1, len(acc) + 1)\n",
        "\n",
        "f, ax = plt.subplots(1,2,figsize=(16,8))\n",
        "\n",
        "# \"bo\"는 \"파란색 점\"입니다\n",
        "ax[0].plot(epochs, loss, 'bo', label='Training loss')\n",
        "# b는 \"파란 실선\"입니다\n",
        "ax[0].plot(epochs, val_loss, 'b', label='Validation loss')\n",
        "ax[0].set_title('Training and validation loss')\n",
        "ax[0].set_xlabel('Epochs')\n",
        "ax[0].set_ylabel('Loss')\n",
        "ax[0].legend()\n",
        "\n",
        "\n",
        "ax[1].plot(epochs, acc, 'bo', label='Training acc')\n",
        "ax[1].plot(epochs, val_acc, 'b', label='Validation acc')\n",
        "ax[1].set_title('Training and validation accuracy')\n",
        "ax[1].set_xlabel('Epochs')\n",
        "ax[1].set_ylabel('Accuracy')\n",
        "ax[1].legend()\n",
        "\n",
        "plt.show()\n"
      ],
      "metadata": {
        "colab": {
          "base_uri": "https://localhost:8080/",
          "height": 513
        },
        "id": "EFRb6U2XG6o2",
        "outputId": "b6dda279-e364-43f9-a2c7-0ff365eae394"
      },
      "execution_count": 29,
      "outputs": [
        {
          "output_type": "display_data",
          "data": {
            "text/plain": [
              "<Figure size 1152x576 with 2 Axes>"
            ],
            "image/png": "[encoded data removed]"
          },
          "metadata": {
            "needs_background": "light"
          }
        }
      ]
    },
    {
      "cell_type": "markdown",
      "source": [
        "## 8. 학습된 Embedding 레이어 분석"
      ],
      "metadata": {
        "id": "Gyf5-qw1Qp7F"
      }
    },
    {
      "cell_type": "code",
      "source": [
        "! pip list | grep gensim"
      ],
      "metadata": {
        "colab": {
          "base_uri": "https://localhost:8080/"
        },
        "id": "iowXJJFvb6-5",
        "outputId": "78cc5454-a3a1-4090-f112-13f9c48dd3aa"
      },
      "execution_count": 30,
      "outputs": [
        {
          "output_type": "stream",
          "name": "stdout",
          "text": [
            "gensim                        3.6.0\n"
          ]
        }
      ]
    },
    {
      "cell_type": "markdown",
      "source": [
        "### 1) LSTM"
      ],
      "metadata": {
        "id": "U_F5sWnBO3iE"
      }
    },
    {
      "cell_type": "code",
      "source": [
        "embedding_layer = model_lstm.layers[0]\n",
        "weights = embedding_layer.get_weights()[0]\n",
        "print(weights.shape)    # shape: (vocab_size, embedding_dim)"
      ],
      "metadata": {
        "colab": {
          "base_uri": "https://localhost:8080/"
        },
        "id": "x-4cIndLOuPx",
        "outputId": "d31a1fdc-9b1f-48e1-d638-1015c40d8dd3"
      },
      "execution_count": 31,
      "outputs": [
        {
          "output_type": "stream",
          "name": "stdout",
          "text": [
            "(10000, 20)\n"
          ]
        }
      ]
    },
    {
      "cell_type": "code",
      "source": [
        "# 학습한 Embedding 파라미터를 파일에 써서 저장합니다. \n",
        "word2vec_file_path_lstm = '/content/drive/MyDrive/인공지능/아이펠/ES/data/영화텍스트감성분석/data/word2vec_lstm.txt'\n",
        "f = open(word2vec_file_path_lstm, 'w')\n",
        "f.write('{} {}\\n'.format(vocab_size-4, word_vector_dim))  # 몇개의 벡터를 얼마 사이즈로 기재할지 타이틀을 씁니다.\n",
        "\n",
        "# 단어 개수(에서 특수문자 4개는 제외하고)만큼의 워드 벡터를 파일에 기록합니다. \n",
        "vectors = model_lstm.get_weights()[0]\n",
        "for i in range(4,vocab_size):\n",
        "    f.write('{} {}\\n'.format(index_to_word[i], ' '.join(map(str, list(vectors[i, :])))))\n",
        "f.close()"
      ],
      "metadata": {
        "id": "IooaNAXqPYEH"
      },
      "execution_count": 32,
      "outputs": []
    },
    {
      "cell_type": "code",
      "source": [
        "from gensim.models.keyedvectors import Word2VecKeyedVectors\n",
        "\n",
        "word_vectors = Word2VecKeyedVectors.load_word2vec_format(word2vec_file_path_lstm, binary=False)\n",
        "vector = word_vectors['영화']\n",
        "print(vector)\n",
        "\n",
        "print(word_vectors.similar_by_word(\"스릴러\"))"
      ],
      "metadata": {
        "colab": {
          "base_uri": "https://localhost:8080/"
        },
        "id": "OzRsWOXTTw8Q",
        "outputId": "2065d9ee-2bc0-423e-e508-48467b168f0b"
      },
      "execution_count": 33,
      "outputs": [
        {
          "output_type": "stream",
          "name": "stdout",
          "text": [
            "[ 0.0490797  -0.05264287 -0.0417667   0.04421541  0.03082426 -0.02823609\n",
            " -0.03472615 -0.0169612   0.11593214  0.01681015 -0.09800262 -0.05856816\n",
            "  0.03036202  0.05319329  0.10460111 -0.00938441  0.13137335 -0.02548964\n",
            " -0.03569313  0.02099855]\n",
            "[('사운드트랙', 0.7388288974761963), ('바티칸', 0.7110235095024109), ('롭', 0.7026118040084839), ('국', 0.7012497782707214), ('럽', 0.7004551887512207), ('였으면', 0.6921318769454956), ('세기', 0.6910960078239441), ('청불', 0.684482216835022), ('전투', 0.6837091445922852), ('81', 0.677270770072937)]\n"
          ]
        }
      ]
    },
    {
      "cell_type": "markdown",
      "source": [
        "### 2) 1-D CNN"
      ],
      "metadata": {
        "id": "Lg2MyU7eO5RV"
      }
    },
    {
      "cell_type": "code",
      "source": [
        "embedding_layer = model_cnn.layers[0]\n",
        "weights = embedding_layer.get_weights()[0]\n",
        "print(weights.shape)    # shape: (vocab_size, embedding_dim)"
      ],
      "metadata": {
        "colab": {
          "base_uri": "https://localhost:8080/"
        },
        "id": "WlCT6RGEO25d",
        "outputId": "ff45787d-6f40-4427-d505-1b9c23da860d"
      },
      "execution_count": 34,
      "outputs": [
        {
          "output_type": "stream",
          "name": "stdout",
          "text": [
            "(10000, 20)\n"
          ]
        }
      ]
    },
    {
      "cell_type": "code",
      "source": [
        "# 학습한 Embedding 파라미터를 파일에 써서 저장합니다. \n",
        "word2vec_file_path_cnn = '/content/drive/MyDrive/인공지능/아이펠/ES/data/영화텍스트감성분석/data/word2vec_cnn.txt'\n",
        "f = open(word2vec_file_path_cnn, 'w')\n",
        "f.write('{} {}\\n'.format(vocab_size-4, word_vector_dim))  # 몇개의 벡터를 얼마 사이즈로 기재할지 타이틀을 씁니다.\n",
        "\n",
        "# 단어 개수(에서 특수문자 4개는 제외하고)만큼의 워드 벡터를 파일에 기록합니다. \n",
        "vectors = model_cnn.get_weights()[0]\n",
        "for i in range(4,vocab_size):\n",
        "    f.write('{} {}\\n'.format(index_to_word[i], ' '.join(map(str, list(vectors[i, :])))))\n",
        "f.close()"
      ],
      "metadata": {
        "id": "68RqHjXkPnA_"
      },
      "execution_count": 35,
      "outputs": []
    },
    {
      "cell_type": "code",
      "source": [
        "word_vectors = Word2VecKeyedVectors.load_word2vec_format(word2vec_file_path_cnn, binary=False)\n",
        "vector = word_vectors['영화']\n",
        "print(vector)\n",
        "\n",
        "print(word_vectors.similar_by_word(\"로맨스\"))"
      ],
      "metadata": {
        "colab": {
          "base_uri": "https://localhost:8080/"
        },
        "id": "BvnDG-nBT_La",
        "outputId": "a24744e2-a5d9-4c9c-c3c5-265e54319192"
      },
      "execution_count": 36,
      "outputs": [
        {
          "output_type": "stream",
          "name": "stdout",
          "text": [
            "[ 0.07878017 -0.00507474  0.01554953  0.05285764 -0.01402899 -0.06055846\n",
            "  0.03173439  0.0589839   0.0131046  -0.0493544  -0.02369308 -0.0563182\n",
            "  0.03386443  0.00892005 -0.04771272 -0.00408991  0.01351654 -0.07229407\n",
            "  0.0025152   0.12718585]\n",
            "[('낮', 0.8632968664169312), ('장기', 0.844476580619812), ('최진실', 0.8133935928344727), ('알차', 0.81264328956604), ('클로이', 0.8102652430534363), ('강', 0.809208333492279), ('픈', 0.8089319467544556), ('돋보이', 0.8052185773849487), ('각인', 0.7941707968711853), ('의리', 0.7924220561981201)]\n"
          ]
        }
      ]
    },
    {
      "cell_type": "markdown",
      "source": [
        "### 3) GlobalMaxPooling1D()"
      ],
      "metadata": {
        "id": "E5t01L9OO798"
      }
    },
    {
      "cell_type": "code",
      "source": [
        "embedding_layer = model_gmp.layers[0]\n",
        "weights = embedding_layer.get_weights()[0]\n",
        "print(weights.shape)    # shape: (vocab_size, embedding_dim)"
      ],
      "metadata": {
        "colab": {
          "base_uri": "https://localhost:8080/"
        },
        "id": "LPjwzsCqOw5K",
        "outputId": "ae797e4d-31de-4ff5-a3bb-56ffd28869c0"
      },
      "execution_count": 37,
      "outputs": [
        {
          "output_type": "stream",
          "name": "stdout",
          "text": [
            "(10000, 20)\n"
          ]
        }
      ]
    },
    {
      "cell_type": "code",
      "source": [
        "# 학습한 Embedding 파라미터를 파일에 써서 저장합니다. \n",
        "word2vec_file_path_gmp = '/content/drive/MyDrive/인공지능/아이펠/ES/data/영화텍스트감성분석/data/word2vec_gmp.txt'\n",
        "f = open(word2vec_file_path_gmp, 'w')\n",
        "f.write('{} {}\\n'.format(vocab_size-4, word_vector_dim))  # 몇개의 벡터를 얼마 사이즈로 기재할지 타이틀을 씁니다.\n",
        "\n",
        "# 단어 개수(에서 특수문자 4개는 제외하고)만큼의 워드 벡터를 파일에 기록합니다. \n",
        "vectors = model_gmp.get_weights()[0]\n",
        "for i in range(4,vocab_size):\n",
        "    f.write('{} {}\\n'.format(index_to_word[i], ' '.join(map(str, list(vectors[i, :])))))\n",
        "f.close()"
      ],
      "metadata": {
        "id": "wOv8sPgcP0n9"
      },
      "execution_count": 38,
      "outputs": []
    },
    {
      "cell_type": "code",
      "source": [
        "word_vectors = Word2VecKeyedVectors.load_word2vec_format(word2vec_file_path_gmp, binary=False)\n",
        "vector = word_vectors['영화']\n",
        "print(vector)\n",
        "\n",
        "print(word_vectors.similar_by_word(\"코미디\"))"
      ],
      "metadata": {
        "colab": {
          "base_uri": "https://localhost:8080/"
        },
        "id": "G9_QMtRjUBW4",
        "outputId": "702287ba-bda9-430f-b689-26372dedfd74"
      },
      "execution_count": 39,
      "outputs": [
        {
          "output_type": "stream",
          "name": "stdout",
          "text": [
            "[ 0.20097525 -0.21668744 -0.22317801 -0.24070418 -0.1885865  -0.30017945\n",
            " -0.19323872 -0.19733696 -0.23610264 -0.26761508 -0.22568335 -0.19923986\n",
            " -0.22269283 -0.1771545  -0.2450453  -0.18495792 -0.2950087  -0.19434653\n",
            " -0.19775645 -0.19660683]\n",
            "[('참', 0.9074161052703857), ('.........', 0.9005693197250366), ('난다', 0.8865447044372559), ('문화', 0.8844483494758606), ('2', 0.8713869452476501), ('턱', 0.8706406950950623), ('이것', 0.8598968982696533), ('음', 0.853265106678009), ('tv', 0.8507785797119141), ('너무', 0.8494600057601929)]\n"
          ]
        }
      ]
    },
    {
      "cell_type": "markdown",
      "source": [
        "- 자체 학습한 임베딩은 그닥 성능이 좋지 않은 것을 확인할 수 있다."
      ],
      "metadata": {
        "id": "KyQU7H782Km2"
      }
    },
    {
      "cell_type": "markdown",
      "source": [
        "## 9. 한국어 Word2Vec 임베딩 활용하여 성능 개선"
      ],
      "metadata": {
        "id": "Lwkq2QAOQsEV"
      }
    },
    {
      "cell_type": "markdown",
      "source": [
        "### 1) Word2Vec 임베딩 적용"
      ],
      "metadata": {
        "id": "_OW7GQRf1Bea"
      }
    },
    {
      "cell_type": "code",
      "source": [
        "from gensim.models.keyedvectors import Word2VecKeyedVectors\n",
        "\n",
        "word2vec_path = \"/content/drive/MyDrive/error_model/word2vec_ko.model\"\n",
        "word_vectors = Word2VecKeyedVectors.load(word2vec_path)\n",
        "vector = word_vectors.wv\n",
        "vector"
      ],
      "metadata": {
        "id": "rx7N_zxxWY-N",
        "colab": {
          "base_uri": "https://localhost:8080/"
        },
        "outputId": "e0e8cc6f-9988-4716-a785-d0a456612dcb"
      },
      "execution_count": 40,
      "outputs": [
        {
          "output_type": "execute_result",
          "data": {
            "text/plain": [
              "<gensim.models.keyedvectors.Word2VecKeyedVectors at 0x7f8f4e928650>"
            ]
          },
          "metadata": {},
          "execution_count": 40
        }
      ]
    },
    {
      "cell_type": "code",
      "source": [
        "vector.similar_by_word(\"액션\")"
      ],
      "metadata": {
        "colab": {
          "base_uri": "https://localhost:8080/"
        },
        "id": "Auqzfd5djAFs",
        "outputId": "bd83783d-ca61-4943-9c1d-88abaf6ee22f"
      },
      "execution_count": 41,
      "outputs": [
        {
          "output_type": "execute_result",
          "data": {
            "text/plain": [
              "[('코미디', 0.7429822683334351),\n",
              " ('스릴러', 0.7381718754768372),\n",
              " ('판타지', 0.6900153160095215),\n",
              " ('호러', 0.6892675757408142),\n",
              " ('SF', 0.6889280676841736),\n",
              " ('롤플레잉', 0.6625269651412964),\n",
              " ('영화', 0.6522793769836426),\n",
              " ('서스펜스', 0.645000696182251),\n",
              " ('어드벤처', 0.6273845434188843),\n",
              " ('미스터리', 0.6250677108764648)]"
            ]
          },
          "metadata": {},
          "execution_count": 41
        }
      ]
    },
    {
      "cell_type": "code",
      "source": [
        "vector.similar_by_word(\"영화\")"
      ],
      "metadata": {
        "colab": {
          "base_uri": "https://localhost:8080/"
        },
        "id": "ft7iaHhMc0r3",
        "outputId": "11b35f00-3be9-4eb4-e57e-6b817534688e"
      },
      "execution_count": 42,
      "outputs": [
        {
          "output_type": "execute_result",
          "data": {
            "text/plain": [
              "[('드라마', 0.8418774008750916),\n",
              " ('뮤지컬', 0.7775139808654785),\n",
              " ('코미디', 0.7489107251167297),\n",
              " ('다큐멘터리', 0.7401294708251953),\n",
              " ('헐리우드', 0.7397844791412354),\n",
              " ('애니메이션', 0.7170552015304565),\n",
              " ('독립영화', 0.7113527655601501),\n",
              " ('로맨틱', 0.7107658386230469),\n",
              " ('장편', 0.7101576328277588),\n",
              " ('극영화', 0.7045413255691528)]"
            ]
          },
          "metadata": {},
          "execution_count": 42
        }
      ]
    },
    {
      "cell_type": "code",
      "source": [
        "vocab_size = 10000\n",
        "word_vector_dim = 100\n",
        "\n",
        "embedding_matrix = np.random.rand(vocab_size, word_vector_dim)\n",
        "n = 0\n",
        "for i in range(4,vocab_size):\n",
        "    if index_to_word[i] in vector:\n",
        "        embedding_matrix[i] = vector[index_to_word[i]]"
      ],
      "metadata": {
        "id": "K_4pL7RVc4M6"
      },
      "execution_count": 43,
      "outputs": []
    },
    {
      "cell_type": "markdown",
      "source": [
        "### 2) 모델구현"
      ],
      "metadata": {
        "id": "4ega_T0j1I2M"
      }
    },
    {
      "cell_type": "code",
      "source": [
        "from tensorflow.keras.initializers import Constant"
      ],
      "metadata": {
        "id": "BegkyjtDc_5C"
      },
      "execution_count": 44,
      "outputs": []
    },
    {
      "cell_type": "markdown",
      "source": [
        "### 1) LSTM"
      ],
      "metadata": {
        "id": "nxoFhKcj1kxy"
      }
    },
    {
      "cell_type": "code",
      "source": [
        "\n",
        "model_lstm = tf.keras.Sequential()\n",
        "model_lstm.add(tf.keras.layers.Embedding(vocab_size,\n",
        "                                        word_vector_dim,\n",
        "                                        input_length=maxlen,\n",
        "                                        embeddings_initializer=Constant(embedding_matrix),\n",
        "                                        trainable=True))\n",
        "model_lstm.add(tf.keras.layers.LSTM(512)) \n",
        "model_lstm.add(tf.keras.layers.Dense(128, activation='relu'))\n",
        "model_lstm.add(tf.keras.layers.Dense(64, activation='relu'))\n",
        "model_lstm.add(tf.keras.layers.Dense(1, activation='sigmoid'))  # 최종 출력은 긍정/부정을 나타내는 1dim 입니다.\n",
        "\n",
        "model_lstm.summary()\n",
        "\n"
      ],
      "metadata": {
        "colab": {
          "base_uri": "https://localhost:8080/"
        },
        "id": "_ocmZ4PPdB4X",
        "outputId": "17cc1faf-bbf2-42c7-e43f-177a97cabf43"
      },
      "execution_count": 45,
      "outputs": [
        {
          "output_type": "stream",
          "name": "stdout",
          "text": [
            "Model: \"sequential_3\"\n",
            "_________________________________________________________________\n",
            " Layer (type)                Output Shape              Param #   \n",
            "=================================================================\n",
            " embedding_3 (Embedding)     (None, 41, 100)           1000000   \n",
            "                                                                 \n",
            " lstm_1 (LSTM)               (None, 512)               1255424   \n",
            "                                                                 \n",
            " dense_6 (Dense)             (None, 128)               65664     \n",
            "                                                                 \n",
            " dense_7 (Dense)             (None, 64)                8256      \n",
            "                                                                 \n",
            " dense_8 (Dense)             (None, 1)                 65        \n",
            "                                                                 \n",
            "=================================================================\n",
            "Total params: 2,329,409\n",
            "Trainable params: 2,329,409\n",
            "Non-trainable params: 0\n",
            "_________________________________________________________________\n"
          ]
        }
      ]
    },
    {
      "cell_type": "markdown",
      "source": [
        "### 2) 1-D CNN"
      ],
      "metadata": {
        "id": "r2RXBFRq1mVs"
      }
    },
    {
      "cell_type": "code",
      "source": [
        "model_cnn = tf.keras.Sequential()\n",
        "model_cnn.add(tf.keras.layers.Embedding(vocab_size,\n",
        "                                        word_vector_dim,\n",
        "                                        input_length=maxlen,\n",
        "                                        embeddings_initializer=Constant(embedding_matrix),\n",
        "                                        trainable=True))\n",
        "model_cnn.add(tf.keras.layers.Conv1D(512, 7, activation='relu'))\n",
        "model_cnn.add(tf.keras.layers.MaxPooling1D(5))\n",
        "model_cnn.add(tf.keras.layers.Conv1D(512, 7, activation='relu'))\n",
        "model_cnn.add(tf.keras.layers.GlobalMaxPooling1D())\n",
        "\n",
        "model_cnn.add(tf.keras.layers.Dense(128, activation='relu'))\n",
        "model_cnn.add(tf.keras.layers.Dense(64, activation='relu'))\n",
        "model_cnn.add(tf.keras.layers.Dense(1, activation='sigmoid'))  # 최종 출력은 긍정/부정을 나타내는 1dim 입니다.\n",
        "\n",
        "model_cnn.summary()"
      ],
      "metadata": {
        "colab": {
          "base_uri": "https://localhost:8080/"
        },
        "id": "lxTEY1cedXZy",
        "outputId": "e769ed2c-bdb5-4e01-b97a-788b16a4c262"
      },
      "execution_count": 46,
      "outputs": [
        {
          "output_type": "stream",
          "name": "stdout",
          "text": [
            "Model: \"sequential_4\"\n",
            "_________________________________________________________________\n",
            " Layer (type)                Output Shape              Param #   \n",
            "=================================================================\n",
            " embedding_4 (Embedding)     (None, 41, 100)           1000000   \n",
            "                                                                 \n",
            " conv1d_2 (Conv1D)           (None, 35, 512)           358912    \n",
            "                                                                 \n",
            " max_pooling1d_1 (MaxPooling  (None, 7, 512)           0         \n",
            " 1D)                                                             \n",
            "                                                                 \n",
            " conv1d_3 (Conv1D)           (None, 1, 512)            1835520   \n",
            "                                                                 \n",
            " global_max_pooling1d_2 (Glo  (None, 512)              0         \n",
            " balMaxPooling1D)                                                \n",
            "                                                                 \n",
            " dense_9 (Dense)             (None, 128)               65664     \n",
            "                                                                 \n",
            " dense_10 (Dense)            (None, 64)                8256      \n",
            "                                                                 \n",
            " dense_11 (Dense)            (None, 1)                 65        \n",
            "                                                                 \n",
            "=================================================================\n",
            "Total params: 3,268,417\n",
            "Trainable params: 3,268,417\n",
            "Non-trainable params: 0\n",
            "_________________________________________________________________\n"
          ]
        }
      ]
    },
    {
      "cell_type": "markdown",
      "source": [
        "### 3) GlobalMaxPooling1D"
      ],
      "metadata": {
        "id": "zs-3Apoo1y9p"
      }
    },
    {
      "cell_type": "code",
      "source": [
        "model_gmp = tf.keras.Sequential()\n",
        "model_gmp.add(tf.keras.layers.Embedding(vocab_size,\n",
        "                                        word_vector_dim,\n",
        "                                        input_length=maxlen,\n",
        "                                        embeddings_initializer=Constant(embedding_matrix),\n",
        "                                        trainable=True))\n",
        "model_gmp.add(tf.keras.layers.GlobalMaxPooling1D()) \n",
        "model_gmp.add(tf.keras.layers.Dense(512, activation='relu'))\n",
        "model_gmp.add(tf.keras.layers.Dense(512, activation='relu'))\n",
        "model_gmp.add(tf.keras.layers.Dense(1, activation='sigmoid'))  # 최종 출력은 긍정/부정을 나타내는 1dim 입니다.ㅏ\n",
        "model_gmp.summary()"
      ],
      "metadata": {
        "colab": {
          "base_uri": "https://localhost:8080/"
        },
        "id": "fpQxEfGodetN",
        "outputId": "e8551f00-de13-4c27-9800-d9fbcd7ba18a"
      },
      "execution_count": 47,
      "outputs": [
        {
          "output_type": "stream",
          "name": "stdout",
          "text": [
            "Model: \"sequential_5\"\n",
            "_________________________________________________________________\n",
            " Layer (type)                Output Shape              Param #   \n",
            "=================================================================\n",
            " embedding_5 (Embedding)     (None, 41, 100)           1000000   \n",
            "                                                                 \n",
            " global_max_pooling1d_3 (Glo  (None, 100)              0         \n",
            " balMaxPooling1D)                                                \n",
            "                                                                 \n",
            " dense_12 (Dense)            (None, 512)               51712     \n",
            "                                                                 \n",
            " dense_13 (Dense)            (None, 512)               262656    \n",
            "                                                                 \n",
            " dense_14 (Dense)            (None, 1)                 513       \n",
            "                                                                 \n",
            "=================================================================\n",
            "Total params: 1,314,881\n",
            "Trainable params: 1,314,881\n",
            "Non-trainable params: 0\n",
            "_________________________________________________________________\n"
          ]
        }
      ]
    },
    {
      "cell_type": "code",
      "source": [
        "print(partial_X_train.shape)\n",
        "print(partial_y_train.shape)"
      ],
      "metadata": {
        "colab": {
          "base_uri": "https://localhost:8080/"
        },
        "id": "v9fV3fETzS3b",
        "outputId": "b3b3b7dc-bfb0-464f-d888-d1addc2a88eb"
      },
      "execution_count": 48,
      "outputs": [
        {
          "output_type": "stream",
          "name": "stdout",
          "text": [
            "(96182, 41)\n",
            "(96182,)\n"
          ]
        }
      ]
    },
    {
      "cell_type": "markdown",
      "source": [
        "## 3) compile 및 모델학습"
      ],
      "metadata": {
        "id": "xyNHVFmL161I"
      }
    },
    {
      "cell_type": "code",
      "source": [
        "model_lstm.compile(optimizer='adam',\n",
        "              loss='binary_crossentropy',\n",
        "              metrics=['accuracy'])\n",
        "            \n",
        "model_cnn.compile(optimizer='adam',\n",
        "              loss='binary_crossentropy',\n",
        "              metrics=['accuracy'])\n",
        "              \n",
        "model_gmp.compile(optimizer='adam',\n",
        "              loss='binary_crossentropy',\n",
        "              metrics=['accuracy'])"
      ],
      "metadata": {
        "id": "aPVgO5avdoz5"
      },
      "execution_count": 49,
      "outputs": []
    },
    {
      "cell_type": "markdown",
      "source": [
        "### 1) LSTM"
      ],
      "metadata": {
        "id": "ivDp1EOg2Bor"
      }
    },
    {
      "cell_type": "code",
      "source": [
        "epochs=35  # 몇 epoch를 훈련하면 좋을지 결과를 보면서 바꾸어 봅시다. \n",
        "\n",
        "history_lstm2 = model_lstm.fit(partial_X_train,\n",
        "                    partial_y_train,\n",
        "                    epochs=epochs,\n",
        "                    batch_size=64,\n",
        "                    validation_data=(X_val, y_val),\n",
        "                    verbose=1)"
      ],
      "metadata": {
        "colab": {
          "base_uri": "https://localhost:8080/"
        },
        "id": "aqNdda10dtNB",
        "outputId": "3554ddcd-31ab-4dac-b79e-7c00a4085e72"
      },
      "execution_count": 50,
      "outputs": [
        {
          "output_type": "stream",
          "name": "stdout",
          "text": [
            "Epoch 1/35\n",
            "1503/1503 [==============================] - 23s 14ms/step - loss: 0.4118 - accuracy: 0.8086 - val_loss: 0.3508 - val_accuracy: 0.8451\n",
            "Epoch 2/35\n",
            "1503/1503 [==============================] - 19s 12ms/step - loss: 0.2991 - accuracy: 0.8724 - val_loss: 0.3086 - val_accuracy: 0.8673\n",
            "Epoch 3/35\n",
            "1503/1503 [==============================] - 19s 12ms/step - loss: 0.2474 - accuracy: 0.8967 - val_loss: 0.3185 - val_accuracy: 0.8674\n",
            "Epoch 4/35\n",
            "1503/1503 [==============================] - 20s 14ms/step - loss: 0.1932 - accuracy: 0.9221 - val_loss: 0.3471 - val_accuracy: 0.8668\n",
            "Epoch 5/35\n",
            "1503/1503 [==============================] - 19s 13ms/step - loss: 0.1369 - accuracy: 0.9465 - val_loss: 0.4040 - val_accuracy: 0.8635\n",
            "Epoch 6/35\n",
            "1503/1503 [==============================] - 19s 13ms/step - loss: 0.0956 - accuracy: 0.9631 - val_loss: 0.4975 - val_accuracy: 0.8587\n",
            "Epoch 7/35\n",
            "1503/1503 [==============================] - 19s 13ms/step - loss: 0.0728 - accuracy: 0.9721 - val_loss: 0.5629 - val_accuracy: 0.8577\n",
            "Epoch 8/35\n",
            "1503/1503 [==============================] - 19s 13ms/step - loss: 0.0569 - accuracy: 0.9787 - val_loss: 0.6001 - val_accuracy: 0.8563\n",
            "Epoch 9/35\n",
            "1503/1503 [==============================] - 19s 13ms/step - loss: 0.0462 - accuracy: 0.9821 - val_loss: 0.6197 - val_accuracy: 0.8531\n",
            "Epoch 10/35\n",
            "1503/1503 [==============================] - 19s 13ms/step - loss: 0.0404 - accuracy: 0.9845 - val_loss: 0.7122 - val_accuracy: 0.8573\n",
            "Epoch 11/35\n",
            "1503/1503 [==============================] - 19s 13ms/step - loss: 0.0368 - accuracy: 0.9859 - val_loss: 0.7960 - val_accuracy: 0.8577\n",
            "Epoch 12/35\n",
            "1503/1503 [==============================] - 19s 13ms/step - loss: 0.0347 - accuracy: 0.9866 - val_loss: 0.7320 - val_accuracy: 0.8549\n",
            "Epoch 13/35\n",
            "1503/1503 [==============================] - 19s 13ms/step - loss: 0.0322 - accuracy: 0.9880 - val_loss: 0.7800 - val_accuracy: 0.8553\n",
            "Epoch 14/35\n",
            "1503/1503 [==============================] - 20s 13ms/step - loss: 0.0293 - accuracy: 0.9891 - val_loss: 0.7634 - val_accuracy: 0.8559\n",
            "Epoch 15/35\n",
            "1503/1503 [==============================] - 19s 13ms/step - loss: 0.0280 - accuracy: 0.9893 - val_loss: 0.7528 - val_accuracy: 0.8561\n",
            "Epoch 16/35\n",
            "1503/1503 [==============================] - 19s 13ms/step - loss: 0.0272 - accuracy: 0.9895 - val_loss: 0.8136 - val_accuracy: 0.8583\n",
            "Epoch 17/35\n",
            "1503/1503 [==============================] - 19s 13ms/step - loss: 0.0257 - accuracy: 0.9905 - val_loss: 0.7959 - val_accuracy: 0.8538\n",
            "Epoch 18/35\n",
            "1503/1503 [==============================] - 19s 13ms/step - loss: 0.0247 - accuracy: 0.9903 - val_loss: 0.7848 - val_accuracy: 0.8548\n",
            "Epoch 19/35\n",
            "1503/1503 [==============================] - 19s 13ms/step - loss: 0.0227 - accuracy: 0.9914 - val_loss: 0.8183 - val_accuracy: 0.8575\n",
            "Epoch 20/35\n",
            "1503/1503 [==============================] - 19s 13ms/step - loss: 0.0231 - accuracy: 0.9913 - val_loss: 0.8957 - val_accuracy: 0.8552\n",
            "Epoch 21/35\n",
            "1503/1503 [==============================] - 19s 13ms/step - loss: 0.0216 - accuracy: 0.9918 - val_loss: 0.8528 - val_accuracy: 0.8512\n",
            "Epoch 22/35\n",
            "1503/1503 [==============================] - 19s 13ms/step - loss: 0.0205 - accuracy: 0.9923 - val_loss: 0.9317 - val_accuracy: 0.8517\n",
            "Epoch 23/35\n",
            "1503/1503 [==============================] - 19s 13ms/step - loss: 0.0219 - accuracy: 0.9919 - val_loss: 0.8622 - val_accuracy: 0.8526\n",
            "Epoch 24/35\n",
            "1503/1503 [==============================] - 19s 13ms/step - loss: 0.0207 - accuracy: 0.9919 - val_loss: 0.9925 - val_accuracy: 0.8545\n",
            "Epoch 25/35\n",
            "1503/1503 [==============================] - 19s 13ms/step - loss: 0.0199 - accuracy: 0.9922 - val_loss: 0.9840 - val_accuracy: 0.8553\n",
            "Epoch 26/35\n",
            "1503/1503 [==============================] - 19s 13ms/step - loss: 0.0188 - accuracy: 0.9927 - val_loss: 0.9078 - val_accuracy: 0.8562\n",
            "Epoch 27/35\n",
            "1503/1503 [==============================] - 19s 13ms/step - loss: 0.0186 - accuracy: 0.9927 - val_loss: 0.9374 - val_accuracy: 0.8513\n",
            "Epoch 28/35\n",
            "1503/1503 [==============================] - 19s 13ms/step - loss: 0.0203 - accuracy: 0.9923 - val_loss: 0.8885 - val_accuracy: 0.8526\n",
            "Epoch 29/35\n",
            "1503/1503 [==============================] - 19s 13ms/step - loss: 0.0188 - accuracy: 0.9928 - val_loss: 0.9864 - val_accuracy: 0.8520\n",
            "Epoch 30/35\n",
            "1503/1503 [==============================] - 19s 13ms/step - loss: 0.0183 - accuracy: 0.9931 - val_loss: 0.9678 - val_accuracy: 0.8563\n",
            "Epoch 31/35\n",
            "1503/1503 [==============================] - 19s 13ms/step - loss: 0.0187 - accuracy: 0.9929 - val_loss: 0.8941 - val_accuracy: 0.8524\n",
            "Epoch 32/35\n",
            "1503/1503 [==============================] - 19s 13ms/step - loss: 0.0180 - accuracy: 0.9934 - val_loss: 0.8921 - val_accuracy: 0.8541\n",
            "Epoch 33/35\n",
            "1503/1503 [==============================] - 19s 13ms/step - loss: 0.0176 - accuracy: 0.9933 - val_loss: 1.0149 - val_accuracy: 0.8512\n",
            "Epoch 34/35\n",
            "1503/1503 [==============================] - 19s 13ms/step - loss: 0.0184 - accuracy: 0.9926 - val_loss: 0.9968 - val_accuracy: 0.8535\n",
            "Epoch 35/35\n",
            "1503/1503 [==============================] - 19s 13ms/step - loss: 0.0162 - accuracy: 0.9936 - val_loss: 0.9103 - val_accuracy: 0.8531\n"
          ]
        }
      ]
    },
    {
      "cell_type": "code",
      "source": [
        "results = model_lstm.evaluate(X_test,  y_test, verbose=2)\n",
        "\n",
        "print(results)"
      ],
      "metadata": {
        "colab": {
          "base_uri": "https://localhost:8080/"
        },
        "id": "WFQE8Bqfd2nC",
        "outputId": "d3a0a6ee-20cd-43d3-ade1-e491bfddff83"
      },
      "execution_count": 51,
      "outputs": [
        {
          "output_type": "stream",
          "name": "stdout",
          "text": [
            "1537/1537 - 5s - loss: 0.9171 - accuracy: 0.8510 - 5s/epoch - 3ms/step\n",
            "[0.9170721769332886, 0.851028323173523]\n"
          ]
        }
      ]
    },
    {
      "cell_type": "markdown",
      "source": [
        "### 2) 1-D CNN"
      ],
      "metadata": {
        "id": "TYyE8oBC2EIT"
      }
    },
    {
      "cell_type": "code",
      "source": [
        "epochs=35  # 몇 epoch를 훈련하면 좋을지 결과를 보면서 바꾸어 봅시다. \n",
        "\n",
        "history = model_cnn.fit(partial_X_train,\n",
        "                    partial_y_train,\n",
        "                    epochs=epochs,\n",
        "                    batch_size=64,\n",
        "                    validation_data=(X_val, y_val),\n",
        "                    verbose=1)"
      ],
      "metadata": {
        "colab": {
          "base_uri": "https://localhost:8080/"
        },
        "id": "rB62z0z9duRY",
        "outputId": "036fab98-cca2-4279-e746-abe4cf94c1f3"
      },
      "execution_count": 52,
      "outputs": [
        {
          "output_type": "stream",
          "name": "stdout",
          "text": [
            "Epoch 1/35\n",
            "1503/1503 [==============================] - 15s 9ms/step - loss: 0.4664 - accuracy: 0.7755 - val_loss: 0.3848 - val_accuracy: 0.8286\n",
            "Epoch 2/35\n",
            "1503/1503 [==============================] - 13s 8ms/step - loss: 0.3425 - accuracy: 0.8504 - val_loss: 0.3565 - val_accuracy: 0.8440\n",
            "Epoch 3/35\n",
            "1503/1503 [==============================] - 13s 8ms/step - loss: 0.2830 - accuracy: 0.8794 - val_loss: 0.3694 - val_accuracy: 0.8399\n",
            "Epoch 4/35\n",
            "1503/1503 [==============================] - 13s 8ms/step - loss: 0.2297 - accuracy: 0.9048 - val_loss: 0.3770 - val_accuracy: 0.8476\n",
            "Epoch 5/35\n",
            "1503/1503 [==============================] - 13s 8ms/step - loss: 0.1777 - accuracy: 0.9284 - val_loss: 0.4301 - val_accuracy: 0.8413\n",
            "Epoch 6/35\n",
            "1503/1503 [==============================] - 13s 8ms/step - loss: 0.1364 - accuracy: 0.9460 - val_loss: 0.5286 - val_accuracy: 0.8395\n",
            "Epoch 7/35\n",
            "1503/1503 [==============================] - 13s 9ms/step - loss: 0.1062 - accuracy: 0.9583 - val_loss: 0.6114 - val_accuracy: 0.8417\n",
            "Epoch 8/35\n",
            "1503/1503 [==============================] - 13s 8ms/step - loss: 0.0820 - accuracy: 0.9685 - val_loss: 0.7060 - val_accuracy: 0.8396\n",
            "Epoch 9/35\n",
            "1503/1503 [==============================] - 13s 8ms/step - loss: 0.0671 - accuracy: 0.9741 - val_loss: 0.7081 - val_accuracy: 0.8340\n",
            "Epoch 10/35\n",
            "1503/1503 [==============================] - 13s 8ms/step - loss: 0.0581 - accuracy: 0.9779 - val_loss: 0.7953 - val_accuracy: 0.8384\n",
            "Epoch 11/35\n",
            "1503/1503 [==============================] - 13s 8ms/step - loss: 0.0493 - accuracy: 0.9812 - val_loss: 0.7466 - val_accuracy: 0.8383\n",
            "Epoch 12/35\n",
            "1503/1503 [==============================] - 13s 8ms/step - loss: 0.0435 - accuracy: 0.9836 - val_loss: 0.7671 - val_accuracy: 0.8356\n",
            "Epoch 13/35\n",
            "1503/1503 [==============================] - 13s 8ms/step - loss: 0.0389 - accuracy: 0.9853 - val_loss: 0.9694 - val_accuracy: 0.8361\n",
            "Epoch 14/35\n",
            "1503/1503 [==============================] - 13s 8ms/step - loss: 0.0365 - accuracy: 0.9862 - val_loss: 0.8264 - val_accuracy: 0.8354\n",
            "Epoch 15/35\n",
            "1503/1503 [==============================] - 13s 8ms/step - loss: 0.0323 - accuracy: 0.9881 - val_loss: 0.9963 - val_accuracy: 0.8353\n",
            "Epoch 16/35\n",
            "1503/1503 [==============================] - 13s 8ms/step - loss: 0.0316 - accuracy: 0.9882 - val_loss: 1.0130 - val_accuracy: 0.8364\n",
            "Epoch 17/35\n",
            "1503/1503 [==============================] - 13s 8ms/step - loss: 0.0274 - accuracy: 0.9894 - val_loss: 1.1209 - val_accuracy: 0.8385\n",
            "Epoch 18/35\n",
            "1503/1503 [==============================] - 13s 9ms/step - loss: 0.0259 - accuracy: 0.9899 - val_loss: 0.9586 - val_accuracy: 0.8396\n",
            "Epoch 19/35\n",
            "1503/1503 [==============================] - 13s 8ms/step - loss: 0.0237 - accuracy: 0.9910 - val_loss: 1.0302 - val_accuracy: 0.8405\n",
            "Epoch 20/35\n",
            "1503/1503 [==============================] - 13s 8ms/step - loss: 0.0220 - accuracy: 0.9919 - val_loss: 1.1369 - val_accuracy: 0.8413\n",
            "Epoch 21/35\n",
            "1503/1503 [==============================] - 13s 8ms/step - loss: 0.0198 - accuracy: 0.9925 - val_loss: 1.3317 - val_accuracy: 0.8387\n",
            "Epoch 22/35\n",
            "1503/1503 [==============================] - 13s 8ms/step - loss: 0.0212 - accuracy: 0.9917 - val_loss: 1.1228 - val_accuracy: 0.8429\n",
            "Epoch 23/35\n",
            "1503/1503 [==============================] - 13s 8ms/step - loss: 0.0189 - accuracy: 0.9929 - val_loss: 1.2352 - val_accuracy: 0.8351\n",
            "Epoch 24/35\n",
            "1503/1503 [==============================] - 14s 9ms/step - loss: 0.0188 - accuracy: 0.9927 - val_loss: 1.2877 - val_accuracy: 0.8385\n",
            "Epoch 25/35\n",
            "1503/1503 [==============================] - 13s 8ms/step - loss: 0.0177 - accuracy: 0.9932 - val_loss: 1.0434 - val_accuracy: 0.8395\n",
            "Epoch 26/35\n",
            "1503/1503 [==============================] - 13s 8ms/step - loss: 0.0159 - accuracy: 0.9937 - val_loss: 1.3241 - val_accuracy: 0.8389\n",
            "Epoch 27/35\n",
            "1503/1503 [==============================] - 13s 8ms/step - loss: 0.0175 - accuracy: 0.9935 - val_loss: 1.0876 - val_accuracy: 0.8396\n",
            "Epoch 28/35\n",
            "1503/1503 [==============================] - 13s 8ms/step - loss: 0.0161 - accuracy: 0.9942 - val_loss: 1.0834 - val_accuracy: 0.8379\n",
            "Epoch 29/35\n",
            "1503/1503 [==============================] - 13s 8ms/step - loss: 0.0159 - accuracy: 0.9938 - val_loss: 1.4761 - val_accuracy: 0.8425\n",
            "Epoch 30/35\n",
            "1503/1503 [==============================] - 13s 8ms/step - loss: 0.0144 - accuracy: 0.9946 - val_loss: 1.2988 - val_accuracy: 0.8443\n",
            "Epoch 31/35\n",
            "1503/1503 [==============================] - 13s 8ms/step - loss: 0.0146 - accuracy: 0.9945 - val_loss: 1.2280 - val_accuracy: 0.8447\n",
            "Epoch 32/35\n",
            "1503/1503 [==============================] - 13s 8ms/step - loss: 0.0159 - accuracy: 0.9941 - val_loss: 1.4084 - val_accuracy: 0.8391\n",
            "Epoch 33/35\n",
            "1503/1503 [==============================] - 13s 8ms/step - loss: 0.0167 - accuracy: 0.9947 - val_loss: 1.2187 - val_accuracy: 0.8394\n",
            "Epoch 34/35\n",
            "1503/1503 [==============================] - 13s 8ms/step - loss: 0.0136 - accuracy: 0.9953 - val_loss: 1.2757 - val_accuracy: 0.8353\n",
            "Epoch 35/35\n",
            "1503/1503 [==============================] - 13s 8ms/step - loss: 0.0121 - accuracy: 0.9955 - val_loss: 1.4590 - val_accuracy: 0.8406\n"
          ]
        }
      ]
    },
    {
      "cell_type": "code",
      "source": [
        "results = model_cnn.evaluate(X_test,  y_test, verbose=2)\n",
        "\n",
        "print(results)"
      ],
      "metadata": {
        "colab": {
          "base_uri": "https://localhost:8080/"
        },
        "id": "TQNOcK6Id5B6",
        "outputId": "3b50bafc-4406-452c-d1c1-0d997c9ee690"
      },
      "execution_count": 53,
      "outputs": [
        {
          "output_type": "stream",
          "name": "stdout",
          "text": [
            "1537/1537 - 4s - loss: 1.5002 - accuracy: 0.8380 - 4s/epoch - 2ms/step\n",
            "[1.5002248287200928, 0.8380495309829712]\n"
          ]
        }
      ]
    },
    {
      "cell_type": "markdown",
      "source": [
        "### 3) GlobalMaxPooling1D"
      ],
      "metadata": {
        "id": "BfRRR1YJ2G34"
      }
    },
    {
      "cell_type": "code",
      "source": [
        "epochs=35  # 몇 epoch를 훈련하면 좋을지 결과를 보면서 바꾸어 봅시다. \n",
        "\n",
        "history = model_gmp.fit(partial_X_train,\n",
        "                    partial_y_train,\n",
        "                    epochs=epochs,\n",
        "                    batch_size=64,\n",
        "                    validation_data=(X_val, y_val),\n",
        "                    verbose=1)"
      ],
      "metadata": {
        "colab": {
          "base_uri": "https://localhost:8080/"
        },
        "id": "J6UUVeGrdysk",
        "outputId": "5f4a616a-506b-43ca-e848-d4e88f1631bd"
      },
      "execution_count": 54,
      "outputs": [
        {
          "output_type": "stream",
          "name": "stdout",
          "text": [
            "Epoch 1/35\n",
            "1503/1503 [==============================] - 7s 5ms/step - loss: 0.6008 - accuracy: 0.6760 - val_loss: 0.5402 - val_accuracy: 0.7250\n",
            "Epoch 2/35\n",
            "1503/1503 [==============================] - 7s 4ms/step - loss: 0.5233 - accuracy: 0.7366 - val_loss: 0.4968 - val_accuracy: 0.7560\n",
            "Epoch 3/35\n",
            "1503/1503 [==============================] - 7s 4ms/step - loss: 0.4827 - accuracy: 0.7660 - val_loss: 0.4746 - val_accuracy: 0.7721\n",
            "Epoch 4/35\n",
            "1503/1503 [==============================] - 7s 4ms/step - loss: 0.4523 - accuracy: 0.7852 - val_loss: 0.4612 - val_accuracy: 0.7761\n",
            "Epoch 5/35\n",
            "1503/1503 [==============================] - 7s 4ms/step - loss: 0.4303 - accuracy: 0.7995 - val_loss: 0.4733 - val_accuracy: 0.7684\n",
            "Epoch 6/35\n",
            "1503/1503 [==============================] - 7s 4ms/step - loss: 0.4117 - accuracy: 0.8114 - val_loss: 0.4324 - val_accuracy: 0.7993\n",
            "Epoch 7/35\n",
            "1503/1503 [==============================] - 7s 5ms/step - loss: 0.3957 - accuracy: 0.8197 - val_loss: 0.4310 - val_accuracy: 0.8008\n",
            "Epoch 8/35\n",
            "1503/1503 [==============================] - 7s 5ms/step - loss: 0.3813 - accuracy: 0.8283 - val_loss: 0.4225 - val_accuracy: 0.8053\n",
            "Epoch 9/35\n",
            "1503/1503 [==============================] - 7s 5ms/step - loss: 0.3695 - accuracy: 0.8355 - val_loss: 0.4231 - val_accuracy: 0.8078\n",
            "Epoch 10/35\n",
            "1503/1503 [==============================] - 7s 5ms/step - loss: 0.3582 - accuracy: 0.8407 - val_loss: 0.4351 - val_accuracy: 0.8012\n",
            "Epoch 11/35\n",
            "1503/1503 [==============================] - 9s 6ms/step - loss: 0.3457 - accuracy: 0.8481 - val_loss: 0.4356 - val_accuracy: 0.8039\n",
            "Epoch 12/35\n",
            "1503/1503 [==============================] - 8s 5ms/step - loss: 0.3362 - accuracy: 0.8528 - val_loss: 0.4229 - val_accuracy: 0.8112\n",
            "Epoch 13/35\n",
            "1503/1503 [==============================] - 8s 5ms/step - loss: 0.3244 - accuracy: 0.8598 - val_loss: 0.4115 - val_accuracy: 0.8158\n",
            "Epoch 14/35\n",
            "1503/1503 [==============================] - 7s 4ms/step - loss: 0.3158 - accuracy: 0.8636 - val_loss: 0.4204 - val_accuracy: 0.8157\n",
            "Epoch 15/35\n",
            "1503/1503 [==============================] - 7s 5ms/step - loss: 0.3052 - accuracy: 0.8691 - val_loss: 0.4265 - val_accuracy: 0.8153\n",
            "Epoch 16/35\n",
            "1503/1503 [==============================] - 7s 5ms/step - loss: 0.2960 - accuracy: 0.8733 - val_loss: 0.4427 - val_accuracy: 0.8119\n",
            "Epoch 17/35\n",
            "1503/1503 [==============================] - 7s 4ms/step - loss: 0.2868 - accuracy: 0.8781 - val_loss: 0.4392 - val_accuracy: 0.8174\n",
            "Epoch 18/35\n",
            "1503/1503 [==============================] - 7s 4ms/step - loss: 0.2778 - accuracy: 0.8825 - val_loss: 0.4664 - val_accuracy: 0.8137\n",
            "Epoch 19/35\n",
            "1503/1503 [==============================] - 7s 4ms/step - loss: 0.2690 - accuracy: 0.8857 - val_loss: 0.4461 - val_accuracy: 0.8177\n",
            "Epoch 20/35\n",
            "1503/1503 [==============================] - 8s 5ms/step - loss: 0.2598 - accuracy: 0.8915 - val_loss: 0.4606 - val_accuracy: 0.8147\n",
            "Epoch 21/35\n",
            "1503/1503 [==============================] - 7s 4ms/step - loss: 0.2515 - accuracy: 0.8958 - val_loss: 0.4800 - val_accuracy: 0.8184\n",
            "Epoch 22/35\n",
            "1503/1503 [==============================] - 7s 4ms/step - loss: 0.2425 - accuracy: 0.8993 - val_loss: 0.5282 - val_accuracy: 0.8175\n",
            "Epoch 23/35\n",
            "1503/1503 [==============================] - 7s 5ms/step - loss: 0.2356 - accuracy: 0.9021 - val_loss: 0.5117 - val_accuracy: 0.8122\n",
            "Epoch 24/35\n",
            "1503/1503 [==============================] - 7s 5ms/step - loss: 0.2273 - accuracy: 0.9061 - val_loss: 0.4997 - val_accuracy: 0.8133\n",
            "Epoch 25/35\n",
            "1503/1503 [==============================] - 7s 5ms/step - loss: 0.2187 - accuracy: 0.9106 - val_loss: 0.5736 - val_accuracy: 0.8133\n",
            "Epoch 26/35\n",
            "1503/1503 [==============================] - 7s 5ms/step - loss: 0.2118 - accuracy: 0.9142 - val_loss: 0.5480 - val_accuracy: 0.8129\n",
            "Epoch 27/35\n",
            "1503/1503 [==============================] - 7s 5ms/step - loss: 0.2043 - accuracy: 0.9173 - val_loss: 0.5811 - val_accuracy: 0.8144\n",
            "Epoch 28/35\n",
            "1503/1503 [==============================] - 8s 5ms/step - loss: 0.1967 - accuracy: 0.9205 - val_loss: 0.5621 - val_accuracy: 0.8153\n",
            "Epoch 29/35\n",
            "1503/1503 [==============================] - 7s 4ms/step - loss: 0.1910 - accuracy: 0.9229 - val_loss: 0.6507 - val_accuracy: 0.8183\n",
            "Epoch 30/35\n",
            "1503/1503 [==============================] - 7s 5ms/step - loss: 0.1825 - accuracy: 0.9268 - val_loss: 0.6695 - val_accuracy: 0.8121\n",
            "Epoch 31/35\n",
            "1503/1503 [==============================] - 7s 4ms/step - loss: 0.1744 - accuracy: 0.9306 - val_loss: 0.7091 - val_accuracy: 0.8136\n",
            "Epoch 32/35\n",
            "1503/1503 [==============================] - 7s 4ms/step - loss: 0.1697 - accuracy: 0.9327 - val_loss: 0.7258 - val_accuracy: 0.8140\n",
            "Epoch 33/35\n",
            "1503/1503 [==============================] - 7s 4ms/step - loss: 0.1624 - accuracy: 0.9358 - val_loss: 0.7273 - val_accuracy: 0.8132\n",
            "Epoch 34/35\n",
            "1503/1503 [==============================] - 7s 4ms/step - loss: 0.1554 - accuracy: 0.9384 - val_loss: 0.6972 - val_accuracy: 0.8137\n",
            "Epoch 35/35\n",
            "1503/1503 [==============================] - 7s 4ms/step - loss: 0.1493 - accuracy: 0.9413 - val_loss: 0.7991 - val_accuracy: 0.8145\n"
          ]
        }
      ]
    },
    {
      "cell_type": "code",
      "source": [
        "results = model_gmp.evaluate(X_test,  y_test, verbose=2)\n",
        "\n",
        "print(results)"
      ],
      "metadata": {
        "colab": {
          "base_uri": "https://localhost:8080/"
        },
        "id": "BTfg2wmzd7ae",
        "outputId": "abd27e5b-4a0f-4397-fbd3-dfef67a51aa0"
      },
      "execution_count": 55,
      "outputs": [
        {
          "output_type": "stream",
          "name": "stdout",
          "text": [
            "1537/1537 - 3s - loss: 0.8082 - accuracy: 0.8080 - 3s/epoch - 2ms/step\n",
            "[0.8081644773483276, 0.8079825639724731]\n"
          ]
        }
      ]
    },
    {
      "cell_type": "markdown",
      "source": [
        "## 10. 85% 이상 모델 선정"
      ],
      "metadata": {
        "id": "mBshl_5Z3WJp"
      }
    },
    {
      "cell_type": "markdown",
      "source": [
        "### 1) RNN의 레이어인 LSTM이 85% 이상을 달성하였다.\n",
        "  - ![image.png](data:image/png;base64,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)"
      ],
      "metadata": {
        "id": "8fbpVRiX3jbu"
      }
    },
    {
      "cell_type": "markdown",
      "source": [
        "### 2) 당첨기념으로 LOSS Accuracy 그래프 살펴보기"
      ],
      "metadata": {
        "id": "p2rIumDjrAnk"
      }
    },
    {
      "cell_type": "code",
      "source": [
        "history_dict = history_lstm2.history\n",
        "\n",
        "acc = history_dict['accuracy']\n",
        "val_acc = history_dict['val_accuracy']\n",
        "loss = history_dict['loss']\n",
        "val_loss = history_dict['val_loss']\n",
        "\n",
        "epochs = range(1, len(acc) + 1)\n",
        "\n",
        "f, ax = plt.subplots(1,2,figsize=(16,8))\n",
        "\n",
        "# \"bo\"는 \"파란색 점\"입니다\n",
        "ax[0].plot(epochs, loss, 'bo', label='Training loss')\n",
        "# b는 \"파란 실선\"입니다\n",
        "ax[0].plot(epochs, val_loss, 'b', label='Validation loss')\n",
        "ax[0].set_title('Training and validation loss')\n",
        "ax[0].set_xlabel('Epochs')\n",
        "ax[0].set_ylabel('Loss')\n",
        "ax[0].legend()\n",
        "\n",
        "\n",
        "ax[1].plot(epochs, acc, 'bo', label='Training acc')\n",
        "ax[1].plot(epochs, val_acc, 'b', label='Validation acc')\n",
        "ax[1].set_title('Training and validation accuracy')\n",
        "ax[1].set_xlabel('Epochs')\n",
        "ax[1].set_ylabel('Accuracy')\n",
        "ax[1].legend()\n",
        "\n",
        "plt.show()\n"
      ],
      "metadata": {
        "colab": {
          "base_uri": "https://localhost:8080/",
          "height": 513
        },
        "id": "iNRVxwDLrYUE",
        "outputId": "5cd3e1cd-57e2-4079-97e0-1d3277d00a61"
      },
      "execution_count": 56,
      "outputs": [
        {
          "output_type": "display_data",
          "data": {
            "text/plain": [
              "<Figure size 1152x576 with 2 Axes>"
            ],
            "image/png": "[encoded data removed]"
          },
          "metadata": {
            "needs_background": "light"
          }
        }
      ]
    },
    {
      "cell_type": "markdown",
      "source": [
        "### 3) 한국어 Word2Vec를 통한 사전학습모델로 임베딩한 결과 분석"
      ],
      "metadata": {
        "id": "b2_sg9pAsW55"
      }
    },
    {
      "cell_type": "code",
      "source": [
        "# 학습한 Embedding 파라미터를 파일에 써서 저장합니다. \n",
        "word2vec_file_path_lstm = '/content/drive/MyDrive/인공지능/아이펠/ES/data/영화텍스트감성분석/data/word2vec_lstm2.txt'\n",
        "f = open(word2vec_file_path_lstm, 'w')\n",
        "f.write('{} {}\\n'.format(vocab_size-4, word_vector_dim))  # 몇개의 벡터를 얼마 사이즈로 기재할지 타이틀을 씁니다.\n",
        "\n",
        "# 단어 개수(에서 특수문자 4개는 제외하고)만큼의 워드 벡터를 파일에 기록합니다. \n",
        "vectors = model_lstm.get_weights()[0]\n",
        "for i in range(4,vocab_size):\n",
        "    f.write('{} {}\\n'.format(index_to_word[i], ' '.join(map(str, list(vectors[i, :])))))\n",
        "f.close()"
      ],
      "metadata": {
        "id": "OccG030ysatv"
      },
      "execution_count": 57,
      "outputs": []
    },
    {
      "cell_type": "code",
      "source": [
        "word_vectors = Word2VecKeyedVectors.load_word2vec_format(word2vec_file_path_lstm, binary=False)\n",
        "vector = word_vectors['영화']\n",
        "vector"
      ],
      "metadata": {
        "colab": {
          "base_uri": "https://localhost:8080/"
        },
        "outputId": "5ee028ca-7776-4eba-9e3e-8fc42e413793",
        "id": "8yXb1vOGsatv"
      },
      "execution_count": 61,
      "outputs": [
        {
          "output_type": "execute_result",
          "data": {
            "text/plain": [
              "array([-1.3408376e+00, -7.8175658e-01, -1.6177264e+00,  1.4927088e+00,\n",
              "       -3.4475550e-01,  6.5283120e-01, -4.4165335e+00, -3.1590564e+00,\n",
              "        5.1767290e-01,  1.2286451e+00, -2.8508444e+00, -1.2989303e+00,\n",
              "       -2.0647585e+00, -3.8337622e+00,  2.0447667e+00, -2.1389122e+00,\n",
              "       -7.6411419e-02, -1.2552574e+00,  2.6638920e+00, -9.3945283e-01,\n",
              "       -8.3058769e-01,  2.0310652e+00,  7.6758039e-01,  1.6984028e+00,\n",
              "        2.3303638e+00, -1.6585586e+00, -1.7379018e+00,  1.1559515e+00,\n",
              "        5.9276927e-01, -1.1460145e+00, -3.7017684e+00,  3.9122331e+00,\n",
              "        5.6283629e-01, -7.4263829e-01,  1.2938123e+00,  3.1465585e+00,\n",
              "        1.6473525e+00, -6.6753888e-01,  5.5994734e-02,  5.8041632e-01,\n",
              "        1.3017753e+00, -2.6752422e+00,  1.2233806e+00,  1.0027102e+00,\n",
              "        3.0594194e+00,  3.1040597e+00,  2.3289652e+00,  8.3023137e-01,\n",
              "        1.9685595e+00, -4.7444062e+00,  4.6644801e-01, -2.3644102e+00,\n",
              "        4.8393831e+00, -2.9096565e+00, -5.1010174e-01, -1.9632924e+00,\n",
              "        2.9442749e+00, -3.0189481e+00, -2.5715074e-01,  5.7273388e-01,\n",
              "       -5.6432050e-01,  3.5661047e+00,  7.6971638e-01, -3.0625213e-03,\n",
              "        3.1461141e-01,  1.0373422e+00, -1.0680510e+00,  2.5426810e+00,\n",
              "       -4.7043288e-01, -1.6167085e+00,  4.4833565e+00,  2.8856299e+00,\n",
              "        7.5453991e-01,  2.7036126e+00,  3.6184691e-02, -1.6719414e+00,\n",
              "       -6.0183078e-01,  8.9169782e-01, -4.2363858e-01,  1.2277436e+00,\n",
              "        2.0774305e+00, -2.9833001e-01,  1.0480832e+00,  1.0037378e+00,\n",
              "        1.1795083e-01,  3.2144735e+00,  2.3455229e+00,  4.5334353e+00,\n",
              "        1.9343549e+00,  2.7957957e+00,  2.2512357e+00, -2.9598222e+00,\n",
              "       -4.7986016e+00, -5.6329501e-01,  2.2901995e+00, -2.4069500e+00,\n",
              "       -4.0210094e+00,  3.3338647e+00,  3.6955216e+00,  1.7338518e+00],\n",
              "      dtype=float32)"
            ]
          },
          "metadata": {},
          "execution_count": 61
        }
      ]
    },
    {
      "cell_type": "code",
      "source": [
        "word_vectors.similar_by_word(\"액션\")"
      ],
      "metadata": {
        "colab": {
          "base_uri": "https://localhost:8080/"
        },
        "id": "Lga1ZcgO1ftu",
        "outputId": "74ac1280-7326-475b-9f46-78dfe801a754"
      },
      "execution_count": 62,
      "outputs": [
        {
          "output_type": "execute_result",
          "data": {
            "text/plain": [
              "[('스릴러', 0.7169010639190674),\n",
              " ('코미디', 0.7048879861831665),\n",
              " ('SF', 0.6684247851371765),\n",
              " ('판타지', 0.6658772230148315),\n",
              " ('서부극', 0.6442108750343323),\n",
              " ('호러', 0.6318056583404541),\n",
              " ('느와르', 0.6077871322631836),\n",
              " ('어드벤처', 0.6026875972747803),\n",
              " ('모션', 0.6003382205963135),\n",
              " ('영화', 0.5956229567527771)]"
            ]
          },
          "metadata": {},
          "execution_count": 62
        }
      ]
    },
    {
      "cell_type": "code",
      "source": [
        "word_vectors.similar_by_word(\"영화\")"
      ],
      "metadata": {
        "colab": {
          "base_uri": "https://localhost:8080/"
        },
        "id": "5wNNjcbY1gqQ",
        "outputId": "50ea104e-e2af-41b3-8be1-902aaeae5d08"
      },
      "execution_count": 63,
      "outputs": [
        {
          "output_type": "execute_result",
          "data": {
            "text/plain": [
              "[('드라마', 0.7904802560806274),\n",
              " ('뮤지컬', 0.7440629005432129),\n",
              " ('헐리우드', 0.717823326587677),\n",
              " ('다큐멘터리', 0.7016750574111938),\n",
              " ('장편', 0.6991208791732788),\n",
              " ('코미디', 0.6787695288658142),\n",
              " ('로맨틱', 0.6733047366142273),\n",
              " ('애니메이션', 0.6638368368148804),\n",
              " ('SF', 0.6598117351531982),\n",
              " ('서부극', 0.6595515012741089)]"
            ]
          },
          "metadata": {},
          "execution_count": 63
        }
      ]
    },
    {
      "cell_type": "markdown",
      "source": [
        "- Word2Vec 사전 학습 임베딩과 이를 통한 학습결과 비교(미묘한 차이는 있으나 판단하기 어렵다.)\n",
        "  - ![image.png](data:image/png;base64,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)\n",
        "- 사전학습 모델을 통한 재임베딩 결과와 자체학습 임베딩 비교(차이가 매우 큰 것을 확인 할 수 있다.)\n",
        "  - ![image.png](data:image/png;base64,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)"
      ],
      "metadata": {
        "id": "sOk3Pq3A2vUR"
      }
    },
    {
      "cell_type": "markdown",
      "source": [
        "# 회고\n",
        "- 루브릭 조건을 맞추기 위해서 시도한것\n",
        "  - batch_size가 크면 학습이 빨리 되기는 하나 데이터가 적어 정확도가 떨어지는 경향이 있다. 그래서 batch_size를 줄였다.\n",
        "  - epoch또한 35로 늘려주어 정확도를 올릴 수 있었다.\n",
        "  - 차원수를 512까지 Dense를 보다 심층화 시켜 정확도를 올릴 수 있었다.\n",
        "\n",
        "- 어려웠던 점\n",
        "  - 자체학습한 임베딩과 사전학습 임베딩을 분석하라는데 사실 무슨 말인지 이해가 안되었다. 그러나 LMS를 다시 살펴보니 잘 설명이 되어있었다. LMS를 좀 더 꼼꼼히 읽을 필요가 있는 것 같다.\n",
        "    - 결론적으로 자체학습 임베딩이란 위의 학습한 다음 자체적으로 임베딩 레이어를 만든 것\n",
        "    - 사전학습 임베딩 레이어는 한국어 Word2Vec이라는 사전학습된 워드 임베딩 모델을 가져와 사용함으로써 정확도를 보다 높여주었다.\n",
        "      - 여기에서 정확도란 단순히 학습결과값 수치만을 뜻하는 것은 아니다. 수치는 좋지만 실제 정성적 결과는 좋지 않은 경우가 많다. \n",
        "      - 분명 사전학습이 정량적 수치인 정확도를 올리기 더 어려웠다. 하지만 정성적인 결과는 더 좋았다. 이는 사전학습모델을 바탕으로 다시 임베딩 레이어를 생성하여 확인할 수 있었다.\n",
        "\n",
        "- 추가로 공부하게 된 것\n",
        "  - 임베딩 레이어 결과를 출력할 때 자체학습과 사전학습을 다르게 해야한다는 것을 알게 되었다.\n",
        "  - 자체학습은 이미 학습이 끝났기 때문에 vector에 '영화'등과 같은 특정 문자를 넣어서 결과를 확인해도 되었다.\n",
        "  - 하지만 사전임베딩을 적용할때는 vector 객체를 만들때 '영화'등과 같은 문자를 넣으면 성능이 떨어지는 것을 확인할 수 있다. 당연히 이것을 바탕으로 학습을 해야하는데 '영화'라는 값으로 한정했기 때문으로 추측하고 있다.\n",
        "    - ![image.png](data:image/png;base64,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)\n",
        "  - 그래서 사전학습은 vector객체에 불순 문자를 넣지 않고 그냥 similar_by_word로 단어별로 확인만 해주었다."
      ],
      "metadata": {
        "id": "EFYC3xCg-Ex7"
      }
    },
    {
      "cell_type": "code",
      "source": [
        ""
      ],
      "metadata": {
        "id": "_LkkiCsiC878"
      },
      "execution_count": null,
      "outputs": []
    }
  ]
}