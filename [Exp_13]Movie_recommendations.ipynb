{
  "nbformat": 4,
  "nbformat_minor": 0,
  "metadata": {
    "colab": {
      "provenance": [],
      "collapsed_sections": [],
      "machine_shape": "hm",
      "mount_file_id": "1kWQUPr64kAxK1ir1d1DK82Zn-Ov9zX5O",
      "authorship_tag": "ABX9TyNrb5tETfFPzpqr0llafxmo",
      "include_colab_link": true
    },
    "kernelspec": {
      "name": "python3",
      "display_name": "Python 3"
    },
    "language_info": {
      "name": "python"
    },
    "accelerator": "GPU",
    "gpuClass": "standard",
    "widgets": {
      "application/vnd.jupyter.widget-state+json": {
        "abcb54dce5c040a2a76454b76fa032a9": {
          "model_module": "@jupyter-widgets/controls",
          "model_name": "HBoxModel",
          "model_module_version": "1.5.0",
          "state": {
            "_dom_classes": [],
            "_model_module": "@jupyter-widgets/controls",
            "_model_module_version": "1.5.0",
            "_model_name": "HBoxModel",
            "_view_count": null,
            "_view_module": "@jupyter-widgets/controls",
            "_view_module_version": "1.5.0",
            "_view_name": "HBoxView",
            "box_style": "",
            "children": [
              "IPY_MODEL_2baac57e80b44bbd868cbf50471c8daa",
              "IPY_MODEL_c3711fe0220e4388bfc720288b1666ed",
              "IPY_MODEL_841731ee0eb94e82b25a7b11ae7e494d"
            ],
            "layout": "IPY_MODEL_86dffb1716da47c78334ecced82cd344"
          }
        },
        "2baac57e80b44bbd868cbf50471c8daa": {
          "model_module": "@jupyter-widgets/controls",
          "model_name": "HTMLModel",
          "model_module_version": "1.5.0",
          "state": {
            "_dom_classes": [],
            "_model_module": "@jupyter-widgets/controls",
            "_model_module_version": "1.5.0",
            "_model_name": "HTMLModel",
            "_view_count": null,
            "_view_module": "@jupyter-widgets/controls",
            "_view_module_version": "1.5.0",
            "_view_name": "HTMLView",
            "description": "",
            "description_tooltip": null,
            "layout": "IPY_MODEL_387613dc4b144a84bfafc5cdf8411125",
            "placeholder": "​",
            "style": "IPY_MODEL_db7c138a81f54513b22c706c1ab86b5a",
            "value": "100%"
          }
        },
        "c3711fe0220e4388bfc720288b1666ed": {
          "model_module": "@jupyter-widgets/controls",
          "model_name": "FloatProgressModel",
          "model_module_version": "1.5.0",
          "state": {
            "_dom_classes": [],
            "_model_module": "@jupyter-widgets/controls",
            "_model_module_version": "1.5.0",
            "_model_name": "FloatProgressModel",
            "_view_count": null,
            "_view_module": "@jupyter-widgets/controls",
            "_view_module_version": "1.5.0",
            "_view_name": "ProgressView",
            "bar_style": "success",
            "description": "",
            "description_tooltip": null,
            "layout": "IPY_MODEL_2b0bda89678a48cca964ba219287e821",
            "max": 10,
            "min": 0,
            "orientation": "horizontal",
            "style": "IPY_MODEL_1f1f3995b8594004bc8b77cfa4fc3915",
            "value": 10
          }
        },
        "841731ee0eb94e82b25a7b11ae7e494d": {
          "model_module": "@jupyter-widgets/controls",
          "model_name": "HTMLModel",
          "model_module_version": "1.5.0",
          "state": {
            "_dom_classes": [],
            "_model_module": "@jupyter-widgets/controls",
            "_model_module_version": "1.5.0",
            "_model_name": "HTMLModel",
            "_view_count": null,
            "_view_module": "@jupyter-widgets/controls",
            "_view_module_version": "1.5.0",
            "_view_name": "HTMLView",
            "description": "",
            "description_tooltip": null,
            "layout": "IPY_MODEL_2f48920a8763480f8ede11caf4cbf889",
            "placeholder": "​",
            "style": "IPY_MODEL_2ce249379aa64338be8d4c9774e8851d",
            "value": " 10/10 [00:07&lt;00:00,  1.45it/s]"
          }
        },
        "86dffb1716da47c78334ecced82cd344": {
          "model_module": "@jupyter-widgets/base",
          "model_name": "LayoutModel",
          "model_module_version": "1.2.0",
          "state": {
            "_model_module": "@jupyter-widgets/base",
            "_model_module_version": "1.2.0",
            "_model_name": "LayoutModel",
            "_view_count": null,
            "_view_module": "@jupyter-widgets/base",
            "_view_module_version": "1.2.0",
            "_view_name": "LayoutView",
            "align_content": null,
            "align_items": null,
            "align_self": null,
            "border": null,
            "bottom": null,
            "display": null,
            "flex": null,
            "flex_flow": null,
            "grid_area": null,
            "grid_auto_columns": null,
            "grid_auto_flow": null,
            "grid_auto_rows": null,
            "grid_column": null,
            "grid_gap": null,
            "grid_row": null,
            "grid_template_areas": null,
            "grid_template_columns": null,
            "grid_template_rows": null,
            "height": null,
            "justify_content": null,
            "justify_items": null,
            "left": null,
            "margin": null,
            "max_height": null,
            "max_width": null,
            "min_height": null,
            "min_width": null,
            "object_fit": null,
            "object_position": null,
            "order": null,
            "overflow": null,
            "overflow_x": null,
            "overflow_y": null,
            "padding": null,
            "right": null,
            "top": null,
            "visibility": null,
            "width": null
          }
        },
        "387613dc4b144a84bfafc5cdf8411125": {
          "model_module": "@jupyter-widgets/base",
          "model_name": "LayoutModel",
          "model_module_version": "1.2.0",
          "state": {
            "_model_module": "@jupyter-widgets/base",
            "_model_module_version": "1.2.0",
            "_model_name": "LayoutModel",
            "_view_count": null,
            "_view_module": "@jupyter-widgets/base",
            "_view_module_version": "1.2.0",
            "_view_name": "LayoutView",
            "align_content": null,
            "align_items": null,
            "align_self": null,
            "border": null,
            "bottom": null,
            "display": null,
            "flex": null,
            "flex_flow": null,
            "grid_area": null,
            "grid_auto_columns": null,
            "grid_auto_flow": null,
            "grid_auto_rows": null,
            "grid_column": null,
            "grid_gap": null,
            "grid_row": null,
            "grid_template_areas": null,
            "grid_template_columns": null,
            "grid_template_rows": null,
            "height": null,
            "justify_content": null,
            "justify_items": null,
            "left": null,
            "margin": null,
            "max_height": null,
            "max_width": null,
            "min_height": null,
            "min_width": null,
            "object_fit": null,
            "object_position": null,
            "order": null,
            "overflow": null,
            "overflow_x": null,
            "overflow_y": null,
            "padding": null,
            "right": null,
            "top": null,
            "visibility": null,
            "width": null
          }
        },
        "db7c138a81f54513b22c706c1ab86b5a": {
          "model_module": "@jupyter-widgets/controls",
          "model_name": "DescriptionStyleModel",
          "model_module_version": "1.5.0",
          "state": {
            "_model_module": "@jupyter-widgets/controls",
            "_model_module_version": "1.5.0",
            "_model_name": "DescriptionStyleModel",
            "_view_count": null,
            "_view_module": "@jupyter-widgets/base",
            "_view_module_version": "1.2.0",
            "_view_name": "StyleView",
            "description_width": ""
          }
        },
        "2b0bda89678a48cca964ba219287e821": {
          "model_module": "@jupyter-widgets/base",
          "model_name": "LayoutModel",
          "model_module_version": "1.2.0",
          "state": {
            "_model_module": "@jupyter-widgets/base",
            "_model_module_version": "1.2.0",
            "_model_name": "LayoutModel",
            "_view_count": null,
            "_view_module": "@jupyter-widgets/base",
            "_view_module_version": "1.2.0",
            "_view_name": "LayoutView",
            "align_content": null,
            "align_items": null,
            "align_self": null,
            "border": null,
            "bottom": null,
            "display": null,
            "flex": null,
            "flex_flow": null,
            "grid_area": null,
            "grid_auto_columns": null,
            "grid_auto_flow": null,
            "grid_auto_rows": null,
            "grid_column": null,
            "grid_gap": null,
            "grid_row": null,
            "grid_template_areas": null,
            "grid_template_columns": null,
            "grid_template_rows": null,
            "height": null,
            "justify_content": null,
            "justify_items": null,
            "left": null,
            "margin": null,
            "max_height": null,
            "max_width": null,
            "min_height": null,
            "min_width": null,
            "object_fit": null,
            "object_position": null,
            "order": null,
            "overflow": null,
            "overflow_x": null,
            "overflow_y": null,
            "padding": null,
            "right": null,
            "top": null,
            "visibility": null,
            "width": null
          }
        },
        "1f1f3995b8594004bc8b77cfa4fc3915": {
          "model_module": "@jupyter-widgets/controls",
          "model_name": "ProgressStyleModel",
          "model_module_version": "1.5.0",
          "state": {
            "_model_module": "@jupyter-widgets/controls",
            "_model_module_version": "1.5.0",
            "_model_name": "ProgressStyleModel",
            "_view_count": null,
            "_view_module": "@jupyter-widgets/base",
            "_view_module_version": "1.2.0",
            "_view_name": "StyleView",
            "bar_color": null,
            "description_width": ""
          }
        },
        "2f48920a8763480f8ede11caf4cbf889": {
          "model_module": "@jupyter-widgets/base",
          "model_name": "LayoutModel",
          "model_module_version": "1.2.0",
          "state": {
            "_model_module": "@jupyter-widgets/base",
            "_model_module_version": "1.2.0",
            "_model_name": "LayoutModel",
            "_view_count": null,
            "_view_module": "@jupyter-widgets/base",
            "_view_module_version": "1.2.0",
            "_view_name": "LayoutView",
            "align_content": null,
            "align_items": null,
            "align_self": null,
            "border": null,
            "bottom": null,
            "display": null,
            "flex": null,
            "flex_flow": null,
            "grid_area": null,
            "grid_auto_columns": null,
            "grid_auto_flow": null,
            "grid_auto_rows": null,
            "grid_column": null,
            "grid_gap": null,
            "grid_row": null,
            "grid_template_areas": null,
            "grid_template_columns": null,
            "grid_template_rows": null,
            "height": null,
            "justify_content": null,
            "justify_items": null,
            "left": null,
            "margin": null,
            "max_height": null,
            "max_width": null,
            "min_height": null,
            "min_width": null,
            "object_fit": null,
            "object_position": null,
            "order": null,
            "overflow": null,
            "overflow_x": null,
            "overflow_y": null,
            "padding": null,
            "right": null,
            "top": null,
            "visibility": null,
            "width": null
          }
        },
        "2ce249379aa64338be8d4c9774e8851d": {
          "model_module": "@jupyter-widgets/controls",
          "model_name": "DescriptionStyleModel",
          "model_module_version": "1.5.0",
          "state": {
            "_model_module": "@jupyter-widgets/controls",
            "_model_module_version": "1.5.0",
            "_model_name": "DescriptionStyleModel",
            "_view_count": null,
            "_view_module": "@jupyter-widgets/base",
            "_view_module_version": "1.2.0",
            "_view_name": "StyleView",
            "description_width": ""
          }
        }
      }
    }
  },
  "cells": [
    {
      "cell_type": "markdown",
      "metadata": {
        "id": "view-in-github",
        "colab_type": "text"
      },
      "source": [
        "<a href=\"https://colab.research.google.com/github/jx-dohwan/Aiffel_EGLMS_Project/blob/main/%5BExp_13%5DMovie_recommendations.ipynb\" target=\"_parent\"><img src=\"https://colab.research.google.com/assets/colab-badge.svg\" alt=\"Open In Colab\"/></a>"
      ]
    },
    {
      "cell_type": "markdown",
      "source": [
        "# [Exp_13]Movie recommendations"
      ],
      "metadata": {
        "id": "-ANyD4-1jDaO"
      }
    },
    {
      "cell_type": "markdown",
      "source": [
        "이전 스텝에서 배운 MF 모델 학습 방법을 토대로, 내가 좋아할 만한 영화 추천 시스템을 제작해 보겠습니다.\n",
        "\n",
        "이번에 활용할 데이터셋은 추천 시스템의 MNIST라고 부를만한 Movielens 데이터입니다.\n",
        "\n",
        "- 유저가 영화에 대해 평점을 매긴 데이터가 데이터 크기 별로 있습니다. MovieLens 1M Dataset 사용을 권장합니다.\n",
        "- 별점 데이터는 대표적인 explicit 데이터입니다. 하지만 implicit 데이터로 간주하고 테스트해 볼 수 있습니다.\n",
        "- 별점을 시청횟수로 해석해서 생각하겠습니다.\n",
        "- 또한 유저가 3점 미만으로 준 데이터는 선호하지 않는다고 가정하고 제외하겠습니다.\n",
        "\n",
        "Cloud Storage에 미리 업로드된 ml-1m폴더 내 파일을 심볼릭 링크로 개인 storage에 연결해 줍니다."
      ],
      "metadata": {
        "id": "RyGTbNr2hwZ0"
      }
    },
    {
      "cell_type": "markdown",
      "source": [
        "## 1. Import 및 라이브러리 다운로드"
      ],
      "metadata": {
        "id": "hoMkaANZfLR7"
      }
    },
    {
      "cell_type": "code",
      "source": [
        "! pip install implicit"
      ],
      "metadata": {
        "colab": {
          "base_uri": "https://localhost:8080/"
        },
        "id": "hJAZj-g3X1mw",
        "outputId": "6ce39912-63b1-47cf-c5a8-4011c9ccc31c"
      },
      "execution_count": null,
      "outputs": [
        {
          "output_type": "stream",
          "name": "stdout",
          "text": [
            "Looking in indexes: https://pypi.org/simple, https://us-python.pkg.dev/colab-wheels/public/simple/\n",
            "Requirement already satisfied: implicit in /usr/local/lib/python3.7/dist-packages (0.6.1)\n",
            "Requirement already satisfied: numpy in /usr/local/lib/python3.7/dist-packages (from implicit) (1.21.6)\n",
            "Requirement already satisfied: tqdm>=4.27 in /usr/local/lib/python3.7/dist-packages (from implicit) (4.64.0)\n",
            "Requirement already satisfied: scipy>=0.16 in /usr/local/lib/python3.7/dist-packages (from implicit) (1.7.3)\n"
          ]
        }
      ]
    },
    {
      "cell_type": "code",
      "execution_count": null,
      "metadata": {
        "id": "T9LSb8N6UvJK"
      },
      "outputs": [],
      "source": [
        "import numpy as np\n",
        "import scipy\n",
        "import implicit\n",
        "import pandas as pd"
      ]
    },
    {
      "cell_type": "markdown",
      "source": [
        "## 2. 데이터 준비와 전처리"
      ],
      "metadata": {
        "id": "DXlyeaAufPUF"
      }
    },
    {
      "cell_type": "markdown",
      "source": [
        "### 1) 데이터 불러오기 및 ratings 3점 이상만 남기기"
      ],
      "metadata": {
        "id": "womEGGi3kV8j"
      }
    },
    {
      "cell_type": "code",
      "source": [
        "rating_file_path = '/content/drive/MyDrive/인공지능/아이펠/ES/data/ml-1m/ratings.dat'\n",
        "ratings_cols = ['user_id', 'movie_id', 'ratings', 'timestamp']\n",
        "ratings = pd.read_csv(rating_file_path, sep='::', names=ratings_cols, engine='python', encoding = \"ISO-8859-1\")\n",
        "orginal_data_size = len(ratings)\n",
        "ratings.head()"
      ],
      "metadata": {
        "colab": {
          "base_uri": "https://localhost:8080/",
          "height": 206
        },
        "id": "fs54FL_uX1J1",
        "outputId": "b80f457d-a1b2-44ee-a25c-6c2120ee2bcd"
      },
      "execution_count": null,
      "outputs": [
        {
          "output_type": "execute_result",
          "data": {
            "text/plain": [
              "   user_id  movie_id  ratings  timestamp\n",
              "0        1      1193        5  978300760\n",
              "1        1       661        3  978302109\n",
              "2        1       914        3  978301968\n",
              "3        1      3408        4  978300275\n",
              "4        1      2355        5  978824291"
            ],
            "text/html": [
              "\n",
              "  <div id=\"df-5dd69213-ead4-4bd9-b2c6-49468328770d\">\n",
              "    <div class=\"colab-df-container\">\n",
              "      <div>\n",
              "<style scoped>\n",
              "    .dataframe tbody tr th:only-of-type {\n",
              "        vertical-align: middle;\n",
              "    }\n",
              "\n",
              "    .dataframe tbody tr th {\n",
              "        vertical-align: top;\n",
              "    }\n",
              "\n",
              "    .dataframe thead th {\n",
              "        text-align: right;\n",
              "    }\n",
              "</style>\n",
              "<table border=\"1\" class=\"dataframe\">\n",
              "  <thead>\n",
              "    <tr style=\"text-align: right;\">\n",
              "      <th></th>\n",
              "      <th>user_id</th>\n",
              "      <th>movie_id</th>\n",
              "      <th>ratings</th>\n",
              "      <th>timestamp</th>\n",
              "    </tr>\n",
              "  </thead>\n",
              "  <tbody>\n",
              "    <tr>\n",
              "      <th>0</th>\n",
              "      <td>1</td>\n",
              "      <td>1193</td>\n",
              "      <td>5</td>\n",
              "      <td>978300760</td>\n",
              "    </tr>\n",
              "    <tr>\n",
              "      <th>1</th>\n",
              "      <td>1</td>\n",
              "      <td>661</td>\n",
              "      <td>3</td>\n",
              "      <td>978302109</td>\n",
              "    </tr>\n",
              "    <tr>\n",
              "      <th>2</th>\n",
              "      <td>1</td>\n",
              "      <td>914</td>\n",
              "      <td>3</td>\n",
              "      <td>978301968</td>\n",
              "    </tr>\n",
              "    <tr>\n",
              "      <th>3</th>\n",
              "      <td>1</td>\n",
              "      <td>3408</td>\n",
              "      <td>4</td>\n",
              "      <td>978300275</td>\n",
              "    </tr>\n",
              "    <tr>\n",
              "      <th>4</th>\n",
              "      <td>1</td>\n",
              "      <td>2355</td>\n",
              "      <td>5</td>\n",
              "      <td>978824291</td>\n",
              "    </tr>\n",
              "  </tbody>\n",
              "</table>\n",
              "</div>\n",
              "      <button class=\"colab-df-convert\" onclick=\"convertToInteractive('df-5dd69213-ead4-4bd9-b2c6-49468328770d')\"\n",
              "              title=\"Convert this dataframe to an interactive table.\"\n",
              "              style=\"display:none;\">\n",
              "        \n",
              "  <svg xmlns=\"http://www.w3.org/2000/svg\" height=\"24px\"viewBox=\"0 0 24 24\"\n",
              "       width=\"24px\">\n",
              "    <path d=\"M0 0h24v24H0V0z\" fill=\"none\"/>\n",
              "    <path d=\"M18.56 5.44l.94 2.06.94-2.06 2.06-.94-2.06-.94-.94-2.06-.94 2.06-2.06.94zm-11 1L8.5 8.5l.94-2.06 2.06-.94-2.06-.94L8.5 2.5l-.94 2.06-2.06.94zm10 10l.94 2.06.94-2.06 2.06-.94-2.06-.94-.94-2.06-.94 2.06-2.06.94z\"/><path d=\"M17.41 7.96l-1.37-1.37c-.4-.4-.92-.59-1.43-.59-.52 0-1.04.2-1.43.59L10.3 9.45l-7.72 7.72c-.78.78-.78 2.05 0 2.83L4 21.41c.39.39.9.59 1.41.59.51 0 1.02-.2 1.41-.59l7.78-7.78 2.81-2.81c.8-.78.8-2.07 0-2.86zM5.41 20L4 18.59l7.72-7.72 1.47 1.35L5.41 20z\"/>\n",
              "  </svg>\n",
              "      </button>\n",
              "      \n",
              "  <style>\n",
              "    .colab-df-container {\n",
              "      display:flex;\n",
              "      flex-wrap:wrap;\n",
              "      gap: 12px;\n",
              "    }\n",
              "\n",
              "    .colab-df-convert {\n",
              "      background-color: #E8F0FE;\n",
              "      border: none;\n",
              "      border-radius: 50%;\n",
              "      cursor: pointer;\n",
              "      display: none;\n",
              "      fill: #1967D2;\n",
              "      height: 32px;\n",
              "      padding: 0 0 0 0;\n",
              "      width: 32px;\n",
              "    }\n",
              "\n",
              "    .colab-df-convert:hover {\n",
              "      background-color: #E2EBFA;\n",
              "      box-shadow: 0px 1px 2px rgba(60, 64, 67, 0.3), 0px 1px 3px 1px rgba(60, 64, 67, 0.15);\n",
              "      fill: #174EA6;\n",
              "    }\n",
              "\n",
              "    [theme=dark] .colab-df-convert {\n",
              "      background-color: #3B4455;\n",
              "      fill: #D2E3FC;\n",
              "    }\n",
              "\n",
              "    [theme=dark] .colab-df-convert:hover {\n",
              "      background-color: #434B5C;\n",
              "      box-shadow: 0px 1px 3px 1px rgba(0, 0, 0, 0.15);\n",
              "      filter: drop-shadow(0px 1px 2px rgba(0, 0, 0, 0.3));\n",
              "      fill: #FFFFFF;\n",
              "    }\n",
              "  </style>\n",
              "\n",
              "      <script>\n",
              "        const buttonEl =\n",
              "          document.querySelector('#df-5dd69213-ead4-4bd9-b2c6-49468328770d button.colab-df-convert');\n",
              "        buttonEl.style.display =\n",
              "          google.colab.kernel.accessAllowed ? 'block' : 'none';\n",
              "\n",
              "        async function convertToInteractive(key) {\n",
              "          const element = document.querySelector('#df-5dd69213-ead4-4bd9-b2c6-49468328770d');\n",
              "          const dataTable =\n",
              "            await google.colab.kernel.invokeFunction('convertToInteractive',\n",
              "                                                     [key], {});\n",
              "          if (!dataTable) return;\n",
              "\n",
              "          const docLinkHtml = 'Like what you see? Visit the ' +\n",
              "            '<a target=\"_blank\" href=https://colab.research.google.com/notebooks/data_table.ipynb>data table notebook</a>'\n",
              "            + ' to learn more about interactive tables.';\n",
              "          element.innerHTML = '';\n",
              "          dataTable['output_type'] = 'display_data';\n",
              "          await google.colab.output.renderOutput(dataTable, element);\n",
              "          const docLink = document.createElement('div');\n",
              "          docLink.innerHTML = docLinkHtml;\n",
              "          element.appendChild(docLink);\n",
              "        }\n",
              "      </script>\n",
              "    </div>\n",
              "  </div>\n",
              "  "
            ]
          },
          "metadata": {},
          "execution_count": 3
        }
      ]
    },
    {
      "cell_type": "code",
      "source": [
        "# 3점 이상만 남깁니다.\n",
        "ratings = ratings[ratings['ratings']>=3]\n",
        "filtered_data_size = len(ratings)\n",
        "\n",
        "print(f'orginal_data_size: {orginal_data_size}, filtered_data_size: {filtered_data_size}')\n",
        "print(f'Ratio of Remaining Data is {filtered_data_size / orginal_data_size:.2%}')"
      ],
      "metadata": {
        "colab": {
          "base_uri": "https://localhost:8080/"
        },
        "id": "034sedQDY7Ry",
        "outputId": "3730736e-4d30-4e1f-c01e-c562b58244d5"
      },
      "execution_count": null,
      "outputs": [
        {
          "output_type": "stream",
          "name": "stdout",
          "text": [
            "orginal_data_size: 1000209, filtered_data_size: 836478\n",
            "Ratio of Remaining Data is 83.63%\n"
          ]
        }
      ]
    },
    {
      "cell_type": "code",
      "source": [
        "# ratings 컬럼의 이름을 counts로 바꿉니다.\n",
        "ratings.rename(columns={'ratings':'counts'}, inplace=True)"
      ],
      "metadata": {
        "id": "OVGC5i2UY91Z"
      },
      "execution_count": null,
      "outputs": []
    },
    {
      "cell_type": "code",
      "source": [
        "ratings['counts']"
      ],
      "metadata": {
        "colab": {
          "base_uri": "https://localhost:8080/"
        },
        "id": "7s4xDY6mY_ix",
        "outputId": "0e325320-0ca7-4deb-9790-b26fb3a1a126"
      },
      "execution_count": null,
      "outputs": [
        {
          "output_type": "execute_result",
          "data": {
            "text/plain": [
              "0          5\n",
              "1          3\n",
              "2          3\n",
              "3          4\n",
              "4          5\n",
              "          ..\n",
              "1000203    3\n",
              "1000205    5\n",
              "1000206    5\n",
              "1000207    4\n",
              "1000208    4\n",
              "Name: counts, Length: 836478, dtype: int64"
            ]
          },
          "metadata": {},
          "execution_count": 6
        }
      ]
    },
    {
      "cell_type": "code",
      "source": [
        "movie_file_path= '/content/drive/MyDrive/인공지능/아이펠/ES/data/ml-1m/movies.dat'\n",
        "cols = ['movie_id', 'title', 'genre'] \n",
        "movies = pd.read_csv(movie_file_path, sep='::', names=cols, engine='python', encoding='ISO-8859-1')\n",
        "movies.head()"
      ],
      "metadata": {
        "colab": {
          "base_uri": "https://localhost:8080/",
          "height": 206
        },
        "id": "lWQZb147ZAtp",
        "outputId": "b0d37715-a810-4472-f591-07553591eac6"
      },
      "execution_count": null,
      "outputs": [
        {
          "output_type": "execute_result",
          "data": {
            "text/plain": [
              "   movie_id                               title                         genre\n",
              "0         1                    Toy Story (1995)   Animation|Children's|Comedy\n",
              "1         2                      Jumanji (1995)  Adventure|Children's|Fantasy\n",
              "2         3             Grumpier Old Men (1995)                Comedy|Romance\n",
              "3         4            Waiting to Exhale (1995)                  Comedy|Drama\n",
              "4         5  Father of the Bride Part II (1995)                        Comedy"
            ],
            "text/html": [
              "\n",
              "  <div id=\"df-49f01c00-f9a3-49e8-a00c-78ddcaba7209\">\n",
              "    <div class=\"colab-df-container\">\n",
              "      <div>\n",
              "<style scoped>\n",
              "    .dataframe tbody tr th:only-of-type {\n",
              "        vertical-align: middle;\n",
              "    }\n",
              "\n",
              "    .dataframe tbody tr th {\n",
              "        vertical-align: top;\n",
              "    }\n",
              "\n",
              "    .dataframe thead th {\n",
              "        text-align: right;\n",
              "    }\n",
              "</style>\n",
              "<table border=\"1\" class=\"dataframe\">\n",
              "  <thead>\n",
              "    <tr style=\"text-align: right;\">\n",
              "      <th></th>\n",
              "      <th>movie_id</th>\n",
              "      <th>title</th>\n",
              "      <th>genre</th>\n",
              "    </tr>\n",
              "  </thead>\n",
              "  <tbody>\n",
              "    <tr>\n",
              "      <th>0</th>\n",
              "      <td>1</td>\n",
              "      <td>Toy Story (1995)</td>\n",
              "      <td>Animation|Children's|Comedy</td>\n",
              "    </tr>\n",
              "    <tr>\n",
              "      <th>1</th>\n",
              "      <td>2</td>\n",
              "      <td>Jumanji (1995)</td>\n",
              "      <td>Adventure|Children's|Fantasy</td>\n",
              "    </tr>\n",
              "    <tr>\n",
              "      <th>2</th>\n",
              "      <td>3</td>\n",
              "      <td>Grumpier Old Men (1995)</td>\n",
              "      <td>Comedy|Romance</td>\n",
              "    </tr>\n",
              "    <tr>\n",
              "      <th>3</th>\n",
              "      <td>4</td>\n",
              "      <td>Waiting to Exhale (1995)</td>\n",
              "      <td>Comedy|Drama</td>\n",
              "    </tr>\n",
              "    <tr>\n",
              "      <th>4</th>\n",
              "      <td>5</td>\n",
              "      <td>Father of the Bride Part II (1995)</td>\n",
              "      <td>Comedy</td>\n",
              "    </tr>\n",
              "  </tbody>\n",
              "</table>\n",
              "</div>\n",
              "      <button class=\"colab-df-convert\" onclick=\"convertToInteractive('df-49f01c00-f9a3-49e8-a00c-78ddcaba7209')\"\n",
              "              title=\"Convert this dataframe to an interactive table.\"\n",
              "              style=\"display:none;\">\n",
              "        \n",
              "  <svg xmlns=\"http://www.w3.org/2000/svg\" height=\"24px\"viewBox=\"0 0 24 24\"\n",
              "       width=\"24px\">\n",
              "    <path d=\"M0 0h24v24H0V0z\" fill=\"none\"/>\n",
              "    <path d=\"M18.56 5.44l.94 2.06.94-2.06 2.06-.94-2.06-.94-.94-2.06-.94 2.06-2.06.94zm-11 1L8.5 8.5l.94-2.06 2.06-.94-2.06-.94L8.5 2.5l-.94 2.06-2.06.94zm10 10l.94 2.06.94-2.06 2.06-.94-2.06-.94-.94-2.06-.94 2.06-2.06.94z\"/><path d=\"M17.41 7.96l-1.37-1.37c-.4-.4-.92-.59-1.43-.59-.52 0-1.04.2-1.43.59L10.3 9.45l-7.72 7.72c-.78.78-.78 2.05 0 2.83L4 21.41c.39.39.9.59 1.41.59.51 0 1.02-.2 1.41-.59l7.78-7.78 2.81-2.81c.8-.78.8-2.07 0-2.86zM5.41 20L4 18.59l7.72-7.72 1.47 1.35L5.41 20z\"/>\n",
              "  </svg>\n",
              "      </button>\n",
              "      \n",
              "  <style>\n",
              "    .colab-df-container {\n",
              "      display:flex;\n",
              "      flex-wrap:wrap;\n",
              "      gap: 12px;\n",
              "    }\n",
              "\n",
              "    .colab-df-convert {\n",
              "      background-color: #E8F0FE;\n",
              "      border: none;\n",
              "      border-radius: 50%;\n",
              "      cursor: pointer;\n",
              "      display: none;\n",
              "      fill: #1967D2;\n",
              "      height: 32px;\n",
              "      padding: 0 0 0 0;\n",
              "      width: 32px;\n",
              "    }\n",
              "\n",
              "    .colab-df-convert:hover {\n",
              "      background-color: #E2EBFA;\n",
              "      box-shadow: 0px 1px 2px rgba(60, 64, 67, 0.3), 0px 1px 3px 1px rgba(60, 64, 67, 0.15);\n",
              "      fill: #174EA6;\n",
              "    }\n",
              "\n",
              "    [theme=dark] .colab-df-convert {\n",
              "      background-color: #3B4455;\n",
              "      fill: #D2E3FC;\n",
              "    }\n",
              "\n",
              "    [theme=dark] .colab-df-convert:hover {\n",
              "      background-color: #434B5C;\n",
              "      box-shadow: 0px 1px 3px 1px rgba(0, 0, 0, 0.15);\n",
              "      filter: drop-shadow(0px 1px 2px rgba(0, 0, 0, 0.3));\n",
              "      fill: #FFFFFF;\n",
              "    }\n",
              "  </style>\n",
              "\n",
              "      <script>\n",
              "        const buttonEl =\n",
              "          document.querySelector('#df-49f01c00-f9a3-49e8-a00c-78ddcaba7209 button.colab-df-convert');\n",
              "        buttonEl.style.display =\n",
              "          google.colab.kernel.accessAllowed ? 'block' : 'none';\n",
              "\n",
              "        async function convertToInteractive(key) {\n",
              "          const element = document.querySelector('#df-49f01c00-f9a3-49e8-a00c-78ddcaba7209');\n",
              "          const dataTable =\n",
              "            await google.colab.kernel.invokeFunction('convertToInteractive',\n",
              "                                                     [key], {});\n",
              "          if (!dataTable) return;\n",
              "\n",
              "          const docLinkHtml = 'Like what you see? Visit the ' +\n",
              "            '<a target=\"_blank\" href=https://colab.research.google.com/notebooks/data_table.ipynb>data table notebook</a>'\n",
              "            + ' to learn more about interactive tables.';\n",
              "          element.innerHTML = '';\n",
              "          dataTable['output_type'] = 'display_data';\n",
              "          await google.colab.output.renderOutput(dataTable, element);\n",
              "          const docLink = document.createElement('div');\n",
              "          docLink.innerHTML = docLinkHtml;\n",
              "          element.appendChild(docLink);\n",
              "        }\n",
              "      </script>\n",
              "    </div>\n",
              "  </div>\n",
              "  "
            ]
          },
          "metadata": {},
          "execution_count": 7
        }
      ]
    },
    {
      "cell_type": "markdown",
      "source": [
        "### 2) 데이터 프레임 합치기\n",
        "- https://yganalyst.github.io/data_handling/Pd_12/\n",
        "  - 데이터에 존재하는 고유값을 기준으로 병합하는 merge() 사용\n",
        "    - 기준은 둘다 공통으로 있는 movie_id로 지정하여 병합\n",
        "    - how는 outter로 주어 어느 한쪽에라도 없는 데이터가 있는 경우 NaN값이 지정되게 함"
      ],
      "metadata": {
        "id": "dYCA_T1YlB3v"
      }
    },
    {
      "cell_type": "code",
      "source": [
        "movies_data = pd.merge(ratings, movies, how='outer', on='movie_id' )\n",
        "movies_data.drop(columns=['timestamp','genre'], axis=1, inplace=True)"
      ],
      "metadata": {
        "id": "3QhWHWAjkj_i"
      },
      "execution_count": null,
      "outputs": []
    },
    {
      "cell_type": "code",
      "source": [
        "movies_data"
      ],
      "metadata": {
        "colab": {
          "base_uri": "https://localhost:8080/",
          "height": 424
        },
        "id": "iuMzvlCGnLyv",
        "outputId": "b1772a06-166e-48b2-bdfe-83bc77419215"
      },
      "execution_count": null,
      "outputs": [
        {
          "output_type": "execute_result",
          "data": {
            "text/plain": [
              "        user_id  movie_id  counts                                   title\n",
              "0           1.0      1193     5.0  One Flew Over the Cuckoo's Nest (1975)\n",
              "1           2.0      1193     5.0  One Flew Over the Cuckoo's Nest (1975)\n",
              "2          12.0      1193     4.0  One Flew Over the Cuckoo's Nest (1975)\n",
              "3          15.0      1193     4.0  One Flew Over the Cuckoo's Nest (1975)\n",
              "4          17.0      1193     5.0  One Flew Over the Cuckoo's Nest (1975)\n",
              "...         ...       ...     ...                                     ...\n",
              "836728      NaN      3829     NaN                  Mad About Mambo (2000)\n",
              "836729      NaN      3856     NaN                     Autumn Heart (1999)\n",
              "836730      NaN      3891     NaN                       Turn It Up (2000)\n",
              "836731      NaN      3904     NaN              Uninvited Guest, An (2000)\n",
              "836732      NaN      3907     NaN      Prince of Central Park, The (1999)\n",
              "\n",
              "[836733 rows x 4 columns]"
            ],
            "text/html": [
              "\n",
              "  <div id=\"df-e8fb15d1-aa41-4fed-9511-bdd8649876fc\">\n",
              "    <div class=\"colab-df-container\">\n",
              "      <div>\n",
              "<style scoped>\n",
              "    .dataframe tbody tr th:only-of-type {\n",
              "        vertical-align: middle;\n",
              "    }\n",
              "\n",
              "    .dataframe tbody tr th {\n",
              "        vertical-align: top;\n",
              "    }\n",
              "\n",
              "    .dataframe thead th {\n",
              "        text-align: right;\n",
              "    }\n",
              "</style>\n",
              "<table border=\"1\" class=\"dataframe\">\n",
              "  <thead>\n",
              "    <tr style=\"text-align: right;\">\n",
              "      <th></th>\n",
              "      <th>user_id</th>\n",
              "      <th>movie_id</th>\n",
              "      <th>counts</th>\n",
              "      <th>title</th>\n",
              "    </tr>\n",
              "  </thead>\n",
              "  <tbody>\n",
              "    <tr>\n",
              "      <th>0</th>\n",
              "      <td>1.0</td>\n",
              "      <td>1193</td>\n",
              "      <td>5.0</td>\n",
              "      <td>One Flew Over the Cuckoo's Nest (1975)</td>\n",
              "    </tr>\n",
              "    <tr>\n",
              "      <th>1</th>\n",
              "      <td>2.0</td>\n",
              "      <td>1193</td>\n",
              "      <td>5.0</td>\n",
              "      <td>One Flew Over the Cuckoo's Nest (1975)</td>\n",
              "    </tr>\n",
              "    <tr>\n",
              "      <th>2</th>\n",
              "      <td>12.0</td>\n",
              "      <td>1193</td>\n",
              "      <td>4.0</td>\n",
              "      <td>One Flew Over the Cuckoo's Nest (1975)</td>\n",
              "    </tr>\n",
              "    <tr>\n",
              "      <th>3</th>\n",
              "      <td>15.0</td>\n",
              "      <td>1193</td>\n",
              "      <td>4.0</td>\n",
              "      <td>One Flew Over the Cuckoo's Nest (1975)</td>\n",
              "    </tr>\n",
              "    <tr>\n",
              "      <th>4</th>\n",
              "      <td>17.0</td>\n",
              "      <td>1193</td>\n",
              "      <td>5.0</td>\n",
              "      <td>One Flew Over the Cuckoo's Nest (1975)</td>\n",
              "    </tr>\n",
              "    <tr>\n",
              "      <th>...</th>\n",
              "      <td>...</td>\n",
              "      <td>...</td>\n",
              "      <td>...</td>\n",
              "      <td>...</td>\n",
              "    </tr>\n",
              "    <tr>\n",
              "      <th>836728</th>\n",
              "      <td>NaN</td>\n",
              "      <td>3829</td>\n",
              "      <td>NaN</td>\n",
              "      <td>Mad About Mambo (2000)</td>\n",
              "    </tr>\n",
              "    <tr>\n",
              "      <th>836729</th>\n",
              "      <td>NaN</td>\n",
              "      <td>3856</td>\n",
              "      <td>NaN</td>\n",
              "      <td>Autumn Heart (1999)</td>\n",
              "    </tr>\n",
              "    <tr>\n",
              "      <th>836730</th>\n",
              "      <td>NaN</td>\n",
              "      <td>3891</td>\n",
              "      <td>NaN</td>\n",
              "      <td>Turn It Up (2000)</td>\n",
              "    </tr>\n",
              "    <tr>\n",
              "      <th>836731</th>\n",
              "      <td>NaN</td>\n",
              "      <td>3904</td>\n",
              "      <td>NaN</td>\n",
              "      <td>Uninvited Guest, An (2000)</td>\n",
              "    </tr>\n",
              "    <tr>\n",
              "      <th>836732</th>\n",
              "      <td>NaN</td>\n",
              "      <td>3907</td>\n",
              "      <td>NaN</td>\n",
              "      <td>Prince of Central Park, The (1999)</td>\n",
              "    </tr>\n",
              "  </tbody>\n",
              "</table>\n",
              "<p>836733 rows × 4 columns</p>\n",
              "</div>\n",
              "      <button class=\"colab-df-convert\" onclick=\"convertToInteractive('df-e8fb15d1-aa41-4fed-9511-bdd8649876fc')\"\n",
              "              title=\"Convert this dataframe to an interactive table.\"\n",
              "              style=\"display:none;\">\n",
              "        \n",
              "  <svg xmlns=\"http://www.w3.org/2000/svg\" height=\"24px\"viewBox=\"0 0 24 24\"\n",
              "       width=\"24px\">\n",
              "    <path d=\"M0 0h24v24H0V0z\" fill=\"none\"/>\n",
              "    <path d=\"M18.56 5.44l.94 2.06.94-2.06 2.06-.94-2.06-.94-.94-2.06-.94 2.06-2.06.94zm-11 1L8.5 8.5l.94-2.06 2.06-.94-2.06-.94L8.5 2.5l-.94 2.06-2.06.94zm10 10l.94 2.06.94-2.06 2.06-.94-2.06-.94-.94-2.06-.94 2.06-2.06.94z\"/><path d=\"M17.41 7.96l-1.37-1.37c-.4-.4-.92-.59-1.43-.59-.52 0-1.04.2-1.43.59L10.3 9.45l-7.72 7.72c-.78.78-.78 2.05 0 2.83L4 21.41c.39.39.9.59 1.41.59.51 0 1.02-.2 1.41-.59l7.78-7.78 2.81-2.81c.8-.78.8-2.07 0-2.86zM5.41 20L4 18.59l7.72-7.72 1.47 1.35L5.41 20z\"/>\n",
              "  </svg>\n",
              "      </button>\n",
              "      \n",
              "  <style>\n",
              "    .colab-df-container {\n",
              "      display:flex;\n",
              "      flex-wrap:wrap;\n",
              "      gap: 12px;\n",
              "    }\n",
              "\n",
              "    .colab-df-convert {\n",
              "      background-color: #E8F0FE;\n",
              "      border: none;\n",
              "      border-radius: 50%;\n",
              "      cursor: pointer;\n",
              "      display: none;\n",
              "      fill: #1967D2;\n",
              "      height: 32px;\n",
              "      padding: 0 0 0 0;\n",
              "      width: 32px;\n",
              "    }\n",
              "\n",
              "    .colab-df-convert:hover {\n",
              "      background-color: #E2EBFA;\n",
              "      box-shadow: 0px 1px 2px rgba(60, 64, 67, 0.3), 0px 1px 3px 1px rgba(60, 64, 67, 0.15);\n",
              "      fill: #174EA6;\n",
              "    }\n",
              "\n",
              "    [theme=dark] .colab-df-convert {\n",
              "      background-color: #3B4455;\n",
              "      fill: #D2E3FC;\n",
              "    }\n",
              "\n",
              "    [theme=dark] .colab-df-convert:hover {\n",
              "      background-color: #434B5C;\n",
              "      box-shadow: 0px 1px 3px 1px rgba(0, 0, 0, 0.15);\n",
              "      filter: drop-shadow(0px 1px 2px rgba(0, 0, 0, 0.3));\n",
              "      fill: #FFFFFF;\n",
              "    }\n",
              "  </style>\n",
              "\n",
              "      <script>\n",
              "        const buttonEl =\n",
              "          document.querySelector('#df-e8fb15d1-aa41-4fed-9511-bdd8649876fc button.colab-df-convert');\n",
              "        buttonEl.style.display =\n",
              "          google.colab.kernel.accessAllowed ? 'block' : 'none';\n",
              "\n",
              "        async function convertToInteractive(key) {\n",
              "          const element = document.querySelector('#df-e8fb15d1-aa41-4fed-9511-bdd8649876fc');\n",
              "          const dataTable =\n",
              "            await google.colab.kernel.invokeFunction('convertToInteractive',\n",
              "                                                     [key], {});\n",
              "          if (!dataTable) return;\n",
              "\n",
              "          const docLinkHtml = 'Like what you see? Visit the ' +\n",
              "            '<a target=\"_blank\" href=https://colab.research.google.com/notebooks/data_table.ipynb>data table notebook</a>'\n",
              "            + ' to learn more about interactive tables.';\n",
              "          element.innerHTML = '';\n",
              "          dataTable['output_type'] = 'display_data';\n",
              "          await google.colab.output.renderOutput(dataTable, element);\n",
              "          const docLink = document.createElement('div');\n",
              "          docLink.innerHTML = docLinkHtml;\n",
              "          element.appendChild(docLink);\n",
              "        }\n",
              "      </script>\n",
              "    </div>\n",
              "  </div>\n",
              "  "
            ]
          },
          "metadata": {},
          "execution_count": 9
        }
      ]
    },
    {
      "cell_type": "markdown",
      "source": [
        "### 3) 데이터 확인 및 결측치 제거"
      ],
      "metadata": {
        "id": "Q_hiJQVsko01"
      }
    },
    {
      "cell_type": "code",
      "source": [
        "movies_data.info()"
      ],
      "metadata": {
        "colab": {
          "base_uri": "https://localhost:8080/"
        },
        "id": "8OK10BIAnuUc",
        "outputId": "5662b5c3-a27f-4497-ed7a-c79ede5462e9"
      },
      "execution_count": null,
      "outputs": [
        {
          "output_type": "stream",
          "name": "stdout",
          "text": [
            "<class 'pandas.core.frame.DataFrame'>\n",
            "Int64Index: 836733 entries, 0 to 836732\n",
            "Data columns (total 4 columns):\n",
            " #   Column    Non-Null Count   Dtype  \n",
            "---  ------    --------------   -----  \n",
            " 0   user_id   836478 non-null  float64\n",
            " 1   movie_id  836733 non-null  int64  \n",
            " 2   counts    836478 non-null  float64\n",
            " 3   title     836733 non-null  object \n",
            "dtypes: float64(2), int64(1), object(1)\n",
            "memory usage: 31.9+ MB\n"
          ]
        }
      ]
    },
    {
      "cell_type": "code",
      "source": [
        "movies_data.describe()"
      ],
      "metadata": {
        "colab": {
          "base_uri": "https://localhost:8080/",
          "height": 300
        },
        "id": "YI4_1OWInxNY",
        "outputId": "8739947c-2ad2-4ffc-c0f9-4b4d047f6fdc"
      },
      "execution_count": null,
      "outputs": [
        {
          "output_type": "execute_result",
          "data": {
            "text/plain": [
              "             user_id       movie_id         counts\n",
              "count  836478.000000  836733.000000  836478.000000\n",
              "mean     3033.120626    1849.105342       3.958293\n",
              "std      1729.255651    1091.865588       0.762280\n",
              "min         1.000000       1.000000       3.000000\n",
              "25%      1531.000000    1029.000000       3.000000\n",
              "50%      3080.000000    1747.000000       4.000000\n",
              "75%      4485.000000    2763.000000       5.000000\n",
              "max      6040.000000    3952.000000       5.000000"
            ],
            "text/html": [
              "\n",
              "  <div id=\"df-c2ac5c68-df61-4cc2-b90d-0f183f869811\">\n",
              "    <div class=\"colab-df-container\">\n",
              "      <div>\n",
              "<style scoped>\n",
              "    .dataframe tbody tr th:only-of-type {\n",
              "        vertical-align: middle;\n",
              "    }\n",
              "\n",
              "    .dataframe tbody tr th {\n",
              "        vertical-align: top;\n",
              "    }\n",
              "\n",
              "    .dataframe thead th {\n",
              "        text-align: right;\n",
              "    }\n",
              "</style>\n",
              "<table border=\"1\" class=\"dataframe\">\n",
              "  <thead>\n",
              "    <tr style=\"text-align: right;\">\n",
              "      <th></th>\n",
              "      <th>user_id</th>\n",
              "      <th>movie_id</th>\n",
              "      <th>counts</th>\n",
              "    </tr>\n",
              "  </thead>\n",
              "  <tbody>\n",
              "    <tr>\n",
              "      <th>count</th>\n",
              "      <td>836478.000000</td>\n",
              "      <td>836733.000000</td>\n",
              "      <td>836478.000000</td>\n",
              "    </tr>\n",
              "    <tr>\n",
              "      <th>mean</th>\n",
              "      <td>3033.120626</td>\n",
              "      <td>1849.105342</td>\n",
              "      <td>3.958293</td>\n",
              "    </tr>\n",
              "    <tr>\n",
              "      <th>std</th>\n",
              "      <td>1729.255651</td>\n",
              "      <td>1091.865588</td>\n",
              "      <td>0.762280</td>\n",
              "    </tr>\n",
              "    <tr>\n",
              "      <th>min</th>\n",
              "      <td>1.000000</td>\n",
              "      <td>1.000000</td>\n",
              "      <td>3.000000</td>\n",
              "    </tr>\n",
              "    <tr>\n",
              "      <th>25%</th>\n",
              "      <td>1531.000000</td>\n",
              "      <td>1029.000000</td>\n",
              "      <td>3.000000</td>\n",
              "    </tr>\n",
              "    <tr>\n",
              "      <th>50%</th>\n",
              "      <td>3080.000000</td>\n",
              "      <td>1747.000000</td>\n",
              "      <td>4.000000</td>\n",
              "    </tr>\n",
              "    <tr>\n",
              "      <th>75%</th>\n",
              "      <td>4485.000000</td>\n",
              "      <td>2763.000000</td>\n",
              "      <td>5.000000</td>\n",
              "    </tr>\n",
              "    <tr>\n",
              "      <th>max</th>\n",
              "      <td>6040.000000</td>\n",
              "      <td>3952.000000</td>\n",
              "      <td>5.000000</td>\n",
              "    </tr>\n",
              "  </tbody>\n",
              "</table>\n",
              "</div>\n",
              "      <button class=\"colab-df-convert\" onclick=\"convertToInteractive('df-c2ac5c68-df61-4cc2-b90d-0f183f869811')\"\n",
              "              title=\"Convert this dataframe to an interactive table.\"\n",
              "              style=\"display:none;\">\n",
              "        \n",
              "  <svg xmlns=\"http://www.w3.org/2000/svg\" height=\"24px\"viewBox=\"0 0 24 24\"\n",
              "       width=\"24px\">\n",
              "    <path d=\"M0 0h24v24H0V0z\" fill=\"none\"/>\n",
              "    <path d=\"M18.56 5.44l.94 2.06.94-2.06 2.06-.94-2.06-.94-.94-2.06-.94 2.06-2.06.94zm-11 1L8.5 8.5l.94-2.06 2.06-.94-2.06-.94L8.5 2.5l-.94 2.06-2.06.94zm10 10l.94 2.06.94-2.06 2.06-.94-2.06-.94-.94-2.06-.94 2.06-2.06.94z\"/><path d=\"M17.41 7.96l-1.37-1.37c-.4-.4-.92-.59-1.43-.59-.52 0-1.04.2-1.43.59L10.3 9.45l-7.72 7.72c-.78.78-.78 2.05 0 2.83L4 21.41c.39.39.9.59 1.41.59.51 0 1.02-.2 1.41-.59l7.78-7.78 2.81-2.81c.8-.78.8-2.07 0-2.86zM5.41 20L4 18.59l7.72-7.72 1.47 1.35L5.41 20z\"/>\n",
              "  </svg>\n",
              "      </button>\n",
              "      \n",
              "  <style>\n",
              "    .colab-df-container {\n",
              "      display:flex;\n",
              "      flex-wrap:wrap;\n",
              "      gap: 12px;\n",
              "    }\n",
              "\n",
              "    .colab-df-convert {\n",
              "      background-color: #E8F0FE;\n",
              "      border: none;\n",
              "      border-radius: 50%;\n",
              "      cursor: pointer;\n",
              "      display: none;\n",
              "      fill: #1967D2;\n",
              "      height: 32px;\n",
              "      padding: 0 0 0 0;\n",
              "      width: 32px;\n",
              "    }\n",
              "\n",
              "    .colab-df-convert:hover {\n",
              "      background-color: #E2EBFA;\n",
              "      box-shadow: 0px 1px 2px rgba(60, 64, 67, 0.3), 0px 1px 3px 1px rgba(60, 64, 67, 0.15);\n",
              "      fill: #174EA6;\n",
              "    }\n",
              "\n",
              "    [theme=dark] .colab-df-convert {\n",
              "      background-color: #3B4455;\n",
              "      fill: #D2E3FC;\n",
              "    }\n",
              "\n",
              "    [theme=dark] .colab-df-convert:hover {\n",
              "      background-color: #434B5C;\n",
              "      box-shadow: 0px 1px 3px 1px rgba(0, 0, 0, 0.15);\n",
              "      filter: drop-shadow(0px 1px 2px rgba(0, 0, 0, 0.3));\n",
              "      fill: #FFFFFF;\n",
              "    }\n",
              "  </style>\n",
              "\n",
              "      <script>\n",
              "        const buttonEl =\n",
              "          document.querySelector('#df-c2ac5c68-df61-4cc2-b90d-0f183f869811 button.colab-df-convert');\n",
              "        buttonEl.style.display =\n",
              "          google.colab.kernel.accessAllowed ? 'block' : 'none';\n",
              "\n",
              "        async function convertToInteractive(key) {\n",
              "          const element = document.querySelector('#df-c2ac5c68-df61-4cc2-b90d-0f183f869811');\n",
              "          const dataTable =\n",
              "            await google.colab.kernel.invokeFunction('convertToInteractive',\n",
              "                                                     [key], {});\n",
              "          if (!dataTable) return;\n",
              "\n",
              "          const docLinkHtml = 'Like what you see? Visit the ' +\n",
              "            '<a target=\"_blank\" href=https://colab.research.google.com/notebooks/data_table.ipynb>data table notebook</a>'\n",
              "            + ' to learn more about interactive tables.';\n",
              "          element.innerHTML = '';\n",
              "          dataTable['output_type'] = 'display_data';\n",
              "          await google.colab.output.renderOutput(dataTable, element);\n",
              "          const docLink = document.createElement('div');\n",
              "          docLink.innerHTML = docLinkHtml;\n",
              "          element.appendChild(docLink);\n",
              "        }\n",
              "      </script>\n",
              "    </div>\n",
              "  </div>\n",
              "  "
            ]
          },
          "metadata": {},
          "execution_count": 11
        }
      ]
    },
    {
      "cell_type": "code",
      "source": [
        "movies_data.isnull().sum()"
      ],
      "metadata": {
        "colab": {
          "base_uri": "https://localhost:8080/"
        },
        "id": "sGicf8FFnjEQ",
        "outputId": "bf905624-1dd8-49de-e33b-25ee4773a074"
      },
      "execution_count": null,
      "outputs": [
        {
          "output_type": "execute_result",
          "data": {
            "text/plain": [
              "user_id     255\n",
              "movie_id      0\n",
              "counts      255\n",
              "title         0\n",
              "dtype: int64"
            ]
          },
          "metadata": {},
          "execution_count": 12
        }
      ]
    },
    {
      "cell_type": "markdown",
      "source": [
        "- user_id와 ratings, timestamp가 모두 255개의 결측치를 가지고 있다.\n",
        "- 전체 데이터셋에 비해 굉장히 미미한 데이터량이니 제거하도록 한다."
      ],
      "metadata": {
        "id": "-3WVo5f3oC8o"
      }
    },
    {
      "cell_type": "code",
      "source": [
        "movies_data.dropna(inplace=True)"
      ],
      "metadata": {
        "id": "XfMZ9Lc4ocK5"
      },
      "execution_count": null,
      "outputs": []
    },
    {
      "cell_type": "code",
      "source": [
        "movies_data.isnull().sum()"
      ],
      "metadata": {
        "colab": {
          "base_uri": "https://localhost:8080/"
        },
        "id": "2PAxzFMQokHv",
        "outputId": "810711a8-0ab3-4708-e583-17ff34c148c0"
      },
      "execution_count": null,
      "outputs": [
        {
          "output_type": "execute_result",
          "data": {
            "text/plain": [
              "user_id     0\n",
              "movie_id    0\n",
              "counts      0\n",
              "title       0\n",
              "dtype: int64"
            ]
          },
          "metadata": {},
          "execution_count": 14
        }
      ]
    },
    {
      "cell_type": "markdown",
      "source": [
        "## 3. 분석\n"
      ],
      "metadata": {
        "id": "ksCjcRbRfUP_"
      }
    },
    {
      "cell_type": "markdown",
      "source": [
        "### 1)  ratings에 있는 유니크한 영화 개수, ratings에 있는 유니크한 사용자 수, 가장 인기 있는 영화 30개(인기순) 확인"
      ],
      "metadata": {
        "id": "jvqVnxtMkw_s"
      }
    },
    {
      "cell_type": "code",
      "source": [
        "movies_data['movie_id'].nunique()"
      ],
      "metadata": {
        "colab": {
          "base_uri": "https://localhost:8080/"
        },
        "id": "gyKHi9sHZU06",
        "outputId": "640a5111-d1b2-4692-c871-d086f22f3b3a"
      },
      "execution_count": null,
      "outputs": [
        {
          "output_type": "execute_result",
          "data": {
            "text/plain": [
              "3628"
            ]
          },
          "metadata": {},
          "execution_count": 15
        }
      ]
    },
    {
      "cell_type": "code",
      "source": [
        "movies_data['user_id'].nunique()"
      ],
      "metadata": {
        "colab": {
          "base_uri": "https://localhost:8080/"
        },
        "id": "xGgrOxpzgmiT",
        "outputId": "0d10c517-246b-4b23-c0b5-c5fab712f6a8"
      },
      "execution_count": null,
      "outputs": [
        {
          "output_type": "execute_result",
          "data": {
            "text/plain": [
              "6039"
            ]
          },
          "metadata": {},
          "execution_count": 16
        }
      ]
    },
    {
      "cell_type": "code",
      "source": [
        "title_count = movies_data.groupby(['title', 'movie_id'])['user_id'].count()\n",
        "\n",
        "title_count.sort_values(ascending=False).head(30)"
      ],
      "metadata": {
        "colab": {
          "base_uri": "https://localhost:8080/"
        },
        "id": "6g5FeuHkgyhO",
        "outputId": "56d050f0-aef4-494a-f638-60e42a880239"
      },
      "execution_count": null,
      "outputs": [
        {
          "output_type": "execute_result",
          "data": {
            "text/plain": [
              "title                                                  movie_id\n",
              "American Beauty (1999)                                 2858        3211\n",
              "Star Wars: Episode IV - A New Hope (1977)              260         2910\n",
              "Star Wars: Episode V - The Empire Strikes Back (1980)  1196        2885\n",
              "Star Wars: Episode VI - Return of the Jedi (1983)      1210        2716\n",
              "Saving Private Ryan (1998)                             2028        2561\n",
              "Terminator 2: Judgment Day (1991)                      589         2509\n",
              "Silence of the Lambs, The (1991)                       593         2498\n",
              "Raiders of the Lost Ark (1981)                         1198        2473\n",
              "Back to the Future (1985)                              1270        2460\n",
              "Matrix, The (1999)                                     2571        2434\n",
              "Jurassic Park (1993)                                   480         2413\n",
              "Sixth Sense, The (1999)                                2762        2385\n",
              "Fargo (1996)                                           608         2371\n",
              "Braveheart (1995)                                      110         2314\n",
              "Men in Black (1997)                                    1580        2297\n",
              "Schindler's List (1993)                                527         2257\n",
              "Princess Bride, The (1987)                             1197        2252\n",
              "Shakespeare in Love (1998)                             2396        2213\n",
              "L.A. Confidential (1997)                               1617        2210\n",
              "Shawshank Redemption, The (1994)                       318         2194\n",
              "Godfather, The (1972)                                  858         2167\n",
              "Groundhog Day (1993)                                   1265        2121\n",
              "E.T. the Extra-Terrestrial (1982)                      1097        2102\n",
              "Being John Malkovich (1999)                            2997        2066\n",
              "Ghostbusters (1984)                                    2716        2051\n",
              "Pulp Fiction (1994)                                    296         2030\n",
              "Forrest Gump (1994)                                    356         2022\n",
              "Terminator, The (1984)                                 1240        2019\n",
              "Toy Story (1995)                                       1           2000\n",
              "Fugitive, The (1993)                                   457         1941\n",
              "Name: user_id, dtype: int64"
            ]
          },
          "metadata": {},
          "execution_count": 17
        }
      ]
    },
    {
      "cell_type": "markdown",
      "source": [
        "### 2) 적절한 user_id 찾기\n",
        "- 마지막 user_id가 6040이니 나의 user_id는 6041로 지정한다."
      ],
      "metadata": {
        "id": "EzkCYR8Vk4ax"
      }
    },
    {
      "cell_type": "code",
      "source": [
        "movies_data['user_id'].sort_values(ascending=False).head(30)"
      ],
      "metadata": {
        "colab": {
          "base_uri": "https://localhost:8080/"
        },
        "id": "e4puoHSlS4EX",
        "outputId": "c5cd3809-66ea-4c2d-c1b7-960ad2f7a972"
      },
      "execution_count": null,
      "outputs": [
        {
          "output_type": "execute_result",
          "data": {
            "text/plain": [
              "656608    6040.0\n",
              "281262    6040.0\n",
              "617963    6040.0\n",
              "121191    6040.0\n",
              "627702    6040.0\n",
              "57560     6040.0\n",
              "798728    6040.0\n",
              "223074    6040.0\n",
              "818301    6040.0\n",
              "601338    6040.0\n",
              "428011    6040.0\n",
              "634198    6040.0\n",
              "417198    6040.0\n",
              "305373    6040.0\n",
              "106997    6040.0\n",
              "446235    6040.0\n",
              "636104    6040.0\n",
              "233895    6040.0\n",
              "826337    6040.0\n",
              "549943    6040.0\n",
              "262075    6040.0\n",
              "542222    6040.0\n",
              "353431    6040.0\n",
              "461916    6040.0\n",
              "221213    6040.0\n",
              "783933    6040.0\n",
              "43535     6040.0\n",
              "38619     6040.0\n",
              "627161    6040.0\n",
              "152321    6040.0\n",
              "Name: user_id, dtype: float64"
            ]
          },
          "metadata": {},
          "execution_count": 18
        }
      ]
    },
    {
      "cell_type": "markdown",
      "source": [
        "### 4. 내가 선호하는 영화를 5가지 골라서 ratings에 추가해 줍시다."
      ],
      "metadata": {
        "id": "uDooWNyLfe12"
      }
    },
    {
      "cell_type": "code",
      "source": [
        "# 영화 타이틀, user_id, counts, genre, movie_id필요\n",
        "my_favorite = ['Matrix, The (1999)' , 'Men in Black (1997)' ,'Toy Story (1995)' ,'Terminator, The (1984)' ,'Sixth Sense, The (1999)']\n",
        "my_movie_id = [2571, 1580, 1, 1240, 2762]\n",
        "\n",
        "my_playlist = pd.DataFrame({'user_id' : [6041] *5, 'movie_id' : my_movie_id, 'title': my_favorite, 'counts':[30]*5})\n",
        "\n",
        "\n",
        "if not movies_data.isin({'user_id':[6041]})['user_id'].any():  # user_id에 'zimin'이라는 데이터가 없다면\n",
        "    movies_data = movies_data.append(my_playlist)                           # 위에 임의로 만든 my_favorite 데이터를 추가해 줍니다. \n",
        "\n",
        "movies_data.tail(10)    # 잘 추가되었는지 확인해 봅시다'"
      ],
      "metadata": {
        "id": "73d7bUW4fil_",
        "colab": {
          "base_uri": "https://localhost:8080/",
          "height": 363
        },
        "outputId": "a6975dc3-d69a-466d-b7af-e55bf744a6a8"
      },
      "execution_count": null,
      "outputs": [
        {
          "output_type": "execute_result",
          "data": {
            "text/plain": [
              "        user_id  movie_id  counts  \\\n",
              "836473   5851.0      3607     5.0   \n",
              "836474   5854.0      3026     4.0   \n",
              "836475   5854.0       690     3.0   \n",
              "836476   5938.0      2909     4.0   \n",
              "836477   5948.0      1360     5.0   \n",
              "0        6041.0      2571    30.0   \n",
              "1        6041.0      1580    30.0   \n",
              "2        6041.0         1    30.0   \n",
              "3        6041.0      1240    30.0   \n",
              "4        6041.0      2762    30.0   \n",
              "\n",
              "                                                    title  \n",
              "836473                           One Little Indian (1973)  \n",
              "836474                              Slaughterhouse (1987)  \n",
              "836475             Promise, The (Versprechen, Das) (1994)  \n",
              "836476        Five Wives, Three Secretaries and Me (1998)  \n",
              "836477  Identification of a Woman (Identificazione di ...  \n",
              "0                                      Matrix, The (1999)  \n",
              "1                                     Men in Black (1997)  \n",
              "2                                        Toy Story (1995)  \n",
              "3                                  Terminator, The (1984)  \n",
              "4                                 Sixth Sense, The (1999)  "
            ],
            "text/html": [
              "\n",
              "  <div id=\"df-f6e6b430-367e-4820-9ce7-66d7ee2bec53\">\n",
              "    <div class=\"colab-df-container\">\n",
              "      <div>\n",
              "<style scoped>\n",
              "    .dataframe tbody tr th:only-of-type {\n",
              "        vertical-align: middle;\n",
              "    }\n",
              "\n",
              "    .dataframe tbody tr th {\n",
              "        vertical-align: top;\n",
              "    }\n",
              "\n",
              "    .dataframe thead th {\n",
              "        text-align: right;\n",
              "    }\n",
              "</style>\n",
              "<table border=\"1\" class=\"dataframe\">\n",
              "  <thead>\n",
              "    <tr style=\"text-align: right;\">\n",
              "      <th></th>\n",
              "      <th>user_id</th>\n",
              "      <th>movie_id</th>\n",
              "      <th>counts</th>\n",
              "      <th>title</th>\n",
              "    </tr>\n",
              "  </thead>\n",
              "  <tbody>\n",
              "    <tr>\n",
              "      <th>836473</th>\n",
              "      <td>5851.0</td>\n",
              "      <td>3607</td>\n",
              "      <td>5.0</td>\n",
              "      <td>One Little Indian (1973)</td>\n",
              "    </tr>\n",
              "    <tr>\n",
              "      <th>836474</th>\n",
              "      <td>5854.0</td>\n",
              "      <td>3026</td>\n",
              "      <td>4.0</td>\n",
              "      <td>Slaughterhouse (1987)</td>\n",
              "    </tr>\n",
              "    <tr>\n",
              "      <th>836475</th>\n",
              "      <td>5854.0</td>\n",
              "      <td>690</td>\n",
              "      <td>3.0</td>\n",
              "      <td>Promise, The (Versprechen, Das) (1994)</td>\n",
              "    </tr>\n",
              "    <tr>\n",
              "      <th>836476</th>\n",
              "      <td>5938.0</td>\n",
              "      <td>2909</td>\n",
              "      <td>4.0</td>\n",
              "      <td>Five Wives, Three Secretaries and Me (1998)</td>\n",
              "    </tr>\n",
              "    <tr>\n",
              "      <th>836477</th>\n",
              "      <td>5948.0</td>\n",
              "      <td>1360</td>\n",
              "      <td>5.0</td>\n",
              "      <td>Identification of a Woman (Identificazione di ...</td>\n",
              "    </tr>\n",
              "    <tr>\n",
              "      <th>0</th>\n",
              "      <td>6041.0</td>\n",
              "      <td>2571</td>\n",
              "      <td>30.0</td>\n",
              "      <td>Matrix, The (1999)</td>\n",
              "    </tr>\n",
              "    <tr>\n",
              "      <th>1</th>\n",
              "      <td>6041.0</td>\n",
              "      <td>1580</td>\n",
              "      <td>30.0</td>\n",
              "      <td>Men in Black (1997)</td>\n",
              "    </tr>\n",
              "    <tr>\n",
              "      <th>2</th>\n",
              "      <td>6041.0</td>\n",
              "      <td>1</td>\n",
              "      <td>30.0</td>\n",
              "      <td>Toy Story (1995)</td>\n",
              "    </tr>\n",
              "    <tr>\n",
              "      <th>3</th>\n",
              "      <td>6041.0</td>\n",
              "      <td>1240</td>\n",
              "      <td>30.0</td>\n",
              "      <td>Terminator, The (1984)</td>\n",
              "    </tr>\n",
              "    <tr>\n",
              "      <th>4</th>\n",
              "      <td>6041.0</td>\n",
              "      <td>2762</td>\n",
              "      <td>30.0</td>\n",
              "      <td>Sixth Sense, The (1999)</td>\n",
              "    </tr>\n",
              "  </tbody>\n",
              "</table>\n",
              "</div>\n",
              "      <button class=\"colab-df-convert\" onclick=\"convertToInteractive('df-f6e6b430-367e-4820-9ce7-66d7ee2bec53')\"\n",
              "              title=\"Convert this dataframe to an interactive table.\"\n",
              "              style=\"display:none;\">\n",
              "        \n",
              "  <svg xmlns=\"http://www.w3.org/2000/svg\" height=\"24px\"viewBox=\"0 0 24 24\"\n",
              "       width=\"24px\">\n",
              "    <path d=\"M0 0h24v24H0V0z\" fill=\"none\"/>\n",
              "    <path d=\"M18.56 5.44l.94 2.06.94-2.06 2.06-.94-2.06-.94-.94-2.06-.94 2.06-2.06.94zm-11 1L8.5 8.5l.94-2.06 2.06-.94-2.06-.94L8.5 2.5l-.94 2.06-2.06.94zm10 10l.94 2.06.94-2.06 2.06-.94-2.06-.94-.94-2.06-.94 2.06-2.06.94z\"/><path d=\"M17.41 7.96l-1.37-1.37c-.4-.4-.92-.59-1.43-.59-.52 0-1.04.2-1.43.59L10.3 9.45l-7.72 7.72c-.78.78-.78 2.05 0 2.83L4 21.41c.39.39.9.59 1.41.59.51 0 1.02-.2 1.41-.59l7.78-7.78 2.81-2.81c.8-.78.8-2.07 0-2.86zM5.41 20L4 18.59l7.72-7.72 1.47 1.35L5.41 20z\"/>\n",
              "  </svg>\n",
              "      </button>\n",
              "      \n",
              "  <style>\n",
              "    .colab-df-container {\n",
              "      display:flex;\n",
              "      flex-wrap:wrap;\n",
              "      gap: 12px;\n",
              "    }\n",
              "\n",
              "    .colab-df-convert {\n",
              "      background-color: #E8F0FE;\n",
              "      border: none;\n",
              "      border-radius: 50%;\n",
              "      cursor: pointer;\n",
              "      display: none;\n",
              "      fill: #1967D2;\n",
              "      height: 32px;\n",
              "      padding: 0 0 0 0;\n",
              "      width: 32px;\n",
              "    }\n",
              "\n",
              "    .colab-df-convert:hover {\n",
              "      background-color: #E2EBFA;\n",
              "      box-shadow: 0px 1px 2px rgba(60, 64, 67, 0.3), 0px 1px 3px 1px rgba(60, 64, 67, 0.15);\n",
              "      fill: #174EA6;\n",
              "    }\n",
              "\n",
              "    [theme=dark] .colab-df-convert {\n",
              "      background-color: #3B4455;\n",
              "      fill: #D2E3FC;\n",
              "    }\n",
              "\n",
              "    [theme=dark] .colab-df-convert:hover {\n",
              "      background-color: #434B5C;\n",
              "      box-shadow: 0px 1px 3px 1px rgba(0, 0, 0, 0.15);\n",
              "      filter: drop-shadow(0px 1px 2px rgba(0, 0, 0, 0.3));\n",
              "      fill: #FFFFFF;\n",
              "    }\n",
              "  </style>\n",
              "\n",
              "      <script>\n",
              "        const buttonEl =\n",
              "          document.querySelector('#df-f6e6b430-367e-4820-9ce7-66d7ee2bec53 button.colab-df-convert');\n",
              "        buttonEl.style.display =\n",
              "          google.colab.kernel.accessAllowed ? 'block' : 'none';\n",
              "\n",
              "        async function convertToInteractive(key) {\n",
              "          const element = document.querySelector('#df-f6e6b430-367e-4820-9ce7-66d7ee2bec53');\n",
              "          const dataTable =\n",
              "            await google.colab.kernel.invokeFunction('convertToInteractive',\n",
              "                                                     [key], {});\n",
              "          if (!dataTable) return;\n",
              "\n",
              "          const docLinkHtml = 'Like what you see? Visit the ' +\n",
              "            '<a target=\"_blank\" href=https://colab.research.google.com/notebooks/data_table.ipynb>data table notebook</a>'\n",
              "            + ' to learn more about interactive tables.';\n",
              "          element.innerHTML = '';\n",
              "          dataTable['output_type'] = 'display_data';\n",
              "          await google.colab.output.renderOutput(dataTable, element);\n",
              "          const docLink = document.createElement('div');\n",
              "          docLink.innerHTML = docLinkHtml;\n",
              "          element.appendChild(docLink);\n",
              "        }\n",
              "      </script>\n",
              "    </div>\n",
              "  </div>\n",
              "  "
            ]
          },
          "metadata": {},
          "execution_count": 19
        }
      ]
    },
    {
      "cell_type": "markdown",
      "source": [
        "### 5. CSR matrix를 직접 만들어 봅시다.\n",
        "- CSR Matrix는 Sparse한 matrix에서 0이 아닌 유효한 데이터로 채워지는 데이터의 값과 좌표 정보만으로 구성하여 메모리 사용량을 최소화하면서도 Sparse한 matrix와 동일한 행렬을 표현할 수 있도록 하는 데이터 구조입니다."
      ],
      "metadata": {
        "id": "nsXwZ4FnfztF"
      }
    },
    {
      "cell_type": "code",
      "source": [
        "# 고유한 유저, 아티스트를 찾아내는 코드\n",
        "user_unique = movies_data['user_id'].unique()\n",
        "title_unique = movies_data['title'].unique()\n",
        "\n",
        "# 유저, 아티스트 indexing 하는 코드 idx는 index의 약자입니다.\n",
        "user_to_idx = {v:k for k,v in enumerate(user_unique)}\n",
        "title_to_idx = {v:k for k,v in enumerate(title_unique)}"
      ],
      "metadata": {
        "id": "EB8lOC8tamDp"
      },
      "execution_count": null,
      "outputs": []
    },
    {
      "cell_type": "code",
      "source": [
        "# 인덱싱이 잘 되었는지 확인해 봅니다. \n",
        "print(user_to_idx[6041])    # 358869명의 유저 중 마지막으로 추가된 유저이니 358868이 나와야 합니다. \n",
        "print(title_to_idx['Toy Story (1995)'])"
      ],
      "metadata": {
        "colab": {
          "base_uri": "https://localhost:8080/"
        },
        "id": "CtfsqtBcatw8",
        "outputId": "dabfcda9-9ec1-4995-fe51-5919925de313"
      },
      "execution_count": null,
      "outputs": [
        {
          "output_type": "stream",
          "name": "stdout",
          "text": [
            "6039\n",
            "40\n"
          ]
        }
      ]
    },
    {
      "cell_type": "code",
      "source": [
        "# indexing을 통해 데이터 컬럼 내 값을 바꾸는 코드\n",
        "# dictionary 자료형의 get 함수는 https://wikidocs.net/16 을 참고하세요.\n",
        "\n",
        "# user_to_idx.get을 통해 user_id 컬럼의 모든 값을 인덱싱한 Series를 구해 봅시다. \n",
        "# 혹시 정상적으로 인덱싱되지 않은 row가 있다면 인덱스가 NaN이 될 테니 dropna()로 제거합니다. \n",
        "temp_user_data = movies_data['user_id'].map(user_to_idx.get).dropna()\n",
        "if len(temp_user_data) == len(movies_data):   # 모든 row가 정상적으로 인덱싱되었다면\n",
        "    print('user_id column indexing OK!!')\n",
        "    movies_data['user_id'] = temp_user_data   # data['user_id']을 인덱싱된 Series로 교체해 줍니다. \n",
        "else:\n",
        "    print('user_id column indexing Fail!!')\n",
        "\n",
        "# title_to_idx을 통해 title 컬럼도 동일한 방식으로 인덱싱해 줍니다. \n",
        "temp_title_data = movies_data['title'].map(title_to_idx.get).dropna()\n",
        "if len(temp_title_data) == len(movies_data):\n",
        "    print('title column indexing OK!!')\n",
        "    movies_data['title'] = temp_title_data\n",
        "else:\n",
        "    print('title column indexing Fail!!')\n",
        "\n",
        "movies_data"
      ],
      "metadata": {
        "colab": {
          "base_uri": "https://localhost:8080/",
          "height": 460
        },
        "id": "3Z-dcYJUbCSZ",
        "outputId": "5b3265f0-b49b-4a59-813b-898725e6c0c8"
      },
      "execution_count": null,
      "outputs": [
        {
          "output_type": "stream",
          "name": "stdout",
          "text": [
            "user_id column indexing OK!!\n",
            "title column indexing OK!!\n"
          ]
        },
        {
          "output_type": "execute_result",
          "data": {
            "text/plain": [
              "    user_id  movie_id  counts  title\n",
              "0         0      1193     5.0      0\n",
              "1         1      1193     5.0      0\n",
              "2         2      1193     4.0      0\n",
              "3         3      1193     4.0      0\n",
              "4         4      1193     5.0      0\n",
              "..      ...       ...     ...    ...\n",
              "0      6039      2571    30.0    124\n",
              "1      6039      1580    30.0    175\n",
              "2      6039         1    30.0     40\n",
              "3      6039      1240    30.0    200\n",
              "4      6039      2762    30.0     38\n",
              "\n",
              "[836483 rows x 4 columns]"
            ],
            "text/html": [
              "\n",
              "  <div id=\"df-f662a4e1-2871-486d-9fd7-acd4f1aec442\">\n",
              "    <div class=\"colab-df-container\">\n",
              "      <div>\n",
              "<style scoped>\n",
              "    .dataframe tbody tr th:only-of-type {\n",
              "        vertical-align: middle;\n",
              "    }\n",
              "\n",
              "    .dataframe tbody tr th {\n",
              "        vertical-align: top;\n",
              "    }\n",
              "\n",
              "    .dataframe thead th {\n",
              "        text-align: right;\n",
              "    }\n",
              "</style>\n",
              "<table border=\"1\" class=\"dataframe\">\n",
              "  <thead>\n",
              "    <tr style=\"text-align: right;\">\n",
              "      <th></th>\n",
              "      <th>user_id</th>\n",
              "      <th>movie_id</th>\n",
              "      <th>counts</th>\n",
              "      <th>title</th>\n",
              "    </tr>\n",
              "  </thead>\n",
              "  <tbody>\n",
              "    <tr>\n",
              "      <th>0</th>\n",
              "      <td>0</td>\n",
              "      <td>1193</td>\n",
              "      <td>5.0</td>\n",
              "      <td>0</td>\n",
              "    </tr>\n",
              "    <tr>\n",
              "      <th>1</th>\n",
              "      <td>1</td>\n",
              "      <td>1193</td>\n",
              "      <td>5.0</td>\n",
              "      <td>0</td>\n",
              "    </tr>\n",
              "    <tr>\n",
              "      <th>2</th>\n",
              "      <td>2</td>\n",
              "      <td>1193</td>\n",
              "      <td>4.0</td>\n",
              "      <td>0</td>\n",
              "    </tr>\n",
              "    <tr>\n",
              "      <th>3</th>\n",
              "      <td>3</td>\n",
              "      <td>1193</td>\n",
              "      <td>4.0</td>\n",
              "      <td>0</td>\n",
              "    </tr>\n",
              "    <tr>\n",
              "      <th>4</th>\n",
              "      <td>4</td>\n",
              "      <td>1193</td>\n",
              "      <td>5.0</td>\n",
              "      <td>0</td>\n",
              "    </tr>\n",
              "    <tr>\n",
              "      <th>...</th>\n",
              "      <td>...</td>\n",
              "      <td>...</td>\n",
              "      <td>...</td>\n",
              "      <td>...</td>\n",
              "    </tr>\n",
              "    <tr>\n",
              "      <th>0</th>\n",
              "      <td>6039</td>\n",
              "      <td>2571</td>\n",
              "      <td>30.0</td>\n",
              "      <td>124</td>\n",
              "    </tr>\n",
              "    <tr>\n",
              "      <th>1</th>\n",
              "      <td>6039</td>\n",
              "      <td>1580</td>\n",
              "      <td>30.0</td>\n",
              "      <td>175</td>\n",
              "    </tr>\n",
              "    <tr>\n",
              "      <th>2</th>\n",
              "      <td>6039</td>\n",
              "      <td>1</td>\n",
              "      <td>30.0</td>\n",
              "      <td>40</td>\n",
              "    </tr>\n",
              "    <tr>\n",
              "      <th>3</th>\n",
              "      <td>6039</td>\n",
              "      <td>1240</td>\n",
              "      <td>30.0</td>\n",
              "      <td>200</td>\n",
              "    </tr>\n",
              "    <tr>\n",
              "      <th>4</th>\n",
              "      <td>6039</td>\n",
              "      <td>2762</td>\n",
              "      <td>30.0</td>\n",
              "      <td>38</td>\n",
              "    </tr>\n",
              "  </tbody>\n",
              "</table>\n",
              "<p>836483 rows × 4 columns</p>\n",
              "</div>\n",
              "      <button class=\"colab-df-convert\" onclick=\"convertToInteractive('df-f662a4e1-2871-486d-9fd7-acd4f1aec442')\"\n",
              "              title=\"Convert this dataframe to an interactive table.\"\n",
              "              style=\"display:none;\">\n",
              "        \n",
              "  <svg xmlns=\"http://www.w3.org/2000/svg\" height=\"24px\"viewBox=\"0 0 24 24\"\n",
              "       width=\"24px\">\n",
              "    <path d=\"M0 0h24v24H0V0z\" fill=\"none\"/>\n",
              "    <path d=\"M18.56 5.44l.94 2.06.94-2.06 2.06-.94-2.06-.94-.94-2.06-.94 2.06-2.06.94zm-11 1L8.5 8.5l.94-2.06 2.06-.94-2.06-.94L8.5 2.5l-.94 2.06-2.06.94zm10 10l.94 2.06.94-2.06 2.06-.94-2.06-.94-.94-2.06-.94 2.06-2.06.94z\"/><path d=\"M17.41 7.96l-1.37-1.37c-.4-.4-.92-.59-1.43-.59-.52 0-1.04.2-1.43.59L10.3 9.45l-7.72 7.72c-.78.78-.78 2.05 0 2.83L4 21.41c.39.39.9.59 1.41.59.51 0 1.02-.2 1.41-.59l7.78-7.78 2.81-2.81c.8-.78.8-2.07 0-2.86zM5.41 20L4 18.59l7.72-7.72 1.47 1.35L5.41 20z\"/>\n",
              "  </svg>\n",
              "      </button>\n",
              "      \n",
              "  <style>\n",
              "    .colab-df-container {\n",
              "      display:flex;\n",
              "      flex-wrap:wrap;\n",
              "      gap: 12px;\n",
              "    }\n",
              "\n",
              "    .colab-df-convert {\n",
              "      background-color: #E8F0FE;\n",
              "      border: none;\n",
              "      border-radius: 50%;\n",
              "      cursor: pointer;\n",
              "      display: none;\n",
              "      fill: #1967D2;\n",
              "      height: 32px;\n",
              "      padding: 0 0 0 0;\n",
              "      width: 32px;\n",
              "    }\n",
              "\n",
              "    .colab-df-convert:hover {\n",
              "      background-color: #E2EBFA;\n",
              "      box-shadow: 0px 1px 2px rgba(60, 64, 67, 0.3), 0px 1px 3px 1px rgba(60, 64, 67, 0.15);\n",
              "      fill: #174EA6;\n",
              "    }\n",
              "\n",
              "    [theme=dark] .colab-df-convert {\n",
              "      background-color: #3B4455;\n",
              "      fill: #D2E3FC;\n",
              "    }\n",
              "\n",
              "    [theme=dark] .colab-df-convert:hover {\n",
              "      background-color: #434B5C;\n",
              "      box-shadow: 0px 1px 3px 1px rgba(0, 0, 0, 0.15);\n",
              "      filter: drop-shadow(0px 1px 2px rgba(0, 0, 0, 0.3));\n",
              "      fill: #FFFFFF;\n",
              "    }\n",
              "  </style>\n",
              "\n",
              "      <script>\n",
              "        const buttonEl =\n",
              "          document.querySelector('#df-f662a4e1-2871-486d-9fd7-acd4f1aec442 button.colab-df-convert');\n",
              "        buttonEl.style.display =\n",
              "          google.colab.kernel.accessAllowed ? 'block' : 'none';\n",
              "\n",
              "        async function convertToInteractive(key) {\n",
              "          const element = document.querySelector('#df-f662a4e1-2871-486d-9fd7-acd4f1aec442');\n",
              "          const dataTable =\n",
              "            await google.colab.kernel.invokeFunction('convertToInteractive',\n",
              "                                                     [key], {});\n",
              "          if (!dataTable) return;\n",
              "\n",
              "          const docLinkHtml = 'Like what you see? Visit the ' +\n",
              "            '<a target=\"_blank\" href=https://colab.research.google.com/notebooks/data_table.ipynb>data table notebook</a>'\n",
              "            + ' to learn more about interactive tables.';\n",
              "          element.innerHTML = '';\n",
              "          dataTable['output_type'] = 'display_data';\n",
              "          await google.colab.output.renderOutput(dataTable, element);\n",
              "          const docLink = document.createElement('div');\n",
              "          docLink.innerHTML = docLinkHtml;\n",
              "          element.appendChild(docLink);\n",
              "        }\n",
              "      </script>\n",
              "    </div>\n",
              "  </div>\n",
              "  "
            ]
          },
          "metadata": {},
          "execution_count": 22
        }
      ]
    },
    {
      "cell_type": "markdown",
      "source": [
        "- 참고자료 \n",
        "  - https://docs.scipy.org/doc/scipy/reference/generated/scipy.sparse.csr_matrix.html"
      ],
      "metadata": {
        "id": "caXZ7Zmmj_JS"
      }
    },
    {
      "cell_type": "code",
      "source": [
        "from scipy.sparse import csr_matrix\n",
        "\n",
        "num_user = movies_data['user_id'].nunique()\n",
        "num_title = movies_data['title'].nunique()\n",
        "\n",
        "csr_movies_data = csr_matrix((movies_data.counts, (movies_data.user_id, movies_data.title)), shape= (num_user, num_title))\n",
        "csr_movies_data"
      ],
      "metadata": {
        "id": "i75-83z4f1gG",
        "colab": {
          "base_uri": "https://localhost:8080/"
        },
        "outputId": "fb21481b-41ab-4714-9ab8-dc78252e45cf"
      },
      "execution_count": null,
      "outputs": [
        {
          "output_type": "execute_result",
          "data": {
            "text/plain": [
              "<6040x3628 sparse matrix of type '<class 'numpy.float64'>'\n",
              "\twith 836483 stored elements in Compressed Sparse Row format>"
            ]
          },
          "metadata": {},
          "execution_count": 23
        }
      ]
    },
    {
      "cell_type": "markdown",
      "source": [
        "## 6. als_model = AlternatingLeastSquares 모델을 직접 구성하여 훈련시켜 봅시다.\n",
        "- als(AlternatingLeastSquares) 모델을 사용하겠습니다. Matrix Factorization에서 쪼개진 두 Feature Matrix를 한꺼번에 훈련하는 것은 잘 수렴하지 않기 때문에, 한쪽을 고정시키고 다른 쪽을 학습하는 방식을 번갈아 수행하는 AlternatingLeastSquares 방식이 효과적인 것으로 알려져있다."
      ],
      "metadata": {
        "id": "zLUm2AMSf6y9"
      }
    },
    {
      "cell_type": "markdown",
      "source": [
        "![image.png](data:image/png;base64,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)"
      ],
      "metadata": {
        "id": "4wY2gCkVnB9e"
      }
    },
    {
      "cell_type": "code",
      "source": [
        "from implicit.als import AlternatingLeastSquares\n",
        "import os\n",
        "import numpy as np\n",
        "\n",
        "# implicit 라이브러리에서 권장하고 있는 부분입니다. 학습 내용과는 무관합니다.\n",
        "os.environ['OPENBLAS_NUM_THREADS']='1'\n",
        "os.environ['KMP_DUPLICATE_LIB_OK']='True'\n",
        "os.environ['MKL_NUM_THREADS']='1'"
      ],
      "metadata": {
        "id": "9lZyUrAjf86m"
      },
      "execution_count": null,
      "outputs": []
    },
    {
      "cell_type": "markdown",
      "source": [
        "AlternatingLeastSquares 클래스의 __init__ 파라미터를 살펴보겠습니다.\n",
        "\n",
        "- factors : 유저와 아이템의 벡터를 몇 차원으로 할 것인지\n",
        "- regularization : 과적합을 방지하기 위해 정규화 값을 얼마나 사용할 것인지\n",
        "- use_gpu : GPU를 사용할 것인지\n",
        "- iterations : epochs와 같은 의미입니다. 데이터를 몇 번 반복해서 학습할 것인지\n",
        "\n",
        "> factors와 iterations를 늘릴수록 학습 데이터를 잘 학습하지만 과적합의 우려가 있으니 좋은 값을 찾아야 한다."
      ],
      "metadata": {
        "id": "tgPFbxp8nKt5"
      }
    },
    {
      "cell_type": "code",
      "source": [
        "# Implicit AlternatingLeastSquares 모델의 선언\n",
        "als_model = AlternatingLeastSquares(factors=80, regularization=0.01, use_gpu=False, iterations=10, dtype=np.float32)"
      ],
      "metadata": {
        "id": "K5_tG9DqbkQn"
      },
      "execution_count": null,
      "outputs": []
    },
    {
      "cell_type": "code",
      "source": [
        "als_model.fit(csr_movies_data)"
      ],
      "metadata": {
        "colab": {
          "base_uri": "https://localhost:8080/",
          "height": 49,
          "referenced_widgets": [
            "abcb54dce5c040a2a76454b76fa032a9",
            "2baac57e80b44bbd868cbf50471c8daa",
            "c3711fe0220e4388bfc720288b1666ed",
            "841731ee0eb94e82b25a7b11ae7e494d",
            "86dffb1716da47c78334ecced82cd344",
            "387613dc4b144a84bfafc5cdf8411125",
            "db7c138a81f54513b22c706c1ab86b5a",
            "2b0bda89678a48cca964ba219287e821",
            "1f1f3995b8594004bc8b77cfa4fc3915",
            "2f48920a8763480f8ede11caf4cbf889",
            "2ce249379aa64338be8d4c9774e8851d"
          ]
        },
        "id": "HlQXaZGQbyxf",
        "outputId": "332ff7f8-883b-44b5-d96c-c2e099ad3465"
      },
      "execution_count": null,
      "outputs": [
        {
          "output_type": "display_data",
          "data": {
            "text/plain": [
              "  0%|          | 0/10 [00:00<?, ?it/s]"
            ],
            "application/vnd.jupyter.widget-view+json": {
              "version_major": 2,
              "version_minor": 0,
              "model_id": "abcb54dce5c040a2a76454b76fa032a9"
            }
          },
          "metadata": {}
        }
      ]
    },
    {
      "cell_type": "markdown",
      "source": [
        "## 7. 내가 선호하는 5가지 영화 중 하나와 그 외의 영화 하나를 골라 훈련된 모델이 예측한 나의 선호도를 파악해 보세요."
      ],
      "metadata": {
        "id": "Az1hxU8Jf-cy"
      }
    },
    {
      "cell_type": "code",
      "source": [
        "my_id, Men_in_black = user_to_idx[6041], title_to_idx['Men in Black (1997)']\n",
        "my_id_vector, Men_in_black_vector = als_model.user_factors[my_id], als_model.item_factors[Men_in_black]"
      ],
      "metadata": {
        "id": "UOFItaoTgAT-"
      },
      "execution_count": null,
      "outputs": []
    },
    {
      "cell_type": "code",
      "source": [
        "my_id_vector"
      ],
      "metadata": {
        "colab": {
          "base_uri": "https://localhost:8080/"
        },
        "id": "joy3xcAZizeb",
        "outputId": "dcfec45a-abbc-4aee-acfc-323e909b8ad8"
      },
      "execution_count": null,
      "outputs": [
        {
          "output_type": "execute_result",
          "data": {
            "text/plain": [
              "array([ 2.5892010e+00, -2.3596269e-01,  1.8098745e+00,  1.1739877e+00,\n",
              "       -1.4589441e-01,  3.3934647e-01, -1.2463181e+00,  3.0845520e-01,\n",
              "       -1.0820000e+00, -8.9602333e-01, -1.7459810e+00, -1.2056878e+00,\n",
              "       -5.5738604e-01,  1.8875210e-01,  1.1808047e+00,  9.7032565e-01,\n",
              "       -2.2095913e-01, -3.4900746e-01, -9.1499650e-01,  2.8162119e-01,\n",
              "       -6.3729918e-01, -1.6385108e+00, -6.1292946e-01,  2.1116336e-01,\n",
              "       -2.3576659e-01, -4.2763084e-02,  1.4977931e+00,  3.8308266e-01,\n",
              "       -2.3372846e+00, -1.2228397e+00, -6.2937224e-01, -1.4932435e+00,\n",
              "        2.1332455e+00, -1.1716999e-01, -8.8661247e-01,  1.8547615e+00,\n",
              "        2.0106807e+00,  2.0520527e+00,  4.3667355e-01,  2.5587001e-01,\n",
              "       -3.9863747e-01,  3.9609718e-01, -1.6335795e+00,  8.3188874e-01,\n",
              "        8.4388052e-04,  2.0179563e+00,  8.4312397e-01, -2.2113749e-01,\n",
              "       -3.8453242e-01, -6.5969980e-01, -1.0513501e+00, -5.2771229e-01,\n",
              "       -1.0470304e+00,  3.9340049e-01,  1.2713521e+00, -2.6848504e-01,\n",
              "       -2.9631430e-01, -1.0558277e-01,  1.3502647e+00,  8.6818075e-01,\n",
              "       -1.6120008e+00, -7.2521007e-01,  6.3595548e-02,  2.3587666e+00,\n",
              "        1.8831171e+00, -4.9711442e-01,  4.0565304e-02,  8.0493504e-01,\n",
              "       -1.1482102e+00, -2.5245583e-01, -1.1614729e+00, -9.7419792e-01,\n",
              "        7.7803588e-01, -5.6515735e-01,  2.9098764e-01,  4.3719533e-01,\n",
              "        3.8766764e-02, -3.2082042e-01,  7.1787715e-01,  7.2699326e-01],\n",
              "      dtype=float32)"
            ]
          },
          "metadata": {},
          "execution_count": 28
        }
      ]
    },
    {
      "cell_type": "code",
      "source": [
        "Men_in_black_vector"
      ],
      "metadata": {
        "colab": {
          "base_uri": "https://localhost:8080/"
        },
        "id": "-6t4o0X6i1H1",
        "outputId": "f272cbc4-d318-47a8-838e-92b4e6c09c0c"
      },
      "execution_count": null,
      "outputs": [
        {
          "output_type": "execute_result",
          "data": {
            "text/plain": [
              "array([ 0.03565502,  0.00276402,  0.01620053,  0.02758981, -0.01885544,\n",
              "       -0.00544418, -0.01938982,  0.00446083, -0.00294405,  0.00912016,\n",
              "        0.00244974, -0.01472235, -0.00078888,  0.02516087,  0.03498071,\n",
              "        0.01280169,  0.00898542, -0.00423497,  0.00023395, -0.0041301 ,\n",
              "        0.02245782, -0.00880944,  0.00808551, -0.00198917, -0.00283948,\n",
              "       -0.00520552,  0.00058963, -0.00624382, -0.00599928,  0.01106238,\n",
              "       -0.00912775,  0.02308134,  0.0334801 , -0.00699823, -0.02010268,\n",
              "        0.03576301,  0.01966318,  0.01999781,  0.03723913, -0.00690056,\n",
              "       -0.00110764,  0.02158307,  0.00346316,  0.0091003 ,  0.02344434,\n",
              "        0.01587283,  0.01035438,  0.01397783, -0.0096817 ,  0.00021318,\n",
              "       -0.01414625, -0.0235564 , -0.01343521,  0.01204442,  0.03452469,\n",
              "        0.0207366 ,  0.02981858, -0.02686019,  0.03010784,  0.00885616,\n",
              "       -0.01314334, -0.01799181, -0.00633346,  0.02550347,  0.01863832,\n",
              "       -0.00682717,  0.01921283,  0.0014178 , -0.02299031, -0.02222932,\n",
              "        0.01277274,  0.00070504,  0.01097445, -0.00252496,  0.02175169,\n",
              "        0.02786713,  0.00591174, -0.00067861,  0.04086582, -0.02675625],\n",
              "      dtype=float32)"
            ]
          },
          "metadata": {},
          "execution_count": 29
        }
      ]
    },
    {
      "cell_type": "markdown",
      "source": [
        "- 첫번째 시도(LMS : factors=100, iteration=15)"
      ],
      "metadata": {
        "id": "65ELQ4FbVkdA"
      }
    },
    {
      "cell_type": "markdown",
      "source": [
        "![image.png](data:image/png;base64,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)"
      ],
      "metadata": {
        "id": "rBvlW5oAUzZi"
      }
    },
    {
      "cell_type": "markdown",
      "source": [
        "- 두번째 시도(factors=200, iteration=15)"
      ],
      "metadata": {
        "id": "s2R7ajeYVvOn"
      }
    },
    {
      "cell_type": "markdown",
      "source": [
        "![image.png](data:image/png;base64,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)"
      ],
      "metadata": {
        "id": "q4-OobNMVDzW"
      }
    },
    {
      "cell_type": "markdown",
      "source": [
        "- 세번째 시도 (factors=150, iteration=20)"
      ],
      "metadata": {
        "id": "4sbjGTvHV1hA"
      }
    },
    {
      "cell_type": "markdown",
      "source": [
        "![image.png](data:image/png;base64,iVBORw0KGgoAAAANSUhEUgAAAmgAAADeCAYAAACJ4/wIAAAAAXNSR0IArs4c6QAAAARnQU1BAACxjwv8YQUAAAAJcEhZcwAAFiUAABYlAUlSJPAAABWoSURBVHhe7d09qGxJuTDg3oLCGJg5gchFhwMijKEzoYipZl+q4MQzmBopKIj5TGJioOmHicYaj4aOiHAY5QYGmoggJxA8d94z/V5q6tZaXeune1d3Pw8UvXpV1Vu1Vveu9e7+2fvh+QcOAAAM42PHWwAABiFBAwAYjAQNAGAwEjQAgMFI0AAABiNBAwAYjAQNAGAwEjQAgMFI0AAABiNBAwAYjAQNAGAwEjQAgMFI0AAABiNBAwAYzMOzZ8+eH7cBABiAV9AAAAYjQQMAGIwEDQBgMBI0AIDBSNAAAAYjQQMAGIwEDQBgMBI0AIDBSNAAAAaz6j8J/OY3vzn84Q9/OPz5z39+UcLnP//5F+W11157UQAAWGdRgvbb3/728NOf/vTwt7/97bin7eWXXz688cYbEjUAgBUmE7R///vfx63D4eMf//iLxOxXv/rVcU+fb3zjG4dvf/vb/yfWvXnppZcOH5zn4z1gZH5egRHMfgYtkqm1yVn45S9/+aJvxrkmsUjv4dKLfe+89zq+a1afg0udkz3H6Yl16fGuXfy83sNxAmM7+SWBeFtzTXKWom/EuFUW8uWcM/biuQTcqpMJWrwCNuVzn/vccWveXIxbFhePS79V4q2ZZfICf8kLvcdofF5FAx7bbIIW39ac+0LAD3/4w8NXvvKV471pEWOvV9Fi0SxLKe+36nrM9WvV5f25fi1l+7pfK87S2FOibkus1v2y1Fp1uV3vL03V9fTdU45Tjze1v1erzx4xl/Y7Nd6p+nSqPtRtWvfLUmvV5Xa9vzRV19MX4DHNJmjvvffecavtE5/4xOE73/nO4a233jp88pOfPO5te/fdd49b28Vvt1nqxTXuT9XNmes3VRf38za3e2WsOua5TB3DWmW8Vty6PutiO29zu1T2K+Olsv6c6vlHKecztX+LtTHLufb2K/u0+p2qT9lui3qserypucR23uZ2qexXxktlPcBoZhO0/BtnU+KD//ENza9+9auH73//+7Nvef7lL385bp1XudhOLcy1XKhTud2q64m5Vh2/Hn+NueM7h9ace8ZszbM8F2HvuecYe8e9pFPnrGXueHsfv0uct9651Op+sV2fl3PPHWCL2QRtSVIVyVm85RnJWsupZI/rExe8styaezq+paLPnglOOZc18wG4NSe/JLDUw8PDcYut9r4ILlW+6tCaS9yvyy255ePLx3PNca1JoGKMe34uASw1m6D1fkszxKtt3/ve9w6//vWvj3s+akmsexcXpzUXQdaRDCyTCZTnKMD5zCZo8b81e8S3PX/wgx/Mvo3ZG2ur8qLR+k29dVGpLzbldquujjll60Wsd5xT5o7vlOzbM5eM2zrunjFb8+wZN/WMscW546+15ZyF+rh6H79WuznZvmd+Gbd3LrW6X++4aWl7gL3NJmivvvrqcavtH//4x+EnP/nJ4e233z7861//Ou5te/31149b55UL89IFdq5fb93I5o5hjTJeK25dP1VXK+vKPpdWz/+x5zNnzTlr9YntVNaXbWrZbot6rHq8ubmUdbWyruwDcA1O/i/ON9988/D3v//9xXYtXhXr+fD/pz/96cM777zzYvuc//Jp1IV4ybzyQtNqn3W1Lcd8jpiPYZTH/p4fI88lgP1MJmgp/sDsj3/84+O9db773e8eXnvtteM9AADmnPwWZyRWX//614/3lou+kjMAgH5df2bjjTfeWJWkRZ/oCwBAv5NvcZbi7c74x+dz/58zvPzyyy8SM6+cAQAstyhBS5Goxf/WjC8I5H8biL9zFl8aiG9rSswAANZblaABAHA+XZ9BAwDgciRoAACDkaABAAxGggYAMBgJGgDAYCRoAACDkaABAAxGggYAMJiH5x84bgMAMACvoAEADEaCBgAwGAkaAMBgJGgAAIORoAEADEaCBgAwGAkaAMBgJGgAAIORoAEADObq/pPAK6+8ctz60Pvvv3/cmjfX75J19f40VV/GBADuw1UlaJG81AlLa19trt+l61rW9gMAbtOitzjffffdwzvvvDNbog39JGAAQG1Rgva73/3u8Pbbb8+WaHMP5pKqtQmXRA0ACKu+JPCnP/2pWe5Zz1uYtbn9WSRtAHB/dv0W51tvvXX48pe/fLw3jkhyyqSnTHzm6nrN9VkTL9pnif4AwH3ZNUF78803D6+//vrhn//854vPo/3xj3881jyuTJJaic9cXY/s3zJXBwAwZdcELX3qU586fOYznzl885vfHCZJO4ctyZnkDQCYsmuCVn7L869//evhs5/97OFb3/rWTSZp53jlLPoBAJzlFbQUf2Lt0n9mTZIDAFy7RX+oNl4Ziz+l0fONzV/84heHH/3oR4ef//znhy9+8YvHvdvVCVj9StXUq1dz/dbU1ftT1M/VpWhT3k9zcwEA7sNZErT4ksDPfvazw9e+9rVdkzMAgHuw61uckcDF59DiSwLxjU7JGQDAcrsmaPf0nwQAAM5lVYL2hS98oVkAANhu0WfQ4u3LU6+QxX8SiD9WCwDAOosSNAAAzu+sfwcNAIDlJGgAAIORoAEADEaCBgAwGAkaAMBgJGgAAIORoAEADEaCBgAwGAkaAMBgJGgAAIORoAEADEaCBgAwGAkaAMBgJGgAAIORoAEADEaCBgAwGAkaAMBgJGgAAIORoAEADEaCBgAwmIdnz549P24DADAAr6ABAAxGggYAMBgJGgDAYCRoAACDkaABAAxGggYAMBgJGgDAYCRoAACDkaABAAxGggYAcEZPnz49bvWToAEADGYyQXv11Vf/t2y1Zyy4Bi+99NL/FoBb9v//67+OW49nzRxGX6dnX0F77733XpTSl770pY+UWmtfK84W5Ukd9cTekrXn+Foem955Lj2eZ8+evSi1qYUk9pflseTY9e1o8jzVpdeStmtsjV/3b8U79zGkGKcut2qv4zv3Odoav+6/Nl70+3///d/Hex81FTP2l6W0ti7mUO8rteqm1uhRLHqLM5Kv3//+9x8pZULWSs72FhfJPKlZygvntSQFI1l7zi59rm/5sY3FIxaYspQLytzCc8/qcxaF86jPc+9z8pqeu+XPYS8/m21T56U8x1my7dq6W7XrZ9AiYeP2jPwbxh5u/fiuxaUX21jggQ+t+XnIpKnlMX6+bi1pW5SgjZqA5QU2X2GJ29arLbl/qi5vW/UtZZ/yNmWsen8o+9T1ua9Vt7eMPzdWa39PvynZZ0nfbDfXZ0m80lyfVsxW+yXj9i5c2S4XnLhtLT65f6oub1v1a2SsVrzc16rPfa26vWX8ubHm9pelNrU/nOozVX/tpo4vt+v9ob4fevrm/Xp/r6l+uW9J3FN9cn+rfq5urVMxp/aHqf2j2JrwPUbCuNWqV9Dircwo8aH/Sydt9VuapUzU4rZ+VST65P4oUxfZVt811o5X94vS6luLNq1ySo6dY/Va2y/mlH2y7DHPMm5PvB5TMev72W6Lud/8cmGJ23qRiT65P0orRtlmq7Xj1f2i1H3L9nsox2zNs+XUPOdiTtWV+1v1U8p2GWNEc8eXc879S5WxS7kvSo7Vo4xX94t9eZvbp5zqk/uz5JjlPOq6tU7FLOu3jvWYYu5Z4lhu2aoELT9/Fh/8f4xvZuYFsrxIntJzAd16kS3tOV5vrFa5B3WCFNtLnhstrZjnlgvnksWzZ4HacxHbc7w95lUu1vW5K+PHdlm3RMaJ/lMxW3Ujinm2So+6zyWOcc8x6jnHduy7B61jH1E+JmWp5xr3s0T9Ldv1M2iXFBfMpRfiaJvlEtaMl8e0dI7lWGUZ0TXM8ZTycdozeVuz8JSL2SWsGS+Pae855vkqyxbR/xzzzJjniL1Efa6y9Kj7lMcxyvFdk3Ocs3PE3Fs+d1rzjO2559m9udoELfUmaXkhzXJuW8bLPpkA9CjHKsuIrmWej6l3YaoXtD3k2OVt2jJe9okYUWqtfY/h1DzXyJhluSW3fnzncI5zdo6Y53ANcxzBogTtEn9G45TehOUSIrHIRCxv95TJy0jHzIfy8d7r8RklObmEXJRHP+YR5pnjxy3c0zpRu8djv/pX0Na4dMKzZLx7TMa2HnOdJMV27NuiFXN0l17AlozX03bvJKQcM7Z74s/Ns07Wypitujmn6q/dmuM79zmZe/xGcI7jz5hLn5+96rg9znGcKWKP9Jhu9fDBhej5cfsj4sP/rb/+X76K9vz58+Z/Gpj6ZudUzKXqi2V9Mc76uf11m7hft++R/Vr9146XbdNUuz3V8yv1zHVJvy3Hd2q8sCRemJpnKGNmu1b7et9czCn1wlUvNFk/t79us3bByn6t/mvHy7Zpql2vOl7KebXmV5qa66l5nooZcuxscyrmnDJOba5uT61xlhxf1k/tD1FXx6zbh3r/VLspOWZP7F6tmK1Y5b7sk3rHbY2VTsUs+5ZzCfX9XnP9pupyHqmeR6m3LszNZc6a9Xqp+GfpT548Od7rM5ughYeHh81/SiOStkjmwp7/8ukS4oFrOfeDeY/Oca4f6/Erx/Vcuby1CzWw3Ag/b2vmcMl1etcEDQCA7dYkaHf5GTQAgJFJ0AAABiNBAwAYjAQNAGAwEjQAgMFI0AAWiK/mZ2GecwXrXWWCVv7Q+8Gnx6jPkyXzWnsMox17zGfUx6NX/M2k+u8m5XHdwvHtpXWegD5Xl6DFwpc/9FnKxdDCuC/n83Y9xmNb/vzuYZTnZ3lcWcq5jTJP4Hp4ixNu3F7JEACXcxMJWl6A8rfUuG39xpr7p+rytlXfUvYpb1PGqveHsk9dn/tadVNaMUplvLoutOpyu95fmqrr6bunHGfpWGW/3r5l26k+c/Gm6nL/VP1aU2Pl7VR9WVJ5v9zfo+xX98199f7Uqs/ten9pqm6ub+5r1S1hXQK2uLoErX7roJQLYtzmdoo+uT9KK0bZZqu149X9orT6LnEqZl2fdbGdt7ldKvuV8VJZ3yPat8op0SbHmZpLS91vSd9s2+pTxu2tK/e36vcW8fM2t9OpueT9ev8p0T5vczvU49Uxp+pjO29zu1T2q2OGsj7VY0Vp9a3NtYu6vM3tVI/XilG22WrteHW/KK2+wH6u8hW0XByWLBDR55SeNr32HG/PedVy4S31jFf3i+368Vg672jfKqf0tOm1NdbceWnVMX8e6nMWes7b3OOQeuKEJe1ijHqcOT2xe8fvsed4e84L+L+u9i3OWByiLFkMc/Fc0meLNePlMe09x3Iue8feSz3HLD2Wtg/nOtdrlcfw2HO69FwuOdacrc8J6xKwl6v/DFrvYhhtcvGMcm5bxss+SxbEbB9y7FLGLMtoWnOMcsqlz/W5lMeQ5bFcci5bHr9zyHlseU5k/1Mufexbxss+W84L0O/qErSRFoZcrMrbPZULIuflXFNb8pwY6XmTcy5v97TkvADrXf0raGtcemFZMt6WuS1ZkHOc1kLbM4e6X++459Yz97Skba+589Kqm7NkfkvarnHu+Kkepz5noWcuc4/DnJ7Y53LpsZeM95jnBe7VwweL1vPj9tWoF4t64c36uf11m7hft++R/Vr9146XbdNUu5apuKdilvVTdXNxW31a7c+lnEdrTlPzybapZ84Zq74tZdy5Meu+uT+1YrbihS11oTVWKeszVn3ba6p9jpcxczvlvlD3b7VPU3Wxv9U+lGOF3r49/cLc/rrN1FinZL9W/7XjZds01a5lLi7cg6dPnx6ePHlyvNfnKhO0S6oXpfQYi81Ic7l1zvVy93LOyuN8rGO7lnM9wrmCEUjQAAAGsyZBu8vPoAEAjEyCBgAwGAkaAMBgJGgAAIORoAEADEaCdgFTX4kHtvGzBdwqCdqEvRb+iHPJv//TO28Xtg/FeSgL1yV+tjxuwC2SoG3k4rDcKOcs5hEX+LKUc/PY7sv5BOgnQTujTAAu6dLjwWOrE2uAW3B1CVosxGUp5f1WXY+5fq26vD/Xr6VsX/drxVkae0rUbYnVul+WWqsut+v9pam6nr5bZYJ7aqzcP1WXt636lrJPeZsyVr0/lH3q+tzXqpvSilEq49V1oVWX2/X+0lRdT1+AW3OVr6DFRTRLvWDH/am6OXP9purift7mdq+MVcc8l6ljWKuM14pb12ddbOdtbpfKfmW8VNZvNTVGyPitsco5RDn3PNeOV/eL0uq7xKmYdX3WxXbe5nap7FfGS2U9wD24ubc4ywV8arGv5eKfyu1WXU/Mter49fhrzB3fObTm3DNma57luQh7zz3HqMeZ0zOHPee553h7zqt2TY87wOh8Bo3VMrHJcq3i4t9KCuZc+rjXjJfHtPccy7nsHRuAD0nQBhYXv8d85aBMWlpzift1uWYx/56EI8/FpY55y3jZJ2L0HFvI9iHHLmXMsgCwLwnagOKC13sxZb2RznE+5uXtniKe5xXA9bi5BK28ALUudK0LVH3hKrdbdXXMKVsviL3jnDJ3fKdk3565ZNzWcfeM2Zpnz7ipZ4y9XXrMJeNtmdu1Pe5L2gNcg5v8kkAs2EsX7bl+vXUjmzuGNcp4rbh1/VRdrawr+5xDPcd6zKl5tuZYt9nT2vHKfnX/tU7FrOun6mplXdkH4F49fLAYPj9uX71RF/cl88qLV6t91tW2HPM5Yj6GUR/70kjn2uMOcDlPnz49PHny5Hivz00laAAAo1mToPmSAADAYCRoAACDkaABAAxGggYAMBgJGgDAYCRoAACDkaABAAxGggYAMBgJGgDAYCRoAACDkaABAAxGggYAMBgJGgDAYB6ef+C4DQDAALyCBgAwGAkaAMBgJGgAAIORoAEADEaCBgAwGAkaAMBgJGgAAIORoAEADEaCBgAwmKv7TwKvvPLKcetD77///nFr3ly/qbp6f6r7Ts2hVXcq5tRcwlwdAHA7ripBm0p4TiUqc/2WxizrYju02k7V9cZOuW+uDgC4LYvf4ox8bq7csjohmkuO9kqcJGAAcH8WJWithKxVRnOJROrcJGoAcD9WfUngYx/7WLNci7m3Bqfq9nw7MWKVpTRXF8o6SRsA3KZds6qHh4cXZWRzic2lkp4YoywxbpqrC3N1AMBt2D1BSyO+1TlKcgYAMOes70v+5z//OW49vi3J2aWSNwCAsHuCVn5RIF5RGyFJG+GVsxTjrbG2HwBwfa7nk/2dJDIAwLVb9Idq89Wxnm9sLmm7RJ2A1a9+tV4Rm0raot1cXWrFTGvq6jHrsUq9dQDA7Thrgjb6NzoBAEa068tbZa4nOQMAWGf3BK1M0gAAWG7VW5xz4pUzr54BAKy3KEELPQkaAADrLU7QAAA4r33/BgYAAJtJ0AAABiNBAwAYjAQNAGAwEjQAgMFI0AAABiNBAwAYjAQNAGAwEjQAgMFI0AAABiNBAwAYjAQNAGAwEjQAgMFI0AAABiNBAwAYjAQNAGAwEjQAgKEcDv8Dvc3R+ucRNtMAAAAASUVORK5CYII=)"
      ],
      "metadata": {
        "id": "kjAQxGpkVbYV"
      }
    },
    {
      "cell_type": "markdown",
      "source": [
        "- 네번째 시도(factors=80, iteration=10)"
      ],
      "metadata": {
        "id": "-ndqp0GtXaip"
      }
    },
    {
      "cell_type": "code",
      "source": [
        "np.dot(my_id_vector, Men_in_black_vector)"
      ],
      "metadata": {
        "colab": {
          "base_uri": "https://localhost:8080/"
        },
        "id": "1CE3JZbUi7to",
        "outputId": "54c51dc5-2d02-4ccf-8f71-4a37cfaafc24"
      },
      "execution_count": null,
      "outputs": [
        {
          "output_type": "execute_result",
          "data": {
            "text/plain": [
              "0.83136016"
            ]
          },
          "metadata": {},
          "execution_count": 30
        }
      ]
    },
    {
      "cell_type": "code",
      "source": [
        "Star_wars = title_to_idx['Star Wars: Episode VI - Return of the Jedi (1983)']\n",
        "Star_wars_vector = als_model.item_factors[Star_wars ]\n",
        "np.dot(my_id_vector, Star_wars_vector)"
      ],
      "metadata": {
        "colab": {
          "base_uri": "https://localhost:8080/"
        },
        "id": "qH_3_Qddjo2c",
        "outputId": "7add507d-2cb9-46d3-c1d9-25d67f6494ec"
      },
      "execution_count": null,
      "outputs": [
        {
          "output_type": "execute_result",
          "data": {
            "text/plain": [
              "0.5652188"
            ]
          },
          "metadata": {},
          "execution_count": 31
        }
      ]
    },
    {
      "cell_type": "markdown",
      "source": [
        "> 정리\n",
        "- 두번째, 세번째 시도\n",
        "  - 많은 학습량과 높은 차원으로 과적합이 일어나 다른 영화 타이틀을 넣었을때 그 값이 현저히 떨어지는 것을 확인할 수 있다.\n",
        "- 첫번째, 네번째 시도\n",
        "  - 이는 과적합이 일어나지 않았다고 판단할 수 있다.\n",
        "  - 첫번째, 네번째 시도 중에서 무엇을 사용할지 고민하였으나\n",
        "  - 네번째 시도에서 가장 밑단 내가 좋아하는 추천에서 정말로 내가 어릴적 가장 좋아해서 많이 보던 영화가 포진해 있었다. \n",
        "  - 특히 내가 좋아하는 영화에 일부러 스타워즈를 넣지 않았는데 사실 스타워즈 시지즈를 다 챙겨봤을 만큼 좋아하던 영화이다. 마지막 결과를 보면 스타워즈 시리즈 들이 포진해 있는 것을 확인할 수 있었다.\n",
        "  - 그리고 첫번째 시도와 달리 내가 싫어하는 에일리언 이라는 영화가 빠져있다."
      ],
      "metadata": {
        "id": "GTlhSIRWX2Gx"
      }
    },
    {
      "cell_type": "markdown",
      "source": [
        "## 8. 내가 좋아하는 영화와 비슷한 영화를 추천받아 봅시다."
      ],
      "metadata": {
        "id": "BSDIN3FcgCch"
      }
    },
    {
      "cell_type": "code",
      "source": [
        "favorite_title = 'Shakespeare in Love (1998)'\n",
        "title_id = title_to_idx[favorite_title]\n",
        "similar_title_idx, similar_title = als_model.similar_items(title_id, N=15)\n",
        " # lms에서는 그냥 튜플로 나오지만 이 버전에서는 리턴이 두개로 나옵니다 :)\n",
        "print(similar_title_idx)\n",
        "print(similar_title)\n",
        "tuple_similar_title = [(similar_title_idx[i], similar_title[i]) for i in range(15)]\n",
        "print('-'*75)\n",
        "idx_to_title = {v:k for k,v in title_to_idx.items()}\n",
        "[idx_to_title[i[0]] for i in tuple_similar_title]"
      ],
      "metadata": {
        "colab": {
          "base_uri": "https://localhost:8080/"
        },
        "id": "-zGcHHx9Vv-g",
        "outputId": "a9dc0544-61f2-431c-b18c-04faf63acd17"
      },
      "execution_count": null,
      "outputs": [
        {
          "output_type": "stream",
          "name": "stdout",
          "text": [
            "[ 126  110  170  271  613   99   40  381   50   38  204  301  243 3035\n",
            "  757]\n",
            "[1.         0.62388283 0.57814723 0.57599187 0.5097191  0.50170374\n",
            " 0.48419094 0.47773516 0.45737767 0.45124558 0.4441706  0.4285\n",
            " 0.42844304 0.41854522 0.41526556]\n",
            "---------------------------------------------------------------------------\n"
          ]
        },
        {
          "output_type": "execute_result",
          "data": {
            "text/plain": [
              "['Shakespeare in Love (1998)',\n",
              " 'Groundhog Day (1993)',\n",
              " 'Being John Malkovich (1999)',\n",
              " 'Election (1999)',\n",
              " 'Four Weddings and a Funeral (1994)',\n",
              " 'American Beauty (1999)',\n",
              " 'Toy Story (1995)',\n",
              " 'Elizabeth (1998)',\n",
              " 'Toy Story 2 (1999)',\n",
              " 'Sixth Sense, The (1999)',\n",
              " 'Clueless (1995)',\n",
              " 'Rushmore (1998)',\n",
              " 'Ghostbusters (1984)',\n",
              " 'For Ever Mozart (1996)',\n",
              " 'Full Monty, The (1997)']"
            ]
          },
          "metadata": {},
          "execution_count": 32
        }
      ]
    },
    {
      "cell_type": "code",
      "source": [
        "favorite_title = 'Men in Black (1997)'\n",
        "title_id = title_to_idx[favorite_title]\n",
        "similar_title_idx, similar_title = als_model.similar_items(title_id, N=15)\n",
        " # lms에서는 그냥 튜플로 나오지만 이 버전에서는 리턴이 두개로 나옵니다 :)\n",
        "print(similar_title_idx)\n",
        "print(similar_title)\n",
        "tuple_similar_title = [(similar_title_idx[i], similar_title[i]) for i in range(15)]\n",
        "print('-'*75)\n",
        "idx_to_title = {v:k for k,v in title_to_idx.items()}\n",
        "[idx_to_title[i[0]] for i in tuple_similar_title]"
      ],
      "metadata": {
        "colab": {
          "base_uri": "https://localhost:8080/"
        },
        "id": "o8UJYpb1WDxj",
        "outputId": "ef640231-59dc-4605-c993-18c1dc7f6898"
      },
      "execution_count": null,
      "outputs": [
        {
          "output_type": "stream",
          "name": "stdout",
          "text": [
            "[ 175  107   92   62  150  124  145   82  138   87   60  542  375  544\n",
            " 1045]\n",
            "[1.         0.8378379  0.67599976 0.61723715 0.54417896 0.5379254\n",
            " 0.5335466  0.5079845  0.49242827 0.4918291  0.48979527 0.48747614\n",
            " 0.47400454 0.4543645  0.44559687]\n",
            "---------------------------------------------------------------------------\n"
          ]
        },
        {
          "output_type": "execute_result",
          "data": {
            "text/plain": [
              "['Men in Black (1997)',\n",
              " 'Jurassic Park (1993)',\n",
              " 'Terminator 2: Judgment Day (1991)',\n",
              " 'Total Recall (1990)',\n",
              " 'Independence Day (ID4) (1996)',\n",
              " 'Matrix, The (1999)',\n",
              " 'Fifth Element, The (1997)',\n",
              " 'Lost World: Jurassic Park, The (1997)',\n",
              " 'True Lies (1994)',\n",
              " 'Braveheart (1995)',\n",
              " 'Star Wars: Episode I - The Phantom Menace (1999)',\n",
              " 'Rocky Horror Picture Show, The (1975)',\n",
              " 'Face/Off (1997)',\n",
              " 'Stargate (1994)',\n",
              " 'Grumpy Old Men (1993)']"
            ]
          },
          "metadata": {},
          "execution_count": 33
        }
      ]
    },
    {
      "cell_type": "markdown",
      "source": [
        "## 9. 내가 가장 좋아할 만한 영화들을 추천받아 봅시다."
      ],
      "metadata": {
        "id": "Pb7bgh23gEMA"
      }
    },
    {
      "cell_type": "markdown",
      "source": [
        "### 1) 영화 추천받기"
      ],
      "metadata": {
        "id": "VNAD8CudZx0j"
      }
    },
    {
      "cell_type": "code",
      "source": [
        "user = user_to_idx[6041]\n",
        "# recommend에서는 user*item CSR Matrix를 받습니다.\n",
        "title_recommended_idx, title_recommended = als_model.recommend(user, csr_movies_data[user], N=15, filter_already_liked_items=True)\n",
        "tuple_title_recommended = [(title_recommended_idx[i], title_recommended[i]) for i in range(15)]\n",
        "tuple_title_recommended"
      ],
      "metadata": {
        "colab": {
          "base_uri": "https://localhost:8080/"
        },
        "id": "d3nDDmgCXcIo",
        "outputId": "85b34944-697c-4506-8b42-44be2d25eead"
      },
      "execution_count": null,
      "outputs": [
        {
          "output_type": "execute_result",
          "data": {
            "text/plain": [
              "[(92, 1.0910898),\n",
              " (107, 0.80228734),\n",
              " (62, 0.7512238),\n",
              " (141, 0.6718682),\n",
              " (50, 0.64975744),\n",
              " (44, 0.62332386),\n",
              " (110, 0.5999917),\n",
              " (670, 0.59044516),\n",
              " (22, 0.58263874),\n",
              " (64, 0.5652188),\n",
              " (60, 0.559483),\n",
              " (117, 0.54897124),\n",
              " (126, 0.5339569),\n",
              " (99, 0.5058538),\n",
              " (75, 0.48690656)]"
            ]
          },
          "metadata": {},
          "execution_count": 34
        }
      ]
    },
    {
      "cell_type": "code",
      "source": [
        "[idx_to_title[i[0]] for i in tuple_title_recommended]"
      ],
      "metadata": {
        "id": "X3qV1IwjgGPx",
        "colab": {
          "base_uri": "https://localhost:8080/"
        },
        "outputId": "406bee88-b896-40a8-f6ff-1da5d042cbf5"
      },
      "execution_count": null,
      "outputs": [
        {
          "output_type": "execute_result",
          "data": {
            "text/plain": [
              "['Terminator 2: Judgment Day (1991)',\n",
              " 'Jurassic Park (1993)',\n",
              " 'Total Recall (1990)',\n",
              " 'Fugitive, The (1993)',\n",
              " 'Toy Story 2 (1999)',\n",
              " 'Star Wars: Episode IV - A New Hope (1977)',\n",
              " 'Groundhog Day (1993)',\n",
              " 'Galaxy Quest (1999)',\n",
              " 'Back to the Future (1985)',\n",
              " 'Star Wars: Episode VI - Return of the Jedi (1983)',\n",
              " 'Star Wars: Episode I - The Phantom Menace (1999)',\n",
              " 'Star Wars: Episode V - The Empire Strikes Back (1980)',\n",
              " 'Shakespeare in Love (1998)',\n",
              " 'American Beauty (1999)',\n",
              " 'Hunt for Red October, The (1990)']"
            ]
          },
          "metadata": {},
          "execution_count": 35
        }
      ]
    },
    {
      "cell_type": "markdown",
      "source": [
        "### 2) 추천에 기여한 정도"
      ],
      "metadata": {
        "id": "nsDbh2YIZvd7"
      }
    },
    {
      "cell_type": "code",
      "source": [
        "Star = title_to_idx['Star Wars: Episode I - The Phantom Menace (1999)']\n",
        "explain = als_model.explain(user, csr_movies_data, itemid=Star)"
      ],
      "metadata": {
        "id": "NWRHwBCXY00y"
      },
      "execution_count": null,
      "outputs": []
    },
    {
      "cell_type": "code",
      "source": [
        "[(idx_to_title[i[0]], i[1]) for i in explain[1]]"
      ],
      "metadata": {
        "colab": {
          "base_uri": "https://localhost:8080/"
        },
        "id": "IkZvr-c3Y_G7",
        "outputId": "b1219fc5-a0b2-41c2-f41d-c538f9b02a11"
      },
      "execution_count": null,
      "outputs": [
        {
          "output_type": "execute_result",
          "data": {
            "text/plain": [
              "[('Men in Black (1997)', 0.3427401677942858),\n",
              " ('Sixth Sense, The (1999)', 0.1568054260789096),\n",
              " ('Matrix, The (1999)', 0.0919360241745576),\n",
              " ('Terminator, The (1984)', -0.020623971997046943),\n",
              " ('Toy Story (1995)', -0.02388756633066794)]"
            ]
          },
          "metadata": {},
          "execution_count": 41
        }
      ]
    },
    {
      "cell_type": "markdown",
      "source": [
        "- 스타워즈에 가장 많은 기여도를 준 영화는 Men in Black으로 확인되었다. \n",
        "  - 내가 선택한 5영화 중에 가장 좋아하던 영화가 Men in Black였는데 이게 내가 좋아하는 또 다른 영화인 스타워즈에 가장 많이 기여했다.\n",
        "  - 어느정도 정확도가 있는 추천시스템인 것 같다. "
      ],
      "metadata": {
        "id": "ZrRAN-HUZ0iv"
      }
    },
    {
      "cell_type": "markdown",
      "source": [
        "## 10. 회고\n",
        "- 시도한 것 \n",
        "  - 모델링에서 factors와 iterations의 값을 조정해가면서 과적합이 일어나지 않으면서 나의 기준으로 봤을 때 잘 추천한 모델을 찾아갔다. 총 4번의 시도를 정리해 놓았고 위에서 보듯이 4번째 시도가 가장 좋은 모델이었다.\n",
        "  - 데이터 프레임을 합칠 필요가 있다는 것을 확인하여 merge로 방법은 outer 기준은 movie_id로 데이터를 합쳤다.\n",
        "  - 그리고 결측치를 제거하였다.\n",
        "- 루브릭 기준에 맞추기 위해서 노력한 점\n",
        "  - CSR matrix가 사용자와 아이템 개수를 바탕으로 정확한 사이즈로 만들어진 것을 확인할 수가있다.\n",
        "  - 추천은 정성적인 기준으로 보았을 때는 실제로 내가 좋아하지만 선택하지 않은 스타워즈등을 위주로 추천 하고 있는 것으로 보아 잘 추천된 것을 확인할 수 있다. 그리고 정량적 기준으로 보았을 때도 과적합없이 의미 있게 백터의 내적 수치가 형성 되었다.\n",
        "  - 실제로 내가 좋아하는 영화의 타이틀을 넣었을 때 이와 유사한 영화가 출력되는 것을 확인할 수 있었고 기여도 또한 좋아하는 영화인 스타워즈를 기준으로 보았을 때 내가 좋아하는 맨인 블랙이라는 영화가 가장 높은 기여도를 보여주고 있다.\n",
        "- 공부해볼 것 \n",
        "   - csr_matrix를 만드는 방법 : https://docs.scipy.org/doc/scipy/reference/generated/scipy.sparse.csr_matrix.html\n",
        "   - 추천시스템 관련 논문 : http://yifanhu.net/PUB/cf.pdf\n",
        "   - MF 논문 : http://yifanhu.net/PUB/cf.pdf\n",
        "   - MF 관련 자료 :  https://developers.google.com/machine-learning/recommendation/collaborative/matrix\n",
        "   - 추천시스템-행렬인수분해 : https://towardsdatascience.com/recommendation-system-matrix-factorization-d61978660b4b\n"
      ],
      "metadata": {
        "id": "kA3XByBOgIKZ"
      }
    },
    {
      "cell_type": "markdown",
      "source": [
        "### 루브릭 기준\n",
        "1. CSR matrix가 정상적으로 만들어졌다.\n",
        "  - 사용자와 아이템 개수를 바탕으로 정확한 사이즈로 만들었다.\n",
        "\n",
        "2. MF 모델이 정상적으로 훈련되어 그럴듯한 추천이 이루어졌다.\n",
        "  - 사용자와 아이템 벡터 내적수치가 의미있게 형성되었다.\n",
        "\n",
        "3. 비슷한 영화 찾기와 유저에게 추천하기의 과정이 정상적으로 진행되었다.\n",
        "  - MF모델이 예측한 유저 선호도 및 아이템간 유사도, 기여도를 측정하고 의미를 분석해보았다."
      ],
      "metadata": {
        "id": "GkUpySu_mdBo"
      }
    }
  ]
}