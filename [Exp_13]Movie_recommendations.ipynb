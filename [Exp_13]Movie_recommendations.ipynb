{
  "nbformat": 4,
  "nbformat_minor": 0,
  "metadata": {
    "colab": {
      "provenance": [],
      "collapsed_sections": [],
      "machine_shape": "hm",
      "mount_file_id": "1kWQUPr64kAxK1ir1d1DK82Zn-Ov9zX5O",
      "authorship_tag": "ABX9TyNUN/B1CSUsZP4GSPQU7IgE",
      "include_colab_link": true
    },
    "kernelspec": {
      "name": "python3",
      "display_name": "Python 3"
    },
    "language_info": {
      "name": "python"
    },
    "accelerator": "GPU",
    "gpuClass": "standard",
    "widgets": {
      "application/vnd.jupyter.widget-state+json": {
        "abcb54dce5c040a2a76454b76fa032a9": {
          "model_module": "@jupyter-widgets/controls",
          "model_name": "HBoxModel",
          "model_module_version": "1.5.0",
          "state": {
            "_dom_classes": [],
            "_model_module": "@jupyter-widgets/controls",
            "_model_module_version": "1.5.0",
            "_model_name": "HBoxModel",
            "_view_count": null,
            "_view_module": "@jupyter-widgets/controls",
            "_view_module_version": "1.5.0",
            "_view_name": "HBoxView",
            "box_style": "",
            "children": [
              "IPY_MODEL_2baac57e80b44bbd868cbf50471c8daa",
              "IPY_MODEL_c3711fe0220e4388bfc720288b1666ed",
              "IPY_MODEL_841731ee0eb94e82b25a7b11ae7e494d"
            ],
            "layout": "IPY_MODEL_86dffb1716da47c78334ecced82cd344"
          }
        },
        "2baac57e80b44bbd868cbf50471c8daa": {
          "model_module": "@jupyter-widgets/controls",
          "model_name": "HTMLModel",
          "model_module_version": "1.5.0",
          "state": {
            "_dom_classes": [],
            "_model_module": "@jupyter-widgets/controls",
            "_model_module_version": "1.5.0",
            "_model_name": "HTMLModel",
            "_view_count": null,
            "_view_module": "@jupyter-widgets/controls",
            "_view_module_version": "1.5.0",
            "_view_name": "HTMLView",
            "description": "",
            "description_tooltip": null,
            "layout": "IPY_MODEL_387613dc4b144a84bfafc5cdf8411125",
            "placeholder": "​",
            "style": "IPY_MODEL_db7c138a81f54513b22c706c1ab86b5a",
            "value": "100%"
          }
        },
        "c3711fe0220e4388bfc720288b1666ed": {
          "model_module": "@jupyter-widgets/controls",
          "model_name": "FloatProgressModel",
          "model_module_version": "1.5.0",
          "state": {
            "_dom_classes": [],
            "_model_module": "@jupyter-widgets/controls",
            "_model_module_version": "1.5.0",
            "_model_name": "FloatProgressModel",
            "_view_count": null,
            "_view_module": "@jupyter-widgets/controls",
            "_view_module_version": "1.5.0",
            "_view_name": "ProgressView",
            "bar_style": "success",
            "description": "",
            "description_tooltip": null,
            "layout": "IPY_MODEL_2b0bda89678a48cca964ba219287e821",
            "max": 10,
            "min": 0,
            "orientation": "horizontal",
            "style": "IPY_MODEL_1f1f3995b8594004bc8b77cfa4fc3915",
            "value": 10
          }
        },
        "841731ee0eb94e82b25a7b11ae7e494d": {
          "model_module": "@jupyter-widgets/controls",
          "model_name": "HTMLModel",
          "model_module_version": "1.5.0",
          "state": {
            "_dom_classes": [],
            "_model_module": "@jupyter-widgets/controls",
            "_model_module_version": "1.5.0",
            "_model_name": "HTMLModel",
            "_view_count": null,
            "_view_module": "@jupyter-widgets/controls",
            "_view_module_version": "1.5.0",
            "_view_name": "HTMLView",
            "description": "",
            "description_tooltip": null,
            "layout": "IPY_MODEL_2f48920a8763480f8ede11caf4cbf889",
            "placeholder": "​",
            "style": "IPY_MODEL_2ce249379aa64338be8d4c9774e8851d",
            "value": " 10/10 [00:07&lt;00:00,  1.45it/s]"
          }
        },
        "86dffb1716da47c78334ecced82cd344": {
          "model_module": "@jupyter-widgets/base",
          "model_name": "LayoutModel",
          "model_module_version": "1.2.0",
          "state": {
            "_model_module": "@jupyter-widgets/base",
            "_model_module_version": "1.2.0",
            "_model_name": "LayoutModel",
            "_view_count": null,
            "_view_module": "@jupyter-widgets/base",
            "_view_module_version": "1.2.0",
            "_view_name": "LayoutView",
            "align_content": null,
            "align_items": null,
            "align_self": null,
            "border": null,
            "bottom": null,
            "display": null,
            "flex": null,
            "flex_flow": null,
            "grid_area": null,
            "grid_auto_columns": null,
            "grid_auto_flow": null,
            "grid_auto_rows": null,
            "grid_column": null,
            "grid_gap": null,
            "grid_row": null,
            "grid_template_areas": null,
            "grid_template_columns": null,
            "grid_template_rows": null,
            "height": null,
            "justify_content": null,
            "justify_items": null,
            "left": null,
            "margin": null,
            "max_height": null,
            "max_width": null,
            "min_height": null,
            "min_width": null,
            "object_fit": null,
            "object_position": null,
            "order": null,
            "overflow": null,
            "overflow_x": null,
            "overflow_y": null,
            "padding": null,
            "right": null,
            "top": null,
            "visibility": null,
            "width": null
          }
        },
        "387613dc4b144a84bfafc5cdf8411125": {
          "model_module": "@jupyter-widgets/base",
          "model_name": "LayoutModel",
          "model_module_version": "1.2.0",
          "state": {
            "_model_module": "@jupyter-widgets/base",
            "_model_module_version": "1.2.0",
            "_model_name": "LayoutModel",
            "_view_count": null,
            "_view_module": "@jupyter-widgets/base",
            "_view_module_version": "1.2.0",
            "_view_name": "LayoutView",
            "align_content": null,
            "align_items": null,
            "align_self": null,
            "border": null,
            "bottom": null,
            "display": null,
            "flex": null,
            "flex_flow": null,
            "grid_area": null,
            "grid_auto_columns": null,
            "grid_auto_flow": null,
            "grid_auto_rows": null,
            "grid_column": null,
            "grid_gap": null,
            "grid_row": null,
            "grid_template_areas": null,
            "grid_template_columns": null,
            "grid_template_rows": null,
            "height": null,
            "justify_content": null,
            "justify_items": null,
            "left": null,
            "margin": null,
            "max_height": null,
            "max_width": null,
            "min_height": null,
            "min_width": null,
            "object_fit": null,
            "object_position": null,
            "order": null,
            "overflow": null,
            "overflow_x": null,
            "overflow_y": null,
            "padding": null,
            "right": null,
            "top": null,
            "visibility": null,
            "width": null
          }
        },
        "db7c138a81f54513b22c706c1ab86b5a": {
          "model_module": "@jupyter-widgets/controls",
          "model_name": "DescriptionStyleModel",
          "model_module_version": "1.5.0",
          "state": {
            "_model_module": "@jupyter-widgets/controls",
            "_model_module_version": "1.5.0",
            "_model_name": "DescriptionStyleModel",
            "_view_count": null,
            "_view_module": "@jupyter-widgets/base",
            "_view_module_version": "1.2.0",
            "_view_name": "StyleView",
            "description_width": ""
          }
        },
        "2b0bda89678a48cca964ba219287e821": {
          "model_module": "@jupyter-widgets/base",
          "model_name": "LayoutModel",
          "model_module_version": "1.2.0",
          "state": {
            "_model_module": "@jupyter-widgets/base",
            "_model_module_version": "1.2.0",
            "_model_name": "LayoutModel",
            "_view_count": null,
            "_view_module": "@jupyter-widgets/base",
            "_view_module_version": "1.2.0",
            "_view_name": "LayoutView",
            "align_content": null,
            "align_items": null,
            "align_self": null,
            "border": null,
            "bottom": null,
            "display": null,
            "flex": null,
            "flex_flow": null,
            "grid_area": null,
            "grid_auto_columns": null,
            "grid_auto_flow": null,
            "grid_auto_rows": null,
            "grid_column": null,
            "grid_gap": null,
            "grid_row": null,
            "grid_template_areas": null,
            "grid_template_columns": null,
            "grid_template_rows": null,
            "height": null,
            "justify_content": null,
            "justify_items": null,
            "left": null,
            "margin": null,
            "max_height": null,
            "max_width": null,
            "min_height": null,
            "min_width": null,
            "object_fit": null,
            "object_position": null,
            "order": null,
            "overflow": null,
            "overflow_x": null,
            "overflow_y": null,
            "padding": null,
            "right": null,
            "top": null,
            "visibility": null,
            "width": null
          }
        },
        "1f1f3995b8594004bc8b77cfa4fc3915": {
          "model_module": "@jupyter-widgets/controls",
          "model_name": "ProgressStyleModel",
          "model_module_version": "1.5.0",
          "state": {
            "_model_module": "@jupyter-widgets/controls",
            "_model_module_version": "1.5.0",
            "_model_name": "ProgressStyleModel",
            "_view_count": null,
            "_view_module": "@jupyter-widgets/base",
            "_view_module_version": "1.2.0",
            "_view_name": "StyleView",
            "bar_color": null,
            "description_width": ""
          }
        },
        "2f48920a8763480f8ede11caf4cbf889": {
          "model_module": "@jupyter-widgets/base",
          "model_name": "LayoutModel",
          "model_module_version": "1.2.0",
          "state": {
            "_model_module": "@jupyter-widgets/base",
            "_model_module_version": "1.2.0",
            "_model_name": "LayoutModel",
            "_view_count": null,
            "_view_module": "@jupyter-widgets/base",
            "_view_module_version": "1.2.0",
            "_view_name": "LayoutView",
            "align_content": null,
            "align_items": null,
            "align_self": null,
            "border": null,
            "bottom": null,
            "display": null,
            "flex": null,
            "flex_flow": null,
            "grid_area": null,
            "grid_auto_columns": null,
            "grid_auto_flow": null,
            "grid_auto_rows": null,
            "grid_column": null,
            "grid_gap": null,
            "grid_row": null,
            "grid_template_areas": null,
            "grid_template_columns": null,
            "grid_template_rows": null,
            "height": null,
            "justify_content": null,
            "justify_items": null,
            "left": null,
            "margin": null,
            "max_height": null,
            "max_width": null,
            "min_height": null,
            "min_width": null,
            "object_fit": null,
            "object_position": null,
            "order": null,
            "overflow": null,
            "overflow_x": null,
            "overflow_y": null,
            "padding": null,
            "right": null,
            "top": null,
            "visibility": null,
            "width": null
          }
        },
        "2ce249379aa64338be8d4c9774e8851d": {
          "model_module": "@jupyter-widgets/controls",
          "model_name": "DescriptionStyleModel",
          "model_module_version": "1.5.0",
          "state": {
            "_model_module": "@jupyter-widgets/controls",
            "_model_module_version": "1.5.0",
            "_model_name": "DescriptionStyleModel",
            "_view_count": null,
            "_view_module": "@jupyter-widgets/base",
            "_view_module_version": "1.2.0",
            "_view_name": "StyleView",
            "description_width": ""
          }
        }
      }
    }
  },
  "cells": [
    {
      "cell_type": "markdown",
      "metadata": {
        "id": "view-in-github",
        "colab_type": "text"
      },
      "source": [
        "<a href=\"https://colab.research.google.com/github/jx-dohwan/Aiffel_EGLMS_Project/blob/main/%5BExp_13%5DMovie_recommendations.ipynb\" target=\"_parent\"><img src=\"https://colab.research.google.com/assets/colab-badge.svg\" alt=\"Open In Colab\"/></a>"
      ]
    },
    {
      "cell_type": "markdown",
      "source": [
        "# [Exp_13]Movie recommendations"
      ],
      "metadata": {
        "id": "-ANyD4-1jDaO"
      }
    },
    {
      "cell_type": "markdown",
      "source": [
        "이전 스텝에서 배운 MF 모델 학습 방법을 토대로, 내가 좋아할 만한 영화 추천 시스템을 제작해 보겠습니다.\n",
        "\n",
        "이번에 활용할 데이터셋은 추천 시스템의 MNIST라고 부를만한 Movielens 데이터입니다.\n",
        "\n",
        "- 유저가 영화에 대해 평점을 매긴 데이터가 데이터 크기 별로 있습니다. MovieLens 1M Dataset 사용을 권장합니다.\n",
        "- 별점 데이터는 대표적인 explicit 데이터입니다. 하지만 implicit 데이터로 간주하고 테스트해 볼 수 있습니다.\n",
        "- 별점을 시청횟수로 해석해서 생각하겠습니다.\n",
        "- 또한 유저가 3점 미만으로 준 데이터는 선호하지 않는다고 가정하고 제외하겠습니다.\n",
        "\n",
        "Cloud Storage에 미리 업로드된 ml-1m폴더 내 파일을 심볼릭 링크로 개인 storage에 연결해 줍니다."
      ],
      "metadata": {
        "id": "RyGTbNr2hwZ0"
      }
    },
    {
      "cell_type": "markdown",
      "source": [
        "## 1. Import 및 라이브러리 다운로드"
      ],
      "metadata": {
        "id": "hoMkaANZfLR7"
      }
    },
    {
      "cell_type": "code",
      "source": [
        "! pip install implicit"
      ],
      "metadata": {
        "colab": {
          "base_uri": "https://localhost:8080/"
        },
        "id": "hJAZj-g3X1mw",
        "outputId": "6ce39912-63b1-47cf-c5a8-4011c9ccc31c"
      },
      "execution_count": 1,
      "outputs": [
        {
          "output_type": "stream",
          "name": "stdout",
          "text": [
            "Looking in indexes: https://pypi.org/simple, https://us-python.pkg.dev/colab-wheels/public/simple/\n",
            "Requirement already satisfied: implicit in /usr/local/lib/python3.7/dist-packages (0.6.1)\n",
            "Requirement already satisfied: numpy in /usr/local/lib/python3.7/dist-packages (from implicit) (1.21.6)\n",
            "Requirement already satisfied: tqdm>=4.27 in /usr/local/lib/python3.7/dist-packages (from implicit) (4.64.0)\n",
            "Requirement already satisfied: scipy>=0.16 in /usr/local/lib/python3.7/dist-packages (from implicit) (1.7.3)\n"
          ]
        }
      ]
    },
    {
      "cell_type": "code",
      "execution_count": 2,
      "metadata": {
        "id": "T9LSb8N6UvJK"
      },
      "outputs": [],
      "source": [
        "import numpy as np\n",
        "import scipy\n",
        "import implicit\n",
        "import pandas as pd"
      ]
    },
    {
      "cell_type": "markdown",
      "source": [
        "## 2. 데이터 준비와 전처리"
      ],
      "metadata": {
        "id": "DXlyeaAufPUF"
      }
    },
    {
      "cell_type": "markdown",
      "source": [
        "### 1) 데이터 불러오기 및 ratings 3점 이상만 남기기"
      ],
      "metadata": {
        "id": "womEGGi3kV8j"
      }
    },
    {
      "cell_type": "code",
      "source": [
        "rating_file_path = '/content/drive/MyDrive/인공지능/아이펠/ES/data/ml-1m/ratings.dat'\n",
        "ratings_cols = ['user_id', 'movie_id', 'ratings', 'timestamp']\n",
        "ratings = pd.read_csv(rating_file_path, sep='::', names=ratings_cols, engine='python', encoding = \"ISO-8859-1\")\n",
        "orginal_data_size = len(ratings)\n",
        "ratings.head()"
      ],
      "metadata": {
        "colab": {
          "base_uri": "https://localhost:8080/",
          "height": 206
        },
        "id": "fs54FL_uX1J1",
        "outputId": "b80f457d-a1b2-44ee-a25c-6c2120ee2bcd"
      },
      "execution_count": 3,
      "outputs": [
        {
          "output_type": "execute_result",
          "data": {
            "text/plain": [
              "   user_id  movie_id  ratings  timestamp\n",
              "0        1      1193        5  978300760\n",
              "1        1       661        3  978302109\n",
              "2        1       914        3  978301968\n",
              "3        1      3408        4  978300275\n",
              "4        1      2355        5  978824291"
            ],
            "text/html": [
              "\n",
              "  <div id=\"df-5dd69213-ead4-4bd9-b2c6-49468328770d\">\n",
              "    <div class=\"colab-df-container\">\n",
              "      <div>\n",
              "<style scoped>\n",
              "    .dataframe tbody tr th:only-of-type {\n",
              "        vertical-align: middle;\n",
              "    }\n",
              "\n",
              "    .dataframe tbody tr th {\n",
              "        vertical-align: top;\n",
              "    }\n",
              "\n",
              "    .dataframe thead th {\n",
              "        text-align: right;\n",
              "    }\n",
              "</style>\n",
              "<table border=\"1\" class=\"dataframe\">\n",
              "  <thead>\n",
              "    <tr style=\"text-align: right;\">\n",
              "      <th></th>\n",
              "      <th>user_id</th>\n",
              "      <th>movie_id</th>\n",
              "      <th>ratings</th>\n",
              "      <th>timestamp</th>\n",
              "    </tr>\n",
              "  </thead>\n",
              "  <tbody>\n",
              "    <tr>\n",
              "      <th>0</th>\n",
              "      <td>1</td>\n",
              "      <td>1193</td>\n",
              "      <td>5</td>\n",
              "      <td>978300760</td>\n",
              "    </tr>\n",
              "    <tr>\n",
              "      <th>1</th>\n",
              "      <td>1</td>\n",
              "      <td>661</td>\n",
              "      <td>3</td>\n",
              "      <td>978302109</td>\n",
              "    </tr>\n",
              "    <tr>\n",
              "      <th>2</th>\n",
              "      <td>1</td>\n",
              "      <td>914</td>\n",
              "      <td>3</td>\n",
              "      <td>978301968</td>\n",
              "    </tr>\n",
              "    <tr>\n",
              "      <th>3</th>\n",
              "      <td>1</td>\n",
              "      <td>3408</td>\n",
              "      <td>4</td>\n",
              "      <td>978300275</td>\n",
              "    </tr>\n",
              "    <tr>\n",
              "      <th>4</th>\n",
              "      <td>1</td>\n",
              "      <td>2355</td>\n",
              "      <td>5</td>\n",
              "      <td>978824291</td>\n",
              "    </tr>\n",
              "  </tbody>\n",
              "</table>\n",
              "</div>\n",
              "      <button class=\"colab-df-convert\" onclick=\"convertToInteractive('df-5dd69213-ead4-4bd9-b2c6-49468328770d')\"\n",
              "              title=\"Convert this dataframe to an interactive table.\"\n",
              "              style=\"display:none;\">\n",
              "        \n",
              "  <svg xmlns=\"http://www.w3.org/2000/svg\" height=\"24px\"viewBox=\"0 0 24 24\"\n",
              "       width=\"24px\">\n",
              "    <path d=\"M0 0h24v24H0V0z\" fill=\"none\"/>\n",
              "    <path d=\"M18.56 5.44l.94 2.06.94-2.06 2.06-.94-2.06-.94-.94-2.06-.94 2.06-2.06.94zm-11 1L8.5 8.5l.94-2.06 2.06-.94-2.06-.94L8.5 2.5l-.94 2.06-2.06.94zm10 10l.94 2.06.94-2.06 2.06-.94-2.06-.94-.94-2.06-.94 2.06-2.06.94z\"/><path d=\"M17.41 7.96l-1.37-1.37c-.4-.4-.92-.59-1.43-.59-.52 0-1.04.2-1.43.59L10.3 9.45l-7.72 7.72c-.78.78-.78 2.05 0 2.83L4 21.41c.39.39.9.59 1.41.59.51 0 1.02-.2 1.41-.59l7.78-7.78 2.81-2.81c.8-.78.8-2.07 0-2.86zM5.41 20L4 18.59l7.72-7.72 1.47 1.35L5.41 20z\"/>\n",
              "  </svg>\n",
              "      </button>\n",
              "      \n",
              "  <style>\n",
              "    .colab-df-container {\n",
              "      display:flex;\n",
              "      flex-wrap:wrap;\n",
              "      gap: 12px;\n",
              "    }\n",
              "\n",
              "    .colab-df-convert {\n",
              "      background-color: #E8F0FE;\n",
              "      border: none;\n",
              "      border-radius: 50%;\n",
              "      cursor: pointer;\n",
              "      display: none;\n",
              "      fill: #1967D2;\n",
              "      height: 32px;\n",
              "      padding: 0 0 0 0;\n",
              "      width: 32px;\n",
              "    }\n",
              "\n",
              "    .colab-df-convert:hover {\n",
              "      background-color: #E2EBFA;\n",
              "      box-shadow: 0px 1px 2px rgba(60, 64, 67, 0.3), 0px 1px 3px 1px rgba(60, 64, 67, 0.15);\n",
              "      fill: #174EA6;\n",
              "    }\n",
              "\n",
              "    [theme=dark] .colab-df-convert {\n",
              "      background-color: #3B4455;\n",
              "      fill: #D2E3FC;\n",
              "    }\n",
              "\n",
              "    [theme=dark] .colab-df-convert:hover {\n",
              "      background-color: #434B5C;\n",
              "      box-shadow: 0px 1px 3px 1px rgba(0, 0, 0, 0.15);\n",
              "      filter: drop-shadow(0px 1px 2px rgba(0, 0, 0, 0.3));\n",
              "      fill: #FFFFFF;\n",
              "    }\n",
              "  </style>\n",
              "\n",
              "      <script>\n",
              "        const buttonEl =\n",
              "          document.querySelector('#df-5dd69213-ead4-4bd9-b2c6-49468328770d button.colab-df-convert');\n",
              "        buttonEl.style.display =\n",
              "          google.colab.kernel.accessAllowed ? 'block' : 'none';\n",
              "\n",
              "        async function convertToInteractive(key) {\n",
              "          const element = document.querySelector('#df-5dd69213-ead4-4bd9-b2c6-49468328770d');\n",
              "          const dataTable =\n",
              "            await google.colab.kernel.invokeFunction('convertToInteractive',\n",
              "                                                     [key], {});\n",
              "          if (!dataTable) return;\n",
              "\n",
              "          const docLinkHtml = 'Like what you see? Visit the ' +\n",
              "            '<a target=\"_blank\" href=https://colab.research.google.com/notebooks/data_table.ipynb>data table notebook</a>'\n",
              "            + ' to learn more about interactive tables.';\n",
              "          element.innerHTML = '';\n",
              "          dataTable['output_type'] = 'display_data';\n",
              "          await google.colab.output.renderOutput(dataTable, element);\n",
              "          const docLink = document.createElement('div');\n",
              "          docLink.innerHTML = docLinkHtml;\n",
              "          element.appendChild(docLink);\n",
              "        }\n",
              "      </script>\n",
              "    </div>\n",
              "  </div>\n",
              "  "
            ]
          },
          "metadata": {},
          "execution_count": 3
        }
      ]
    },
    {
      "cell_type": "code",
      "source": [
        "# 3점 이상만 남깁니다.\n",
        "ratings = ratings[ratings['ratings']>=3]\n",
        "filtered_data_size = len(ratings)\n",
        "\n",
        "print(f'orginal_data_size: {orginal_data_size}, filtered_data_size: {filtered_data_size}')\n",
        "print(f'Ratio of Remaining Data is {filtered_data_size / orginal_data_size:.2%}')"
      ],
      "metadata": {
        "colab": {
          "base_uri": "https://localhost:8080/"
        },
        "id": "034sedQDY7Ry",
        "outputId": "3730736e-4d30-4e1f-c01e-c562b58244d5"
      },
      "execution_count": 4,
      "outputs": [
        {
          "output_type": "stream",
          "name": "stdout",
          "text": [
            "orginal_data_size: 1000209, filtered_data_size: 836478\n",
            "Ratio of Remaining Data is 83.63%\n"
          ]
        }
      ]
    },
    {
      "cell_type": "code",
      "source": [
        "# ratings 컬럼의 이름을 counts로 바꿉니다.\n",
        "ratings.rename(columns={'ratings':'counts'}, inplace=True)"
      ],
      "metadata": {
        "id": "OVGC5i2UY91Z"
      },
      "execution_count": 5,
      "outputs": []
    },
    {
      "cell_type": "code",
      "source": [
        "ratings['counts']"
      ],
      "metadata": {
        "colab": {
          "base_uri": "https://localhost:8080/"
        },
        "id": "7s4xDY6mY_ix",
        "outputId": "0e325320-0ca7-4deb-9790-b26fb3a1a126"
      },
      "execution_count": 6,
      "outputs": [
        {
          "output_type": "execute_result",
          "data": {
            "text/plain": [
              "0          5\n",
              "1          3\n",
              "2          3\n",
              "3          4\n",
              "4          5\n",
              "          ..\n",
              "1000203    3\n",
              "1000205    5\n",
              "1000206    5\n",
              "1000207    4\n",
              "1000208    4\n",
              "Name: counts, Length: 836478, dtype: int64"
            ]
          },
          "metadata": {},
          "execution_count": 6
        }
      ]
    },
    {
      "cell_type": "code",
      "source": [
        "movie_file_path= '/content/drive/MyDrive/인공지능/아이펠/ES/data/ml-1m/movies.dat'\n",
        "cols = ['movie_id', 'title', 'genre'] \n",
        "movies = pd.read_csv(movie_file_path, sep='::', names=cols, engine='python', encoding='ISO-8859-1')\n",
        "movies.head()"
      ],
      "metadata": {
        "colab": {
          "base_uri": "https://localhost:8080/",
          "height": 206
        },
        "id": "lWQZb147ZAtp",
        "outputId": "b0d37715-a810-4472-f591-07553591eac6"
      },
      "execution_count": 7,
      "outputs": [
        {
          "output_type": "execute_result",
          "data": {
            "text/plain": [
              "   movie_id                               title                         genre\n",
              "0         1                    Toy Story (1995)   Animation|Children's|Comedy\n",
              "1         2                      Jumanji (1995)  Adventure|Children's|Fantasy\n",
              "2         3             Grumpier Old Men (1995)                Comedy|Romance\n",
              "3         4            Waiting to Exhale (1995)                  Comedy|Drama\n",
              "4         5  Father of the Bride Part II (1995)                        Comedy"
            ],
            "text/html": [
              "\n",
              "  <div id=\"df-49f01c00-f9a3-49e8-a00c-78ddcaba7209\">\n",
              "    <div class=\"colab-df-container\">\n",
              "      <div>\n",
              "<style scoped>\n",
              "    .dataframe tbody tr th:only-of-type {\n",
              "        vertical-align: middle;\n",
              "    }\n",
              "\n",
              "    .dataframe tbody tr th {\n",
              "        vertical-align: top;\n",
              "    }\n",
              "\n",
              "    .dataframe thead th {\n",
              "        text-align: right;\n",
              "    }\n",
              "</style>\n",
              "<table border=\"1\" class=\"dataframe\">\n",
              "  <thead>\n",
              "    <tr style=\"text-align: right;\">\n",
              "      <th></th>\n",
              "      <th>movie_id</th>\n",
              "      <th>title</th>\n",
              "      <th>genre</th>\n",
              "    </tr>\n",
              "  </thead>\n",
              "  <tbody>\n",
              "    <tr>\n",
              "      <th>0</th>\n",
              "      <td>1</td>\n",
              "      <td>Toy Story (1995)</td>\n",
              "      <td>Animation|Children's|Comedy</td>\n",
              "    </tr>\n",
              "    <tr>\n",
              "      <th>1</th>\n",
              "      <td>2</td>\n",
              "      <td>Jumanji (1995)</td>\n",
              "      <td>Adventure|Children's|Fantasy</td>\n",
              "    </tr>\n",
              "    <tr>\n",
              "      <th>2</th>\n",
              "      <td>3</td>\n",
              "      <td>Grumpier Old Men (1995)</td>\n",
              "      <td>Comedy|Romance</td>\n",
              "    </tr>\n",
              "    <tr>\n",
              "      <th>3</th>\n",
              "      <td>4</td>\n",
              "      <td>Waiting to Exhale (1995)</td>\n",
              "      <td>Comedy|Drama</td>\n",
              "    </tr>\n",
              "    <tr>\n",
              "      <th>4</th>\n",
              "      <td>5</td>\n",
              "      <td>Father of the Bride Part II (1995)</td>\n",
              "      <td>Comedy</td>\n",
              "    </tr>\n",
              "  </tbody>\n",
              "</table>\n",
              "</div>\n",
              "      <button class=\"colab-df-convert\" onclick=\"convertToInteractive('df-49f01c00-f9a3-49e8-a00c-78ddcaba7209')\"\n",
              "              title=\"Convert this dataframe to an interactive table.\"\n",
              "              style=\"display:none;\">\n",
              "        \n",
              "  <svg xmlns=\"http://www.w3.org/2000/svg\" height=\"24px\"viewBox=\"0 0 24 24\"\n",
              "       width=\"24px\">\n",
              "    <path d=\"M0 0h24v24H0V0z\" fill=\"none\"/>\n",
              "    <path d=\"M18.56 5.44l.94 2.06.94-2.06 2.06-.94-2.06-.94-.94-2.06-.94 2.06-2.06.94zm-11 1L8.5 8.5l.94-2.06 2.06-.94-2.06-.94L8.5 2.5l-.94 2.06-2.06.94zm10 10l.94 2.06.94-2.06 2.06-.94-2.06-.94-.94-2.06-.94 2.06-2.06.94z\"/><path d=\"M17.41 7.96l-1.37-1.37c-.4-.4-.92-.59-1.43-.59-.52 0-1.04.2-1.43.59L10.3 9.45l-7.72 7.72c-.78.78-.78 2.05 0 2.83L4 21.41c.39.39.9.59 1.41.59.51 0 1.02-.2 1.41-.59l7.78-7.78 2.81-2.81c.8-.78.8-2.07 0-2.86zM5.41 20L4 18.59l7.72-7.72 1.47 1.35L5.41 20z\"/>\n",
              "  </svg>\n",
              "      </button>\n",
              "      \n",
              "  <style>\n",
              "    .colab-df-container {\n",
              "      display:flex;\n",
              "      flex-wrap:wrap;\n",
              "      gap: 12px;\n",
              "    }\n",
              "\n",
              "    .colab-df-convert {\n",
              "      background-color: #E8F0FE;\n",
              "      border: none;\n",
              "      border-radius: 50%;\n",
              "      cursor: pointer;\n",
              "      display: none;\n",
              "      fill: #1967D2;\n",
              "      height: 32px;\n",
              "      padding: 0 0 0 0;\n",
              "      width: 32px;\n",
              "    }\n",
              "\n",
              "    .colab-df-convert:hover {\n",
              "      background-color: #E2EBFA;\n",
              "      box-shadow: 0px 1px 2px rgba(60, 64, 67, 0.3), 0px 1px 3px 1px rgba(60, 64, 67, 0.15);\n",
              "      fill: #174EA6;\n",
              "    }\n",
              "\n",
              "    [theme=dark] .colab-df-convert {\n",
              "      background-color: #3B4455;\n",
              "      fill: #D2E3FC;\n",
              "    }\n",
              "\n",
              "    [theme=dark] .colab-df-convert:hover {\n",
              "      background-color: #434B5C;\n",
              "      box-shadow: 0px 1px 3px 1px rgba(0, 0, 0, 0.15);\n",
              "      filter: drop-shadow(0px 1px 2px rgba(0, 0, 0, 0.3));\n",
              "      fill: #FFFFFF;\n",
              "    }\n",
              "  </style>\n",
              "\n",
              "      <script>\n",
              "        const buttonEl =\n",
              "          document.querySelector('#df-49f01c00-f9a3-49e8-a00c-78ddcaba7209 button.colab-df-convert');\n",
              "        buttonEl.style.display =\n",
              "          google.colab.kernel.accessAllowed ? 'block' : 'none';\n",
              "\n",
              "        async function convertToInteractive(key) {\n",
              "          const element = document.querySelector('#df-49f01c00-f9a3-49e8-a00c-78ddcaba7209');\n",
              "          const dataTable =\n",
              "            await google.colab.kernel.invokeFunction('convertToInteractive',\n",
              "                                                     [key], {});\n",
              "          if (!dataTable) return;\n",
              "\n",
              "          const docLinkHtml = 'Like what you see? Visit the ' +\n",
              "            '<a target=\"_blank\" href=https://colab.research.google.com/notebooks/data_table.ipynb>data table notebook</a>'\n",
              "            + ' to learn more about interactive tables.';\n",
              "          element.innerHTML = '';\n",
              "          dataTable['output_type'] = 'display_data';\n",
              "          await google.colab.output.renderOutput(dataTable, element);\n",
              "          const docLink = document.createElement('div');\n",
              "          docLink.innerHTML = docLinkHtml;\n",
              "          element.appendChild(docLink);\n",
              "        }\n",
              "      </script>\n",
              "    </div>\n",
              "  </div>\n",
              "  "
            ]
          },
          "metadata": {},
          "execution_count": 7
        }
      ]
    },
    {
      "cell_type": "markdown",
      "source": [
        "### 2) 데이터 프레임 합치기\n",
        "- https://yganalyst.github.io/data_handling/Pd_12/\n",
        "  - 데이터에 존재하는 고유값을 기준으로 병합하는 merge() 사용\n",
        "    - 기준은 둘다 공통으로 있는 movie_id로 지정하여 병합\n",
        "    - how는 outter로 주어 어느 한쪽에라도 없는 데이터가 있는 경우 NaN값이 지정되게 함"
      ],
      "metadata": {
        "id": "dYCA_T1YlB3v"
      }
    },
    {
      "cell_type": "code",
      "source": [
        "movies_data = pd.merge(ratings, movies, how='outer', on='movie_id' )\n",
        "movies_data.drop(columns=['timestamp','genre'], axis=1, inplace=True)"
      ],
      "metadata": {
        "id": "3QhWHWAjkj_i"
      },
      "execution_count": 8,
      "outputs": []
    },
    {
      "cell_type": "code",
      "source": [
        "movies_data"
      ],
      "metadata": {
        "colab": {
          "base_uri": "https://localhost:8080/",
          "height": 424
        },
        "id": "iuMzvlCGnLyv",
        "outputId": "b1772a06-166e-48b2-bdfe-83bc77419215"
      },
      "execution_count": 9,
      "outputs": [
        {
          "output_type": "execute_result",
          "data": {
            "text/plain": [
              "        user_id  movie_id  counts                                   title\n",
              "0           1.0      1193     5.0  One Flew Over the Cuckoo's Nest (1975)\n",
              "1           2.0      1193     5.0  One Flew Over the Cuckoo's Nest (1975)\n",
              "2          12.0      1193     4.0  One Flew Over the Cuckoo's Nest (1975)\n",
              "3          15.0      1193     4.0  One Flew Over the Cuckoo's Nest (1975)\n",
              "4          17.0      1193     5.0  One Flew Over the Cuckoo's Nest (1975)\n",
              "...         ...       ...     ...                                     ...\n",
              "836728      NaN      3829     NaN                  Mad About Mambo (2000)\n",
              "836729      NaN      3856     NaN                     Autumn Heart (1999)\n",
              "836730      NaN      3891     NaN                       Turn It Up (2000)\n",
              "836731      NaN      3904     NaN              Uninvited Guest, An (2000)\n",
              "836732      NaN      3907     NaN      Prince of Central Park, The (1999)\n",
              "\n",
              "[836733 rows x 4 columns]"
            ],
            "text/html": [
              "\n",
              "  <div id=\"df-e8fb15d1-aa41-4fed-9511-bdd8649876fc\">\n",
              "    <div class=\"colab-df-container\">\n",
              "      <div>\n",
              "<style scoped>\n",
              "    .dataframe tbody tr th:only-of-type {\n",
              "        vertical-align: middle;\n",
              "    }\n",
              "\n",
              "    .dataframe tbody tr th {\n",
              "        vertical-align: top;\n",
              "    }\n",
              "\n",
              "    .dataframe thead th {\n",
              "        text-align: right;\n",
              "    }\n",
              "</style>\n",
              "<table border=\"1\" class=\"dataframe\">\n",
              "  <thead>\n",
              "    <tr style=\"text-align: right;\">\n",
              "      <th></th>\n",
              "      <th>user_id</th>\n",
              "      <th>movie_id</th>\n",
              "      <th>counts</th>\n",
              "      <th>title</th>\n",
              "    </tr>\n",
              "  </thead>\n",
              "  <tbody>\n",
              "    <tr>\n",
              "      <th>0</th>\n",
              "      <td>1.0</td>\n",
              "      <td>1193</td>\n",
              "      <td>5.0</td>\n",
              "      <td>One Flew Over the Cuckoo's Nest (1975)</td>\n",
              "    </tr>\n",
              "    <tr>\n",
              "      <th>1</th>\n",
              "      <td>2.0</td>\n",
              "      <td>1193</td>\n",
              "      <td>5.0</td>\n",
              "      <td>One Flew Over the Cuckoo's Nest (1975)</td>\n",
              "    </tr>\n",
              "    <tr>\n",
              "      <th>2</th>\n",
              "      <td>12.0</td>\n",
              "      <td>1193</td>\n",
              "      <td>4.0</td>\n",
              "      <td>One Flew Over the Cuckoo's Nest (1975)</td>\n",
              "    </tr>\n",
              "    <tr>\n",
              "      <th>3</th>\n",
              "      <td>15.0</td>\n",
              "      <td>1193</td>\n",
              "      <td>4.0</td>\n",
              "      <td>One Flew Over the Cuckoo's Nest (1975)</td>\n",
              "    </tr>\n",
              "    <tr>\n",
              "      <th>4</th>\n",
              "      <td>17.0</td>\n",
              "      <td>1193</td>\n",
              "      <td>5.0</td>\n",
              "      <td>One Flew Over the Cuckoo's Nest (1975)</td>\n",
              "    </tr>\n",
              "    <tr>\n",
              "      <th>...</th>\n",
              "      <td>...</td>\n",
              "      <td>...</td>\n",
              "      <td>...</td>\n",
              "      <td>...</td>\n",
              "    </tr>\n",
              "    <tr>\n",
              "      <th>836728</th>\n",
              "      <td>NaN</td>\n",
              "      <td>3829</td>\n",
              "      <td>NaN</td>\n",
              "      <td>Mad About Mambo (2000)</td>\n",
              "    </tr>\n",
              "    <tr>\n",
              "      <th>836729</th>\n",
              "      <td>NaN</td>\n",
              "      <td>3856</td>\n",
              "      <td>NaN</td>\n",
              "      <td>Autumn Heart (1999)</td>\n",
              "    </tr>\n",
              "    <tr>\n",
              "      <th>836730</th>\n",
              "      <td>NaN</td>\n",
              "      <td>3891</td>\n",
              "      <td>NaN</td>\n",
              "      <td>Turn It Up (2000)</td>\n",
              "    </tr>\n",
              "    <tr>\n",
              "      <th>836731</th>\n",
              "      <td>NaN</td>\n",
              "      <td>3904</td>\n",
              "      <td>NaN</td>\n",
              "      <td>Uninvited Guest, An (2000)</td>\n",
              "    </tr>\n",
              "    <tr>\n",
              "      <th>836732</th>\n",
              "      <td>NaN</td>\n",
              "      <td>3907</td>\n",
              "      <td>NaN</td>\n",
              "      <td>Prince of Central Park, The (1999)</td>\n",
              "    </tr>\n",
              "  </tbody>\n",
              "</table>\n",
              "<p>836733 rows × 4 columns</p>\n",
              "</div>\n",
              "      <button class=\"colab-df-convert\" onclick=\"convertToInteractive('df-e8fb15d1-aa41-4fed-9511-bdd8649876fc')\"\n",
              "              title=\"Convert this dataframe to an interactive table.\"\n",
              "              style=\"display:none;\">\n",
              "        \n",
              "  <svg xmlns=\"http://www.w3.org/2000/svg\" height=\"24px\"viewBox=\"0 0 24 24\"\n",
              "       width=\"24px\">\n",
              "    <path d=\"M0 0h24v24H0V0z\" fill=\"none\"/>\n",
              "    <path d=\"M18.56 5.44l.94 2.06.94-2.06 2.06-.94-2.06-.94-.94-2.06-.94 2.06-2.06.94zm-11 1L8.5 8.5l.94-2.06 2.06-.94-2.06-.94L8.5 2.5l-.94 2.06-2.06.94zm10 10l.94 2.06.94-2.06 2.06-.94-2.06-.94-.94-2.06-.94 2.06-2.06.94z\"/><path d=\"M17.41 7.96l-1.37-1.37c-.4-.4-.92-.59-1.43-.59-.52 0-1.04.2-1.43.59L10.3 9.45l-7.72 7.72c-.78.78-.78 2.05 0 2.83L4 21.41c.39.39.9.59 1.41.59.51 0 1.02-.2 1.41-.59l7.78-7.78 2.81-2.81c.8-.78.8-2.07 0-2.86zM5.41 20L4 18.59l7.72-7.72 1.47 1.35L5.41 20z\"/>\n",
              "  </svg>\n",
              "      </button>\n",
              "      \n",
              "  <style>\n",
              "    .colab-df-container {\n",
              "      display:flex;\n",
              "      flex-wrap:wrap;\n",
              "      gap: 12px;\n",
              "    }\n",
              "\n",
              "    .colab-df-convert {\n",
              "      background-color: #E8F0FE;\n",
              "      border: none;\n",
              "      border-radius: 50%;\n",
              "      cursor: pointer;\n",
              "      display: none;\n",
              "      fill: #1967D2;\n",
              "      height: 32px;\n",
              "      padding: 0 0 0 0;\n",
              "      width: 32px;\n",
              "    }\n",
              "\n",
              "    .colab-df-convert:hover {\n",
              "      background-color: #E2EBFA;\n",
              "      box-shadow: 0px 1px 2px rgba(60, 64, 67, 0.3), 0px 1px 3px 1px rgba(60, 64, 67, 0.15);\n",
              "      fill: #174EA6;\n",
              "    }\n",
              "\n",
              "    [theme=dark] .colab-df-convert {\n",
              "      background-color: #3B4455;\n",
              "      fill: #D2E3FC;\n",
              "    }\n",
              "\n",
              "    [theme=dark] .colab-df-convert:hover {\n",
              "      background-color: #434B5C;\n",
              "      box-shadow: 0px 1px 3px 1px rgba(0, 0, 0, 0.15);\n",
              "      filter: drop-shadow(0px 1px 2px rgba(0, 0, 0, 0.3));\n",
              "      fill: #FFFFFF;\n",
              "    }\n",
              "  </style>\n",
              "\n",
              "      <script>\n",
              "        const buttonEl =\n",
              "          document.querySelector('#df-e8fb15d1-aa41-4fed-9511-bdd8649876fc button.colab-df-convert');\n",
              "        buttonEl.style.display =\n",
              "          google.colab.kernel.accessAllowed ? 'block' : 'none';\n",
              "\n",
              "        async function convertToInteractive(key) {\n",
              "          const element = document.querySelector('#df-e8fb15d1-aa41-4fed-9511-bdd8649876fc');\n",
              "          const dataTable =\n",
              "            await google.colab.kernel.invokeFunction('convertToInteractive',\n",
              "                                                     [key], {});\n",
              "          if (!dataTable) return;\n",
              "\n",
              "          const docLinkHtml = 'Like what you see? Visit the ' +\n",
              "            '<a target=\"_blank\" href=https://colab.research.google.com/notebooks/data_table.ipynb>data table notebook</a>'\n",
              "            + ' to learn more about interactive tables.';\n",
              "          element.innerHTML = '';\n",
              "          dataTable['output_type'] = 'display_data';\n",
              "          await google.colab.output.renderOutput(dataTable, element);\n",
              "          const docLink = document.createElement('div');\n",
              "          docLink.innerHTML = docLinkHtml;\n",
              "          element.appendChild(docLink);\n",
              "        }\n",
              "      </script>\n",
              "    </div>\n",
              "  </div>\n",
              "  "
            ]
          },
          "metadata": {},
          "execution_count": 9
        }
      ]
    },
    {
      "cell_type": "markdown",
      "source": [
        "### 3) 데이터 확인 및 결측치 제거"
      ],
      "metadata": {
        "id": "Q_hiJQVsko01"
      }
    },
    {
      "cell_type": "code",
      "source": [
        "movies_data.info()"
      ],
      "metadata": {
        "colab": {
          "base_uri": "https://localhost:8080/"
        },
        "id": "8OK10BIAnuUc",
        "outputId": "5662b5c3-a27f-4497-ed7a-c79ede5462e9"
      },
      "execution_count": 10,
      "outputs": [
        {
          "output_type": "stream",
          "name": "stdout",
          "text": [
            "<class 'pandas.core.frame.DataFrame'>\n",
            "Int64Index: 836733 entries, 0 to 836732\n",
            "Data columns (total 4 columns):\n",
            " #   Column    Non-Null Count   Dtype  \n",
            "---  ------    --------------   -----  \n",
            " 0   user_id   836478 non-null  float64\n",
            " 1   movie_id  836733 non-null  int64  \n",
            " 2   counts    836478 non-null  float64\n",
            " 3   title     836733 non-null  object \n",
            "dtypes: float64(2), int64(1), object(1)\n",
            "memory usage: 31.9+ MB\n"
          ]
        }
      ]
    },
    {
      "cell_type": "code",
      "source": [
        "movies_data.describe()"
      ],
      "metadata": {
        "colab": {
          "base_uri": "https://localhost:8080/",
          "height": 300
        },
        "id": "YI4_1OWInxNY",
        "outputId": "8739947c-2ad2-4ffc-c0f9-4b4d047f6fdc"
      },
      "execution_count": 11,
      "outputs": [
        {
          "output_type": "execute_result",
          "data": {
            "text/plain": [
              "             user_id       movie_id         counts\n",
              "count  836478.000000  836733.000000  836478.000000\n",
              "mean     3033.120626    1849.105342       3.958293\n",
              "std      1729.255651    1091.865588       0.762280\n",
              "min         1.000000       1.000000       3.000000\n",
              "25%      1531.000000    1029.000000       3.000000\n",
              "50%      3080.000000    1747.000000       4.000000\n",
              "75%      4485.000000    2763.000000       5.000000\n",
              "max      6040.000000    3952.000000       5.000000"
            ],
            "text/html": [
              "\n",
              "  <div id=\"df-c2ac5c68-df61-4cc2-b90d-0f183f869811\">\n",
              "    <div class=\"colab-df-container\">\n",
              "      <div>\n",
              "<style scoped>\n",
              "    .dataframe tbody tr th:only-of-type {\n",
              "        vertical-align: middle;\n",
              "    }\n",
              "\n",
              "    .dataframe tbody tr th {\n",
              "        vertical-align: top;\n",
              "    }\n",
              "\n",
              "    .dataframe thead th {\n",
              "        text-align: right;\n",
              "    }\n",
              "</style>\n",
              "<table border=\"1\" class=\"dataframe\">\n",
              "  <thead>\n",
              "    <tr style=\"text-align: right;\">\n",
              "      <th></th>\n",
              "      <th>user_id</th>\n",
              "      <th>movie_id</th>\n",
              "      <th>counts</th>\n",
              "    </tr>\n",
              "  </thead>\n",
              "  <tbody>\n",
              "    <tr>\n",
              "      <th>count</th>\n",
              "      <td>836478.000000</td>\n",
              "      <td>836733.000000</td>\n",
              "      <td>836478.000000</td>\n",
              "    </tr>\n",
              "    <tr>\n",
              "      <th>mean</th>\n",
              "      <td>3033.120626</td>\n",
              "      <td>1849.105342</td>\n",
              "      <td>3.958293</td>\n",
              "    </tr>\n",
              "    <tr>\n",
              "      <th>std</th>\n",
              "      <td>1729.255651</td>\n",
              "      <td>1091.865588</td>\n",
              "      <td>0.762280</td>\n",
              "    </tr>\n",
              "    <tr>\n",
              "      <th>min</th>\n",
              "      <td>1.000000</td>\n",
              "      <td>1.000000</td>\n",
              "      <td>3.000000</td>\n",
              "    </tr>\n",
              "    <tr>\n",
              "      <th>25%</th>\n",
              "      <td>1531.000000</td>\n",
              "      <td>1029.000000</td>\n",
              "      <td>3.000000</td>\n",
              "    </tr>\n",
              "    <tr>\n",
              "      <th>50%</th>\n",
              "      <td>3080.000000</td>\n",
              "      <td>1747.000000</td>\n",
              "      <td>4.000000</td>\n",
              "    </tr>\n",
              "    <tr>\n",
              "      <th>75%</th>\n",
              "      <td>4485.000000</td>\n",
              "      <td>2763.000000</td>\n",
              "      <td>5.000000</td>\n",
              "    </tr>\n",
              "    <tr>\n",
              "      <th>max</th>\n",
              "      <td>6040.000000</td>\n",
              "      <td>3952.000000</td>\n",
              "      <td>5.000000</td>\n",
              "    </tr>\n",
              "  </tbody>\n",
              "</table>\n",
              "</div>\n",
              "      <button class=\"colab-df-convert\" onclick=\"convertToInteractive('df-c2ac5c68-df61-4cc2-b90d-0f183f869811')\"\n",
              "              title=\"Convert this dataframe to an interactive table.\"\n",
              "              style=\"display:none;\">\n",
              "        \n",
              "  <svg xmlns=\"http://www.w3.org/2000/svg\" height=\"24px\"viewBox=\"0 0 24 24\"\n",
              "       width=\"24px\">\n",
              "    <path d=\"M0 0h24v24H0V0z\" fill=\"none\"/>\n",
              "    <path d=\"M18.56 5.44l.94 2.06.94-2.06 2.06-.94-2.06-.94-.94-2.06-.94 2.06-2.06.94zm-11 1L8.5 8.5l.94-2.06 2.06-.94-2.06-.94L8.5 2.5l-.94 2.06-2.06.94zm10 10l.94 2.06.94-2.06 2.06-.94-2.06-.94-.94-2.06-.94 2.06-2.06.94z\"/><path d=\"M17.41 7.96l-1.37-1.37c-.4-.4-.92-.59-1.43-.59-.52 0-1.04.2-1.43.59L10.3 9.45l-7.72 7.72c-.78.78-.78 2.05 0 2.83L4 21.41c.39.39.9.59 1.41.59.51 0 1.02-.2 1.41-.59l7.78-7.78 2.81-2.81c.8-.78.8-2.07 0-2.86zM5.41 20L4 18.59l7.72-7.72 1.47 1.35L5.41 20z\"/>\n",
              "  </svg>\n",
              "      </button>\n",
              "      \n",
              "  <style>\n",
              "    .colab-df-container {\n",
              "      display:flex;\n",
              "      flex-wrap:wrap;\n",
              "      gap: 12px;\n",
              "    }\n",
              "\n",
              "    .colab-df-convert {\n",
              "      background-color: #E8F0FE;\n",
              "      border: none;\n",
              "      border-radius: 50%;\n",
              "      cursor: pointer;\n",
              "      display: none;\n",
              "      fill: #1967D2;\n",
              "      height: 32px;\n",
              "      padding: 0 0 0 0;\n",
              "      width: 32px;\n",
              "    }\n",
              "\n",
              "    .colab-df-convert:hover {\n",
              "      background-color: #E2EBFA;\n",
              "      box-shadow: 0px 1px 2px rgba(60, 64, 67, 0.3), 0px 1px 3px 1px rgba(60, 64, 67, 0.15);\n",
              "      fill: #174EA6;\n",
              "    }\n",
              "\n",
              "    [theme=dark] .colab-df-convert {\n",
              "      background-color: #3B4455;\n",
              "      fill: #D2E3FC;\n",
              "    }\n",
              "\n",
              "    [theme=dark] .colab-df-convert:hover {\n",
              "      background-color: #434B5C;\n",
              "      box-shadow: 0px 1px 3px 1px rgba(0, 0, 0, 0.15);\n",
              "      filter: drop-shadow(0px 1px 2px rgba(0, 0, 0, 0.3));\n",
              "      fill: #FFFFFF;\n",
              "    }\n",
              "  </style>\n",
              "\n",
              "      <script>\n",
              "        const buttonEl =\n",
              "          document.querySelector('#df-c2ac5c68-df61-4cc2-b90d-0f183f869811 button.colab-df-convert');\n",
              "        buttonEl.style.display =\n",
              "          google.colab.kernel.accessAllowed ? 'block' : 'none';\n",
              "\n",
              "        async function convertToInteractive(key) {\n",
              "          const element = document.querySelector('#df-c2ac5c68-df61-4cc2-b90d-0f183f869811');\n",
              "          const dataTable =\n",
              "            await google.colab.kernel.invokeFunction('convertToInteractive',\n",
              "                                                     [key], {});\n",
              "          if (!dataTable) return;\n",
              "\n",
              "          const docLinkHtml = 'Like what you see? Visit the ' +\n",
              "            '<a target=\"_blank\" href=https://colab.research.google.com/notebooks/data_table.ipynb>data table notebook</a>'\n",
              "            + ' to learn more about interactive tables.';\n",
              "          element.innerHTML = '';\n",
              "          dataTable['output_type'] = 'display_data';\n",
              "          await google.colab.output.renderOutput(dataTable, element);\n",
              "          const docLink = document.createElement('div');\n",
              "          docLink.innerHTML = docLinkHtml;\n",
              "          element.appendChild(docLink);\n",
              "        }\n",
              "      </script>\n",
              "    </div>\n",
              "  </div>\n",
              "  "
            ]
          },
          "metadata": {},
          "execution_count": 11
        }
      ]
    },
    {
      "cell_type": "code",
      "source": [
        "movies_data.isnull().sum()"
      ],
      "metadata": {
        "colab": {
          "base_uri": "https://localhost:8080/"
        },
        "id": "sGicf8FFnjEQ",
        "outputId": "bf905624-1dd8-49de-e33b-25ee4773a074"
      },
      "execution_count": 12,
      "outputs": [
        {
          "output_type": "execute_result",
          "data": {
            "text/plain": [
              "user_id     255\n",
              "movie_id      0\n",
              "counts      255\n",
              "title         0\n",
              "dtype: int64"
            ]
          },
          "metadata": {},
          "execution_count": 12
        }
      ]
    },
    {
      "cell_type": "markdown",
      "source": [
        "- user_id와 ratings, timestamp가 모두 255개의 결측치를 가지고 있다.\n",
        "- 전체 데이터셋에 비해 굉장히 미미한 데이터량이니 제거하도록 한다."
      ],
      "metadata": {
        "id": "-3WVo5f3oC8o"
      }
    },
    {
      "cell_type": "code",
      "source": [
        "movies_data.dropna(inplace=True)"
      ],
      "metadata": {
        "id": "XfMZ9Lc4ocK5"
      },
      "execution_count": 13,
      "outputs": []
    },
    {
      "cell_type": "code",
      "source": [
        "movies_data.isnull().sum()"
      ],
      "metadata": {
        "colab": {
          "base_uri": "https://localhost:8080/"
        },
        "id": "2PAxzFMQokHv",
        "outputId": "810711a8-0ab3-4708-e583-17ff34c148c0"
      },
      "execution_count": 14,
      "outputs": [
        {
          "output_type": "execute_result",
          "data": {
            "text/plain": [
              "user_id     0\n",
              "movie_id    0\n",
              "counts      0\n",
              "title       0\n",
              "dtype: int64"
            ]
          },
          "metadata": {},
          "execution_count": 14
        }
      ]
    },
    {
      "cell_type": "markdown",
      "source": [
        "## 3. 분석\n"
      ],
      "metadata": {
        "id": "ksCjcRbRfUP_"
      }
    },
    {
      "cell_type": "markdown",
      "source": [
        "### 1)  ratings에 있는 유니크한 영화 개수, ratings에 있는 유니크한 사용자 수, 가장 인기 있는 영화 30개(인기순) 확인"
      ],
      "metadata": {
        "id": "jvqVnxtMkw_s"
      }
    },
    {
      "cell_type": "code",
      "source": [
        "movies_data['movie_id'].nunique()"
      ],
      "metadata": {
        "colab": {
          "base_uri": "https://localhost:8080/"
        },
        "id": "gyKHi9sHZU06",
        "outputId": "640a5111-d1b2-4692-c871-d086f22f3b3a"
      },
      "execution_count": 15,
      "outputs": [
        {
          "output_type": "execute_result",
          "data": {
            "text/plain": [
              "3628"
            ]
          },
          "metadata": {},
          "execution_count": 15
        }
      ]
    },
    {
      "cell_type": "code",
      "source": [
        "movies_data['user_id'].nunique()"
      ],
      "metadata": {
        "colab": {
          "base_uri": "https://localhost:8080/"
        },
        "id": "xGgrOxpzgmiT",
        "outputId": "0d10c517-246b-4b23-c0b5-c5fab712f6a8"
      },
      "execution_count": 16,
      "outputs": [
        {
          "output_type": "execute_result",
          "data": {
            "text/plain": [
              "6039"
            ]
          },
          "metadata": {},
          "execution_count": 16
        }
      ]
    },
    {
      "cell_type": "code",
      "source": [
        "title_count = movies_data.groupby(['title', 'movie_id'])['user_id'].count()\n",
        "\n",
        "title_count.sort_values(ascending=False).head(30)"
      ],
      "metadata": {
        "colab": {
          "base_uri": "https://localhost:8080/"
        },
        "id": "6g5FeuHkgyhO",
        "outputId": "56d050f0-aef4-494a-f638-60e42a880239"
      },
      "execution_count": 17,
      "outputs": [
        {
          "output_type": "execute_result",
          "data": {
            "text/plain": [
              "title                                                  movie_id\n",
              "American Beauty (1999)                                 2858        3211\n",
              "Star Wars: Episode IV - A New Hope (1977)              260         2910\n",
              "Star Wars: Episode V - The Empire Strikes Back (1980)  1196        2885\n",
              "Star Wars: Episode VI - Return of the Jedi (1983)      1210        2716\n",
              "Saving Private Ryan (1998)                             2028        2561\n",
              "Terminator 2: Judgment Day (1991)                      589         2509\n",
              "Silence of the Lambs, The (1991)                       593         2498\n",
              "Raiders of the Lost Ark (1981)                         1198        2473\n",
              "Back to the Future (1985)                              1270        2460\n",
              "Matrix, The (1999)                                     2571        2434\n",
              "Jurassic Park (1993)                                   480         2413\n",
              "Sixth Sense, The (1999)                                2762        2385\n",
              "Fargo (1996)                                           608         2371\n",
              "Braveheart (1995)                                      110         2314\n",
              "Men in Black (1997)                                    1580        2297\n",
              "Schindler's List (1993)                                527         2257\n",
              "Princess Bride, The (1987)                             1197        2252\n",
              "Shakespeare in Love (1998)                             2396        2213\n",
              "L.A. Confidential (1997)                               1617        2210\n",
              "Shawshank Redemption, The (1994)                       318         2194\n",
              "Godfather, The (1972)                                  858         2167\n",
              "Groundhog Day (1993)                                   1265        2121\n",
              "E.T. the Extra-Terrestrial (1982)                      1097        2102\n",
              "Being John Malkovich (1999)                            2997        2066\n",
              "Ghostbusters (1984)                                    2716        2051\n",
              "Pulp Fiction (1994)                                    296         2030\n",
              "Forrest Gump (1994)                                    356         2022\n",
              "Terminator, The (1984)                                 1240        2019\n",
              "Toy Story (1995)                                       1           2000\n",
              "Fugitive, The (1993)                                   457         1941\n",
              "Name: user_id, dtype: int64"
            ]
          },
          "metadata": {},
          "execution_count": 17
        }
      ]
    },
    {
      "cell_type": "markdown",
      "source": [
        "### 2) 적절한 user_id 찾기"
      ],
      "metadata": {
        "id": "EzkCYR8Vk4ax"
      }
    },
    {
      "cell_type": "code",
      "source": [
        "movies_data['user_id'].sort_values(ascending=False).head(30)"
      ],
      "metadata": {
        "colab": {
          "base_uri": "https://localhost:8080/"
        },
        "id": "e4puoHSlS4EX",
        "outputId": "c5cd3809-66ea-4c2d-c1b7-960ad2f7a972"
      },
      "execution_count": 18,
      "outputs": [
        {
          "output_type": "execute_result",
          "data": {
            "text/plain": [
              "656608    6040.0\n",
              "281262    6040.0\n",
              "617963    6040.0\n",
              "121191    6040.0\n",
              "627702    6040.0\n",
              "57560     6040.0\n",
              "798728    6040.0\n",
              "223074    6040.0\n",
              "818301    6040.0\n",
              "601338    6040.0\n",
              "428011    6040.0\n",
              "634198    6040.0\n",
              "417198    6040.0\n",
              "305373    6040.0\n",
              "106997    6040.0\n",
              "446235    6040.0\n",
              "636104    6040.0\n",
              "233895    6040.0\n",
              "826337    6040.0\n",
              "549943    6040.0\n",
              "262075    6040.0\n",
              "542222    6040.0\n",
              "353431    6040.0\n",
              "461916    6040.0\n",
              "221213    6040.0\n",
              "783933    6040.0\n",
              "43535     6040.0\n",
              "38619     6040.0\n",
              "627161    6040.0\n",
              "152321    6040.0\n",
              "Name: user_id, dtype: float64"
            ]
          },
          "metadata": {},
          "execution_count": 18
        }
      ]
    },
    {
      "cell_type": "markdown",
      "source": [
        "### 4. 내가 선호하는 영화를 5가지 골라서 ratings에 추가해 줍시다."
      ],
      "metadata": {
        "id": "uDooWNyLfe12"
      }
    },
    {
      "cell_type": "code",
      "source": [
        "# 영화 타이틀, user_id, counts, genre, movie_id필요\n",
        "my_favorite = ['Matrix, The (1999)' , 'Men in Black (1997)' ,'Toy Story (1995)' ,'Terminator, The (1984)' ,'Sixth Sense, The (1999)']\n",
        "my_movie_id = [2571, 1580, 1, 1240, 2762]\n",
        "\n",
        "my_playlist = pd.DataFrame({'user_id' : [6041] *5, 'movie_id' : my_movie_id, 'title': my_favorite, 'counts':[30]*5})\n",
        "\n",
        "\n",
        "if not movies_data.isin({'user_id':[6041]})['user_id'].any():  # user_id에 'zimin'이라는 데이터가 없다면\n",
        "    movies_data = movies_data.append(my_playlist)                           # 위에 임의로 만든 my_favorite 데이터를 추가해 줍니다. \n",
        "\n",
        "movies_data.tail(10)    # 잘 추가되었는지 확인해 봅시다'"
      ],
      "metadata": {
        "id": "73d7bUW4fil_",
        "colab": {
          "base_uri": "https://localhost:8080/",
          "height": 363
        },
        "outputId": "a6975dc3-d69a-466d-b7af-e55bf744a6a8"
      },
      "execution_count": 19,
      "outputs": [
        {
          "output_type": "execute_result",
          "data": {
            "text/plain": [
              "        user_id  movie_id  counts  \\\n",
              "836473   5851.0      3607     5.0   \n",
              "836474   5854.0      3026     4.0   \n",
              "836475   5854.0       690     3.0   \n",
              "836476   5938.0      2909     4.0   \n",
              "836477   5948.0      1360     5.0   \n",
              "0        6041.0      2571    30.0   \n",
              "1        6041.0      1580    30.0   \n",
              "2        6041.0         1    30.0   \n",
              "3        6041.0      1240    30.0   \n",
              "4        6041.0      2762    30.0   \n",
              "\n",
              "                                                    title  \n",
              "836473                           One Little Indian (1973)  \n",
              "836474                              Slaughterhouse (1987)  \n",
              "836475             Promise, The (Versprechen, Das) (1994)  \n",
              "836476        Five Wives, Three Secretaries and Me (1998)  \n",
              "836477  Identification of a Woman (Identificazione di ...  \n",
              "0                                      Matrix, The (1999)  \n",
              "1                                     Men in Black (1997)  \n",
              "2                                        Toy Story (1995)  \n",
              "3                                  Terminator, The (1984)  \n",
              "4                                 Sixth Sense, The (1999)  "
            ],
            "text/html": [
              "\n",
              "  <div id=\"df-f6e6b430-367e-4820-9ce7-66d7ee2bec53\">\n",
              "    <div class=\"colab-df-container\">\n",
              "      <div>\n",
              "<style scoped>\n",
              "    .dataframe tbody tr th:only-of-type {\n",
              "        vertical-align: middle;\n",
              "    }\n",
              "\n",
              "    .dataframe tbody tr th {\n",
              "        vertical-align: top;\n",
              "    }\n",
              "\n",
              "    .dataframe thead th {\n",
              "        text-align: right;\n",
              "    }\n",
              "</style>\n",
              "<table border=\"1\" class=\"dataframe\">\n",
              "  <thead>\n",
              "    <tr style=\"text-align: right;\">\n",
              "      <th></th>\n",
              "      <th>user_id</th>\n",
              "      <th>movie_id</th>\n",
              "      <th>counts</th>\n",
              "      <th>title</th>\n",
              "    </tr>\n",
              "  </thead>\n",
              "  <tbody>\n",
              "    <tr>\n",
              "      <th>836473</th>\n",
              "      <td>5851.0</td>\n",
              "      <td>3607</td>\n",
              "      <td>5.0</td>\n",
              "      <td>One Little Indian (1973)</td>\n",
              "    </tr>\n",
              "    <tr>\n",
              "      <th>836474</th>\n",
              "      <td>5854.0</td>\n",
              "      <td>3026</td>\n",
              "      <td>4.0</td>\n",
              "      <td>Slaughterhouse (1987)</td>\n",
              "    </tr>\n",
              "    <tr>\n",
              "      <th>836475</th>\n",
              "      <td>5854.0</td>\n",
              "      <td>690</td>\n",
              "      <td>3.0</td>\n",
              "      <td>Promise, The (Versprechen, Das) (1994)</td>\n",
              "    </tr>\n",
              "    <tr>\n",
              "      <th>836476</th>\n",
              "      <td>5938.0</td>\n",
              "      <td>2909</td>\n",
              "      <td>4.0</td>\n",
              "      <td>Five Wives, Three Secretaries and Me (1998)</td>\n",
              "    </tr>\n",
              "    <tr>\n",
              "      <th>836477</th>\n",
              "      <td>5948.0</td>\n",
              "      <td>1360</td>\n",
              "      <td>5.0</td>\n",
              "      <td>Identification of a Woman (Identificazione di ...</td>\n",
              "    </tr>\n",
              "    <tr>\n",
              "      <th>0</th>\n",
              "      <td>6041.0</td>\n",
              "      <td>2571</td>\n",
              "      <td>30.0</td>\n",
              "      <td>Matrix, The (1999)</td>\n",
              "    </tr>\n",
              "    <tr>\n",
              "      <th>1</th>\n",
              "      <td>6041.0</td>\n",
              "      <td>1580</td>\n",
              "      <td>30.0</td>\n",
              "      <td>Men in Black (1997)</td>\n",
              "    </tr>\n",
              "    <tr>\n",
              "      <th>2</th>\n",
              "      <td>6041.0</td>\n",
              "      <td>1</td>\n",
              "      <td>30.0</td>\n",
              "      <td>Toy Story (1995)</td>\n",
              "    </tr>\n",
              "    <tr>\n",
              "      <th>3</th>\n",
              "      <td>6041.0</td>\n",
              "      <td>1240</td>\n",
              "      <td>30.0</td>\n",
              "      <td>Terminator, The (1984)</td>\n",
              "    </tr>\n",
              "    <tr>\n",
              "      <th>4</th>\n",
              "      <td>6041.0</td>\n",
              "      <td>2762</td>\n",
              "      <td>30.0</td>\n",
              "      <td>Sixth Sense, The (1999)</td>\n",
              "    </tr>\n",
              "  </tbody>\n",
              "</table>\n",
              "</div>\n",
              "      <button class=\"colab-df-convert\" onclick=\"convertToInteractive('df-f6e6b430-367e-4820-9ce7-66d7ee2bec53')\"\n",
              "              title=\"Convert this dataframe to an interactive table.\"\n",
              "              style=\"display:none;\">\n",
              "        \n",
              "  <svg xmlns=\"http://www.w3.org/2000/svg\" height=\"24px\"viewBox=\"0 0 24 24\"\n",
              "       width=\"24px\">\n",
              "    <path d=\"M0 0h24v24H0V0z\" fill=\"none\"/>\n",
              "    <path d=\"M18.56 5.44l.94 2.06.94-2.06 2.06-.94-2.06-.94-.94-2.06-.94 2.06-2.06.94zm-11 1L8.5 8.5l.94-2.06 2.06-.94-2.06-.94L8.5 2.5l-.94 2.06-2.06.94zm10 10l.94 2.06.94-2.06 2.06-.94-2.06-.94-.94-2.06-.94 2.06-2.06.94z\"/><path d=\"M17.41 7.96l-1.37-1.37c-.4-.4-.92-.59-1.43-.59-.52 0-1.04.2-1.43.59L10.3 9.45l-7.72 7.72c-.78.78-.78 2.05 0 2.83L4 21.41c.39.39.9.59 1.41.59.51 0 1.02-.2 1.41-.59l7.78-7.78 2.81-2.81c.8-.78.8-2.07 0-2.86zM5.41 20L4 18.59l7.72-7.72 1.47 1.35L5.41 20z\"/>\n",
              "  </svg>\n",
              "      </button>\n",
              "      \n",
              "  <style>\n",
              "    .colab-df-container {\n",
              "      display:flex;\n",
              "      flex-wrap:wrap;\n",
              "      gap: 12px;\n",
              "    }\n",
              "\n",
              "    .colab-df-convert {\n",
              "      background-color: #E8F0FE;\n",
              "      border: none;\n",
              "      border-radius: 50%;\n",
              "      cursor: pointer;\n",
              "      display: none;\n",
              "      fill: #1967D2;\n",
              "      height: 32px;\n",
              "      padding: 0 0 0 0;\n",
              "      width: 32px;\n",
              "    }\n",
              "\n",
              "    .colab-df-convert:hover {\n",
              "      background-color: #E2EBFA;\n",
              "      box-shadow: 0px 1px 2px rgba(60, 64, 67, 0.3), 0px 1px 3px 1px rgba(60, 64, 67, 0.15);\n",
              "      fill: #174EA6;\n",
              "    }\n",
              "\n",
              "    [theme=dark] .colab-df-convert {\n",
              "      background-color: #3B4455;\n",
              "      fill: #D2E3FC;\n",
              "    }\n",
              "\n",
              "    [theme=dark] .colab-df-convert:hover {\n",
              "      background-color: #434B5C;\n",
              "      box-shadow: 0px 1px 3px 1px rgba(0, 0, 0, 0.15);\n",
              "      filter: drop-shadow(0px 1px 2px rgba(0, 0, 0, 0.3));\n",
              "      fill: #FFFFFF;\n",
              "    }\n",
              "  </style>\n",
              "\n",
              "      <script>\n",
              "        const buttonEl =\n",
              "          document.querySelector('#df-f6e6b430-367e-4820-9ce7-66d7ee2bec53 button.colab-df-convert');\n",
              "        buttonEl.style.display =\n",
              "          google.colab.kernel.accessAllowed ? 'block' : 'none';\n",
              "\n",
              "        async function convertToInteractive(key) {\n",
              "          const element = document.querySelector('#df-f6e6b430-367e-4820-9ce7-66d7ee2bec53');\n",
              "          const dataTable =\n",
              "            await google.colab.kernel.invokeFunction('convertToInteractive',\n",
              "                                                     [key], {});\n",
              "          if (!dataTable) return;\n",
              "\n",
              "          const docLinkHtml = 'Like what you see? Visit the ' +\n",
              "            '<a target=\"_blank\" href=https://colab.research.google.com/notebooks/data_table.ipynb>data table notebook</a>'\n",
              "            + ' to learn more about interactive tables.';\n",
              "          element.innerHTML = '';\n",
              "          dataTable['output_type'] = 'display_data';\n",
              "          await google.colab.output.renderOutput(dataTable, element);\n",
              "          const docLink = document.createElement('div');\n",
              "          docLink.innerHTML = docLinkHtml;\n",
              "          element.appendChild(docLink);\n",
              "        }\n",
              "      </script>\n",
              "    </div>\n",
              "  </div>\n",
              "  "
            ]
          },
          "metadata": {},
          "execution_count": 19
        }
      ]
    },
    {
      "cell_type": "markdown",
      "source": [
        "### 5. CSR matrix를 직접 만들어 봅시다.\n",
        "- CSR Matrix는 Sparse한 matrix에서 0이 아닌 유효한 데이터로 채워지는 데이터의 값과 좌표 정보만으로 구성하여 메모리 사용량을 최소화하면서도 Sparse한 matrix와 동일한 행렬을 표현할 수 있도록 하는 데이터 구조입니다."
      ],
      "metadata": {
        "id": "nsXwZ4FnfztF"
      }
    },
    {
      "cell_type": "code",
      "source": [
        "# 고유한 유저, 아티스트를 찾아내는 코드\n",
        "user_unique = movies_data['user_id'].unique()\n",
        "title_unique = movies_data['title'].unique()\n",
        "\n",
        "# 유저, 아티스트 indexing 하는 코드 idx는 index의 약자입니다.\n",
        "user_to_idx = {v:k for k,v in enumerate(user_unique)}\n",
        "title_to_idx = {v:k for k,v in enumerate(title_unique)}"
      ],
      "metadata": {
        "id": "EB8lOC8tamDp"
      },
      "execution_count": 20,
      "outputs": []
    },
    {
      "cell_type": "code",
      "source": [
        "# 인덱싱이 잘 되었는지 확인해 봅니다. \n",
        "print(user_to_idx[6041])    # 358869명의 유저 중 마지막으로 추가된 유저이니 358868이 나와야 합니다. \n",
        "print(title_to_idx['Toy Story (1995)'])"
      ],
      "metadata": {
        "colab": {
          "base_uri": "https://localhost:8080/"
        },
        "id": "CtfsqtBcatw8",
        "outputId": "dabfcda9-9ec1-4995-fe51-5919925de313"
      },
      "execution_count": 21,
      "outputs": [
        {
          "output_type": "stream",
          "name": "stdout",
          "text": [
            "6039\n",
            "40\n"
          ]
        }
      ]
    },
    {
      "cell_type": "code",
      "source": [
        "# indexing을 통해 데이터 컬럼 내 값을 바꾸는 코드\n",
        "# dictionary 자료형의 get 함수는 https://wikidocs.net/16 을 참고하세요.\n",
        "\n",
        "# user_to_idx.get을 통해 user_id 컬럼의 모든 값을 인덱싱한 Series를 구해 봅시다. \n",
        "# 혹시 정상적으로 인덱싱되지 않은 row가 있다면 인덱스가 NaN이 될 테니 dropna()로 제거합니다. \n",
        "temp_user_data = movies_data['user_id'].map(user_to_idx.get).dropna()\n",
        "if len(temp_user_data) == len(movies_data):   # 모든 row가 정상적으로 인덱싱되었다면\n",
        "    print('user_id column indexing OK!!')\n",
        "    movies_data['user_id'] = temp_user_data   # data['user_id']을 인덱싱된 Series로 교체해 줍니다. \n",
        "else:\n",
        "    print('user_id column indexing Fail!!')\n",
        "\n",
        "# title_to_idx을 통해 title 컬럼도 동일한 방식으로 인덱싱해 줍니다. \n",
        "temp_title_data = movies_data['title'].map(title_to_idx.get).dropna()\n",
        "if len(temp_title_data) == len(movies_data):\n",
        "    print('title column indexing OK!!')\n",
        "    movies_data['title'] = temp_title_data\n",
        "else:\n",
        "    print('title column indexing Fail!!')\n",
        "\n",
        "movies_data"
      ],
      "metadata": {
        "colab": {
          "base_uri": "https://localhost:8080/",
          "height": 460
        },
        "id": "3Z-dcYJUbCSZ",
        "outputId": "5b3265f0-b49b-4a59-813b-898725e6c0c8"
      },
      "execution_count": 22,
      "outputs": [
        {
          "output_type": "stream",
          "name": "stdout",
          "text": [
            "user_id column indexing OK!!\n",
            "title column indexing OK!!\n"
          ]
        },
        {
          "output_type": "execute_result",
          "data": {
            "text/plain": [
              "    user_id  movie_id  counts  title\n",
              "0         0      1193     5.0      0\n",
              "1         1      1193     5.0      0\n",
              "2         2      1193     4.0      0\n",
              "3         3      1193     4.0      0\n",
              "4         4      1193     5.0      0\n",
              "..      ...       ...     ...    ...\n",
              "0      6039      2571    30.0    124\n",
              "1      6039      1580    30.0    175\n",
              "2      6039         1    30.0     40\n",
              "3      6039      1240    30.0    200\n",
              "4      6039      2762    30.0     38\n",
              "\n",
              "[836483 rows x 4 columns]"
            ],
            "text/html": [
              "\n",
              "  <div id=\"df-f662a4e1-2871-486d-9fd7-acd4f1aec442\">\n",
              "    <div class=\"colab-df-container\">\n",
              "      <div>\n",
              "<style scoped>\n",
              "    .dataframe tbody tr th:only-of-type {\n",
              "        vertical-align: middle;\n",
              "    }\n",
              "\n",
              "    .dataframe tbody tr th {\n",
              "        vertical-align: top;\n",
              "    }\n",
              "\n",
              "    .dataframe thead th {\n",
              "        text-align: right;\n",
              "    }\n",
              "</style>\n",
              "<table border=\"1\" class=\"dataframe\">\n",
              "  <thead>\n",
              "    <tr style=\"text-align: right;\">\n",
              "      <th></th>\n",
              "      <th>user_id</th>\n",
              "      <th>movie_id</th>\n",
              "      <th>counts</th>\n",
              "      <th>title</th>\n",
              "    </tr>\n",
              "  </thead>\n",
              "  <tbody>\n",
              "    <tr>\n",
              "      <th>0</th>\n",
              "      <td>0</td>\n",
              "      <td>1193</td>\n",
              "      <td>5.0</td>\n",
              "      <td>0</td>\n",
              "    </tr>\n",
              "    <tr>\n",
              "      <th>1</th>\n",
              "      <td>1</td>\n",
              "      <td>1193</td>\n",
              "      <td>5.0</td>\n",
              "      <td>0</td>\n",
              "    </tr>\n",
              "    <tr>\n",
              "      <th>2</th>\n",
              "      <td>2</td>\n",
              "      <td>1193</td>\n",
              "      <td>4.0</td>\n",
              "      <td>0</td>\n",
              "    </tr>\n",
              "    <tr>\n",
              "      <th>3</th>\n",
              "      <td>3</td>\n",
              "      <td>1193</td>\n",
              "      <td>4.0</td>\n",
              "      <td>0</td>\n",
              "    </tr>\n",
              "    <tr>\n",
              "      <th>4</th>\n",
              "      <td>4</td>\n",
              "      <td>1193</td>\n",
              "      <td>5.0</td>\n",
              "      <td>0</td>\n",
              "    </tr>\n",
              "    <tr>\n",
              "      <th>...</th>\n",
              "      <td>...</td>\n",
              "      <td>...</td>\n",
              "      <td>...</td>\n",
              "      <td>...</td>\n",
              "    </tr>\n",
              "    <tr>\n",
              "      <th>0</th>\n",
              "      <td>6039</td>\n",
              "      <td>2571</td>\n",
              "      <td>30.0</td>\n",
              "      <td>124</td>\n",
              "    </tr>\n",
              "    <tr>\n",
              "      <th>1</th>\n",
              "      <td>6039</td>\n",
              "      <td>1580</td>\n",
              "      <td>30.0</td>\n",
              "      <td>175</td>\n",
              "    </tr>\n",
              "    <tr>\n",
              "      <th>2</th>\n",
              "      <td>6039</td>\n",
              "      <td>1</td>\n",
              "      <td>30.0</td>\n",
              "      <td>40</td>\n",
              "    </tr>\n",
              "    <tr>\n",
              "      <th>3</th>\n",
              "      <td>6039</td>\n",
              "      <td>1240</td>\n",
              "      <td>30.0</td>\n",
              "      <td>200</td>\n",
              "    </tr>\n",
              "    <tr>\n",
              "      <th>4</th>\n",
              "      <td>6039</td>\n",
              "      <td>2762</td>\n",
              "      <td>30.0</td>\n",
              "      <td>38</td>\n",
              "    </tr>\n",
              "  </tbody>\n",
              "</table>\n",
              "<p>836483 rows × 4 columns</p>\n",
              "</div>\n",
              "      <button class=\"colab-df-convert\" onclick=\"convertToInteractive('df-f662a4e1-2871-486d-9fd7-acd4f1aec442')\"\n",
              "              title=\"Convert this dataframe to an interactive table.\"\n",
              "              style=\"display:none;\">\n",
              "        \n",
              "  <svg xmlns=\"http://www.w3.org/2000/svg\" height=\"24px\"viewBox=\"0 0 24 24\"\n",
              "       width=\"24px\">\n",
              "    <path d=\"M0 0h24v24H0V0z\" fill=\"none\"/>\n",
              "    <path d=\"M18.56 5.44l.94 2.06.94-2.06 2.06-.94-2.06-.94-.94-2.06-.94 2.06-2.06.94zm-11 1L8.5 8.5l.94-2.06 2.06-.94-2.06-.94L8.5 2.5l-.94 2.06-2.06.94zm10 10l.94 2.06.94-2.06 2.06-.94-2.06-.94-.94-2.06-.94 2.06-2.06.94z\"/><path d=\"M17.41 7.96l-1.37-1.37c-.4-.4-.92-.59-1.43-.59-.52 0-1.04.2-1.43.59L10.3 9.45l-7.72 7.72c-.78.78-.78 2.05 0 2.83L4 21.41c.39.39.9.59 1.41.59.51 0 1.02-.2 1.41-.59l7.78-7.78 2.81-2.81c.8-.78.8-2.07 0-2.86zM5.41 20L4 18.59l7.72-7.72 1.47 1.35L5.41 20z\"/>\n",
              "  </svg>\n",
              "      </button>\n",
              "      \n",
              "  <style>\n",
              "    .colab-df-container {\n",
              "      display:flex;\n",
              "      flex-wrap:wrap;\n",
              "      gap: 12px;\n",
              "    }\n",
              "\n",
              "    .colab-df-convert {\n",
              "      background-color: #E8F0FE;\n",
              "      border: none;\n",
              "      border-radius: 50%;\n",
              "      cursor: pointer;\n",
              "      display: none;\n",
              "      fill: #1967D2;\n",
              "      height: 32px;\n",
              "      padding: 0 0 0 0;\n",
              "      width: 32px;\n",
              "    }\n",
              "\n",
              "    .colab-df-convert:hover {\n",
              "      background-color: #E2EBFA;\n",
              "      box-shadow: 0px 1px 2px rgba(60, 64, 67, 0.3), 0px 1px 3px 1px rgba(60, 64, 67, 0.15);\n",
              "      fill: #174EA6;\n",
              "    }\n",
              "\n",
              "    [theme=dark] .colab-df-convert {\n",
              "      background-color: #3B4455;\n",
              "      fill: #D2E3FC;\n",
              "    }\n",
              "\n",
              "    [theme=dark] .colab-df-convert:hover {\n",
              "      background-color: #434B5C;\n",
              "      box-shadow: 0px 1px 3px 1px rgba(0, 0, 0, 0.15);\n",
              "      filter: drop-shadow(0px 1px 2px rgba(0, 0, 0, 0.3));\n",
              "      fill: #FFFFFF;\n",
              "    }\n",
              "  </style>\n",
              "\n",
              "      <script>\n",
              "        const buttonEl =\n",
              "          document.querySelector('#df-f662a4e1-2871-486d-9fd7-acd4f1aec442 button.colab-df-convert');\n",
              "        buttonEl.style.display =\n",
              "          google.colab.kernel.accessAllowed ? 'block' : 'none';\n",
              "\n",
              "        async function convertToInteractive(key) {\n",
              "          const element = document.querySelector('#df-f662a4e1-2871-486d-9fd7-acd4f1aec442');\n",
              "          const dataTable =\n",
              "            await google.colab.kernel.invokeFunction('convertToInteractive',\n",
              "                                                     [key], {});\n",
              "          if (!dataTable) return;\n",
              "\n",
              "          const docLinkHtml = 'Like what you see? Visit the ' +\n",
              "            '<a target=\"_blank\" href=https://colab.research.google.com/notebooks/data_table.ipynb>data table notebook</a>'\n",
              "            + ' to learn more about interactive tables.';\n",
              "          element.innerHTML = '';\n",
              "          dataTable['output_type'] = 'display_data';\n",
              "          await google.colab.output.renderOutput(dataTable, element);\n",
              "          const docLink = document.createElement('div');\n",
              "          docLink.innerHTML = docLinkHtml;\n",
              "          element.appendChild(docLink);\n",
              "        }\n",
              "      </script>\n",
              "    </div>\n",
              "  </div>\n",
              "  "
            ]
          },
          "metadata": {},
          "execution_count": 22
        }
      ]
    },
    {
      "cell_type": "code",
      "source": [
        "from scipy.sparse import csr_matrix\n",
        "\n",
        "num_user = movies_data['user_id'].nunique()\n",
        "num_title = movies_data['title'].nunique()\n",
        "\n",
        "csr_movies_data = csr_matrix((movies_data.counts, (movies_data.user_id, movies_data.title)), shape= (num_user, num_title))\n",
        "csr_movies_data"
      ],
      "metadata": {
        "id": "i75-83z4f1gG",
        "colab": {
          "base_uri": "https://localhost:8080/"
        },
        "outputId": "fb21481b-41ab-4714-9ab8-dc78252e45cf"
      },
      "execution_count": 23,
      "outputs": [
        {
          "output_type": "execute_result",
          "data": {
            "text/plain": [
              "<6040x3628 sparse matrix of type '<class 'numpy.float64'>'\n",
              "\twith 836483 stored elements in Compressed Sparse Row format>"
            ]
          },
          "metadata": {},
          "execution_count": 23
        }
      ]
    },
    {
      "cell_type": "markdown",
      "source": [
        "## 6. als_model = AlternatingLeastSquares 모델을 직접 구성하여 훈련시켜 봅시다.\n",
        "- als(AlternatingLeastSquares) 모델을 사용하겠습니다. Matrix Factorization에서 쪼개진 두 Feature Matrix를 한꺼번에 훈련하는 것은 잘 수렴하지 않기 때문에, 한쪽을 고정시키고 다른 쪽을 학습하는 방식을 번갈아 수행하는 AlternatingLeastSquares 방식이 효과적인 것으로 알려져있다."
      ],
      "metadata": {
        "id": "zLUm2AMSf6y9"
      }
    },
    {
      "cell_type": "code",
      "source": [
        "from implicit.als import AlternatingLeastSquares\n",
        "import os\n",
        "import numpy as np\n",
        "\n",
        "# implicit 라이브러리에서 권장하고 있는 부분입니다. 학습 내용과는 무관합니다.\n",
        "os.environ['OPENBLAS_NUM_THREADS']='1'\n",
        "os.environ['KMP_DUPLICATE_LIB_OK']='True'\n",
        "os.environ['MKL_NUM_THREADS']='1'"
      ],
      "metadata": {
        "id": "9lZyUrAjf86m"
      },
      "execution_count": 24,
      "outputs": []
    },
    {
      "cell_type": "code",
      "source": [
        "# Implicit AlternatingLeastSquares 모델의 선언\n",
        "als_model = AlternatingLeastSquares(factors=80, regularization=0.01, use_gpu=False, iterations=10, dtype=np.float32)"
      ],
      "metadata": {
        "id": "K5_tG9DqbkQn"
      },
      "execution_count": 25,
      "outputs": []
    },
    {
      "cell_type": "code",
      "source": [
        "als_model.fit(csr_movies_data)"
      ],
      "metadata": {
        "colab": {
          "base_uri": "https://localhost:8080/",
          "height": 49,
          "referenced_widgets": [
            "abcb54dce5c040a2a76454b76fa032a9",
            "2baac57e80b44bbd868cbf50471c8daa",
            "c3711fe0220e4388bfc720288b1666ed",
            "841731ee0eb94e82b25a7b11ae7e494d",
            "86dffb1716da47c78334ecced82cd344",
            "387613dc4b144a84bfafc5cdf8411125",
            "db7c138a81f54513b22c706c1ab86b5a",
            "2b0bda89678a48cca964ba219287e821",
            "1f1f3995b8594004bc8b77cfa4fc3915",
            "2f48920a8763480f8ede11caf4cbf889",
            "2ce249379aa64338be8d4c9774e8851d"
          ]
        },
        "id": "HlQXaZGQbyxf",
        "outputId": "332ff7f8-883b-44b5-d96c-c2e099ad3465"
      },
      "execution_count": 26,
      "outputs": [
        {
          "output_type": "display_data",
          "data": {
            "text/plain": [
              "  0%|          | 0/10 [00:00<?, ?it/s]"
            ],
            "application/vnd.jupyter.widget-view+json": {
              "version_major": 2,
              "version_minor": 0,
              "model_id": "abcb54dce5c040a2a76454b76fa032a9"
            }
          },
          "metadata": {}
        }
      ]
    },
    {
      "cell_type": "markdown",
      "source": [
        "## 7. 내가 선호하는 5가지 영화 중 하나와 그 외의 영화 하나를 골라 훈련된 모델이 예측한 나의 선호도를 파악해 보세요."
      ],
      "metadata": {
        "id": "Az1hxU8Jf-cy"
      }
    },
    {
      "cell_type": "code",
      "source": [
        "my_id, Men_in_black = user_to_idx[6041], title_to_idx['Men in Black (1997)']\n",
        "my_id_vector, Men_in_black_vector = als_model.user_factors[my_id], als_model.item_factors[Men_in_black]"
      ],
      "metadata": {
        "id": "UOFItaoTgAT-"
      },
      "execution_count": 27,
      "outputs": []
    },
    {
      "cell_type": "code",
      "source": [
        "my_id_vector"
      ],
      "metadata": {
        "colab": {
          "base_uri": "https://localhost:8080/"
        },
        "id": "joy3xcAZizeb",
        "outputId": "dcfec45a-abbc-4aee-acfc-323e909b8ad8"
      },
      "execution_count": 28,
      "outputs": [
        {
          "output_type": "execute_result",
          "data": {
            "text/plain": [
              "array([ 2.5892010e+00, -2.3596269e-01,  1.8098745e+00,  1.1739877e+00,\n",
              "       -1.4589441e-01,  3.3934647e-01, -1.2463181e+00,  3.0845520e-01,\n",
              "       -1.0820000e+00, -8.9602333e-01, -1.7459810e+00, -1.2056878e+00,\n",
              "       -5.5738604e-01,  1.8875210e-01,  1.1808047e+00,  9.7032565e-01,\n",
              "       -2.2095913e-01, -3.4900746e-01, -9.1499650e-01,  2.8162119e-01,\n",
              "       -6.3729918e-01, -1.6385108e+00, -6.1292946e-01,  2.1116336e-01,\n",
              "       -2.3576659e-01, -4.2763084e-02,  1.4977931e+00,  3.8308266e-01,\n",
              "       -2.3372846e+00, -1.2228397e+00, -6.2937224e-01, -1.4932435e+00,\n",
              "        2.1332455e+00, -1.1716999e-01, -8.8661247e-01,  1.8547615e+00,\n",
              "        2.0106807e+00,  2.0520527e+00,  4.3667355e-01,  2.5587001e-01,\n",
              "       -3.9863747e-01,  3.9609718e-01, -1.6335795e+00,  8.3188874e-01,\n",
              "        8.4388052e-04,  2.0179563e+00,  8.4312397e-01, -2.2113749e-01,\n",
              "       -3.8453242e-01, -6.5969980e-01, -1.0513501e+00, -5.2771229e-01,\n",
              "       -1.0470304e+00,  3.9340049e-01,  1.2713521e+00, -2.6848504e-01,\n",
              "       -2.9631430e-01, -1.0558277e-01,  1.3502647e+00,  8.6818075e-01,\n",
              "       -1.6120008e+00, -7.2521007e-01,  6.3595548e-02,  2.3587666e+00,\n",
              "        1.8831171e+00, -4.9711442e-01,  4.0565304e-02,  8.0493504e-01,\n",
              "       -1.1482102e+00, -2.5245583e-01, -1.1614729e+00, -9.7419792e-01,\n",
              "        7.7803588e-01, -5.6515735e-01,  2.9098764e-01,  4.3719533e-01,\n",
              "        3.8766764e-02, -3.2082042e-01,  7.1787715e-01,  7.2699326e-01],\n",
              "      dtype=float32)"
            ]
          },
          "metadata": {},
          "execution_count": 28
        }
      ]
    },
    {
      "cell_type": "code",
      "source": [
        "Men_in_black_vector"
      ],
      "metadata": {
        "colab": {
          "base_uri": "https://localhost:8080/"
        },
        "id": "-6t4o0X6i1H1",
        "outputId": "f272cbc4-d318-47a8-838e-92b4e6c09c0c"
      },
      "execution_count": 29,
      "outputs": [
        {
          "output_type": "execute_result",
          "data": {
            "text/plain": [
              "array([ 0.03565502,  0.00276402,  0.01620053,  0.02758981, -0.01885544,\n",
              "       -0.00544418, -0.01938982,  0.00446083, -0.00294405,  0.00912016,\n",
              "        0.00244974, -0.01472235, -0.00078888,  0.02516087,  0.03498071,\n",
              "        0.01280169,  0.00898542, -0.00423497,  0.00023395, -0.0041301 ,\n",
              "        0.02245782, -0.00880944,  0.00808551, -0.00198917, -0.00283948,\n",
              "       -0.00520552,  0.00058963, -0.00624382, -0.00599928,  0.01106238,\n",
              "       -0.00912775,  0.02308134,  0.0334801 , -0.00699823, -0.02010268,\n",
              "        0.03576301,  0.01966318,  0.01999781,  0.03723913, -0.00690056,\n",
              "       -0.00110764,  0.02158307,  0.00346316,  0.0091003 ,  0.02344434,\n",
              "        0.01587283,  0.01035438,  0.01397783, -0.0096817 ,  0.00021318,\n",
              "       -0.01414625, -0.0235564 , -0.01343521,  0.01204442,  0.03452469,\n",
              "        0.0207366 ,  0.02981858, -0.02686019,  0.03010784,  0.00885616,\n",
              "       -0.01314334, -0.01799181, -0.00633346,  0.02550347,  0.01863832,\n",
              "       -0.00682717,  0.01921283,  0.0014178 , -0.02299031, -0.02222932,\n",
              "        0.01277274,  0.00070504,  0.01097445, -0.00252496,  0.02175169,\n",
              "        0.02786713,  0.00591174, -0.00067861,  0.04086582, -0.02675625],\n",
              "      dtype=float32)"
            ]
          },
          "metadata": {},
          "execution_count": 29
        }
      ]
    },
    {
      "cell_type": "markdown",
      "source": [
        "- 첫번째 시도(LMS : factors=100, iteration=15)"
      ],
      "metadata": {
        "id": "65ELQ4FbVkdA"
      }
    },
    {
      "cell_type": "markdown",
      "source": [
        "![image.png](data:image/png;base64,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)"
      ],
      "metadata": {
        "id": "rBvlW5oAUzZi"
      }
    },
    {
      "cell_type": "markdown",
      "source": [
        "- 두번째 시도(factors=200, iteration=15)"
      ],
      "metadata": {
        "id": "s2R7ajeYVvOn"
      }
    },
    {
      "cell_type": "markdown",
      "source": [
        "![image.png](data:image/png;base64,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)"
      ],
      "metadata": {
        "id": "q4-OobNMVDzW"
      }
    },
    {
      "cell_type": "markdown",
      "source": [
        "- 세번째 시도 (factors=150, iteration=20)"
      ],
      "metadata": {
        "id": "4sbjGTvHV1hA"
      }
    },
    {
      "cell_type": "markdown",
      "source": [
        "![image.png](data:image/png;base64,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)"
      ],
      "metadata": {
        "id": "kjAQxGpkVbYV"
      }
    },
    {
      "cell_type": "markdown",
      "source": [
        "- 네번째 시도(factors=80, iteration=10)"
      ],
      "metadata": {
        "id": "-ndqp0GtXaip"
      }
    },
    {
      "cell_type": "code",
      "source": [
        "np.dot(my_id_vector, Men_in_black_vector)"
      ],
      "metadata": {
        "colab": {
          "base_uri": "https://localhost:8080/"
        },
        "id": "1CE3JZbUi7to",
        "outputId": "54c51dc5-2d02-4ccf-8f71-4a37cfaafc24"
      },
      "execution_count": 30,
      "outputs": [
        {
          "output_type": "execute_result",
          "data": {
            "text/plain": [
              "0.83136016"
            ]
          },
          "metadata": {},
          "execution_count": 30
        }
      ]
    },
    {
      "cell_type": "code",
      "source": [
        "Star_wars = title_to_idx['Star Wars: Episode VI - Return of the Jedi (1983)']\n",
        "Star_wars_vector = als_model.item_factors[Star_wars ]\n",
        "np.dot(my_id_vector, Star_wars_vector)"
      ],
      "metadata": {
        "colab": {
          "base_uri": "https://localhost:8080/"
        },
        "id": "qH_3_Qddjo2c",
        "outputId": "7add507d-2cb9-46d3-c1d9-25d67f6494ec"
      },
      "execution_count": 31,
      "outputs": [
        {
          "output_type": "execute_result",
          "data": {
            "text/plain": [
              "0.5652188"
            ]
          },
          "metadata": {},
          "execution_count": 31
        }
      ]
    },
    {
      "cell_type": "markdown",
      "source": [
        "> 정리\n",
        "- 두번째, 세번째 시도\n",
        "  - 많은 학습량으로 과적합이 일어나 다른 영화 타이틀을 넣었을때 그 값이 현저히 떨어지는 것을 확인할 수 있다.\n",
        "- 첫번째, 네번째 시도\n",
        "  - 이는 과적합이 일어나지 않았다고 판단할 수 있다.\n",
        "  - 첫번째, 네번째 시도 중에서 무엇을 사용할지 고민하였으나\n",
        "  - 네번째 시도에서 가장 밑단 내가 좋아하는 추천에서 정말로 내가 어릴적 가장 좋아해서 많이 보던 영화가 포진해 있었다. \n",
        "  - 특히 내가 좋아하는 영화에 일부러 스타워즈를 넣지 않았는데 사실 스타워즈 시지즈를 다 챙겨봤을 만큼 좋아하던 영화이다. 마지막 결과를 보면 스타워즈 시리즈 들이 포진해 있는 것을 확인할 수 있었다.\n",
        "  - 그리고 첫번째 시도와 달리 내가 싫어하는 에일리언 이라는 영화가 빠져있다."
      ],
      "metadata": {
        "id": "GTlhSIRWX2Gx"
      }
    },
    {
      "cell_type": "markdown",
      "source": [
        "## 8. 내가 좋아하는 영화와 비슷한 영화를 추천받아 봅시다."
      ],
      "metadata": {
        "id": "BSDIN3FcgCch"
      }
    },
    {
      "cell_type": "code",
      "source": [
        "favorite_title = 'Shakespeare in Love (1998)'\n",
        "title_id = title_to_idx[favorite_title]\n",
        "similar_title_idx, similar_title = als_model.similar_items(title_id, N=15)\n",
        " # lms에서는 그냥 튜플로 나오지만 이 버전에서는 리턴이 두개로 나옵니다 :)\n",
        "print(similar_title_idx)\n",
        "print(similar_title)\n",
        "tuple_similar_title = [(similar_title_idx[i], similar_title[i]) for i in range(15)]\n",
        "print('-'*75)\n",
        "idx_to_title = {v:k for k,v in title_to_idx.items()}\n",
        "[idx_to_title[i[0]] for i in tuple_similar_title]"
      ],
      "metadata": {
        "colab": {
          "base_uri": "https://localhost:8080/"
        },
        "id": "-zGcHHx9Vv-g",
        "outputId": "a9dc0544-61f2-431c-b18c-04faf63acd17"
      },
      "execution_count": 32,
      "outputs": [
        {
          "output_type": "stream",
          "name": "stdout",
          "text": [
            "[ 126  110  170  271  613   99   40  381   50   38  204  301  243 3035\n",
            "  757]\n",
            "[1.         0.62388283 0.57814723 0.57599187 0.5097191  0.50170374\n",
            " 0.48419094 0.47773516 0.45737767 0.45124558 0.4441706  0.4285\n",
            " 0.42844304 0.41854522 0.41526556]\n",
            "---------------------------------------------------------------------------\n"
          ]
        },
        {
          "output_type": "execute_result",
          "data": {
            "text/plain": [
              "['Shakespeare in Love (1998)',\n",
              " 'Groundhog Day (1993)',\n",
              " 'Being John Malkovich (1999)',\n",
              " 'Election (1999)',\n",
              " 'Four Weddings and a Funeral (1994)',\n",
              " 'American Beauty (1999)',\n",
              " 'Toy Story (1995)',\n",
              " 'Elizabeth (1998)',\n",
              " 'Toy Story 2 (1999)',\n",
              " 'Sixth Sense, The (1999)',\n",
              " 'Clueless (1995)',\n",
              " 'Rushmore (1998)',\n",
              " 'Ghostbusters (1984)',\n",
              " 'For Ever Mozart (1996)',\n",
              " 'Full Monty, The (1997)']"
            ]
          },
          "metadata": {},
          "execution_count": 32
        }
      ]
    },
    {
      "cell_type": "code",
      "source": [
        "favorite_title = 'Men in Black (1997)'\n",
        "title_id = title_to_idx[favorite_title]\n",
        "similar_title_idx, similar_title = als_model.similar_items(title_id, N=15)\n",
        " # lms에서는 그냥 튜플로 나오지만 이 버전에서는 리턴이 두개로 나옵니다 :)\n",
        "print(similar_title_idx)\n",
        "print(similar_title)\n",
        "tuple_similar_title = [(similar_title_idx[i], similar_title[i]) for i in range(15)]\n",
        "print('-'*75)\n",
        "idx_to_title = {v:k for k,v in title_to_idx.items()}\n",
        "[idx_to_title[i[0]] for i in tuple_similar_title]"
      ],
      "metadata": {
        "colab": {
          "base_uri": "https://localhost:8080/"
        },
        "id": "o8UJYpb1WDxj",
        "outputId": "ef640231-59dc-4605-c993-18c1dc7f6898"
      },
      "execution_count": 33,
      "outputs": [
        {
          "output_type": "stream",
          "name": "stdout",
          "text": [
            "[ 175  107   92   62  150  124  145   82  138   87   60  542  375  544\n",
            " 1045]\n",
            "[1.         0.8378379  0.67599976 0.61723715 0.54417896 0.5379254\n",
            " 0.5335466  0.5079845  0.49242827 0.4918291  0.48979527 0.48747614\n",
            " 0.47400454 0.4543645  0.44559687]\n",
            "---------------------------------------------------------------------------\n"
          ]
        },
        {
          "output_type": "execute_result",
          "data": {
            "text/plain": [
              "['Men in Black (1997)',\n",
              " 'Jurassic Park (1993)',\n",
              " 'Terminator 2: Judgment Day (1991)',\n",
              " 'Total Recall (1990)',\n",
              " 'Independence Day (ID4) (1996)',\n",
              " 'Matrix, The (1999)',\n",
              " 'Fifth Element, The (1997)',\n",
              " 'Lost World: Jurassic Park, The (1997)',\n",
              " 'True Lies (1994)',\n",
              " 'Braveheart (1995)',\n",
              " 'Star Wars: Episode I - The Phantom Menace (1999)',\n",
              " 'Rocky Horror Picture Show, The (1975)',\n",
              " 'Face/Off (1997)',\n",
              " 'Stargate (1994)',\n",
              " 'Grumpy Old Men (1993)']"
            ]
          },
          "metadata": {},
          "execution_count": 33
        }
      ]
    },
    {
      "cell_type": "markdown",
      "source": [
        "## 9. 내가 가장 좋아할 만한 영화들을 추천받아 봅시다."
      ],
      "metadata": {
        "id": "Pb7bgh23gEMA"
      }
    },
    {
      "cell_type": "markdown",
      "source": [
        "### 1) 영화 추천받기"
      ],
      "metadata": {
        "id": "VNAD8CudZx0j"
      }
    },
    {
      "cell_type": "code",
      "source": [
        "user = user_to_idx[6041]\n",
        "# recommend에서는 user*item CSR Matrix를 받습니다.\n",
        "title_recommended_idx, title_recommended = als_model.recommend(user, csr_movies_data[user], N=15, filter_already_liked_items=True)\n",
        "tuple_title_recommended = [(title_recommended_idx[i], title_recommended[i]) for i in range(15)]\n",
        "tuple_title_recommended"
      ],
      "metadata": {
        "colab": {
          "base_uri": "https://localhost:8080/"
        },
        "id": "d3nDDmgCXcIo",
        "outputId": "85b34944-697c-4506-8b42-44be2d25eead"
      },
      "execution_count": 34,
      "outputs": [
        {
          "output_type": "execute_result",
          "data": {
            "text/plain": [
              "[(92, 1.0910898),\n",
              " (107, 0.80228734),\n",
              " (62, 0.7512238),\n",
              " (141, 0.6718682),\n",
              " (50, 0.64975744),\n",
              " (44, 0.62332386),\n",
              " (110, 0.5999917),\n",
              " (670, 0.59044516),\n",
              " (22, 0.58263874),\n",
              " (64, 0.5652188),\n",
              " (60, 0.559483),\n",
              " (117, 0.54897124),\n",
              " (126, 0.5339569),\n",
              " (99, 0.5058538),\n",
              " (75, 0.48690656)]"
            ]
          },
          "metadata": {},
          "execution_count": 34
        }
      ]
    },
    {
      "cell_type": "code",
      "source": [
        "[idx_to_title[i[0]] for i in tuple_title_recommended]"
      ],
      "metadata": {
        "id": "X3qV1IwjgGPx",
        "colab": {
          "base_uri": "https://localhost:8080/"
        },
        "outputId": "406bee88-b896-40a8-f6ff-1da5d042cbf5"
      },
      "execution_count": 35,
      "outputs": [
        {
          "output_type": "execute_result",
          "data": {
            "text/plain": [
              "['Terminator 2: Judgment Day (1991)',\n",
              " 'Jurassic Park (1993)',\n",
              " 'Total Recall (1990)',\n",
              " 'Fugitive, The (1993)',\n",
              " 'Toy Story 2 (1999)',\n",
              " 'Star Wars: Episode IV - A New Hope (1977)',\n",
              " 'Groundhog Day (1993)',\n",
              " 'Galaxy Quest (1999)',\n",
              " 'Back to the Future (1985)',\n",
              " 'Star Wars: Episode VI - Return of the Jedi (1983)',\n",
              " 'Star Wars: Episode I - The Phantom Menace (1999)',\n",
              " 'Star Wars: Episode V - The Empire Strikes Back (1980)',\n",
              " 'Shakespeare in Love (1998)',\n",
              " 'American Beauty (1999)',\n",
              " 'Hunt for Red October, The (1990)']"
            ]
          },
          "metadata": {},
          "execution_count": 35
        }
      ]
    },
    {
      "cell_type": "markdown",
      "source": [
        "### 2) 추천에 기여한 정도"
      ],
      "metadata": {
        "id": "nsDbh2YIZvd7"
      }
    },
    {
      "cell_type": "code",
      "source": [
        "Star = title_to_idx['Star Wars: Episode I - The Phantom Menace (1999)']\n",
        "explain = als_model.explain(user, csr_movies_data, itemid=Star)"
      ],
      "metadata": {
        "id": "NWRHwBCXY00y"
      },
      "execution_count": 40,
      "outputs": []
    },
    {
      "cell_type": "code",
      "source": [
        "[(idx_to_title[i[0]], i[1]) for i in explain[1]]"
      ],
      "metadata": {
        "colab": {
          "base_uri": "https://localhost:8080/"
        },
        "id": "IkZvr-c3Y_G7",
        "outputId": "b1219fc5-a0b2-41c2-f41d-c538f9b02a11"
      },
      "execution_count": 41,
      "outputs": [
        {
          "output_type": "execute_result",
          "data": {
            "text/plain": [
              "[('Men in Black (1997)', 0.3427401677942858),\n",
              " ('Sixth Sense, The (1999)', 0.1568054260789096),\n",
              " ('Matrix, The (1999)', 0.0919360241745576),\n",
              " ('Terminator, The (1984)', -0.020623971997046943),\n",
              " ('Toy Story (1995)', -0.02388756633066794)]"
            ]
          },
          "metadata": {},
          "execution_count": 41
        }
      ]
    },
    {
      "cell_type": "markdown",
      "source": [
        "- 스타워즈에 가장 많은 기여도를 준 영화는 Men in Black으로 확인되었다. \n",
        "  - 내가 선택한 5영화 중에 가장 좋아하던 영화가 Men in Black였는데 이게 내가 좋아하는 또 다른 영화인 스타워즈에 가장 많이 기여했다.\n",
        "  - 어느정도 정확도가 있는 추천시스템인 것 같다. "
      ],
      "metadata": {
        "id": "ZrRAN-HUZ0iv"
      }
    },
    {
      "cell_type": "markdown",
      "source": [
        "## 10. 회고\n",
        "- "
      ],
      "metadata": {
        "id": "kA3XByBOgIKZ"
      }
    },
    {
      "cell_type": "markdown",
      "source": [
        "### 루브릭 기준\n",
        "1. CSR matrix가 정상적으로 만들어졌다.\n",
        "  - 사용자와 아이템 개수를 바탕으로 정확한 사이즈로 만들었다.\n",
        "\n",
        "2. MF 모델이 정상적으로 훈련되어 그럴듯한 추천이 이루어졌다.\n",
        "  - 사용자와 아이템 벡터 내적수치가 의미있게 형성되었다.\n",
        "\n",
        "3. 비슷한 영화 찾기와 유저에게 추천하기의 과정이 정상적으로 진행되었다.\n",
        "  - MF모델이 예측한 유저 선호도 및 아이템간 유사도, 기여도를 측정하고 의미를 분석해보았다."
      ],
      "metadata": {
        "id": "GkUpySu_mdBo"
      }
    },
    {
      "cell_type": "markdown",
      "source": [],
      "metadata": {
        "id": "a6OdZrTpiiOG"
      }
    },
    {
      "cell_type": "code",
      "source": [],
      "metadata": {
        "id": "vqKc_BOnihlJ"
      },
      "execution_count": null,
      "outputs": []
    }
  ]
}