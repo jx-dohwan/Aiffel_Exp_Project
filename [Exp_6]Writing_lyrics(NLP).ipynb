{
  "cells": [
    {
      "cell_type": "markdown",
      "metadata": {
        "id": "view-in-github",
        "colab_type": "text"
      },
      "source": [
        "<a href=\"https://colab.research.google.com/github/jx-dohwan/Aiffel_EGLMS_Project/blob/main/%5BExp_6%5DWriting_lyrics(NLP).ipynb\" target=\"_parent\"><img src=\"https://colab.research.google.com/assets/colab-badge.svg\" alt=\"Open In Colab\"/></a>"
      ]
    },
    {
      "cell_type": "markdown",
      "metadata": {
        "id": "7ftYCLbvf3Gy"
      },
      "source": [
        "# [Exp_6]Writing_lyrics(NLP)"
      ]
    },
    {
      "cell_type": "markdown",
      "metadata": {
        "id": "ozPXKoSBf6xH"
      },
      "source": [
        "## 1. 라이브러리 버전 확인 및 import"
      ]
    },
    {
      "cell_type": "code",
      "execution_count": 1,
      "metadata": {
        "colab": {
          "base_uri": "https://localhost:8080/"
        },
        "id": "h8V_MuxYfzgx",
        "outputId": "af67cd24-db27-4666-aa49-7c69e70002ff"
      },
      "outputs": [
        {
          "output_type": "stream",
          "name": "stdout",
          "text": [
            "2.8.2\n"
          ]
        }
      ],
      "source": [
        "import tensorflow as tf\n",
        "import glob\n",
        "import re\n",
        "import numpy as np\n",
        "from sklearn.model_selection import train_test_split\n",
        "from wordcloud import WordCloud, STOPWORDS\n",
        "from sklearn.model_selection import GridSearchCV, train_test_split\n",
        "\n",
        "\n",
        "print(tf.__version__)"
      ]
    },
    {
      "cell_type": "markdown",
      "metadata": {
        "id": "W3lWOfgfgmG5"
      },
      "source": [
        "## 2. 데이터 읽어오기"
      ]
    },
    {
      "cell_type": "code",
      "execution_count": 2,
      "metadata": {
        "colab": {
          "base_uri": "https://localhost:8080/"
        },
        "id": "Z6jQOE5Ug6-C",
        "outputId": "37ab77bb-8697-46bf-f084-4ba5066a9210"
      },
      "outputs": [
        {
          "output_type": "stream",
          "name": "stdout",
          "text": [
            "데이터 크기 :  227088\n",
            "Examples : \n",
            " ['The first words that come out', 'And I can see this song will be about you', \"I can't believe that I can breathe without you\"]\n"
          ]
        }
      ],
      "source": [
        "txt_file_path = \"/content/drive/MyDrive/인공지능/아이펠/ES/data/lyrics/*\"\n",
        "\n",
        "txt_list = glob.glob(txt_file_path)\n",
        "\n",
        "raw_corpus = []\n",
        "\n",
        "# 여러개의 txt 파일을 모두 읽어서 raw_corpus에 담는다.\n",
        "for txt_file in txt_list:\n",
        "  with open(txt_file, \"r\") as f:\n",
        "    raw = f.read().splitlines()\n",
        "    raw_corpus.extend(raw)\n",
        "\n",
        "print('데이터 크기 : ', len(raw_corpus))\n",
        "print('Examples : \\n', raw_corpus[:3])"
      ]
    },
    {
      "cell_type": "markdown",
      "metadata": {
        "id": "WoPSD3xVgpDw"
      },
      "source": [
        "## 3. 데이터 정제"
      ]
    },
    {
      "cell_type": "markdown",
      "metadata": {
        "id": "I7Gei7N2kj75"
      },
      "source": [
        "앞서 배운 테크닉들을 활용해 문장 생성에 적합한 모양새로 데이터를 정제하세요!\n",
        "\n",
        "preprocess_sentence() 함수를 만든 것을 기억하시죠? 이를 활용해 데이터를 정제하도록 하겠습니다.\n",
        "\n",
        "추가로 지나치게 긴 문장은 다른 데이터들이 과도한 Padding을 갖게 하므로 제거합니다. 너무 긴 문장은 노래 가사 작사하기에 어울리지 않을 수도 있겠죠.\n",
        "그래서 이번에는 문장을 토큰화 했을 때 토큰의 개수가 15개를 넘어가는 문장을 학습 데이터에서 제외하기 를 권합니다."
      ]
    },
    {
      "cell_type": "code",
      "execution_count": 3,
      "metadata": {
        "colab": {
          "base_uri": "https://localhost:8080/"
        },
        "id": "TWcF0enSr5vk",
        "outputId": "69946cfd-acc5-4cd3-ec3d-12261d846799"
      },
      "outputs": [
        {
          "output_type": "stream",
          "name": "stdout",
          "text": [
            "<start> this is sample sentence . <end>\n"
          ]
        }
      ],
      "source": [
        "def preprocess_sentence(sentence):\n",
        "    sentence = sentence.lower().strip() # 1\n",
        "    sentence = re.sub(r\"([?.!,¿])\", r\" \\1 \", sentence) # 2\n",
        "    sentence = re.sub(r'[\" \"]+', \" \", sentence) # 3\n",
        "    sentence = re.sub(r\"[^a-zA-Z?.!,¿]+\", \" \", sentence) # 4\n",
        "    sentence = sentence.strip() # 5\n",
        "    sentence = '<start> ' + sentence + ' <end>' # 6\n",
        "    return sentence\n",
        "\n",
        "print(preprocess_sentence(\"This @_is ;;;sample        sentence.\"))\n",
        "\n",
        "# regexr 참고\n",
        "# 정규표현식을 더 추가하거나 빼거나 수정할 수 있다. "
      ]
    },
    {
      "cell_type": "code",
      "execution_count": 4,
      "metadata": {
        "colab": {
          "base_uri": "https://localhost:8080/"
        },
        "id": "OkSqA_QZr5p3",
        "outputId": "f55df26b-348f-4ac2-838c-4073c9e2351e"
      },
      "outputs": [
        {
          "output_type": "execute_result",
          "data": {
            "text/plain": [
              "['<start> the first words that come out <end>',\n",
              " '<start> and i can see this song will be about you <end>',\n",
              " '<start> i can t believe that i can breathe without you <end>',\n",
              " '<start> but all i need to do is carry on <end>',\n",
              " '<start> the next line i write down <end>',\n",
              " '<start> and there s a tear that falls between the pages <end>',\n",
              " '<start> i know that pain s supposed to heal in stages <end>',\n",
              " '<start> but it depends which one i m standing on i write lines down , then rip them up <end>',\n",
              " '<start> describing love can t be this tough i could set this song on fire , send it up in smoke <end>',\n",
              " '<start> i could throw it in the river and watch it sink in slowly <end>',\n",
              " '<start> tie the pages to a plane and send it to the moon <end>',\n",
              " '<start> play it for the world , but it won t mean much <end>',\n",
              " '<start> unless i sing this song to you i m dying to show you <end>',\n",
              " '<start> this could end happily ever after <end>',\n",
              " '<start> there doesn t ever have to be disaster <end>',\n",
              " '<start> and all you have to do is sing along i write lines down , then rip them up <end>',\n",
              " '<start> impossible describing love i could set this song on fire , send it up in smoke <end>',\n",
              " '<start> i could throw it in the river and watch it sink in slowly <end>',\n",
              " '<start> tie the pages to a plane and send it to the moon <end>',\n",
              " '<start> play it for the world , but it won t mean much <end>']"
            ]
          },
          "metadata": {},
          "execution_count": 4
        }
      ],
      "source": [
        "# 여기에 정제된 문장을 모을겁니다\n",
        "corpus = []\n",
        "\n",
        "for sentence in raw_corpus:\n",
        "  if len(sentence) == 0: continue\n",
        "  if sentence[-1] == \":\": continue # 데이터를 확인해본결과 셰익스피어 파일도 있기 때문에 이것도 넣어 주었다.\n",
        "  \n",
        "    # 정제를 하고 담아주세요\n",
        "  preprocessed_sentence = preprocess_sentence(sentence)\n",
        "  corpus.append(preprocessed_sentence)\n",
        "        \n",
        "# 정제된 결과를 10개만 확인해보죠\n",
        "corpus[:20]\n",
        "\n"
      ]
    },
    {
      "cell_type": "markdown",
      "metadata": {
        "id": "JZXbmKM329RT"
      },
      "source": [
        "![image.png](data:image/png;base64,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)"
      ]
    },
    {
      "cell_type": "markdown",
      "metadata": {
        "id": "MH5_lSzK2-Iu"
      },
      "source": [
        "-  공백인 문장을 지웠으나 오히려 val_loss의 값이 오른 것을 확인할 수 있다."
      ]
    },
    {
      "cell_type": "markdown",
      "metadata": {
        "id": "P9enZWCVJLII"
      },
      "source": [
        "- 단어하나?? 두개 있는거 필요없으면 지우기\""
      ]
    },
    {
      "cell_type": "code",
      "execution_count": 5,
      "metadata": {
        "colab": {
          "base_uri": "https://localhost:8080/"
        },
        "id": "BZ5viw0m1Ao3",
        "outputId": "71d74854-4f6a-4ef9-f65c-6eab43111526"
      },
      "outputs": [
        {
          "output_type": "stream",
          "name": "stdout",
          "text": [
            "[[   2    6  237 ...    0    0    0]\n",
            " [   2    8    5 ...    0    0    0]\n",
            " [   2    5   38 ...    0    0    0]\n",
            " ...\n",
            " [   2  848    1 ...    0    0    0]\n",
            " [   2  161   64 ...    0    0    0]\n",
            " [   2 4396  161 ...    0    0    0]] <keras_preprocessing.text.Tokenizer object at 0x7fcf5970d7d0>\n"
          ]
        }
      ],
      "source": [
        "# 토큰화 할 때 텐서플로우의 Tokenizer와 pad_sequences를 사용합니다\n",
        "# 더 잘 알기 위해 아래 문서들을 참고하면 좋습니다\n",
        "# https://www.tensorflow.org/api_docs/python/tf/keras/preprocessing/text/Tokenizer\n",
        "# https://www.tensorflow.org/api_docs/python/tf/keras/preprocessing/sequence/pad_sequences\n",
        "def tokenize(corpus):\n",
        "    # 7000단어를 기억할 수 있는 tokenizer를 만들겁니다\n",
        "    # 우리는 이미 문장을 정제했으니 filters가 필요없어요\n",
        "    # 7000단어에 포함되지 못한 단어는 '<unk>'로 바꿀거에요\n",
        "    tokenizer = tf.keras.preprocessing.text.Tokenizer(\n",
        "        num_words=12000, \n",
        "        filters=' ',\n",
        "        oov_token=\"<unk>\"\n",
        "    )\n",
        "    # corpus를 이용해 tokenizer 내부의 단어장을 완성합니다\n",
        "    tokenizer.fit_on_texts(corpus)\n",
        "    # 준비한 tokenizer를 이용해 corpus를 Tensor로 변환합니다\n",
        "    tensor = tokenizer.texts_to_sequences(corpus)   \n",
        "    # 입력 데이터의 시퀀스 길이를 일정하게 맞춰줍니다\n",
        "    # 만약 시퀀스가 짧다면 문장 뒤에 패딩을 붙여 길이를 맞춰줍니다.\n",
        "    # 문장 앞에 패딩을 붙여 길이를 맞추고 싶다면 padding='pre'를 사용합니다\n",
        "    tensor = tf.keras.preprocessing.sequence.pad_sequences(tensor, padding='post',maxlen=21) # maxlen을 15로 권장해서 15\n",
        "    print(tensor,tokenizer)\n",
        "    \n",
        "    return tensor, tokenizer\n",
        "\n",
        "tensor, tokenizer = tokenize(corpus)"
      ]
    },
    {
      "cell_type": "code",
      "execution_count": 6,
      "metadata": {
        "colab": {
          "base_uri": "https://localhost:8080/"
        },
        "id": "63GITdWn1KoU",
        "outputId": "c1b0f00f-96c1-4b30-bbaf-6b54e2afe3c2"
      },
      "outputs": [
        {
          "output_type": "stream",
          "name": "stdout",
          "text": [
            "[[   2    6  237 ...    0    0    0]\n",
            " [   2    8    5 ...    0    0    0]\n",
            " [   2    5   38 ...    0    0    0]\n",
            " ...\n",
            " [   2  848    1 ...    0    0    0]\n",
            " [   2  161   64 ...    0    0    0]\n",
            " [   2 4396  161 ...    0    0    0]]\n"
          ]
        }
      ],
      "source": [
        "print(tensor)"
      ]
    },
    {
      "cell_type": "code",
      "source": [
        ""
      ],
      "metadata": {
        "id": "NxuaEIUtCzhA"
      },
      "execution_count": 6,
      "outputs": []
    },
    {
      "cell_type": "code",
      "execution_count": 7,
      "metadata": {
        "id": "4b_1v1z-1N2N",
        "colab": {
          "base_uri": "https://localhost:8080/"
        },
        "outputId": "f892520c-f162-4580-a124-70c0c1fedf95"
      },
      "outputs": [
        {
          "output_type": "stream",
          "name": "stdout",
          "text": [
            "[[   2    6  237 ...    0    0    0]\n",
            " [   2    8    5 ...    0    0    0]\n",
            " [   2    5   38 ...    0    0    0]\n",
            " ...\n",
            " [   2  848    1 ...    0    0    0]\n",
            " [   2  161   64 ...    0    0    0]\n",
            " [   2 4396  161 ...    0    0    0]]\n"
          ]
        }
      ],
      "source": [
        "print(tensor)"
      ]
    },
    {
      "cell_type": "code",
      "source": [
        "# index_word_sorted = sorted(index_word.items(), key = lambda x:x[1], reverse = True)\n",
        "# print(index_word_sorted)"
      ],
      "metadata": {
        "id": "ZEsWbJ_aDb9a"
      },
      "execution_count": 8,
      "outputs": []
    },
    {
      "cell_type": "markdown",
      "metadata": {
        "id": "hV0Dq_IJgrnb"
      },
      "source": [
        "## 4. 평가 데이터셋 분리"
      ]
    },
    {
      "cell_type": "markdown",
      "metadata": {
        "id": "2eCZEn-CA-g3"
      },
      "source": [
        "훈련 데이터와 평가 데이터를 분리하세요!\n",
        "\n",
        "tokenize() 함수로 데이터를 Tensor로 변환한 후, sklearn 모듈의 train_test_split() 함수를 사용해 훈련 데이터와 평가 데이터를 분리하도록 하겠습니다. 단어장의 크기는 12,000 이상 으로 설정하세요! 총 데이터의 20% 를 평가 데이터셋으로 사용해 주세요!"
      ]
    },
    {
      "cell_type": "code",
      "execution_count": 9,
      "metadata": {
        "colab": {
          "base_uri": "https://localhost:8080/"
        },
        "id": "aB71fPWmERoU",
        "outputId": "9e6cfdd2-22bf-4928-f3c2-0dece04d55b3"
      },
      "outputs": [
        {
          "output_type": "stream",
          "name": "stdout",
          "text": [
            "[  2   8   5  38  69  34 372  77  27 122   7   3   0   0   0   0   0   0\n",
            "   0   0]\n",
            "[  8   5  38  69  34 372  77  27 122   7   3   0   0   0   0   0   0   0\n",
            "   0   0]\n"
          ]
        }
      ],
      "source": [
        "src_input = tensor[:, :-1]  \n",
        "# tensor에서 <start>를 잘라내서 타겟 문장을 생성합니다.\n",
        "tgt_input = tensor[:, 1:]    \n",
        "\n",
        "print(src_input[1])\n",
        "print(tgt_input[1])"
      ]
    },
    {
      "cell_type": "code",
      "execution_count": 10,
      "metadata": {
        "id": "3T8CtAzrEV9K"
      },
      "outputs": [],
      "source": [
        "enc_train, enc_val, dec_train, dec_val = train_test_split(src_input, tgt_input, test_size=0.2, random_state=23 )"
      ]
    },
    {
      "cell_type": "markdown",
      "metadata": {
        "id": "aOyOunncguFn"
      },
      "source": [
        "## 5.인공지능 만들기"
      ]
    },
    {
      "cell_type": "code",
      "execution_count": 11,
      "metadata": {
        "id": "yPKg_RhcrUe5"
      },
      "outputs": [],
      "source": [
        "class TextGenerator(tf.keras.Model):\n",
        "    def __init__(self, vocab_size, embedding_size, hidden_size):\n",
        "        super().__init__()\n",
        "        \n",
        "        self.embedding = tf.keras.layers.Embedding(vocab_size, embedding_size)\n",
        "        self.rnn_1 = tf.keras.layers.LSTM(hidden_size, return_sequences=True)\n",
        "        self.rnn_2 = tf.keras.layers.LSTM(hidden_size, return_sequences=True)\n",
        "        self.linear = tf.keras.layers.Dense(vocab_size)\n",
        "        \n",
        "    def call(self, x):\n",
        "        out = self.embedding(x)\n",
        "        out = self.rnn_1(out)\n",
        "        out = self.rnn_2(out)\n",
        "        out = self.linear(out)\n",
        "        \n",
        "        return out\n",
        "    \n",
        "embedding_size = 256\n",
        "hidden_size = 1024\n",
        "model = TextGenerator(tokenizer.num_words + 1, embedding_size , hidden_size)"
      ]
    },
    {
      "cell_type": "code",
      "execution_count": 12,
      "metadata": {
        "id": "iT6f-SNJr9Gk"
      },
      "outputs": [],
      "source": [
        "optimizer = tf.keras.optimizers.Adam()\n",
        "loss = tf.keras.losses.SparseCategoricalCrossentropy(\n",
        "    from_logits=True, reduction='none')\n",
        "\n",
        "model.compile(loss=loss, optimizer=optimizer)"
      ]
    },
    {
      "cell_type": "code",
      "execution_count": 13,
      "metadata": {
        "colab": {
          "base_uri": "https://localhost:8080/"
        },
        "id": "fAbB7-8OrBA9",
        "outputId": "ae7e9dc7-4f58-484b-f7aa-34da3556d9e1"
      },
      "outputs": [
        {
          "output_type": "stream",
          "name": "stdout",
          "text": [
            "Epoch 1/10\n",
            "1249/1249 [==============================] - 107s 81ms/step - loss: 2.6418 - val_loss: 2.4032\n",
            "Epoch 2/10\n",
            "1249/1249 [==============================] - 101s 81ms/step - loss: 2.3087 - val_loss: 2.2478\n",
            "Epoch 3/10\n",
            "1249/1249 [==============================] - 101s 81ms/step - loss: 2.1601 - val_loss: 2.1557\n",
            "Epoch 4/10\n",
            "1249/1249 [==============================] - 101s 81ms/step - loss: 2.0421 - val_loss: 2.0906\n",
            "Epoch 5/10\n",
            "1249/1249 [==============================] - 101s 81ms/step - loss: 1.9374 - val_loss: 2.0437\n",
            "Epoch 6/10\n",
            "1249/1249 [==============================] - 101s 81ms/step - loss: 1.8410 - val_loss: 2.0111\n",
            "Epoch 7/10\n",
            "1249/1249 [==============================] - 101s 81ms/step - loss: 1.7509 - val_loss: 1.9890\n",
            "Epoch 8/10\n",
            "1249/1249 [==============================] - 101s 81ms/step - loss: 1.6663 - val_loss: 1.9746\n",
            "Epoch 9/10\n",
            "1249/1249 [==============================] - 101s 81ms/step - loss: 1.5868 - val_loss: 1.9638\n",
            "Epoch 10/10\n",
            "1249/1249 [==============================] - 101s 81ms/step - loss: 1.5113 - val_loss: 1.9605\n"
          ]
        }
      ],
      "source": [
        "hist = model.fit(enc_train, dec_train, epochs=10,validation_data=(enc_val, dec_val),batch_size=128)"
      ]
    },
    {
      "cell_type": "code",
      "execution_count": 14,
      "metadata": {
        "id": "G5pyERFLFt31",
        "colab": {
          "base_uri": "https://localhost:8080/",
          "height": 308
        },
        "outputId": "820eaae3-fa6c-45ba-c3af-b534995f8795"
      },
      "outputs": [
        {
          "output_type": "display_data",
          "data": {
            "text/plain": [
              "<Figure size 432x288 with 1 Axes>"
            ],
            "image/png": "[encoded data removed]"
          },
          "metadata": {
            "needs_background": "light"
          }
        }
      ],
      "source": [
        "import matplotlib.pyplot as plt\n",
        "\n",
        "plt.plot(hist.history['loss'])\n",
        "plt.plot(hist.history['val_loss'])\n",
        "plt.title('loss',fontsize=20)\n",
        "plt.xlabel('Epoch', fontsize=17)\n",
        "plt.ylabel('Loss',fontsize=17)\n",
        "plt.legend(['loss', 'val_loss'], loc='upper right')\n",
        "\n",
        "plt.show()"
      ]
    },
    {
      "cell_type": "code",
      "execution_count": 15,
      "metadata": {
        "id": "5kBmSOInrSfv"
      },
      "outputs": [],
      "source": [
        "def generate_text(model, tokenizer, init_sentence=\"<start>\", max_len=20):\n",
        "    # 테스트를 위해서 입력받은 init_sentence도 텐서로 변환합니다\n",
        "    test_input = tokenizer.texts_to_sequences([init_sentence])\n",
        "    test_tensor = tf.convert_to_tensor(test_input, dtype=tf.int64)\n",
        "    end_token = tokenizer.word_index[\"<end>\"]\n",
        "\n",
        "    # 단어 하나씩 예측해 문장을 만듭니다\n",
        "    #    1. 입력받은 문장의 텐서를 입력합니다\n",
        "    #    2. 예측된 값 중 가장 높은 확률인 word index를 뽑아냅니다\n",
        "    #    3. 2에서 예측된 word index를 문장 뒤에 붙입니다\n",
        "    #    4. 모델이 <end>를 예측했거나, max_len에 도달했다면 문장 생성을 마칩니다\n",
        "    while True:\n",
        "        # 1\n",
        "        predict = model(test_tensor) \n",
        "        # 2\n",
        "        predict_word = tf.argmax(tf.nn.softmax(predict, axis=-1), axis=-1)[:, -1] \n",
        "        # 3 \n",
        "        test_tensor = tf.concat([test_tensor, tf.expand_dims(predict_word, axis=0)], axis=-1)\n",
        "        # 4\n",
        "        if predict_word.numpy()[0] == end_token: break\n",
        "        if test_tensor.shape[1] >= max_len: break\n",
        "\n",
        "    generated = \"\"\n",
        "    # tokenizer를 이용해 word index를 단어로 하나씩 변환합니다 \n",
        "    for word_index in test_tensor[0].numpy():\n",
        "        generated += tokenizer.index_word[word_index] + \" \"\n",
        "\n",
        "    return generated"
      ]
    },
    {
      "cell_type": "code",
      "execution_count": 16,
      "metadata": {
        "id": "c_nf-n7nxqlA",
        "colab": {
          "base_uri": "https://localhost:8080/",
          "height": 35
        },
        "outputId": "62d8ddcd-ceaf-4c79-bb19-349578cfb96d"
      },
      "outputs": [
        {
          "output_type": "execute_result",
          "data": {
            "text/plain": [
              "'<start> i love you so much , i love you so much <end> '"
            ],
            "application/vnd.google.colaboratory.intrinsic+json": {
              "type": "string"
            }
          },
          "metadata": {},
          "execution_count": 16
        }
      ],
      "source": [
        "generate_text(model, tokenizer, init_sentence=\"<start> i love\", max_len=20)"
      ]
    },
    {
      "cell_type": "markdown",
      "source": [
        "## 회고"
      ],
      "metadata": {
        "id": "Wu54el5_Xx5y"
      }
    },
    {
      "cell_type": "markdown",
      "source": [
        "- 시도해본 것\n",
        "  - LMS에 있는 데이터셋 객체를 생성하는 코드를 적용하여 train_dataset과 test_dataset을 만들어서 학습을 시켰으나 val_loss가 5점대로 올라갔고 학습을 할때마다 더 올라간 것을 확인할 수 있었다"
      ],
      "metadata": {
        "id": "AMzq2fm3Xz9b"
      }
    },
    {
      "cell_type": "markdown",
      "source": [
        "![image.png](data:image/png;base64,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)"
      ],
      "metadata": {
        "id": "yQavWhroX1_p"
      }
    },
    {
      "cell_type": "markdown",
      "source": [
        "  - 음악 가사 이기 때문에 LMS에 있는  if sentence[-1] == \":\": continue 코드를 지우고 사용하였지만 이번 데이터셋에도 셰익스피어 파일이 있는 것을 확인하여 다시 이 코드를 적용시켰다.\n",
        "  - 문장 길이를 15개로 권장하여서 15개로 계속 시도해보았으니 val_loss가 2.2017이 최솟값이고 더이상 떨어지지 않는 것을 확인할 수 있었다. 그래서 어차피 마지막에 길이가 20인 문장을 출력하고 있으니 paading에서 maxlen을 21로 지정하여 20개의 문장으로 학습을 진행하였다.\n",
        "  - embedding_size와 hidden_size를 4096까지 올려 val_loss를 낮추려고 시도해보았으나 2.2017이 최소이며 사용하는 문장길이를 21로 늘려주니 금방 val_loss를 맞출 수 있었다. 그래서 LMS상인 embedding_size = 256, hidden_size=1024로 맞추어서 다시 학습을 진행하였다.\n",
        "  - batch_size를 조정하여 데이터를 나누어주어 학습 속도를 올릴 수 있었다.\n",
        "  - 여러 시도를 많이 했지만 코드에 남는건 별로 없어서 아쉽다. "
      ],
      "metadata": {
        "id": "-_jFQ6CXYN7r"
      }
    },
    {
      "cell_type": "code",
      "execution_count": 16,
      "metadata": {
        "id": "4nI__RpIft_Y"
      },
      "outputs": [],
      "source": [
        ""
      ]
    }
  ],
  "metadata": {
    "accelerator": "GPU",
    "colab": {
      "collapsed_sections": [],
      "machine_shape": "hm",
      "name": "[Exp_6]Writing_lyrics(NLP).ipynb",
      "provenance": [],
      "mount_file_id": "1wCyxguLD_5ZZWcKdtqCyDek7THUpn1kz",
      "authorship_tag": "ABX9TyNmHsK6hkv+fnWgV5ifTMmp",
      "include_colab_link": true
    },
    "gpuClass": "standard",
    "kernelspec": {
      "display_name": "Python 3",
      "name": "python3"
    },
    "language_info": {
      "name": "python"
    }
  },
  "nbformat": 4,
  "nbformat_minor": 0
}