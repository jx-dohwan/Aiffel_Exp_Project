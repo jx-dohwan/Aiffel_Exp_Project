{
  "nbformat": 4,
  "nbformat_minor": 0,
  "metadata": {
    "colab": {
      "name": "[Exp_10]Let's make a translator.ipynb",
      "provenance": [],
      "machine_shape": "hm",
      "mount_file_id": "1mtGZgcWe70hKUvac6b1ckhNaC5500waF",
      "authorship_tag": "ABX9TyNhPr0q2WKtbQtk47Kt3vEp",
      "include_colab_link": true
    },
    "kernelspec": {
      "name": "python3",
      "display_name": "Python 3"
    },
    "language_info": {
      "name": "python"
    },
    "accelerator": "GPU",
    "gpuClass": "standard"
  },
  "cells": [
    {
      "cell_type": "markdown",
      "metadata": {
        "id": "view-in-github",
        "colab_type": "text"
      },
      "source": [
        "<a href=\"https://colab.research.google.com/github/jx-dohwan/Aiffel_EGLMS_Project/blob/main/%5BExp_10%5DLet's_make_a_translator.ipynb\" target=\"_parent\"><img src=\"https://colab.research.google.com/assets/colab-badge.svg\" alt=\"Open In Colab\"/></a>"
      ]
    },
    {
      "cell_type": "markdown",
      "source": [
        "# [Exp_10]Let's make a translator"
      ],
      "metadata": {
        "id": "0OfSZdM4Mrza"
      }
    },
    {
      "cell_type": "markdown",
      "source": [
        "## 1.import 및 데이터로드"
      ],
      "metadata": {
        "id": "DXiImQPJNCbN"
      }
    },
    {
      "cell_type": "markdown",
      "source": [
        "### 1) Import"
      ],
      "metadata": {
        "id": "x9Dga069Ob7g"
      }
    },
    {
      "cell_type": "code",
      "execution_count": 1,
      "metadata": {
        "id": "kINFmb9NMkl3"
      },
      "outputs": [],
      "source": [
        "import pandas as pd\n",
        "from tensorflow.keras.preprocessing.text import Tokenizer\n",
        "from tensorflow.keras.preprocessing.sequence import pad_sequences\n",
        "from tensorflow.keras.utils import to_categorical\n",
        "import numpy as np"
      ]
    },
    {
      "cell_type": "markdown",
      "source": [
        "### 2) 데이터로드"
      ],
      "metadata": {
        "id": "euHg1pV6OdvM"
      }
    },
    {
      "cell_type": "code",
      "source": [
        "file_path = \"/content/drive/MyDrive/인공지능/아이펠/ES/data/translator_seq2seq/fra.txt\"\n",
        "lines = pd.read_csv(file_path, names=['eng', 'fra', 'cc'], sep='\\t')\n",
        "print('전체 샘플수:',len(lines))\n",
        "lines.sample(5)"
      ],
      "metadata": {
        "colab": {
          "base_uri": "https://localhost:8080/",
          "height": 355
        },
        "id": "EXGCZVPZNVzq",
        "outputId": "802b285f-45ad-4346-abd3-07b574909f37"
      },
      "execution_count": 6,
      "outputs": [
        {
          "output_type": "stream",
          "name": "stdout",
          "text": [
            "전체 샘플수: 194513\n"
          ]
        },
        {
          "output_type": "execute_result",
          "data": {
            "text/plain": [
              "                                                      eng  \\\n",
              "66531                            Tom changed the subject.   \n",
              "193434  Spending time with your significant other shou...   \n",
              "104080                      The ship set sail for Bombay.   \n",
              "31562                                 That's my daughter.   \n",
              "170268       Don't feel embarrassed. These things happen.   \n",
              "\n",
              "                                                      fra  \\\n",
              "66531                              Tom a changé de sujet.   \n",
              "193434  Passer du temps avec ta bien-aimée devrait êtr...   \n",
              "104080                   Le navire fit voile pour Bombay.   \n",
              "31562                                     C'est ma fille.   \n",
              "170268      Ne vous sentez pas gêné. Ces choses arrivent.   \n",
              "\n",
              "                                                       cc  \n",
              "66531   CC-BY 2.0 (France) Attribution: tatoeba.org #2...  \n",
              "193434  CC-BY 2.0 (France) Attribution: tatoeba.org #9...  \n",
              "104080  CC-BY 2.0 (France) Attribution: tatoeba.org #2...  \n",
              "31562   CC-BY 2.0 (France) Attribution: tatoeba.org #7...  \n",
              "170268  CC-BY 2.0 (France) Attribution: tatoeba.org #1...  "
            ],
            "text/html": [
              "\n",
              "  <div id=\"df-4bffc8e7-57c7-4055-8316-41b5eb04e327\">\n",
              "    <div class=\"colab-df-container\">\n",
              "      <div>\n",
              "<style scoped>\n",
              "    .dataframe tbody tr th:only-of-type {\n",
              "        vertical-align: middle;\n",
              "    }\n",
              "\n",
              "    .dataframe tbody tr th {\n",
              "        vertical-align: top;\n",
              "    }\n",
              "\n",
              "    .dataframe thead th {\n",
              "        text-align: right;\n",
              "    }\n",
              "</style>\n",
              "<table border=\"1\" class=\"dataframe\">\n",
              "  <thead>\n",
              "    <tr style=\"text-align: right;\">\n",
              "      <th></th>\n",
              "      <th>eng</th>\n",
              "      <th>fra</th>\n",
              "      <th>cc</th>\n",
              "    </tr>\n",
              "  </thead>\n",
              "  <tbody>\n",
              "    <tr>\n",
              "      <th>66531</th>\n",
              "      <td>Tom changed the subject.</td>\n",
              "      <td>Tom a changé de sujet.</td>\n",
              "      <td>CC-BY 2.0 (France) Attribution: tatoeba.org #2...</td>\n",
              "    </tr>\n",
              "    <tr>\n",
              "      <th>193434</th>\n",
              "      <td>Spending time with your significant other shou...</td>\n",
              "      <td>Passer du temps avec ta bien-aimée devrait êtr...</td>\n",
              "      <td>CC-BY 2.0 (France) Attribution: tatoeba.org #9...</td>\n",
              "    </tr>\n",
              "    <tr>\n",
              "      <th>104080</th>\n",
              "      <td>The ship set sail for Bombay.</td>\n",
              "      <td>Le navire fit voile pour Bombay.</td>\n",
              "      <td>CC-BY 2.0 (France) Attribution: tatoeba.org #2...</td>\n",
              "    </tr>\n",
              "    <tr>\n",
              "      <th>31562</th>\n",
              "      <td>That's my daughter.</td>\n",
              "      <td>C'est ma fille.</td>\n",
              "      <td>CC-BY 2.0 (France) Attribution: tatoeba.org #7...</td>\n",
              "    </tr>\n",
              "    <tr>\n",
              "      <th>170268</th>\n",
              "      <td>Don't feel embarrassed. These things happen.</td>\n",
              "      <td>Ne vous sentez pas gêné. Ces choses arrivent.</td>\n",
              "      <td>CC-BY 2.0 (France) Attribution: tatoeba.org #1...</td>\n",
              "    </tr>\n",
              "  </tbody>\n",
              "</table>\n",
              "</div>\n",
              "      <button class=\"colab-df-convert\" onclick=\"convertToInteractive('df-4bffc8e7-57c7-4055-8316-41b5eb04e327')\"\n",
              "              title=\"Convert this dataframe to an interactive table.\"\n",
              "              style=\"display:none;\">\n",
              "        \n",
              "  <svg xmlns=\"http://www.w3.org/2000/svg\" height=\"24px\"viewBox=\"0 0 24 24\"\n",
              "       width=\"24px\">\n",
              "    <path d=\"M0 0h24v24H0V0z\" fill=\"none\"/>\n",
              "    <path d=\"M18.56 5.44l.94 2.06.94-2.06 2.06-.94-2.06-.94-.94-2.06-.94 2.06-2.06.94zm-11 1L8.5 8.5l.94-2.06 2.06-.94-2.06-.94L8.5 2.5l-.94 2.06-2.06.94zm10 10l.94 2.06.94-2.06 2.06-.94-2.06-.94-.94-2.06-.94 2.06-2.06.94z\"/><path d=\"M17.41 7.96l-1.37-1.37c-.4-.4-.92-.59-1.43-.59-.52 0-1.04.2-1.43.59L10.3 9.45l-7.72 7.72c-.78.78-.78 2.05 0 2.83L4 21.41c.39.39.9.59 1.41.59.51 0 1.02-.2 1.41-.59l7.78-7.78 2.81-2.81c.8-.78.8-2.07 0-2.86zM5.41 20L4 18.59l7.72-7.72 1.47 1.35L5.41 20z\"/>\n",
              "  </svg>\n",
              "      </button>\n",
              "      \n",
              "  <style>\n",
              "    .colab-df-container {\n",
              "      display:flex;\n",
              "      flex-wrap:wrap;\n",
              "      gap: 12px;\n",
              "    }\n",
              "\n",
              "    .colab-df-convert {\n",
              "      background-color: #E8F0FE;\n",
              "      border: none;\n",
              "      border-radius: 50%;\n",
              "      cursor: pointer;\n",
              "      display: none;\n",
              "      fill: #1967D2;\n",
              "      height: 32px;\n",
              "      padding: 0 0 0 0;\n",
              "      width: 32px;\n",
              "    }\n",
              "\n",
              "    .colab-df-convert:hover {\n",
              "      background-color: #E2EBFA;\n",
              "      box-shadow: 0px 1px 2px rgba(60, 64, 67, 0.3), 0px 1px 3px 1px rgba(60, 64, 67, 0.15);\n",
              "      fill: #174EA6;\n",
              "    }\n",
              "\n",
              "    [theme=dark] .colab-df-convert {\n",
              "      background-color: #3B4455;\n",
              "      fill: #D2E3FC;\n",
              "    }\n",
              "\n",
              "    [theme=dark] .colab-df-convert:hover {\n",
              "      background-color: #434B5C;\n",
              "      box-shadow: 0px 1px 3px 1px rgba(0, 0, 0, 0.15);\n",
              "      filter: drop-shadow(0px 1px 2px rgba(0, 0, 0, 0.3));\n",
              "      fill: #FFFFFF;\n",
              "    }\n",
              "  </style>\n",
              "\n",
              "      <script>\n",
              "        const buttonEl =\n",
              "          document.querySelector('#df-4bffc8e7-57c7-4055-8316-41b5eb04e327 button.colab-df-convert');\n",
              "        buttonEl.style.display =\n",
              "          google.colab.kernel.accessAllowed ? 'block' : 'none';\n",
              "\n",
              "        async function convertToInteractive(key) {\n",
              "          const element = document.querySelector('#df-4bffc8e7-57c7-4055-8316-41b5eb04e327');\n",
              "          const dataTable =\n",
              "            await google.colab.kernel.invokeFunction('convertToInteractive',\n",
              "                                                     [key], {});\n",
              "          if (!dataTable) return;\n",
              "\n",
              "          const docLinkHtml = 'Like what you see? Visit the ' +\n",
              "            '<a target=\"_blank\" href=https://colab.research.google.com/notebooks/data_table.ipynb>data table notebook</a>'\n",
              "            + ' to learn more about interactive tables.';\n",
              "          element.innerHTML = '';\n",
              "          dataTable['output_type'] = 'display_data';\n",
              "          await google.colab.output.renderOutput(dataTable, element);\n",
              "          const docLink = document.createElement('div');\n",
              "          docLink.innerHTML = docLinkHtml;\n",
              "          element.appendChild(docLink);\n",
              "        }\n",
              "      </script>\n",
              "    </div>\n",
              "  </div>\n",
              "  "
            ]
          },
          "metadata": {},
          "execution_count": 6
        }
      ]
    },
    {
      "cell_type": "markdown",
      "source": [
        "\n",
        "데이터에서 상위 33,000개의 샘플만 사용해주세요.\n",
        "\n",
        "33000개 중 3000개는 테스트 데이터로 분리하여 모델을 학습한 후에 번역을 테스트 하는 용도로 사용합니다"
      ],
      "metadata": {
        "id": "yVsuelXtOQH4"
      }
    },
    {
      "cell_type": "code",
      "source": [
        "lines = lines[['eng', 'fra']][:33000]\n",
        "lines.sample(5)"
      ],
      "metadata": {
        "colab": {
          "base_uri": "https://localhost:8080/",
          "height": 250
        },
        "id": "QqlgcnlMN_jT",
        "outputId": "740d7607-1868-4bf0-eb24-d3f34c6b172a"
      },
      "execution_count": 3,
      "outputs": [
        {
          "output_type": "execute_result",
          "data": {
            "text/plain": [
              "                                               eng  \\\n",
              "How big is he?              Il est grand comment ?   \n",
              "Are you smiling?   Êtes-vous en train de sourire ?   \n",
              "Tom left it.                       Tom l'a laissé.   \n",
              "You may refuse.               Vous pouvez refuser.   \n",
              "This seat's free.           Cette place est libre.   \n",
              "\n",
              "                                                                 fra  \n",
              "How big is he?     CC-BY 2.0 (France) Attribution: tatoeba.org #2...  \n",
              "Are you smiling?   CC-BY 2.0 (France) Attribution: tatoeba.org #2...  \n",
              "Tom left it.       CC-BY 2.0 (France) Attribution: tatoeba.org #2...  \n",
              "You may refuse.    CC-BY 2.0 (France) Attribution: tatoeba.org #2...  \n",
              "This seat's free.  CC-BY 2.0 (France) Attribution: tatoeba.org #8...  "
            ],
            "text/html": [
              "\n",
              "  <div id=\"df-26193af7-9380-421b-ab83-506363c109fb\">\n",
              "    <div class=\"colab-df-container\">\n",
              "      <div>\n",
              "<style scoped>\n",
              "    .dataframe tbody tr th:only-of-type {\n",
              "        vertical-align: middle;\n",
              "    }\n",
              "\n",
              "    .dataframe tbody tr th {\n",
              "        vertical-align: top;\n",
              "    }\n",
              "\n",
              "    .dataframe thead th {\n",
              "        text-align: right;\n",
              "    }\n",
              "</style>\n",
              "<table border=\"1\" class=\"dataframe\">\n",
              "  <thead>\n",
              "    <tr style=\"text-align: right;\">\n",
              "      <th></th>\n",
              "      <th>eng</th>\n",
              "      <th>fra</th>\n",
              "    </tr>\n",
              "  </thead>\n",
              "  <tbody>\n",
              "    <tr>\n",
              "      <th>How big is he?</th>\n",
              "      <td>Il est grand comment ?</td>\n",
              "      <td>CC-BY 2.0 (France) Attribution: tatoeba.org #2...</td>\n",
              "    </tr>\n",
              "    <tr>\n",
              "      <th>Are you smiling?</th>\n",
              "      <td>Êtes-vous en train de sourire ?</td>\n",
              "      <td>CC-BY 2.0 (France) Attribution: tatoeba.org #2...</td>\n",
              "    </tr>\n",
              "    <tr>\n",
              "      <th>Tom left it.</th>\n",
              "      <td>Tom l'a laissé.</td>\n",
              "      <td>CC-BY 2.0 (France) Attribution: tatoeba.org #2...</td>\n",
              "    </tr>\n",
              "    <tr>\n",
              "      <th>You may refuse.</th>\n",
              "      <td>Vous pouvez refuser.</td>\n",
              "      <td>CC-BY 2.0 (France) Attribution: tatoeba.org #2...</td>\n",
              "    </tr>\n",
              "    <tr>\n",
              "      <th>This seat's free.</th>\n",
              "      <td>Cette place est libre.</td>\n",
              "      <td>CC-BY 2.0 (France) Attribution: tatoeba.org #8...</td>\n",
              "    </tr>\n",
              "  </tbody>\n",
              "</table>\n",
              "</div>\n",
              "      <button class=\"colab-df-convert\" onclick=\"convertToInteractive('df-26193af7-9380-421b-ab83-506363c109fb')\"\n",
              "              title=\"Convert this dataframe to an interactive table.\"\n",
              "              style=\"display:none;\">\n",
              "        \n",
              "  <svg xmlns=\"http://www.w3.org/2000/svg\" height=\"24px\"viewBox=\"0 0 24 24\"\n",
              "       width=\"24px\">\n",
              "    <path d=\"M0 0h24v24H0V0z\" fill=\"none\"/>\n",
              "    <path d=\"M18.56 5.44l.94 2.06.94-2.06 2.06-.94-2.06-.94-.94-2.06-.94 2.06-2.06.94zm-11 1L8.5 8.5l.94-2.06 2.06-.94-2.06-.94L8.5 2.5l-.94 2.06-2.06.94zm10 10l.94 2.06.94-2.06 2.06-.94-2.06-.94-.94-2.06-.94 2.06-2.06.94z\"/><path d=\"M17.41 7.96l-1.37-1.37c-.4-.4-.92-.59-1.43-.59-.52 0-1.04.2-1.43.59L10.3 9.45l-7.72 7.72c-.78.78-.78 2.05 0 2.83L4 21.41c.39.39.9.59 1.41.59.51 0 1.02-.2 1.41-.59l7.78-7.78 2.81-2.81c.8-.78.8-2.07 0-2.86zM5.41 20L4 18.59l7.72-7.72 1.47 1.35L5.41 20z\"/>\n",
              "  </svg>\n",
              "      </button>\n",
              "      \n",
              "  <style>\n",
              "    .colab-df-container {\n",
              "      display:flex;\n",
              "      flex-wrap:wrap;\n",
              "      gap: 12px;\n",
              "    }\n",
              "\n",
              "    .colab-df-convert {\n",
              "      background-color: #E8F0FE;\n",
              "      border: none;\n",
              "      border-radius: 50%;\n",
              "      cursor: pointer;\n",
              "      display: none;\n",
              "      fill: #1967D2;\n",
              "      height: 32px;\n",
              "      padding: 0 0 0 0;\n",
              "      width: 32px;\n",
              "    }\n",
              "\n",
              "    .colab-df-convert:hover {\n",
              "      background-color: #E2EBFA;\n",
              "      box-shadow: 0px 1px 2px rgba(60, 64, 67, 0.3), 0px 1px 3px 1px rgba(60, 64, 67, 0.15);\n",
              "      fill: #174EA6;\n",
              "    }\n",
              "\n",
              "    [theme=dark] .colab-df-convert {\n",
              "      background-color: #3B4455;\n",
              "      fill: #D2E3FC;\n",
              "    }\n",
              "\n",
              "    [theme=dark] .colab-df-convert:hover {\n",
              "      background-color: #434B5C;\n",
              "      box-shadow: 0px 1px 3px 1px rgba(0, 0, 0, 0.15);\n",
              "      filter: drop-shadow(0px 1px 2px rgba(0, 0, 0, 0.3));\n",
              "      fill: #FFFFFF;\n",
              "    }\n",
              "  </style>\n",
              "\n",
              "      <script>\n",
              "        const buttonEl =\n",
              "          document.querySelector('#df-26193af7-9380-421b-ab83-506363c109fb button.colab-df-convert');\n",
              "        buttonEl.style.display =\n",
              "          google.colab.kernel.accessAllowed ? 'block' : 'none';\n",
              "\n",
              "        async function convertToInteractive(key) {\n",
              "          const element = document.querySelector('#df-26193af7-9380-421b-ab83-506363c109fb');\n",
              "          const dataTable =\n",
              "            await google.colab.kernel.invokeFunction('convertToInteractive',\n",
              "                                                     [key], {});\n",
              "          if (!dataTable) return;\n",
              "\n",
              "          const docLinkHtml = 'Like what you see? Visit the ' +\n",
              "            '<a target=\"_blank\" href=https://colab.research.google.com/notebooks/data_table.ipynb>data table notebook</a>'\n",
              "            + ' to learn more about interactive tables.';\n",
              "          element.innerHTML = '';\n",
              "          dataTable['output_type'] = 'display_data';\n",
              "          await google.colab.output.renderOutput(dataTable, element);\n",
              "          const docLink = document.createElement('div');\n",
              "          docLink.innerHTML = docLinkHtml;\n",
              "          element.appendChild(docLink);\n",
              "        }\n",
              "      </script>\n",
              "    </div>\n",
              "  </div>\n",
              "  "
            ]
          },
          "metadata": {},
          "execution_count": 3
        }
      ]
    },
    {
      "cell_type": "markdown",
      "source": [
        "## 2. 정제, 정규화, 전처리\n",
        "- 구두점(Punctuation)을 단어와 분리\n",
        "- 소문자로 change\n",
        "- 띄어쓰기 단위로 토큰을 수행"
      ],
      "metadata": {
        "id": "X4mKUfz_Osfj"
      }
    },
    {
      "cell_type": "markdown",
      "source": [
        "- https://soraji.github.io/python/2019/07/21/rex/\n",
        "- https://www.tensorflow.org/api_docs/python/tf/keras/preprocessing/text/Tokenizer"
      ],
      "metadata": {
        "id": "2SrJvT8ZytQk"
      }
    },
    {
      "cell_type": "code",
      "source": [
        "import spacy\n",
        "\n",
        "def preprocess_sentence(sentence):\n",
        "  sentence = sentence.str.lower()\n",
        "  sentence = sentence.str.replace(pat=r'([?.!,¿])', repl =r\" \\1 \")\n",
        "  sentence = sentence.str.replace(pat=r'[\" \"]+', repl =\" \")\n",
        "  sentence = sentence.str.replace(pat=r\"[^a-zA-Z?.!,¿]+\", repl =\" \")\n",
        "  sentence = sentence.str.strip() \n",
        "\n",
        "  return sentence"
      ],
      "metadata": {
        "id": "di4ug8NdXPp4"
      },
      "execution_count": null,
      "outputs": []
    },
    {
      "cell_type": "code",
      "source": [
        "input_text = preprocess_sentence(lines.eng)\n",
        "eng_tokenizer = Tokenizer(split=' ', filters=\"\")   # 문자 단위로 Tokenizer를 생성합니다. \n",
        "eng_tokenizer.fit_on_texts(input_text)               # 50000개의 행을 가진 eng의 각 행에 토큰화를 수행\n",
        "input_text = eng_tokenizer.texts_to_sequences(input_text)    # 단어를 숫자값 인덱스로 변환하여 저장\n",
        "input_text[:3]"
      ],
      "metadata": {
        "colab": {
          "base_uri": "https://localhost:8080/"
        },
        "id": "Vqf6IlvAXbW4",
        "outputId": "470a968b-cdf7-4ca8-8746-4e28dfa7d4d4"
      },
      "execution_count": 101,
      "outputs": [
        {
          "output_type": "stream",
          "name": "stderr",
          "text": [
            "/usr/local/lib/python3.7/dist-packages/ipykernel_launcher.py:5: FutureWarning: The default value of regex will change from True to False in a future version.\n",
            "  \"\"\"\n",
            "/usr/local/lib/python3.7/dist-packages/ipykernel_launcher.py:6: FutureWarning: The default value of regex will change from True to False in a future version.\n",
            "  \n",
            "/usr/local/lib/python3.7/dist-packages/ipykernel_launcher.py:7: FutureWarning: The default value of regex will change from True to False in a future version.\n",
            "  import sys\n"
          ]
        },
        {
          "output_type": "execute_result",
          "data": {
            "text/plain": [
              "[[47, 1], [47, 1], [47, 1]]"
            ]
          },
          "metadata": {},
          "execution_count": 101
        }
      ]
    },
    {
      "cell_type": "code",
      "source": [
        "input_text = preprocess_sentence(lines.fra)\n",
        "fra_tokenizer = Tokenizer(split=' ', filters=\"\")   # 문자 단위로 Tokenizer를 생성합니다. \n",
        "fra_tokenizer.fit_on_texts(input_text)               # 50000개의 행을 가진 eng의 각 행에 토큰화를 수행\n",
        "input_text = fra_tokenizer.texts_to_sequences(input_text)    # 단어를 숫자값 인덱스로 변환하여 저장\n",
        "input_text[:3]"
      ],
      "metadata": {
        "colab": {
          "base_uri": "https://localhost:8080/"
        },
        "id": "kkL1uqC4Y2Dr",
        "outputId": "38636c8b-f43b-462b-db9f-f1ec6c526fb3"
      },
      "execution_count": 102,
      "outputs": [
        {
          "output_type": "stream",
          "name": "stderr",
          "text": [
            "/usr/local/lib/python3.7/dist-packages/ipykernel_launcher.py:5: FutureWarning: The default value of regex will change from True to False in a future version.\n",
            "  \"\"\"\n",
            "/usr/local/lib/python3.7/dist-packages/ipykernel_launcher.py:6: FutureWarning: The default value of regex will change from True to False in a future version.\n",
            "  \n",
            "/usr/local/lib/python3.7/dist-packages/ipykernel_launcher.py:7: FutureWarning: The default value of regex will change from True to False in a future version.\n",
            "  import sys\n"
          ]
        },
        {
          "output_type": "execute_result",
          "data": {
            "text/plain": [
              "[[116, 42], [814, 1], [2397, 42]]"
            ]
          },
          "metadata": {},
          "execution_count": 102
        }
      ]
    },
    {
      "cell_type": "code",
      "source": [
        ""
      ],
      "metadata": {
        "id": "SOvsqKSRYsAI"
      },
      "execution_count": null,
      "outputs": []
    },
    {
      "cell_type": "markdown",
      "source": [
        "## 3. 디코더의 문장에 시작 토큰과 종료 토큰 입력"
      ],
      "metadata": {
        "id": "SHLOrwk8OvXK"
      }
    },
    {
      "cell_type": "markdown",
      "source": [
        "## 4. 케라스의 토크나이저로 텍스트를 숫자로 바꿔보세요\n",
        "- https://wikidocs.net/31766"
      ],
      "metadata": {
        "id": "25RcfHglPFFQ"
      }
    },
    {
      "cell_type": "markdown",
      "source": [
        "## 5. 임베딩 층(Embedding layer) 사용하기\n",
        "- https://wikidocs.net/33793\n",
        "- 주의할 점 : 인코더와 디코더의 임베딩 층은 서로 다른 임베딩 층을 사용해야 하지만 디코더의 훈련 과정과 테스트 과정에서의 임베딩층은 동일해야 한다."
      ],
      "metadata": {
        "id": "WHbud-WEPMnp"
      }
    },
    {
      "cell_type": "markdown",
      "source": [
        "## 6. 모델 구현하기"
      ],
      "metadata": {
        "id": "w2Lh40laPlEb"
      }
    },
    {
      "cell_type": "markdown",
      "source": [
        "## 7. 모델 평가하기"
      ],
      "metadata": {
        "id": "2ZhttEflPnm4"
      }
    },
    {
      "cell_type": "markdown",
      "source": [
        "## 8. 회고"
      ],
      "metadata": {
        "id": "XUXLh4oIP3Eg"
      }
    },
    {
      "cell_type": "code",
      "source": [
        ""
      ],
      "metadata": {
        "id": "DkNIHM4gOZBA"
      },
      "execution_count": null,
      "outputs": []
    },
    {
      "cell_type": "code",
      "source": [
        ""
      ],
      "metadata": {
        "id": "HcrzNU_m1UT_"
      },
      "execution_count": null,
      "outputs": []
    },
    {
      "cell_type": "markdown",
      "source": [
        "### 시행착오"
      ],
      "metadata": {
        "id": "xOGnSbOm1UyU"
      }
    },
    {
      "cell_type": "code",
      "source": [
        "import re\n",
        "def preprocess_sentence(sentence):\n",
        "    sentence = sentence.lower() # 1 소문자로 바꾸고\n",
        "    sentence = re.sub(r\"([?.!,¿])\", r\" \\1 \", str(sentence)) # 2 특수문자 양쪽에 공백을 넣는다.\n",
        "    sentence = re.sub(r'[\" \"]+', \" \", str(sentence)) # 3 여러개의 공백은 하나의 공백으로 바꾼다.\n",
        "    sentence = re.sub(r\"[^a-zA-Z?.!,¿]+\", \" \", str(sentence)) # 4 a-zA-Z?.!,¿가 아닌 모든 문자를 하나의 공백으로 바꾼다. \n",
        "    tokenizer  = Tokenizer(split=' ')  \n",
        "    tokenizer .fit_on_texts(sentence)               # 50000개의 행을 가진 eng의 각 행에 토큰화를 수행\n",
        "    sentence = tokenizer.texts_to_sequences(sentence) \n",
        "    return sentence"
      ],
      "metadata": {
        "id": "kwrWdgVy1UyV"
      },
      "execution_count": 67,
      "outputs": []
    },
    {
      "cell_type": "code",
      "source": [
        "re.sub(r'[\" \"]+', ' ',(str(re.sub(r'([?.!,])', r' \\1 ', str(str(lines.eng).lower())))))"
      ],
      "metadata": {
        "colab": {
          "base_uri": "https://localhost:8080/",
          "height": 108
        },
        "outputId": "3f72ae09-4978-4b95-e38e-afefbc452609",
        "id": "V5lEHaRe1UyW"
      },
      "execution_count": 68,
      "outputs": [
        {
          "output_type": "execute_result",
          "data": {
            "text/plain": [
              "\"0 go . \\n1 go . \\n2 go . \\n3 hi . \\n4 hi . \\n . . . \\n194508 a carbon footprint is the amount of carbon dio . . . \\n194509 death is something that we're often discourage . . . \\n194510 since there are usually multiple websites on a . . . \\n194511 if someone who doesn't know your background sa . . . \\n194512 it may be impossible to get a completely error . . . \\nname: eng , length: 194513 , dtype: object\""
            ],
            "application/vnd.google.colaboratory.intrinsic+json": {
              "type": "string"
            }
          },
          "metadata": {},
          "execution_count": 68
        }
      ]
    },
    {
      "cell_type": "code",
      "source": [
        "input_text = preprocess_sentence(lines.eng)\n",
        "input_text[:3]\n"
      ],
      "metadata": {
        "colab": {
          "base_uri": "https://localhost:8080/",
          "height": 342
        },
        "outputId": "ccd19b0f-261e-4d4e-fe53-05f782ba9ba8",
        "id": "RR5wm4zr1UyY"
      },
      "execution_count": 69,
      "outputs": [
        {
          "output_type": "error",
          "ename": "AttributeError",
          "evalue": "ignored",
          "traceback": [
            "\u001b[0;31m---------------------------------------------------------------------------\u001b[0m",
            "\u001b[0;31mAttributeError\u001b[0m                            Traceback (most recent call last)",
            "\u001b[0;32m<ipython-input-69-d61400f72dea>\u001b[0m in \u001b[0;36m<module>\u001b[0;34m\u001b[0m\n\u001b[0;32m----> 1\u001b[0;31m \u001b[0minput_text\u001b[0m \u001b[0;34m=\u001b[0m \u001b[0mpreprocess_sentence\u001b[0m\u001b[0;34m(\u001b[0m\u001b[0mlines\u001b[0m\u001b[0;34m.\u001b[0m\u001b[0meng\u001b[0m\u001b[0;34m)\u001b[0m\u001b[0;34m\u001b[0m\u001b[0;34m\u001b[0m\u001b[0m\n\u001b[0m\u001b[1;32m      2\u001b[0m \u001b[0minput_text\u001b[0m\u001b[0;34m[\u001b[0m\u001b[0;34m:\u001b[0m\u001b[0;36m3\u001b[0m\u001b[0;34m]\u001b[0m\u001b[0;34m\u001b[0m\u001b[0;34m\u001b[0m\u001b[0m\n",
            "\u001b[0;32m<ipython-input-67-6eda68bb7b09>\u001b[0m in \u001b[0;36mpreprocess_sentence\u001b[0;34m(sentence)\u001b[0m\n\u001b[1;32m      1\u001b[0m \u001b[0;32mimport\u001b[0m \u001b[0mre\u001b[0m\u001b[0;34m\u001b[0m\u001b[0;34m\u001b[0m\u001b[0m\n\u001b[1;32m      2\u001b[0m \u001b[0;32mdef\u001b[0m \u001b[0mpreprocess_sentence\u001b[0m\u001b[0;34m(\u001b[0m\u001b[0msentence\u001b[0m\u001b[0;34m)\u001b[0m\u001b[0;34m:\u001b[0m\u001b[0;34m\u001b[0m\u001b[0;34m\u001b[0m\u001b[0m\n\u001b[0;32m----> 3\u001b[0;31m     \u001b[0msentence\u001b[0m \u001b[0;34m=\u001b[0m \u001b[0msentence\u001b[0m\u001b[0;34m.\u001b[0m\u001b[0mlower\u001b[0m\u001b[0;34m(\u001b[0m\u001b[0;34m)\u001b[0m \u001b[0;31m# 1 소문자로 바꾸고\u001b[0m\u001b[0;34m\u001b[0m\u001b[0;34m\u001b[0m\u001b[0m\n\u001b[0m\u001b[1;32m      4\u001b[0m     \u001b[0msentence\u001b[0m \u001b[0;34m=\u001b[0m \u001b[0mre\u001b[0m\u001b[0;34m.\u001b[0m\u001b[0msub\u001b[0m\u001b[0;34m(\u001b[0m\u001b[0;34mr\"([?.!,¿])\"\u001b[0m\u001b[0;34m,\u001b[0m \u001b[0;34mr\" \\1 \"\u001b[0m\u001b[0;34m,\u001b[0m \u001b[0mstr\u001b[0m\u001b[0;34m(\u001b[0m\u001b[0msentence\u001b[0m\u001b[0;34m)\u001b[0m\u001b[0;34m)\u001b[0m \u001b[0;31m# 2 특수문자 양쪽에 공백을 넣는다.\u001b[0m\u001b[0;34m\u001b[0m\u001b[0;34m\u001b[0m\u001b[0m\n\u001b[1;32m      5\u001b[0m     \u001b[0msentence\u001b[0m \u001b[0;34m=\u001b[0m \u001b[0mre\u001b[0m\u001b[0;34m.\u001b[0m\u001b[0msub\u001b[0m\u001b[0;34m(\u001b[0m\u001b[0;34mr'[\" \"]+'\u001b[0m\u001b[0;34m,\u001b[0m \u001b[0;34m\" \"\u001b[0m\u001b[0;34m,\u001b[0m \u001b[0mstr\u001b[0m\u001b[0;34m(\u001b[0m\u001b[0msentence\u001b[0m\u001b[0;34m)\u001b[0m\u001b[0;34m)\u001b[0m \u001b[0;31m# 3 여러개의 공백은 하나의 공백으로 바꾼다.\u001b[0m\u001b[0;34m\u001b[0m\u001b[0;34m\u001b[0m\u001b[0m\n",
            "\u001b[0;32m/usr/local/lib/python3.7/dist-packages/pandas/core/generic.py\u001b[0m in \u001b[0;36m__getattr__\u001b[0;34m(self, name)\u001b[0m\n\u001b[1;32m   5485\u001b[0m         ):\n\u001b[1;32m   5486\u001b[0m             \u001b[0;32mreturn\u001b[0m \u001b[0mself\u001b[0m\u001b[0;34m[\u001b[0m\u001b[0mname\u001b[0m\u001b[0;34m]\u001b[0m\u001b[0;34m\u001b[0m\u001b[0;34m\u001b[0m\u001b[0m\n\u001b[0;32m-> 5487\u001b[0;31m         \u001b[0;32mreturn\u001b[0m \u001b[0mobject\u001b[0m\u001b[0;34m.\u001b[0m\u001b[0m__getattribute__\u001b[0m\u001b[0;34m(\u001b[0m\u001b[0mself\u001b[0m\u001b[0;34m,\u001b[0m \u001b[0mname\u001b[0m\u001b[0;34m)\u001b[0m\u001b[0;34m\u001b[0m\u001b[0;34m\u001b[0m\u001b[0m\n\u001b[0m\u001b[1;32m   5488\u001b[0m \u001b[0;34m\u001b[0m\u001b[0m\n\u001b[1;32m   5489\u001b[0m     \u001b[0;32mdef\u001b[0m \u001b[0m__setattr__\u001b[0m\u001b[0;34m(\u001b[0m\u001b[0mself\u001b[0m\u001b[0;34m,\u001b[0m \u001b[0mname\u001b[0m\u001b[0;34m:\u001b[0m \u001b[0mstr\u001b[0m\u001b[0;34m,\u001b[0m \u001b[0mvalue\u001b[0m\u001b[0;34m)\u001b[0m \u001b[0;34m->\u001b[0m \u001b[0;32mNone\u001b[0m\u001b[0;34m:\u001b[0m\u001b[0;34m\u001b[0m\u001b[0;34m\u001b[0m\u001b[0m\n",
            "\u001b[0;31mAttributeError\u001b[0m: 'Series' object has no attribute 'lower'"
          ]
        }
      ]
    },
    {
      "cell_type": "code",
      "source": [
        "lines.eng[:3]"
      ],
      "metadata": {
        "colab": {
          "base_uri": "https://localhost:8080/"
        },
        "outputId": "1ea3ff7a-6d2b-4801-87c6-5452272e669a",
        "id": "TmNJGeFb1UyZ"
      },
      "execution_count": null,
      "outputs": [
        {
          "output_type": "execute_result",
          "data": {
            "text/plain": [
              "0    Go.\n",
              "1    Go.\n",
              "2    Go.\n",
              "Name: eng, dtype: object"
            ]
          },
          "metadata": {},
          "execution_count": 37
        }
      ]
    },
    {
      "cell_type": "code",
      "source": [
        "input_text[:3]"
      ],
      "metadata": {
        "colab": {
          "base_uri": "https://localhost:8080/"
        },
        "outputId": "89365f11-5cea-4fa6-8e58-e2c4182e81b5",
        "id": "9I0TaV7t1UyZ"
      },
      "execution_count": null,
      "outputs": [
        {
          "output_type": "execute_result",
          "data": {
            "text/plain": [
              "[[], [9], [2]]"
            ]
          },
          "metadata": {},
          "execution_count": 36
        }
      ]
    },
    {
      "cell_type": "code",
      "source": [
        ""
      ],
      "metadata": {
        "id": "bMB9jaSyXStJ"
      },
      "execution_count": null,
      "outputs": []
    },
    {
      "cell_type": "markdown",
      "source": [
        "### 시행착오"
      ],
      "metadata": {
        "id": "LROt9pHn1O5D"
      }
    },
    {
      "cell_type": "code",
      "source": [
        "import spacy\n",
        "\n",
        "def preprocess_sentence(sentence):\n",
        "  sentence = sentence.str.lower()\n",
        "  sentence = sentence.str.replace(pat=r'([?.!,¿])', repl =r\" \\1 \")\n",
        "  sentence = sentence.str.replace(pat=r'[\" \"]+', repl =\" \")\n",
        "  sentence = sentence.str.replace(pat=r\"[^a-zA-Z?.!,¿]+\", repl =\" \")\n",
        "  sentence = sentence.str.strip() \n",
        "\n",
        "  return sentence\n",
        "  "
      ],
      "metadata": {
        "id": "8bJxJqmgEXCv"
      },
      "execution_count": null,
      "outputs": []
    },
    {
      "cell_type": "code",
      "source": [
        "fra = preprocess_sentence(lines.fra)\n",
        "fra.str.split()"
      ],
      "metadata": {
        "colab": {
          "base_uri": "https://localhost:8080/"
        },
        "id": "o5eRbA2HWEAi",
        "outputId": "0b202843-5919-4d8f-be25-f231bcca560e"
      },
      "execution_count": null,
      "outputs": [
        {
          "output_type": "stream",
          "name": "stderr",
          "text": [
            "/usr/local/lib/python3.7/dist-packages/ipykernel_launcher.py:5: FutureWarning: The default value of regex will change from True to False in a future version.\n",
            "  \"\"\"\n",
            "/usr/local/lib/python3.7/dist-packages/ipykernel_launcher.py:6: FutureWarning: The default value of regex will change from True to False in a future version.\n",
            "  \n",
            "/usr/local/lib/python3.7/dist-packages/ipykernel_launcher.py:7: FutureWarning: The default value of regex will change from True to False in a future version.\n",
            "  import sys\n"
          ]
        },
        {
          "output_type": "execute_result",
          "data": {
            "text/plain": [
              "0                                                   [va, !]\n",
              "1                                               [marche, .]\n",
              "2                                                [bouge, !]\n",
              "3                                                [salut, !]\n",
              "4                                                [salut, .]\n",
              "                                ...                        \n",
              "194508    [une, empreinte, carbone, est, la, somme, de, ...\n",
              "194509    [la, mort, est, une, chose, qu, on, nous, d, c...\n",
              "194510    [puisqu, il, y, a, de, multiples, sites, web, ...\n",
              "194511    [si, quelqu, un, qui, ne, conna, t, pas, vos, ...\n",
              "194512    [il, est, peut, tre, impossible, d, obtenir, u...\n",
              "Name: fra, Length: 194513, dtype: object"
            ]
          },
          "metadata": {},
          "execution_count": 99
        }
      ]
    },
    {
      "cell_type": "code",
      "source": [
        "[salut, .]"
      ],
      "metadata": {
        "id": "dRpLBzuYWbby"
      },
      "execution_count": null,
      "outputs": []
    },
    {
      "cell_type": "code",
      "source": [
        "len(set[0])\n",
        "set[0][0]"
      ],
      "metadata": {
        "colab": {
          "base_uri": "https://localhost:8080/",
          "height": 35
        },
        "id": "GMm0zFjGL9AE",
        "outputId": "6002d8be-2282-4665-d588-5b8e38b00682"
      },
      "execution_count": null,
      "outputs": [
        {
          "output_type": "execute_result",
          "data": {
            "text/plain": [
              "'g'"
            ],
            "application/vnd.google.colaboratory.intrinsic+json": {
              "type": "string"
            }
          },
          "metadata": {},
          "execution_count": 93
        }
      ]
    },
    {
      "cell_type": "markdown",
      "source": [
        "https://www.tensorflow.org/api_docs/python/tf/keras/preprocessing/text/Tokenizer"
      ],
      "metadata": {
        "id": "xyPaErOyM_sF"
      }
    },
    {
      "cell_type": "code",
      "source": [
        "tokenizer  = Tokenizer(split=' ',filters='')  \n",
        "tokenizer .fit_on_texts(set)               # 50000개의 행을 가진 eng의 각 행에 토큰화를 수행\n",
        "sentence = tokenizer.texts_to_sequences(set) "
      ],
      "metadata": {
        "id": "892fvC4kGcYR"
      },
      "execution_count": null,
      "outputs": []
    },
    {
      "cell_type": "code",
      "source": [
        "sentence"
      ],
      "metadata": {
        "colab": {
          "base_uri": "https://localhost:8080/"
        },
        "id": "5Ohr6HM2GhB1",
        "outputId": "05a513da-3c36-41e2-ec80-247892eab618"
      },
      "execution_count": null,
      "outputs": [
        {
          "output_type": "execute_result",
          "data": {
            "text/plain": [
              "[[47, 1],\n",
              " [47, 1],\n",
              " [47, 1],\n",
              " [2374, 1],\n",
              " [2374, 1],\n",
              " [409, 109],\n",
              " [409, 109],\n",
              " [409, 109],\n",
              " [409, 109],\n",
              " [409, 109],\n",
              " [409, 109],\n",
              " [409, 109],\n",
              " [409, 109],\n",
              " [409, 1],\n",
              " [409, 1],\n",
              " [409, 1],\n",
              " [409, 1],\n",
              " [409, 1],\n",
              " [409, 1],\n",
              " [409, 1],\n",
              " [409, 1],\n",
              " [76, 6],\n",
              " [3441, 109],\n",
              " [3441, 109],\n",
              " [3441, 109],\n",
              " [4089, 109],\n",
              " [4089, 109],\n",
              " [4089, 109],\n",
              " [442, 109],\n",
              " [88, 109],\n",
              " [1092, 1],\n",
              " [1092, 1],\n",
              " [1334, 109],\n",
              " [1334, 1],\n",
              " [179, 109],\n",
              " [179, 109],\n",
              " [179, 109],\n",
              " [258, 109],\n",
              " [258, 109],\n",
              " [258, 109],\n",
              " [258, 1],\n",
              " [258, 1],\n",
              " [258, 1],\n",
              " [258, 1],\n",
              " [925, 1],\n",
              " [925, 1],\n",
              " [47, 39, 1],\n",
              " [47, 39, 1],\n",
              " [47, 39, 1],\n",
              " [1614, 109],\n",
              " [1614, 109],\n",
              " [2, 86, 1],\n",
              " [2, 86, 1],\n",
              " [2, 196, 1],\n",
              " [2, 143, 109],\n",
              " [2, 143, 109],\n",
              " [2, 143, 1],\n",
              " [2008, 61, 109],\n",
              " [1306, 1],\n",
              " [1306, 1],\n",
              " [1306, 1],\n",
              " [1306, 1],\n",
              " [1306, 1],\n",
              " [1306, 1],\n",
              " [1306, 1],\n",
              " [1306, 1],\n",
              " [1306, 1],\n",
              " [1306, 1],\n",
              " [1306, 1],\n",
              " [1306, 1],\n",
              " [1069, 1],\n",
              " [1069, 1],\n",
              " [1069, 1],\n",
              " [206, 6],\n",
              " [1561, 109],\n",
              " [1561, 109],\n",
              " [1561, 109],\n",
              " [193, 12, 1],\n",
              " [193, 12, 1],\n",
              " [193, 12, 1],\n",
              " [193, 12, 1],\n",
              " [6374, 109],\n",
              " [6374, 109],\n",
              " [6374, 109],\n",
              " [6374, 109],\n",
              " [145, 12, 1],\n",
              " [145, 12, 1],\n",
              " [57, 69, 1],\n",
              " [57, 69, 1],\n",
              " [57, 69, 1],\n",
              " [47, 99, 1],\n",
              " [47, 99, 1],\n",
              " [47, 99, 1],\n",
              " [101, 12, 109],\n",
              " [101, 12, 109],\n",
              " [101, 12, 109],\n",
              " [101, 12, 6],\n",
              " [101, 12, 6],\n",
              " [101, 12, 6],\n",
              " [8438, 18, 1],\n",
              " [8438, 18, 1],\n",
              " [1722, 19, 1],\n",
              " [1722, 19, 1],\n",
              " [2, 435, 1],\n",
              " [2, 435, 1],\n",
              " [2, 4612, 1],\n",
              " [2, 4613, 1],\n",
              " [2, 37, 1],\n",
              " [2, 175, 1],\n",
              " [2, 175, 1],\n",
              " [2, 975, 1],\n",
              " [2, 252, 1],\n",
              " [2, 571, 1],\n",
              " [2, 571, 1],\n",
              " [2, 571, 1],\n",
              " [2, 523, 1],\n",
              " [2, 523, 1],\n",
              " [2, 29, 1],\n",
              " [2, 29, 526, 1],\n",
              " [2, 29, 526, 1],\n",
              " [463, 1],\n",
              " [61, 134, 109],\n",
              " [61, 134, 109],\n",
              " [61, 134, 109],\n",
              " [61, 134, 109],\n",
              " [61, 134, 109],\n",
              " [61, 134, 109],\n",
              " [61, 134, 109],\n",
              " [61, 134, 109],\n",
              " [61, 134, 109],\n",
              " [61, 134, 109],\n",
              " [89, 6],\n",
              " [89, 6],\n",
              " [89, 6],\n",
              " [89, 6],\n",
              " [89, 6],\n",
              " [579, 109],\n",
              " [579, 1],\n",
              " [579, 1],\n",
              " [579, 1],\n",
              " [196, 12, 1],\n",
              " [196, 12, 1],\n",
              " [196, 12, 1],\n",
              " [20, 196, 1],\n",
              " [20, 143, 1],\n",
              " [20, 143, 1],\n",
              " [20, 143, 1],\n",
              " [20, 143, 1],\n",
              " [203, 9, 1],\n",
              " [203, 53, 1],\n",
              " [1448, 109],\n",
              " [1448, 109],\n",
              " [32, 1038, 1],\n",
              " [32, 1038, 1],\n",
              " [32, 1038, 1],\n",
              " [32, 1131, 1],\n",
              " [32, 1177, 1],\n",
              " [32, 1177, 1],\n",
              " [32, 1177, 1],\n",
              " [32, 1177, 1],\n",
              " [32, 1177, 1],\n",
              " [32, 1177, 1],\n",
              " [32, 1177, 1],\n",
              " [32, 1177, 1],\n",
              " [32, 1177, 1],\n",
              " [32, 248, 1],\n",
              " [32, 299, 1],\n",
              " [32, 299, 1],\n",
              " [32, 299, 1],\n",
              " [32, 299, 1],\n",
              " [32, 299, 1],\n",
              " [32, 299, 1],\n",
              " [1132, 12, 1],\n",
              " [1132, 12, 1],\n",
              " [1132, 12, 1],\n",
              " [1132, 12, 1],\n",
              " [1132, 12, 1],\n",
              " [1132, 12, 1],\n",
              " [1132, 12, 1],\n",
              " [1132, 12, 1],\n",
              " [1132, 12, 1],\n",
              " [1132, 12, 1],\n",
              " [1132, 12, 1],\n",
              " [1132, 12, 1],\n",
              " [1132, 12, 1],\n",
              " [1132, 12, 1],\n",
              " [1132, 12, 1],\n",
              " [1132, 12, 1],\n",
              " [1132, 12, 1],\n",
              " [1132, 12, 1],\n",
              " [2143, 12, 1],\n",
              " [2143, 12, 1],\n",
              " [2143, 12, 1],\n",
              " [2143, 12, 1],\n",
              " [3587, 12, 1],\n",
              " [3587, 12, 1],\n",
              " [3587, 12, 1],\n",
              " [3587, 12, 1],\n",
              " [207, 19, 1],\n",
              " [207, 19, 1],\n",
              " [207, 93, 1],\n",
              " [207, 93, 1],\n",
              " [87, 18, 1],\n",
              " [87, 18, 1],\n",
              " [87, 18, 1],\n",
              " [87, 18, 1],\n",
              " [87, 39, 109],\n",
              " [87, 39, 109],\n",
              " [87, 39, 109],\n",
              " [87, 39, 109],\n",
              " [87, 39, 109],\n",
              " [87, 39, 109],\n",
              " [87, 39, 109],\n",
              " [87, 39, 109],\n",
              " [87, 39, 109],\n",
              " [87, 39, 1],\n",
              " [87, 39, 1],\n",
              " [87, 39, 1],\n",
              " [1023, 12, 109],\n",
              " [1023, 12, 109],\n",
              " [1023, 12, 109],\n",
              " [1023, 12, 109],\n",
              " [4090, 12, 1],\n",
              " [4090, 12, 1],\n",
              " [4090, 12, 1],\n",
              " [4090, 12, 1],\n",
              " [57, 9, 1],\n",
              " [57, 70, 109],\n",
              " [57, 70, 109],\n",
              " [57, 70, 109],\n",
              " [57, 70, 109],\n",
              " [57, 70, 109],\n",
              " [57, 70, 109],\n",
              " [57, 70, 109],\n",
              " [57, 70, 109],\n",
              " [57, 70, 109],\n",
              " [57, 70, 109],\n",
              " [57, 70, 109],\n",
              " [57, 70, 109],\n",
              " [57, 70, 109],\n",
              " [57, 70, 109],\n",
              " [57, 70, 109],\n",
              " [57, 70, 109],\n",
              " [57, 70, 109],\n",
              " [57, 70, 109],\n",
              " [57, 70, 1],\n",
              " [57, 70, 1],\n",
              " [57, 70, 1],\n",
              " [57, 70, 1],\n",
              " [57, 70, 1],\n",
              " [57, 70, 1],\n",
              " [57, 70, 1],\n",
              " [57, 70, 1],\n",
              " [57, 70, 1],\n",
              " [57, 70, 1],\n",
              " [57, 70, 1],\n",
              " [57, 70, 1],\n",
              " [57, 70, 1],\n",
              " [57, 70, 1],\n",
              " [57, 70, 1],\n",
              " [47, 210, 109],\n",
              " [47, 210, 109],\n",
              " [47, 210, 109],\n",
              " [47, 210, 109],\n",
              " [47, 210, 109],\n",
              " [47, 210, 109],\n",
              " [47, 210, 109],\n",
              " [47, 210, 109],\n",
              " [47, 210, 1],\n",
              " [47, 210, 1],\n",
              " [47, 210, 1],\n",
              " [47, 210, 1],\n",
              " [47, 210, 1],\n",
              " [47, 210, 1],\n",
              " [47, 210, 1],\n",
              " [47, 210, 1],\n",
              " [47, 210, 1],\n",
              " [47, 210, 1],\n",
              " [47, 210, 1],\n",
              " [47, 210, 1],\n",
              " [47, 117, 1],\n",
              " [47, 112, 1],\n",
              " [47, 112, 1],\n",
              " [47, 112, 1],\n",
              " [47, 112, 1],\n",
              " [47, 1200, 1],\n",
              " [47, 1200, 1],\n",
              " [1359, 109],\n",
              " [1359, 109],\n",
              " [1359, 109],\n",
              " [1359, 1],\n",
              " [1359, 1],\n",
              " [1133, 39, 109],\n",
              " [1133, 39, 109],\n",
              " [1133, 39, 109],\n",
              " [1133, 39, 1],\n",
              " [1133, 39, 1],\n",
              " [1133, 39, 1],\n",
              " [14, 175, 1],\n",
              " [14, 1518, 1],\n",
              " [88, 19, 109],\n",
              " [88, 19, 1],\n",
              " [88, 19, 1],\n",
              " [88, 19, 1],\n",
              " [88, 19, 1],\n",
              " [88, 93, 1],\n",
              " [88, 93, 1],\n",
              " [640, 12, 109],\n",
              " [640, 12, 109],\n",
              " [640, 12, 109],\n",
              " [640, 12, 109],\n",
              " [640, 39, 1],\n",
              " [640, 39, 1],\n",
              " [43, 774, 109],\n",
              " [1722, 9, 1],\n",
              " [2, 514, 1],\n",
              " [2, 1201, 1],\n",
              " [2, 4614, 1],\n",
              " [2, 4614, 1],\n",
              " [2, 407, 1],\n",
              " [2, 1806, 1],\n",
              " [2, 851, 1],\n",
              " [2, 4615, 1],\n",
              " [2, 4615, 1],\n",
              " [2, 737, 1],\n",
              " [2, 3588, 1],\n",
              " [2, 4318, 1],\n",
              " [2, 1120, 1],\n",
              " [2, 1120, 1],\n",
              " [2, 5737, 1],\n",
              " [2, 5737, 1],\n",
              " [2, 321, 1],\n",
              " [2, 321, 1],\n",
              " [2, 321, 1],\n",
              " [2, 2858, 1],\n",
              " [2, 49, 47, 1],\n",
              " [2, 29, 9, 1],\n",
              " [2, 29, 888, 1],\n",
              " [2, 29, 888, 1],\n",
              " [2, 29, 1079, 1],\n",
              " [2, 29, 643, 109],\n",
              " [2, 29, 643, 109],\n",
              " [2, 29, 1080, 1],\n",
              " [2, 29, 774, 1],\n",
              " [2, 29, 774, 1],\n",
              " [2, 29, 774, 1],\n",
              " [2, 29, 1344, 1],\n",
              " [2, 29, 1376, 1],\n",
              " [2, 29, 1376, 1],\n",
              " [12, 13, 19, 109],\n",
              " [826, 93, 1],\n",
              " [826, 93, 1],\n",
              " [194, 12, 1],\n",
              " [194, 12, 1],\n",
              " [3170, 12, 1],\n",
              " [3170, 12, 1],\n",
              " [669, 12, 1],\n",
              " [669, 12, 1],\n",
              " [669, 12, 1],\n",
              " [669, 12, 1],\n",
              " [801, 19, 1],\n",
              " [801, 19, 1],\n",
              " [524, 1406, 1],\n",
              " [524, 1406, 1],\n",
              " [927, 12, 1],\n",
              " [927, 12, 1],\n",
              " [927, 12, 1],\n",
              " [927, 12, 1],\n",
              " [19, 23, 103, 1],\n",
              " [641, 39, 1],\n",
              " [641, 39, 1],\n",
              " [288, 12, 1],\n",
              " [288, 12, 1],\n",
              " [288, 12, 1],\n",
              " [288, 12, 1],\n",
              " [288, 69, 1],\n",
              " [288, 69, 1],\n",
              " [1188, 69, 1],\n",
              " [672, 109],\n",
              " [1388, 12, 1],\n",
              " [1388, 12, 1],\n",
              " [1229, 12, 1],\n",
              " [1229, 12, 1],\n",
              " [1229, 12, 1],\n",
              " [1229, 12, 1],\n",
              " [1229, 12, 1],\n",
              " [86, 3, 109],\n",
              " [86, 3, 109],\n",
              " [86, 3, 109],\n",
              " [86, 3, 109],\n",
              " [86, 3, 1],\n",
              " [86, 3, 1],\n",
              " [298, 19, 1],\n",
              " [298, 19, 1],\n",
              " [728, 69, 109],\n",
              " [728, 69, 109],\n",
              " [728, 69, 109],\n",
              " [728, 69, 109],\n",
              " [728, 69, 109],\n",
              " [728, 69, 109],\n",
              " [919, 69, 1],\n",
              " [919, 69, 1],\n",
              " [3045, 12, 1],\n",
              " [3045, 12, 1],\n",
              " [78, 141, 1],\n",
              " [97, 12, 1],\n",
              " [97, 12, 1],\n",
              " [97, 12, 1],\n",
              " [97, 12, 1],\n",
              " [97, 12, 1],\n",
              " [84, 19, 1],\n",
              " [84, 19, 1],\n",
              " [9, 143, 1],\n",
              " [782, 69, 109],\n",
              " [782, 69, 109],\n",
              " [782, 69, 109],\n",
              " [782, 69, 1],\n",
              " [782, 69, 1],\n",
              " [981, 69, 1],\n",
              " [981, 69, 1],\n",
              " [20, 277, 1],\n",
              " [20, 37, 1],\n",
              " [20, 252, 1],\n",
              " [20, 252, 1],\n",
              " [20, 252, 1],\n",
              " [20, 252, 1],\n",
              " [20, 252, 1],\n",
              " [20, 252, 1],\n",
              " [20, 252, 1],\n",
              " [20, 252, 1],\n",
              " [20, 252, 1],\n",
              " [20, 252, 1],\n",
              " [1024, 1],\n",
              " [1024, 1],\n",
              " [76, 480, 6],\n",
              " [76, 143, 6],\n",
              " [76, 143, 6],\n",
              " [3, 409, 1],\n",
              " [3, 501, 1],\n",
              " [2704, 490, 1],\n",
              " [2704, 490, 1],\n",
              " [135, 2, 888, 6],\n",
              " [135, 2, 888, 6],\n",
              " [203, 160, 1],\n",
              " [203, 160, 1],\n",
              " [117, 153, 109],\n",
              " [117, 153, 109],\n",
              " [117, 153, 109],\n",
              " [117, 153, 1],\n",
              " [117, 153, 1],\n",
              " [117, 153, 1],\n",
              " [117, 153, 1],\n",
              " [117, 153, 1],\n",
              " [32, 7, 205, 1],\n",
              " [32, 7, 205, 1],\n",
              " [32, 1465, 1],\n",
              " [32, 3046, 1],\n",
              " [32, 3046, 1],\n",
              " [32, 3046, 1],\n",
              " [32, 3046, 1],\n",
              " [32, 3046, 1],\n",
              " [32, 3046, 1],\n",
              " [32, 138, 1],\n",
              " [32, 138, 1],\n",
              " [32, 138, 1],\n",
              " [207, 9, 1],\n",
              " [207, 9, 1],\n",
              " [2240, 69, 109],\n",
              " [1131, 153, 109],\n",
              " [1826, 19, 1],\n",
              " [8439, 53, 1],\n",
              " [407, 39, 1],\n",
              " [407, 39, 1],\n",
              " [407, 39, 1],\n",
              " [407, 39, 1],\n",
              " [186, 9, 1],\n",
              " [186, 9, 1],\n",
              " [775, 17, 1],\n",
              " [775, 17, 1],\n",
              " [57, 210, 109],\n",
              " [57, 210, 109],\n",
              " [57, 210, 109],\n",
              " [57, 210, 109],\n",
              " [57, 210, 109],\n",
              " [57, 210, 109],\n",
              " [57, 210, 109],\n",
              " [57, 210, 109],\n",
              " [57, 210, 109],\n",
              " [57, 210, 109],\n",
              " [57, 210, 109],\n",
              " [57, 210, 109],\n",
              " [57, 210, 109],\n",
              " [57, 210, 109],\n",
              " [57, 210, 109],\n",
              " [57, 210, 109],\n",
              " [57, 210, 109],\n",
              " [57, 210, 109],\n",
              " [57, 210, 109],\n",
              " [57, 210, 109],\n",
              " [57, 210, 109],\n",
              " [57, 210, 109],\n",
              " [57, 210, 109],\n",
              " [57, 210, 109],\n",
              " [57, 210, 109],\n",
              " [57, 210, 1],\n",
              " [57, 210, 1],\n",
              " [57, 164, 109],\n",
              " [57, 164, 109],\n",
              " [57, 164, 109],\n",
              " [57, 164, 109],\n",
              " [57, 164, 1],\n",
              " [57, 164, 1],\n",
              " [57, 164, 1],\n",
              " [57, 164, 1],\n",
              " [57, 164, 1],\n",
              " [57, 164, 1],\n",
              " [57, 164, 1],\n",
              " [57, 252, 109],\n",
              " [57, 252, 109],\n",
              " [57, 252, 109],\n",
              " [57, 252, 109],\n",
              " [57, 252, 109],\n",
              " [57, 252, 109],\n",
              " [57, 252, 109],\n",
              " [57, 252, 109],\n",
              " [57, 252, 109],\n",
              " [57, 252, 109],\n",
              " [57, 252, 1],\n",
              " [57, 252, 1],\n",
              " [57, 252, 1],\n",
              " [57, 252, 1],\n",
              " [57, 252, 1],\n",
              " [57, 252, 1],\n",
              " [57, 252, 1],\n",
              " [57, 624, 109],\n",
              " [57, 624, 109],\n",
              " [47, 802, 109],\n",
              " [47, 802, 109],\n",
              " [47, 802, 109],\n",
              " [47, 802, 109],\n",
              " [47, 802, 109],\n",
              " [47, 802, 109],\n",
              " [47, 802, 109],\n",
              " [47, 802, 109],\n",
              " [47, 802, 109],\n",
              " [47, 802, 109],\n",
              " [47, 802, 109],\n",
              " [47, 802, 109],\n",
              " [47, 802, 109],\n",
              " [47, 802, 1],\n",
              " [47, 802, 1],\n",
              " [47, 802, 1],\n",
              " [47, 802, 1],\n",
              " [47, 802, 1],\n",
              " [47, 802, 1],\n",
              " [47, 802, 1],\n",
              " [47, 802, 1],\n",
              " [47, 802, 1],\n",
              " [47, 802, 1],\n",
              " [47, 802, 1],\n",
              " [47, 802, 1],\n",
              " [80, 166, 109],\n",
              " [80, 166, 109],\n",
              " [80, 166, 109],\n",
              " [80, 166, 109],\n",
              " [1656, 53, 1],\n",
              " [1656, 53, 1],\n",
              " [21, 340, 1],\n",
              " [21, 340, 1],\n",
              " [21, 340, 1],\n",
              " [14, 790, 1],\n",
              " [14, 790, 1],\n",
              " [14, 790, 1],\n",
              " [14, 4091, 1],\n",
              " [14, 13, 1376, 1],\n",
              " [88, 9, 1],\n",
              " [88, 9, 1],\n",
              " [88, 9, 1],\n",
              " [2374, 23, 787, 1],\n",
              " [43, 920, 109],\n",
              " [43, 920, 109],\n",
              " [43, 920, 109],\n",
              " [43, 1209, 6],\n",
              " [43, 299, 109],\n",
              " [43, 299, 109],\n",
              " [43, 299, 109],\n",
              " [43, 299, 109],\n",
              " [43, 299, 109],\n",
              " [43, 1345, 109],\n",
              " [43, 1449, 109],\n",
              " [464, 69, 1],\n",
              " [464, 69, 1],\n",
              " [464, 69, 1],\n",
              " [464, 69, 1],\n",
              " [464, 69, 1],\n",
              " [464, 69, 1],\n",
              " [2, 135, 9, 1],\n",
              " [2, 7196, 1],\n",
              " [2, 42, 526, 1],\n",
              " [2, 42, 526, 1],\n",
              " [2, 42, 12, 1],\n",
              " [2, 42, 12, 1],\n",
              " [2, 1041, 1],\n",
              " [2, 468, 1],\n",
              " [2, 57, 12, 1],\n",
              " [2, 8440, 1],\n",
              " [2, 101, 12, 1],\n",
              " [2, 101, 12, 1],\n",
              " [2, 652, 1],\n",
              " [2, 1615, 1],\n",
              " [2, 397, 1],\n",
              " [2, 8441, 1],\n",
              " [2, 3171, 1],\n",
              " [2, 3313, 1],\n",
              " [2, 2956, 1],\n",
              " [2, 2956, 1],\n",
              " [2, 1450, 1],\n",
              " [2, 1450, 1],\n",
              " [2, 2486, 1],\n",
              " [2, 2486, 1],\n",
              " [2, 200, 12, 1],\n",
              " [2, 200, 12, 1],\n",
              " [2, 5738, 1],\n",
              " [2, 1533, 1],\n",
              " [2, 547, 1],\n",
              " [2, 547, 1],\n",
              " [2, 660, 1],\n",
              " [2, 268, 12, 1],\n",
              " [2, 268, 12, 1],\n",
              " [2, 268, 12, 1],\n",
              " [2, 49, 322, 1],\n",
              " [2, 49, 322, 1],\n",
              " [2, 49, 196, 1],\n",
              " [2, 49, 196, 1],\n",
              " [2, 29, 117, 1],\n",
              " [2, 29, 117, 1],\n",
              " [2, 29, 2375, 1],\n",
              " [2, 29, 218, 1],\n",
              " [2, 29, 218, 1],\n",
              " [2, 29, 1038, 1],\n",
              " [2, 29, 293, 1],\n",
              " [2, 29, 1131, 1],\n",
              " [2, 29, 1131, 1],\n",
              " [2, 29, 1934, 1],\n",
              " [2, 29, 1934, 1],\n",
              " [2, 29, 185, 1],\n",
              " [2, 29, 1177, 1],\n",
              " [2, 29, 1177, 1],\n",
              " [2, 29, 1177, 1],\n",
              " [2, 29, 466, 1],\n",
              " [2, 29, 760, 1],\n",
              " [2, 29, 760, 1],\n",
              " [2, 29, 760, 1],\n",
              " [2, 29, 443, 109],\n",
              " [2, 29, 443, 1],\n",
              " [2, 29, 443, 1],\n",
              " [2, 29, 539, 1],\n",
              " [2, 29, 539, 1],\n",
              " [2, 29, 499, 1],\n",
              " [2, 29, 499, 1],\n",
              " [2, 29, 308, 1],\n",
              " [2, 29, 112, 1],\n",
              " [2, 29, 223, 1],\n",
              " [2, 29, 1264, 1],\n",
              " [2, 29, 1264, 1],\n",
              " [2, 29, 1264, 1],\n",
              " [2, 29, 1264, 1],\n",
              " [2, 29, 252, 1],\n",
              " [2, 29, 252, 1],\n",
              " [2, 29, 2101, 1],\n",
              " [2, 29, 2101, 1],\n",
              " [2, 29, 575, 1],\n",
              " [2, 29, 474, 1],\n",
              " [2, 29, 403, 1],\n",
              " [2, 29, 122, 1],\n",
              " [2, 29, 122, 1],\n",
              " [2, 29, 122, 1],\n",
              " [2, 29, 122, 1],\n",
              " [2, 29, 738, 1],\n",
              " [2, 29, 1754, 1],\n",
              " [2, 29, 3735, 1],\n",
              " [2, 29, 3735, 1],\n",
              " [2, 29, 1562, 1],\n",
              " [2, 29, 1562, 1],\n",
              " [2, 29, 1585, 1],\n",
              " [2, 29, 170, 1],\n",
              " [2, 29, 170, 1],\n",
              " [2, 51, 143, 1],\n",
              " [2, 51, 143, 1],\n",
              " [12, 1935, 1],\n",
              " [12, 1389, 1],\n",
              " [12, 554, 1],\n",
              " [12, 554, 1],\n",
              " [12, 13, 9, 1],\n",
              " [12, 13, 340, 1],\n",
              " [12, 13, 340, 1],\n",
              " [12, 13, 46, 1],\n",
              " [12, 13, 46, 1],\n",
              " [12, 13, 157, 1],\n",
              " [12, 13, 157, 1],\n",
              " [12, 13, 2102, 1],\n",
              " [12, 13, 533, 1],\n",
              " [12, 13, 774, 1],\n",
              " [194, 70, 109],\n",
              " [194, 70, 1],\n",
              " [669, 9, 1],\n",
              " [669, 9, 1],\n",
              " [801, 9, 1],\n",
              " [155, 12, 1],\n",
              " [155, 12, 1],\n",
              " [155, 12, 1],\n",
              " [155, 12, 1],\n",
              " [155, 12, 1],\n",
              " [155, 19, 1],\n",
              " [155, 93, 1],\n",
              " [155, 93, 1],\n",
              " [81, 13, 47, 109],\n",
              " [81, 13, 47, 109],\n",
              " [81, 13, 47, 1],\n",
              " [123, 70, 109],\n",
              " [123, 70, 109],\n",
              " [123, 70, 109],\n",
              " [123, 70, 109],\n",
              " [123, 70, 109],\n",
              " [123, 70, 109],\n",
              " [123, 70, 109],\n",
              " [123, 70, 109],\n",
              " [123, 70, 109],\n",
              " [123, 70, 109],\n",
              " [1081, 19, 1],\n",
              " [1081, 19, 1],\n",
              " [176, 2, 47, 6],\n",
              " [176, 2, 47, 6],\n",
              " [176, 2, 47, 6],\n",
              " [99, 179, 109],\n",
              " [99, 179, 109],\n",
              " [409, 210, 1],\n",
              " [409, 210, 1],\n",
              " [409, 210, 1],\n",
              " [409, 210, 1],\n",
              " [809, 9, 1],\n",
              " [809, 9, 1],\n",
              " [121, 25, 6],\n",
              " [35, 235, 1],\n",
              " [35, 389, 1],\n",
              " [35, 175, 1],\n",
              " [35, 1518, 1],\n",
              " [450, 164, 109],\n",
              " [450, 164, 109],\n",
              " [450, 164, 109],\n",
              " [450, 164, 1],\n",
              " [450, 164, 1],\n",
              " [450, 55, 1],\n",
              " [450, 55, 1],\n",
              " [192, 69, 109],\n",
              " [192, 69, 109],\n",
              " [192, 69, 109],\n",
              " [1870, 69, 1],\n",
              " [1870, 69, 1],\n",
              " [489, 69, 1],\n",
              " [179, 9, 1],\n",
              " [179, 9, 1],\n",
              " [97, 9, 1],\n",
              " [1275, 12, 1],\n",
              " [1275, 12, 1],\n",
              " [1275, 12, 1],\n",
              " [1275, 12, 1],\n",
              " [84, 9, 1],\n",
              " [84, 9, 1],\n",
              " [2144, 109],\n",
              " [2144, 109],\n",
              " [2144, 109],\n",
              " [2144, 109],\n",
              " [2144, 109],\n",
              " [2144, 109],\n",
              " [2144, 109],\n",
              " [2144, 109],\n",
              " [2144, 109],\n",
              " [2144, 109],\n",
              " [2144, 109],\n",
              " [2144, 109],\n",
              " [2144, 109],\n",
              " [2144, 109],\n",
              " [2144, 109],\n",
              " [2144, 109],\n",
              " [2144, 109],\n",
              " [41, 143, 1],\n",
              " [41, 143, 1],\n",
              " [41, 143, 1],\n",
              " [41, 143, 1],\n",
              " [9, 235, 1],\n",
              " [9, 389, 1],\n",
              " [9, 246, 1],\n",
              " [9, 175, 1],\n",
              " [9, 175, 1],\n",
              " [9, 975, 1],\n",
              " [9, 1723, 1],\n",
              " [9, 252, 1],\n",
              " [9, 571, 1],\n",
              " [9, 571, 1],\n",
              " [9, 152, 1],\n",
              " [9, 13, 69, 1],\n",
              " [103, 223, 1],\n",
              " [638, 12, 1],\n",
              " [638, 12, 1],\n",
              " [638, 12, 1],\n",
              " [638, 12, 1],\n",
              " [431, 19, 1],\n",
              " [431, 19, 1],\n",
              " [196, 105, 1],\n",
              " [196, 105, 1],\n",
              " [196, 105, 1],\n",
              " [196, 17, 1],\n",
              " [196, 17, 1],\n",
              " [196, 17, 1],\n",
              " [268, 17, 1],\n",
              " [268, 17, 1],\n",
              " [268, 17, 1],\n",
              " [268, 17, 1],\n",
              " [1503, 9, 1],\n",
              " [1503, 9, 1],\n",
              " [315, 19, 1],\n",
              " [315, 19, 1],\n",
              " [315, 93, 1],\n",
              " [315, 93, 1],\n",
              " [20, 514, 1],\n",
              " [20, 49, 47, 1],\n",
              " [20, 33, 526, 1],\n",
              " [25, 27, 6],\n",
              " [25, 27, 6],\n",
              " [25, 340, 109],\n",
              " [25, 340, 109],\n",
              " [76, 135, 2, 6],\n",
              " [76, 235, 6],\n",
              " [76, 389, 6],\n",
              " [76, 435, 6],\n",
              " [76, 252, 6],\n",
              " [76, 571, 6],\n",
              " [76, 523, 6],\n",
              " [76, 13, 14, 6],\n",
              " [320, 19, 1],\n",
              " [320, 19, 1],\n",
              " [3, 252, 1],\n",
              " [3, 252, 1],\n",
              " [3, 252, 1],\n",
              " [213, 3, 1],\n",
              " [213, 3, 1],\n",
              " [2704, 1, 442, 109],\n",
              " [135, 2, 223, 6],\n",
              " [278, 19, 1],\n",
              " [32, 898, 1],\n",
              " [32, 898, 1],\n",
              " [32, 898, 1],\n",
              " [32, 1871, 1],\n",
              " [32, 1871, 1],\n",
              " [32, 1871, 1],\n",
              " [32, 719, 1],\n",
              " [1215, 1254, 1],\n",
              " [4319, 3, 1],\n",
              " [207, 112, 109],\n",
              " [1038, 164, 109],\n",
              " [1038, 164, 109],\n",
              " [1038, 164, 109],\n",
              " [1038, 164, 1],\n",
              " [1038, 164, 1],\n",
              " [1038, 164, 1],\n",
              " [28, 20, 47, 6],\n",
              " [28, 20, 47, 6],\n",
              " [28, 20, 47, 6],\n",
              " [515, 9, 1],\n",
              " [515, 9, 1],\n",
              " [515, 53, 1],\n",
              " [515, 53, 1],\n",
              " [4905, 70, 1],\n",
              " [4905, 70, 1],\n",
              " [761, 19, 1],\n",
              " [87, 117, 1],\n",
              " [87, 117, 1],\n",
              " [87, 55, 1],\n",
              " [87, 55, 1],\n",
              " [87, 183, 1],\n",
              " [87, 183, 1],\n",
              " [87, 183, 1],\n",
              " [87, 183, 1],\n",
              " [87, 183, 1],\n",
              " [87, 271, 1],\n",
              " [87, 271, 1],\n",
              " [1131, 164, 1],\n",
              " [42, 2, 501, 6],\n",
              " [42, 2, 501, 6],\n",
              " [42, 2, 501, 6],\n",
              " [15, 12, 99, 1],\n",
              " [661, 4616, 1],\n",
              " [661, 4616, 1],\n",
              " [22, 8, 203, 1],\n",
              " [22, 8, 895, 1],\n",
              " [22, 8, 544, 1],\n",
              " [22, 8, 544, 1],\n",
              " [22, 8, 524, 1],\n",
              " [22, 8, 524, 1],\n",
              " [22, 8, 409, 1],\n",
              " [22, 8, 409, 1],\n",
              " [814, 19, 1],\n",
              " [814, 19, 1],\n",
              " [814, 19, 6],\n",
              " [814, 19, 6],\n",
              " [814, 19, 6],\n",
              " [814, 19, 6],\n",
              " [814, 19, 6],\n",
              " [2009, 109],\n",
              " [2009, 109],\n",
              " [2009, 109],\n",
              " [147, 17, 1],\n",
              " [147, 17, 1],\n",
              " [147, 17, 1],\n",
              " [147, 17, 1],\n",
              " [2487, 17, 1],\n",
              " [2487, 17, 1],\n",
              " [723, 19, 1],\n",
              " [723, 93, 1],\n",
              " [723, 93, 1],\n",
              " [354, 12, 109],\n",
              " [354, 12, 109],\n",
              " [354, 12, 109],\n",
              " [354, 12, 109],\n",
              " [354, 12, 109],\n",
              " [354, 12, 109],\n",
              " [354, 12, 1],\n",
              " [354, 12, 1],\n",
              " [354, 12, 1],\n",
              " [354, 12, 1],\n",
              " [354, 12, 1],\n",
              " [354, 19, 1],\n",
              " [354, 19, 1],\n",
              " [57, 7, 166, 1],\n",
              " [57, 7, 166, 1],\n",
              " [57, 7, 166, 1],\n",
              " [57, 7, 166, 1],\n",
              " [57, 67, 1],\n",
              " [57, 67, 1],\n",
              " [57, 67, 1],\n",
              " [57, 67, 1],\n",
              " [57, 67, 1],\n",
              " [57, 67, 1],\n",
              " [57, 67, 1],\n",
              " [57, 67, 1],\n",
              " [57, 272, 1],\n",
              " [57, 272, 1],\n",
              " [47, 1082, 1],\n",
              " [47, 1082, 1],\n",
              " [47, 57, 12, 1],\n",
              " [47, 57, 12, 1],\n",
              " [47, 861, 1],\n",
              " [47, 4, 284, 1],\n",
              " [47, 4, 284, 1],\n",
              " [47, 4, 284, 1],\n",
              " [47, 4, 284, 1],\n",
              " [47, 4, 284, 1],\n",
              " [47, 4, 284, 1],\n",
              " [47, 4, 284, 1],\n",
              " [80, 776, 1],\n",
              " [80, 776, 1],\n",
              " [80, 776, 1],\n",
              " [1656, 11, 1],\n",
              " [1656, 11, 1],\n",
              " [1656, 11, 1],\n",
              " [1656, 11, 1],\n",
              " [1656, 17, 1],\n",
              " [1656, 17, 1],\n",
              " [507, 153, 1],\n",
              " [507, 153, 1],\n",
              " [21, 105, 1],\n",
              " [21, 105, 1],\n",
              " [14, 10, 1080, 1],\n",
              " [14, 10, 171, 1],\n",
              " [14, 13, 7, 7197, 1],\n",
              " [14, 13, 80, 1],\n",
              " [14, 13, 1264, 1],\n",
              " [14, 13, 360, 1],\n",
              " [14, 13, 575, 1],\n",
              " [14, 13, 4906, 1],\n",
              " [653, 3047, 1],\n",
              " [653, 3047, 1],\n",
              " [653, 2435, 1],\n",
              " [653, 2435, 1],\n",
              " [55, 2, 135, 1],\n",
              " [55, 13, 1],\n",
              " [640, 442, 1],\n",
              " [640, 442, 1],\n",
              " [640, 17, 1],\n",
              " [640, 17, 1],\n",
              " [640, 17, 1],\n",
              " [640, 17, 1],\n",
              " [640, 17, 1],\n",
              " [43, 1674, 109],\n",
              " [43, 1674, 109],\n",
              " [43, 10, 12, 6],\n",
              " [43, 10, 12, 6],\n",
              " [43, 1019, 109],\n",
              " [43, 13, 9, 6],\n",
              " ...]"
            ]
          },
          "metadata": {},
          "execution_count": 95
        }
      ]
    },
    {
      "cell_type": "code",
      "source": [
        ""
      ],
      "metadata": {
        "colab": {
          "base_uri": "https://localhost:8080/"
        },
        "id": "O3P1w2PyExuy",
        "outputId": "ae548918-223a-445d-8674-e33371f05734"
      },
      "execution_count": null,
      "outputs": [
        {
          "output_type": "execute_result",
          "data": {
            "text/plain": [
              "0                                                       go.\n",
              "1                                                       go.\n",
              "2                                                       go.\n",
              "3                                                       hi.\n",
              "4                                                       hi.\n",
              "                                ...                        \n",
              "194508    a carbon footprint is the amount of carbon dio...\n",
              "194509    death is something that we're often discourage...\n",
              "194510    since there are usually multiple websites on a...\n",
              "194511    if someone who doesn't know your background sa...\n",
              "194512    it may be impossible to get a completely error...\n",
              "Name: eng, Length: 194513, dtype: object"
            ]
          },
          "metadata": {},
          "execution_count": 72
        }
      ]
    },
    {
      "cell_type": "code",
      "source": [
        "import re\n",
        "def preprocess_sentence(sentence):\n",
        "    sentence = str.extract.lower() # 1 소문자로 바꾸고\n",
        "    sentence = re.sub(r\"([?.!,¿])\", r\" \\1 \", sentence) # 2 특수문자 양쪽에 공백을 넣는다.\n",
        "    sentence = re.sub(r'[\" \"]+', \" \", sentence) # 3 여러개의 공백은 하나의 공백으로 바꾼다.\n",
        "    sentence = re.sub(r\"[^a-zA-Z?.!,¿]+\", \" \", sentence) # 4 a-zA-Z?.!,¿가 아닌 모든 문자를 하나의 공백으로 바꾼다. \n",
        "    tokenizer  = Tokenizer(split=' ')  \n",
        "    tokenizer .fit_on_texts(sentence)               # 50000개의 행을 가진 eng의 각 행에 토큰화를 수행\n",
        "    sentence = tokenizer.texts_to_sequences(sentence) \n",
        "    return sentence"
      ],
      "metadata": {
        "id": "b7xdhM5Cnnfx"
      },
      "execution_count": null,
      "outputs": []
    },
    {
      "cell_type": "code",
      "source": [
        "set = lines.eng.str.lower()\n",
        "set = set.str,extract(\"([?.!,¿])\", r\" \\1 \")\n",
        "set"
      ],
      "metadata": {
        "colab": {
          "base_uri": "https://localhost:8080/",
          "height": 209
        },
        "id": "4gy3B6MM3mG-",
        "outputId": "98bed965-9ffd-42ed-9b0c-cc7a027cacd6"
      },
      "execution_count": null,
      "outputs": [
        {
          "output_type": "error",
          "ename": "NameError",
          "evalue": "ignored",
          "traceback": [
            "\u001b[0;31m---------------------------------------------------------------------------\u001b[0m",
            "\u001b[0;31mNameError\u001b[0m                                 Traceback (most recent call last)",
            "\u001b[0;32m<ipython-input-64-0ddd9b48d165>\u001b[0m in \u001b[0;36m<module>\u001b[0;34m\u001b[0m\n\u001b[1;32m      1\u001b[0m \u001b[0mset\u001b[0m \u001b[0;34m=\u001b[0m \u001b[0mlines\u001b[0m\u001b[0;34m.\u001b[0m\u001b[0meng\u001b[0m\u001b[0;34m.\u001b[0m\u001b[0mstr\u001b[0m\u001b[0;34m.\u001b[0m\u001b[0mlower\u001b[0m\u001b[0;34m(\u001b[0m\u001b[0;34m)\u001b[0m\u001b[0;34m\u001b[0m\u001b[0;34m\u001b[0m\u001b[0m\n\u001b[0;32m----> 2\u001b[0;31m \u001b[0mset\u001b[0m \u001b[0;34m=\u001b[0m \u001b[0mset\u001b[0m\u001b[0;34m.\u001b[0m\u001b[0mstr\u001b[0m\u001b[0;34m,\u001b[0m\u001b[0mextract\u001b[0m\u001b[0;34m(\u001b[0m\u001b[0;34m\"([?.!,¿])\"\u001b[0m\u001b[0;34m,\u001b[0m \u001b[0;34mr\" \\1 \"\u001b[0m\u001b[0;34m)\u001b[0m\u001b[0;34m\u001b[0m\u001b[0;34m\u001b[0m\u001b[0m\n\u001b[0m\u001b[1;32m      3\u001b[0m \u001b[0mset\u001b[0m\u001b[0;34m\u001b[0m\u001b[0;34m\u001b[0m\u001b[0m\n",
            "\u001b[0;31mNameError\u001b[0m: name 'extract' is not defined"
          ]
        }
      ]
    },
    {
      "cell_type": "code",
      "source": [
        "print(str(lines.eng).lower())\n",
        "str(lines.eng).lower()[:3]\n",
        "lines.eng[:3]"
      ],
      "metadata": {
        "colab": {
          "base_uri": "https://localhost:8080/"
        },
        "id": "TCz8x8I12FL3",
        "outputId": "6274694d-15ae-42bb-b393-db90ca424ec3"
      },
      "execution_count": null,
      "outputs": [
        {
          "output_type": "stream",
          "name": "stdout",
          "text": [
            "0                                                       go.\n",
            "1                                                       go.\n",
            "2                                                       go.\n",
            "3                                                       hi.\n",
            "4                                                       hi.\n",
            "                                ...                        \n",
            "194508    a carbon footprint is the amount of carbon dio...\n",
            "194509    death is something that we're often discourage...\n",
            "194510    since there are usually multiple websites on a...\n",
            "194511    if someone who doesn't know your background sa...\n",
            "194512    it may be impossible to get a completely error...\n",
            "name: eng, length: 194513, dtype: object\n"
          ]
        },
        {
          "output_type": "execute_result",
          "data": {
            "text/plain": [
              "0    Go.\n",
              "1    Go.\n",
              "2    Go.\n",
              "Name: eng, dtype: object"
            ]
          },
          "metadata": {},
          "execution_count": 49
        }
      ]
    },
    {
      "cell_type": "code",
      "source": [
        "re.sub(r'[\" \"]+', ' ',(str(re.sub(r'([?.!,])', r' \\1 ', str(str(lines.eng).lower())))))"
      ],
      "metadata": {
        "colab": {
          "base_uri": "https://localhost:8080/",
          "height": 108
        },
        "id": "veM253VSz5us",
        "outputId": "8563be80-fe31-44e8-8ece-97f4c4f6a17f"
      },
      "execution_count": null,
      "outputs": [
        {
          "output_type": "execute_result",
          "data": {
            "text/plain": [
              "\"0 go . \\n1 go . \\n2 go . \\n3 hi . \\n4 hi . \\n . . . \\n194508 a carbon footprint is the amount of carbon dio . . . \\n194509 death is something that we're often discourage . . . \\n194510 since there are usually multiple websites on a . . . \\n194511 if someone who doesn't know your background sa . . . \\n194512 it may be impossible to get a completely error . . . \\nname: eng , length: 194513 , dtype: object\""
            ],
            "application/vnd.google.colaboratory.intrinsic+json": {
              "type": "string"
            }
          },
          "metadata": {},
          "execution_count": 35
        }
      ]
    },
    {
      "cell_type": "code",
      "source": [
        "\n",
        "input_text = preprocess_sentence(lines['eng'])\n",
        "input_text[:3]\n"
      ],
      "metadata": {
        "colab": {
          "base_uri": "https://localhost:8080/",
          "height": 354
        },
        "id": "kmcQQqE2v8R8",
        "outputId": "8d1c4b0c-2722-4e3a-9b2e-ec4608035bd5"
      },
      "execution_count": null,
      "outputs": [
        {
          "output_type": "error",
          "ename": "AttributeError",
          "evalue": "ignored",
          "traceback": [
            "\u001b[0;31m---------------------------------------------------------------------------\u001b[0m",
            "\u001b[0;31mAttributeError\u001b[0m                            Traceback (most recent call last)",
            "\u001b[0;32m<ipython-input-66-72d4f066fc76>\u001b[0m in \u001b[0;36m<module>\u001b[0;34m\u001b[0m\n\u001b[0;32m----> 1\u001b[0;31m \u001b[0minput_text\u001b[0m \u001b[0;34m=\u001b[0m \u001b[0mpreprocess_sentence\u001b[0m\u001b[0;34m(\u001b[0m\u001b[0mlines\u001b[0m\u001b[0;34m[\u001b[0m\u001b[0;34m'eng'\u001b[0m\u001b[0;34m]\u001b[0m\u001b[0;34m)\u001b[0m\u001b[0;34m\u001b[0m\u001b[0;34m\u001b[0m\u001b[0m\n\u001b[0m\u001b[1;32m      2\u001b[0m \u001b[0minput_text\u001b[0m\u001b[0;34m[\u001b[0m\u001b[0;34m:\u001b[0m\u001b[0;36m3\u001b[0m\u001b[0;34m]\u001b[0m\u001b[0;34m\u001b[0m\u001b[0;34m\u001b[0m\u001b[0m\n",
            "\u001b[0;32m<ipython-input-65-f9556f4f5b06>\u001b[0m in \u001b[0;36mpreprocess_sentence\u001b[0;34m(sentence)\u001b[0m\n\u001b[1;32m      1\u001b[0m \u001b[0;32mimport\u001b[0m \u001b[0mre\u001b[0m\u001b[0;34m\u001b[0m\u001b[0;34m\u001b[0m\u001b[0m\n\u001b[1;32m      2\u001b[0m \u001b[0;32mdef\u001b[0m \u001b[0mpreprocess_sentence\u001b[0m\u001b[0;34m(\u001b[0m\u001b[0msentence\u001b[0m\u001b[0;34m)\u001b[0m\u001b[0;34m:\u001b[0m\u001b[0;34m\u001b[0m\u001b[0;34m\u001b[0m\u001b[0m\n\u001b[0;32m----> 3\u001b[0;31m     \u001b[0msentence\u001b[0m \u001b[0;34m=\u001b[0m \u001b[0mstr\u001b[0m\u001b[0;34m.\u001b[0m\u001b[0mextract\u001b[0m\u001b[0;34m.\u001b[0m\u001b[0mlower\u001b[0m\u001b[0;34m(\u001b[0m\u001b[0;34m)\u001b[0m \u001b[0;31m# 1 소문자로 바꾸고\u001b[0m\u001b[0;34m\u001b[0m\u001b[0;34m\u001b[0m\u001b[0m\n\u001b[0m\u001b[1;32m      4\u001b[0m     \u001b[0msentence\u001b[0m \u001b[0;34m=\u001b[0m \u001b[0mre\u001b[0m\u001b[0;34m.\u001b[0m\u001b[0msub\u001b[0m\u001b[0;34m(\u001b[0m\u001b[0;34mr\"([?.!,¿])\"\u001b[0m\u001b[0;34m,\u001b[0m \u001b[0;34mr\" \\1 \"\u001b[0m\u001b[0;34m,\u001b[0m \u001b[0msentence\u001b[0m\u001b[0;34m)\u001b[0m \u001b[0;31m# 2 특수문자 양쪽에 공백을 넣는다.\u001b[0m\u001b[0;34m\u001b[0m\u001b[0;34m\u001b[0m\u001b[0m\n\u001b[1;32m      5\u001b[0m     \u001b[0msentence\u001b[0m \u001b[0;34m=\u001b[0m \u001b[0mre\u001b[0m\u001b[0;34m.\u001b[0m\u001b[0msub\u001b[0m\u001b[0;34m(\u001b[0m\u001b[0;34mr'[\" \"]+'\u001b[0m\u001b[0;34m,\u001b[0m \u001b[0;34m\" \"\u001b[0m\u001b[0;34m,\u001b[0m \u001b[0msentence\u001b[0m\u001b[0;34m)\u001b[0m \u001b[0;31m# 3 여러개의 공백은 하나의 공백으로 바꾼다.\u001b[0m\u001b[0;34m\u001b[0m\u001b[0;34m\u001b[0m\u001b[0m\n",
            "\u001b[0;31mAttributeError\u001b[0m: type object 'str' has no attribute 'extract'"
          ]
        }
      ]
    },
    {
      "cell_type": "code",
      "source": [
        "lines.eng[:3]"
      ],
      "metadata": {
        "colab": {
          "base_uri": "https://localhost:8080/"
        },
        "id": "f3wPdjyz1AuE",
        "outputId": "1ea3ff7a-6d2b-4801-87c6-5452272e669a"
      },
      "execution_count": null,
      "outputs": [
        {
          "output_type": "execute_result",
          "data": {
            "text/plain": [
              "0    Go.\n",
              "1    Go.\n",
              "2    Go.\n",
              "Name: eng, dtype: object"
            ]
          },
          "metadata": {},
          "execution_count": 37
        }
      ]
    },
    {
      "cell_type": "code",
      "source": [
        "input_text[:3]"
      ],
      "metadata": {
        "colab": {
          "base_uri": "https://localhost:8080/"
        },
        "id": "_5yuN9ky0_fj",
        "outputId": "89365f11-5cea-4fa6-8e58-e2c4182e81b5"
      },
      "execution_count": null,
      "outputs": [
        {
          "output_type": "execute_result",
          "data": {
            "text/plain": [
              "[[], [9], [2]]"
            ]
          },
          "metadata": {},
          "execution_count": 36
        }
      ]
    },
    {
      "cell_type": "markdown",
      "source": [
        "- https://acdongpgm.tistory.com/166"
      ],
      "metadata": {
        "id": "WTLzfofRDrEE"
      }
    },
    {
      "cell_type": "code",
      "source": [
        "import re\n",
        "def preprocess_sentence(sentence):\n",
        "  df[\"title\"] = df[\"title\"].str.replace(pat=r'[^\\w]', repl=r'', regex=True)\n",
        "    sentence = sentence.str.extract.lower() # 1 소문자로 바꾸고\n",
        "    sentence = re.sub(r\"([?.!,¿])\", r\" \\1 \", sentence) # 2 특수문자 양쪽에 공백을 넣는다.\n",
        "    sentence = re.sub(r'[\" \"]+', \" \", sentence) # 3 여러개의 공백은 하나의 공백으로 바꾼다.\n",
        "    sentence = re.sub(r\"[^a-zA-Z?.!,¿]+\", \" \", sentence) # 4 a-zA-Z?.!,¿가 아닌 모든 문자를 하나의 공백으로 바꾼다. \n",
        "    tokenizer  = Tokenizer(split=' ')  \n",
        "    tokenizer .fit_on_texts(sentence)               # 50000개의 행을 가진 eng의 각 행에 토큰화를 수행\n",
        "    sentence = tokenizer.texts_to_sequences(sentence) \n",
        "    return sentence"
      ],
      "metadata": {
        "id": "aTzzr99HD4ZV"
      },
      "execution_count": null,
      "outputs": []
    },
    {
      "cell_type": "code",
      "source": [
        ""
      ],
      "metadata": {
        "id": "Qr1pIOe2ED80"
      },
      "execution_count": null,
      "outputs": []
    }
  ]
}