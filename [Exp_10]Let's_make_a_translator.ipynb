{
  "nbformat": 4,
  "nbformat_minor": 0,
  "metadata": {
    "colab": {
      "name": "[Exp_10]Let's make a translator.ipynb",
      "provenance": [],
      "machine_shape": "hm",
      "collapsed_sections": [],
      "mount_file_id": "1mtGZgcWe70hKUvac6b1ckhNaC5500waF",
      "authorship_tag": "ABX9TyNrGpjyRvpcqeY9apIeuzT/",
      "include_colab_link": true
    },
    "kernelspec": {
      "name": "python3",
      "display_name": "Python 3"
    },
    "language_info": {
      "name": "python"
    },
    "accelerator": "GPU",
    "gpuClass": "standard"
  },
  "cells": [
    {
      "cell_type": "markdown",
      "metadata": {
        "id": "view-in-github",
        "colab_type": "text"
      },
      "source": [
        "<a href=\"https://colab.research.google.com/github/jx-dohwan/Aiffel_EGLMS_Project/blob/main/%5BExp_10%5DLet's_make_a_translator.ipynb\" target=\"_parent\"><img src=\"https://colab.research.google.com/assets/colab-badge.svg\" alt=\"Open In Colab\"/></a>"
      ]
    },
    {
      "cell_type": "markdown",
      "source": [
        "# [Exp_10]Let's make a translator"
      ],
      "metadata": {
        "id": "0OfSZdM4Mrza"
      }
    },
    {
      "cell_type": "markdown",
      "source": [
        "## 1.import 및 데이터로드"
      ],
      "metadata": {
        "id": "DXiImQPJNCbN"
      }
    },
    {
      "cell_type": "markdown",
      "source": [
        "### 1) Import"
      ],
      "metadata": {
        "id": "x9Dga069Ob7g"
      }
    },
    {
      "cell_type": "code",
      "execution_count": 1,
      "metadata": {
        "id": "kINFmb9NMkl3"
      },
      "outputs": [],
      "source": [
        "import pandas as pd\n",
        "from tensorflow.keras.preprocessing.text import Tokenizer\n",
        "from tensorflow.keras.preprocessing.sequence import pad_sequences\n",
        "from tensorflow.keras.utils import to_categorical\n",
        "import numpy as np\n",
        "from tensorflow.keras.layers import Input, LSTM, Embedding, Dense\n",
        "from tensorflow.keras.models import Sequential\n",
        "from tensorflow.keras.models import Model\n",
        "import tensorflow as tf"
      ]
    },
    {
      "cell_type": "markdown",
      "source": [
        "### 2) 데이터로드"
      ],
      "metadata": {
        "id": "euHg1pV6OdvM"
      }
    },
    {
      "cell_type": "code",
      "source": [
        "file_path = \"/content/drive/MyDrive/인공지능/아이펠/ES/data/translator_seq2seq/fra.txt\"\n",
        "lines = pd.read_csv(file_path, names=['eng', 'fra', 'cc'], sep='\\t')\n",
        "print('전체 샘플수:',len(lines))\n",
        "lines.sample(5)"
      ],
      "metadata": {
        "colab": {
          "base_uri": "https://localhost:8080/",
          "height": 355
        },
        "id": "EXGCZVPZNVzq",
        "outputId": "da69eaf8-68d9-4f94-8d45-429dd01f6fe6"
      },
      "execution_count": 2,
      "outputs": [
        {
          "output_type": "stream",
          "name": "stdout",
          "text": [
            "전체 샘플수: 194513\n"
          ]
        },
        {
          "output_type": "execute_result",
          "data": {
            "text/plain": [
              "                                        eng  \\\n",
              "4400                          Are you deaf?   \n",
              "79195            I was expecting the worst.   \n",
              "140452  Please take a look at this picture.   \n",
              "81476            The hunter caught the fox.   \n",
              "82451            Tom will be there tonight.   \n",
              "\n",
              "                                          fra  \\\n",
              "4400                        Êtes-vous sourd ?   \n",
              "79195                 Je m'attendais au pire.   \n",
              "140452  Regardez cette image s'il vous plaît.   \n",
              "81476             Le chasseur prit le renard.   \n",
              "82451                    Tom sera là ce soir.   \n",
              "\n",
              "                                                       cc  \n",
              "4400    CC-BY 2.0 (France) Attribution: tatoeba.org #1...  \n",
              "79195   CC-BY 2.0 (France) Attribution: tatoeba.org #3...  \n",
              "140452  CC-BY 2.0 (France) Attribution: tatoeba.org #5...  \n",
              "81476   CC-BY 2.0 (France) Attribution: tatoeba.org #7...  \n",
              "82451   CC-BY 2.0 (France) Attribution: tatoeba.org #7...  "
            ],
            "text/html": [
              "\n",
              "  <div id=\"df-ba99a5c0-3335-476a-a51e-b82ec6a389e4\">\n",
              "    <div class=\"colab-df-container\">\n",
              "      <div>\n",
              "<style scoped>\n",
              "    .dataframe tbody tr th:only-of-type {\n",
              "        vertical-align: middle;\n",
              "    }\n",
              "\n",
              "    .dataframe tbody tr th {\n",
              "        vertical-align: top;\n",
              "    }\n",
              "\n",
              "    .dataframe thead th {\n",
              "        text-align: right;\n",
              "    }\n",
              "</style>\n",
              "<table border=\"1\" class=\"dataframe\">\n",
              "  <thead>\n",
              "    <tr style=\"text-align: right;\">\n",
              "      <th></th>\n",
              "      <th>eng</th>\n",
              "      <th>fra</th>\n",
              "      <th>cc</th>\n",
              "    </tr>\n",
              "  </thead>\n",
              "  <tbody>\n",
              "    <tr>\n",
              "      <th>4400</th>\n",
              "      <td>Are you deaf?</td>\n",
              "      <td>Êtes-vous sourd ?</td>\n",
              "      <td>CC-BY 2.0 (France) Attribution: tatoeba.org #1...</td>\n",
              "    </tr>\n",
              "    <tr>\n",
              "      <th>79195</th>\n",
              "      <td>I was expecting the worst.</td>\n",
              "      <td>Je m'attendais au pire.</td>\n",
              "      <td>CC-BY 2.0 (France) Attribution: tatoeba.org #3...</td>\n",
              "    </tr>\n",
              "    <tr>\n",
              "      <th>140452</th>\n",
              "      <td>Please take a look at this picture.</td>\n",
              "      <td>Regardez cette image s'il vous plaît.</td>\n",
              "      <td>CC-BY 2.0 (France) Attribution: tatoeba.org #5...</td>\n",
              "    </tr>\n",
              "    <tr>\n",
              "      <th>81476</th>\n",
              "      <td>The hunter caught the fox.</td>\n",
              "      <td>Le chasseur prit le renard.</td>\n",
              "      <td>CC-BY 2.0 (France) Attribution: tatoeba.org #7...</td>\n",
              "    </tr>\n",
              "    <tr>\n",
              "      <th>82451</th>\n",
              "      <td>Tom will be there tonight.</td>\n",
              "      <td>Tom sera là ce soir.</td>\n",
              "      <td>CC-BY 2.0 (France) Attribution: tatoeba.org #7...</td>\n",
              "    </tr>\n",
              "  </tbody>\n",
              "</table>\n",
              "</div>\n",
              "      <button class=\"colab-df-convert\" onclick=\"convertToInteractive('df-ba99a5c0-3335-476a-a51e-b82ec6a389e4')\"\n",
              "              title=\"Convert this dataframe to an interactive table.\"\n",
              "              style=\"display:none;\">\n",
              "        \n",
              "  <svg xmlns=\"http://www.w3.org/2000/svg\" height=\"24px\"viewBox=\"0 0 24 24\"\n",
              "       width=\"24px\">\n",
              "    <path d=\"M0 0h24v24H0V0z\" fill=\"none\"/>\n",
              "    <path d=\"M18.56 5.44l.94 2.06.94-2.06 2.06-.94-2.06-.94-.94-2.06-.94 2.06-2.06.94zm-11 1L8.5 8.5l.94-2.06 2.06-.94-2.06-.94L8.5 2.5l-.94 2.06-2.06.94zm10 10l.94 2.06.94-2.06 2.06-.94-2.06-.94-.94-2.06-.94 2.06-2.06.94z\"/><path d=\"M17.41 7.96l-1.37-1.37c-.4-.4-.92-.59-1.43-.59-.52 0-1.04.2-1.43.59L10.3 9.45l-7.72 7.72c-.78.78-.78 2.05 0 2.83L4 21.41c.39.39.9.59 1.41.59.51 0 1.02-.2 1.41-.59l7.78-7.78 2.81-2.81c.8-.78.8-2.07 0-2.86zM5.41 20L4 18.59l7.72-7.72 1.47 1.35L5.41 20z\"/>\n",
              "  </svg>\n",
              "      </button>\n",
              "      \n",
              "  <style>\n",
              "    .colab-df-container {\n",
              "      display:flex;\n",
              "      flex-wrap:wrap;\n",
              "      gap: 12px;\n",
              "    }\n",
              "\n",
              "    .colab-df-convert {\n",
              "      background-color: #E8F0FE;\n",
              "      border: none;\n",
              "      border-radius: 50%;\n",
              "      cursor: pointer;\n",
              "      display: none;\n",
              "      fill: #1967D2;\n",
              "      height: 32px;\n",
              "      padding: 0 0 0 0;\n",
              "      width: 32px;\n",
              "    }\n",
              "\n",
              "    .colab-df-convert:hover {\n",
              "      background-color: #E2EBFA;\n",
              "      box-shadow: 0px 1px 2px rgba(60, 64, 67, 0.3), 0px 1px 3px 1px rgba(60, 64, 67, 0.15);\n",
              "      fill: #174EA6;\n",
              "    }\n",
              "\n",
              "    [theme=dark] .colab-df-convert {\n",
              "      background-color: #3B4455;\n",
              "      fill: #D2E3FC;\n",
              "    }\n",
              "\n",
              "    [theme=dark] .colab-df-convert:hover {\n",
              "      background-color: #434B5C;\n",
              "      box-shadow: 0px 1px 3px 1px rgba(0, 0, 0, 0.15);\n",
              "      filter: drop-shadow(0px 1px 2px rgba(0, 0, 0, 0.3));\n",
              "      fill: #FFFFFF;\n",
              "    }\n",
              "  </style>\n",
              "\n",
              "      <script>\n",
              "        const buttonEl =\n",
              "          document.querySelector('#df-ba99a5c0-3335-476a-a51e-b82ec6a389e4 button.colab-df-convert');\n",
              "        buttonEl.style.display =\n",
              "          google.colab.kernel.accessAllowed ? 'block' : 'none';\n",
              "\n",
              "        async function convertToInteractive(key) {\n",
              "          const element = document.querySelector('#df-ba99a5c0-3335-476a-a51e-b82ec6a389e4');\n",
              "          const dataTable =\n",
              "            await google.colab.kernel.invokeFunction('convertToInteractive',\n",
              "                                                     [key], {});\n",
              "          if (!dataTable) return;\n",
              "\n",
              "          const docLinkHtml = 'Like what you see? Visit the ' +\n",
              "            '<a target=\"_blank\" href=https://colab.research.google.com/notebooks/data_table.ipynb>data table notebook</a>'\n",
              "            + ' to learn more about interactive tables.';\n",
              "          element.innerHTML = '';\n",
              "          dataTable['output_type'] = 'display_data';\n",
              "          await google.colab.output.renderOutput(dataTable, element);\n",
              "          const docLink = document.createElement('div');\n",
              "          docLink.innerHTML = docLinkHtml;\n",
              "          element.appendChild(docLink);\n",
              "        }\n",
              "      </script>\n",
              "    </div>\n",
              "  </div>\n",
              "  "
            ]
          },
          "metadata": {},
          "execution_count": 2
        }
      ]
    },
    {
      "cell_type": "markdown",
      "source": [
        "\n",
        "데이터에서 상위 33,000개의 샘플만 사용해주세요.\n",
        "\n",
        "33000개 중 3000개는 테스트 데이터로 분리하여 모델을 학습한 후에 번역을 테스트 하는 용도로 사용합니다"
      ],
      "metadata": {
        "id": "yVsuelXtOQH4"
      }
    },
    {
      "cell_type": "code",
      "source": [
        "lines = lines[['eng', 'fra']][:33000]\n",
        "lines.sample(5)"
      ],
      "metadata": {
        "colab": {
          "base_uri": "https://localhost:8080/",
          "height": 206
        },
        "id": "QqlgcnlMN_jT",
        "outputId": "cbe35ba7-1e30-4ae0-d154-f89e2992db31"
      },
      "execution_count": 3,
      "outputs": [
        {
          "output_type": "execute_result",
          "data": {
            "text/plain": [
              "                      eng                          fra\n",
              "392              Show me.                 Montre-moi !\n",
              "21555   What a cute girl!         Quelle jolie fille !\n",
              "22781  Does Tom know you?  Est-ce que Tom te connaît ?\n",
              "22866  Enjoy your flight.                    Bon vol !\n",
              "21177   Tom won the game.       Tom a gagné la partie."
            ],
            "text/html": [
              "\n",
              "  <div id=\"df-c3254763-3249-4000-a72f-f0253b86ccc5\">\n",
              "    <div class=\"colab-df-container\">\n",
              "      <div>\n",
              "<style scoped>\n",
              "    .dataframe tbody tr th:only-of-type {\n",
              "        vertical-align: middle;\n",
              "    }\n",
              "\n",
              "    .dataframe tbody tr th {\n",
              "        vertical-align: top;\n",
              "    }\n",
              "\n",
              "    .dataframe thead th {\n",
              "        text-align: right;\n",
              "    }\n",
              "</style>\n",
              "<table border=\"1\" class=\"dataframe\">\n",
              "  <thead>\n",
              "    <tr style=\"text-align: right;\">\n",
              "      <th></th>\n",
              "      <th>eng</th>\n",
              "      <th>fra</th>\n",
              "    </tr>\n",
              "  </thead>\n",
              "  <tbody>\n",
              "    <tr>\n",
              "      <th>392</th>\n",
              "      <td>Show me.</td>\n",
              "      <td>Montre-moi !</td>\n",
              "    </tr>\n",
              "    <tr>\n",
              "      <th>21555</th>\n",
              "      <td>What a cute girl!</td>\n",
              "      <td>Quelle jolie fille !</td>\n",
              "    </tr>\n",
              "    <tr>\n",
              "      <th>22781</th>\n",
              "      <td>Does Tom know you?</td>\n",
              "      <td>Est-ce que Tom te connaît ?</td>\n",
              "    </tr>\n",
              "    <tr>\n",
              "      <th>22866</th>\n",
              "      <td>Enjoy your flight.</td>\n",
              "      <td>Bon vol !</td>\n",
              "    </tr>\n",
              "    <tr>\n",
              "      <th>21177</th>\n",
              "      <td>Tom won the game.</td>\n",
              "      <td>Tom a gagné la partie.</td>\n",
              "    </tr>\n",
              "  </tbody>\n",
              "</table>\n",
              "</div>\n",
              "      <button class=\"colab-df-convert\" onclick=\"convertToInteractive('df-c3254763-3249-4000-a72f-f0253b86ccc5')\"\n",
              "              title=\"Convert this dataframe to an interactive table.\"\n",
              "              style=\"display:none;\">\n",
              "        \n",
              "  <svg xmlns=\"http://www.w3.org/2000/svg\" height=\"24px\"viewBox=\"0 0 24 24\"\n",
              "       width=\"24px\">\n",
              "    <path d=\"M0 0h24v24H0V0z\" fill=\"none\"/>\n",
              "    <path d=\"M18.56 5.44l.94 2.06.94-2.06 2.06-.94-2.06-.94-.94-2.06-.94 2.06-2.06.94zm-11 1L8.5 8.5l.94-2.06 2.06-.94-2.06-.94L8.5 2.5l-.94 2.06-2.06.94zm10 10l.94 2.06.94-2.06 2.06-.94-2.06-.94-.94-2.06-.94 2.06-2.06.94z\"/><path d=\"M17.41 7.96l-1.37-1.37c-.4-.4-.92-.59-1.43-.59-.52 0-1.04.2-1.43.59L10.3 9.45l-7.72 7.72c-.78.78-.78 2.05 0 2.83L4 21.41c.39.39.9.59 1.41.59.51 0 1.02-.2 1.41-.59l7.78-7.78 2.81-2.81c.8-.78.8-2.07 0-2.86zM5.41 20L4 18.59l7.72-7.72 1.47 1.35L5.41 20z\"/>\n",
              "  </svg>\n",
              "      </button>\n",
              "      \n",
              "  <style>\n",
              "    .colab-df-container {\n",
              "      display:flex;\n",
              "      flex-wrap:wrap;\n",
              "      gap: 12px;\n",
              "    }\n",
              "\n",
              "    .colab-df-convert {\n",
              "      background-color: #E8F0FE;\n",
              "      border: none;\n",
              "      border-radius: 50%;\n",
              "      cursor: pointer;\n",
              "      display: none;\n",
              "      fill: #1967D2;\n",
              "      height: 32px;\n",
              "      padding: 0 0 0 0;\n",
              "      width: 32px;\n",
              "    }\n",
              "\n",
              "    .colab-df-convert:hover {\n",
              "      background-color: #E2EBFA;\n",
              "      box-shadow: 0px 1px 2px rgba(60, 64, 67, 0.3), 0px 1px 3px 1px rgba(60, 64, 67, 0.15);\n",
              "      fill: #174EA6;\n",
              "    }\n",
              "\n",
              "    [theme=dark] .colab-df-convert {\n",
              "      background-color: #3B4455;\n",
              "      fill: #D2E3FC;\n",
              "    }\n",
              "\n",
              "    [theme=dark] .colab-df-convert:hover {\n",
              "      background-color: #434B5C;\n",
              "      box-shadow: 0px 1px 3px 1px rgba(0, 0, 0, 0.15);\n",
              "      filter: drop-shadow(0px 1px 2px rgba(0, 0, 0, 0.3));\n",
              "      fill: #FFFFFF;\n",
              "    }\n",
              "  </style>\n",
              "\n",
              "      <script>\n",
              "        const buttonEl =\n",
              "          document.querySelector('#df-c3254763-3249-4000-a72f-f0253b86ccc5 button.colab-df-convert');\n",
              "        buttonEl.style.display =\n",
              "          google.colab.kernel.accessAllowed ? 'block' : 'none';\n",
              "\n",
              "        async function convertToInteractive(key) {\n",
              "          const element = document.querySelector('#df-c3254763-3249-4000-a72f-f0253b86ccc5');\n",
              "          const dataTable =\n",
              "            await google.colab.kernel.invokeFunction('convertToInteractive',\n",
              "                                                     [key], {});\n",
              "          if (!dataTable) return;\n",
              "\n",
              "          const docLinkHtml = 'Like what you see? Visit the ' +\n",
              "            '<a target=\"_blank\" href=https://colab.research.google.com/notebooks/data_table.ipynb>data table notebook</a>'\n",
              "            + ' to learn more about interactive tables.';\n",
              "          element.innerHTML = '';\n",
              "          dataTable['output_type'] = 'display_data';\n",
              "          await google.colab.output.renderOutput(dataTable, element);\n",
              "          const docLink = document.createElement('div');\n",
              "          docLink.innerHTML = docLinkHtml;\n",
              "          element.appendChild(docLink);\n",
              "        }\n",
              "      </script>\n",
              "    </div>\n",
              "  </div>\n",
              "  "
            ]
          },
          "metadata": {},
          "execution_count": 3
        }
      ]
    },
    {
      "cell_type": "markdown",
      "source": [
        "## 2. 데이터 전처리 작업\n"
      ],
      "metadata": {
        "id": "X4mKUfz_Osfj"
      }
    },
    {
      "cell_type": "markdown",
      "source": [
        "### 1)  정제, 정규화 & 케라스의 토크나이저로 텍스트를 숫자로 & 디코더 문장에 시작 토큰과 종료 토큰 입력\n",
        "\n",
        "- 구두점(Punctuation)을 단어와 분리\n",
        "- 소문자로 change\n",
        "- 띄어쓰기 단위로 토큰을 수행\n",
        "  - (토크나이저에 옵션을 줌으로 텍스트 숫자로 변환과 동시진행 가능)\n",
        "  - (디코더 문장의 경우 토크나이저 직전에 시작 토큰과 종료 토큰 입력 가능)"
      ],
      "metadata": {
        "id": "8b3ZE6JSQb6Q"
      }
    },
    {
      "cell_type": "markdown",
      "source": [
        "- 참고 자료\n",
        "  - https://soraji.github.io/python/2019/07/21/rex/\n",
        "  - https://www.tensorflow.org/api_docs/python/tf/keras/preprocessing/text/Tokenizer"
      ],
      "metadata": {
        "id": "2SrJvT8ZytQk"
      }
    },
    {
      "cell_type": "code",
      "source": [
        "def preprocess_sentence(sentence):\n",
        "  sentence = sentence.str.lower()\n",
        "  sentence = sentence.str.replace(pat=r'([?.!,¿])', repl =r\" \\1 \")\n",
        "  sentence = sentence.str.replace(pat=r'[\" \"]+', repl =\" \")\n",
        "  sentence = sentence.str.replace(pat=r\"[^a-zA-Z?.!,¿]+\", repl =\" \")\n",
        "  sentence = sentence.str.strip() \n",
        "\n",
        "  return sentence"
      ],
      "metadata": {
        "id": "di4ug8NdXPp4"
      },
      "execution_count": 4,
      "outputs": []
    },
    {
      "cell_type": "code",
      "source": [
        "input_text = preprocess_sentence(lines.eng)\n",
        "eng_tokenizer = Tokenizer(split=' ', filters=\"\")   # 문자 단위로 Tokenizer를 생성합니다. \n",
        "eng_tokenizer.fit_on_texts(input_text)               # 50000개의 행을 가진 eng의 각 행에 토큰화를 수행\n",
        "input_text = eng_tokenizer.texts_to_sequences(input_text)    # 단어를 숫자값 인덱스로 변환하여 저장\n",
        "input_text[:3]"
      ],
      "metadata": {
        "colab": {
          "base_uri": "https://localhost:8080/"
        },
        "id": "Vqf6IlvAXbW4",
        "outputId": "6c066954-6f68-4984-b8a4-20276ab83a0a"
      },
      "execution_count": 5,
      "outputs": [
        {
          "output_type": "stream",
          "name": "stderr",
          "text": [
            "/usr/local/lib/python3.7/dist-packages/ipykernel_launcher.py:3: FutureWarning: The default value of regex will change from True to False in a future version.\n",
            "  This is separate from the ipykernel package so we can avoid doing imports until\n",
            "/usr/local/lib/python3.7/dist-packages/ipykernel_launcher.py:4: FutureWarning: The default value of regex will change from True to False in a future version.\n",
            "  after removing the cwd from sys.path.\n",
            "/usr/local/lib/python3.7/dist-packages/ipykernel_launcher.py:5: FutureWarning: The default value of regex will change from True to False in a future version.\n",
            "  \"\"\"\n"
          ]
        },
        {
          "output_type": "execute_result",
          "data": {
            "text/plain": [
              "[[29, 1], [29, 1], [29, 1]]"
            ]
          },
          "metadata": {},
          "execution_count": 5
        }
      ]
    },
    {
      "cell_type": "code",
      "source": [
        "target_text = preprocess_sentence(lines.fra)\n",
        "\n",
        "# 디코더에 시작 토큰과 종료토큰 추가\n",
        "sos_token = '\\t'\n",
        "eos_token = '\\n'\n",
        "target_text= target_text.apply(lambda x : '\\t '+ x + ' \\n')\n",
        "print(target_text)\n",
        "\n",
        "fra_tokenizer = Tokenizer(split=' ', filters=\"\")   # 문자 단위로 Tokenizer를 생성|합니다. \n",
        "fra_tokenizer.fit_on_texts(target_text)               # 50000개의 행을 가진 eng의 각 행에 토큰화를 수행\n",
        "target_text = fra_tokenizer.texts_to_sequences(target_text)    # 단어를 숫자값 인덱스로 변환하여 저장\n",
        "target_text[:3]"
      ],
      "metadata": {
        "id": "kkL1uqC4Y2Dr",
        "outputId": "c030f772-d112-4001-c866-23d109a6e3e2",
        "colab": {
          "base_uri": "https://localhost:8080/"
        }
      },
      "execution_count": 6,
      "outputs": [
        {
          "output_type": "stream",
          "name": "stderr",
          "text": [
            "/usr/local/lib/python3.7/dist-packages/ipykernel_launcher.py:3: FutureWarning: The default value of regex will change from True to False in a future version.\n",
            "  This is separate from the ipykernel package so we can avoid doing imports until\n",
            "/usr/local/lib/python3.7/dist-packages/ipykernel_launcher.py:4: FutureWarning: The default value of regex will change from True to False in a future version.\n",
            "  after removing the cwd from sys.path.\n",
            "/usr/local/lib/python3.7/dist-packages/ipykernel_launcher.py:5: FutureWarning: The default value of regex will change from True to False in a future version.\n",
            "  \"\"\"\n"
          ]
        },
        {
          "output_type": "stream",
          "name": "stdout",
          "text": [
            "0                              \\t va ! \\n\n",
            "1                          \\t marche . \\n\n",
            "2                           \\t bouge ! \\n\n",
            "3                           \\t salut ! \\n\n",
            "4                           \\t salut . \\n\n",
            "                       ...               \n",
            "32995     \\t qu est ce que tom a vol ? \\n\n",
            "32996    \\t qu est ce que tom a crit ? \\n\n",
            "32997           \\t que voulaient ils ? \\n\n",
            "32998         \\t que voulaient elles ? \\n\n",
            "32999                 \\t qu as tu bu ? \\n\n",
            "Name: fra, Length: 33000, dtype: object\n"
          ]
        },
        {
          "output_type": "execute_result",
          "data": {
            "text/plain": [
              "[[1, 76, 8, 2], [1, 379, 3, 2], [1, 719, 8, 2]]"
            ]
          },
          "metadata": {},
          "execution_count": 6
        }
      ]
    },
    {
      "cell_type": "markdown",
      "source": [
        "- 토크나이저를 할때 계속 불용어가 제거되고 토크나이저를 진행됨\n",
        "  - 공식문서를 확인해본 결과 filters에 자동으로 불용어가 제거되도록 되어 있음\n",
        "  - 그래서 filters=\"\"를 하여 아무것도 제거하지 않도록 지정하였음"
      ],
      "metadata": {
        "id": "O2qAZKSTKNrE"
      }
    },
    {
      "cell_type": "markdown",
      "source": [
        "### 2) 임베딩층 구현을 위한 전처리"
      ],
      "metadata": {
        "id": "O3mo5Q3YKvgx"
      }
    },
    {
      "cell_type": "markdown",
      "source": [
        "#### (1) vocab_size 구하기"
      ],
      "metadata": {
        "id": "yjIcbxE1JLZg"
      }
    },
    {
      "cell_type": "code",
      "source": [
        "eng_vocab_size = len(eng_tokenizer.word_index) + 1\n",
        "fra_vocab_size = len(fra_tokenizer.word_index) + 1\n",
        "print('영어 단어장의 크기 :', eng_vocab_size)\n",
        "print('프랑스어 단어장의 크기 :', fra_vocab_size)"
      ],
      "metadata": {
        "colab": {
          "base_uri": "https://localhost:8080/"
        },
        "id": "t-OxfGoCIwTE",
        "outputId": "a10a177f-31fa-4705-a03f-9243423f2d05"
      },
      "execution_count": 7,
      "outputs": [
        {
          "output_type": "stream",
          "name": "stdout",
          "text": [
            "영어 단어장의 크기 : 4672\n",
            "프랑스어 단어장의 크기 : 7461\n"
          ]
        }
      ]
    },
    {
      "cell_type": "markdown",
      "source": [
        "#### (2) maxlen 구하기"
      ],
      "metadata": {
        "id": "qxYbrDPAJVoj"
      }
    },
    {
      "cell_type": "code",
      "source": [
        "max_eng_seq_len = max([len(line) for line in input_text])\n",
        "max_fra_seq_len = max([len(line) for line in target_text])\n",
        "print('영어 시퀀스의 최대 길이', max_eng_seq_len)\n",
        "print('프랑스어 시퀀스의 최대 길이', max_fra_seq_len)"
      ],
      "metadata": {
        "colab": {
          "base_uri": "https://localhost:8080/"
        },
        "id": "F5P6enEaJPrx",
        "outputId": "fcb7baba-7b37-45c1-d379-16074623620a"
      },
      "execution_count": 8,
      "outputs": [
        {
          "output_type": "stream",
          "name": "stdout",
          "text": [
            "영어 시퀀스의 최대 길이 8\n",
            "프랑스어 시퀀스의 최대 길이 17\n"
          ]
        }
      ]
    },
    {
      "cell_type": "markdown",
      "source": [
        "#### (3) 교사강요 위한 전처리\n",
        "- 디코더의 출력과 비교해야 할 정답 데이터로 사용해야 할 원래 목적에 따른 것입니다. \n",
        "  - < sos >가 필요 없음\n",
        "- 이전 스텝에서 언급했던 교사 강요(Teacher forcing)을 위해 디코더의 입력으로 사용하기 위한 것\n",
        "  - < eos >토큰이 필요 없음"
      ],
      "metadata": {
        "id": "8ja2IdauNWAX"
      }
    },
    {
      "cell_type": "code",
      "source": [
        "# input encoder 지정\n",
        "encoder_input = input_text\n",
        "\n",
        "# 종료 토큰 제거\n",
        "decoder_input = [[ char for char in line if char != fra_tokenizer.word_index[eos_token] ] for line in target_text] \n",
        "\n",
        "# 시작 토큰 제거\n",
        "decoder_target = [[ char for char in line if char != fra_tokenizer.word_index[sos_token] ] for line in target_text]"
      ],
      "metadata": {
        "id": "SrMC44pOOBfi"
      },
      "execution_count": 9,
      "outputs": []
    },
    {
      "cell_type": "code",
      "source": [
        "print(decoder_input[:3])\n",
        "print(decoder_target[:3])"
      ],
      "metadata": {
        "colab": {
          "base_uri": "https://localhost:8080/"
        },
        "id": "nUQfwF5ePKKj",
        "outputId": "f35a20ff-f1cb-4a31-b598-1f166ce35a81"
      },
      "execution_count": 10,
      "outputs": [
        {
          "output_type": "stream",
          "name": "stdout",
          "text": [
            "[[1, 76, 8], [1, 379, 3], [1, 719, 8]]\n",
            "[[76, 8, 2], [379, 3, 2], [719, 8, 2]]\n"
          ]
        }
      ]
    },
    {
      "cell_type": "markdown",
      "source": [
        "#### (4) 패딩"
      ],
      "metadata": {
        "id": "gKZERYRxPizN"
      }
    },
    {
      "cell_type": "code",
      "source": [
        "encoder_input = pad_sequences(encoder_input, maxlen = max_eng_seq_len, padding='post')\n",
        "decoder_input = pad_sequences(decoder_input, maxlen = max_fra_seq_len, padding='post')\n",
        "decoder_target = pad_sequences(decoder_target, maxlen = max_fra_seq_len, padding='post')\n",
        "print('영어 데이터의 크기(shape) :',np.shape(encoder_input))\n",
        "print('프랑스어 입력데이터의 크기(shape) :',np.shape(decoder_input))\n",
        "print('프랑스어 출력데이터의 크기(shape) :',np.shape(decoder_target))"
      ],
      "metadata": {
        "colab": {
          "base_uri": "https://localhost:8080/"
        },
        "id": "irW-phGgQt0-",
        "outputId": "8be7f489-b100-42fa-9868-550cd0cc3837"
      },
      "execution_count": 11,
      "outputs": [
        {
          "output_type": "stream",
          "name": "stdout",
          "text": [
            "영어 데이터의 크기(shape) : (33000, 8)\n",
            "프랑스어 입력데이터의 크기(shape) : (33000, 17)\n",
            "프랑스어 출력데이터의 크기(shape) : (33000, 17)\n"
          ]
        }
      ]
    },
    {
      "cell_type": "code",
      "source": [
        "print(encoder_input[0])\n",
        "print(decoder_input[0])\n",
        "print(decoder_target[0])"
      ],
      "metadata": {
        "colab": {
          "base_uri": "https://localhost:8080/"
        },
        "id": "U_GHAmAOQ0I5",
        "outputId": "092604c9-10a6-4360-94a5-949a5e414ae3"
      },
      "execution_count": 12,
      "outputs": [
        {
          "output_type": "stream",
          "name": "stdout",
          "text": [
            "[29  1  0  0  0  0  0  0]\n",
            "[ 1 76  8  0  0  0  0  0  0  0  0  0  0  0  0  0  0]\n",
            "[76  8  2  0  0  0  0  0  0  0  0  0  0  0  0  0  0]\n"
          ]
        }
      ]
    },
    {
      "cell_type": "markdown",
      "source": [
        "#### (5) 원-핫 인코딩\n",
        "-  각 정수에 대해서 벡터화 방법으로 원-핫 인코딩을 선택\n",
        "-  데이터의 크기는 (샘플의 수 × 샘플의 길이 × 단어장의 크기)가 된다.\n",
        "-  원-핫 인코딩은 각 정수를 단어장의 크기를 가지는 원-핫 벡터로 인코딩하는 과정\n",
        "> 단어사전이 너무 커서 세션이 종료됨"
      ],
      "metadata": {
        "id": "q80EGonPRTMt"
      }
    },
    {
      "cell_type": "code",
      "source": [
        "# encoder_input = to_categorical(encoder_input)\n",
        "# decoder_input = to_categorical(decoder_input)\n",
        "# decoder_target = to_categorical(decoder_target)\n",
        "# print('영어 데이터의 크기(shape) :',np.shape(encoder_input))\n",
        "# print('프랑스어 입력데이터의 크기(shape) :',np.shape(decoder_input))\n",
        "# print('프랑스어 출력데이터의 크기(shape) :',np.shape(decoder_target))"
      ],
      "metadata": {
        "id": "aW_3ROyhRwuS"
      },
      "execution_count": 13,
      "outputs": []
    },
    {
      "cell_type": "markdown",
      "source": [
        "#### (6) 학습데이터 검증 데이터 분리"
      ],
      "metadata": {
        "id": "5vVKbi6WRyYm"
      }
    },
    {
      "cell_type": "code",
      "source": [
        "n_of_val = 3000\n",
        "\n",
        "encoder_input_train = encoder_input[:-n_of_val]\n",
        "decoder_input_train = decoder_input[:-n_of_val]\n",
        "decoder_target_train = decoder_target[:-n_of_val]\n",
        "\n",
        "encoder_input_test = encoder_input[-n_of_val:]\n",
        "decoder_input_test = decoder_input[-n_of_val:]\n",
        "decoder_target_test = decoder_target[-n_of_val:]\n",
        "\n",
        "print('영어 학습데이터의 크기(shape) :',np.shape(encoder_input_train))\n",
        "print('프랑스어 학습 입력데이터의 크기(shape) :',np.shape(decoder_input_train))\n",
        "print('프랑스어 학습 출력데이터의 크기(shape) :',np.shape(decoder_target_train))"
      ],
      "metadata": {
        "colab": {
          "base_uri": "https://localhost:8080/"
        },
        "id": "WtuI6zOfSB9d",
        "outputId": "e8057568-12ba-4fc9-8f8a-2f13e8d016dc"
      },
      "execution_count": 14,
      "outputs": [
        {
          "output_type": "stream",
          "name": "stdout",
          "text": [
            "영어 학습데이터의 크기(shape) : (30000, 8)\n",
            "프랑스어 학습 입력데이터의 크기(shape) : (30000, 17)\n",
            "프랑스어 학습 출력데이터의 크기(shape) : (30000, 17)\n"
          ]
        }
      ]
    },
    {
      "cell_type": "markdown",
      "source": [
        "## 5. 임베딩 층(Embedding layer) 사용하기\n",
        "- https://wikidocs.net/33793\n",
        "- 주의할 점 : 인코더와 디코더의 임베딩 층은 서로 다른 임베딩 층을 사용해야 하지만 디코더의 훈련 과정과 테스트 과정에서의 임베딩층은 동일해야 한다."
      ],
      "metadata": {
        "id": "WHbud-WEPMnp"
      }
    },
    {
      "cell_type": "code",
      "source": [
        "from tensorflow.keras.layers import Input, LSTM, Embedding, Dense, Masking\n",
        "from tensorflow.keras.models import Model"
      ],
      "metadata": {
        "id": "JwlOWDbDneSS"
      },
      "execution_count": 15,
      "outputs": []
    },
    {
      "cell_type": "code",
      "source": [
        "embedding_dim = 64\n",
        "hidden_units = 256"
      ],
      "metadata": {
        "id": "wV7bRfbrnfB7"
      },
      "execution_count": 16,
      "outputs": []
    },
    {
      "cell_type": "code",
      "source": [
        "# 인코더\n",
        "# 입력 텐서 생성.\n",
        "encoder_inputs = Input(shape=(None,))\n",
        "\n",
        "# 임베딩 레이어 사용\n",
        "encoder_embedding = Embedding(eng_vocab_size, embedding_dim)(encoder_inputs) \n",
        "\n",
        "# 패딩 0 제외\n",
        "encoder_embedding_masking = Masking(mask_value=0.0)(encoder_embedding) \n",
        "\n",
        "# hidden size가 256인 인코더의 LSTM 셀 생성\n",
        "encoder_lstm = LSTM(hidden_units, return_state=True) \n",
        "\n",
        "# 디코더로 전달할 hidden state, cell state를 리턴. encoder_outputs은 여기서는 불필요.\n",
        "encoder_outputs, state_h, state_c = encoder_lstm(encoder_embedding_masking) \n",
        "\n",
        "# hidden state와 cell state를 다음 time step으로 전달하기 위해서 별도 저장.\n",
        "encoder_states = [state_h, state_c] "
      ],
      "metadata": {
        "id": "aR43dnB1nhzI"
      },
      "execution_count": 17,
      "outputs": []
    },
    {
      "cell_type": "code",
      "source": [
        "# 디코더\n",
        "# 입력 텐서 생성.\n",
        "decoder_inputs = Input(shape=(None,))\n",
        "\n",
        "# 임베딩 레이어 사용\n",
        "decoder_embedding = Embedding(fra_vocab_size, hidden_units)(decoder_inputs) \n",
        "\n",
        "# 패딩 0 제외\n",
        "decoder_masking = Masking(mask_value=0.0)(decoder_embedding)\n",
        "\n",
        "# hidden size가 256인 인코더의 LSTM 셀 생성\n",
        "decoder_lstm = LSTM(hidden_units, return_sequences=True, return_state=True) \n",
        "\n",
        "# decoder_outputs는 모든 time step의 hidden state\n",
        "decoder_outputs, _, _ = decoder_lstm(decoder_masking, initial_state=encoder_states)"
      ],
      "metadata": {
        "id": "FSIJ-WkSnvxf"
      },
      "execution_count": 18,
      "outputs": []
    },
    {
      "cell_type": "code",
      "source": [
        "# 모든 시점의 결과에 대해서 소프트맥스 함수를 사용한 출력층을 통해 단어 예측\n",
        "decoder_softmax_layer = Dense(fra_vocab_size, activation='softmax')\n",
        "decoder_outputs = decoder_softmax_layer(decoder_outputs)"
      ],
      "metadata": {
        "id": "6yzdsDmioGVU"
      },
      "execution_count": 19,
      "outputs": []
    },
    {
      "cell_type": "code",
      "source": [
        "# 모델의 입력과 출력을 정의.\n",
        "model = Model([encoder_inputs, decoder_inputs], decoder_outputs)\n",
        "\n",
        "model.compile(optimizer='adam', loss='sparse_categorical_crossentropy', metrics=['accuracy'])\n"
      ],
      "metadata": {
        "id": "SpCS_CLMoNBL"
      },
      "execution_count": 20,
      "outputs": []
    },
    {
      "cell_type": "code",
      "source": [
        "history = model.fit(x=[encoder_input_train, decoder_input_train], y=decoder_target_train, \\\n",
        "          validation_data=([encoder_input_test, decoder_input_test], decoder_target_test),\n",
        "          batch_size=128, epochs=20)"
      ],
      "metadata": {
        "colab": {
          "base_uri": "https://localhost:8080/"
        },
        "id": "aKA5JFH-oQ4I",
        "outputId": "b96b9489-b81c-46be-ea05-1d7f121924b2"
      },
      "execution_count": 21,
      "outputs": [
        {
          "output_type": "stream",
          "name": "stdout",
          "text": [
            "Epoch 1/20\n",
            "235/235 [==============================] - 20s 45ms/step - loss: 2.2537 - accuracy: 0.6827 - val_loss: 1.8871 - val_accuracy: 0.7168\n",
            "Epoch 2/20\n",
            "235/235 [==============================] - 8s 35ms/step - loss: 1.5194 - accuracy: 0.7559 - val_loss: 1.7241 - val_accuracy: 0.7332\n",
            "Epoch 3/20\n",
            "235/235 [==============================] - 8s 35ms/step - loss: 1.3630 - accuracy: 0.7736 - val_loss: 1.5948 - val_accuracy: 0.7531\n",
            "Epoch 4/20\n",
            "235/235 [==============================] - 8s 36ms/step - loss: 1.2358 - accuracy: 0.7887 - val_loss: 1.4857 - val_accuracy: 0.7659\n",
            "Epoch 5/20\n",
            "235/235 [==============================] - 8s 36ms/step - loss: 1.1200 - accuracy: 0.8055 - val_loss: 1.3917 - val_accuracy: 0.7774\n",
            "Epoch 6/20\n",
            "235/235 [==============================] - 8s 35ms/step - loss: 1.0257 - accuracy: 0.8176 - val_loss: 1.3253 - val_accuracy: 0.7866\n",
            "Epoch 7/20\n",
            "235/235 [==============================] - 8s 35ms/step - loss: 0.9423 - accuracy: 0.8283 - val_loss: 1.2686 - val_accuracy: 0.7967\n",
            "Epoch 8/20\n",
            "235/235 [==============================] - 8s 35ms/step - loss: 0.8719 - accuracy: 0.8367 - val_loss: 1.2338 - val_accuracy: 0.8002\n",
            "Epoch 9/20\n",
            "235/235 [==============================] - 8s 35ms/step - loss: 0.8112 - accuracy: 0.8437 - val_loss: 1.1945 - val_accuracy: 0.8069\n",
            "Epoch 10/20\n",
            "235/235 [==============================] - 8s 35ms/step - loss: 0.7566 - accuracy: 0.8503 - val_loss: 1.1707 - val_accuracy: 0.8097\n",
            "Epoch 11/20\n",
            "235/235 [==============================] - 8s 35ms/step - loss: 0.7085 - accuracy: 0.8564 - val_loss: 1.1526 - val_accuracy: 0.8127\n",
            "Epoch 12/20\n",
            "235/235 [==============================] - 8s 36ms/step - loss: 0.6658 - accuracy: 0.8617 - val_loss: 1.1342 - val_accuracy: 0.8157\n",
            "Epoch 13/20\n",
            "235/235 [==============================] - 8s 35ms/step - loss: 0.6262 - accuracy: 0.8669 - val_loss: 1.1210 - val_accuracy: 0.8177\n",
            "Epoch 14/20\n",
            "235/235 [==============================] - 8s 36ms/step - loss: 0.5912 - accuracy: 0.8714 - val_loss: 1.1141 - val_accuracy: 0.8192\n",
            "Epoch 15/20\n",
            "235/235 [==============================] - 8s 35ms/step - loss: 0.5581 - accuracy: 0.8761 - val_loss: 1.1096 - val_accuracy: 0.8216\n",
            "Epoch 16/20\n",
            "235/235 [==============================] - 8s 35ms/step - loss: 0.5277 - accuracy: 0.8805 - val_loss: 1.1057 - val_accuracy: 0.8221\n",
            "Epoch 17/20\n",
            "235/235 [==============================] - 8s 35ms/step - loss: 0.4990 - accuracy: 0.8847 - val_loss: 1.0999 - val_accuracy: 0.8237\n",
            "Epoch 18/20\n",
            "235/235 [==============================] - 8s 35ms/step - loss: 0.4717 - accuracy: 0.8893 - val_loss: 1.0940 - val_accuracy: 0.8249\n",
            "Epoch 19/20\n",
            "235/235 [==============================] - 8s 36ms/step - loss: 0.4459 - accuracy: 0.8936 - val_loss: 1.0963 - val_accuracy: 0.8256\n",
            "Epoch 20/20\n",
            "235/235 [==============================] - 8s 36ms/step - loss: 0.4218 - accuracy: 0.8979 - val_loss: 1.0975 - val_accuracy: 0.8274\n"
          ]
        }
      ]
    },
    {
      "cell_type": "code",
      "source": [
        "import matplotlib.pyplot as plt\n",
        "\n",
        "history_dict = history.history\n",
        "\n",
        "acc = history_dict['accuracy']\n",
        "val_acc = history_dict['val_accuracy']\n",
        "loss = history_dict['loss']\n",
        "val_loss = history_dict['val_loss']\n",
        "\n",
        "epochs = range(1, len(acc) + 1)\n",
        "\n",
        "f, ax = plt.subplots(1,2,figsize=(16,8))\n",
        "\n",
        "ax[0].plot(epochs, loss, 'r', label='Training loss')\n",
        "ax[0].plot(epochs, val_loss, 'b', label='Validation loss')\n",
        "ax[0].set_title('Training and validation loss')\n",
        "ax[0].set_xlabel('Epochs')\n",
        "ax[0].set_ylabel('Loss')\n",
        "ax[0].legend()\n",
        "\n",
        "\n",
        "ax[1].plot(epochs, acc, 'r', label='Training acc')\n",
        "ax[1].plot(epochs, val_acc, 'b', label='Validation acc')\n",
        "ax[1].set_title('Training and validation accuracy')\n",
        "ax[1].set_xlabel('Epochs')\n",
        "ax[1].set_ylabel('Accuracy')\n",
        "ax[1].legend()\n",
        "\n",
        "plt.show()"
      ],
      "metadata": {
        "colab": {
          "base_uri": "https://localhost:8080/",
          "height": 454
        },
        "id": "YJiQ-jV6xR96",
        "outputId": "e5ba58e3-d643-46fb-a3fe-7d3f8330ebae"
      },
      "execution_count": 22,
      "outputs": [
        {
          "output_type": "display_data",
          "data": {
            "text/plain": [
              "<Figure size 1152x576 with 2 Axes>"
            ],
            "image/png": "[encoded data removed]"
          },
          "metadata": {
            "needs_background": "light"
          }
        }
      ]
    },
    {
      "cell_type": "code",
      "source": [
        "# 인코더\n",
        "encoder_model = Model(encoder_inputs, encoder_states)\n",
        "\n",
        "# 디코더 설계 시작\n",
        "# 이전 시점의 상태를 보관할 텐서\n",
        "decoder_state_input_h = Input(shape=(hidden_units,))\n",
        "decoder_state_input_c = Input(shape=(hidden_units,))\n",
        "decoder_states_inputs = [decoder_state_input_h, decoder_state_input_c]\n",
        "\n",
        "decoder_embedding_layer = Embedding(fra_vocab_size, hidden_units)\n",
        "\n",
        "dec_emb2 = decoder_embedding_layer(decoder_inputs)\n",
        "\n",
        "# 다음 단어 예측을 위해 이전 시점의 상태를 현 시점의 초기 상태로 사용\n",
        "decoder_outputs2, state_h2, state_c2 = decoder_lstm(dec_emb2, initial_state=decoder_states_inputs)\n",
        "decoder_states2 = [state_h2, state_c2]\n",
        "\n",
        "# 모든 시점에 대해서 단어 예측\n",
        "decoder_dense = Dense(fra_vocab_size, activation='softmax')\n",
        "decoder_outputs2 = decoder_dense(decoder_outputs2)\n",
        "\n",
        "# 수정된 디코더\n",
        "decoder_model = Model(\n",
        "    [decoder_inputs] + decoder_states_inputs,\n",
        "    [decoder_outputs2] + decoder_states2)"
      ],
      "metadata": {
        "id": "N4nSYKvzFyIS"
      },
      "execution_count": 23,
      "outputs": []
    },
    {
      "cell_type": "code",
      "source": [
        "eng2idx = eng_tokenizer.word_index\n",
        "fra2idx = fra_tokenizer.word_index\n",
        "idx2eng = eng_tokenizer.index_word\n",
        "idx2fra = fra_tokenizer.index_word"
      ],
      "metadata": {
        "id": "qtDWlMQ8Gcbu"
      },
      "execution_count": 24,
      "outputs": []
    },
    {
      "cell_type": "code",
      "source": [
        "def decode_sequence(input_seq):\n",
        "  # 입력으로부터 인코더의 마지막 시점의 상태(은닉 상태, 셀 상태)를 얻음\n",
        "  states_value = encoder_model.predict(input_seq)\n",
        "\n",
        "  # <SOS>에 해당하는 정수 생성\n",
        "  target_seq = np.zeros((1,1))\n",
        "  target_seq[0, 0] = fra2idx['\\t']\n",
        "\n",
        "  stop_condition = False\n",
        "  decoded_sentence = ''\n",
        "\n",
        "  # stop_condition이 True가 될 때까지 루프 반복\n",
        "  # 구현의 간소화를 위해서 이 함수는 배치 크기를 1로 가정합니다.\n",
        "  while not stop_condition:\n",
        "    # 이점 시점의 상태 states_value를 현 시점의 초기 상태로 사용\n",
        "    output_tokens, h, c = decoder_model.predict([target_seq] + states_value)\n",
        "\n",
        "    # 예측 결과를 단어로 변환\n",
        "    sampled_token_index = np.argmax(output_tokens[0, -1, :])\n",
        "    sampled_char = idx2fra[sampled_token_index]\n",
        "\n",
        "    # 현재 시점의 예측 단어를 예측 문장에 추가\n",
        "    decoded_sentence += ' '+sampled_char\n",
        "\n",
        "    # <eos>에 도달하거나 정해진 길이를 넘으면 중단.\n",
        "    if (sampled_char == '\\n' or\n",
        "        len(decoded_sentence) > 50):\n",
        "        stop_condition = True\n",
        "\n",
        "    # 현재 시점의 예측 결과를 다음 시점의 입력으로 사용하기 위해 저장\n",
        "    target_seq = np.zeros((1,1))\n",
        "    target_seq[0, 0] = sampled_token_index\n",
        "\n",
        "    # 현재 시점의 상태를 다음 시점의 상태로 사용하기 위해 저장\n",
        "    states_value = [h, c]\n",
        "\n",
        "  return decoded_sentence"
      ],
      "metadata": {
        "id": "qdagINxSGZHk"
      },
      "execution_count": 25,
      "outputs": []
    },
    {
      "cell_type": "code",
      "source": [
        "encoder_model = Model(inputs = encoder_inputs, outputs = encoder_states)\n",
        "encoder_model.summary()"
      ],
      "metadata": {
        "colab": {
          "base_uri": "https://localhost:8080/"
        },
        "id": "bFolTGSq2yv1",
        "outputId": "0535bec7-b5d1-4c60-92d2-a513e7831d9c"
      },
      "execution_count": 26,
      "outputs": [
        {
          "output_type": "stream",
          "name": "stdout",
          "text": [
            "Model: \"model_3\"\n",
            "_________________________________________________________________\n",
            " Layer (type)                Output Shape              Param #   \n",
            "=================================================================\n",
            " input_1 (InputLayer)        [(None, None)]            0         \n",
            "                                                                 \n",
            " embedding (Embedding)       (None, None, 64)          299008    \n",
            "                                                                 \n",
            " masking (Masking)           (None, None, 64)          0         \n",
            "                                                                 \n",
            " lstm (LSTM)                 [(None, 256),             328704    \n",
            "                              (None, 256),                       \n",
            "                              (None, 256)]                       \n",
            "                                                                 \n",
            "=================================================================\n",
            "Total params: 627,712\n",
            "Trainable params: 627,712\n",
            "Non-trainable params: 0\n",
            "_________________________________________________________________\n"
          ]
        }
      ]
    },
    {
      "cell_type": "code",
      "source": [
        "# 이전 time step의 hidden state를 저장하는 텐서\n",
        "decoder_state_input_h = Input(shape=(256,))\n",
        "# 이전 time step의 cell state를 저장하는 텐서\n",
        "decoder_state_input_c = Input(shape=(256,))\n",
        "# 이전 time step의 hidden state와 cell state를 하나의 변수에 저장\n",
        "decoder_states_inputs = [decoder_state_input_h, decoder_state_input_c]\n",
        "\n",
        "decoder_embedding2 = Embedding(fra_vocab_size, 256)(decoder_inputs) \n",
        "\n",
        "decoder_outputs, state_h, state_c = decoder_lstm(decoder_embedding2, initial_state = decoder_states_inputs)\n",
        "\n",
        "# 현재 time step의 hidden state와 cell state를 하나의 변수에 저장.\n",
        "decoder_states = [state_h, state_c]"
      ],
      "metadata": {
        "id": "v3QKlZma204p"
      },
      "execution_count": 27,
      "outputs": []
    },
    {
      "cell_type": "markdown",
      "source": [
        "- 무슨 일인지 mask값과 그냥 decoder_inputs은 오류가 생김"
      ],
      "metadata": {
        "id": "i8K3nXrUFDVv"
      }
    },
    {
      "cell_type": "code",
      "source": [
        "decoder_outputs = decoder_softmax_layer(decoder_outputs)\n",
        "decoder_model = Model(inputs=[decoder_embedding2] + decoder_states_inputs, outputs=[decoder_outputs] + decoder_states)\n",
        "decoder_model.summary()"
      ],
      "metadata": {
        "colab": {
          "base_uri": "https://localhost:8080/"
        },
        "id": "343YFf9l_VDC",
        "outputId": "4a1f3647-cb44-4776-daeb-9d6bfdbbec15"
      },
      "execution_count": 28,
      "outputs": [
        {
          "output_type": "stream",
          "name": "stdout",
          "text": [
            "Model: \"model_4\"\n",
            "__________________________________________________________________________________________________\n",
            " Layer (type)                   Output Shape         Param #     Connected to                     \n",
            "==================================================================================================\n",
            " input_7 (InputLayer)           [(None, None, 256)]  0           []                               \n",
            "                                                                                                  \n",
            " input_5 (InputLayer)           [(None, 256)]        0           []                               \n",
            "                                                                                                  \n",
            " input_6 (InputLayer)           [(None, 256)]        0           []                               \n",
            "                                                                                                  \n",
            " lstm_1 (LSTM)                  [(None, None, 256),  525312      ['input_7[0][0]',                \n",
            "                                 (None, 256),                     'input_5[0][0]',                \n",
            "                                 (None, 256)]                     'input_6[0][0]']                \n",
            "                                                                                                  \n",
            " dense (Dense)                  (None, None, 7461)   1917477     ['lstm_1[3][0]']                 \n",
            "                                                                                                  \n",
            "==================================================================================================\n",
            "Total params: 2,442,789\n",
            "Trainable params: 2,442,789\n",
            "Non-trainable params: 0\n",
            "__________________________________________________________________________________________________\n"
          ]
        }
      ]
    },
    {
      "cell_type": "code",
      "source": [
        "eng2idx = eng_tokenizer.word_index\n",
        "fra2idx = fra_tokenizer.word_index\n",
        "idx2eng = eng_tokenizer.index_word\n",
        "idx2fra = fra_tokenizer.index_word"
      ],
      "metadata": {
        "id": "aBhTURzFAeoC"
      },
      "execution_count": 29,
      "outputs": []
    },
    {
      "cell_type": "code",
      "source": [
        "def decode_sequence(input_seq):\n",
        "    # 입력으로부터 인코더의 상태를 얻음\n",
        "    states_value = encoder_model.predict(input_seq)\n",
        "\n",
        "    # <SOS>에 해당하는 원-핫 벡터 생성\n",
        "    target_seq = np.zeros((1, 1, fra_vocab_size))\n",
        "    target_seq[0, 0, fra2idx['\\t']] = 1.\n",
        "\n",
        "    stop_condition = False\n",
        "    decoded_sentence = \"\"\n",
        "\n",
        "    # stop_condition이 True가 될 때까지 루프 반복\n",
        "    while not stop_condition:\n",
        "        # 이점 시점의 상태 states_value를 현 시점의 초기 상태로 사용\n",
        "        output_tokens, h, c = decoder_model.predict([target_seq] + states_value)\n",
        "\n",
        "        # 예측 결과를 문자로 변환\n",
        "        sampled_token_index = np.argmax(output_tokens[0, -1, :])\n",
        "        sampled_char = idx2fra[sampled_token_index]\n",
        "\n",
        "        # 현재 시점의 예측 문자를 예측 문장에 추가\n",
        "        decoded_sentence += sampled_char\n",
        "\n",
        "        # <eos>에 도달하거나 최대 길이를 넘으면 중단.\n",
        "        if (sampled_char == '\\n' or\n",
        "           len(decoded_sentence) > max_fra_seq_len):\n",
        "            stop_condition = True\n",
        "\n",
        "        # 현재 시점의 예측 결과를 다음 시점의 입력으로 사용하기 위해 저장\n",
        "        target_seq = np.zeros((1, 1, fra_vocab_size))\n",
        "        target_seq[0, 0, sampled_token_index] = 1.\n",
        "\n",
        "        # 현재 시점의 상태를 다음 시점의 상태로 사용하기 위해 저장\n",
        "        states_value = [h, c]\n",
        "\n",
        "    return decoded_sentence"
      ],
      "metadata": {
        "id": "fPry163BASSM"
      },
      "execution_count": 34,
      "outputs": []
    },
    {
      "cell_type": "code",
      "source": [
        "import numpy as np\n",
        "for seq_index in [3,50,100,300,1001]: # 입력 문장의 인덱스 (자유롭게 선택해 보세요)\n",
        "    input_seq = encoder_input[seq_index: seq_index + 1]\n",
        "    decoded_sentence = decode_sequence(input_seq)\n",
        "    print(35 * \"-\")\n",
        "    print('입력 문장:', lines.eng[seq_index])\n",
        "    print('정답 문장:', lines.fra[seq_index][1:len(lines.fra[seq_index])-1]) # '\\t'와 '\\n'을 빼고 출력\n",
        "    print('번역기가 번역한 문장:', decoded_sentence[:len(decoded_sentence)-1]) # '\\n'을 빼고 출력"
      ],
      "metadata": {
        "colab": {
          "base_uri": "https://localhost:8080/",
          "height": 694
        },
        "id": "gqjx4N2UJwFG",
        "outputId": "a24e69ef-bb8a-45a2-a46e-124e3e9c00e8"
      },
      "execution_count": 35,
      "outputs": [
        {
          "output_type": "error",
          "ename": "ValueError",
          "evalue": "ignored",
          "traceback": [
            "\u001b[0;31m---------------------------------------------------------------------------\u001b[0m",
            "\u001b[0;31mValueError\u001b[0m                                Traceback (most recent call last)",
            "\u001b[0;32m<ipython-input-35-7e8b8c971626>\u001b[0m in \u001b[0;36m<module>\u001b[0;34m\u001b[0m\n\u001b[1;32m      2\u001b[0m \u001b[0;32mfor\u001b[0m \u001b[0mseq_index\u001b[0m \u001b[0;32min\u001b[0m \u001b[0;34m[\u001b[0m\u001b[0;36m3\u001b[0m\u001b[0;34m,\u001b[0m\u001b[0;36m50\u001b[0m\u001b[0;34m,\u001b[0m\u001b[0;36m100\u001b[0m\u001b[0;34m,\u001b[0m\u001b[0;36m300\u001b[0m\u001b[0;34m,\u001b[0m\u001b[0;36m1001\u001b[0m\u001b[0;34m]\u001b[0m\u001b[0;34m:\u001b[0m \u001b[0;31m# 입력 문장의 인덱스 (자유롭게 선택해 보세요)\u001b[0m\u001b[0;34m\u001b[0m\u001b[0;34m\u001b[0m\u001b[0m\n\u001b[1;32m      3\u001b[0m     \u001b[0minput_seq\u001b[0m \u001b[0;34m=\u001b[0m \u001b[0mencoder_input\u001b[0m\u001b[0;34m[\u001b[0m\u001b[0mseq_index\u001b[0m\u001b[0;34m:\u001b[0m \u001b[0mseq_index\u001b[0m \u001b[0;34m+\u001b[0m \u001b[0;36m1\u001b[0m\u001b[0;34m]\u001b[0m\u001b[0;34m\u001b[0m\u001b[0;34m\u001b[0m\u001b[0m\n\u001b[0;32m----> 4\u001b[0;31m     \u001b[0mdecoded_sentence\u001b[0m \u001b[0;34m=\u001b[0m \u001b[0mdecode_sequence\u001b[0m\u001b[0;34m(\u001b[0m\u001b[0minput_seq\u001b[0m\u001b[0;34m)\u001b[0m\u001b[0;34m\u001b[0m\u001b[0;34m\u001b[0m\u001b[0m\n\u001b[0m\u001b[1;32m      5\u001b[0m     \u001b[0mprint\u001b[0m\u001b[0;34m(\u001b[0m\u001b[0;36m35\u001b[0m \u001b[0;34m*\u001b[0m \u001b[0;34m\"-\"\u001b[0m\u001b[0;34m)\u001b[0m\u001b[0;34m\u001b[0m\u001b[0;34m\u001b[0m\u001b[0m\n\u001b[1;32m      6\u001b[0m     \u001b[0mprint\u001b[0m\u001b[0;34m(\u001b[0m\u001b[0;34m'입력 문장:'\u001b[0m\u001b[0;34m,\u001b[0m \u001b[0mlines\u001b[0m\u001b[0;34m.\u001b[0m\u001b[0meng\u001b[0m\u001b[0;34m[\u001b[0m\u001b[0mseq_index\u001b[0m\u001b[0;34m]\u001b[0m\u001b[0;34m)\u001b[0m\u001b[0;34m\u001b[0m\u001b[0;34m\u001b[0m\u001b[0m\n",
            "\u001b[0;32m<ipython-input-34-53cf97523daf>\u001b[0m in \u001b[0;36mdecode_sequence\u001b[0;34m(input_seq)\u001b[0m\n\u001b[1;32m     13\u001b[0m     \u001b[0;32mwhile\u001b[0m \u001b[0;32mnot\u001b[0m \u001b[0mstop_condition\u001b[0m\u001b[0;34m:\u001b[0m\u001b[0;34m\u001b[0m\u001b[0;34m\u001b[0m\u001b[0m\n\u001b[1;32m     14\u001b[0m         \u001b[0;31m# 이점 시점의 상태 states_value를 현 시점의 초기 상태로 사용\u001b[0m\u001b[0;34m\u001b[0m\u001b[0;34m\u001b[0m\u001b[0;34m\u001b[0m\u001b[0m\n\u001b[0;32m---> 15\u001b[0;31m         \u001b[0moutput_tokens\u001b[0m\u001b[0;34m,\u001b[0m \u001b[0mh\u001b[0m\u001b[0;34m,\u001b[0m \u001b[0mc\u001b[0m \u001b[0;34m=\u001b[0m \u001b[0mdecoder_model\u001b[0m\u001b[0;34m.\u001b[0m\u001b[0mpredict\u001b[0m\u001b[0;34m(\u001b[0m\u001b[0;34m[\u001b[0m\u001b[0mtarget_seq\u001b[0m\u001b[0;34m]\u001b[0m \u001b[0;34m+\u001b[0m \u001b[0mstates_value\u001b[0m\u001b[0;34m)\u001b[0m\u001b[0;34m\u001b[0m\u001b[0;34m\u001b[0m\u001b[0m\n\u001b[0m\u001b[1;32m     16\u001b[0m \u001b[0;34m\u001b[0m\u001b[0m\n\u001b[1;32m     17\u001b[0m         \u001b[0;31m# 예측 결과를 문자로 변환\u001b[0m\u001b[0;34m\u001b[0m\u001b[0;34m\u001b[0m\u001b[0;34m\u001b[0m\u001b[0m\n",
            "\u001b[0;32m/usr/local/lib/python3.7/dist-packages/keras/utils/traceback_utils.py\u001b[0m in \u001b[0;36merror_handler\u001b[0;34m(*args, **kwargs)\u001b[0m\n\u001b[1;32m     65\u001b[0m     \u001b[0;32mexcept\u001b[0m \u001b[0mException\u001b[0m \u001b[0;32mas\u001b[0m \u001b[0me\u001b[0m\u001b[0;34m:\u001b[0m  \u001b[0;31m# pylint: disable=broad-except\u001b[0m\u001b[0;34m\u001b[0m\u001b[0;34m\u001b[0m\u001b[0m\n\u001b[1;32m     66\u001b[0m       \u001b[0mfiltered_tb\u001b[0m \u001b[0;34m=\u001b[0m \u001b[0m_process_traceback_frames\u001b[0m\u001b[0;34m(\u001b[0m\u001b[0me\u001b[0m\u001b[0;34m.\u001b[0m\u001b[0m__traceback__\u001b[0m\u001b[0;34m)\u001b[0m\u001b[0;34m\u001b[0m\u001b[0;34m\u001b[0m\u001b[0m\n\u001b[0;32m---> 67\u001b[0;31m       \u001b[0;32mraise\u001b[0m \u001b[0me\u001b[0m\u001b[0;34m.\u001b[0m\u001b[0mwith_traceback\u001b[0m\u001b[0;34m(\u001b[0m\u001b[0mfiltered_tb\u001b[0m\u001b[0;34m)\u001b[0m \u001b[0;32mfrom\u001b[0m \u001b[0;32mNone\u001b[0m\u001b[0;34m\u001b[0m\u001b[0;34m\u001b[0m\u001b[0m\n\u001b[0m\u001b[1;32m     68\u001b[0m     \u001b[0;32mfinally\u001b[0m\u001b[0;34m:\u001b[0m\u001b[0;34m\u001b[0m\u001b[0;34m\u001b[0m\u001b[0m\n\u001b[1;32m     69\u001b[0m       \u001b[0;32mdel\u001b[0m \u001b[0mfiltered_tb\u001b[0m\u001b[0;34m\u001b[0m\u001b[0;34m\u001b[0m\u001b[0m\n",
            "\u001b[0;32m/usr/local/lib/python3.7/dist-packages/tensorflow/python/framework/func_graph.py\u001b[0m in \u001b[0;36mautograph_handler\u001b[0;34m(*args, **kwargs)\u001b[0m\n\u001b[1;32m   1145\u001b[0m           \u001b[0;32mexcept\u001b[0m \u001b[0mException\u001b[0m \u001b[0;32mas\u001b[0m \u001b[0me\u001b[0m\u001b[0;34m:\u001b[0m  \u001b[0;31m# pylint:disable=broad-except\u001b[0m\u001b[0;34m\u001b[0m\u001b[0;34m\u001b[0m\u001b[0m\n\u001b[1;32m   1146\u001b[0m             \u001b[0;32mif\u001b[0m \u001b[0mhasattr\u001b[0m\u001b[0;34m(\u001b[0m\u001b[0me\u001b[0m\u001b[0;34m,\u001b[0m \u001b[0;34m\"ag_error_metadata\"\u001b[0m\u001b[0;34m)\u001b[0m\u001b[0;34m:\u001b[0m\u001b[0;34m\u001b[0m\u001b[0;34m\u001b[0m\u001b[0m\n\u001b[0;32m-> 1147\u001b[0;31m               \u001b[0;32mraise\u001b[0m \u001b[0me\u001b[0m\u001b[0;34m.\u001b[0m\u001b[0mag_error_metadata\u001b[0m\u001b[0;34m.\u001b[0m\u001b[0mto_exception\u001b[0m\u001b[0;34m(\u001b[0m\u001b[0me\u001b[0m\u001b[0;34m)\u001b[0m\u001b[0;34m\u001b[0m\u001b[0;34m\u001b[0m\u001b[0m\n\u001b[0m\u001b[1;32m   1148\u001b[0m             \u001b[0;32melse\u001b[0m\u001b[0;34m:\u001b[0m\u001b[0;34m\u001b[0m\u001b[0;34m\u001b[0m\u001b[0m\n\u001b[1;32m   1149\u001b[0m               \u001b[0;32mraise\u001b[0m\u001b[0;34m\u001b[0m\u001b[0;34m\u001b[0m\u001b[0m\n",
            "\u001b[0;31mValueError\u001b[0m: in user code:\n\n    File \"/usr/local/lib/python3.7/dist-packages/keras/engine/training.py\", line 1801, in predict_function  *\n        return step_function(self, iterator)\n    File \"/usr/local/lib/python3.7/dist-packages/keras/engine/training.py\", line 1790, in step_function  **\n        outputs = model.distribute_strategy.run(run_step, args=(data,))\n    File \"/usr/local/lib/python3.7/dist-packages/keras/engine/training.py\", line 1783, in run_step  **\n        outputs = model.predict_step(data)\n    File \"/usr/local/lib/python3.7/dist-packages/keras/engine/training.py\", line 1751, in predict_step\n        return self(x, training=False)\n    File \"/usr/local/lib/python3.7/dist-packages/keras/utils/traceback_utils.py\", line 67, in error_handler\n        raise e.with_traceback(filtered_tb) from None\n    File \"/usr/local/lib/python3.7/dist-packages/keras/engine/input_spec.py\", line 264, in assert_input_compatibility\n        raise ValueError(f'Input {input_index} of layer \"{layer_name}\" is '\n\n    ValueError: Input 0 of layer \"model_4\" is incompatible with the layer: expected shape=(None, None, 256), found shape=(None, 1, 7461)\n"
          ]
        }
      ]
    },
    {
      "cell_type": "markdown",
      "source": [
        "## 6. 모델 구현하기"
      ],
      "metadata": {
        "id": "w2Lh40laPlEb"
      }
    },
    {
      "cell_type": "markdown",
      "source": [
        "## 7. 모델 평가하기"
      ],
      "metadata": {
        "id": "2ZhttEflPnm4"
      }
    },
    {
      "cell_type": "markdown",
      "source": [
        "## 8. 회고"
      ],
      "metadata": {
        "id": "XUXLh4oIP3Eg"
      }
    },
    {
      "cell_type": "code",
      "source": [
        ""
      ],
      "metadata": {
        "id": "DkNIHM4gOZBA"
      },
      "execution_count": null,
      "outputs": []
    },
    {
      "cell_type": "code",
      "source": [
        ""
      ],
      "metadata": {
        "id": "HcrzNU_m1UT_"
      },
      "execution_count": null,
      "outputs": []
    }
  ]
}