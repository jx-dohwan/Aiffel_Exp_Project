{
  "nbformat": 4,
  "nbformat_minor": 0,
  "metadata": {
    "colab": {
      "name": "[Exp_10]Let's make a translator.ipynb",
      "provenance": [],
      "machine_shape": "hm",
      "collapsed_sections": [],
      "mount_file_id": "1mtGZgcWe70hKUvac6b1ckhNaC5500waF",
      "authorship_tag": "ABX9TyOMeOzDEBTVBdyh2wCMu1LE",
      "include_colab_link": true
    },
    "kernelspec": {
      "name": "python3",
      "display_name": "Python 3"
    },
    "language_info": {
      "name": "python"
    },
    "accelerator": "GPU",
    "gpuClass": "standard"
  },
  "cells": [
    {
      "cell_type": "markdown",
      "metadata": {
        "id": "view-in-github",
        "colab_type": "text"
      },
      "source": [
        "<a href=\"https://colab.research.google.com/github/jx-dohwan/Aiffel_EGLMS_Project/blob/main/%5BExp_10%5DLet's_make_a_translator.ipynb\" target=\"_parent\"><img src=\"https://colab.research.google.com/assets/colab-badge.svg\" alt=\"Open In Colab\"/></a>"
      ]
    },
    {
      "cell_type": "markdown",
      "source": [
        "# [Exp_10]Let's make a translator"
      ],
      "metadata": {
        "id": "0OfSZdM4Mrza"
      }
    },
    {
      "cell_type": "markdown",
      "source": [
        "## 1.import 및 데이터로드"
      ],
      "metadata": {
        "id": "DXiImQPJNCbN"
      }
    },
    {
      "cell_type": "code",
      "source": [
        "# !apt install --allow-change-held-packages libcudnn8=8.1.0.77-1+cuda11.2\n",
        "# !pip install --upgrade tensorflow"
      ],
      "metadata": {
        "id": "s1uSFQ4bR8-F"
      },
      "execution_count": 1,
      "outputs": []
    },
    {
      "cell_type": "markdown",
      "source": [
        "### 1) Import"
      ],
      "metadata": {
        "id": "x9Dga069Ob7g"
      }
    },
    {
      "cell_type": "code",
      "execution_count": 2,
      "metadata": {
        "id": "kINFmb9NMkl3"
      },
      "outputs": [],
      "source": [
        "import pandas as pd\n",
        "from tensorflow.keras.preprocessing.text import Tokenizer\n",
        "from tensorflow.keras.preprocessing.sequence import pad_sequences\n",
        "from tensorflow.keras.utils import to_categorical\n",
        "import numpy as np\n",
        "from tensorflow.keras.layers import Input, LSTM, Embedding, Dense\n",
        "from tensorflow.keras.models import Sequential\n",
        "from tensorflow.keras.models import Model\n",
        "import tensorflow as tf\n",
        "import unicodedata"
      ]
    },
    {
      "cell_type": "markdown",
      "source": [
        "### 2) 데이터로드"
      ],
      "metadata": {
        "id": "euHg1pV6OdvM"
      }
    },
    {
      "cell_type": "code",
      "source": [
        "file_path = \"/content/drive/MyDrive/인공지능/아이펠/ES/data/translator_seq2seq/fra.txt\"\n",
        "lines = pd.read_csv(file_path, names=['eng', 'fra', 'cc'], sep='\\t')\n",
        "print('전체 샘플수:',len(lines))\n",
        "lines.sample(5)"
      ],
      "metadata": {
        "colab": {
          "base_uri": "https://localhost:8080/",
          "height": 225
        },
        "id": "EXGCZVPZNVzq",
        "outputId": "be7c7433-c29a-4433-aa8d-df267d3829f4"
      },
      "execution_count": 3,
      "outputs": [
        {
          "output_type": "stream",
          "name": "stdout",
          "text": [
            "전체 샘플수: 194513\n"
          ]
        },
        {
          "output_type": "execute_result",
          "data": {
            "text/plain": [
              "                                     eng  \\\n",
              "39166               We're finally alone.   \n",
              "60433            Who else went with Tom?   \n",
              "119701   You look good in those clothes.   \n",
              "61383           Are you sure it was Tom?   \n",
              "120193  Be careful. That knife is sharp.   \n",
              "\n",
              "                                           fra  \\\n",
              "39166                 Nous sommes enfin seuls.   \n",
              "60433          Qui d'autre est allé avec Tom ?   \n",
              "119701  Tu as belle allure dans ces vêtements.   \n",
              "61383              Es-tu sûr que c'était Tom ?   \n",
              "120193   Sois prudent. Ce couteau est aiguisé.   \n",
              "\n",
              "                                                       cc  \n",
              "39166   CC-BY 2.0 (France) Attribution: tatoeba.org #3...  \n",
              "60433   CC-BY 2.0 (France) Attribution: tatoeba.org #6...  \n",
              "119701  CC-BY 2.0 (France) Attribution: tatoeba.org #1...  \n",
              "61383   CC-BY 2.0 (France) Attribution: tatoeba.org #2...  \n",
              "120193  CC-BY 2.0 (France) Attribution: tatoeba.org #6...  "
            ],
            "text/html": [
              "\n",
              "  <div id=\"df-6b750680-1a50-4d05-b393-9e17e27f8a9e\">\n",
              "    <div class=\"colab-df-container\">\n",
              "      <div>\n",
              "<style scoped>\n",
              "    .dataframe tbody tr th:only-of-type {\n",
              "        vertical-align: middle;\n",
              "    }\n",
              "\n",
              "    .dataframe tbody tr th {\n",
              "        vertical-align: top;\n",
              "    }\n",
              "\n",
              "    .dataframe thead th {\n",
              "        text-align: right;\n",
              "    }\n",
              "</style>\n",
              "<table border=\"1\" class=\"dataframe\">\n",
              "  <thead>\n",
              "    <tr style=\"text-align: right;\">\n",
              "      <th></th>\n",
              "      <th>eng</th>\n",
              "      <th>fra</th>\n",
              "      <th>cc</th>\n",
              "    </tr>\n",
              "  </thead>\n",
              "  <tbody>\n",
              "    <tr>\n",
              "      <th>39166</th>\n",
              "      <td>We're finally alone.</td>\n",
              "      <td>Nous sommes enfin seuls.</td>\n",
              "      <td>CC-BY 2.0 (France) Attribution: tatoeba.org #3...</td>\n",
              "    </tr>\n",
              "    <tr>\n",
              "      <th>60433</th>\n",
              "      <td>Who else went with Tom?</td>\n",
              "      <td>Qui d'autre est allé avec Tom ?</td>\n",
              "      <td>CC-BY 2.0 (France) Attribution: tatoeba.org #6...</td>\n",
              "    </tr>\n",
              "    <tr>\n",
              "      <th>119701</th>\n",
              "      <td>You look good in those clothes.</td>\n",
              "      <td>Tu as belle allure dans ces vêtements.</td>\n",
              "      <td>CC-BY 2.0 (France) Attribution: tatoeba.org #1...</td>\n",
              "    </tr>\n",
              "    <tr>\n",
              "      <th>61383</th>\n",
              "      <td>Are you sure it was Tom?</td>\n",
              "      <td>Es-tu sûr que c'était Tom ?</td>\n",
              "      <td>CC-BY 2.0 (France) Attribution: tatoeba.org #2...</td>\n",
              "    </tr>\n",
              "    <tr>\n",
              "      <th>120193</th>\n",
              "      <td>Be careful. That knife is sharp.</td>\n",
              "      <td>Sois prudent. Ce couteau est aiguisé.</td>\n",
              "      <td>CC-BY 2.0 (France) Attribution: tatoeba.org #6...</td>\n",
              "    </tr>\n",
              "  </tbody>\n",
              "</table>\n",
              "</div>\n",
              "      <button class=\"colab-df-convert\" onclick=\"convertToInteractive('df-6b750680-1a50-4d05-b393-9e17e27f8a9e')\"\n",
              "              title=\"Convert this dataframe to an interactive table.\"\n",
              "              style=\"display:none;\">\n",
              "        \n",
              "  <svg xmlns=\"http://www.w3.org/2000/svg\" height=\"24px\"viewBox=\"0 0 24 24\"\n",
              "       width=\"24px\">\n",
              "    <path d=\"M0 0h24v24H0V0z\" fill=\"none\"/>\n",
              "    <path d=\"M18.56 5.44l.94 2.06.94-2.06 2.06-.94-2.06-.94-.94-2.06-.94 2.06-2.06.94zm-11 1L8.5 8.5l.94-2.06 2.06-.94-2.06-.94L8.5 2.5l-.94 2.06-2.06.94zm10 10l.94 2.06.94-2.06 2.06-.94-2.06-.94-.94-2.06-.94 2.06-2.06.94z\"/><path d=\"M17.41 7.96l-1.37-1.37c-.4-.4-.92-.59-1.43-.59-.52 0-1.04.2-1.43.59L10.3 9.45l-7.72 7.72c-.78.78-.78 2.05 0 2.83L4 21.41c.39.39.9.59 1.41.59.51 0 1.02-.2 1.41-.59l7.78-7.78 2.81-2.81c.8-.78.8-2.07 0-2.86zM5.41 20L4 18.59l7.72-7.72 1.47 1.35L5.41 20z\"/>\n",
              "  </svg>\n",
              "      </button>\n",
              "      \n",
              "  <style>\n",
              "    .colab-df-container {\n",
              "      display:flex;\n",
              "      flex-wrap:wrap;\n",
              "      gap: 12px;\n",
              "    }\n",
              "\n",
              "    .colab-df-convert {\n",
              "      background-color: #E8F0FE;\n",
              "      border: none;\n",
              "      border-radius: 50%;\n",
              "      cursor: pointer;\n",
              "      display: none;\n",
              "      fill: #1967D2;\n",
              "      height: 32px;\n",
              "      padding: 0 0 0 0;\n",
              "      width: 32px;\n",
              "    }\n",
              "\n",
              "    .colab-df-convert:hover {\n",
              "      background-color: #E2EBFA;\n",
              "      box-shadow: 0px 1px 2px rgba(60, 64, 67, 0.3), 0px 1px 3px 1px rgba(60, 64, 67, 0.15);\n",
              "      fill: #174EA6;\n",
              "    }\n",
              "\n",
              "    [theme=dark] .colab-df-convert {\n",
              "      background-color: #3B4455;\n",
              "      fill: #D2E3FC;\n",
              "    }\n",
              "\n",
              "    [theme=dark] .colab-df-convert:hover {\n",
              "      background-color: #434B5C;\n",
              "      box-shadow: 0px 1px 3px 1px rgba(0, 0, 0, 0.15);\n",
              "      filter: drop-shadow(0px 1px 2px rgba(0, 0, 0, 0.3));\n",
              "      fill: #FFFFFF;\n",
              "    }\n",
              "  </style>\n",
              "\n",
              "      <script>\n",
              "        const buttonEl =\n",
              "          document.querySelector('#df-6b750680-1a50-4d05-b393-9e17e27f8a9e button.colab-df-convert');\n",
              "        buttonEl.style.display =\n",
              "          google.colab.kernel.accessAllowed ? 'block' : 'none';\n",
              "\n",
              "        async function convertToInteractive(key) {\n",
              "          const element = document.querySelector('#df-6b750680-1a50-4d05-b393-9e17e27f8a9e');\n",
              "          const dataTable =\n",
              "            await google.colab.kernel.invokeFunction('convertToInteractive',\n",
              "                                                     [key], {});\n",
              "          if (!dataTable) return;\n",
              "\n",
              "          const docLinkHtml = 'Like what you see? Visit the ' +\n",
              "            '<a target=\"_blank\" href=https://colab.research.google.com/notebooks/data_table.ipynb>data table notebook</a>'\n",
              "            + ' to learn more about interactive tables.';\n",
              "          element.innerHTML = '';\n",
              "          dataTable['output_type'] = 'display_data';\n",
              "          await google.colab.output.renderOutput(dataTable, element);\n",
              "          const docLink = document.createElement('div');\n",
              "          docLink.innerHTML = docLinkHtml;\n",
              "          element.appendChild(docLink);\n",
              "        }\n",
              "      </script>\n",
              "    </div>\n",
              "  </div>\n",
              "  "
            ]
          },
          "metadata": {},
          "execution_count": 3
        }
      ]
    },
    {
      "cell_type": "markdown",
      "source": [
        "\n",
        "데이터에서 상위 33,000개의 샘플만 사용해주세요.\n",
        "\n",
        "33000개 중 3000개는 테스트 데이터로 분리하여 모델을 학습한 후에 번역을 테스트 하는 용도로 사용합니다"
      ],
      "metadata": {
        "id": "yVsuelXtOQH4"
      }
    },
    {
      "cell_type": "code",
      "source": [
        "lines = lines[['eng', 'fra']][:33000]\n",
        "lines.sample(5)"
      ],
      "metadata": {
        "colab": {
          "base_uri": "https://localhost:8080/",
          "height": 206
        },
        "id": "QqlgcnlMN_jT",
        "outputId": "c802017e-b13e-4ae0-e002-18be6127783d"
      },
      "execution_count": 4,
      "outputs": [
        {
          "output_type": "execute_result",
          "data": {
            "text/plain": [
              "                      eng                          fra\n",
              "171              Be nice.            Soyez gentilles !\n",
              "13752    How old are you?             Quel âge as-tu ?\n",
              "13663    He's a southpaw.            C'est un gaucher.\n",
              "27491  You can have both.  Vous pouvez avoir les deux.\n",
              "27231  Where did they go?         Où sont-ils passés ?"
            ],
            "text/html": [
              "\n",
              "  <div id=\"df-396942e6-6347-4f7c-a3b1-fd153f14c510\">\n",
              "    <div class=\"colab-df-container\">\n",
              "      <div>\n",
              "<style scoped>\n",
              "    .dataframe tbody tr th:only-of-type {\n",
              "        vertical-align: middle;\n",
              "    }\n",
              "\n",
              "    .dataframe tbody tr th {\n",
              "        vertical-align: top;\n",
              "    }\n",
              "\n",
              "    .dataframe thead th {\n",
              "        text-align: right;\n",
              "    }\n",
              "</style>\n",
              "<table border=\"1\" class=\"dataframe\">\n",
              "  <thead>\n",
              "    <tr style=\"text-align: right;\">\n",
              "      <th></th>\n",
              "      <th>eng</th>\n",
              "      <th>fra</th>\n",
              "    </tr>\n",
              "  </thead>\n",
              "  <tbody>\n",
              "    <tr>\n",
              "      <th>171</th>\n",
              "      <td>Be nice.</td>\n",
              "      <td>Soyez gentilles !</td>\n",
              "    </tr>\n",
              "    <tr>\n",
              "      <th>13752</th>\n",
              "      <td>How old are you?</td>\n",
              "      <td>Quel âge as-tu ?</td>\n",
              "    </tr>\n",
              "    <tr>\n",
              "      <th>13663</th>\n",
              "      <td>He's a southpaw.</td>\n",
              "      <td>C'est un gaucher.</td>\n",
              "    </tr>\n",
              "    <tr>\n",
              "      <th>27491</th>\n",
              "      <td>You can have both.</td>\n",
              "      <td>Vous pouvez avoir les deux.</td>\n",
              "    </tr>\n",
              "    <tr>\n",
              "      <th>27231</th>\n",
              "      <td>Where did they go?</td>\n",
              "      <td>Où sont-ils passés ?</td>\n",
              "    </tr>\n",
              "  </tbody>\n",
              "</table>\n",
              "</div>\n",
              "      <button class=\"colab-df-convert\" onclick=\"convertToInteractive('df-396942e6-6347-4f7c-a3b1-fd153f14c510')\"\n",
              "              title=\"Convert this dataframe to an interactive table.\"\n",
              "              style=\"display:none;\">\n",
              "        \n",
              "  <svg xmlns=\"http://www.w3.org/2000/svg\" height=\"24px\"viewBox=\"0 0 24 24\"\n",
              "       width=\"24px\">\n",
              "    <path d=\"M0 0h24v24H0V0z\" fill=\"none\"/>\n",
              "    <path d=\"M18.56 5.44l.94 2.06.94-2.06 2.06-.94-2.06-.94-.94-2.06-.94 2.06-2.06.94zm-11 1L8.5 8.5l.94-2.06 2.06-.94-2.06-.94L8.5 2.5l-.94 2.06-2.06.94zm10 10l.94 2.06.94-2.06 2.06-.94-2.06-.94-.94-2.06-.94 2.06-2.06.94z\"/><path d=\"M17.41 7.96l-1.37-1.37c-.4-.4-.92-.59-1.43-.59-.52 0-1.04.2-1.43.59L10.3 9.45l-7.72 7.72c-.78.78-.78 2.05 0 2.83L4 21.41c.39.39.9.59 1.41.59.51 0 1.02-.2 1.41-.59l7.78-7.78 2.81-2.81c.8-.78.8-2.07 0-2.86zM5.41 20L4 18.59l7.72-7.72 1.47 1.35L5.41 20z\"/>\n",
              "  </svg>\n",
              "      </button>\n",
              "      \n",
              "  <style>\n",
              "    .colab-df-container {\n",
              "      display:flex;\n",
              "      flex-wrap:wrap;\n",
              "      gap: 12px;\n",
              "    }\n",
              "\n",
              "    .colab-df-convert {\n",
              "      background-color: #E8F0FE;\n",
              "      border: none;\n",
              "      border-radius: 50%;\n",
              "      cursor: pointer;\n",
              "      display: none;\n",
              "      fill: #1967D2;\n",
              "      height: 32px;\n",
              "      padding: 0 0 0 0;\n",
              "      width: 32px;\n",
              "    }\n",
              "\n",
              "    .colab-df-convert:hover {\n",
              "      background-color: #E2EBFA;\n",
              "      box-shadow: 0px 1px 2px rgba(60, 64, 67, 0.3), 0px 1px 3px 1px rgba(60, 64, 67, 0.15);\n",
              "      fill: #174EA6;\n",
              "    }\n",
              "\n",
              "    [theme=dark] .colab-df-convert {\n",
              "      background-color: #3B4455;\n",
              "      fill: #D2E3FC;\n",
              "    }\n",
              "\n",
              "    [theme=dark] .colab-df-convert:hover {\n",
              "      background-color: #434B5C;\n",
              "      box-shadow: 0px 1px 3px 1px rgba(0, 0, 0, 0.15);\n",
              "      filter: drop-shadow(0px 1px 2px rgba(0, 0, 0, 0.3));\n",
              "      fill: #FFFFFF;\n",
              "    }\n",
              "  </style>\n",
              "\n",
              "      <script>\n",
              "        const buttonEl =\n",
              "          document.querySelector('#df-396942e6-6347-4f7c-a3b1-fd153f14c510 button.colab-df-convert');\n",
              "        buttonEl.style.display =\n",
              "          google.colab.kernel.accessAllowed ? 'block' : 'none';\n",
              "\n",
              "        async function convertToInteractive(key) {\n",
              "          const element = document.querySelector('#df-396942e6-6347-4f7c-a3b1-fd153f14c510');\n",
              "          const dataTable =\n",
              "            await google.colab.kernel.invokeFunction('convertToInteractive',\n",
              "                                                     [key], {});\n",
              "          if (!dataTable) return;\n",
              "\n",
              "          const docLinkHtml = 'Like what you see? Visit the ' +\n",
              "            '<a target=\"_blank\" href=https://colab.research.google.com/notebooks/data_table.ipynb>data table notebook</a>'\n",
              "            + ' to learn more about interactive tables.';\n",
              "          element.innerHTML = '';\n",
              "          dataTable['output_type'] = 'display_data';\n",
              "          await google.colab.output.renderOutput(dataTable, element);\n",
              "          const docLink = document.createElement('div');\n",
              "          docLink.innerHTML = docLinkHtml;\n",
              "          element.appendChild(docLink);\n",
              "        }\n",
              "      </script>\n",
              "    </div>\n",
              "  </div>\n",
              "  "
            ]
          },
          "metadata": {},
          "execution_count": 4
        }
      ]
    },
    {
      "cell_type": "markdown",
      "source": [
        "## 2. 데이터 전처리 작업\n"
      ],
      "metadata": {
        "id": "X4mKUfz_Osfj"
      }
    },
    {
      "cell_type": "markdown",
      "source": [
        "### 1)  정제, 정규화 & 케라스의 토크나이저로 텍스트를 숫자로 & 디코더 문장에 시작 토큰과 종료 토큰 입력\n",
        "\n",
        "- 구두점(Punctuation)을 단어와 분리\n",
        "- 소문자로 change\n",
        "- 띄어쓰기 단위로 토큰을 수행\n",
        "  - (토크나이저에 옵션을 줌으로 텍스트 숫자로 변환과 동시진행 가능)\n",
        "  - (디코더 문장의 경우 토크나이저 직전에 시작 토큰과 종료 토큰 입력 가능)"
      ],
      "metadata": {
        "id": "8b3ZE6JSQb6Q"
      }
    },
    {
      "cell_type": "markdown",
      "source": [
        "- 참고 자료\n",
        "  - https://soraji.github.io/python/2019/07/21/rex/\n",
        "  - https://www.tensorflow.org/api_docs/python/tf/keras/preprocessing/text/Tokenizer"
      ],
      "metadata": {
        "id": "2SrJvT8ZytQk"
      }
    },
    {
      "cell_type": "code",
      "source": [
        "def preprocess_sentence(sentence):\n",
        "  sentence = sentence.str.lower()\n",
        "  sentence = sentence.str.replace(pat=r'([?.!,¿])', repl =r\" \\1\",regex=True)\n",
        "  sentence = sentence.str.replace(pat=r'[\" \"]+', repl =\" \",regex=True)\n",
        "  sentence = sentence.str.replace(pat=r\"[^a-zA-Z!.?]+\", repl =\" \",regex=True)\n",
        "  sentence = sentence.str.strip() \n",
        "\n",
        "  return sentence"
      ],
      "metadata": {
        "id": "di4ug8NdXPp4"
      },
      "execution_count": 5,
      "outputs": []
    },
    {
      "cell_type": "code",
      "source": [
        "input_text = preprocess_sentence(lines.eng)\n",
        "eng_tokenizer = Tokenizer(split=' ', filters=\"\")   # 문자 단위로 Tokenizer를 생성합니다. \n",
        "eng_tokenizer.fit_on_texts(input_text)               # 50000개의 행을 가진 eng의 각 행에 토큰화를 수행\n",
        "input_text = eng_tokenizer.texts_to_sequences(input_text)    # 단어를 숫자값 인덱스로 변환하여 저장\n",
        "input_text[:3]"
      ],
      "metadata": {
        "colab": {
          "base_uri": "https://localhost:8080/"
        },
        "id": "Vqf6IlvAXbW4",
        "outputId": "1aea13f3-c1d2-40c2-a247-d3d1db60d54c"
      },
      "execution_count": 6,
      "outputs": [
        {
          "output_type": "execute_result",
          "data": {
            "text/plain": [
              "[[29, 1], [29, 1], [29, 1]]"
            ]
          },
          "metadata": {},
          "execution_count": 6
        }
      ]
    },
    {
      "cell_type": "code",
      "source": [
        "target_text = preprocess_sentence(lines.fra)\n",
        "print(target_text)\n",
        "# 디코더에 시작 토큰과 종료토큰 추가\n",
        "sos_token = '\\t'\n",
        "eos_token = '\\n'\n",
        "target_text= target_text.apply(lambda x : '\\t '+ x + ' \\n')\n",
        "print(target_text)\n",
        "\n",
        "fra_tokenizer = Tokenizer(split=' ', filters=\"\")   # 문자 단위로 Tokenizer를 생성|합니다. \n",
        "fra_tokenizer.fit_on_texts(target_text)               # 50000개의 행을 가진 eng의 각 행에 토큰화를 수행\n",
        "target_text = fra_tokenizer.texts_to_sequences(target_text)    # 단어를 숫자값 인덱스로 변환하여 저장\n",
        "target_text[:3]"
      ],
      "metadata": {
        "id": "kkL1uqC4Y2Dr",
        "outputId": "47072845-2f04-4b22-acd9-8eac551561e3",
        "colab": {
          "base_uri": "https://localhost:8080/"
        }
      },
      "execution_count": 7,
      "outputs": [
        {
          "output_type": "stream",
          "name": "stdout",
          "text": [
            "0                              va !\n",
            "1                          marche .\n",
            "2                           bouge !\n",
            "3                           salut !\n",
            "4                           salut .\n",
            "                    ...            \n",
            "32995     qu est ce que tom a vol ?\n",
            "32996    qu est ce que tom a crit ?\n",
            "32997           que voulaient ils ?\n",
            "32998         que voulaient elles ?\n",
            "32999                 qu as tu bu ?\n",
            "Name: fra, Length: 33000, dtype: object\n",
            "0                              \\t va ! \\n\n",
            "1                          \\t marche . \\n\n",
            "2                           \\t bouge ! \\n\n",
            "3                           \\t salut ! \\n\n",
            "4                           \\t salut . \\n\n",
            "                       ...               \n",
            "32995     \\t qu est ce que tom a vol ? \\n\n",
            "32996    \\t qu est ce que tom a crit ? \\n\n",
            "32997           \\t que voulaient ils ? \\n\n",
            "32998         \\t que voulaient elles ? \\n\n",
            "32999                 \\t qu as tu bu ? \\n\n",
            "Name: fra, Length: 33000, dtype: object\n"
          ]
        },
        {
          "output_type": "execute_result",
          "data": {
            "text/plain": [
              "[[1, 75, 8, 2], [1, 378, 3, 2], [1, 718, 8, 2]]"
            ]
          },
          "metadata": {},
          "execution_count": 7
        }
      ]
    },
    {
      "cell_type": "markdown",
      "source": [
        "- 토크나이저를 할때 계속 불용어가 제거되고 토크나이저를 진행됨\n",
        "  - 공식문서를 확인해본 결과 filters에 자동으로 불용어가 제거되도록 되어 있음\n",
        "  - 그래서 filters=\"\"를 하여 아무것도 제거하지 않도록 지정하였음"
      ],
      "metadata": {
        "id": "O2qAZKSTKNrE"
      }
    },
    {
      "cell_type": "markdown",
      "source": [
        "### 2) 임베딩층 구현을 위한 전처리"
      ],
      "metadata": {
        "id": "O3mo5Q3YKvgx"
      }
    },
    {
      "cell_type": "markdown",
      "source": [
        "#### (1) vocab_size 구하기"
      ],
      "metadata": {
        "id": "yjIcbxE1JLZg"
      }
    },
    {
      "cell_type": "code",
      "source": [
        "eng_vocab_size = len(eng_tokenizer.word_index) + 1\n",
        "fra_vocab_size = len(fra_tokenizer.word_index) + 1\n",
        "print('영어 단어장의 크기 :', eng_vocab_size)\n",
        "print('프랑스어 단어장의 크기 :', fra_vocab_size)"
      ],
      "metadata": {
        "colab": {
          "base_uri": "https://localhost:8080/"
        },
        "id": "t-OxfGoCIwTE",
        "outputId": "d68b0317-7459-4527-fbe2-917a460cf1cc"
      },
      "execution_count": 8,
      "outputs": [
        {
          "output_type": "stream",
          "name": "stdout",
          "text": [
            "영어 단어장의 크기 : 4673\n",
            "프랑스어 단어장의 크기 : 7462\n"
          ]
        }
      ]
    },
    {
      "cell_type": "markdown",
      "source": [
        "#### (3) 교사강요 위한 전처리\n",
        "- 디코더의 출력과 비교해야 할 정답 데이터로 사용해야 할 원래 목적에 따른 것입니다. \n",
        "  - < sos >가 필요 없음\n",
        "- 이전 스텝에서 언급했던 교사 강요(Teacher forcing)을 위해 디코더의 입력으로 사용하기 위한 것\n",
        "  - < eos >토큰이 필요 없음"
      ],
      "metadata": {
        "id": "8ja2IdauNWAX"
      }
    },
    {
      "cell_type": "code",
      "source": [
        "# input encoder 지정\n",
        "encoder_input = input_text\n",
        "\n",
        "# 종료 토큰 제거\n",
        "decoder_input = [[ char for char in line if char != fra_tokenizer.word_index[eos_token] ] for line in target_text] \n",
        "\n",
        "# 시작 토큰 제거\n",
        "decoder_target = [[ char for char in line if char != fra_tokenizer.word_index[sos_token] ] for line in target_text]"
      ],
      "metadata": {
        "id": "SrMC44pOOBfi"
      },
      "execution_count": 9,
      "outputs": []
    },
    {
      "cell_type": "code",
      "source": [
        "print(decoder_input[:3])\n",
        "print(decoder_target[:3])"
      ],
      "metadata": {
        "colab": {
          "base_uri": "https://localhost:8080/"
        },
        "id": "nUQfwF5ePKKj",
        "outputId": "cca33134-9bff-45bc-ca96-d21194c6a72b"
      },
      "execution_count": 10,
      "outputs": [
        {
          "output_type": "stream",
          "name": "stdout",
          "text": [
            "[[1, 75, 8], [1, 378, 3], [1, 718, 8]]\n",
            "[[75, 8, 2], [378, 3, 2], [718, 8, 2]]\n"
          ]
        }
      ]
    },
    {
      "cell_type": "markdown",
      "source": [
        "#### (2) maxlen 구하기"
      ],
      "metadata": {
        "id": "qxYbrDPAJVoj"
      }
    },
    {
      "cell_type": "code",
      "source": [
        "max_eng_seq_len = max([len(line) for line in input_text])\n",
        "max_fra_seq_len = max([len(line) for line in decoder_target])\n",
        "print('영어 시퀀스의 최대 길이', max_eng_seq_len)\n",
        "print('프랑스어 시퀀스의 최대 길이', max_fra_seq_len)"
      ],
      "metadata": {
        "colab": {
          "base_uri": "https://localhost:8080/"
        },
        "id": "F5P6enEaJPrx",
        "outputId": "f643f5fa-208a-4c1b-855d-a38be39cc754"
      },
      "execution_count": 11,
      "outputs": [
        {
          "output_type": "stream",
          "name": "stdout",
          "text": [
            "영어 시퀀스의 최대 길이 8\n",
            "프랑스어 시퀀스의 최대 길이 16\n"
          ]
        }
      ]
    },
    {
      "cell_type": "markdown",
      "source": [
        "- 길이가 안맞아서 계속 오류가 생겼었다. \n",
        "  - 시작 토큰과 종료토큰중 하나만 들어가 있는 길이를 계산해야 된다. 이유는 학습할 때는 결국 둘중 하나는 없는 데이터로 하기 때문이다.\n",
        "  - 나는 계속해서 한 개의 토큰을 제거하기전에 계산한 길이로 학습을 했기 때문에 계속해서 오류가 발생하였다."
      ],
      "metadata": {
        "id": "W-_4vO-e9fh5"
      }
    },
    {
      "cell_type": "markdown",
      "source": [
        "#### (4) 패딩"
      ],
      "metadata": {
        "id": "gKZERYRxPizN"
      }
    },
    {
      "cell_type": "code",
      "source": [
        "encoder_input = pad_sequences(encoder_input, maxlen = max_eng_seq_len, padding='post')\n",
        "decoder_input = pad_sequences(decoder_input, maxlen = max_fra_seq_len, padding='post')\n",
        "decoder_target = pad_sequences(decoder_target, maxlen = max_fra_seq_len, padding='post')\n",
        "print('영어 데이터의 크기(shape) :',np.shape(encoder_input))\n",
        "print('프랑스어 입력데이터의 크기(shape) :',np.shape(decoder_input))\n",
        "print('프랑스어 출력데이터의 크기(shape) :',np.shape(decoder_target))"
      ],
      "metadata": {
        "colab": {
          "base_uri": "https://localhost:8080/"
        },
        "id": "irW-phGgQt0-",
        "outputId": "755ae8e0-2016-4994-97d1-7e1bf449d1a2"
      },
      "execution_count": 12,
      "outputs": [
        {
          "output_type": "stream",
          "name": "stdout",
          "text": [
            "영어 데이터의 크기(shape) : (33000, 8)\n",
            "프랑스어 입력데이터의 크기(shape) : (33000, 16)\n",
            "프랑스어 출력데이터의 크기(shape) : (33000, 16)\n"
          ]
        }
      ]
    },
    {
      "cell_type": "code",
      "source": [
        "print(encoder_input[0])\n",
        "print(decoder_input[0])\n",
        "print(decoder_target[0])"
      ],
      "metadata": {
        "colab": {
          "base_uri": "https://localhost:8080/"
        },
        "id": "U_GHAmAOQ0I5",
        "outputId": "6ea0ac3a-40c7-4b8c-93d5-b0d3d35ff820"
      },
      "execution_count": 13,
      "outputs": [
        {
          "output_type": "stream",
          "name": "stdout",
          "text": [
            "[29  1  0  0  0  0  0  0]\n",
            "[ 1 75  8  0  0  0  0  0  0  0  0  0  0  0  0  0]\n",
            "[75  8  2  0  0  0  0  0  0  0  0  0  0  0  0  0]\n"
          ]
        }
      ]
    },
    {
      "cell_type": "markdown",
      "source": [
        "#### (5) 원-핫 인코딩\n",
        "-  각 정수에 대해서 벡터화 방법으로 원-핫 인코딩을 선택\n",
        "-  데이터의 크기는 (샘플의 수 × 샘플의 길이 × 단어장의 크기)가 된다.\n",
        "-  원-핫 인코딩은 각 정수를 단어장의 크기를 가지는 원-핫 벡터로 인코딩하는 과정"
      ],
      "metadata": {
        "id": "q80EGonPRTMt"
      }
    },
    {
      "cell_type": "code",
      "source": [
        "# encoder_input = to_categorical(encoder_input)\n",
        "# decoder_input = to_categorical(decoder_input)\n",
        "# decoder_target = to_categorical(decoder_target)\n",
        "# print('영어 데이터의 크기(shape) :',np.shape(encoder_input))\n",
        "# print('프랑스어 입력데이터의 크기(shape) :',np.shape(decoder_input))\n",
        "# print('프랑스어 출력데이터의 크기(shape) :',np.shape(decoder_target))"
      ],
      "metadata": {
        "id": "aW_3ROyhRwuS"
      },
      "execution_count": 14,
      "outputs": []
    },
    {
      "cell_type": "markdown",
      "source": [
        "> 단어사전이 너무 커서 세션이 계속해서 종료됨 그래서 사용하지 않기로 함"
      ],
      "metadata": {
        "id": "nD3_mX9fPpkG"
      }
    },
    {
      "cell_type": "markdown",
      "source": [
        "#### (6) 학습데이터 검증 데이터 분리"
      ],
      "metadata": {
        "id": "5vVKbi6WRyYm"
      }
    },
    {
      "cell_type": "code",
      "source": [
        "n_of_val = 3000\n",
        "\n",
        "encoder_input_train = encoder_input[:-n_of_val]\n",
        "decoder_input_train = decoder_input[:-n_of_val]\n",
        "decoder_target_train = decoder_target[:-n_of_val]\n",
        "\n",
        "encoder_input_test = encoder_input[-n_of_val:]\n",
        "decoder_input_test = decoder_input[-n_of_val:]\n",
        "decoder_target_test = decoder_target[-n_of_val:]\n",
        "\n",
        "print('영어 학습데이터의 크기(shape) :',np.shape(encoder_input_train))\n",
        "print('프랑스어 학습 입력데이터의 크기(shape) :',np.shape(decoder_input_train))\n",
        "print('프랑스어 학습 출력데이터의 크기(shape) :',np.shape(decoder_target_train))"
      ],
      "metadata": {
        "colab": {
          "base_uri": "https://localhost:8080/"
        },
        "id": "WtuI6zOfSB9d",
        "outputId": "738c6f19-7c03-4771-ccf6-3ac81d3e753b"
      },
      "execution_count": 15,
      "outputs": [
        {
          "output_type": "stream",
          "name": "stdout",
          "text": [
            "영어 학습데이터의 크기(shape) : (30000, 8)\n",
            "프랑스어 학습 입력데이터의 크기(shape) : (30000, 16)\n",
            "프랑스어 학습 출력데이터의 크기(shape) : (30000, 16)\n"
          ]
        }
      ]
    },
    {
      "cell_type": "markdown",
      "source": [
        "## 5. 임베딩 층(Embedding layer) 사용하기\n",
        "- https://wikidocs.net/33793\n",
        "- 주의할 점 : 인코더와 디코더의 임베딩 층은 서로 다른 임베딩 층을 사용해야 하지만 디코더의 훈련 과정과 테스트 과정에서의 임베딩층은 동일해야 한다."
      ],
      "metadata": {
        "id": "WHbud-WEPMnp"
      }
    },
    {
      "cell_type": "code",
      "source": [
        "from tensorflow.keras.layers import Input, LSTM, Embedding, Dense, Masking\n",
        "from tensorflow.keras.models import Model"
      ],
      "metadata": {
        "id": "JwlOWDbDneSS"
      },
      "execution_count": 16,
      "outputs": []
    },
    {
      "cell_type": "code",
      "source": [
        "embedding_dim = 128\n",
        "hidden_units = 256"
      ],
      "metadata": {
        "id": "wV7bRfbrnfB7"
      },
      "execution_count": 17,
      "outputs": []
    },
    {
      "cell_type": "code",
      "source": [
        "# 인코더\n",
        "# 입력 텐서 생성.\n",
        "encoder_inputs = Input(shape=(None,))\n",
        "\n",
        "# 임베딩 레이어 사용\n",
        "encoder_embedding = Embedding(eng_vocab_size, embedding_dim)(encoder_inputs) \n",
        "\n",
        "# 패딩 0 제외\n",
        "encoder_embedding_masking = Masking(mask_value=0.0)(encoder_embedding) \n",
        "\n",
        "# hidden size가 256인 인코더의 LSTM 셀 생성\n",
        "encoder_lstm = LSTM(hidden_units, return_state=True) \n",
        "\n",
        "# 디코더로 전달할 hidden state, cell state를 리턴. encoder_outputs은 여기서는 불필요.\n",
        "encoder_outputs, state_h, state_c = encoder_lstm(encoder_embedding_masking) \n",
        "\n",
        "# hidden state와 cell state를 다음 time step으로 전달하기 위해서 별도 저장.\n",
        "encoder_states = [state_h, state_c] "
      ],
      "metadata": {
        "id": "aR43dnB1nhzI"
      },
      "execution_count": 18,
      "outputs": []
    },
    {
      "cell_type": "code",
      "source": [
        "# 디코더\n",
        "# 입력 텐서 생성.\n",
        "decoder_inputs = Input(shape=(None,))\n",
        "\n",
        "# 임베딩 레이어 사용\n",
        "decoder_embedding_layer = Embedding(fra_vocab_size, hidden_units)\n",
        "\n",
        "decoder_embedding = decoder_embedding_layer(decoder_inputs) \n",
        "\n",
        "# 패딩 0 제외\n",
        "decoder_masking = Masking(mask_value=0.0)(decoder_embedding)\n",
        "\n",
        "# hidden size가 256인 인코더의 LSTM 셀 생성\n",
        "decoder_lstm = LSTM(hidden_units, return_sequences=True, return_state=True) \n",
        "\n",
        "# decoder_outputs는 모든 time step의 hidden state\n",
        "decoder_outputs, _, _ = decoder_lstm(decoder_masking, initial_state=encoder_states)"
      ],
      "metadata": {
        "id": "FSIJ-WkSnvxf"
      },
      "execution_count": 19,
      "outputs": []
    },
    {
      "cell_type": "code",
      "source": [
        "# 모든 시점의 결과에 대해서 소프트맥스 함수를 사용한 출력층을 통해 단어 예측\n",
        "decoder_dense = Dense(fra_vocab_size, activation='softmax')\n",
        "decoder_outputs = decoder_dense(decoder_outputs)"
      ],
      "metadata": {
        "id": "6yzdsDmioGVU"
      },
      "execution_count": 20,
      "outputs": []
    },
    {
      "cell_type": "code",
      "source": [
        "# 모델의 입력과 출력을 정의.\n",
        "model = Model([encoder_inputs, decoder_inputs], decoder_outputs)\n",
        "\n",
        "model.compile(optimizer='adam', loss='sparse_categorical_crossentropy', metrics=['accuracy'])"
      ],
      "metadata": {
        "id": "SpCS_CLMoNBL"
      },
      "execution_count": 21,
      "outputs": []
    },
    {
      "cell_type": "code",
      "source": [
        "history = model.fit(x=[encoder_input_train, decoder_input_train], y=decoder_target_train, \\\n",
        "          validation_data=([encoder_input_test, decoder_input_test], decoder_target_test),\n",
        "          batch_size=128, epochs=20)"
      ],
      "metadata": {
        "colab": {
          "base_uri": "https://localhost:8080/"
        },
        "id": "aKA5JFH-oQ4I",
        "outputId": "dfa9e18a-54b4-4d4c-c920-4b3856b4f3db"
      },
      "execution_count": 22,
      "outputs": [
        {
          "output_type": "stream",
          "name": "stdout",
          "text": [
            "Epoch 1/20\n",
            "235/235 [==============================] - 22s 41ms/step - loss: 2.3441 - accuracy: 0.6650 - val_loss: 1.9858 - val_accuracy: 0.7015\n",
            "Epoch 2/20\n",
            "235/235 [==============================] - 7s 30ms/step - loss: 1.6050 - accuracy: 0.7418 - val_loss: 1.8204 - val_accuracy: 0.7169\n",
            "Epoch 3/20\n",
            "235/235 [==============================] - 7s 31ms/step - loss: 1.4309 - accuracy: 0.7618 - val_loss: 1.6696 - val_accuracy: 0.7374\n",
            "Epoch 4/20\n",
            "235/235 [==============================] - 7s 31ms/step - loss: 1.2847 - accuracy: 0.7818 - val_loss: 1.5521 - val_accuracy: 0.7541\n",
            "Epoch 5/20\n",
            "235/235 [==============================] - 7s 31ms/step - loss: 1.1519 - accuracy: 0.8005 - val_loss: 1.4445 - val_accuracy: 0.7688\n",
            "Epoch 6/20\n",
            "235/235 [==============================] - 7s 31ms/step - loss: 1.0394 - accuracy: 0.8157 - val_loss: 1.3677 - val_accuracy: 0.7830\n",
            "Epoch 7/20\n",
            "235/235 [==============================] - 7s 31ms/step - loss: 0.9483 - accuracy: 0.8271 - val_loss: 1.3076 - val_accuracy: 0.7908\n",
            "Epoch 8/20\n",
            "235/235 [==============================] - 8s 32ms/step - loss: 0.8693 - accuracy: 0.8358 - val_loss: 1.2584 - val_accuracy: 0.7975\n",
            "Epoch 9/20\n",
            "235/235 [==============================] - 7s 31ms/step - loss: 0.8006 - accuracy: 0.8445 - val_loss: 1.2322 - val_accuracy: 0.8004\n",
            "Epoch 10/20\n",
            "235/235 [==============================] - 7s 31ms/step - loss: 0.7397 - accuracy: 0.8516 - val_loss: 1.2012 - val_accuracy: 0.8048\n",
            "Epoch 11/20\n",
            "235/235 [==============================] - 7s 30ms/step - loss: 0.6855 - accuracy: 0.8580 - val_loss: 1.1756 - val_accuracy: 0.8098\n",
            "Epoch 12/20\n",
            "235/235 [==============================] - 7s 30ms/step - loss: 0.6357 - accuracy: 0.8641 - val_loss: 1.1636 - val_accuracy: 0.8117\n",
            "Epoch 13/20\n",
            "235/235 [==============================] - 7s 30ms/step - loss: 0.5894 - accuracy: 0.8705 - val_loss: 1.1452 - val_accuracy: 0.8144\n",
            "Epoch 14/20\n",
            "235/235 [==============================] - 7s 30ms/step - loss: 0.5464 - accuracy: 0.8770 - val_loss: 1.1374 - val_accuracy: 0.8162\n",
            "Epoch 15/20\n",
            "235/235 [==============================] - 7s 31ms/step - loss: 0.5069 - accuracy: 0.8831 - val_loss: 1.1222 - val_accuracy: 0.8188\n",
            "Epoch 16/20\n",
            "235/235 [==============================] - 7s 30ms/step - loss: 0.4692 - accuracy: 0.8895 - val_loss: 1.1183 - val_accuracy: 0.8200\n",
            "Epoch 17/20\n",
            "235/235 [==============================] - 7s 30ms/step - loss: 0.4343 - accuracy: 0.8958 - val_loss: 1.1137 - val_accuracy: 0.8207\n",
            "Epoch 18/20\n",
            "235/235 [==============================] - 7s 30ms/step - loss: 0.4015 - accuracy: 0.9018 - val_loss: 1.1058 - val_accuracy: 0.8239\n",
            "Epoch 19/20\n",
            "235/235 [==============================] - 7s 31ms/step - loss: 0.3708 - accuracy: 0.9079 - val_loss: 1.1023 - val_accuracy: 0.8231\n",
            "Epoch 20/20\n",
            "235/235 [==============================] - 7s 31ms/step - loss: 0.3428 - accuracy: 0.9138 - val_loss: 1.0985 - val_accuracy: 0.8257\n"
          ]
        }
      ]
    },
    {
      "cell_type": "code",
      "source": [
        "import matplotlib.pyplot as plt\n",
        "\n",
        "history_dict = history.history\n",
        "\n",
        "acc = history_dict['accuracy']\n",
        "val_acc = history_dict['val_accuracy']\n",
        "loss = history_dict['loss']\n",
        "val_loss = history_dict['val_loss']\n",
        "\n",
        "epochs = range(1, len(acc) + 1)\n",
        "\n",
        "f, ax = plt.subplots(1,2,figsize=(16,8))\n",
        "\n",
        "ax[0].plot(epochs, loss, 'r', label='Training loss')\n",
        "ax[0].plot(epochs, val_loss, 'b', label='Validation loss')\n",
        "ax[0].set_title('Training and validation loss')\n",
        "ax[0].set_xlabel('Epochs')\n",
        "ax[0].set_ylabel('Loss')\n",
        "ax[0].legend()\n",
        "\n",
        "\n",
        "ax[1].plot(epochs, acc, 'r', label='Training acc')\n",
        "ax[1].plot(epochs, val_acc, 'b', label='Validation acc')\n",
        "ax[1].set_title('Training and validation accuracy')\n",
        "ax[1].set_xlabel('Epochs')\n",
        "ax[1].set_ylabel('Accuracy')\n",
        "ax[1].legend()\n",
        "\n",
        "plt.show()"
      ],
      "metadata": {
        "colab": {
          "base_uri": "https://localhost:8080/",
          "height": 513
        },
        "id": "YJiQ-jV6xR96",
        "outputId": "95552441-8f32-4079-b965-9609d65348db"
      },
      "execution_count": 23,
      "outputs": [
        {
          "output_type": "display_data",
          "data": {
            "text/plain": [
              "<Figure size 1152x576 with 2 Axes>"
            ],
            "image/png": "[encoded data removed]"
          },
          "metadata": {
            "needs_background": "light"
          }
        }
      ]
    },
    {
      "cell_type": "code",
      "source": [
        "encoder_model = Model(inputs = encoder_inputs, outputs = encoder_states)\n",
        "encoder_model.summary()"
      ],
      "metadata": {
        "colab": {
          "base_uri": "https://localhost:8080/"
        },
        "id": "bFolTGSq2yv1",
        "outputId": "b249ab73-c2da-4347-9188-00360c59cdc6"
      },
      "execution_count": 24,
      "outputs": [
        {
          "output_type": "stream",
          "name": "stdout",
          "text": [
            "Model: \"model_1\"\n",
            "_________________________________________________________________\n",
            " Layer (type)                Output Shape              Param #   \n",
            "=================================================================\n",
            " input_1 (InputLayer)        [(None, None)]            0         \n",
            "                                                                 \n",
            " embedding (Embedding)       (None, None, 128)         598144    \n",
            "                                                                 \n",
            " masking (Masking)           (None, None, 128)         0         \n",
            "                                                                 \n",
            " lstm (LSTM)                 [(None, 256),             394240    \n",
            "                              (None, 256),                       \n",
            "                              (None, 256)]                       \n",
            "                                                                 \n",
            "=================================================================\n",
            "Total params: 992,384\n",
            "Trainable params: 992,384\n",
            "Non-trainable params: 0\n",
            "_________________________________________________________________\n"
          ]
        }
      ]
    },
    {
      "cell_type": "code",
      "source": [
        "# 이전 time step의 hidden state를 저장하는 텐서\n",
        "decoder_state_input_h = Input(shape=(hidden_units,))\n",
        "# 이전 time step의 cell state를 저장하는 텐서\n",
        "decoder_state_input_c = Input(shape=(hidden_units,))\n",
        "# 이전 time step의 hidden state와 cell state를 하나의 변수에 저장\n",
        "decoder_states_inputs = [decoder_state_input_h, decoder_state_input_c]\n",
        "\n",
        "# 임베딩 레이어 문제인듯 한데\n",
        "decoder_embedding2 = decoder_embedding_layer(decoder_inputs) \n",
        "\n",
        "decoder_outputs2, state_h2, state_c2 = decoder_lstm(decoder_embedding2, initial_state = decoder_states_inputs)\n",
        "\n",
        "# 현재 time step의 hidden state와 cell state를 하나의 변수에 저장.\n",
        "decoder_states2 = [state_h2, state_c2]"
      ],
      "metadata": {
        "id": "v3QKlZma204p"
      },
      "execution_count": 25,
      "outputs": []
    },
    {
      "cell_type": "markdown",
      "source": [
        "- 무슨 일인지 mask값과 그냥 decoder_inputs은 오류가 생김"
      ],
      "metadata": {
        "id": "i8K3nXrUFDVv"
      }
    },
    {
      "cell_type": "code",
      "source": [
        "decoder_outputs2 = decoder_dense(decoder_outputs2)\n",
        "decoder_model = Model(inputs=[decoder_inputs] + decoder_states_inputs, outputs=[decoder_outputs2] + decoder_states2)\n",
        "decoder_model.summary()"
      ],
      "metadata": {
        "colab": {
          "base_uri": "https://localhost:8080/"
        },
        "id": "343YFf9l_VDC",
        "outputId": "47157cc6-cd71-4b16-8e83-8e5fb6c58d97"
      },
      "execution_count": 26,
      "outputs": [
        {
          "output_type": "stream",
          "name": "stdout",
          "text": [
            "Model: \"model_2\"\n",
            "__________________________________________________________________________________________________\n",
            " Layer (type)                   Output Shape         Param #     Connected to                     \n",
            "==================================================================================================\n",
            " input_2 (InputLayer)           [(None, None)]       0           []                               \n",
            "                                                                                                  \n",
            " embedding_1 (Embedding)        (None, None, 256)    1910272     ['input_2[0][0]']                \n",
            "                                                                                                  \n",
            " input_3 (InputLayer)           [(None, 256)]        0           []                               \n",
            "                                                                                                  \n",
            " input_4 (InputLayer)           [(None, 256)]        0           []                               \n",
            "                                                                                                  \n",
            " lstm_1 (LSTM)                  [(None, None, 256),  525312      ['embedding_1[1][0]',            \n",
            "                                 (None, 256),                     'input_3[0][0]',                \n",
            "                                 (None, 256)]                     'input_4[0][0]']                \n",
            "                                                                                                  \n",
            " dense (Dense)                  (None, None, 7462)   1917734     ['lstm_1[1][0]']                 \n",
            "                                                                                                  \n",
            "==================================================================================================\n",
            "Total params: 4,353,318\n",
            "Trainable params: 4,353,318\n",
            "Non-trainable params: 0\n",
            "__________________________________________________________________________________________________\n"
          ]
        }
      ]
    },
    {
      "cell_type": "code",
      "source": [
        "eng2idx = eng_tokenizer.word_index\n",
        "fra2idx = fra_tokenizer.word_index\n",
        "idx2eng = eng_tokenizer.index_word\n",
        "idx2fra = fra_tokenizer.index_word"
      ],
      "metadata": {
        "id": "aBhTURzFAeoC"
      },
      "execution_count": 27,
      "outputs": []
    },
    {
      "cell_type": "code",
      "source": [
        "def decode_sequence(input_seq):\n",
        "  # 입력으로부터 인코더의 마지막 시점의 상태(은닉 상태, 셀 상태)를 얻음\n",
        "  states_value = encoder_model.predict(input_seq)\n",
        "\n",
        "  # <SOS>에 해당하는 정수 생성\n",
        "  target_seq = np.zeros((1,1))\n",
        "  target_seq[0, 0] = fra2idx['\\t']\n",
        "\n",
        "  stop_condition = False\n",
        "  decoded_sentence = ''\n",
        "\n",
        "  # stop_condition이 True가 될 때까지 루프 반복\n",
        "  # 구현의 간소화를 위해서 이 함수는 배치 크기를 1로 가정합니다.\n",
        "  while not stop_condition:\n",
        "    # 이점 시점의 상태 states_value를 현 시점의 초기 상태로 사용\n",
        "    output_tokens, h, c = decoder_model.predict([target_seq] + states_value)\n",
        "\n",
        "    # 예측 결과를 단어로 변환\n",
        "    sampled_token_index = np.argmax(output_tokens[0, -1, :])\n",
        "    sampled_char = idx2fra[sampled_token_index]\n",
        "\n",
        "    # 현재 시점의 예측 단어를 예측 문장에 추가\n",
        "    decoded_sentence += ' '+sampled_char\n",
        "\n",
        "    # <eos>에 도달하거나 정해진 길이를 넘으면 중단.\n",
        "    if (sampled_char == '\\n' or\n",
        "        len(decoded_sentence) > 50):\n",
        "        stop_condition = True\n",
        "\n",
        "    # 현재 시점의 예측 결과를 다음 시점의 입력으로 사용하기 위해 저장\n",
        "    target_seq = np.zeros((1,1))\n",
        "    target_seq[0, 0] = sampled_token_index\n",
        "\n",
        "    # 현재 시점의 상태를 다음 시점의 상태로 사용하기 위해 저장\n",
        "    states_value = [h, c]\n",
        "\n",
        "  return decoded_sentence"
      ],
      "metadata": {
        "id": "b8Nl30oNRBn7"
      },
      "execution_count": 28,
      "outputs": []
    },
    {
      "cell_type": "code",
      "source": [
        "# 원문의 정수 시퀀스를 텍스트 시퀀스로 변환\n",
        "def seq_to_src(input_seq):\n",
        "  sentence = ''\n",
        "  for encoded_word in input_seq:\n",
        "    if(encoded_word != 0):\n",
        "      sentence = sentence + idx2eng[encoded_word] + ' '\n",
        "  return sentence\n",
        "\n",
        "# 번역문의 정수 시퀀스를 텍스트 시퀀스로 변환\n",
        "def seq_to_tar(input_seq):\n",
        "  sentence = ''\n",
        "  for encoded_word in input_seq:\n",
        "    if(encoded_word != 0 and encoded_word != fra2idx['\\t'] and encoded_word != fra2idx['\\n']):\n",
        "      sentence = sentence + idx2fra[encoded_word] + ' '\n",
        "  return sentence"
      ],
      "metadata": {
        "id": "bms6U5guQht1"
      },
      "execution_count": 29,
      "outputs": []
    },
    {
      "cell_type": "code",
      "source": [
        "# 출력 결과 테스트하기\n",
        "import numpy as np\n",
        "\n",
        "for seq_index in [3,50,100,300,1001]:\n",
        "  input_seq = encoder_input_train[seq_index: seq_index + 1]\n",
        "  decoded_sentence = decode_sequence(input_seq)\n",
        "  print(\"입력문장 :\",seq_to_src(encoder_input_train[seq_index]))\n",
        "  print(\"정답문장 :\",seq_to_tar(decoder_input_train[seq_index]))\n",
        "  print(\"번역문장 :\",decoded_sentence[1:-5])\n",
        "  print(\"-\"*50)"
      ],
      "metadata": {
        "id": "vbfIzUn9Q3dp",
        "colab": {
          "base_uri": "https://localhost:8080/"
        },
        "outputId": "84d7882a-1041-4c46-f084-0cf3a0dd7b33"
      },
      "execution_count": 30,
      "outputs": [
        {
          "output_type": "stream",
          "name": "stdout",
          "text": [
            "입력문장 : hi . \n",
            "정답문장 : salut ! \n",
            "번역문장 : salu\n",
            "--------------------------------------------------\n",
            "입력문장 : hello ! \n",
            "정답문장 : salut ! \n",
            "번역문장 : relax\n",
            "--------------------------------------------------\n",
            "입력문장 : hop in . \n",
            "정답문장 : montez . \n",
            "번역문장 : monte\n",
            "--------------------------------------------------\n",
            "입력문장 : help me ! \n",
            "정답문장 : aide moi ! \n",
            "번역문장 : aide mo\n",
            "--------------------------------------------------\n",
            "입력문장 : humor tom . \n",
            "정답문장 : mettez tom de bonne humeur . \n",
            "번역문장 : nettoyez to\n",
            "--------------------------------------------------\n"
          ]
        }
      ]
    },
    {
      "cell_type": "code",
      "source": [
        "for seq_index in [5, 30, 100, 370, 700]:\n",
        "  input_seq = encoder_input_test[seq_index: seq_index + 1]\n",
        "  decoded_sentence = decode_sequence(input_seq)\n",
        "\n",
        "  print(\"입력문장 :\",seq_to_src(encoder_input_test[seq_index]))\n",
        "  print(\"정답문장 :\",seq_to_tar(decoder_input_test[seq_index]))\n",
        "  print(\"번역문장 :\",decoded_sentence[1:-5])\n",
        "  print(\"-\"*50)"
      ],
      "metadata": {
        "colab": {
          "base_uri": "https://localhost:8080/"
        },
        "id": "YSlDgLQK9N0V",
        "outputId": "ecbe9363-ca85-407e-c0f0-49bb8d0f970d"
      },
      "execution_count": 37,
      "outputs": [
        {
          "output_type": "stream",
          "name": "stdout",
          "text": [
            "입력문장 : i want to be clear . \n",
            "정답문장 : je veux tre clair . \n",
            "번역문장 : je veux que je te voir \n",
            "--------------------------------------------------\n",
            "입력문장 : i want to sit down . \n",
            "정답문장 : je veux m asseoir . \n",
            "번역문장 : je veux que vous en m m\n",
            "--------------------------------------------------\n",
            "입력문장 : i was very nervous . \n",
            "정답문장 : j tais tr s nerveuse . \n",
            "번역문장 : j tais tr s bie\n",
            "--------------------------------------------------\n",
            "입력문장 : i m not photogenic . \n",
            "정답문장 : je ne suis pas photog nique . \n",
            "번역문장 : je ne suis pas enseignan\n",
            "--------------------------------------------------\n",
            "입력문장 : it s a bad example . \n",
            "정답문장 : c est un mauvais exemple . \n",
            "번역문장 : c est un mauvais gar o\n",
            "--------------------------------------------------\n"
          ]
        }
      ]
    },
    {
      "cell_type": "markdown",
      "source": [
        "- 이 에러 레이어층을 건들여야 될 듯하다 그러려면 모델에 대한 개념의 깊은 이해도가 필요할 것 같다."
      ],
      "metadata": {
        "id": "LLusF9LVWu72"
      }
    },
    {
      "cell_type": "markdown",
      "source": [
        "## 6. 모델 구현하기"
      ],
      "metadata": {
        "id": "w2Lh40laPlEb"
      }
    },
    {
      "cell_type": "markdown",
      "source": [
        "## 7. 모델 평가하기"
      ],
      "metadata": {
        "id": "2ZhttEflPnm4"
      }
    },
    {
      "cell_type": "markdown",
      "source": [
        "## 8. 회고"
      ],
      "metadata": {
        "id": "XUXLh4oIP3Eg"
      }
    },
    {
      "cell_type": "code",
      "source": [
        ""
      ],
      "metadata": {
        "id": "DkNIHM4gOZBA"
      },
      "execution_count": 31,
      "outputs": []
    },
    {
      "cell_type": "code",
      "source": [
        ""
      ],
      "metadata": {
        "id": "HcrzNU_m1UT_"
      },
      "execution_count": 31,
      "outputs": []
    },
    {
      "cell_type": "markdown",
      "source": [
        "![image.png](data:image/png;base64,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)"
      ],
      "metadata": {
        "id": "M5k0z2DOQa7b"
      }
    },
    {
      "cell_type": "code",
      "source": [
        ""
      ],
      "metadata": {
        "id": "EAY75q8jQbZ3"
      },
      "execution_count": 31,
      "outputs": []
    }
  ]
}