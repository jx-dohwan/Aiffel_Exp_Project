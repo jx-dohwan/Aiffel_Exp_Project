{
  "nbformat": 4,
  "nbformat_minor": 0,
  "metadata": {
    "colab": {
      "name": "[Exp_10]Let's make a translator.ipynb",
      "provenance": [],
      "machine_shape": "hm",
      "collapsed_sections": [],
      "mount_file_id": "1mtGZgcWe70hKUvac6b1ckhNaC5500waF",
      "authorship_tag": "ABX9TyMcMAqy6FoZ6isVW1jY4hNZ",
      "include_colab_link": true
    },
    "kernelspec": {
      "name": "python3",
      "display_name": "Python 3"
    },
    "language_info": {
      "name": "python"
    },
    "accelerator": "GPU",
    "gpuClass": "standard"
  },
  "cells": [
    {
      "cell_type": "markdown",
      "metadata": {
        "id": "view-in-github",
        "colab_type": "text"
      },
      "source": [
        "<a href=\"https://colab.research.google.com/github/jx-dohwan/Aiffel_EGLMS_Project/blob/main/%5BExp_10%5DLet's_make_a_translator.ipynb\" target=\"_parent\"><img src=\"https://colab.research.google.com/assets/colab-badge.svg\" alt=\"Open In Colab\"/></a>"
      ]
    },
    {
      "cell_type": "markdown",
      "source": [
        "# [Exp_10]Let's make a translator"
      ],
      "metadata": {
        "id": "0OfSZdM4Mrza"
      }
    },
    {
      "cell_type": "markdown",
      "source": [
        "## 1.import 및 데이터로드"
      ],
      "metadata": {
        "id": "DXiImQPJNCbN"
      }
    },
    {
      "cell_type": "code",
      "source": [
        "# !apt install --allow-change-held-packages libcudnn8=8.1.0.77-1+cuda11.2\n",
        "# !pip install --upgrade tensorflow"
      ],
      "metadata": {
        "id": "s1uSFQ4bR8-F"
      },
      "execution_count": null,
      "outputs": []
    },
    {
      "cell_type": "markdown",
      "source": [
        "### 1) Import"
      ],
      "metadata": {
        "id": "x9Dga069Ob7g"
      }
    },
    {
      "cell_type": "code",
      "execution_count": null,
      "metadata": {
        "id": "kINFmb9NMkl3"
      },
      "outputs": [],
      "source": [
        "import pandas as pd\n",
        "from tensorflow.keras.preprocessing.text import Tokenizer\n",
        "from tensorflow.keras.preprocessing.sequence import pad_sequences\n",
        "from tensorflow.keras.utils import to_categorical\n",
        "import numpy as np\n",
        "from tensorflow.keras.layers import Input, LSTM, Embedding, Dense, Masking\n",
        "from tensorflow.keras.models import Sequential\n",
        "from tensorflow.keras.models import Model\n",
        "import tensorflow as tf\n",
        "import matplotlib.pyplot as plt"
      ]
    },
    {
      "cell_type": "markdown",
      "source": [
        "### 2) 데이터로드"
      ],
      "metadata": {
        "id": "euHg1pV6OdvM"
      }
    },
    {
      "cell_type": "code",
      "source": [
        "file_path = \"/content/drive/MyDrive/인공지능/아이펠/ES/data/translator_seq2seq/fra.txt\"\n",
        "lines = pd.read_csv(file_path, names=['eng', 'fra', 'cc'], sep='\\t')\n",
        "print('전체 샘플수:',len(lines))\n",
        "lines.sample(5)"
      ],
      "metadata": {
        "colab": {
          "base_uri": "https://localhost:8080/",
          "height": 225
        },
        "id": "EXGCZVPZNVzq",
        "outputId": "be7c7433-c29a-4433-aa8d-df267d3829f4"
      },
      "execution_count": null,
      "outputs": [
        {
          "output_type": "stream",
          "name": "stdout",
          "text": [
            "전체 샘플수: 194513\n"
          ]
        },
        {
          "output_type": "execute_result",
          "data": {
            "text/plain": [
              "                                     eng  \\\n",
              "39166               We're finally alone.   \n",
              "60433            Who else went with Tom?   \n",
              "119701   You look good in those clothes.   \n",
              "61383           Are you sure it was Tom?   \n",
              "120193  Be careful. That knife is sharp.   \n",
              "\n",
              "                                           fra  \\\n",
              "39166                 Nous sommes enfin seuls.   \n",
              "60433          Qui d'autre est allé avec Tom ?   \n",
              "119701  Tu as belle allure dans ces vêtements.   \n",
              "61383              Es-tu sûr que c'était Tom ?   \n",
              "120193   Sois prudent. Ce couteau est aiguisé.   \n",
              "\n",
              "                                                       cc  \n",
              "39166   CC-BY 2.0 (France) Attribution: tatoeba.org #3...  \n",
              "60433   CC-BY 2.0 (France) Attribution: tatoeba.org #6...  \n",
              "119701  CC-BY 2.0 (France) Attribution: tatoeba.org #1...  \n",
              "61383   CC-BY 2.0 (France) Attribution: tatoeba.org #2...  \n",
              "120193  CC-BY 2.0 (France) Attribution: tatoeba.org #6...  "
            ],
            "text/html": [
              "\n",
              "  <div id=\"df-6b750680-1a50-4d05-b393-9e17e27f8a9e\">\n",
              "    <div class=\"colab-df-container\">\n",
              "      <div>\n",
              "<style scoped>\n",
              "    .dataframe tbody tr th:only-of-type {\n",
              "        vertical-align: middle;\n",
              "    }\n",
              "\n",
              "    .dataframe tbody tr th {\n",
              "        vertical-align: top;\n",
              "    }\n",
              "\n",
              "    .dataframe thead th {\n",
              "        text-align: right;\n",
              "    }\n",
              "</style>\n",
              "<table border=\"1\" class=\"dataframe\">\n",
              "  <thead>\n",
              "    <tr style=\"text-align: right;\">\n",
              "      <th></th>\n",
              "      <th>eng</th>\n",
              "      <th>fra</th>\n",
              "      <th>cc</th>\n",
              "    </tr>\n",
              "  </thead>\n",
              "  <tbody>\n",
              "    <tr>\n",
              "      <th>39166</th>\n",
              "      <td>We're finally alone.</td>\n",
              "      <td>Nous sommes enfin seuls.</td>\n",
              "      <td>CC-BY 2.0 (France) Attribution: tatoeba.org #3...</td>\n",
              "    </tr>\n",
              "    <tr>\n",
              "      <th>60433</th>\n",
              "      <td>Who else went with Tom?</td>\n",
              "      <td>Qui d'autre est allé avec Tom ?</td>\n",
              "      <td>CC-BY 2.0 (France) Attribution: tatoeba.org #6...</td>\n",
              "    </tr>\n",
              "    <tr>\n",
              "      <th>119701</th>\n",
              "      <td>You look good in those clothes.</td>\n",
              "      <td>Tu as belle allure dans ces vêtements.</td>\n",
              "      <td>CC-BY 2.0 (France) Attribution: tatoeba.org #1...</td>\n",
              "    </tr>\n",
              "    <tr>\n",
              "      <th>61383</th>\n",
              "      <td>Are you sure it was Tom?</td>\n",
              "      <td>Es-tu sûr que c'était Tom ?</td>\n",
              "      <td>CC-BY 2.0 (France) Attribution: tatoeba.org #2...</td>\n",
              "    </tr>\n",
              "    <tr>\n",
              "      <th>120193</th>\n",
              "      <td>Be careful. That knife is sharp.</td>\n",
              "      <td>Sois prudent. Ce couteau est aiguisé.</td>\n",
              "      <td>CC-BY 2.0 (France) Attribution: tatoeba.org #6...</td>\n",
              "    </tr>\n",
              "  </tbody>\n",
              "</table>\n",
              "</div>\n",
              "      <button class=\"colab-df-convert\" onclick=\"convertToInteractive('df-6b750680-1a50-4d05-b393-9e17e27f8a9e')\"\n",
              "              title=\"Convert this dataframe to an interactive table.\"\n",
              "              style=\"display:none;\">\n",
              "        \n",
              "  <svg xmlns=\"http://www.w3.org/2000/svg\" height=\"24px\"viewBox=\"0 0 24 24\"\n",
              "       width=\"24px\">\n",
              "    <path d=\"M0 0h24v24H0V0z\" fill=\"none\"/>\n",
              "    <path d=\"M18.56 5.44l.94 2.06.94-2.06 2.06-.94-2.06-.94-.94-2.06-.94 2.06-2.06.94zm-11 1L8.5 8.5l.94-2.06 2.06-.94-2.06-.94L8.5 2.5l-.94 2.06-2.06.94zm10 10l.94 2.06.94-2.06 2.06-.94-2.06-.94-.94-2.06-.94 2.06-2.06.94z\"/><path d=\"M17.41 7.96l-1.37-1.37c-.4-.4-.92-.59-1.43-.59-.52 0-1.04.2-1.43.59L10.3 9.45l-7.72 7.72c-.78.78-.78 2.05 0 2.83L4 21.41c.39.39.9.59 1.41.59.51 0 1.02-.2 1.41-.59l7.78-7.78 2.81-2.81c.8-.78.8-2.07 0-2.86zM5.41 20L4 18.59l7.72-7.72 1.47 1.35L5.41 20z\"/>\n",
              "  </svg>\n",
              "      </button>\n",
              "      \n",
              "  <style>\n",
              "    .colab-df-container {\n",
              "      display:flex;\n",
              "      flex-wrap:wrap;\n",
              "      gap: 12px;\n",
              "    }\n",
              "\n",
              "    .colab-df-convert {\n",
              "      background-color: #E8F0FE;\n",
              "      border: none;\n",
              "      border-radius: 50%;\n",
              "      cursor: pointer;\n",
              "      display: none;\n",
              "      fill: #1967D2;\n",
              "      height: 32px;\n",
              "      padding: 0 0 0 0;\n",
              "      width: 32px;\n",
              "    }\n",
              "\n",
              "    .colab-df-convert:hover {\n",
              "      background-color: #E2EBFA;\n",
              "      box-shadow: 0px 1px 2px rgba(60, 64, 67, 0.3), 0px 1px 3px 1px rgba(60, 64, 67, 0.15);\n",
              "      fill: #174EA6;\n",
              "    }\n",
              "\n",
              "    [theme=dark] .colab-df-convert {\n",
              "      background-color: #3B4455;\n",
              "      fill: #D2E3FC;\n",
              "    }\n",
              "\n",
              "    [theme=dark] .colab-df-convert:hover {\n",
              "      background-color: #434B5C;\n",
              "      box-shadow: 0px 1px 3px 1px rgba(0, 0, 0, 0.15);\n",
              "      filter: drop-shadow(0px 1px 2px rgba(0, 0, 0, 0.3));\n",
              "      fill: #FFFFFF;\n",
              "    }\n",
              "  </style>\n",
              "\n",
              "      <script>\n",
              "        const buttonEl =\n",
              "          document.querySelector('#df-6b750680-1a50-4d05-b393-9e17e27f8a9e button.colab-df-convert');\n",
              "        buttonEl.style.display =\n",
              "          google.colab.kernel.accessAllowed ? 'block' : 'none';\n",
              "\n",
              "        async function convertToInteractive(key) {\n",
              "          const element = document.querySelector('#df-6b750680-1a50-4d05-b393-9e17e27f8a9e');\n",
              "          const dataTable =\n",
              "            await google.colab.kernel.invokeFunction('convertToInteractive',\n",
              "                                                     [key], {});\n",
              "          if (!dataTable) return;\n",
              "\n",
              "          const docLinkHtml = 'Like what you see? Visit the ' +\n",
              "            '<a target=\"_blank\" href=https://colab.research.google.com/notebooks/data_table.ipynb>data table notebook</a>'\n",
              "            + ' to learn more about interactive tables.';\n",
              "          element.innerHTML = '';\n",
              "          dataTable['output_type'] = 'display_data';\n",
              "          await google.colab.output.renderOutput(dataTable, element);\n",
              "          const docLink = document.createElement('div');\n",
              "          docLink.innerHTML = docLinkHtml;\n",
              "          element.appendChild(docLink);\n",
              "        }\n",
              "      </script>\n",
              "    </div>\n",
              "  </div>\n",
              "  "
            ]
          },
          "metadata": {},
          "execution_count": 3
        }
      ]
    },
    {
      "cell_type": "markdown",
      "source": [
        "\n",
        "데이터에서 상위 33,000개의 샘플만 사용해주세요.\n",
        "\n",
        "33000개 중 3000개는 테스트 데이터로 분리하여 모델을 학습한 후에 번역을 테스트 하는 용도로 사용합니다"
      ],
      "metadata": {
        "id": "yVsuelXtOQH4"
      }
    },
    {
      "cell_type": "code",
      "source": [
        "lines = lines[['eng', 'fra']][:33000]\n",
        "lines.sample(5)"
      ],
      "metadata": {
        "colab": {
          "base_uri": "https://localhost:8080/",
          "height": 206
        },
        "id": "QqlgcnlMN_jT",
        "outputId": "c802017e-b13e-4ae0-e002-18be6127783d"
      },
      "execution_count": null,
      "outputs": [
        {
          "output_type": "execute_result",
          "data": {
            "text/plain": [
              "                      eng                          fra\n",
              "171              Be nice.            Soyez gentilles !\n",
              "13752    How old are you?             Quel âge as-tu ?\n",
              "13663    He's a southpaw.            C'est un gaucher.\n",
              "27491  You can have both.  Vous pouvez avoir les deux.\n",
              "27231  Where did they go?         Où sont-ils passés ?"
            ],
            "text/html": [
              "\n",
              "  <div id=\"df-396942e6-6347-4f7c-a3b1-fd153f14c510\">\n",
              "    <div class=\"colab-df-container\">\n",
              "      <div>\n",
              "<style scoped>\n",
              "    .dataframe tbody tr th:only-of-type {\n",
              "        vertical-align: middle;\n",
              "    }\n",
              "\n",
              "    .dataframe tbody tr th {\n",
              "        vertical-align: top;\n",
              "    }\n",
              "\n",
              "    .dataframe thead th {\n",
              "        text-align: right;\n",
              "    }\n",
              "</style>\n",
              "<table border=\"1\" class=\"dataframe\">\n",
              "  <thead>\n",
              "    <tr style=\"text-align: right;\">\n",
              "      <th></th>\n",
              "      <th>eng</th>\n",
              "      <th>fra</th>\n",
              "    </tr>\n",
              "  </thead>\n",
              "  <tbody>\n",
              "    <tr>\n",
              "      <th>171</th>\n",
              "      <td>Be nice.</td>\n",
              "      <td>Soyez gentilles !</td>\n",
              "    </tr>\n",
              "    <tr>\n",
              "      <th>13752</th>\n",
              "      <td>How old are you?</td>\n",
              "      <td>Quel âge as-tu ?</td>\n",
              "    </tr>\n",
              "    <tr>\n",
              "      <th>13663</th>\n",
              "      <td>He's a southpaw.</td>\n",
              "      <td>C'est un gaucher.</td>\n",
              "    </tr>\n",
              "    <tr>\n",
              "      <th>27491</th>\n",
              "      <td>You can have both.</td>\n",
              "      <td>Vous pouvez avoir les deux.</td>\n",
              "    </tr>\n",
              "    <tr>\n",
              "      <th>27231</th>\n",
              "      <td>Where did they go?</td>\n",
              "      <td>Où sont-ils passés ?</td>\n",
              "    </tr>\n",
              "  </tbody>\n",
              "</table>\n",
              "</div>\n",
              "      <button class=\"colab-df-convert\" onclick=\"convertToInteractive('df-396942e6-6347-4f7c-a3b1-fd153f14c510')\"\n",
              "              title=\"Convert this dataframe to an interactive table.\"\n",
              "              style=\"display:none;\">\n",
              "        \n",
              "  <svg xmlns=\"http://www.w3.org/2000/svg\" height=\"24px\"viewBox=\"0 0 24 24\"\n",
              "       width=\"24px\">\n",
              "    <path d=\"M0 0h24v24H0V0z\" fill=\"none\"/>\n",
              "    <path d=\"M18.56 5.44l.94 2.06.94-2.06 2.06-.94-2.06-.94-.94-2.06-.94 2.06-2.06.94zm-11 1L8.5 8.5l.94-2.06 2.06-.94-2.06-.94L8.5 2.5l-.94 2.06-2.06.94zm10 10l.94 2.06.94-2.06 2.06-.94-2.06-.94-.94-2.06-.94 2.06-2.06.94z\"/><path d=\"M17.41 7.96l-1.37-1.37c-.4-.4-.92-.59-1.43-.59-.52 0-1.04.2-1.43.59L10.3 9.45l-7.72 7.72c-.78.78-.78 2.05 0 2.83L4 21.41c.39.39.9.59 1.41.59.51 0 1.02-.2 1.41-.59l7.78-7.78 2.81-2.81c.8-.78.8-2.07 0-2.86zM5.41 20L4 18.59l7.72-7.72 1.47 1.35L5.41 20z\"/>\n",
              "  </svg>\n",
              "      </button>\n",
              "      \n",
              "  <style>\n",
              "    .colab-df-container {\n",
              "      display:flex;\n",
              "      flex-wrap:wrap;\n",
              "      gap: 12px;\n",
              "    }\n",
              "\n",
              "    .colab-df-convert {\n",
              "      background-color: #E8F0FE;\n",
              "      border: none;\n",
              "      border-radius: 50%;\n",
              "      cursor: pointer;\n",
              "      display: none;\n",
              "      fill: #1967D2;\n",
              "      height: 32px;\n",
              "      padding: 0 0 0 0;\n",
              "      width: 32px;\n",
              "    }\n",
              "\n",
              "    .colab-df-convert:hover {\n",
              "      background-color: #E2EBFA;\n",
              "      box-shadow: 0px 1px 2px rgba(60, 64, 67, 0.3), 0px 1px 3px 1px rgba(60, 64, 67, 0.15);\n",
              "      fill: #174EA6;\n",
              "    }\n",
              "\n",
              "    [theme=dark] .colab-df-convert {\n",
              "      background-color: #3B4455;\n",
              "      fill: #D2E3FC;\n",
              "    }\n",
              "\n",
              "    [theme=dark] .colab-df-convert:hover {\n",
              "      background-color: #434B5C;\n",
              "      box-shadow: 0px 1px 3px 1px rgba(0, 0, 0, 0.15);\n",
              "      filter: drop-shadow(0px 1px 2px rgba(0, 0, 0, 0.3));\n",
              "      fill: #FFFFFF;\n",
              "    }\n",
              "  </style>\n",
              "\n",
              "      <script>\n",
              "        const buttonEl =\n",
              "          document.querySelector('#df-396942e6-6347-4f7c-a3b1-fd153f14c510 button.colab-df-convert');\n",
              "        buttonEl.style.display =\n",
              "          google.colab.kernel.accessAllowed ? 'block' : 'none';\n",
              "\n",
              "        async function convertToInteractive(key) {\n",
              "          const element = document.querySelector('#df-396942e6-6347-4f7c-a3b1-fd153f14c510');\n",
              "          const dataTable =\n",
              "            await google.colab.kernel.invokeFunction('convertToInteractive',\n",
              "                                                     [key], {});\n",
              "          if (!dataTable) return;\n",
              "\n",
              "          const docLinkHtml = 'Like what you see? Visit the ' +\n",
              "            '<a target=\"_blank\" href=https://colab.research.google.com/notebooks/data_table.ipynb>data table notebook</a>'\n",
              "            + ' to learn more about interactive tables.';\n",
              "          element.innerHTML = '';\n",
              "          dataTable['output_type'] = 'display_data';\n",
              "          await google.colab.output.renderOutput(dataTable, element);\n",
              "          const docLink = document.createElement('div');\n",
              "          docLink.innerHTML = docLinkHtml;\n",
              "          element.appendChild(docLink);\n",
              "        }\n",
              "      </script>\n",
              "    </div>\n",
              "  </div>\n",
              "  "
            ]
          },
          "metadata": {},
          "execution_count": 4
        }
      ]
    },
    {
      "cell_type": "markdown",
      "source": [
        "## 2. 데이터 전처리 작업\n"
      ],
      "metadata": {
        "id": "X4mKUfz_Osfj"
      }
    },
    {
      "cell_type": "markdown",
      "source": [
        "### 1)  정제, 정규화 & 케라스의 토크나이저로 텍스트를 숫자로 & 디코더 문장에 시작 토큰과 종료 토큰 입력\n",
        "\n",
        "- 구두점(Punctuation)을 단어와 분리\n",
        "- 소문자로 change\n",
        "- 띄어쓰기 단위로 토큰을 수행\n",
        "  - (토크나이저에 옵션을 줌으로 텍스트 숫자로 변환과 동시진행 가능)\n",
        "  - (디코더 문장의 경우 토크나이저 직전에 시작 토큰과 종료 토큰 입력 가능)"
      ],
      "metadata": {
        "id": "8b3ZE6JSQb6Q"
      }
    },
    {
      "cell_type": "code",
      "source": [
        "# import re\n",
        "# def preprocess_sentence(sentence):\n",
        "#     sentence = sentence.str.extract.lower() # 1 소문자로 바꾸고\n",
        "#     sentence = re.sub(r\"([?.!,¿])\", r\" \\1 \", sentence) # 2 특수문자 양쪽에 공백을 넣는다.\n",
        "#     sentence = re.sub(r'[\" \"]+', \" \", sentence) # 3 여러개의 공백은 하나의 공백으로 바꾼다.\n",
        "#     sentence = re.sub(r\"[^a-zA-Z?.!,¿]+\", \" \", sentence) # 4 a-zA-Z?.!,¿가 아닌 모든 문자를 하나의 공백으로 바꾼다. \n",
        "#     tokenizer  = Tokenizer(split=' ')  \n",
        "#     tokenizer .fit_on_texts(sentence)               # 50000개의 행을 가진 eng의 각 행에 토큰화를 수행\n",
        "#     sentence = tokenizer.texts_to_sequences(sentence) \n",
        "#     return sentence"
      ],
      "metadata": {
        "id": "E-22aR6WZrR8"
      },
      "execution_count": null,
      "outputs": []
    },
    {
      "cell_type": "markdown",
      "source": [
        "- 참고 자료\n",
        "  - DataFrame 정규표현식 적용 : https://acdongpgm.tistory.com/166\n",
        "    - 기존에 사용했던 import re를 사용하니 type 오류가 발생함, 그리고 출력값이 이사하게 나옴\n",
        "  - 토크나이저 : https://www.tensorflow.org/api_docs/python/tf/keras/preprocessing/text/Tokenizer"
      ],
      "metadata": {
        "id": "2SrJvT8ZytQk"
      }
    },
    {
      "cell_type": "code",
      "source": [
        "def preprocess_sentence(sentence):\n",
        "  sentence = sentence.str.lower()\n",
        "  sentence = sentence.str.replace(pat=r'([?.!,¿])', repl =r\" \\1\",regex=True)\n",
        "  sentence = sentence.str.replace(pat=r'[\" \"]+', repl =\" \",regex=True)\n",
        "  sentence = sentence.str.replace(pat=r\"[^a-zA-Z!.?]+\", repl =\" \",regex=True)\n",
        "  sentence = sentence.str.strip() \n",
        "\n",
        "  return sentence"
      ],
      "metadata": {
        "id": "di4ug8NdXPp4"
      },
      "execution_count": null,
      "outputs": []
    },
    {
      "cell_type": "code",
      "source": [
        "input_text = preprocess_sentence(lines.eng)\n",
        "eng_tokenizer = Tokenizer(split=' ', filters=\"\")   # 문자 단위로 Tokenizer를 생성합니다. \n",
        "eng_tokenizer.fit_on_texts(input_text)               # 50000개의 행을 가진 eng의 각 행에 토큰화를 수행\n",
        "input_text = eng_tokenizer.texts_to_sequences(input_text)    # 단어를 숫자값 인덱스로 변환하여 저장\n",
        "input_text[:3]"
      ],
      "metadata": {
        "colab": {
          "base_uri": "https://localhost:8080/"
        },
        "id": "Vqf6IlvAXbW4",
        "outputId": "1aea13f3-c1d2-40c2-a247-d3d1db60d54c"
      },
      "execution_count": null,
      "outputs": [
        {
          "output_type": "execute_result",
          "data": {
            "text/plain": [
              "[[29, 1], [29, 1], [29, 1]]"
            ]
          },
          "metadata": {},
          "execution_count": 6
        }
      ]
    },
    {
      "cell_type": "code",
      "source": [
        "target_text = preprocess_sentence(lines.fra)\n",
        "print(target_text)\n",
        "# 디코더에 시작 토큰과 종료토큰 추가\n",
        "sos_token = '\\t'\n",
        "eos_token = '\\n'\n",
        "target_text= target_text.apply(lambda x : '\\t '+ x + ' \\n')\n",
        "print(target_text)\n",
        "\n",
        "fra_tokenizer = Tokenizer(split=' ', filters=\"\")   # 문자 단위로 Tokenizer를 생성|합니다. \n",
        "fra_tokenizer.fit_on_texts(target_text)               # 50000개의 행을 가진 eng의 각 행에 토큰화를 수행\n",
        "target_text = fra_tokenizer.texts_to_sequences(target_text)    # 단어를 숫자값 인덱스로 변환하여 저장\n",
        "target_text[:3]"
      ],
      "metadata": {
        "id": "kkL1uqC4Y2Dr",
        "outputId": "47072845-2f04-4b22-acd9-8eac551561e3",
        "colab": {
          "base_uri": "https://localhost:8080/"
        }
      },
      "execution_count": null,
      "outputs": [
        {
          "output_type": "stream",
          "name": "stdout",
          "text": [
            "0                              va !\n",
            "1                          marche .\n",
            "2                           bouge !\n",
            "3                           salut !\n",
            "4                           salut .\n",
            "                    ...            \n",
            "32995     qu est ce que tom a vol ?\n",
            "32996    qu est ce que tom a crit ?\n",
            "32997           que voulaient ils ?\n",
            "32998         que voulaient elles ?\n",
            "32999                 qu as tu bu ?\n",
            "Name: fra, Length: 33000, dtype: object\n",
            "0                              \\t va ! \\n\n",
            "1                          \\t marche . \\n\n",
            "2                           \\t bouge ! \\n\n",
            "3                           \\t salut ! \\n\n",
            "4                           \\t salut . \\n\n",
            "                       ...               \n",
            "32995     \\t qu est ce que tom a vol ? \\n\n",
            "32996    \\t qu est ce que tom a crit ? \\n\n",
            "32997           \\t que voulaient ils ? \\n\n",
            "32998         \\t que voulaient elles ? \\n\n",
            "32999                 \\t qu as tu bu ? \\n\n",
            "Name: fra, Length: 33000, dtype: object\n"
          ]
        },
        {
          "output_type": "execute_result",
          "data": {
            "text/plain": [
              "[[1, 75, 8, 2], [1, 378, 3, 2], [1, 718, 8, 2]]"
            ]
          },
          "metadata": {},
          "execution_count": 7
        }
      ]
    },
    {
      "cell_type": "markdown",
      "source": [
        "- 토크나이저를 할때 계속 불용어가 제거되고 토크나이저를 진행됨\n",
        "  - 공식문서를 확인해본 결과 filters에 자동으로 불용어가 제거되도록 되어 있음\n",
        "  - 그래서 filters=\"\"를 하여 아무것도 제거하지 않도록 지정하였음"
      ],
      "metadata": {
        "id": "O2qAZKSTKNrE"
      }
    },
    {
      "cell_type": "markdown",
      "source": [
        "### 2) 임베딩층 구현을 위한 전처리"
      ],
      "metadata": {
        "id": "O3mo5Q3YKvgx"
      }
    },
    {
      "cell_type": "markdown",
      "source": [
        "#### (1) vocab_size 구하기"
      ],
      "metadata": {
        "id": "yjIcbxE1JLZg"
      }
    },
    {
      "cell_type": "code",
      "source": [
        "eng_vocab_size = len(eng_tokenizer.word_index) + 1\n",
        "fra_vocab_size = len(fra_tokenizer.word_index) + 1\n",
        "print('영어 단어장의 크기 :', eng_vocab_size)\n",
        "print('프랑스어 단어장의 크기 :', fra_vocab_size)"
      ],
      "metadata": {
        "colab": {
          "base_uri": "https://localhost:8080/"
        },
        "id": "t-OxfGoCIwTE",
        "outputId": "d68b0317-7459-4527-fbe2-917a460cf1cc"
      },
      "execution_count": null,
      "outputs": [
        {
          "output_type": "stream",
          "name": "stdout",
          "text": [
            "영어 단어장의 크기 : 4673\n",
            "프랑스어 단어장의 크기 : 7462\n"
          ]
        }
      ]
    },
    {
      "cell_type": "markdown",
      "source": [
        "#### (2) 교사강요 위한 전처리\n",
        "- 디코더의 출력과 비교해야 할 정답 데이터로 사용해야 할 원래 목적에 따른 것입니다. \n",
        "  - < sos >가 필요 없음\n",
        "- 이전 스텝에서 언급했던 교사 강요(Teacher forcing)을 위해 디코더의 입력으로 사용하기 위한 것\n",
        "  - < eos >토큰이 필요 없음"
      ],
      "metadata": {
        "id": "8ja2IdauNWAX"
      }
    },
    {
      "cell_type": "code",
      "source": [
        "# input encoder 지정\n",
        "encoder_input = input_text\n",
        "\n",
        "# 종료 토큰 제거\n",
        "decoder_input = [[ char for char in line if char != fra_tokenizer.word_index[eos_token] ] for line in target_text] \n",
        "\n",
        "# 시작 토큰 제거\n",
        "decoder_target = [[ char for char in line if char != fra_tokenizer.word_index[sos_token] ] for line in target_text]"
      ],
      "metadata": {
        "id": "SrMC44pOOBfi"
      },
      "execution_count": null,
      "outputs": []
    },
    {
      "cell_type": "code",
      "source": [
        "print(decoder_input[:3])\n",
        "print(decoder_target[:3])"
      ],
      "metadata": {
        "colab": {
          "base_uri": "https://localhost:8080/"
        },
        "id": "nUQfwF5ePKKj",
        "outputId": "cca33134-9bff-45bc-ca96-d21194c6a72b"
      },
      "execution_count": null,
      "outputs": [
        {
          "output_type": "stream",
          "name": "stdout",
          "text": [
            "[[1, 75, 8], [1, 378, 3], [1, 718, 8]]\n",
            "[[75, 8, 2], [378, 3, 2], [718, 8, 2]]\n"
          ]
        }
      ]
    },
    {
      "cell_type": "markdown",
      "source": [
        "#### (3) maxlen 구하기"
      ],
      "metadata": {
        "id": "qxYbrDPAJVoj"
      }
    },
    {
      "cell_type": "code",
      "source": [
        "max_eng_seq_len = max([len(line) for line in input_text])\n",
        "max_fra_seq_len = max([len(line) for line in decoder_target])\n",
        "print('영어 시퀀스의 최대 길이', max_eng_seq_len)\n",
        "print('프랑스어 시퀀스의 최대 길이', max_fra_seq_len)"
      ],
      "metadata": {
        "colab": {
          "base_uri": "https://localhost:8080/"
        },
        "id": "F5P6enEaJPrx",
        "outputId": "f643f5fa-208a-4c1b-855d-a38be39cc754"
      },
      "execution_count": null,
      "outputs": [
        {
          "output_type": "stream",
          "name": "stdout",
          "text": [
            "영어 시퀀스의 최대 길이 8\n",
            "프랑스어 시퀀스의 최대 길이 16\n"
          ]
        }
      ]
    },
    {
      "cell_type": "markdown",
      "source": [
        "- 길이가 안맞아서 계속 오류가 생겼었다. \n",
        "  - 시작 토큰과 종료토큰중 하나만 들어가 있는 길이를 계산해야 된다. 이유는 학습할 때는 결국 둘중 하나는 없는 데이터로 하기 때문이다.\n",
        "  - 나는 계속해서 한 개의 토큰을 제거하기전에 계산한 길이로 학습을 했기 때문에 계속해서 오류가 발생하였다."
      ],
      "metadata": {
        "id": "W-_4vO-e9fh5"
      }
    },
    {
      "cell_type": "markdown",
      "source": [
        "#### (4) 패딩"
      ],
      "metadata": {
        "id": "gKZERYRxPizN"
      }
    },
    {
      "cell_type": "code",
      "source": [
        "encoder_input = pad_sequences(encoder_input, maxlen = max_eng_seq_len, padding='post')\n",
        "decoder_input = pad_sequences(decoder_input, maxlen = max_fra_seq_len, padding='post')\n",
        "decoder_target = pad_sequences(decoder_target, maxlen = max_fra_seq_len, padding='post')\n",
        "print('영어 데이터의 크기(shape) :',np.shape(encoder_input))\n",
        "print('프랑스어 입력데이터의 크기(shape) :',np.shape(decoder_input))\n",
        "print('프랑스어 출력데이터의 크기(shape) :',np.shape(decoder_target))"
      ],
      "metadata": {
        "colab": {
          "base_uri": "https://localhost:8080/"
        },
        "id": "irW-phGgQt0-",
        "outputId": "755ae8e0-2016-4994-97d1-7e1bf449d1a2"
      },
      "execution_count": null,
      "outputs": [
        {
          "output_type": "stream",
          "name": "stdout",
          "text": [
            "영어 데이터의 크기(shape) : (33000, 8)\n",
            "프랑스어 입력데이터의 크기(shape) : (33000, 16)\n",
            "프랑스어 출력데이터의 크기(shape) : (33000, 16)\n"
          ]
        }
      ]
    },
    {
      "cell_type": "code",
      "source": [
        "print(encoder_input[0])\n",
        "print(decoder_input[0])\n",
        "print(decoder_target[0])"
      ],
      "metadata": {
        "colab": {
          "base_uri": "https://localhost:8080/"
        },
        "id": "U_GHAmAOQ0I5",
        "outputId": "6ea0ac3a-40c7-4b8c-93d5-b0d3d35ff820"
      },
      "execution_count": null,
      "outputs": [
        {
          "output_type": "stream",
          "name": "stdout",
          "text": [
            "[29  1  0  0  0  0  0  0]\n",
            "[ 1 75  8  0  0  0  0  0  0  0  0  0  0  0  0  0]\n",
            "[75  8  2  0  0  0  0  0  0  0  0  0  0  0  0  0]\n"
          ]
        }
      ]
    },
    {
      "cell_type": "markdown",
      "source": [
        "#### (5) 원-핫 인코딩\n",
        "-  각 정수에 대해서 벡터화 방법으로 원-핫 인코딩을 선택\n",
        "-  데이터의 크기는 (샘플의 수 × 샘플의 길이 × 단어장의 크기)가 된다.\n",
        "-  원-핫 인코딩은 각 정수를 단어장의 크기를 가지는 원-핫 벡터로 인코딩하는 과정"
      ],
      "metadata": {
        "id": "q80EGonPRTMt"
      }
    },
    {
      "cell_type": "code",
      "source": [
        "# encoder_input = to_categorical(encoder_input)\n",
        "# decoder_input = to_categorical(decoder_input)\n",
        "# decoder_target = to_categorical(decoder_target)\n",
        "# print('영어 데이터의 크기(shape) :',np.shape(encoder_input))\n",
        "# print('프랑스어 입력데이터의 크기(shape) :',np.shape(decoder_input))\n",
        "# print('프랑스어 출력데이터의 크기(shape) :',np.shape(decoder_target))"
      ],
      "metadata": {
        "id": "aW_3ROyhRwuS"
      },
      "execution_count": null,
      "outputs": []
    },
    {
      "cell_type": "markdown",
      "source": [
        "> 단어사전이 너무 커서 세션이 계속해서 종료됨 그래서 사용하지 않기로 함"
      ],
      "metadata": {
        "id": "nD3_mX9fPpkG"
      }
    },
    {
      "cell_type": "markdown",
      "source": [
        "#### (6) 학습데이터 검증 데이터 분리"
      ],
      "metadata": {
        "id": "5vVKbi6WRyYm"
      }
    },
    {
      "cell_type": "code",
      "source": [
        "n_of_val = 3000\n",
        "\n",
        "encoder_input_train = encoder_input[:-n_of_val]\n",
        "decoder_input_train = decoder_input[:-n_of_val]\n",
        "decoder_target_train = decoder_target[:-n_of_val]\n",
        "\n",
        "encoder_input_test = encoder_input[-n_of_val:]\n",
        "decoder_input_test = decoder_input[-n_of_val:]\n",
        "decoder_target_test = decoder_target[-n_of_val:]\n",
        "\n",
        "print('영어 학습데이터의 크기(shape) :',np.shape(encoder_input_train))\n",
        "print('프랑스어 학습 입력데이터의 크기(shape) :',np.shape(decoder_input_train))\n",
        "print('프랑스어 학습 출력데이터의 크기(shape) :',np.shape(decoder_target_train))"
      ],
      "metadata": {
        "colab": {
          "base_uri": "https://localhost:8080/"
        },
        "id": "WtuI6zOfSB9d",
        "outputId": "738c6f19-7c03-4771-ccf6-3ac81d3e753b"
      },
      "execution_count": null,
      "outputs": [
        {
          "output_type": "stream",
          "name": "stdout",
          "text": [
            "영어 학습데이터의 크기(shape) : (30000, 8)\n",
            "프랑스어 학습 입력데이터의 크기(shape) : (30000, 16)\n",
            "프랑스어 학습 출력데이터의 크기(shape) : (30000, 16)\n"
          ]
        }
      ]
    },
    {
      "cell_type": "markdown",
      "source": [
        "## 5. 임베딩 층(Embedding layer) 사용하기\n",
        "- https://wikidocs.net/33793\n",
        "- 주의할 점 : 인코더와 디코더의 임베딩 층은 서로 다른 임베딩 층을 사용해야 하지만 디코더의 훈련 과정과 테스트 과정에서의 임베딩층은 동일해야 한다."
      ],
      "metadata": {
        "id": "WHbud-WEPMnp"
      }
    },
    {
      "cell_type": "code",
      "source": [
        "embedding_dim = 128\n",
        "hidden_units = 256"
      ],
      "metadata": {
        "id": "wV7bRfbrnfB7"
      },
      "execution_count": null,
      "outputs": []
    },
    {
      "cell_type": "code",
      "source": [
        "# 인코더\n",
        "# 입력 텐서 생성.\n",
        "encoder_inputs = Input(shape=(None,))\n",
        "\n",
        "# 임베딩 레이어 사용\n",
        "encoder_embedding = Embedding(eng_vocab_size, embedding_dim)(encoder_inputs) \n",
        "\n",
        "# 패딩 0 제외\n",
        "encoder_embedding_masking = Masking(mask_value=0.0)(encoder_embedding) \n",
        "\n",
        "# hidden size가 256인 인코더의 LSTM 셀 생성\n",
        "encoder_lstm = LSTM(hidden_units, return_state=True) \n",
        "\n",
        "# 디코더로 전달할 hidden state, cell state를 리턴. encoder_outputs은 여기서는 불필요.\n",
        "encoder_outputs, state_h, state_c = encoder_lstm(encoder_embedding_masking) \n",
        "\n",
        "# hidden state와 cell state를 다음 time step으로 전달하기 위해서 별도 저장.\n",
        "encoder_states = [state_h, state_c] "
      ],
      "metadata": {
        "id": "aR43dnB1nhzI"
      },
      "execution_count": null,
      "outputs": []
    },
    {
      "cell_type": "code",
      "source": [
        "# 디코더\n",
        "# 입력 텐서 생성.\n",
        "decoder_inputs = Input(shape=(None,))\n",
        "\n",
        "# 임베딩 레이어 사용\n",
        "decoder_embedding_layer = Embedding(fra_vocab_size, hidden_units)\n",
        "\n",
        "decoder_embedding = decoder_embedding_layer(decoder_inputs) \n",
        "\n",
        "# 패딩 0 제외\n",
        "decoder_masking = Masking(mask_value=0.0)(decoder_embedding)\n",
        "\n",
        "# hidden size가 256인 인코더의 LSTM 셀 생성\n",
        "decoder_lstm = LSTM(hidden_units, return_sequences=True, return_state=True) \n",
        "\n",
        "# decoder_outputs는 모든 time step의 hidden state\n",
        "decoder_outputs, _, _ = decoder_lstm(decoder_masking, initial_state=encoder_states)"
      ],
      "metadata": {
        "id": "FSIJ-WkSnvxf"
      },
      "execution_count": null,
      "outputs": []
    },
    {
      "cell_type": "markdown",
      "source": [
        "## 6. 모델 구현하기"
      ],
      "metadata": {
        "id": "w2Lh40laPlEb"
      }
    },
    {
      "cell_type": "markdown",
      "source": [
        "### 1) 모델 구현 및 학습"
      ],
      "metadata": {
        "id": "qvJbUND_OrJ3"
      }
    },
    {
      "cell_type": "code",
      "source": [
        "# 모든 시점의 결과에 대해서 소프트맥스 함수를 사용한 출력층을 통해 단어 예측\n",
        "decoder_dense = Dense(fra_vocab_size, activation='softmax')\n",
        "decoder_outputs = decoder_dense(decoder_outputs)"
      ],
      "metadata": {
        "id": "6yzdsDmioGVU"
      },
      "execution_count": null,
      "outputs": []
    },
    {
      "cell_type": "code",
      "source": [
        "# 모델의 입력과 출력을 정의.\n",
        "model = Model([encoder_inputs, decoder_inputs], decoder_outputs)\n",
        "\n",
        "model.compile(optimizer='adam', loss='sparse_categorical_crossentropy', metrics=['accuracy'])"
      ],
      "metadata": {
        "id": "SpCS_CLMoNBL"
      },
      "execution_count": null,
      "outputs": []
    },
    {
      "cell_type": "code",
      "source": [
        "history = model.fit(x=[encoder_input_train, decoder_input_train], y=decoder_target_train, \\\n",
        "          validation_data=([encoder_input_test, decoder_input_test], decoder_target_test),\n",
        "          batch_size=128, epochs=20)"
      ],
      "metadata": {
        "colab": {
          "base_uri": "https://localhost:8080/"
        },
        "id": "aKA5JFH-oQ4I",
        "outputId": "dfa9e18a-54b4-4d4c-c920-4b3856b4f3db"
      },
      "execution_count": null,
      "outputs": [
        {
          "output_type": "stream",
          "name": "stdout",
          "text": [
            "Epoch 1/20\n",
            "235/235 [==============================] - 22s 41ms/step - loss: 2.3441 - accuracy: 0.6650 - val_loss: 1.9858 - val_accuracy: 0.7015\n",
            "Epoch 2/20\n",
            "235/235 [==============================] - 7s 30ms/step - loss: 1.6050 - accuracy: 0.7418 - val_loss: 1.8204 - val_accuracy: 0.7169\n",
            "Epoch 3/20\n",
            "235/235 [==============================] - 7s 31ms/step - loss: 1.4309 - accuracy: 0.7618 - val_loss: 1.6696 - val_accuracy: 0.7374\n",
            "Epoch 4/20\n",
            "235/235 [==============================] - 7s 31ms/step - loss: 1.2847 - accuracy: 0.7818 - val_loss: 1.5521 - val_accuracy: 0.7541\n",
            "Epoch 5/20\n",
            "235/235 [==============================] - 7s 31ms/step - loss: 1.1519 - accuracy: 0.8005 - val_loss: 1.4445 - val_accuracy: 0.7688\n",
            "Epoch 6/20\n",
            "235/235 [==============================] - 7s 31ms/step - loss: 1.0394 - accuracy: 0.8157 - val_loss: 1.3677 - val_accuracy: 0.7830\n",
            "Epoch 7/20\n",
            "235/235 [==============================] - 7s 31ms/step - loss: 0.9483 - accuracy: 0.8271 - val_loss: 1.3076 - val_accuracy: 0.7908\n",
            "Epoch 8/20\n",
            "235/235 [==============================] - 8s 32ms/step - loss: 0.8693 - accuracy: 0.8358 - val_loss: 1.2584 - val_accuracy: 0.7975\n",
            "Epoch 9/20\n",
            "235/235 [==============================] - 7s 31ms/step - loss: 0.8006 - accuracy: 0.8445 - val_loss: 1.2322 - val_accuracy: 0.8004\n",
            "Epoch 10/20\n",
            "235/235 [==============================] - 7s 31ms/step - loss: 0.7397 - accuracy: 0.8516 - val_loss: 1.2012 - val_accuracy: 0.8048\n",
            "Epoch 11/20\n",
            "235/235 [==============================] - 7s 30ms/step - loss: 0.6855 - accuracy: 0.8580 - val_loss: 1.1756 - val_accuracy: 0.8098\n",
            "Epoch 12/20\n",
            "235/235 [==============================] - 7s 30ms/step - loss: 0.6357 - accuracy: 0.8641 - val_loss: 1.1636 - val_accuracy: 0.8117\n",
            "Epoch 13/20\n",
            "235/235 [==============================] - 7s 30ms/step - loss: 0.5894 - accuracy: 0.8705 - val_loss: 1.1452 - val_accuracy: 0.8144\n",
            "Epoch 14/20\n",
            "235/235 [==============================] - 7s 30ms/step - loss: 0.5464 - accuracy: 0.8770 - val_loss: 1.1374 - val_accuracy: 0.8162\n",
            "Epoch 15/20\n",
            "235/235 [==============================] - 7s 31ms/step - loss: 0.5069 - accuracy: 0.8831 - val_loss: 1.1222 - val_accuracy: 0.8188\n",
            "Epoch 16/20\n",
            "235/235 [==============================] - 7s 30ms/step - loss: 0.4692 - accuracy: 0.8895 - val_loss: 1.1183 - val_accuracy: 0.8200\n",
            "Epoch 17/20\n",
            "235/235 [==============================] - 7s 30ms/step - loss: 0.4343 - accuracy: 0.8958 - val_loss: 1.1137 - val_accuracy: 0.8207\n",
            "Epoch 18/20\n",
            "235/235 [==============================] - 7s 30ms/step - loss: 0.4015 - accuracy: 0.9018 - val_loss: 1.1058 - val_accuracy: 0.8239\n",
            "Epoch 19/20\n",
            "235/235 [==============================] - 7s 31ms/step - loss: 0.3708 - accuracy: 0.9079 - val_loss: 1.1023 - val_accuracy: 0.8231\n",
            "Epoch 20/20\n",
            "235/235 [==============================] - 7s 31ms/step - loss: 0.3428 - accuracy: 0.9138 - val_loss: 1.0985 - val_accuracy: 0.8257\n"
          ]
        }
      ]
    },
    {
      "cell_type": "markdown",
      "source": [
        "### 2) 그래프"
      ],
      "metadata": {
        "id": "Il9WrIfBPIhV"
      }
    },
    {
      "cell_type": "code",
      "source": [
        "history_dict = history.history\n",
        "\n",
        "acc = history_dict['accuracy']\n",
        "val_acc = history_dict['val_accuracy']\n",
        "loss = history_dict['loss']\n",
        "val_loss = history_dict['val_loss']\n",
        "\n",
        "epochs = range(1, len(acc) + 1)\n",
        "\n",
        "f, ax = plt.subplots(1,2,figsize=(16,8))\n",
        "\n",
        "ax[0].plot(epochs, loss, 'r', label='Training loss')\n",
        "ax[0].plot(epochs, val_loss, 'b', label='Validation loss')\n",
        "ax[0].set_title('Training and validation loss')\n",
        "ax[0].set_xlabel('Epochs')\n",
        "ax[0].set_ylabel('Loss')\n",
        "ax[0].legend()\n",
        "\n",
        "\n",
        "ax[1].plot(epochs, acc, 'r', label='Training acc')\n",
        "ax[1].plot(epochs, val_acc, 'b', label='Validation acc')\n",
        "ax[1].set_title('Training and validation accuracy')\n",
        "ax[1].set_xlabel('Epochs')\n",
        "ax[1].set_ylabel('Accuracy')\n",
        "ax[1].legend()\n",
        "\n",
        "plt.show()"
      ],
      "metadata": {
        "colab": {
          "base_uri": "https://localhost:8080/",
          "height": 513
        },
        "id": "YJiQ-jV6xR96",
        "outputId": "95552441-8f32-4079-b965-9609d65348db"
      },
      "execution_count": null,
      "outputs": [
        {
          "output_type": "display_data",
          "data": {
            "text/plain": [
              "<Figure size 1152x576 with 2 Axes>"
            ],
            "image/png": "[encoded data removed]"
          },
          "metadata": {
            "needs_background": "light"
          }
        }
      ]
    },
    {
      "cell_type": "markdown",
      "source": [
        "## 7. 모델 평가하기"
      ],
      "metadata": {
        "id": "2ZhttEflPnm4"
      }
    },
    {
      "cell_type": "markdown",
      "source": [
        "### 1) 평가 모델 구현"
      ],
      "metadata": {
        "id": "lNKUWL8VMfdz"
      }
    },
    {
      "cell_type": "code",
      "source": [
        "encoder_model = Model(inputs = encoder_inputs, outputs = encoder_states)\n",
        "encoder_model.summary()"
      ],
      "metadata": {
        "colab": {
          "base_uri": "https://localhost:8080/"
        },
        "id": "bFolTGSq2yv1",
        "outputId": "b249ab73-c2da-4347-9188-00360c59cdc6"
      },
      "execution_count": null,
      "outputs": [
        {
          "output_type": "stream",
          "name": "stdout",
          "text": [
            "Model: \"model_1\"\n",
            "_________________________________________________________________\n",
            " Layer (type)                Output Shape              Param #   \n",
            "=================================================================\n",
            " input_1 (InputLayer)        [(None, None)]            0         \n",
            "                                                                 \n",
            " embedding (Embedding)       (None, None, 128)         598144    \n",
            "                                                                 \n",
            " masking (Masking)           (None, None, 128)         0         \n",
            "                                                                 \n",
            " lstm (LSTM)                 [(None, 256),             394240    \n",
            "                              (None, 256),                       \n",
            "                              (None, 256)]                       \n",
            "                                                                 \n",
            "=================================================================\n",
            "Total params: 992,384\n",
            "Trainable params: 992,384\n",
            "Non-trainable params: 0\n",
            "_________________________________________________________________\n"
          ]
        }
      ]
    },
    {
      "cell_type": "code",
      "source": [
        "# 이전 time step의 hidden state를 저장하는 텐서\n",
        "decoder_state_input_h = Input(shape=(hidden_units,))\n",
        "# 이전 time step의 cell state를 저장하는 텐서\n",
        "decoder_state_input_c = Input(shape=(hidden_units,))\n",
        "# 이전 time step의 hidden state와 cell state를 하나의 변수에 저장\n",
        "decoder_states_inputs = [decoder_state_input_h, decoder_state_input_c]\n",
        "\n",
        "# 임베딩 레이어 문제인듯 한데\n",
        "decoder_embedding2 = decoder_embedding_layer(decoder_inputs) \n",
        "\n",
        "decoder_outputs2, state_h2, state_c2 = decoder_lstm(decoder_embedding2, initial_state = decoder_states_inputs)\n",
        "\n",
        "# 현재 time step의 hidden state와 cell state를 하나의 변수에 저장.\n",
        "decoder_states2 = [state_h2, state_c2]"
      ],
      "metadata": {
        "id": "v3QKlZma204p"
      },
      "execution_count": null,
      "outputs": []
    },
    {
      "cell_type": "code",
      "source": [
        "decoder_outputs2 = decoder_dense(decoder_outputs2)\n",
        "decoder_model = Model(inputs=[decoder_inputs] + decoder_states_inputs, outputs=[decoder_outputs2] + decoder_states2)\n",
        "decoder_model.summary()"
      ],
      "metadata": {
        "colab": {
          "base_uri": "https://localhost:8080/"
        },
        "id": "343YFf9l_VDC",
        "outputId": "47157cc6-cd71-4b16-8e83-8e5fb6c58d97"
      },
      "execution_count": null,
      "outputs": [
        {
          "output_type": "stream",
          "name": "stdout",
          "text": [
            "Model: \"model_2\"\n",
            "__________________________________________________________________________________________________\n",
            " Layer (type)                   Output Shape         Param #     Connected to                     \n",
            "==================================================================================================\n",
            " input_2 (InputLayer)           [(None, None)]       0           []                               \n",
            "                                                                                                  \n",
            " embedding_1 (Embedding)        (None, None, 256)    1910272     ['input_2[0][0]']                \n",
            "                                                                                                  \n",
            " input_3 (InputLayer)           [(None, 256)]        0           []                               \n",
            "                                                                                                  \n",
            " input_4 (InputLayer)           [(None, 256)]        0           []                               \n",
            "                                                                                                  \n",
            " lstm_1 (LSTM)                  [(None, None, 256),  525312      ['embedding_1[1][0]',            \n",
            "                                 (None, 256),                     'input_3[0][0]',                \n",
            "                                 (None, 256)]                     'input_4[0][0]']                \n",
            "                                                                                                  \n",
            " dense (Dense)                  (None, None, 7462)   1917734     ['lstm_1[1][0]']                 \n",
            "                                                                                                  \n",
            "==================================================================================================\n",
            "Total params: 4,353,318\n",
            "Trainable params: 4,353,318\n",
            "Non-trainable params: 0\n",
            "__________________________________________________________________________________________________\n"
          ]
        }
      ]
    },
    {
      "cell_type": "markdown",
      "source": [
        "### 2) 함수 구현\n",
        "> ecode_sequence()의 입력으로 들어가는 것은 번역하고자 하는 문장의 정수 시퀀스입니다. decode_sequence() 내부에는 인코더를 구현한 encoder_model이 있어서 이 모델에 번역하고자 하는 문장의 정수 시퀀스인 'input_seq'를 입력하면, encoder_model은 마지막 시점의 hidden state를 리턴합니다.\n",
        "\n",
        "> 이 hidden state는 디코더의 첫번째 시점의 hidden state가 되고, 디코더는 이제 번역 문장을 완성하기 위한 예측 과정을 진행합니다. 디코더의 예측 과정에서는 이전 시점에서 예측한 단어를 디코더의 현재 시점의 입력으로 넣어주는 작업을 진행합니다. 그리고 이 작업은 종료를 의미하는 종료 토큰을 만나거나, 주어진 최대 길이를 넘을 때까지 반복합니다.\n",
        "\n",
        "> seq_to_src 함수는 영어 문장에 해당하는 정수 시퀀스를 입력받으면 정수로부터 영어 단어를 리턴하는 index_to_src를 통해 영어 문장으로 변환\n",
        "<br> seq_to_tar은 프랑스어에 해당하는 정수 시퀀스를 입력받으면 정수로부터 프랑스어 단어를 리턴하는 index_to_tar을 통해 프랑스어 문장으로 변환"
      ],
      "metadata": {
        "id": "ACguhKeKNc20"
      }
    },
    {
      "cell_type": "code",
      "source": [
        "eng2idx = eng_tokenizer.word_index\n",
        "fra2idx = fra_tokenizer.word_index\n",
        "idx2eng = eng_tokenizer.index_word\n",
        "idx2fra = fra_tokenizer.index_word"
      ],
      "metadata": {
        "id": "aBhTURzFAeoC"
      },
      "execution_count": null,
      "outputs": []
    },
    {
      "cell_type": "code",
      "source": [
        "def decode_sequence(input_seq):\n",
        "  # 입력으로부터 인코더의 마지막 시점의 상태(은닉 상태, 셀 상태)를 얻음\n",
        "  states_value = encoder_model.predict(input_seq)\n",
        "\n",
        "  # <SOS>에 해당하는 정수 생성\n",
        "  target_seq = np.zeros((1,1))\n",
        "  target_seq[0, 0] = fra2idx['\\t']\n",
        "\n",
        "  stop_condition = False\n",
        "  decoded_sentence = ''\n",
        "\n",
        "  # stop_condition이 True가 될 때까지 루프 반복\n",
        "  # 구현의 간소화를 위해서 이 함수는 배치 크기를 1로 가정합니다.\n",
        "  while not stop_condition:\n",
        "    # 이점 시점의 상태 states_value를 현 시점의 초기 상태로 사용\n",
        "    output_tokens, h, c = decoder_model.predict([target_seq] + states_value)\n",
        "\n",
        "    # 예측 결과를 단어로 변환\n",
        "    sampled_token_index = np.argmax(output_tokens[0, -1, :])\n",
        "    sampled_char = idx2fra[sampled_token_index]\n",
        "\n",
        "    # 현재 시점의 예측 단어를 예측 문장에 추가\n",
        "    decoded_sentence += ' '+sampled_char\n",
        "\n",
        "    # <eos>에 도달하거나 정해진 길이를 넘으면 중단.\n",
        "    if (sampled_char == '\\n' or\n",
        "        len(decoded_sentence) > 50):\n",
        "        stop_condition = True\n",
        "\n",
        "    # 현재 시점의 예측 결과를 다음 시점의 입력으로 사용하기 위해 저장\n",
        "    target_seq = np.zeros((1,1))\n",
        "    target_seq[0, 0] = sampled_token_index\n",
        "\n",
        "    # 현재 시점의 상태를 다음 시점의 상태로 사용하기 위해 저장\n",
        "    states_value = [h, c]\n",
        "\n",
        "  return decoded_sentence"
      ],
      "metadata": {
        "id": "b8Nl30oNRBn7"
      },
      "execution_count": null,
      "outputs": []
    },
    {
      "cell_type": "code",
      "source": [
        "# 원문의 정수 시퀀스를 텍스트 시퀀스로 변환\n",
        "def seq_to_src(input_seq):\n",
        "  sentence = ''\n",
        "  for encoded_word in input_seq:\n",
        "    if(encoded_word != 0):\n",
        "      sentence = sentence + idx2eng[encoded_word] + ' '\n",
        "  return sentence\n",
        "\n",
        "# 번역문의 정수 시퀀스를 텍스트 시퀀스로 변환\n",
        "def seq_to_tar(input_seq):\n",
        "  sentence = ''\n",
        "  for encoded_word in input_seq:\n",
        "    if(encoded_word != 0 and encoded_word != fra2idx['\\t'] and encoded_word != fra2idx['\\n']):\n",
        "      sentence = sentence + idx2fra[encoded_word] + ' '\n",
        "  return sentence"
      ],
      "metadata": {
        "id": "bms6U5guQht1"
      },
      "execution_count": null,
      "outputs": []
    },
    {
      "cell_type": "markdown",
      "source": [
        "### 3) 번역 시행"
      ],
      "metadata": {
        "id": "EfONPVl_OUUD"
      }
    },
    {
      "cell_type": "code",
      "source": [
        "# 출력 결과 테스트하기\n",
        "for seq_index in [3,50,100,300,1001]:\n",
        "  input_seq = encoder_input_train[seq_index: seq_index + 1]\n",
        "  decoded_sentence = decode_sequence(input_seq)\n",
        "  print(\"입력문장 :\",seq_to_src(encoder_input_train[seq_index]))\n",
        "  print(\"정답문장 :\",seq_to_tar(decoder_input_train[seq_index]))\n",
        "  print(\"번역문장 :\",decoded_sentence[1:-5])\n",
        "  print(\"-\"*50)"
      ],
      "metadata": {
        "id": "vbfIzUn9Q3dp",
        "colab": {
          "base_uri": "https://localhost:8080/"
        },
        "outputId": "84d7882a-1041-4c46-f084-0cf3a0dd7b33"
      },
      "execution_count": null,
      "outputs": [
        {
          "output_type": "stream",
          "name": "stdout",
          "text": [
            "입력문장 : hi . \n",
            "정답문장 : salut ! \n",
            "번역문장 : salu\n",
            "--------------------------------------------------\n",
            "입력문장 : hello ! \n",
            "정답문장 : salut ! \n",
            "번역문장 : relax\n",
            "--------------------------------------------------\n",
            "입력문장 : hop in . \n",
            "정답문장 : montez . \n",
            "번역문장 : monte\n",
            "--------------------------------------------------\n",
            "입력문장 : help me ! \n",
            "정답문장 : aide moi ! \n",
            "번역문장 : aide mo\n",
            "--------------------------------------------------\n",
            "입력문장 : humor tom . \n",
            "정답문장 : mettez tom de bonne humeur . \n",
            "번역문장 : nettoyez to\n",
            "--------------------------------------------------\n"
          ]
        }
      ]
    },
    {
      "cell_type": "code",
      "source": [
        "for seq_index in [5, 30, 100, 370, 700]:\n",
        "  input_seq = encoder_input_test[seq_index: seq_index + 1]\n",
        "  decoded_sentence = decode_sequence(input_seq)\n",
        "\n",
        "  print(\"입력문장 :\",seq_to_src(encoder_input_test[seq_index]))\n",
        "  print(\"정답문장 :\",seq_to_tar(decoder_input_test[seq_index]))\n",
        "  print(\"번역문장 :\",decoded_sentence[1:-5])\n",
        "  print(\"-\"*50)"
      ],
      "metadata": {
        "colab": {
          "base_uri": "https://localhost:8080/"
        },
        "id": "YSlDgLQK9N0V",
        "outputId": "ecbe9363-ca85-407e-c0f0-49bb8d0f970d"
      },
      "execution_count": null,
      "outputs": [
        {
          "output_type": "stream",
          "name": "stdout",
          "text": [
            "입력문장 : i want to be clear . \n",
            "정답문장 : je veux tre clair . \n",
            "번역문장 : je veux que je te voir \n",
            "--------------------------------------------------\n",
            "입력문장 : i want to sit down . \n",
            "정답문장 : je veux m asseoir . \n",
            "번역문장 : je veux que vous en m m\n",
            "--------------------------------------------------\n",
            "입력문장 : i was very nervous . \n",
            "정답문장 : j tais tr s nerveuse . \n",
            "번역문장 : j tais tr s bie\n",
            "--------------------------------------------------\n",
            "입력문장 : i m not photogenic . \n",
            "정답문장 : je ne suis pas photog nique . \n",
            "번역문장 : je ne suis pas enseignan\n",
            "--------------------------------------------------\n",
            "입력문장 : it s a bad example . \n",
            "정답문장 : c est un mauvais exemple . \n",
            "번역문장 : c est un mauvais gar o\n",
            "--------------------------------------------------\n"
          ]
        }
      ]
    },
    {
      "cell_type": "markdown",
      "source": [
        "## 8. 회고\n",
        "> ### 1. 어려웠던 점\n",
        "- 전처리 과정이 type이 달라서 import re가 잘 적용이 되지 않아 어려움을 겪었었지만 DataFrame용으로 정규표현식을 사용하는 방법을 찾아서 잘 해결할 수 있었다.\n",
        "- Functional API 임베딩층 구현이 생소하였으나 fd와 링크를 참조하여 잘 해결 할 수 있었다.\n",
        "- 최대 문장 길이를 뽑는 시점을 잘 못 맞춰 오류로 고생하였으나 코드를 차근차근 다시 뜯어 보면서 문제를 해결할 수 있었다.\n",
        "- 토크나이저를 진행할 때 filters가 디폴트 값으러 설정되어 있어 \\t, \\n이 계속 삭제 되었다. 그래서 공식문서를 확인하로 filters=\"\"로 바꿔주어 이 문제를 해결할 수 있었다.\n",
        "\n",
        "> ### 2. 루브릭 기준을 맞추기 위해서 시도한 것\n",
        "- 최적의 시점에 epoch를 종료하여 val_loss가 우하향 그래프를 그릴 수 있었다.\n",
        "- 구두점 분리, 소문자 변환, 띄어쓰기 단위별 토크나이저를 진행하였고 추가적으로 기타 다른 기호는 공백으로 처리 및 여러 공백은 하나의 공백으로 처리 및 최종적으로 양쪽 끝 공백을 제거해주는 작업을 진해하였다.\n",
        "- 정확도를 올리고 loss를 줄이기 위해서 embedding_dim과 hidden_unit 값을 상향 조정해 주었다.\n",
        "\n",
        "> ### 3. 오류\n",
        "- 모델 학습전 원-핫 인코딩을 시도하였으나 영어와 프랑스어 단어장 크기가 너무 커서 세션에 계속 종료가 되었다. 그래서 GPU 말고 TPU로도 시도를 해보았으나 계속 종료가 되어 원-핫 인코딩을 안하고 코드를 적용하기로 하였다.\n",
        "\n",
        "> ### 4. 익스 10을 마치며\n",
        "지금껏 진행했던 프로젝트중 가장 어려웠던 것 같다. 이전 프로젝트는 LMS만 그대로 이해하고 따라하면 90%는 할 수 있었으나 이번 프로젝트는 조금 꼬아서 문제를 주신 것 같다. 그런 만큼 더 많이 고민하고 더 많이 시행착오를 거쳐 확실히 공부가 되었던 것 같다."
      ],
      "metadata": {
        "id": "XUXLh4oIP3Eg"
      }
    }
  ]
}