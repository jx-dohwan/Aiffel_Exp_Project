{
  "nbformat": 4,
  "nbformat_minor": 0,
  "metadata": {
    "colab": {
      "name": "[Exp_12]Summarize news articles.ipynb",
      "provenance": [],
      "authorship_tag": "ABX9TyPNrnQKdp93hE8PnrOX7xc3",
      "include_colab_link": true
    },
    "kernelspec": {
      "name": "python3",
      "display_name": "Python 3"
    },
    "language_info": {
      "name": "python"
    }
  },
  "cells": [
    {
      "cell_type": "markdown",
      "metadata": {
        "id": "view-in-github",
        "colab_type": "text"
      },
      "source": [
        "<a href=\"https://colab.research.google.com/github/jx-dohwan/Aiffel_EGLMS_Project/blob/main/%5BExp_12%5DSummarize_news_articles.ipynb\" target=\"_parent\"><img src=\"https://colab.research.google.com/assets/colab-badge.svg\" alt=\"Open In Colab\"/></a>"
      ]
    },
    {
      "cell_type": "markdown",
      "source": [
        "## 1.import"
      ],
      "metadata": {
        "id": "uy-dcjnmFi4c"
      }
    },
    {
      "cell_type": "markdown",
      "source": [
        "## 2.데이터 수집하기\n",
        "- 추상적 요약을 하는 경우에는 text를 본문, headlines를 이미 요약된 데이터로 삼아서 모델을 학습할 수 있어요.\n",
        "- 추출적 요약을 하는 경우에는 오직 text열만을 사용하세요."
      ],
      "metadata": {
        "id": "7tj7Up3zFmfB"
      }
    },
    {
      "cell_type": "markdown",
      "source": [
        "## 3. 데이터 전처리하기(추상적 요약)\n",
        "- 실습에서 사용된 전처리를 참고하여 각자 필요하다고 생각하는 전처리를 추가 사용하여 텍스트를 정규화 또는 정제해 보세요\n",
        "-  만약, 불용어 제거를 선택한다면 상대적으로 길이가 짧은 요약 데이터에 대해서도 불용어를 제거하는 것이 좋을지 고민해 보세요."
      ],
      "metadata": {
        "id": "ittjt1gmGm1o"
      }
    },
    {
      "cell_type": "markdown",
      "source": [
        "## 4.어텐션 메커니즘 사용하기(추상적 요약)\n",
        "- 일반적인 seq2seq보다는 어텐션 메커니즘을 사용한 seq2seq를 사용하는 것이 더 나은 성능을 얻을 수 있어요"
      ],
      "metadata": {
        "id": "qmupJxFoGvS5"
      }
    },
    {
      "cell_type": "markdown",
      "source": [
        "## 5.실제 결과와 요약문 비교하기(추상적 요약)\n",
        "- 원래의 요약문(headlines 열)과 학습을 통해 얻은 추상적 요약의 결과를 비교해 보세요."
      ],
      "metadata": {
        "id": "FlmK6h__G9hm"
      }
    },
    {
      "cell_type": "markdown",
      "source": [
        "## 6. Summa을 이용해서 추출적 요약해보기\n",
        "- 추상적 요약은 추출적 요약과는 달리 문장의 표현력을 다양하게 가져갈 수 있지만, 추출적 요약에 비해서 난이도가 높아요\n",
        "- 반대로 말하면 추출적 요약은 추상적 요약에 비해 난이도가 낮고 기존 문장에서 문장을 꺼내오는 것이므로 잘못된 요약이 나올 가능성이 낮아요.\n",
        "- Summa의 summarize를 사용하여 추출적 요약을 해보세요."
      ],
      "metadata": {
        "id": "ejl2VHsfHDRr"
      }
    },
    {
      "cell_type": "markdown",
      "source": [
        "## 7.회고"
      ],
      "metadata": {
        "id": "2-rW_gXkHRKz"
      }
    },
    {
      "cell_type": "code",
      "execution_count": null,
      "metadata": {
        "id": "tCAt9SrRFBKS"
      },
      "outputs": [],
      "source": []
    }
  ]
}